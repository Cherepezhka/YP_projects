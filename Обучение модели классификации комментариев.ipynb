{
 "cells": [
  {
   "attachments": {},
   "cell_type": "markdown",
   "metadata": {
    "toc": true
   },
   "source": [
    "<h1>Содержание<span class=\"tocSkip\"></span></h1>\n",
    "<div class=\"toc\"><ul class=\"toc-item\"><li><ul class=\"toc-item\"><li><span><a href=\"#Общее-впечатление\" data-toc-modified-id=\"Общее-впечатление-0.1\"><span class=\"toc-item-num\">0.1&nbsp;&nbsp;</span><font color=\"orange\">Общее впечатление</font></a></span></li><li><span><a href=\"#Общее-впечатление-(ревью-2)\" data-toc-modified-id=\"Общее-впечатление-(ревью-2)-0.2\"><span class=\"toc-item-num\">0.2&nbsp;&nbsp;</span><font color=\"orange\">Общее впечатление (ревью 2)</font></a></span></li></ul></li><li><span><a href=\"#Подготовка\" data-toc-modified-id=\"Подготовка-1\"><span class=\"toc-item-num\">1&nbsp;&nbsp;</span>Подготовка</a></span></li><li><span><a href=\"#Обучение\" data-toc-modified-id=\"Обучение-2\"><span class=\"toc-item-num\">2&nbsp;&nbsp;</span>Обучение</a></span><ul class=\"toc-item\"><li><span><a href=\"#LogisticRegression\" data-toc-modified-id=\"LogisticRegression-2.1\"><span class=\"toc-item-num\">2.1&nbsp;&nbsp;</span>LogisticRegression</a></span></li><li><span><a href=\"#SVC\" data-toc-modified-id=\"SVC-2.2\"><span class=\"toc-item-num\">2.2&nbsp;&nbsp;</span>SVC</a></span></li><li><span><a href=\"#SGDClassifier\" data-toc-modified-id=\"SGDClassifier-2.3\"><span class=\"toc-item-num\">2.3&nbsp;&nbsp;</span>SGDClassifier</a></span></li><li><span><a href=\"#LGBM\" data-toc-modified-id=\"LGBM-2.4\"><span class=\"toc-item-num\">2.4&nbsp;&nbsp;</span>LGBM</a></span></li><li><span><a href=\"#FastText\" data-toc-modified-id=\"FastText-2.5\"><span class=\"toc-item-num\">2.5&nbsp;&nbsp;</span>FastText</a></span></li><li><span><a href=\"#Результаты-работы-моделей\" data-toc-modified-id=\"Результаты-работы-моделей-2.6\"><span class=\"toc-item-num\">2.6&nbsp;&nbsp;</span>Результаты работы моделей</a></span></li><li><span><a href=\"#Тестирование\" data-toc-modified-id=\"Тестирование-2.7\"><span class=\"toc-item-num\">2.7&nbsp;&nbsp;</span>Тестирование</a></span></li></ul></li><li><span><a href=\"#Выводы\" data-toc-modified-id=\"Выводы-3\"><span class=\"toc-item-num\">3&nbsp;&nbsp;</span>Выводы</a></span></li><li><span><a href=\"#Чек-лист-проверки\" data-toc-modified-id=\"Чек-лист-проверки-4\"><span class=\"toc-item-num\">4&nbsp;&nbsp;</span>Чек-лист проверки</a></span></li></ul></div>"
   ]
  },
  {
   "attachments": {},
   "cell_type": "markdown",
   "metadata": {},
   "source": [
    "# Проект для «Викишоп» с FastText"
   ]
  },
  {
   "attachments": {},
   "cell_type": "markdown",
   "metadata": {},
   "source": [
    "Интернет-магазин «Викишоп» запускает новый сервис. Теперь пользователи могут редактировать и дополнять описания товаров, как в вики-сообществах. То есть клиенты предлагают свои правки и комментируют изменения других. Магазину нужен инструмент, который будет искать токсичные комментарии и отправлять их на модерацию. \n",
    "\n",
    "Обучите модель классифицировать комментарии на позитивные и негативные. В вашем распоряжении набор данных с разметкой о токсичности правок.\n",
    "\n",
    "Постройте модель со значением метрики качества *F1* не меньше 0.75. \n",
    "\n",
    "**Инструкция по выполнению проекта**\n",
    "\n",
    "1. Загрузите и подготовьте данные.\n",
    "2. Обучите разные модели. \n",
    "3. Сделайте выводы.\n",
    "\n",
    "Для выполнения проекта применять *BERT* необязательно, но вы можете попробовать.\n",
    "\n",
    "**Описание данных**\n",
    "\n",
    "Данные находятся в файле `toxic_comments.csv`. Столбец *text* в нём содержит текст комментария, а *toxic* — целевой признак."
   ]
  },
  {
   "cell_type": "raw",
   "metadata": {},
   "source": [
    "pip install fasttext"
   ]
  },
  {
   "cell_type": "raw",
   "metadata": {},
   "source": [
    "pip install optuna"
   ]
  },
  {
   "cell_type": "raw",
   "metadata": {},
   "source": [
    "pip list"
   ]
  },
  {
   "cell_type": "code",
   "execution_count": 1,
   "metadata": {},
   "outputs": [
    {
     "name": "stderr",
     "output_type": "stream",
     "text": [
      "C:\\ProgramData\\Anaconda3\\lib\\site-packages\\dask\\dataframe\\utils.py:369: FutureWarning: pandas.Int64Index is deprecated and will be removed from pandas in a future version. Use pandas.Index with the appropriate dtype instead.\n",
      "  _numeric_index_types = (pd.Int64Index, pd.Float64Index, pd.UInt64Index)\n",
      "C:\\ProgramData\\Anaconda3\\lib\\site-packages\\dask\\dataframe\\utils.py:369: FutureWarning: pandas.Float64Index is deprecated and will be removed from pandas in a future version. Use pandas.Index with the appropriate dtype instead.\n",
      "  _numeric_index_types = (pd.Int64Index, pd.Float64Index, pd.UInt64Index)\n",
      "C:\\ProgramData\\Anaconda3\\lib\\site-packages\\dask\\dataframe\\utils.py:369: FutureWarning: pandas.UInt64Index is deprecated and will be removed from pandas in a future version. Use pandas.Index with the appropriate dtype instead.\n",
      "  _numeric_index_types = (pd.Int64Index, pd.Float64Index, pd.UInt64Index)\n"
     ]
    }
   ],
   "source": [
    "import pandas as pd\n",
    "import numpy as np\n",
    "import matplotlib.pyplot as plt\n",
    "import seaborn as sns\n",
    "\n",
    "import nltk\n",
    "from nltk.corpus import stopwords as nltk_stopwords\n",
    "from nltk.stem.wordnet import WordNetLemmatizer\n",
    "\n",
    "import re\n",
    "#import torch              \n",
    "#import transformers      \n",
    "from tqdm import notebook\n",
    "\n",
    "from time import perf_counter\n",
    "import optuna\n",
    "from optuna.integration import OptunaSearchCV\n",
    "\n",
    "from sklearn.pipeline import Pipeline\n",
    "from sklearn.model_selection import cross_val_score, train_test_split, StratifiedKFold\n",
    "from sklearn.metrics import accuracy_score, precision_score, recall_score, f1_score\n",
    "from sklearn.feature_extraction.text import TfidfVectorizer\n",
    "from sklearn.preprocessing import FunctionTransformer\n",
    "from sklearn.base import BaseEstimator\n",
    "\n",
    "from sklearn.linear_model import LogisticRegression, SGDClassifier\n",
    "from sklearn.svm import LinearSVC\n",
    "from lightgbm import LGBMClassifier\n",
    "from catboost import CatBoostClassifier\n",
    "import fasttext\n",
    "\n",
    "import warnings\n",
    "warnings.filterwarnings('ignore')"
   ]
  },
  {
   "cell_type": "code",
   "execution_count": 2,
   "metadata": {},
   "outputs": [
    {
     "name": "stderr",
     "output_type": "stream",
     "text": [
      "[nltk_data] Downloading package wordnet to\n",
      "[nltk_data]     C:\\Users\\Oleg\\AppData\\Roaming\\nltk_data...\n",
      "[nltk_data]   Package wordnet is already up-to-date!\n",
      "[nltk_data] Downloading package stopwords to\n",
      "[nltk_data]     C:\\Users\\Oleg\\AppData\\Roaming\\nltk_data...\n",
      "[nltk_data]   Package stopwords is already up-to-date!\n",
      "[nltk_data] Downloading package punkt to\n",
      "[nltk_data]     C:\\Users\\Oleg\\AppData\\Roaming\\nltk_data...\n",
      "[nltk_data]   Package punkt is already up-to-date!\n"
     ]
    },
    {
     "data": {
      "text/plain": [
       "True"
      ]
     },
     "execution_count": 2,
     "metadata": {},
     "output_type": "execute_result"
    }
   ],
   "source": [
    "nltk.download('wordnet')\n",
    "nltk.download('stopwords')\n",
    "nltk.download('punkt')"
   ]
  },
  {
   "attachments": {},
   "cell_type": "markdown",
   "metadata": {},
   "source": [
    "## Подготовка"
   ]
  },
  {
   "cell_type": "code",
   "execution_count": 3,
   "metadata": {},
   "outputs": [],
   "source": [
    "data = pd.read_csv('https://code.s3.yandex.net/datasets/toxic_comments.csv', index_col=[0])"
   ]
  },
  {
   "cell_type": "code",
   "execution_count": 4,
   "metadata": {},
   "outputs": [
    {
     "name": "stdout",
     "output_type": "stream",
     "text": [
      "<class 'pandas.core.frame.DataFrame'>\n",
      "Int64Index: 159292 entries, 0 to 159450\n",
      "Data columns (total 2 columns):\n",
      " #   Column  Non-Null Count   Dtype \n",
      "---  ------  --------------   ----- \n",
      " 0   text    159292 non-null  object\n",
      " 1   toxic   159292 non-null  int64 \n",
      "dtypes: int64(1), object(1)\n",
      "memory usage: 3.6+ MB\n"
     ]
    }
   ],
   "source": [
    "data.info()"
   ]
  },
  {
   "cell_type": "code",
   "execution_count": 5,
   "metadata": {},
   "outputs": [
    {
     "data": {
      "text/html": [
       "<div>\n",
       "<style scoped>\n",
       "    .dataframe tbody tr th:only-of-type {\n",
       "        vertical-align: middle;\n",
       "    }\n",
       "\n",
       "    .dataframe tbody tr th {\n",
       "        vertical-align: top;\n",
       "    }\n",
       "\n",
       "    .dataframe thead th {\n",
       "        text-align: right;\n",
       "    }\n",
       "</style>\n",
       "<table border=\"1\" class=\"dataframe\">\n",
       "  <thead>\n",
       "    <tr style=\"text-align: right;\">\n",
       "      <th></th>\n",
       "      <th>text</th>\n",
       "      <th>toxic</th>\n",
       "    </tr>\n",
       "  </thead>\n",
       "  <tbody>\n",
       "    <tr>\n",
       "      <th>0</th>\n",
       "      <td>Explanation\\nWhy the edits made under my usern...</td>\n",
       "      <td>0</td>\n",
       "    </tr>\n",
       "    <tr>\n",
       "      <th>1</th>\n",
       "      <td>D'aww! He matches this background colour I'm s...</td>\n",
       "      <td>0</td>\n",
       "    </tr>\n",
       "    <tr>\n",
       "      <th>2</th>\n",
       "      <td>Hey man, I'm really not trying to edit war. It...</td>\n",
       "      <td>0</td>\n",
       "    </tr>\n",
       "    <tr>\n",
       "      <th>3</th>\n",
       "      <td>\"\\nMore\\nI can't make any real suggestions on ...</td>\n",
       "      <td>0</td>\n",
       "    </tr>\n",
       "    <tr>\n",
       "      <th>4</th>\n",
       "      <td>You, sir, are my hero. Any chance you remember...</td>\n",
       "      <td>0</td>\n",
       "    </tr>\n",
       "  </tbody>\n",
       "</table>\n",
       "</div>"
      ],
      "text/plain": [
       "                                                text  toxic\n",
       "0  Explanation\\nWhy the edits made under my usern...      0\n",
       "1  D'aww! He matches this background colour I'm s...      0\n",
       "2  Hey man, I'm really not trying to edit war. It...      0\n",
       "3  \"\\nMore\\nI can't make any real suggestions on ...      0\n",
       "4  You, sir, are my hero. Any chance you remember...      0"
      ]
     },
     "execution_count": 5,
     "metadata": {},
     "output_type": "execute_result"
    }
   ],
   "source": [
    "data.head()"
   ]
  },
  {
   "attachments": {},
   "cell_type": "markdown",
   "metadata": {},
   "source": [
    "Соотношение классов в датасете."
   ]
  },
  {
   "cell_type": "code",
   "execution_count": 6,
   "metadata": {
    "scrolled": true
   },
   "outputs": [
    {
     "data": {
      "text/plain": [
       "toxic\n",
       "0    0.898388\n",
       "1    0.101612\n",
       "dtype: float64"
      ]
     },
     "execution_count": 6,
     "metadata": {},
     "output_type": "execute_result"
    }
   ],
   "source": [
    "data.value_counts(subset='toxic',normalize=True)"
   ]
  },
  {
   "attachments": {},
   "cell_type": "markdown",
   "metadata": {},
   "source": [
    "Функция очистки текста от ненужных символов, пунктуации и чисел."
   ]
  },
  {
   "cell_type": "code",
   "execution_count": 7,
   "metadata": {},
   "outputs": [],
   "source": [
    "def clean_text(text):\n",
    "    \n",
    "    text = (text.str.lower() \\\n",
    "             .str.replace(r'[^\\sa-zA-Z0-9@\\[\\]]',  ' ', regex = True) \\\n",
    "             .str.replace(r'\\n', ' ') \\\n",
    "             .str.replace(r'\\w*\\d+\\w*',  '', regex = True) \\\n",
    "             .str.replace('\\s{2,}',  \" \", regex = True))\n",
    "    \n",
    "    return text"
   ]
  },
  {
   "attachments": {},
   "cell_type": "markdown",
   "metadata": {},
   "source": [
    "Функция для лемманизации текста."
   ]
  },
  {
   "cell_type": "code",
   "execution_count": 8,
   "metadata": {},
   "outputs": [],
   "source": [
    "def lemmatize(text):\n",
    "    wnl = WordNetLemmatizer()\n",
    "    text = text.apply(nltk.word_tokenize)\n",
    "    return text.apply(lambda tokens: \" \".join([wnl.lemmatize(token) for token in tokens])) #if token not in stopw"
   ]
  },
  {
   "attachments": {},
   "cell_type": "markdown",
   "metadata": {},
   "source": [
    "**TF-IDF**"
   ]
  },
  {
   "attachments": {},
   "cell_type": "markdown",
   "metadata": {},
   "source": [
    "Выгрузим стоп слова."
   ]
  },
  {
   "cell_type": "code",
   "execution_count": 9,
   "metadata": {},
   "outputs": [],
   "source": [
    "stopwords = list(set(nltk_stopwords.words('english')))"
   ]
  },
  {
   "attachments": {},
   "cell_type": "markdown",
   "metadata": {},
   "source": [
    "Применим функции очистки и лемманизации слов текста. Сохраним в отдельный столбец датафрейма."
   ]
  },
  {
   "cell_type": "code",
   "execution_count": 10,
   "metadata": {},
   "outputs": [
    {
     "name": "stdout",
     "output_type": "stream",
     "text": [
      "Wall time: 9.17 s\n"
     ]
    }
   ],
   "source": [
    "%%time\n",
    "data['preprocessed_text'] = clean_text(data['text'])"
   ]
  },
  {
   "cell_type": "code",
   "execution_count": 11,
   "metadata": {},
   "outputs": [
    {
     "name": "stdout",
     "output_type": "stream",
     "text": [
      "Wall time: 1min 4s\n"
     ]
    }
   ],
   "source": [
    "%%time\n",
    "data['preprocessed_text'] = lemmatize(data['preprocessed_text'])"
   ]
  },
  {
   "cell_type": "code",
   "execution_count": 12,
   "metadata": {},
   "outputs": [
    {
     "data": {
      "text/html": [
       "<div>\n",
       "<style scoped>\n",
       "    .dataframe tbody tr th:only-of-type {\n",
       "        vertical-align: middle;\n",
       "    }\n",
       "\n",
       "    .dataframe tbody tr th {\n",
       "        vertical-align: top;\n",
       "    }\n",
       "\n",
       "    .dataframe thead th {\n",
       "        text-align: right;\n",
       "    }\n",
       "</style>\n",
       "<table border=\"1\" class=\"dataframe\">\n",
       "  <thead>\n",
       "    <tr style=\"text-align: right;\">\n",
       "      <th></th>\n",
       "      <th>text</th>\n",
       "      <th>toxic</th>\n",
       "      <th>preprocessed_text</th>\n",
       "    </tr>\n",
       "  </thead>\n",
       "  <tbody>\n",
       "    <tr>\n",
       "      <th>0</th>\n",
       "      <td>Explanation\\nWhy the edits made under my usern...</td>\n",
       "      <td>0</td>\n",
       "      <td>explanation why the edits made under my userna...</td>\n",
       "    </tr>\n",
       "    <tr>\n",
       "      <th>1</th>\n",
       "      <td>D'aww! He matches this background colour I'm s...</td>\n",
       "      <td>0</td>\n",
       "      <td>d aww he match this background colour i m seem...</td>\n",
       "    </tr>\n",
       "    <tr>\n",
       "      <th>2</th>\n",
       "      <td>Hey man, I'm really not trying to edit war. It...</td>\n",
       "      <td>0</td>\n",
       "      <td>hey man i m really not trying to edit war it s...</td>\n",
       "    </tr>\n",
       "    <tr>\n",
       "      <th>3</th>\n",
       "      <td>\"\\nMore\\nI can't make any real suggestions on ...</td>\n",
       "      <td>0</td>\n",
       "      <td>more i can t make any real suggestion on impro...</td>\n",
       "    </tr>\n",
       "    <tr>\n",
       "      <th>4</th>\n",
       "      <td>You, sir, are my hero. Any chance you remember...</td>\n",
       "      <td>0</td>\n",
       "      <td>you sir are my hero any chance you remember wh...</td>\n",
       "    </tr>\n",
       "  </tbody>\n",
       "</table>\n",
       "</div>"
      ],
      "text/plain": [
       "                                                text  toxic  \\\n",
       "0  Explanation\\nWhy the edits made under my usern...      0   \n",
       "1  D'aww! He matches this background colour I'm s...      0   \n",
       "2  Hey man, I'm really not trying to edit war. It...      0   \n",
       "3  \"\\nMore\\nI can't make any real suggestions on ...      0   \n",
       "4  You, sir, are my hero. Any chance you remember...      0   \n",
       "\n",
       "                                   preprocessed_text  \n",
       "0  explanation why the edits made under my userna...  \n",
       "1  d aww he match this background colour i m seem...  \n",
       "2  hey man i m really not trying to edit war it s...  \n",
       "3  more i can t make any real suggestion on impro...  \n",
       "4  you sir are my hero any chance you remember wh...  "
      ]
     },
     "execution_count": 12,
     "metadata": {},
     "output_type": "execute_result"
    }
   ],
   "source": [
    "data.head()"
   ]
  },
  {
   "attachments": {},
   "cell_type": "markdown",
   "metadata": {},
   "source": [
    "**Вывод:**\n",
    "* Рассмотрен датасет комментариев в интернет-магазине с разметкой о токсичности правок.\n",
    "* Проведена очистка текста от ненужных символов, пунктуации и чисел.\n",
    "* Проведена лемманизация слов в тексте"
   ]
  },
  {
   "attachments": {},
   "cell_type": "markdown",
   "metadata": {},
   "source": [
    "## Обучение"
   ]
  },
  {
   "attachments": {},
   "cell_type": "markdown",
   "metadata": {},
   "source": [
    "**Pipeline:**\n",
    "\n",
    "* Text Cleaner\n",
    "* Text Lemma\n",
    "* TF IDF\n",
    "* Model"
   ]
  },
  {
   "attachments": {},
   "cell_type": "markdown",
   "metadata": {},
   "source": [
    "Разделим данные на обучающую и тестовую выборки."
   ]
  },
  {
   "cell_type": "code",
   "execution_count": 13,
   "metadata": {},
   "outputs": [],
   "source": [
    "features = data['preprocessed_text']\n",
    "target = data['toxic']\n",
    "\n",
    "features_split, features_test, target_split, target_test = train_test_split(features, target, test_size=0.2)\n",
    "features_train, features_val, target_train, target_val = train_test_split(features_split, target_split, test_size=0.25)"
   ]
  },
  {
   "attachments": {},
   "cell_type": "markdown",
   "metadata": {},
   "source": [
    "Функция для сбора результатов работы моделей."
   ]
  },
  {
   "cell_type": "code",
   "execution_count": 14,
   "metadata": {},
   "outputs": [],
   "source": [
    "def ModelResults(model_search, model_name, results):\n",
    "    \n",
    "    model = model_search.best_estimator_\n",
    "    \n",
    "    #Определим время fit модели \n",
    "    t_start_1 = perf_counter()\n",
    "    model.fit(features_train, target_train)\n",
    "    t_stop_1 = perf_counter()\n",
    "\n",
    "    #Определим время predict модели \n",
    "    t_start_2 = perf_counter()\n",
    "    p_val = model.predict(features_val)\n",
    "    t_stop_2 = perf_counter()\n",
    "\n",
    "    results[model_name] = [abs(model_search.best_score_), f1_score(target_val, p_val),t_stop_1 - t_start_1, t_stop_2 - t_start_2]\n",
    "\n",
    "    #pd.DataFrame(model.feature_importances_, \n",
    "                       #index = features_train.columns, \n",
    "                       #columns =['Importance']).sort_values(by='Importance').plot(kind='barh', figsize = (18,6), title ='Feature Importances')\n",
    "    #plt.show()"
   ]
  },
  {
   "cell_type": "code",
   "execution_count": 15,
   "metadata": {},
   "outputs": [],
   "source": [
    "# Зададимся random state\n",
    "RANDOM_STATE = 808"
   ]
  },
  {
   "cell_type": "code",
   "execution_count": 16,
   "metadata": {},
   "outputs": [],
   "source": [
    "# Зададим StratifiedKFold для разбиение на стратифицированные выборки при кросс-валидации\n",
    "skf = StratifiedKFold(n_splits=3)"
   ]
  },
  {
   "cell_type": "code",
   "execution_count": 17,
   "metadata": {},
   "outputs": [],
   "source": [
    "# Словарь для результатов работы рассматриваемых моделей\n",
    "results = {}"
   ]
  },
  {
   "attachments": {},
   "cell_type": "markdown",
   "metadata": {},
   "source": [
    "### LogisticRegression"
   ]
  },
  {
   "cell_type": "code",
   "execution_count": 18,
   "metadata": {},
   "outputs": [
    {
     "name": "stderr",
     "output_type": "stream",
     "text": [
      "\u001b[32m[I 2023-02-21 22:45:44,004]\u001b[0m A new study created in memory with name: no-name-29249a4d-6960-4017-89ed-0e90718c1abc\u001b[0m\n",
      "\u001b[32m[I 2023-02-21 22:48:51,632]\u001b[0m Trial 13 finished with value: 0.7548167436445516 and parameters: {'model__solver': 'liblinear', 'model__C': 10.123047987693825}. Best is trial 13 with value: 0.7548167436445516.\u001b[0m\n",
      "\u001b[32m[I 2023-02-21 22:48:51,959]\u001b[0m Trial 5 finished with value: 0.7239794981226519 and parameters: {'model__solver': 'saga', 'model__C': 14.968471445797686}. Best is trial 13 with value: 0.7548167436445516.\u001b[0m\n",
      "\u001b[32m[I 2023-02-21 22:48:52,551]\u001b[0m Trial 6 finished with value: 0.7549941561779145 and parameters: {'model__solver': 'liblinear', 'model__C': 4.2520385611107345}. Best is trial 6 with value: 0.7549941561779145.\u001b[0m\n",
      "\u001b[32m[I 2023-02-21 22:48:53,427]\u001b[0m Trial 4 finished with value: 0.751916468814164 and parameters: {'model__solver': 'liblinear', 'model__C': 1.929370973226722}. Best is trial 6 with value: 0.7549941561779145.\u001b[0m\n",
      "\u001b[32m[I 2023-02-21 22:48:53,642]\u001b[0m Trial 14 finished with value: 0.7515953376179271 and parameters: {'model__solver': 'liblinear', 'model__C': 17.144661048559033}. Best is trial 6 with value: 0.7549941561779145.\u001b[0m\n",
      "\u001b[32m[I 2023-02-21 22:48:54,081]\u001b[0m Trial 12 finished with value: 0.734797092903151 and parameters: {'model__solver': 'saga', 'model__C': 77.03597761697577}. Best is trial 6 with value: 0.7549941561779145.\u001b[0m\n",
      "\u001b[32m[I 2023-02-21 22:48:54,367]\u001b[0m Trial 8 finished with value: 0.7336166880010283 and parameters: {'model__solver': 'saga', 'model__C': 91.84977053088093}. Best is trial 6 with value: 0.7549941561779145.\u001b[0m\n",
      "\u001b[32m[I 2023-02-21 22:48:54,623]\u001b[0m Trial 7 finished with value: 0.7314861775353649 and parameters: {'model__solver': 'saga', 'model__C': 16.56634836660136}. Best is trial 6 with value: 0.7549941561779145.\u001b[0m\n",
      "\u001b[32m[I 2023-02-21 22:48:55,064]\u001b[0m Trial 11 finished with value: 0.714357401504392 and parameters: {'model__solver': 'saga', 'model__C': 9.013495853409594}. Best is trial 6 with value: 0.7549941561779145.\u001b[0m\n",
      "\u001b[32m[I 2023-02-21 22:48:55,350]\u001b[0m Trial 1 finished with value: 0.7356853501194366 and parameters: {'model__solver': 'saga', 'model__C': 22.94105720177193}. Best is trial 6 with value: 0.7549941561779145.\u001b[0m\n",
      "\u001b[32m[I 2023-02-21 22:48:56,487]\u001b[0m Trial 0 finished with value: 0.744840012933781 and parameters: {'model__solver': 'saga', 'model__C': 38.285128590052196}. Best is trial 6 with value: 0.7549941561779145.\u001b[0m\n",
      "\u001b[32m[I 2023-02-21 22:48:56,683]\u001b[0m Trial 9 finished with value: 0.7518495266213238 and parameters: {'model__solver': 'liblinear', 'model__C': 17.797576216787746}. Best is trial 6 with value: 0.7549941561779145.\u001b[0m\n",
      "\u001b[32m[I 2023-02-21 22:48:56,777]\u001b[0m Trial 15 finished with value: 0.7451994003542736 and parameters: {'model__solver': 'saga', 'model__C': 1.0717041138944396}. Best is trial 6 with value: 0.7549941561779145.\u001b[0m\n",
      "\u001b[32m[I 2023-02-21 22:49:05,335]\u001b[0m Trial 2 finished with value: 0.7401178382436188 and parameters: {'model__solver': 'saga', 'model__C': 43.52947999714938}. Best is trial 6 with value: 0.7549941561779145.\u001b[0m\n",
      "\u001b[32m[I 2023-02-21 22:49:05,671]\u001b[0m Trial 10 finished with value: 0.7425867907155337 and parameters: {'model__solver': 'saga', 'model__C': 41.41881981394527}. Best is trial 6 with value: 0.7549941561779145.\u001b[0m\n",
      "\u001b[32m[I 2023-02-21 22:49:22,954]\u001b[0m Trial 3 finished with value: 0.7458175639424217 and parameters: {'model__solver': 'saga', 'model__C': 3.0685184015802354}. Best is trial 6 with value: 0.7549941561779145.\u001b[0m\n",
      "\u001b[32m[I 2023-02-21 22:51:26,108]\u001b[0m Trial 22 finished with value: 0.7467775727110525 and parameters: {'model__solver': 'liblinear', 'model__C': 33.68839175563357}. Best is trial 6 with value: 0.7549941561779145.\u001b[0m\n",
      "\u001b[32m[I 2023-02-21 22:51:26,211]\u001b[0m Trial 19 finished with value: 0.7448376165886863 and parameters: {'model__solver': 'liblinear', 'model__C': 42.61903329418494}. Best is trial 6 with value: 0.7549941561779145.\u001b[0m\n",
      "\u001b[32m[I 2023-02-21 22:51:26,238]\u001b[0m Trial 25 finished with value: 0.7548954958873866 and parameters: {'model__solver': 'liblinear', 'model__C': 5.783836269057746}. Best is trial 6 with value: 0.7549941561779145.\u001b[0m\n",
      "\u001b[32m[I 2023-02-21 22:51:26,258]\u001b[0m Trial 20 finished with value: 0.7552807581329578 and parameters: {'model__solver': 'liblinear', 'model__C': 3.86118028990922}. Best is trial 20 with value: 0.7552807581329578.\u001b[0m\n",
      "\u001b[32m[I 2023-02-21 22:51:26,279]\u001b[0m Trial 26 finished with value: 0.7547697191951611 and parameters: {'model__solver': 'liblinear', 'model__C': 5.978659637853799}. Best is trial 20 with value: 0.7552807581329578.\u001b[0m\n",
      "\u001b[32m[I 2023-02-21 22:51:26,298]\u001b[0m Trial 23 finished with value: 0.7458230577064214 and parameters: {'model__solver': 'liblinear', 'model__C': 1.198258973923741}. Best is trial 20 with value: 0.7552807581329578.\u001b[0m\n",
      "\u001b[32m[I 2023-02-21 22:51:26,320]\u001b[0m Trial 17 finished with value: 0.7368672925192095 and parameters: {'model__solver': 'saga', 'model__C': 38.437469055039486}. Best is trial 20 with value: 0.7552807581329578.\u001b[0m\n",
      "\u001b[32m[I 2023-02-21 22:51:26,342]\u001b[0m Trial 24 finished with value: 0.7450632039185755 and parameters: {'model__solver': 'liblinear', 'model__C': 1.0897945089274113}. Best is trial 20 with value: 0.7552807581329578.\u001b[0m\n",
      "\u001b[32m[I 2023-02-21 22:51:26,393]\u001b[0m Trial 27 finished with value: 0.7550421455321114 and parameters: {'model__solver': 'liblinear', 'model__C': 5.585828143532973}. Best is trial 20 with value: 0.7552807581329578.\u001b[0m\n",
      "\u001b[32m[I 2023-02-21 22:51:33,479]\u001b[0m Trial 28 finished with value: 0.7549103169251113 and parameters: {'model__solver': 'liblinear', 'model__C': 5.356543935151017}. Best is trial 20 with value: 0.7552807581329578.\u001b[0m\n",
      "\u001b[32m[I 2023-02-21 22:51:33,487]\u001b[0m Trial 29 finished with value: 0.7548597168079331 and parameters: {'model__solver': 'liblinear', 'model__C': 5.777580428409244}. Best is trial 20 with value: 0.7552807581329578.\u001b[0m\n",
      "\u001b[32m[I 2023-02-21 22:51:33,500]\u001b[0m Trial 21 finished with value: 0.745150219520319 and parameters: {'model__solver': 'saga', 'model__C': 14.908660145805737}. Best is trial 20 with value: 0.7552807581329578.\u001b[0m\n",
      "\u001b[32m[I 2023-02-21 22:51:33,527]\u001b[0m Trial 16 finished with value: 0.760681151035238 and parameters: {'model__solver': 'saga', 'model__C': 4.013898901379134}. Best is trial 16 with value: 0.760681151035238.\u001b[0m\n",
      "\u001b[32m[I 2023-02-21 22:51:33,554]\u001b[0m Trial 18 finished with value: 0.7346219529387757 and parameters: {'model__solver': 'saga', 'model__C': 84.04453169341203}. Best is trial 16 with value: 0.760681151035238.\u001b[0m\n"
     ]
    },
    {
     "name": "stdout",
     "output_type": "stream",
     "text": [
      "\n",
      "\n",
      "Лучшие параметры: {'model__solver': 'saga', 'model__C': 4.013898901379134}\n",
      "F1 на тренировочной выборке: 0.760681151035238\n"
     ]
    },
    {
     "data": {
      "text/html": [
       "<style>#sk-container-id-1 {color: black;background-color: white;}#sk-container-id-1 pre{padding: 0;}#sk-container-id-1 div.sk-toggleable {background-color: white;}#sk-container-id-1 label.sk-toggleable__label {cursor: pointer;display: block;width: 100%;margin-bottom: 0;padding: 0.3em;box-sizing: border-box;text-align: center;}#sk-container-id-1 label.sk-toggleable__label-arrow:before {content: \"▸\";float: left;margin-right: 0.25em;color: #696969;}#sk-container-id-1 label.sk-toggleable__label-arrow:hover:before {color: black;}#sk-container-id-1 div.sk-estimator:hover label.sk-toggleable__label-arrow:before {color: black;}#sk-container-id-1 div.sk-toggleable__content {max-height: 0;max-width: 0;overflow: hidden;text-align: left;background-color: #f0f8ff;}#sk-container-id-1 div.sk-toggleable__content pre {margin: 0.2em;color: black;border-radius: 0.25em;background-color: #f0f8ff;}#sk-container-id-1 input.sk-toggleable__control:checked~div.sk-toggleable__content {max-height: 200px;max-width: 100%;overflow: auto;}#sk-container-id-1 input.sk-toggleable__control:checked~label.sk-toggleable__label-arrow:before {content: \"▾\";}#sk-container-id-1 div.sk-estimator input.sk-toggleable__control:checked~label.sk-toggleable__label {background-color: #d4ebff;}#sk-container-id-1 div.sk-label input.sk-toggleable__control:checked~label.sk-toggleable__label {background-color: #d4ebff;}#sk-container-id-1 input.sk-hidden--visually {border: 0;clip: rect(1px 1px 1px 1px);clip: rect(1px, 1px, 1px, 1px);height: 1px;margin: -1px;overflow: hidden;padding: 0;position: absolute;width: 1px;}#sk-container-id-1 div.sk-estimator {font-family: monospace;background-color: #f0f8ff;border: 1px dotted black;border-radius: 0.25em;box-sizing: border-box;margin-bottom: 0.5em;}#sk-container-id-1 div.sk-estimator:hover {background-color: #d4ebff;}#sk-container-id-1 div.sk-parallel-item::after {content: \"\";width: 100%;border-bottom: 1px solid gray;flex-grow: 1;}#sk-container-id-1 div.sk-label:hover label.sk-toggleable__label {background-color: #d4ebff;}#sk-container-id-1 div.sk-serial::before {content: \"\";position: absolute;border-left: 1px solid gray;box-sizing: border-box;top: 0;bottom: 0;left: 50%;z-index: 0;}#sk-container-id-1 div.sk-serial {display: flex;flex-direction: column;align-items: center;background-color: white;padding-right: 0.2em;padding-left: 0.2em;position: relative;}#sk-container-id-1 div.sk-item {position: relative;z-index: 1;}#sk-container-id-1 div.sk-parallel {display: flex;align-items: stretch;justify-content: center;background-color: white;position: relative;}#sk-container-id-1 div.sk-item::before, #sk-container-id-1 div.sk-parallel-item::before {content: \"\";position: absolute;border-left: 1px solid gray;box-sizing: border-box;top: 0;bottom: 0;left: 50%;z-index: -1;}#sk-container-id-1 div.sk-parallel-item {display: flex;flex-direction: column;z-index: 1;position: relative;background-color: white;}#sk-container-id-1 div.sk-parallel-item:first-child::after {align-self: flex-end;width: 50%;}#sk-container-id-1 div.sk-parallel-item:last-child::after {align-self: flex-start;width: 50%;}#sk-container-id-1 div.sk-parallel-item:only-child::after {width: 0;}#sk-container-id-1 div.sk-dashed-wrapped {border: 1px dashed gray;margin: 0 0.4em 0.5em 0.4em;box-sizing: border-box;padding-bottom: 0.4em;background-color: white;}#sk-container-id-1 div.sk-label label {font-family: monospace;font-weight: bold;display: inline-block;line-height: 1.2em;}#sk-container-id-1 div.sk-label-container {text-align: center;}#sk-container-id-1 div.sk-container {/* jupyter's `normalize.less` sets `[hidden] { display: none; }` but bootstrap.min.css set `[hidden] { display: none !important; }` so we also need the `!important` here to be able to override the default hidden behavior on the sphinx rendered scikit-learn.org. See: https://github.com/scikit-learn/scikit-learn/issues/21755 */display: inline-block !important;position: relative;}#sk-container-id-1 div.sk-text-repr-fallback {display: none;}</style><div id=\"sk-container-id-1\" class=\"sk-top-container\"><div class=\"sk-text-repr-fallback\"><pre>Pipeline(steps=[(&#x27;tfidf&#x27;,\n",
       "                 TfidfVectorizer(max_df=0.8, min_df=2,\n",
       "                                 stop_words=[&quot;that&#x27;ll&quot;, &#x27;him&#x27;, &#x27;up&#x27;, &#x27;again&#x27;,\n",
       "                                             &#x27;yours&#x27;, &#x27;wasn&#x27;, &#x27;ve&#x27;, &#x27;a&#x27;, &#x27;each&#x27;,\n",
       "                                             &#x27;their&#x27;, &quot;you&#x27;d&quot;, &#x27;her&#x27;, &#x27;then&#x27;,\n",
       "                                             &#x27;wouldn&#x27;, &#x27;we&#x27;, &#x27;don&#x27;, &#x27;will&#x27;,\n",
       "                                             &#x27;an&#x27;, &#x27;those&#x27;, &#x27;until&#x27;, &#x27;than&#x27;,\n",
       "                                             &#x27;too&#x27;, &#x27;some&#x27;, &#x27;your&#x27;, &#x27;on&#x27;,\n",
       "                                             &#x27;such&#x27;, &#x27;ma&#x27;, &#x27;mustn&#x27;, &#x27;himself&#x27;,\n",
       "                                             &quot;won&#x27;t&quot;, ...],\n",
       "                                 sublinear_tf=True)),\n",
       "                (&#x27;model&#x27;,\n",
       "                 LogisticRegression(C=4.013898901379134,\n",
       "                                    class_weight=&#x27;balanced&#x27;, random_state=808,\n",
       "                                    solver=&#x27;saga&#x27;))])</pre><b>In a Jupyter environment, please rerun this cell to show the HTML representation or trust the notebook. <br />On GitHub, the HTML representation is unable to render, please try loading this page with nbviewer.org.</b></div><div class=\"sk-container\" hidden><div class=\"sk-item sk-dashed-wrapped\"><div class=\"sk-label-container\"><div class=\"sk-label sk-toggleable\"><input class=\"sk-toggleable__control sk-hidden--visually\" id=\"sk-estimator-id-1\" type=\"checkbox\" ><label for=\"sk-estimator-id-1\" class=\"sk-toggleable__label sk-toggleable__label-arrow\">Pipeline</label><div class=\"sk-toggleable__content\"><pre>Pipeline(steps=[(&#x27;tfidf&#x27;,\n",
       "                 TfidfVectorizer(max_df=0.8, min_df=2,\n",
       "                                 stop_words=[&quot;that&#x27;ll&quot;, &#x27;him&#x27;, &#x27;up&#x27;, &#x27;again&#x27;,\n",
       "                                             &#x27;yours&#x27;, &#x27;wasn&#x27;, &#x27;ve&#x27;, &#x27;a&#x27;, &#x27;each&#x27;,\n",
       "                                             &#x27;their&#x27;, &quot;you&#x27;d&quot;, &#x27;her&#x27;, &#x27;then&#x27;,\n",
       "                                             &#x27;wouldn&#x27;, &#x27;we&#x27;, &#x27;don&#x27;, &#x27;will&#x27;,\n",
       "                                             &#x27;an&#x27;, &#x27;those&#x27;, &#x27;until&#x27;, &#x27;than&#x27;,\n",
       "                                             &#x27;too&#x27;, &#x27;some&#x27;, &#x27;your&#x27;, &#x27;on&#x27;,\n",
       "                                             &#x27;such&#x27;, &#x27;ma&#x27;, &#x27;mustn&#x27;, &#x27;himself&#x27;,\n",
       "                                             &quot;won&#x27;t&quot;, ...],\n",
       "                                 sublinear_tf=True)),\n",
       "                (&#x27;model&#x27;,\n",
       "                 LogisticRegression(C=4.013898901379134,\n",
       "                                    class_weight=&#x27;balanced&#x27;, random_state=808,\n",
       "                                    solver=&#x27;saga&#x27;))])</pre></div></div></div><div class=\"sk-serial\"><div class=\"sk-item\"><div class=\"sk-estimator sk-toggleable\"><input class=\"sk-toggleable__control sk-hidden--visually\" id=\"sk-estimator-id-2\" type=\"checkbox\" ><label for=\"sk-estimator-id-2\" class=\"sk-toggleable__label sk-toggleable__label-arrow\">TfidfVectorizer</label><div class=\"sk-toggleable__content\"><pre>TfidfVectorizer(max_df=0.8, min_df=2,\n",
       "                stop_words=[&quot;that&#x27;ll&quot;, &#x27;him&#x27;, &#x27;up&#x27;, &#x27;again&#x27;, &#x27;yours&#x27;, &#x27;wasn&#x27;,\n",
       "                            &#x27;ve&#x27;, &#x27;a&#x27;, &#x27;each&#x27;, &#x27;their&#x27;, &quot;you&#x27;d&quot;, &#x27;her&#x27;, &#x27;then&#x27;,\n",
       "                            &#x27;wouldn&#x27;, &#x27;we&#x27;, &#x27;don&#x27;, &#x27;will&#x27;, &#x27;an&#x27;, &#x27;those&#x27;,\n",
       "                            &#x27;until&#x27;, &#x27;than&#x27;, &#x27;too&#x27;, &#x27;some&#x27;, &#x27;your&#x27;, &#x27;on&#x27;,\n",
       "                            &#x27;such&#x27;, &#x27;ma&#x27;, &#x27;mustn&#x27;, &#x27;himself&#x27;, &quot;won&#x27;t&quot;, ...],\n",
       "                sublinear_tf=True)</pre></div></div></div><div class=\"sk-item\"><div class=\"sk-estimator sk-toggleable\"><input class=\"sk-toggleable__control sk-hidden--visually\" id=\"sk-estimator-id-3\" type=\"checkbox\" ><label for=\"sk-estimator-id-3\" class=\"sk-toggleable__label sk-toggleable__label-arrow\">LogisticRegression</label><div class=\"sk-toggleable__content\"><pre>LogisticRegression(C=4.013898901379134, class_weight=&#x27;balanced&#x27;,\n",
       "                   random_state=808, solver=&#x27;saga&#x27;)</pre></div></div></div></div></div></div></div>"
      ],
      "text/plain": [
       "Pipeline(steps=[('tfidf',\n",
       "                 TfidfVectorizer(max_df=0.8, min_df=2,\n",
       "                                 stop_words=[\"that'll\", 'him', 'up', 'again',\n",
       "                                             'yours', 'wasn', 've', 'a', 'each',\n",
       "                                             'their', \"you'd\", 'her', 'then',\n",
       "                                             'wouldn', 'we', 'don', 'will',\n",
       "                                             'an', 'those', 'until', 'than',\n",
       "                                             'too', 'some', 'your', 'on',\n",
       "                                             'such', 'ma', 'mustn', 'himself',\n",
       "                                             \"won't\", ...],\n",
       "                                 sublinear_tf=True)),\n",
       "                ('model',\n",
       "                 LogisticRegression(C=4.013898901379134,\n",
       "                                    class_weight='balanced', random_state=808,\n",
       "                                    solver='saga'))])"
      ]
     },
     "metadata": {},
     "output_type": "display_data"
    },
    {
     "name": "stdout",
     "output_type": "stream",
     "text": [
      "Wall time: 6min 7s\n"
     ]
    }
   ],
   "source": [
    "%%time\n",
    "\n",
    "log_pipe = Pipeline([('tfidf', TfidfVectorizer(min_df=2, max_df=0.8, stop_words=stopwords, sublinear_tf=True)), \n",
    "                     ('model', LogisticRegression(class_weight='balanced', random_state=RANDOM_STATE))])\n",
    "\n",
    "parameters = {'model__solver': optuna.distributions.CategoricalDistribution(['liblinear', 'saga']),\n",
    "                'model__C': optuna.distributions.FloatDistribution(1, 100, log=True)}\n",
    "\n",
    "\n",
    "optuna_search_log = OptunaSearchCV(log_pipe, parameters, n_trials=30, cv=skf, n_jobs=-1, scoring='f1', random_state=RANDOM_STATE) \n",
    "optuna_search_log.fit(features_train, target_train)\n",
    "\n",
    "print('\\n')\n",
    "print(f'Лучшие параметры: {optuna_search_log.best_params_}')\n",
    "print(f'F1 на тренировочной выборке: {abs(optuna_search_log.best_score_)}')\n",
    "display(optuna_search_log.best_estimator_)\n",
    "ModelResults(optuna_search_log, 'LogisticRegression', results)"
   ]
  },
  {
   "attachments": {},
   "cell_type": "markdown",
   "metadata": {},
   "source": [
    "### SVC"
   ]
  },
  {
   "cell_type": "code",
   "execution_count": 19,
   "metadata": {},
   "outputs": [
    {
     "name": "stderr",
     "output_type": "stream",
     "text": [
      "\u001b[32m[I 2023-02-21 22:51:51,768]\u001b[0m A new study created in memory with name: no-name-60a3d16e-452c-469a-847c-b82d5bbd75f4\u001b[0m\n",
      "\u001b[32m[I 2023-02-21 22:54:47,970]\u001b[0m Trial 8 finished with value: 0.7515209040308871 and parameters: {'model__C': 0.5920017077468036}. Best is trial 8 with value: 0.7515209040308871.\u001b[0m\n",
      "\u001b[32m[I 2023-02-21 22:54:57,896]\u001b[0m Trial 0 finished with value: 0.7291566206103535 and parameters: {'model__C': 4.883136219603911}. Best is trial 8 with value: 0.7515209040308871.\u001b[0m\n",
      "\u001b[32m[I 2023-02-21 22:54:57,960]\u001b[0m Trial 2 finished with value: 0.7425658439908126 and parameters: {'model__C': 1.713654062491799}. Best is trial 8 with value: 0.7515209040308871.\u001b[0m\n",
      "\u001b[32m[I 2023-02-21 22:54:58,232]\u001b[0m Trial 9 finished with value: 0.7533332540733149 and parameters: {'model__C': 0.3869715658277677}. Best is trial 9 with value: 0.7533332540733149.\u001b[0m\n",
      "\u001b[32m[I 2023-02-21 22:54:58,499]\u001b[0m Trial 14 finished with value: 0.7438038845911529 and parameters: {'model__C': 1.5785747188059918}. Best is trial 9 with value: 0.7533332540733149.\u001b[0m\n",
      "\u001b[32m[I 2023-02-21 22:54:58,640]\u001b[0m Trial 1 finished with value: 0.7497821698441408 and parameters: {'model__C': 0.819546649403085}. Best is trial 9 with value: 0.7533332540733149.\u001b[0m\n",
      "\u001b[32m[I 2023-02-21 22:54:58,763]\u001b[0m Trial 11 finished with value: 0.7159669085970525 and parameters: {'model__C': 10.967090730329842}. Best is trial 9 with value: 0.7533332540733149.\u001b[0m\n",
      "\u001b[32m[I 2023-02-21 22:54:58,810]\u001b[0m Trial 12 finished with value: 0.7332370621032845 and parameters: {'model__C': 3.68207322139611}. Best is trial 9 with value: 0.7533332540733149.\u001b[0m\n",
      "\u001b[32m[I 2023-02-21 22:54:58,816]\u001b[0m Trial 3 finished with value: 0.6951644843058168 and parameters: {'model__C': 33.152847154008505}. Best is trial 9 with value: 0.7533332540733149.\u001b[0m\n",
      "\u001b[32m[I 2023-02-21 22:54:58,844]\u001b[0m Trial 10 finished with value: 0.7355566887765699 and parameters: {'model__C': 3.1655542505596155}. Best is trial 9 with value: 0.7533332540733149.\u001b[0m\n",
      "\u001b[32m[I 2023-02-21 22:54:58,922]\u001b[0m Trial 15 finished with value: 0.7238930004878643 and parameters: {'model__C': 6.713710237531524}. Best is trial 9 with value: 0.7533332540733149.\u001b[0m\n",
      "\u001b[32m[I 2023-02-21 22:54:59,130]\u001b[0m Trial 6 finished with value: 0.6772353534462926 and parameters: {'model__C': 84.97630400661691}. Best is trial 9 with value: 0.7533332540733149.\u001b[0m\n",
      "\u001b[32m[I 2023-02-21 22:54:59,196]\u001b[0m Trial 4 finished with value: 0.7280564648417105 and parameters: {'model__C': 5.32341849702724}. Best is trial 9 with value: 0.7533332540733149.\u001b[0m\n",
      "\u001b[32m[I 2023-02-21 22:54:59,210]\u001b[0m Trial 13 finished with value: 0.7338627134958791 and parameters: {'model__C': 3.5326009541146375}. Best is trial 9 with value: 0.7533332540733149.\u001b[0m\n",
      "\u001b[32m[I 2023-02-21 22:55:00,278]\u001b[0m Trial 7 finished with value: 0.7218684093303828 and parameters: {'model__C': 7.868097794142085}. Best is trial 9 with value: 0.7533332540733149.\u001b[0m\n",
      "\u001b[32m[I 2023-02-21 22:55:25,271]\u001b[0m Trial 5 finished with value: 0.6904303560907873 and parameters: {'model__C': 42.58938056058812}. Best is trial 9 with value: 0.7533332540733149.\u001b[0m\n",
      "\u001b[32m[I 2023-02-21 22:57:36,128]\u001b[0m Trial 16 finished with value: 0.7133390795725868 and parameters: {'model__C': 12.61520633692962}. Best is trial 9 with value: 0.7533332540733149.\u001b[0m\n",
      "\u001b[32m[I 2023-02-21 22:57:53,421]\u001b[0m Trial 25 finished with value: 0.7521253374550106 and parameters: {'model__C': 0.18283526502030387}. Best is trial 9 with value: 0.7533332540733149.\u001b[0m\n",
      "\u001b[32m[I 2023-02-21 22:57:55,021]\u001b[0m Trial 23 finished with value: 0.751818252368706 and parameters: {'model__C': 0.1921731154844261}. Best is trial 9 with value: 0.7533332540733149.\u001b[0m\n",
      "\u001b[32m[I 2023-02-21 22:57:55,176]\u001b[0m Trial 22 finished with value: 0.7516136796840075 and parameters: {'model__C': 0.19772396565641417}. Best is trial 9 with value: 0.7533332540733149.\u001b[0m\n",
      "\u001b[32m[I 2023-02-21 22:57:56,323]\u001b[0m Trial 24 finished with value: 0.751818252368706 and parameters: {'model__C': 0.19219588110380897}. Best is trial 9 with value: 0.7533332540733149.\u001b[0m\n",
      "\u001b[32m[I 2023-02-21 22:57:56,703]\u001b[0m Trial 28 finished with value: 0.7510000604351404 and parameters: {'model__C': 0.1598936623697292}. Best is trial 9 with value: 0.7533332540733149.\u001b[0m\n",
      "\u001b[32m[I 2023-02-21 22:57:56,735]\u001b[0m Trial 17 finished with value: 0.6762292586878713 and parameters: {'model__C': 92.38416675016737}. Best is trial 9 with value: 0.7533332540733149.\u001b[0m\n",
      "\u001b[32m[I 2023-02-21 22:57:58,493]\u001b[0m Trial 30 finished with value: 0.7512798559523249 and parameters: {'model__C': 0.21174524011234444}. Best is trial 9 with value: 0.7533332540733149.\u001b[0m\n",
      "\u001b[32m[I 2023-02-21 22:57:58,713]\u001b[0m Trial 19 finished with value: 0.7531293541081795 and parameters: {'model__C': 0.4752610089506803}. Best is trial 9 with value: 0.7533332540733149.\u001b[0m\n",
      "\u001b[32m[I 2023-02-21 22:57:59,486]\u001b[0m Trial 21 finished with value: 0.7499842711616411 and parameters: {'model__C': 0.12625033851404005}. Best is trial 9 with value: 0.7533332540733149.\u001b[0m\n",
      "\u001b[32m[I 2023-02-21 22:58:00,371]\u001b[0m Trial 18 finished with value: 0.7134776760476121 and parameters: {'model__C': 12.557660080919668}. Best is trial 9 with value: 0.7533332540733149.\u001b[0m\n",
      "\u001b[32m[I 2023-02-21 22:58:01,147]\u001b[0m Trial 27 finished with value: 0.7514621482964099 and parameters: {'model__C': 0.19392205354542408}. Best is trial 9 with value: 0.7533332540733149.\u001b[0m\n",
      "\u001b[32m[I 2023-02-21 22:58:01,631]\u001b[0m Trial 20 finished with value: 0.7437572250404281 and parameters: {'model__C': 1.5658095550576425}. Best is trial 9 with value: 0.7533332540733149.\u001b[0m\n",
      "\u001b[32m[I 2023-02-21 22:58:06,069]\u001b[0m Trial 26 finished with value: 0.7511997056503232 and parameters: {'model__C': 0.207108028437463}. Best is trial 9 with value: 0.7533332540733149.\u001b[0m\n",
      "\u001b[32m[I 2023-02-21 22:58:11,778]\u001b[0m Trial 29 finished with value: 0.7511837566223655 and parameters: {'model__C': 0.16484983204258014}. Best is trial 9 with value: 0.7533332540733149.\u001b[0m\n",
      "\u001b[32m[I 2023-02-21 22:58:22,028]\u001b[0m Trial 31 finished with value: 0.7511545112241585 and parameters: {'model__C': 0.21819960885119521}. Best is trial 9 with value: 0.7533332540733149.\u001b[0m\n",
      "\u001b[32m[I 2023-02-21 23:00:24,143]\u001b[0m Trial 32 finished with value: 0.7505057763720946 and parameters: {'model__C': 0.13262453617860634}. Best is trial 9 with value: 0.7533332540733149.\u001b[0m\n",
      "\u001b[32m[I 2023-02-21 23:00:36,276]\u001b[0m Trial 34 finished with value: 0.749333305337868 and parameters: {'model__C': 0.11885586306605117}. Best is trial 9 with value: 0.7533332540733149.\u001b[0m\n",
      "\u001b[32m[I 2023-02-21 23:00:39,041]\u001b[0m Trial 37 finished with value: 0.74711911199408 and parameters: {'model__C': 0.10212886543661556}. Best is trial 9 with value: 0.7533332540733149.\u001b[0m\n",
      "\u001b[32m[I 2023-02-21 23:00:41,040]\u001b[0m Trial 33 finished with value: 0.7503016000877162 and parameters: {'model__C': 0.1312551396375049}. Best is trial 9 with value: 0.7533332540733149.\u001b[0m\n",
      "\u001b[32m[I 2023-02-21 23:00:41,774]\u001b[0m Trial 36 finished with value: 0.7470624342118081 and parameters: {'model__C': 0.1017825023482129}. Best is trial 9 with value: 0.7533332540733149.\u001b[0m\n",
      "\u001b[32m[I 2023-02-21 23:00:42,026]\u001b[0m Trial 38 finished with value: 0.7483634076227927 and parameters: {'model__C': 0.11142916037976248}. Best is trial 9 with value: 0.7533332540733149.\u001b[0m\n",
      "\u001b[32m[I 2023-02-21 23:00:44,500]\u001b[0m Trial 35 finished with value: 0.7503368601146584 and parameters: {'model__C': 0.12821041757053814}. Best is trial 9 with value: 0.7533332540733149.\u001b[0m\n",
      "\u001b[32m[I 2023-02-21 23:00:44,981]\u001b[0m Trial 39 finished with value: 0.7470046631715302 and parameters: {'model__C': 0.1026109531386167}. Best is trial 9 with value: 0.7533332540733149.\u001b[0m\n",
      "\u001b[32m[I 2023-02-21 23:00:58,044]\u001b[0m Trial 41 finished with value: 0.7533791359563802 and parameters: {'model__C': 0.37759549639010176}. Best is trial 41 with value: 0.7533791359563802.\u001b[0m\n",
      "\u001b[32m[I 2023-02-21 23:00:58,049]\u001b[0m Trial 42 finished with value: 0.7535170756315529 and parameters: {'model__C': 0.37372982241658687}. Best is trial 42 with value: 0.7535170756315529.\u001b[0m\n",
      "\u001b[32m[I 2023-02-21 23:00:58,676]\u001b[0m Trial 43 finished with value: 0.7532399846958886 and parameters: {'model__C': 0.37973207286472077}. Best is trial 42 with value: 0.7535170756315529.\u001b[0m\n",
      "\u001b[32m[I 2023-02-21 23:00:58,816]\u001b[0m Trial 40 finished with value: 0.7535287685727757 and parameters: {'model__C': 0.37165475819196864}. Best is trial 40 with value: 0.7535287685727757.\u001b[0m\n",
      "\u001b[32m[I 2023-02-21 23:00:59,773]\u001b[0m Trial 44 finished with value: 0.7535397851837288 and parameters: {'model__C': 0.35911738488222683}. Best is trial 44 with value: 0.7535397851837288.\u001b[0m\n",
      "\u001b[32m[I 2023-02-21 23:01:00,120]\u001b[0m Trial 46 finished with value: 0.7530092523500155 and parameters: {'model__C': 0.3275491421096348}. Best is trial 44 with value: 0.7535397851837288.\u001b[0m\n",
      "\u001b[32m[I 2023-02-21 23:01:00,128]\u001b[0m Trial 45 finished with value: 0.7533085540005767 and parameters: {'model__C': 0.4005192443368792}. Best is trial 44 with value: 0.7535397851837288.\u001b[0m\n",
      "\u001b[32m[I 2023-02-21 23:01:01,620]\u001b[0m Trial 47 finished with value: 0.7532398346872204 and parameters: {'model__C': 0.3909578877576026}. Best is trial 44 with value: 0.7535397851837288.\u001b[0m\n",
      "\u001b[32m[I 2023-02-21 23:01:13,297]\u001b[0m Trial 48 finished with value: 0.753366646866771 and parameters: {'model__C': 0.37639124324528955}. Best is trial 44 with value: 0.7535397851837288.\u001b[0m\n",
      "\u001b[32m[I 2023-02-21 23:01:14,811]\u001b[0m Trial 49 finished with value: 0.7530068027413748 and parameters: {'model__C': 0.382380575609312}. Best is trial 44 with value: 0.7535397851837288.\u001b[0m\n"
     ]
    },
    {
     "name": "stdout",
     "output_type": "stream",
     "text": [
      "\n",
      "\n",
      "Лучшие параметры: {'model__C': 0.35911738488222683}\n",
      "F1 на тренировочной выборке: 0.7535397851837288\n"
     ]
    },
    {
     "data": {
      "text/html": [
       "<style>#sk-container-id-2 {color: black;background-color: white;}#sk-container-id-2 pre{padding: 0;}#sk-container-id-2 div.sk-toggleable {background-color: white;}#sk-container-id-2 label.sk-toggleable__label {cursor: pointer;display: block;width: 100%;margin-bottom: 0;padding: 0.3em;box-sizing: border-box;text-align: center;}#sk-container-id-2 label.sk-toggleable__label-arrow:before {content: \"▸\";float: left;margin-right: 0.25em;color: #696969;}#sk-container-id-2 label.sk-toggleable__label-arrow:hover:before {color: black;}#sk-container-id-2 div.sk-estimator:hover label.sk-toggleable__label-arrow:before {color: black;}#sk-container-id-2 div.sk-toggleable__content {max-height: 0;max-width: 0;overflow: hidden;text-align: left;background-color: #f0f8ff;}#sk-container-id-2 div.sk-toggleable__content pre {margin: 0.2em;color: black;border-radius: 0.25em;background-color: #f0f8ff;}#sk-container-id-2 input.sk-toggleable__control:checked~div.sk-toggleable__content {max-height: 200px;max-width: 100%;overflow: auto;}#sk-container-id-2 input.sk-toggleable__control:checked~label.sk-toggleable__label-arrow:before {content: \"▾\";}#sk-container-id-2 div.sk-estimator input.sk-toggleable__control:checked~label.sk-toggleable__label {background-color: #d4ebff;}#sk-container-id-2 div.sk-label input.sk-toggleable__control:checked~label.sk-toggleable__label {background-color: #d4ebff;}#sk-container-id-2 input.sk-hidden--visually {border: 0;clip: rect(1px 1px 1px 1px);clip: rect(1px, 1px, 1px, 1px);height: 1px;margin: -1px;overflow: hidden;padding: 0;position: absolute;width: 1px;}#sk-container-id-2 div.sk-estimator {font-family: monospace;background-color: #f0f8ff;border: 1px dotted black;border-radius: 0.25em;box-sizing: border-box;margin-bottom: 0.5em;}#sk-container-id-2 div.sk-estimator:hover {background-color: #d4ebff;}#sk-container-id-2 div.sk-parallel-item::after {content: \"\";width: 100%;border-bottom: 1px solid gray;flex-grow: 1;}#sk-container-id-2 div.sk-label:hover label.sk-toggleable__label {background-color: #d4ebff;}#sk-container-id-2 div.sk-serial::before {content: \"\";position: absolute;border-left: 1px solid gray;box-sizing: border-box;top: 0;bottom: 0;left: 50%;z-index: 0;}#sk-container-id-2 div.sk-serial {display: flex;flex-direction: column;align-items: center;background-color: white;padding-right: 0.2em;padding-left: 0.2em;position: relative;}#sk-container-id-2 div.sk-item {position: relative;z-index: 1;}#sk-container-id-2 div.sk-parallel {display: flex;align-items: stretch;justify-content: center;background-color: white;position: relative;}#sk-container-id-2 div.sk-item::before, #sk-container-id-2 div.sk-parallel-item::before {content: \"\";position: absolute;border-left: 1px solid gray;box-sizing: border-box;top: 0;bottom: 0;left: 50%;z-index: -1;}#sk-container-id-2 div.sk-parallel-item {display: flex;flex-direction: column;z-index: 1;position: relative;background-color: white;}#sk-container-id-2 div.sk-parallel-item:first-child::after {align-self: flex-end;width: 50%;}#sk-container-id-2 div.sk-parallel-item:last-child::after {align-self: flex-start;width: 50%;}#sk-container-id-2 div.sk-parallel-item:only-child::after {width: 0;}#sk-container-id-2 div.sk-dashed-wrapped {border: 1px dashed gray;margin: 0 0.4em 0.5em 0.4em;box-sizing: border-box;padding-bottom: 0.4em;background-color: white;}#sk-container-id-2 div.sk-label label {font-family: monospace;font-weight: bold;display: inline-block;line-height: 1.2em;}#sk-container-id-2 div.sk-label-container {text-align: center;}#sk-container-id-2 div.sk-container {/* jupyter's `normalize.less` sets `[hidden] { display: none; }` but bootstrap.min.css set `[hidden] { display: none !important; }` so we also need the `!important` here to be able to override the default hidden behavior on the sphinx rendered scikit-learn.org. See: https://github.com/scikit-learn/scikit-learn/issues/21755 */display: inline-block !important;position: relative;}#sk-container-id-2 div.sk-text-repr-fallback {display: none;}</style><div id=\"sk-container-id-2\" class=\"sk-top-container\"><div class=\"sk-text-repr-fallback\"><pre>Pipeline(steps=[(&#x27;tfidf&#x27;,\n",
       "                 TfidfVectorizer(max_df=0.8, min_df=2,\n",
       "                                 stop_words=[&quot;that&#x27;ll&quot;, &#x27;him&#x27;, &#x27;up&#x27;, &#x27;again&#x27;,\n",
       "                                             &#x27;yours&#x27;, &#x27;wasn&#x27;, &#x27;ve&#x27;, &#x27;a&#x27;, &#x27;each&#x27;,\n",
       "                                             &#x27;their&#x27;, &quot;you&#x27;d&quot;, &#x27;her&#x27;, &#x27;then&#x27;,\n",
       "                                             &#x27;wouldn&#x27;, &#x27;we&#x27;, &#x27;don&#x27;, &#x27;will&#x27;,\n",
       "                                             &#x27;an&#x27;, &#x27;those&#x27;, &#x27;until&#x27;, &#x27;than&#x27;,\n",
       "                                             &#x27;too&#x27;, &#x27;some&#x27;, &#x27;your&#x27;, &#x27;on&#x27;,\n",
       "                                             &#x27;such&#x27;, &#x27;ma&#x27;, &#x27;mustn&#x27;, &#x27;himself&#x27;,\n",
       "                                             &quot;won&#x27;t&quot;, ...],\n",
       "                                 sublinear_tf=True)),\n",
       "                (&#x27;model&#x27;,\n",
       "                 LinearSVC(C=0.35911738488222683, class_weight=&#x27;balanced&#x27;,\n",
       "                           random_state=808))])</pre><b>In a Jupyter environment, please rerun this cell to show the HTML representation or trust the notebook. <br />On GitHub, the HTML representation is unable to render, please try loading this page with nbviewer.org.</b></div><div class=\"sk-container\" hidden><div class=\"sk-item sk-dashed-wrapped\"><div class=\"sk-label-container\"><div class=\"sk-label sk-toggleable\"><input class=\"sk-toggleable__control sk-hidden--visually\" id=\"sk-estimator-id-4\" type=\"checkbox\" ><label for=\"sk-estimator-id-4\" class=\"sk-toggleable__label sk-toggleable__label-arrow\">Pipeline</label><div class=\"sk-toggleable__content\"><pre>Pipeline(steps=[(&#x27;tfidf&#x27;,\n",
       "                 TfidfVectorizer(max_df=0.8, min_df=2,\n",
       "                                 stop_words=[&quot;that&#x27;ll&quot;, &#x27;him&#x27;, &#x27;up&#x27;, &#x27;again&#x27;,\n",
       "                                             &#x27;yours&#x27;, &#x27;wasn&#x27;, &#x27;ve&#x27;, &#x27;a&#x27;, &#x27;each&#x27;,\n",
       "                                             &#x27;their&#x27;, &quot;you&#x27;d&quot;, &#x27;her&#x27;, &#x27;then&#x27;,\n",
       "                                             &#x27;wouldn&#x27;, &#x27;we&#x27;, &#x27;don&#x27;, &#x27;will&#x27;,\n",
       "                                             &#x27;an&#x27;, &#x27;those&#x27;, &#x27;until&#x27;, &#x27;than&#x27;,\n",
       "                                             &#x27;too&#x27;, &#x27;some&#x27;, &#x27;your&#x27;, &#x27;on&#x27;,\n",
       "                                             &#x27;such&#x27;, &#x27;ma&#x27;, &#x27;mustn&#x27;, &#x27;himself&#x27;,\n",
       "                                             &quot;won&#x27;t&quot;, ...],\n",
       "                                 sublinear_tf=True)),\n",
       "                (&#x27;model&#x27;,\n",
       "                 LinearSVC(C=0.35911738488222683, class_weight=&#x27;balanced&#x27;,\n",
       "                           random_state=808))])</pre></div></div></div><div class=\"sk-serial\"><div class=\"sk-item\"><div class=\"sk-estimator sk-toggleable\"><input class=\"sk-toggleable__control sk-hidden--visually\" id=\"sk-estimator-id-5\" type=\"checkbox\" ><label for=\"sk-estimator-id-5\" class=\"sk-toggleable__label sk-toggleable__label-arrow\">TfidfVectorizer</label><div class=\"sk-toggleable__content\"><pre>TfidfVectorizer(max_df=0.8, min_df=2,\n",
       "                stop_words=[&quot;that&#x27;ll&quot;, &#x27;him&#x27;, &#x27;up&#x27;, &#x27;again&#x27;, &#x27;yours&#x27;, &#x27;wasn&#x27;,\n",
       "                            &#x27;ve&#x27;, &#x27;a&#x27;, &#x27;each&#x27;, &#x27;their&#x27;, &quot;you&#x27;d&quot;, &#x27;her&#x27;, &#x27;then&#x27;,\n",
       "                            &#x27;wouldn&#x27;, &#x27;we&#x27;, &#x27;don&#x27;, &#x27;will&#x27;, &#x27;an&#x27;, &#x27;those&#x27;,\n",
       "                            &#x27;until&#x27;, &#x27;than&#x27;, &#x27;too&#x27;, &#x27;some&#x27;, &#x27;your&#x27;, &#x27;on&#x27;,\n",
       "                            &#x27;such&#x27;, &#x27;ma&#x27;, &#x27;mustn&#x27;, &#x27;himself&#x27;, &quot;won&#x27;t&quot;, ...],\n",
       "                sublinear_tf=True)</pre></div></div></div><div class=\"sk-item\"><div class=\"sk-estimator sk-toggleable\"><input class=\"sk-toggleable__control sk-hidden--visually\" id=\"sk-estimator-id-6\" type=\"checkbox\" ><label for=\"sk-estimator-id-6\" class=\"sk-toggleable__label sk-toggleable__label-arrow\">LinearSVC</label><div class=\"sk-toggleable__content\"><pre>LinearSVC(C=0.35911738488222683, class_weight=&#x27;balanced&#x27;, random_state=808)</pre></div></div></div></div></div></div></div>"
      ],
      "text/plain": [
       "Pipeline(steps=[('tfidf',\n",
       "                 TfidfVectorizer(max_df=0.8, min_df=2,\n",
       "                                 stop_words=[\"that'll\", 'him', 'up', 'again',\n",
       "                                             'yours', 'wasn', 've', 'a', 'each',\n",
       "                                             'their', \"you'd\", 'her', 'then',\n",
       "                                             'wouldn', 'we', 'don', 'will',\n",
       "                                             'an', 'those', 'until', 'than',\n",
       "                                             'too', 'some', 'your', 'on',\n",
       "                                             'such', 'ma', 'mustn', 'himself',\n",
       "                                             \"won't\", ...],\n",
       "                                 sublinear_tf=True)),\n",
       "                ('model',\n",
       "                 LinearSVC(C=0.35911738488222683, class_weight='balanced',\n",
       "                           random_state=808))])"
      ]
     },
     "metadata": {},
     "output_type": "display_data"
    },
    {
     "name": "stdout",
     "output_type": "stream",
     "text": [
      "Wall time: 9min 33s\n"
     ]
    }
   ],
   "source": [
    "%%time\n",
    "\n",
    "svc_pipe =  Pipeline([('tfidf', TfidfVectorizer(min_df=2, max_df=0.8, stop_words=stopwords, sublinear_tf=True)), \n",
    "                     ('model', LinearSVC(class_weight='balanced', random_state=RANDOM_STATE))])\n",
    "\n",
    "parameters = {'model__C': optuna.distributions.FloatDistribution(0.1, 100, log=True)}\n",
    "\n",
    "optuna_search_svc = OptunaSearchCV(svc_pipe, parameters, n_trials=50, cv=skf, n_jobs=-1, scoring='f1', random_state=RANDOM_STATE) \n",
    "optuna_search_svc.fit(features_train, target_train)\n",
    "\n",
    "print('\\n')\n",
    "print(f'Лучшие параметры: {optuna_search_svc.best_params_}')\n",
    "print(f'F1 на тренировочной выборке: {abs(optuna_search_svc.best_score_)}')\n",
    "display(optuna_search_svc.best_estimator_)\n",
    "ModelResults(optuna_search_svc, 'SVC', results)"
   ]
  },
  {
   "attachments": {},
   "cell_type": "markdown",
   "metadata": {},
   "source": [
    "### SGDClassifier"
   ]
  },
  {
   "cell_type": "code",
   "execution_count": 20,
   "metadata": {},
   "outputs": [
    {
     "name": "stderr",
     "output_type": "stream",
     "text": [
      "\u001b[32m[I 2023-02-21 23:01:24,848]\u001b[0m A new study created in memory with name: no-name-e990d928-ef48-4294-80fc-d9314ee46724\u001b[0m\n",
      "\u001b[32m[I 2023-02-21 23:04:20,573]\u001b[0m Trial 11 finished with value: 0.6995575095029053 and parameters: {'model__penalty': 'l2', 'model__loss': 'perceptron', 'model__learning_rate': 'optimal'}. Best is trial 11 with value: 0.6995575095029053.\u001b[0m\n",
      "\u001b[32m[I 2023-02-21 23:04:20,684]\u001b[0m Trial 14 finished with value: 0.6267971509543214 and parameters: {'model__penalty': 'l1', 'model__loss': 'perceptron', 'model__learning_rate': 'optimal'}. Best is trial 11 with value: 0.6995575095029053.\u001b[0m\n",
      "\u001b[32m[I 2023-02-21 23:04:21,144]\u001b[0m Trial 15 finished with value: 0.6971203833440199 and parameters: {'model__penalty': 'l1', 'model__loss': 'epsilon_insensitive', 'model__learning_rate': 'optimal'}. Best is trial 11 with value: 0.6995575095029053.\u001b[0m\n",
      "\u001b[32m[I 2023-02-21 23:04:21,191]\u001b[0m Trial 6 finished with value: 0.6971203833440199 and parameters: {'model__penalty': 'l1', 'model__loss': 'epsilon_insensitive', 'model__learning_rate': 'optimal'}. Best is trial 11 with value: 0.6995575095029053.\u001b[0m\n",
      "\u001b[32m[I 2023-02-21 23:04:21,290]\u001b[0m Trial 2 finished with value: 0.6267971509543214 and parameters: {'model__penalty': 'l1', 'model__loss': 'perceptron', 'model__learning_rate': 'optimal'}. Best is trial 11 with value: 0.6995575095029053.\u001b[0m\n",
      "\u001b[32m[I 2023-02-21 23:04:21,433]\u001b[0m Trial 3 finished with value: 0.7064804977794769 and parameters: {'model__penalty': 'l2', 'model__loss': 'epsilon_insensitive', 'model__learning_rate': 'optimal'}. Best is trial 3 with value: 0.7064804977794769.\u001b[0m\n",
      "\u001b[32m[I 2023-02-21 23:04:22,027]\u001b[0m Trial 10 finished with value: 0.6267971509543214 and parameters: {'model__penalty': 'l1', 'model__loss': 'perceptron', 'model__learning_rate': 'optimal'}. Best is trial 3 with value: 0.7064804977794769.\u001b[0m\n",
      "\u001b[32m[I 2023-02-21 23:04:22,968]\u001b[0m Trial 7 finished with value: 0.6971203833440199 and parameters: {'model__penalty': 'l1', 'model__loss': 'epsilon_insensitive', 'model__learning_rate': 'optimal'}. Best is trial 3 with value: 0.7064804977794769.\u001b[0m\n",
      "\u001b[32m[I 2023-02-21 23:04:23,986]\u001b[0m Trial 1 finished with value: 0.7064804977794769 and parameters: {'model__penalty': 'l2', 'model__loss': 'epsilon_insensitive', 'model__learning_rate': 'optimal'}. Best is trial 3 with value: 0.7064804977794769.\u001b[0m\n",
      "\u001b[32m[I 2023-02-21 23:04:24,147]\u001b[0m Trial 5 finished with value: 0.6971203833440199 and parameters: {'model__penalty': 'l1', 'model__loss': 'epsilon_insensitive', 'model__learning_rate': 'optimal'}. Best is trial 3 with value: 0.7064804977794769.\u001b[0m\n",
      "\u001b[32m[I 2023-02-21 23:04:28,558]\u001b[0m Trial 8 finished with value: 0.7064804977794769 and parameters: {'model__penalty': 'l2', 'model__loss': 'epsilon_insensitive', 'model__learning_rate': 'optimal'}. Best is trial 3 with value: 0.7064804977794769.\u001b[0m\n",
      "\u001b[32m[I 2023-02-21 23:04:30,261]\u001b[0m Trial 13 finished with value: 0.6971203833440199 and parameters: {'model__penalty': 'l1', 'model__loss': 'epsilon_insensitive', 'model__learning_rate': 'optimal'}. Best is trial 3 with value: 0.7064804977794769.\u001b[0m\n",
      "\u001b[32m[I 2023-02-21 23:04:42,931]\u001b[0m Trial 4 finished with value: 0.7482718710846098 and parameters: {'model__penalty': 'l2', 'model__loss': 'modified_huber', 'model__learning_rate': 'optimal'}. Best is trial 4 with value: 0.7482718710846098.\u001b[0m\n",
      "\u001b[32m[I 2023-02-21 23:04:48,131]\u001b[0m Trial 0 finished with value: 0.6971203833440199 and parameters: {'model__penalty': 'l1', 'model__loss': 'epsilon_insensitive', 'model__learning_rate': 'optimal'}. Best is trial 4 with value: 0.7482718710846098.\u001b[0m\n",
      "\u001b[32m[I 2023-02-21 23:04:54,239]\u001b[0m Trial 12 finished with value: 0.6267971509543214 and parameters: {'model__penalty': 'l1', 'model__loss': 'perceptron', 'model__learning_rate': 'optimal'}. Best is trial 4 with value: 0.7482718710846098.\u001b[0m\n",
      "\u001b[32m[I 2023-02-21 23:04:54,512]\u001b[0m Trial 9 finished with value: 0.6576939257803393 and parameters: {'model__penalty': 'l1', 'model__loss': 'modified_huber', 'model__learning_rate': 'optimal'}. Best is trial 4 with value: 0.7482718710846098.\u001b[0m\n",
      "\u001b[32m[I 2023-02-21 23:06:58,427]\u001b[0m Trial 19 finished with value: 0.7482718710846098 and parameters: {'model__penalty': 'l2', 'model__loss': 'modified_huber', 'model__learning_rate': 'optimal'}. Best is trial 4 with value: 0.7482718710846098.\u001b[0m\n",
      "\u001b[32m[I 2023-02-21 23:06:59,907]\u001b[0m Trial 18 finished with value: 0.6267971509543214 and parameters: {'model__penalty': 'l1', 'model__loss': 'perceptron', 'model__learning_rate': 'optimal'}. Best is trial 4 with value: 0.7482718710846098.\u001b[0m\n",
      "\u001b[32m[I 2023-02-21 23:07:03,904]\u001b[0m Trial 20 finished with value: 0.7064804977794769 and parameters: {'model__penalty': 'l2', 'model__loss': 'epsilon_insensitive', 'model__learning_rate': 'optimal'}. Best is trial 4 with value: 0.7482718710846098.\u001b[0m\n",
      "\u001b[32m[I 2023-02-21 23:07:04,014]\u001b[0m Trial 16 finished with value: 0.6267971509543214 and parameters: {'model__penalty': 'l1', 'model__loss': 'perceptron', 'model__learning_rate': 'optimal'}. Best is trial 4 with value: 0.7482718710846098.\u001b[0m\n",
      "\u001b[32m[I 2023-02-21 23:07:05,045]\u001b[0m Trial 17 finished with value: 0.6971203833440199 and parameters: {'model__penalty': 'l1', 'model__loss': 'epsilon_insensitive', 'model__learning_rate': 'optimal'}. Best is trial 4 with value: 0.7482718710846098.\u001b[0m\n",
      "\u001b[32m[I 2023-02-21 23:07:30,840]\u001b[0m Trial 21 finished with value: 0.6576939257803393 and parameters: {'model__penalty': 'l1', 'model__loss': 'modified_huber', 'model__learning_rate': 'optimal'}. Best is trial 4 with value: 0.7482718710846098.\u001b[0m\n",
      "\u001b[32m[I 2023-02-21 23:07:31,302]\u001b[0m Trial 23 finished with value: 0.6576939257803393 and parameters: {'model__penalty': 'l1', 'model__loss': 'modified_huber', 'model__learning_rate': 'optimal'}. Best is trial 4 with value: 0.7482718710846098.\u001b[0m\n",
      "\u001b[32m[I 2023-02-21 23:07:32,258]\u001b[0m Trial 22 finished with value: 0.6576939257803393 and parameters: {'model__penalty': 'l1', 'model__loss': 'modified_huber', 'model__learning_rate': 'optimal'}. Best is trial 4 with value: 0.7482718710846098.\u001b[0m\n",
      "\u001b[32m[I 2023-02-21 23:07:39,162]\u001b[0m Trial 26 finished with value: 0.7482718710846098 and parameters: {'model__penalty': 'l2', 'model__loss': 'modified_huber', 'model__learning_rate': 'optimal'}. Best is trial 4 with value: 0.7482718710846098.\u001b[0m\n",
      "\u001b[32m[I 2023-02-21 23:07:40,623]\u001b[0m Trial 27 finished with value: 0.7482718710846098 and parameters: {'model__penalty': 'l2', 'model__loss': 'modified_huber', 'model__learning_rate': 'optimal'}. Best is trial 4 with value: 0.7482718710846098.\u001b[0m\n",
      "\u001b[32m[I 2023-02-21 23:07:41,399]\u001b[0m Trial 24 finished with value: 0.7482718710846098 and parameters: {'model__penalty': 'l2', 'model__loss': 'modified_huber', 'model__learning_rate': 'optimal'}. Best is trial 4 with value: 0.7482718710846098.\u001b[0m\n",
      "\u001b[32m[I 2023-02-21 23:07:53,109]\u001b[0m Trial 25 finished with value: 0.7482718710846098 and parameters: {'model__penalty': 'l2', 'model__loss': 'modified_huber', 'model__learning_rate': 'optimal'}. Best is trial 4 with value: 0.7482718710846098.\u001b[0m\n",
      "\u001b[32m[I 2023-02-21 23:07:58,699]\u001b[0m Trial 29 finished with value: 0.7482718710846098 and parameters: {'model__penalty': 'l2', 'model__loss': 'modified_huber', 'model__learning_rate': 'optimal'}. Best is trial 4 with value: 0.7482718710846098.\u001b[0m\n",
      "\u001b[32m[I 2023-02-21 23:07:59,052]\u001b[0m Trial 28 finished with value: 0.7482718710846098 and parameters: {'model__penalty': 'l2', 'model__loss': 'modified_huber', 'model__learning_rate': 'optimal'}. Best is trial 4 with value: 0.7482718710846098.\u001b[0m\n",
      "\u001b[32m[I 2023-02-21 23:08:00,108]\u001b[0m Trial 31 finished with value: 0.7482718710846098 and parameters: {'model__penalty': 'l2', 'model__loss': 'modified_huber', 'model__learning_rate': 'optimal'}. Best is trial 4 with value: 0.7482718710846098.\u001b[0m\n",
      "\u001b[32m[I 2023-02-21 23:08:08,667]\u001b[0m Trial 30 finished with value: 0.7482718710846098 and parameters: {'model__penalty': 'l2', 'model__loss': 'modified_huber', 'model__learning_rate': 'optimal'}. Best is trial 4 with value: 0.7482718710846098.\u001b[0m\n",
      "\u001b[32m[I 2023-02-21 23:09:46,554]\u001b[0m Trial 32 finished with value: 0.7482718710846098 and parameters: {'model__penalty': 'l2', 'model__loss': 'modified_huber', 'model__learning_rate': 'optimal'}. Best is trial 4 with value: 0.7482718710846098.\u001b[0m\n",
      "\u001b[32m[I 2023-02-21 23:09:47,676]\u001b[0m Trial 33 finished with value: 0.7482718710846098 and parameters: {'model__penalty': 'l2', 'model__loss': 'modified_huber', 'model__learning_rate': 'optimal'}. Best is trial 4 with value: 0.7482718710846098.\u001b[0m\n",
      "\u001b[32m[I 2023-02-21 23:09:47,801]\u001b[0m Trial 35 finished with value: 0.7482718710846098 and parameters: {'model__penalty': 'l2', 'model__loss': 'modified_huber', 'model__learning_rate': 'optimal'}. Best is trial 4 with value: 0.7482718710846098.\u001b[0m\n",
      "\u001b[32m[I 2023-02-21 23:09:51,392]\u001b[0m Trial 34 finished with value: 0.7482718710846098 and parameters: {'model__penalty': 'l2', 'model__loss': 'modified_huber', 'model__learning_rate': 'optimal'}. Best is trial 4 with value: 0.7482718710846098.\u001b[0m\n",
      "\u001b[32m[I 2023-02-21 23:09:52,359]\u001b[0m Trial 36 finished with value: 0.7482718710846098 and parameters: {'model__penalty': 'l2', 'model__loss': 'modified_huber', 'model__learning_rate': 'optimal'}. Best is trial 4 with value: 0.7482718710846098.\u001b[0m\n",
      "\u001b[32m[I 2023-02-21 23:10:09,265]\u001b[0m Trial 38 finished with value: 0.7482718710846098 and parameters: {'model__penalty': 'l2', 'model__loss': 'modified_huber', 'model__learning_rate': 'optimal'}. Best is trial 4 with value: 0.7482718710846098.\u001b[0m\n",
      "\u001b[32m[I 2023-02-21 23:10:11,099]\u001b[0m Trial 37 finished with value: 0.7482718710846098 and parameters: {'model__penalty': 'l2', 'model__loss': 'modified_huber', 'model__learning_rate': 'optimal'}. Best is trial 4 with value: 0.7482718710846098.\u001b[0m\n",
      "\u001b[32m[I 2023-02-21 23:10:11,355]\u001b[0m Trial 39 finished with value: 0.7482718710846098 and parameters: {'model__penalty': 'l2', 'model__loss': 'modified_huber', 'model__learning_rate': 'optimal'}. Best is trial 4 with value: 0.7482718710846098.\u001b[0m\n",
      "\u001b[32m[I 2023-02-21 23:10:29,619]\u001b[0m Trial 42 finished with value: 0.7482718710846098 and parameters: {'model__penalty': 'l2', 'model__loss': 'modified_huber', 'model__learning_rate': 'optimal'}. Best is trial 4 with value: 0.7482718710846098.\u001b[0m\n",
      "\u001b[32m[I 2023-02-21 23:10:32,119]\u001b[0m Trial 40 finished with value: 0.7482718710846098 and parameters: {'model__penalty': 'l2', 'model__loss': 'modified_huber', 'model__learning_rate': 'optimal'}. Best is trial 4 with value: 0.7482718710846098.\u001b[0m\n",
      "\u001b[32m[I 2023-02-21 23:10:33,401]\u001b[0m Trial 44 finished with value: 0.7482718710846098 and parameters: {'model__penalty': 'l2', 'model__loss': 'modified_huber', 'model__learning_rate': 'optimal'}. Best is trial 4 with value: 0.7482718710846098.\u001b[0m\n",
      "\u001b[32m[I 2023-02-21 23:10:34,188]\u001b[0m Trial 41 finished with value: 0.7482718710846098 and parameters: {'model__penalty': 'l2', 'model__loss': 'modified_huber', 'model__learning_rate': 'optimal'}. Best is trial 4 with value: 0.7482718710846098.\u001b[0m\n",
      "\u001b[32m[I 2023-02-21 23:10:36,665]\u001b[0m Trial 43 finished with value: 0.7482718710846098 and parameters: {'model__penalty': 'l2', 'model__loss': 'modified_huber', 'model__learning_rate': 'optimal'}. Best is trial 4 with value: 0.7482718710846098.\u001b[0m\n",
      "\u001b[32m[I 2023-02-21 23:10:40,284]\u001b[0m Trial 45 finished with value: 0.7482718710846098 and parameters: {'model__penalty': 'l2', 'model__loss': 'modified_huber', 'model__learning_rate': 'optimal'}. Best is trial 4 with value: 0.7482718710846098.\u001b[0m\n",
      "\u001b[32m[I 2023-02-21 23:10:40,602]\u001b[0m Trial 46 finished with value: 0.7482718710846098 and parameters: {'model__penalty': 'l2', 'model__loss': 'modified_huber', 'model__learning_rate': 'optimal'}. Best is trial 4 with value: 0.7482718710846098.\u001b[0m\n",
      "\u001b[32m[I 2023-02-21 23:10:40,620]\u001b[0m Trial 47 finished with value: 0.7482718710846098 and parameters: {'model__penalty': 'l2', 'model__loss': 'modified_huber', 'model__learning_rate': 'optimal'}. Best is trial 4 with value: 0.7482718710846098.\u001b[0m\n",
      "\u001b[32m[I 2023-02-21 23:10:46,642]\u001b[0m Trial 48 finished with value: 0.7482718710846098 and parameters: {'model__penalty': 'l2', 'model__loss': 'modified_huber', 'model__learning_rate': 'optimal'}. Best is trial 4 with value: 0.7482718710846098.\u001b[0m\n",
      "\u001b[32m[I 2023-02-21 23:10:47,997]\u001b[0m Trial 49 finished with value: 0.7482718710846098 and parameters: {'model__penalty': 'l2', 'model__loss': 'modified_huber', 'model__learning_rate': 'optimal'}. Best is trial 4 with value: 0.7482718710846098.\u001b[0m\n"
     ]
    },
    {
     "name": "stdout",
     "output_type": "stream",
     "text": [
      "\n",
      "\n",
      "Лучшие параметры: {'model__penalty': 'l2', 'model__loss': 'modified_huber', 'model__learning_rate': 'optimal'}\n",
      "F1 на тренировочной выборке: 0.7482718710846098\n"
     ]
    },
    {
     "data": {
      "text/html": [
       "<style>#sk-container-id-3 {color: black;background-color: white;}#sk-container-id-3 pre{padding: 0;}#sk-container-id-3 div.sk-toggleable {background-color: white;}#sk-container-id-3 label.sk-toggleable__label {cursor: pointer;display: block;width: 100%;margin-bottom: 0;padding: 0.3em;box-sizing: border-box;text-align: center;}#sk-container-id-3 label.sk-toggleable__label-arrow:before {content: \"▸\";float: left;margin-right: 0.25em;color: #696969;}#sk-container-id-3 label.sk-toggleable__label-arrow:hover:before {color: black;}#sk-container-id-3 div.sk-estimator:hover label.sk-toggleable__label-arrow:before {color: black;}#sk-container-id-3 div.sk-toggleable__content {max-height: 0;max-width: 0;overflow: hidden;text-align: left;background-color: #f0f8ff;}#sk-container-id-3 div.sk-toggleable__content pre {margin: 0.2em;color: black;border-radius: 0.25em;background-color: #f0f8ff;}#sk-container-id-3 input.sk-toggleable__control:checked~div.sk-toggleable__content {max-height: 200px;max-width: 100%;overflow: auto;}#sk-container-id-3 input.sk-toggleable__control:checked~label.sk-toggleable__label-arrow:before {content: \"▾\";}#sk-container-id-3 div.sk-estimator input.sk-toggleable__control:checked~label.sk-toggleable__label {background-color: #d4ebff;}#sk-container-id-3 div.sk-label input.sk-toggleable__control:checked~label.sk-toggleable__label {background-color: #d4ebff;}#sk-container-id-3 input.sk-hidden--visually {border: 0;clip: rect(1px 1px 1px 1px);clip: rect(1px, 1px, 1px, 1px);height: 1px;margin: -1px;overflow: hidden;padding: 0;position: absolute;width: 1px;}#sk-container-id-3 div.sk-estimator {font-family: monospace;background-color: #f0f8ff;border: 1px dotted black;border-radius: 0.25em;box-sizing: border-box;margin-bottom: 0.5em;}#sk-container-id-3 div.sk-estimator:hover {background-color: #d4ebff;}#sk-container-id-3 div.sk-parallel-item::after {content: \"\";width: 100%;border-bottom: 1px solid gray;flex-grow: 1;}#sk-container-id-3 div.sk-label:hover label.sk-toggleable__label {background-color: #d4ebff;}#sk-container-id-3 div.sk-serial::before {content: \"\";position: absolute;border-left: 1px solid gray;box-sizing: border-box;top: 0;bottom: 0;left: 50%;z-index: 0;}#sk-container-id-3 div.sk-serial {display: flex;flex-direction: column;align-items: center;background-color: white;padding-right: 0.2em;padding-left: 0.2em;position: relative;}#sk-container-id-3 div.sk-item {position: relative;z-index: 1;}#sk-container-id-3 div.sk-parallel {display: flex;align-items: stretch;justify-content: center;background-color: white;position: relative;}#sk-container-id-3 div.sk-item::before, #sk-container-id-3 div.sk-parallel-item::before {content: \"\";position: absolute;border-left: 1px solid gray;box-sizing: border-box;top: 0;bottom: 0;left: 50%;z-index: -1;}#sk-container-id-3 div.sk-parallel-item {display: flex;flex-direction: column;z-index: 1;position: relative;background-color: white;}#sk-container-id-3 div.sk-parallel-item:first-child::after {align-self: flex-end;width: 50%;}#sk-container-id-3 div.sk-parallel-item:last-child::after {align-self: flex-start;width: 50%;}#sk-container-id-3 div.sk-parallel-item:only-child::after {width: 0;}#sk-container-id-3 div.sk-dashed-wrapped {border: 1px dashed gray;margin: 0 0.4em 0.5em 0.4em;box-sizing: border-box;padding-bottom: 0.4em;background-color: white;}#sk-container-id-3 div.sk-label label {font-family: monospace;font-weight: bold;display: inline-block;line-height: 1.2em;}#sk-container-id-3 div.sk-label-container {text-align: center;}#sk-container-id-3 div.sk-container {/* jupyter's `normalize.less` sets `[hidden] { display: none; }` but bootstrap.min.css set `[hidden] { display: none !important; }` so we also need the `!important` here to be able to override the default hidden behavior on the sphinx rendered scikit-learn.org. See: https://github.com/scikit-learn/scikit-learn/issues/21755 */display: inline-block !important;position: relative;}#sk-container-id-3 div.sk-text-repr-fallback {display: none;}</style><div id=\"sk-container-id-3\" class=\"sk-top-container\"><div class=\"sk-text-repr-fallback\"><pre>Pipeline(steps=[(&#x27;tfidf&#x27;,\n",
       "                 TfidfVectorizer(max_df=0.8, min_df=2,\n",
       "                                 stop_words=[&quot;that&#x27;ll&quot;, &#x27;him&#x27;, &#x27;up&#x27;, &#x27;again&#x27;,\n",
       "                                             &#x27;yours&#x27;, &#x27;wasn&#x27;, &#x27;ve&#x27;, &#x27;a&#x27;, &#x27;each&#x27;,\n",
       "                                             &#x27;their&#x27;, &quot;you&#x27;d&quot;, &#x27;her&#x27;, &#x27;then&#x27;,\n",
       "                                             &#x27;wouldn&#x27;, &#x27;we&#x27;, &#x27;don&#x27;, &#x27;will&#x27;,\n",
       "                                             &#x27;an&#x27;, &#x27;those&#x27;, &#x27;until&#x27;, &#x27;than&#x27;,\n",
       "                                             &#x27;too&#x27;, &#x27;some&#x27;, &#x27;your&#x27;, &#x27;on&#x27;,\n",
       "                                             &#x27;such&#x27;, &#x27;ma&#x27;, &#x27;mustn&#x27;, &#x27;himself&#x27;,\n",
       "                                             &quot;won&#x27;t&quot;, ...],\n",
       "                                 sublinear_tf=True)),\n",
       "                (&#x27;model&#x27;,\n",
       "                 SGDClassifier(class_weight=&#x27;balanced&#x27;, loss=&#x27;modified_huber&#x27;,\n",
       "                               random_state=808))])</pre><b>In a Jupyter environment, please rerun this cell to show the HTML representation or trust the notebook. <br />On GitHub, the HTML representation is unable to render, please try loading this page with nbviewer.org.</b></div><div class=\"sk-container\" hidden><div class=\"sk-item sk-dashed-wrapped\"><div class=\"sk-label-container\"><div class=\"sk-label sk-toggleable\"><input class=\"sk-toggleable__control sk-hidden--visually\" id=\"sk-estimator-id-7\" type=\"checkbox\" ><label for=\"sk-estimator-id-7\" class=\"sk-toggleable__label sk-toggleable__label-arrow\">Pipeline</label><div class=\"sk-toggleable__content\"><pre>Pipeline(steps=[(&#x27;tfidf&#x27;,\n",
       "                 TfidfVectorizer(max_df=0.8, min_df=2,\n",
       "                                 stop_words=[&quot;that&#x27;ll&quot;, &#x27;him&#x27;, &#x27;up&#x27;, &#x27;again&#x27;,\n",
       "                                             &#x27;yours&#x27;, &#x27;wasn&#x27;, &#x27;ve&#x27;, &#x27;a&#x27;, &#x27;each&#x27;,\n",
       "                                             &#x27;their&#x27;, &quot;you&#x27;d&quot;, &#x27;her&#x27;, &#x27;then&#x27;,\n",
       "                                             &#x27;wouldn&#x27;, &#x27;we&#x27;, &#x27;don&#x27;, &#x27;will&#x27;,\n",
       "                                             &#x27;an&#x27;, &#x27;those&#x27;, &#x27;until&#x27;, &#x27;than&#x27;,\n",
       "                                             &#x27;too&#x27;, &#x27;some&#x27;, &#x27;your&#x27;, &#x27;on&#x27;,\n",
       "                                             &#x27;such&#x27;, &#x27;ma&#x27;, &#x27;mustn&#x27;, &#x27;himself&#x27;,\n",
       "                                             &quot;won&#x27;t&quot;, ...],\n",
       "                                 sublinear_tf=True)),\n",
       "                (&#x27;model&#x27;,\n",
       "                 SGDClassifier(class_weight=&#x27;balanced&#x27;, loss=&#x27;modified_huber&#x27;,\n",
       "                               random_state=808))])</pre></div></div></div><div class=\"sk-serial\"><div class=\"sk-item\"><div class=\"sk-estimator sk-toggleable\"><input class=\"sk-toggleable__control sk-hidden--visually\" id=\"sk-estimator-id-8\" type=\"checkbox\" ><label for=\"sk-estimator-id-8\" class=\"sk-toggleable__label sk-toggleable__label-arrow\">TfidfVectorizer</label><div class=\"sk-toggleable__content\"><pre>TfidfVectorizer(max_df=0.8, min_df=2,\n",
       "                stop_words=[&quot;that&#x27;ll&quot;, &#x27;him&#x27;, &#x27;up&#x27;, &#x27;again&#x27;, &#x27;yours&#x27;, &#x27;wasn&#x27;,\n",
       "                            &#x27;ve&#x27;, &#x27;a&#x27;, &#x27;each&#x27;, &#x27;their&#x27;, &quot;you&#x27;d&quot;, &#x27;her&#x27;, &#x27;then&#x27;,\n",
       "                            &#x27;wouldn&#x27;, &#x27;we&#x27;, &#x27;don&#x27;, &#x27;will&#x27;, &#x27;an&#x27;, &#x27;those&#x27;,\n",
       "                            &#x27;until&#x27;, &#x27;than&#x27;, &#x27;too&#x27;, &#x27;some&#x27;, &#x27;your&#x27;, &#x27;on&#x27;,\n",
       "                            &#x27;such&#x27;, &#x27;ma&#x27;, &#x27;mustn&#x27;, &#x27;himself&#x27;, &quot;won&#x27;t&quot;, ...],\n",
       "                sublinear_tf=True)</pre></div></div></div><div class=\"sk-item\"><div class=\"sk-estimator sk-toggleable\"><input class=\"sk-toggleable__control sk-hidden--visually\" id=\"sk-estimator-id-9\" type=\"checkbox\" ><label for=\"sk-estimator-id-9\" class=\"sk-toggleable__label sk-toggleable__label-arrow\">SGDClassifier</label><div class=\"sk-toggleable__content\"><pre>SGDClassifier(class_weight=&#x27;balanced&#x27;, loss=&#x27;modified_huber&#x27;, random_state=808)</pre></div></div></div></div></div></div></div>"
      ],
      "text/plain": [
       "Pipeline(steps=[('tfidf',\n",
       "                 TfidfVectorizer(max_df=0.8, min_df=2,\n",
       "                                 stop_words=[\"that'll\", 'him', 'up', 'again',\n",
       "                                             'yours', 'wasn', 've', 'a', 'each',\n",
       "                                             'their', \"you'd\", 'her', 'then',\n",
       "                                             'wouldn', 'we', 'don', 'will',\n",
       "                                             'an', 'those', 'until', 'than',\n",
       "                                             'too', 'some', 'your', 'on',\n",
       "                                             'such', 'ma', 'mustn', 'himself',\n",
       "                                             \"won't\", ...],\n",
       "                                 sublinear_tf=True)),\n",
       "                ('model',\n",
       "                 SGDClassifier(class_weight='balanced', loss='modified_huber',\n",
       "                               random_state=808))])"
      ]
     },
     "metadata": {},
     "output_type": "display_data"
    },
    {
     "name": "stdout",
     "output_type": "stream",
     "text": [
      "Wall time: 9min 32s\n"
     ]
    }
   ],
   "source": [
    "%%time\n",
    "\n",
    "sgd_pipe =  Pipeline([('tfidf', TfidfVectorizer(min_df=2, max_df=0.8, stop_words=stopwords, sublinear_tf=True)), \n",
    "                     ('model', SGDClassifier(class_weight='balanced', random_state=RANDOM_STATE))])\n",
    "\n",
    "\n",
    "parameters = {'model__penalty': optuna.distributions.CategoricalDistribution(['l1', 'l2']),\n",
    "             'model__loss': optuna.distributions.CategoricalDistribution(['modified_huber', 'perceptron', 'epsilon_insensitive']),\n",
    "             'model__learning_rate': optuna.distributions.CategoricalDistribution(['optimal'])} #, 'invscaling' ,'adaptive'\n",
    "\n",
    "\n",
    "\n",
    "optuna_search_sgd = OptunaSearchCV(sgd_pipe, parameters, n_trials=50, cv=skf, n_jobs=-1, scoring='f1', random_state=RANDOM_STATE) \n",
    "optuna_search_sgd.fit(features_train, target_train)\n",
    "\n",
    "print('\\n')\n",
    "print(f'Лучшие параметры: {optuna_search_sgd.best_params_}')\n",
    "print(f'F1 на тренировочной выборке: {abs(optuna_search_sgd.best_score_)}')\n",
    "display(optuna_search_sgd.best_estimator_)\n",
    "ModelResults(optuna_search_sgd, 'SGDClassifier', results)"
   ]
  },
  {
   "attachments": {},
   "cell_type": "markdown",
   "metadata": {},
   "source": [
    "### LGBM"
   ]
  },
  {
   "cell_type": "code",
   "execution_count": 21,
   "metadata": {},
   "outputs": [
    {
     "name": "stderr",
     "output_type": "stream",
     "text": [
      "\u001b[32m[I 2023-02-21 23:10:57,601]\u001b[0m A new study created in memory with name: no-name-9a05de98-4779-43b2-877f-0a366cc258dc\u001b[0m\n",
      "\u001b[32m[I 2023-02-21 23:19:19,465]\u001b[0m Trial 10 finished with value: 0.6387893109604591 and parameters: {'model__boosting_type': 'gbdt', 'model__max_depth': 300, 'model__learning_rate': 0.0048261995341648215, 'model__n_estimators': 100}. Best is trial 10 with value: 0.6387893109604591.\u001b[0m\n",
      "\u001b[32m[I 2023-02-21 23:20:46,340]\u001b[0m Trial 13 finished with value: 0.6860240697146369 and parameters: {'model__boosting_type': 'gbdt', 'model__max_depth': 200, 'model__learning_rate': 0.028008850815355972, 'model__n_estimators': 100}. Best is trial 13 with value: 0.6860240697146369.\u001b[0m\n",
      "\u001b[32m[I 2023-02-21 23:20:50,903]\u001b[0m Trial 1 finished with value: 0.6641492131494035 and parameters: {'model__boosting_type': 'dart', 'model__max_depth': 250, 'model__learning_rate': 0.03657345463929404, 'model__n_estimators': 100}. Best is trial 13 with value: 0.6860240697146369.\u001b[0m\n",
      "\u001b[32m[I 2023-02-21 23:20:56,434]\u001b[0m Trial 11 finished with value: 0.6618449045228637 and parameters: {'model__boosting_type': 'dart', 'model__max_depth': 250, 'model__learning_rate': 0.030127073825461283, 'model__n_estimators': 100}. Best is trial 13 with value: 0.6860240697146369.\u001b[0m\n",
      "\u001b[32m[I 2023-02-21 23:20:59,370]\u001b[0m Trial 12 finished with value: 0.6754342840432046 and parameters: {'model__boosting_type': 'dart', 'model__max_depth': 250, 'model__learning_rate': 0.049553055583850605, 'model__n_estimators': 100}. Best is trial 13 with value: 0.6860240697146369.\u001b[0m\n",
      "\u001b[32m[I 2023-02-21 23:21:41,320]\u001b[0m Trial 3 finished with value: 0.6789207565499024 and parameters: {'model__boosting_type': 'gbdt', 'model__max_depth': 200, 'model__learning_rate': 0.016816062023832706, 'model__n_estimators': 150}. Best is trial 13 with value: 0.6860240697146369.\u001b[0m\n",
      "\u001b[32m[I 2023-02-21 23:22:54,398]\u001b[0m Trial 8 finished with value: 0.6913990506224087 and parameters: {'model__boosting_type': 'dart', 'model__max_depth': 250, 'model__learning_rate': 0.04558416202625085, 'model__n_estimators': 150}. Best is trial 8 with value: 0.6913990506224087.\u001b[0m\n",
      "\u001b[32m[I 2023-02-21 23:22:54,602]\u001b[0m Trial 4 finished with value: 0.6519012831217341 and parameters: {'model__boosting_type': 'dart', 'model__max_depth': 200, 'model__learning_rate': 0.011654274841555196, 'model__n_estimators': 150}. Best is trial 8 with value: 0.6913990506224087.\u001b[0m\n",
      "\u001b[32m[I 2023-02-21 23:23:02,058]\u001b[0m Trial 15 finished with value: 0.6306648830713346 and parameters: {'model__boosting_type': 'dart', 'model__max_depth': 250, 'model__learning_rate': 0.0011586426663847233, 'model__n_estimators': 150}. Best is trial 8 with value: 0.6913990506224087.\u001b[0m\n",
      "\u001b[32m[I 2023-02-21 23:23:31,705]\u001b[0m Trial 14 finished with value: 0.7286935706815151 and parameters: {'model__boosting_type': 'gbdt', 'model__max_depth': 250, 'model__learning_rate': 0.04525979068178659, 'model__n_estimators': 200}. Best is trial 14 with value: 0.7286935706815151.\u001b[0m\n",
      "\u001b[32m[I 2023-02-21 23:23:57,826]\u001b[0m Trial 2 finished with value: 0.6658712946294935 and parameters: {'model__boosting_type': 'dart', 'model__max_depth': 100, 'model__learning_rate': 0.019127667817635086, 'model__n_estimators': 200}. Best is trial 14 with value: 0.7286935706815151.\u001b[0m\n",
      "\u001b[32m[I 2023-02-21 23:24:58,666]\u001b[0m Trial 5 finished with value: 0.6638519792105148 and parameters: {'model__boosting_type': 'dart', 'model__max_depth': 150, 'model__learning_rate': 0.017742049814629124, 'model__n_estimators': 200}. Best is trial 14 with value: 0.7286935706815151.\u001b[0m\n",
      "\u001b[32m[I 2023-02-21 23:25:16,948]\u001b[0m Trial 7 finished with value: 0.6421791571484491 and parameters: {'model__boosting_type': 'gbdt', 'model__max_depth': 300, 'model__learning_rate': 0.0013209707020402106, 'model__n_estimators': 250}. Best is trial 14 with value: 0.7286935706815151.\u001b[0m\n",
      "\u001b[32m[I 2023-02-21 23:25:41,165]\u001b[0m Trial 9 finished with value: 0.655527066148248 and parameters: {'model__boosting_type': 'dart', 'model__max_depth': 150, 'model__learning_rate': 0.011226212265244373, 'model__n_estimators': 250}. Best is trial 14 with value: 0.7286935706815151.\u001b[0m\n",
      "\u001b[32m[I 2023-02-21 23:26:20,275]\u001b[0m Trial 0 finished with value: 0.6344538390121267 and parameters: {'model__boosting_type': 'gbdt', 'model__max_depth': 250, 'model__learning_rate': 0.0014474881973825353, 'model__n_estimators': 300}. Best is trial 14 with value: 0.7286935706815151.\u001b[0m\n",
      "\u001b[32m[I 2023-02-21 23:26:20,656]\u001b[0m Trial 6 finished with value: 0.7305214915972643 and parameters: {'model__boosting_type': 'gbdt', 'model__max_depth': 300, 'model__learning_rate': 0.03208451343698744, 'model__n_estimators': 300}. Best is trial 6 with value: 0.7305214915972643.\u001b[0m\n",
      "\u001b[32m[I 2023-02-21 23:27:10,697]\u001b[0m Trial 18 finished with value: 0.6870920875451704 and parameters: {'model__boosting_type': 'dart', 'model__max_depth': 100, 'model__learning_rate': 0.04396976248822428, 'model__n_estimators': 150}. Best is trial 6 with value: 0.7305214915972643.\u001b[0m\n",
      "\u001b[32m[I 2023-02-21 23:27:39,955]\u001b[0m Trial 19 finished with value: 0.6427086808388656 and parameters: {'model__boosting_type': 'gbdt', 'model__max_depth': 250, 'model__learning_rate': 0.0017988467785202817, 'model__n_estimators': 200}. Best is trial 6 with value: 0.7305214915972643.\u001b[0m\n",
      "\u001b[32m[I 2023-02-21 23:27:40,079]\u001b[0m Trial 17 finished with value: 0.6689083530813985 and parameters: {'model__boosting_type': 'dart', 'model__max_depth': 300, 'model__learning_rate': 0.021120475640304268, 'model__n_estimators': 200}. Best is trial 6 with value: 0.7305214915972643.\u001b[0m\n",
      "\u001b[32m[I 2023-02-21 23:28:06,139]\u001b[0m Trial 16 finished with value: 0.7220784011941381 and parameters: {'model__boosting_type': 'dart', 'model__max_depth': 300, 'model__learning_rate': 0.06907810708923413, 'model__n_estimators': 300}. Best is trial 6 with value: 0.7305214915972643.\u001b[0m\n"
     ]
    },
    {
     "name": "stdout",
     "output_type": "stream",
     "text": [
      "\n",
      "\n",
      "Лучшие параметры: {'model__boosting_type': 'gbdt', 'model__max_depth': 300, 'model__learning_rate': 0.03208451343698744, 'model__n_estimators': 300}\n",
      "F1 на тренировочной выборке: 0.7305214915972643\n"
     ]
    },
    {
     "data": {
      "text/html": [
       "<style>#sk-container-id-4 {color: black;background-color: white;}#sk-container-id-4 pre{padding: 0;}#sk-container-id-4 div.sk-toggleable {background-color: white;}#sk-container-id-4 label.sk-toggleable__label {cursor: pointer;display: block;width: 100%;margin-bottom: 0;padding: 0.3em;box-sizing: border-box;text-align: center;}#sk-container-id-4 label.sk-toggleable__label-arrow:before {content: \"▸\";float: left;margin-right: 0.25em;color: #696969;}#sk-container-id-4 label.sk-toggleable__label-arrow:hover:before {color: black;}#sk-container-id-4 div.sk-estimator:hover label.sk-toggleable__label-arrow:before {color: black;}#sk-container-id-4 div.sk-toggleable__content {max-height: 0;max-width: 0;overflow: hidden;text-align: left;background-color: #f0f8ff;}#sk-container-id-4 div.sk-toggleable__content pre {margin: 0.2em;color: black;border-radius: 0.25em;background-color: #f0f8ff;}#sk-container-id-4 input.sk-toggleable__control:checked~div.sk-toggleable__content {max-height: 200px;max-width: 100%;overflow: auto;}#sk-container-id-4 input.sk-toggleable__control:checked~label.sk-toggleable__label-arrow:before {content: \"▾\";}#sk-container-id-4 div.sk-estimator input.sk-toggleable__control:checked~label.sk-toggleable__label {background-color: #d4ebff;}#sk-container-id-4 div.sk-label input.sk-toggleable__control:checked~label.sk-toggleable__label {background-color: #d4ebff;}#sk-container-id-4 input.sk-hidden--visually {border: 0;clip: rect(1px 1px 1px 1px);clip: rect(1px, 1px, 1px, 1px);height: 1px;margin: -1px;overflow: hidden;padding: 0;position: absolute;width: 1px;}#sk-container-id-4 div.sk-estimator {font-family: monospace;background-color: #f0f8ff;border: 1px dotted black;border-radius: 0.25em;box-sizing: border-box;margin-bottom: 0.5em;}#sk-container-id-4 div.sk-estimator:hover {background-color: #d4ebff;}#sk-container-id-4 div.sk-parallel-item::after {content: \"\";width: 100%;border-bottom: 1px solid gray;flex-grow: 1;}#sk-container-id-4 div.sk-label:hover label.sk-toggleable__label {background-color: #d4ebff;}#sk-container-id-4 div.sk-serial::before {content: \"\";position: absolute;border-left: 1px solid gray;box-sizing: border-box;top: 0;bottom: 0;left: 50%;z-index: 0;}#sk-container-id-4 div.sk-serial {display: flex;flex-direction: column;align-items: center;background-color: white;padding-right: 0.2em;padding-left: 0.2em;position: relative;}#sk-container-id-4 div.sk-item {position: relative;z-index: 1;}#sk-container-id-4 div.sk-parallel {display: flex;align-items: stretch;justify-content: center;background-color: white;position: relative;}#sk-container-id-4 div.sk-item::before, #sk-container-id-4 div.sk-parallel-item::before {content: \"\";position: absolute;border-left: 1px solid gray;box-sizing: border-box;top: 0;bottom: 0;left: 50%;z-index: -1;}#sk-container-id-4 div.sk-parallel-item {display: flex;flex-direction: column;z-index: 1;position: relative;background-color: white;}#sk-container-id-4 div.sk-parallel-item:first-child::after {align-self: flex-end;width: 50%;}#sk-container-id-4 div.sk-parallel-item:last-child::after {align-self: flex-start;width: 50%;}#sk-container-id-4 div.sk-parallel-item:only-child::after {width: 0;}#sk-container-id-4 div.sk-dashed-wrapped {border: 1px dashed gray;margin: 0 0.4em 0.5em 0.4em;box-sizing: border-box;padding-bottom: 0.4em;background-color: white;}#sk-container-id-4 div.sk-label label {font-family: monospace;font-weight: bold;display: inline-block;line-height: 1.2em;}#sk-container-id-4 div.sk-label-container {text-align: center;}#sk-container-id-4 div.sk-container {/* jupyter's `normalize.less` sets `[hidden] { display: none; }` but bootstrap.min.css set `[hidden] { display: none !important; }` so we also need the `!important` here to be able to override the default hidden behavior on the sphinx rendered scikit-learn.org. See: https://github.com/scikit-learn/scikit-learn/issues/21755 */display: inline-block !important;position: relative;}#sk-container-id-4 div.sk-text-repr-fallback {display: none;}</style><div id=\"sk-container-id-4\" class=\"sk-top-container\"><div class=\"sk-text-repr-fallback\"><pre>Pipeline(steps=[(&#x27;tfidf&#x27;,\n",
       "                 TfidfVectorizer(max_df=0.8, min_df=2,\n",
       "                                 stop_words=[&quot;that&#x27;ll&quot;, &#x27;him&#x27;, &#x27;up&#x27;, &#x27;again&#x27;,\n",
       "                                             &#x27;yours&#x27;, &#x27;wasn&#x27;, &#x27;ve&#x27;, &#x27;a&#x27;, &#x27;each&#x27;,\n",
       "                                             &#x27;their&#x27;, &quot;you&#x27;d&quot;, &#x27;her&#x27;, &#x27;then&#x27;,\n",
       "                                             &#x27;wouldn&#x27;, &#x27;we&#x27;, &#x27;don&#x27;, &#x27;will&#x27;,\n",
       "                                             &#x27;an&#x27;, &#x27;those&#x27;, &#x27;until&#x27;, &#x27;than&#x27;,\n",
       "                                             &#x27;too&#x27;, &#x27;some&#x27;, &#x27;your&#x27;, &#x27;on&#x27;,\n",
       "                                             &#x27;such&#x27;, &#x27;ma&#x27;, &#x27;mustn&#x27;, &#x27;himself&#x27;,\n",
       "                                             &quot;won&#x27;t&quot;, ...],\n",
       "                                 sublinear_tf=True)),\n",
       "                (&#x27;model&#x27;,\n",
       "                 LGBMClassifier(class_weight=&#x27;balanced&#x27;,\n",
       "                                learning_rate=0.03208451343698744,\n",
       "                                max_depth=300, n_estimators=300,\n",
       "                                random_state=808))])</pre><b>In a Jupyter environment, please rerun this cell to show the HTML representation or trust the notebook. <br />On GitHub, the HTML representation is unable to render, please try loading this page with nbviewer.org.</b></div><div class=\"sk-container\" hidden><div class=\"sk-item sk-dashed-wrapped\"><div class=\"sk-label-container\"><div class=\"sk-label sk-toggleable\"><input class=\"sk-toggleable__control sk-hidden--visually\" id=\"sk-estimator-id-10\" type=\"checkbox\" ><label for=\"sk-estimator-id-10\" class=\"sk-toggleable__label sk-toggleable__label-arrow\">Pipeline</label><div class=\"sk-toggleable__content\"><pre>Pipeline(steps=[(&#x27;tfidf&#x27;,\n",
       "                 TfidfVectorizer(max_df=0.8, min_df=2,\n",
       "                                 stop_words=[&quot;that&#x27;ll&quot;, &#x27;him&#x27;, &#x27;up&#x27;, &#x27;again&#x27;,\n",
       "                                             &#x27;yours&#x27;, &#x27;wasn&#x27;, &#x27;ve&#x27;, &#x27;a&#x27;, &#x27;each&#x27;,\n",
       "                                             &#x27;their&#x27;, &quot;you&#x27;d&quot;, &#x27;her&#x27;, &#x27;then&#x27;,\n",
       "                                             &#x27;wouldn&#x27;, &#x27;we&#x27;, &#x27;don&#x27;, &#x27;will&#x27;,\n",
       "                                             &#x27;an&#x27;, &#x27;those&#x27;, &#x27;until&#x27;, &#x27;than&#x27;,\n",
       "                                             &#x27;too&#x27;, &#x27;some&#x27;, &#x27;your&#x27;, &#x27;on&#x27;,\n",
       "                                             &#x27;such&#x27;, &#x27;ma&#x27;, &#x27;mustn&#x27;, &#x27;himself&#x27;,\n",
       "                                             &quot;won&#x27;t&quot;, ...],\n",
       "                                 sublinear_tf=True)),\n",
       "                (&#x27;model&#x27;,\n",
       "                 LGBMClassifier(class_weight=&#x27;balanced&#x27;,\n",
       "                                learning_rate=0.03208451343698744,\n",
       "                                max_depth=300, n_estimators=300,\n",
       "                                random_state=808))])</pre></div></div></div><div class=\"sk-serial\"><div class=\"sk-item\"><div class=\"sk-estimator sk-toggleable\"><input class=\"sk-toggleable__control sk-hidden--visually\" id=\"sk-estimator-id-11\" type=\"checkbox\" ><label for=\"sk-estimator-id-11\" class=\"sk-toggleable__label sk-toggleable__label-arrow\">TfidfVectorizer</label><div class=\"sk-toggleable__content\"><pre>TfidfVectorizer(max_df=0.8, min_df=2,\n",
       "                stop_words=[&quot;that&#x27;ll&quot;, &#x27;him&#x27;, &#x27;up&#x27;, &#x27;again&#x27;, &#x27;yours&#x27;, &#x27;wasn&#x27;,\n",
       "                            &#x27;ve&#x27;, &#x27;a&#x27;, &#x27;each&#x27;, &#x27;their&#x27;, &quot;you&#x27;d&quot;, &#x27;her&#x27;, &#x27;then&#x27;,\n",
       "                            &#x27;wouldn&#x27;, &#x27;we&#x27;, &#x27;don&#x27;, &#x27;will&#x27;, &#x27;an&#x27;, &#x27;those&#x27;,\n",
       "                            &#x27;until&#x27;, &#x27;than&#x27;, &#x27;too&#x27;, &#x27;some&#x27;, &#x27;your&#x27;, &#x27;on&#x27;,\n",
       "                            &#x27;such&#x27;, &#x27;ma&#x27;, &#x27;mustn&#x27;, &#x27;himself&#x27;, &quot;won&#x27;t&quot;, ...],\n",
       "                sublinear_tf=True)</pre></div></div></div><div class=\"sk-item\"><div class=\"sk-estimator sk-toggleable\"><input class=\"sk-toggleable__control sk-hidden--visually\" id=\"sk-estimator-id-12\" type=\"checkbox\" ><label for=\"sk-estimator-id-12\" class=\"sk-toggleable__label sk-toggleable__label-arrow\">LGBMClassifier</label><div class=\"sk-toggleable__content\"><pre>LGBMClassifier(class_weight=&#x27;balanced&#x27;, learning_rate=0.03208451343698744,\n",
       "               max_depth=300, n_estimators=300, random_state=808)</pre></div></div></div></div></div></div></div>"
      ],
      "text/plain": [
       "Pipeline(steps=[('tfidf',\n",
       "                 TfidfVectorizer(max_df=0.8, min_df=2,\n",
       "                                 stop_words=[\"that'll\", 'him', 'up', 'again',\n",
       "                                             'yours', 'wasn', 've', 'a', 'each',\n",
       "                                             'their', \"you'd\", 'her', 'then',\n",
       "                                             'wouldn', 'we', 'don', 'will',\n",
       "                                             'an', 'those', 'until', 'than',\n",
       "                                             'too', 'some', 'your', 'on',\n",
       "                                             'such', 'ma', 'mustn', 'himself',\n",
       "                                             \"won't\", ...],\n",
       "                                 sublinear_tf=True)),\n",
       "                ('model',\n",
       "                 LGBMClassifier(class_weight='balanced',\n",
       "                                learning_rate=0.03208451343698744,\n",
       "                                max_depth=300, n_estimators=300,\n",
       "                                random_state=808))])"
      ]
     },
     "metadata": {},
     "output_type": "display_data"
    },
    {
     "name": "stdout",
     "output_type": "stream",
     "text": [
      "Wall time: 18min 16s\n"
     ]
    }
   ],
   "source": [
    "%%time\n",
    "\n",
    "lgbm_pipe =  Pipeline([('tfidf', TfidfVectorizer(min_df=2, max_df=0.8, stop_words=stopwords, sublinear_tf=True)), \n",
    "                     ('model', LGBMClassifier(class_weight='balanced', random_state=RANDOM_STATE))])\n",
    "\n",
    "lgbm_params = {\n",
    "    'model__boosting_type' : optuna.distributions.CategoricalDistribution(['gbdt', 'dart']),\n",
    "    'model__max_depth': optuna.distributions.IntDistribution(100, 300, step=50),\n",
    "    'model__learning_rate': optuna.distributions.FloatDistribution(0.001, 0.1, log=True),  \n",
    "    'model__n_estimators': optuna.distributions.IntDistribution(100, 300, step=50)\n",
    "}\n",
    "\n",
    "\n",
    "optuna_search_lgbm = OptunaSearchCV(lgbm_pipe, lgbm_params, n_trials=20, cv=skf, \n",
    "                                    n_jobs=-1, scoring='f1', random_state=RANDOM_STATE, timeout=600) \n",
    "optuna_search_lgbm.fit(features_train, target_train)\n",
    "\n",
    "#results['LightGBM'] = abs(optuna_search_lgbm.best_score_)\n",
    "\n",
    "print('\\n')\n",
    "print(f'Лучшие параметры: {optuna_search_lgbm.best_params_}')\n",
    "print(f'F1 на тренировочной выборке: {abs(optuna_search_lgbm.best_score_)}')\n",
    "display(optuna_search_lgbm.best_estimator_)\n",
    "ModelResults(optuna_search_lgbm, 'LightGBM', results)"
   ]
  },
  {
   "attachments": {},
   "cell_type": "markdown",
   "metadata": {},
   "source": [
    "### FastText"
   ]
  },
  {
   "attachments": {},
   "cell_type": "markdown",
   "metadata": {},
   "source": [
    "Воспользуемся библиотекой FastText от исследовательской лаборатории искусственного интеллекта Facebook. В отличие от векторизации TF-IDF, она использует word embeddings."
   ]
  },
  {
   "cell_type": "code",
   "execution_count": 22,
   "metadata": {
    "tags": []
   },
   "outputs": [
    {
     "name": "stdout",
     "output_type": "stream",
     "text": [
      "F1 на тренировочной выборке выборке: 0.9609309182813817\n",
      "Wall time: 22.3 s\n"
     ]
    }
   ],
   "source": [
    "%%time\n",
    "df = data.copy()\n",
    "\n",
    "# Очистим текст\n",
    "df['text'] = clean_text(df['text'])\n",
    "\n",
    "# Разобьем на тестовые и тренировочные данные\n",
    "splt, test = train_test_split(df[['toxic', 'text']], test_size=0.2)\n",
    "train, val = train_test_split(splt, test_size=0.25)\n",
    "\n",
    "# Сохраним целевой признак \n",
    "y_true_train = train['toxic']\n",
    "y_val_true = val['toxic']\n",
    "y_true_test = test['toxic']\n",
    "\n",
    "# Для обучения нужен файл, где целевой класс должен начинаться с __label__\n",
    "train['toxic'] = train['toxic'].apply(lambda x: '__label__' + str(x))\n",
    "\n",
    "train[['toxic', 'text']].to_csv('train_data.txt', header=False, index=False, sep=\"\\t\")\n",
    " \n",
    "# обучаем на 30 эпохах\n",
    "t_start_fit = perf_counter()\n",
    "model = fasttext.train_supervised(input='train_data.txt', epoch=30)\n",
    "t_stop_fit = perf_counter()\n",
    "\n",
    "# Predict на тренировочной выборке\n",
    "p_train = model.predict(train['text'].tolist(), k=1)\n",
    "\n",
    "# Валидационная выборка\n",
    "t_start_pred = perf_counter()\n",
    "p_val = model.predict(val['text'].tolist(), k=1)\n",
    "t_stop_pred = perf_counter()\n",
    "\n",
    "t_fit = t_stop_fit - t_start_fit\n",
    "t_pred = t_stop_pred - t_start_pred\n",
    "\n",
    "\n",
    "def p_unlabeled(p):\n",
    "    return [int(re.sub('__label__', '', val[0])) for val in p[0]]\n",
    "    \n",
    "#results['FastText'] = [None, f1_score(y_true_val, p_unlabeled(p_val)), t_fit, t_pred]  \n",
    "\n",
    "\n",
    "print(f'F1 на тренировочной выборке выборке: {f1_score(y_true_train, p_unlabeled(p_train))}')"
   ]
  },
  {
   "attachments": {},
   "cell_type": "markdown",
   "metadata": {},
   "source": [
    "Кросс-валидация для *FastText*."
   ]
  },
  {
   "cell_type": "code",
   "execution_count": 23,
   "metadata": {},
   "outputs": [
    {
     "name": "stdout",
     "output_type": "stream",
     "text": [
      "Wall time: 20.6 s\n"
     ]
    }
   ],
   "source": [
    "%%time\n",
    "scores = []\n",
    "sk = StratifiedKFold(n_splits=3)\n",
    "for train_idx, val_idx in sk.split(train['text'], train['toxic']): \n",
    "    X_train = train['text'].iloc[train_idx]\n",
    "    y_train = train['toxic'].iloc[train_idx]\n",
    "    \n",
    "    X_val = train['text'].iloc[val_idx]\n",
    "    y_val = train['toxic'].iloc[val_idx]\n",
    "    \n",
    "    pd.concat([y_train, X_train], axis=1).to_csv('Cross_val_data.txt', header=False, index=False, sep=\"\\t\")\n",
    "    \n",
    "    model_ft = fasttext.train_supervised(input='Cross_val_data.txt', epoch=30)\n",
    "\n",
    "    p = model_ft.predict(X_val.tolist(), k=1)\n",
    "    \n",
    "    p_labels_ = [int(re.sub('__label__', '', val[0])) for val in p[0]]\n",
    "    y_true_val = [int(re.sub('__label__', '', val)) for val in y_val]\n",
    "    \n",
    "    score = f1_score(y_true_val, p_labels_)\n",
    "    scores.append(score) \n",
    "cross_val_FT = np.mean(scores)"
   ]
  },
  {
   "cell_type": "code",
   "execution_count": 24,
   "metadata": {},
   "outputs": [
    {
     "name": "stdout",
     "output_type": "stream",
     "text": [
      "[0.7741719638675143, 0.7772205144798576, 0.7709973753280841]\n",
      "0.7741299512251519\n"
     ]
    }
   ],
   "source": [
    "print(scores)\n",
    "print(cross_val_FT)"
   ]
  },
  {
   "cell_type": "code",
   "execution_count": 25,
   "metadata": {},
   "outputs": [],
   "source": [
    "results['FastText'] = [cross_val_FT, f1_score(y_val_true, p_unlabeled(p_val)), t_fit, t_pred] "
   ]
  },
  {
   "attachments": {},
   "cell_type": "markdown",
   "metadata": {},
   "source": [
    "### Результаты работы моделей"
   ]
  },
  {
   "cell_type": "code",
   "execution_count": 26,
   "metadata": {},
   "outputs": [
    {
     "data": {
      "text/html": [
       "<style type=\"text/css\">\n",
       "#T_81fd1_row0_col0, #T_81fd1_row0_col3, #T_81fd1_row1_col0, #T_81fd1_row1_col1, #T_81fd1_row1_col2, #T_81fd1_row1_col3, #T_81fd1_row3_col4 {\n",
       "  background-color: #fff7fb;\n",
       "  color: #000000;\n",
       "}\n",
       "#T_81fd1_row0_col1, #T_81fd1_row0_col2 {\n",
       "  background-color: #fef6fb;\n",
       "  color: #000000;\n",
       "}\n",
       "#T_81fd1_row0_col4, #T_81fd1_row1_col4 {\n",
       "  background-color: #f9f2f8;\n",
       "  color: #000000;\n",
       "}\n",
       "#T_81fd1_row2_col0, #T_81fd1_row2_col1, #T_81fd1_row2_col2, #T_81fd1_row2_col3, #T_81fd1_row2_col4 {\n",
       "  background-color: #023858;\n",
       "  color: #f1f1f1;\n",
       "}\n",
       "#T_81fd1_row3_col0 {\n",
       "  background-color: #f7f0f7;\n",
       "  color: #000000;\n",
       "}\n",
       "#T_81fd1_row3_col1 {\n",
       "  background-color: #ede7f2;\n",
       "  color: #000000;\n",
       "}\n",
       "#T_81fd1_row3_col2 {\n",
       "  background-color: #dddbec;\n",
       "  color: #000000;\n",
       "}\n",
       "#T_81fd1_row3_col3 {\n",
       "  background-color: #fdf5fa;\n",
       "  color: #000000;\n",
       "}\n",
       "</style>\n",
       "<table id=\"T_81fd1\">\n",
       "  <thead>\n",
       "    <tr>\n",
       "      <th class=\"blank level0\" >&nbsp;</th>\n",
       "      <th id=\"T_81fd1_level0_col0\" class=\"col_heading level0 col0\" >LogisticRegression</th>\n",
       "      <th id=\"T_81fd1_level0_col1\" class=\"col_heading level0 col1\" >SVC</th>\n",
       "      <th id=\"T_81fd1_level0_col2\" class=\"col_heading level0 col2\" >SGDClassifier</th>\n",
       "      <th id=\"T_81fd1_level0_col3\" class=\"col_heading level0 col3\" >LightGBM</th>\n",
       "      <th id=\"T_81fd1_level0_col4\" class=\"col_heading level0 col4\" >FastText</th>\n",
       "    </tr>\n",
       "  </thead>\n",
       "  <tbody>\n",
       "    <tr>\n",
       "      <th id=\"T_81fd1_level0_row0\" class=\"row_heading level0 row0\" >F1_cross_val</th>\n",
       "      <td id=\"T_81fd1_row0_col0\" class=\"data row0 col0\" >0.760681</td>\n",
       "      <td id=\"T_81fd1_row0_col1\" class=\"data row0 col1\" >0.753540</td>\n",
       "      <td id=\"T_81fd1_row0_col2\" class=\"data row0 col2\" >0.748272</td>\n",
       "      <td id=\"T_81fd1_row0_col3\" class=\"data row0 col3\" >0.730521</td>\n",
       "      <td id=\"T_81fd1_row0_col4\" class=\"data row0 col4\" >0.774130</td>\n",
       "    </tr>\n",
       "    <tr>\n",
       "      <th id=\"T_81fd1_level0_row1\" class=\"row_heading level0 row1\" >F1_Valid</th>\n",
       "      <td id=\"T_81fd1_row1_col0\" class=\"data row1 col0\" >0.734281</td>\n",
       "      <td id=\"T_81fd1_row1_col1\" class=\"data row1 col1\" >0.737784</td>\n",
       "      <td id=\"T_81fd1_row1_col2\" class=\"data row1 col2\" >0.727874</td>\n",
       "      <td id=\"T_81fd1_row1_col3\" class=\"data row1 col3\" >0.727908</td>\n",
       "      <td id=\"T_81fd1_row1_col4\" class=\"data row1 col4\" >0.785294</td>\n",
       "    </tr>\n",
       "    <tr>\n",
       "      <th id=\"T_81fd1_level0_row2\" class=\"row_heading level0 row2\" >Fit time,s</th>\n",
       "      <td id=\"T_81fd1_row2_col0\" class=\"data row2 col0\" >8.726652</td>\n",
       "      <td id=\"T_81fd1_row2_col1\" class=\"data row2 col1\" >4.389654</td>\n",
       "      <td id=\"T_81fd1_row2_col2\" class=\"data row2 col2\" >4.309867</td>\n",
       "      <td id=\"T_81fd1_row2_col3\" class=\"data row2 col3\" >32.943073</td>\n",
       "      <td id=\"T_81fd1_row2_col4\" class=\"data row2 col4\" >8.673178</td>\n",
       "    </tr>\n",
       "    <tr>\n",
       "      <th id=\"T_81fd1_level0_row3\" class=\"row_heading level0 row3\" >Prediction time,s</th>\n",
       "      <td id=\"T_81fd1_row3_col0\" class=\"data row3 col0\" >1.160367</td>\n",
       "      <td id=\"T_81fd1_row3_col1\" class=\"data row3 col1\" >1.188096</td>\n",
       "      <td id=\"T_81fd1_row3_col2\" class=\"data row3 col2\" >1.416336</td>\n",
       "      <td id=\"T_81fd1_row3_col3\" class=\"data row3 col3\" >1.285753</td>\n",
       "      <td id=\"T_81fd1_row3_col4\" class=\"data row3 col4\" >0.436117</td>\n",
       "    </tr>\n",
       "  </tbody>\n",
       "</table>\n"
      ],
      "text/plain": [
       "<pandas.io.formats.style.Styler at 0x2b4293060a0>"
      ]
     },
     "execution_count": 26,
     "metadata": {},
     "output_type": "execute_result"
    }
   ],
   "source": [
    "res_df = pd.DataFrame(results, index = ['F1_cross_val','F1_Valid', 'Fit time,s', 'Prediction time,s'], columns = results.keys() )\n",
    "res_df.style.background_gradient()"
   ]
  },
  {
   "cell_type": "code",
   "execution_count": 27,
   "metadata": {},
   "outputs": [
    {
     "data": {
      "image/png": "[encoded data removed]",
      "text/plain": [
       "<Figure size 1296x432 with 2 Axes>"
      ]
     },
     "metadata": {
      "needs_background": "light"
     },
     "output_type": "display_data"
    }
   ],
   "source": [
    "plt.figure(figsize=(18,6))\n",
    "sns.heatmap(res_df, annot=True, fmt = '.4f')\n",
    "plt.title('Полученные результаты для различных моделей')\n",
    "plt.show()"
   ]
  },
  {
   "attachments": {},
   "cell_type": "markdown",
   "metadata": {},
   "source": [
    "**Вывод:**\n",
    "* Библиотека FastText наилуший результат по метрике F1 на кросс-валидации и валидационной выборке."
   ]
  },
  {
   "attachments": {},
   "cell_type": "markdown",
   "metadata": {},
   "source": [
    "### Тестирование"
   ]
  },
  {
   "cell_type": "code",
   "execution_count": 28,
   "metadata": {},
   "outputs": [
    {
     "name": "stdout",
     "output_type": "stream",
     "text": [
      "F1 на тестовой выборке: 0.7881649354737174\n",
      "Wall time: 530 ms\n"
     ]
    }
   ],
   "source": [
    "%%time\n",
    "p = model.predict(test['text'].tolist(), k=1)\n",
    "    \n",
    "print(f'F1 на тестовой выборке: {f1_score(y_true_test, p_unlabeled(p))}')"
   ]
  },
  {
   "attachments": {},
   "cell_type": "markdown",
   "metadata": {},
   "source": [
    "**Вывод:** Полученная метрика на тестовой выборке удовлетворяет условиям технического задания."
   ]
  },
  {
   "attachments": {},
   "cell_type": "markdown",
   "metadata": {},
   "source": [
    "## Выводы"
   ]
  },
  {
   "attachments": {},
   "cell_type": "markdown",
   "metadata": {},
   "source": [
    "- Рассмотрен датасет комментариев в интернет-магазине с разметкой о токсичности правок.Проведена очистка текста от ненужных символов, пунктуации, чисел и лемманизация слов в тексте.Создана матрица TF-IDF признаков.\n",
    "- Обучены модели для классификации комментариев на позитивные и негативные.\n",
    "- Рассмотрена библиотека FastText, использующая word embeddings.\n",
    "- FastText показала наилуший результат, удовлетворяющий условиям ТЗ по метрике F1."
   ]
  }
 ],
 "metadata": {
  "ExecuteTimeLog": [
   {
    "duration": 52,
    "start_time": "2023-02-12T14:59:16.841Z"
   },
   {
    "duration": 373,
    "start_time": "2023-02-12T14:59:18.952Z"
   },
   {
    "duration": 64,
    "start_time": "2023-02-12T14:59:20.436Z"
   },
   {
    "duration": 40,
    "start_time": "2023-02-12T14:59:28.807Z"
   },
   {
    "duration": 3305,
    "start_time": "2023-02-12T14:59:41.600Z"
   },
   {
    "duration": 10,
    "start_time": "2023-02-12T14:59:49.443Z"
   },
   {
    "duration": 34,
    "start_time": "2023-02-12T14:59:54.556Z"
   },
   {
    "duration": 12,
    "start_time": "2023-02-12T15:00:52.616Z"
   },
   {
    "duration": 522,
    "start_time": "2023-02-12T15:01:36.172Z"
   },
   {
    "duration": 45,
    "start_time": "2023-02-12T15:02:27.478Z"
   },
   {
    "duration": 6,
    "start_time": "2023-02-12T15:02:30.388Z"
   },
   {
    "duration": 346,
    "start_time": "2023-02-12T15:02:34.778Z"
   },
   {
    "duration": 729,
    "start_time": "2023-02-12T15:02:35.126Z"
   },
   {
    "duration": 27,
    "start_time": "2023-02-12T15:02:35.856Z"
   },
   {
    "duration": 13,
    "start_time": "2023-02-12T15:02:35.886Z"
   },
   {
    "duration": 358,
    "start_time": "2023-02-12T15:02:35.900Z"
   },
   {
    "duration": 3,
    "start_time": "2023-02-12T15:05:16.995Z"
   },
   {
    "duration": 109,
    "start_time": "2023-02-12T15:05:18.953Z"
   },
   {
    "duration": 133,
    "start_time": "2023-02-12T15:05:53.125Z"
   },
   {
    "duration": 112,
    "start_time": "2023-02-12T15:06:00.445Z"
   },
   {
    "duration": 115,
    "start_time": "2023-02-12T15:06:07.801Z"
   },
   {
    "duration": 162,
    "start_time": "2023-02-12T15:06:11.929Z"
   },
   {
    "duration": 102,
    "start_time": "2023-02-12T15:06:15.734Z"
   },
   {
    "duration": 884,
    "start_time": "2023-02-12T16:16:08.335Z"
   },
   {
    "duration": 35,
    "start_time": "2023-02-12T16:16:10.784Z"
   },
   {
    "duration": 8,
    "start_time": "2023-02-12T16:16:12.573Z"
   },
   {
    "duration": 4141,
    "start_time": "2023-02-14T14:15:49.661Z"
   },
   {
    "duration": 4,
    "start_time": "2023-02-14T14:16:01.668Z"
   },
   {
    "duration": 2662,
    "start_time": "2023-02-14T14:16:09.665Z"
   },
   {
    "duration": 41,
    "start_time": "2023-02-14T14:16:12.330Z"
   },
   {
    "duration": 11,
    "start_time": "2023-02-14T14:16:14.107Z"
   },
   {
    "duration": 736,
    "start_time": "2023-02-14T14:16:31.584Z"
   },
   {
    "duration": 10,
    "start_time": "2023-02-14T14:16:52.424Z"
   },
   {
    "duration": 279,
    "start_time": "2023-02-14T14:20:13.220Z"
   },
   {
    "duration": 1288,
    "start_time": "2023-02-15T09:31:49.619Z"
   },
   {
    "duration": 58,
    "start_time": "2023-02-16T08:34:54.491Z"
   },
   {
    "duration": 23213,
    "start_time": "2023-02-16T08:35:05.267Z"
   },
   {
    "duration": 1144,
    "start_time": "2023-02-16T08:35:41.525Z"
   },
   {
    "duration": 94,
    "start_time": "2023-02-16T08:36:56.931Z"
   },
   {
    "duration": 24,
    "start_time": "2023-02-16T08:37:03.002Z"
   },
   {
    "duration": 2079,
    "start_time": "2023-02-16T08:37:05.361Z"
   },
   {
    "duration": 3803,
    "start_time": "2023-02-16T08:37:09.772Z"
   },
   {
    "duration": 7483,
    "start_time": "2023-02-16T08:37:19.266Z"
   },
   {
    "duration": 3,
    "start_time": "2023-02-16T08:52:29.379Z"
   },
   {
    "duration": 79,
    "start_time": "2023-02-16T08:52:58.570Z"
   },
   {
    "duration": 4,
    "start_time": "2023-02-16T08:54:07.227Z"
   },
   {
    "duration": 208,
    "start_time": "2023-02-16T08:54:08.759Z"
   },
   {
    "duration": 4,
    "start_time": "2023-02-16T08:54:13.343Z"
   },
   {
    "duration": 206,
    "start_time": "2023-02-16T08:54:22.102Z"
   },
   {
    "duration": 17,
    "start_time": "2023-02-16T08:57:22.887Z"
   },
   {
    "duration": 4,
    "start_time": "2023-02-16T08:57:28.819Z"
   },
   {
    "duration": 17,
    "start_time": "2023-02-16T08:57:30.500Z"
   },
   {
    "duration": 4,
    "start_time": "2023-02-16T08:57:36.183Z"
   },
   {
    "duration": 16,
    "start_time": "2023-02-16T08:57:38.251Z"
   },
   {
    "duration": 209,
    "start_time": "2023-02-16T08:57:46.946Z"
   },
   {
    "duration": 9205,
    "start_time": "2023-02-16T09:07:52.903Z"
   },
   {
    "duration": 716,
    "start_time": "2023-02-16T09:55:41.945Z"
   },
   {
    "duration": 45,
    "start_time": "2023-02-16T10:17:38.139Z"
   },
   {
    "duration": 12273,
    "start_time": "2023-02-16T10:17:45.235Z"
   },
   {
    "duration": 39602,
    "start_time": "2023-02-16T10:19:27.109Z"
   },
   {
    "duration": 244,
    "start_time": "2023-02-16T10:24:30.736Z"
   },
   {
    "duration": 8,
    "start_time": "2023-02-16T10:24:56.535Z"
   },
   {
    "duration": 213,
    "start_time": "2023-02-16T10:24:58.343Z"
   },
   {
    "duration": 7,
    "start_time": "2023-02-16T10:25:41.324Z"
   },
   {
    "duration": 295,
    "start_time": "2023-02-16T10:25:42.934Z"
   },
   {
    "duration": 10,
    "start_time": "2023-02-16T10:26:40.741Z"
   },
   {
    "duration": 2933,
    "start_time": "2023-02-16T10:26:41.957Z"
   },
   {
    "duration": 4,
    "start_time": "2023-02-16T10:27:11.675Z"
   },
   {
    "duration": 15370,
    "start_time": "2023-02-16T10:27:13.253Z"
   },
   {
    "duration": 5,
    "start_time": "2023-02-16T10:27:38.752Z"
   },
   {
    "duration": 129,
    "start_time": "2023-02-16T10:28:18.537Z"
   },
   {
    "duration": 17,
    "start_time": "2023-02-16T10:28:34.391Z"
   },
   {
    "duration": 5,
    "start_time": "2023-02-16T10:28:42.253Z"
   },
   {
    "duration": 4,
    "start_time": "2023-02-16T10:28:51.663Z"
   },
   {
    "duration": 10,
    "start_time": "2023-02-16T10:29:27.844Z"
   },
   {
    "duration": 231,
    "start_time": "2023-02-16T10:29:31.944Z"
   },
   {
    "duration": 2500,
    "start_time": "2023-02-16T11:06:26.139Z"
   },
   {
    "duration": 1029,
    "start_time": "2023-02-16T11:06:28.641Z"
   },
   {
    "duration": 3109,
    "start_time": "2023-02-16T11:06:29.672Z"
   },
   {
    "duration": 1064,
    "start_time": "2023-02-16T11:06:32.783Z"
   },
   {
    "duration": 38,
    "start_time": "2023-02-16T11:06:33.852Z"
   },
   {
    "duration": 72,
    "start_time": "2023-02-16T11:06:33.892Z"
   },
   {
    "duration": 8,
    "start_time": "2023-02-16T11:06:33.966Z"
   },
   {
    "duration": 4,
    "start_time": "2023-02-16T11:06:33.976Z"
   },
   {
    "duration": 437,
    "start_time": "2023-02-16T11:06:33.981Z"
   },
   {
    "duration": 0,
    "start_time": "2023-02-16T11:06:34.431Z"
   },
   {
    "duration": 0,
    "start_time": "2023-02-16T11:06:34.432Z"
   },
   {
    "duration": 0,
    "start_time": "2023-02-16T11:06:34.432Z"
   },
   {
    "duration": 4,
    "start_time": "2023-02-16T11:06:44.483Z"
   },
   {
    "duration": 9,
    "start_time": "2023-02-16T11:26:55.728Z"
   },
   {
    "duration": 13995,
    "start_time": "2023-02-16T11:27:00.544Z"
   },
   {
    "duration": 8,
    "start_time": "2023-02-16T12:03:19.351Z"
   },
   {
    "duration": 14767,
    "start_time": "2023-02-16T12:03:20.764Z"
   },
   {
    "duration": 14,
    "start_time": "2023-02-16T12:05:22.156Z"
   },
   {
    "duration": 224,
    "start_time": "2023-02-16T12:06:10.162Z"
   },
   {
    "duration": 5012,
    "start_time": "2023-02-16T12:06:17.065Z"
   },
   {
    "duration": 3,
    "start_time": "2023-02-16T12:34:19.774Z"
   },
   {
    "duration": 15897,
    "start_time": "2023-02-16T12:34:21.250Z"
   },
   {
    "duration": 5,
    "start_time": "2023-02-16T12:35:33.892Z"
   },
   {
    "duration": 15318,
    "start_time": "2023-02-16T12:35:35.285Z"
   },
   {
    "duration": 5,
    "start_time": "2023-02-16T12:37:08.788Z"
   },
   {
    "duration": 441,
    "start_time": "2023-02-16T12:37:09.950Z"
   },
   {
    "duration": 11,
    "start_time": "2023-02-16T12:37:43.140Z"
   },
   {
    "duration": 15502,
    "start_time": "2023-02-16T12:37:45.056Z"
   },
   {
    "duration": 11,
    "start_time": "2023-02-16T12:46:39.265Z"
   },
   {
    "duration": 16519,
    "start_time": "2023-02-16T12:46:41.164Z"
   },
   {
    "duration": 4,
    "start_time": "2023-02-16T12:47:51.660Z"
   },
   {
    "duration": 15880,
    "start_time": "2023-02-16T12:47:53.436Z"
   },
   {
    "duration": 7,
    "start_time": "2023-02-16T12:48:21.532Z"
   },
   {
    "duration": 16325,
    "start_time": "2023-02-16T12:48:23.161Z"
   },
   {
    "duration": 12,
    "start_time": "2023-02-16T12:48:48.859Z"
   },
   {
    "duration": 16577,
    "start_time": "2023-02-16T12:48:52.298Z"
   },
   {
    "duration": 4,
    "start_time": "2023-02-16T12:50:32.301Z"
   },
   {
    "duration": 17875,
    "start_time": "2023-02-16T12:50:38.476Z"
   },
   {
    "duration": 13303,
    "start_time": "2023-02-16T13:01:36.393Z"
   },
   {
    "duration": 3,
    "start_time": "2023-02-16T13:07:47.840Z"
   },
   {
    "duration": 274,
    "start_time": "2023-02-16T13:36:18.929Z"
   },
   {
    "duration": 13,
    "start_time": "2023-02-16T13:37:03.672Z"
   },
   {
    "duration": 1784,
    "start_time": "2023-02-16T13:37:20.818Z"
   },
   {
    "duration": 4,
    "start_time": "2023-02-16T13:37:51.101Z"
   },
   {
    "duration": 7,
    "start_time": "2023-02-16T13:38:29.694Z"
   },
   {
    "duration": 9,
    "start_time": "2023-02-16T13:49:05.293Z"
   },
   {
    "duration": 18,
    "start_time": "2023-02-16T13:51:33.560Z"
   },
   {
    "duration": 346,
    "start_time": "2023-02-16T13:51:43.281Z"
   },
   {
    "duration": 20,
    "start_time": "2023-02-16T13:52:05.336Z"
   },
   {
    "duration": 8,
    "start_time": "2023-02-16T13:52:48.169Z"
   },
   {
    "duration": 28,
    "start_time": "2023-02-16T13:53:55.403Z"
   },
   {
    "duration": 3,
    "start_time": "2023-02-16T13:58:38.396Z"
   },
   {
    "duration": 3,
    "start_time": "2023-02-16T14:02:44.793Z"
   },
   {
    "duration": 9,
    "start_time": "2023-02-16T14:02:47.447Z"
   },
   {
    "duration": 7,
    "start_time": "2023-02-16T14:02:50.040Z"
   },
   {
    "duration": 29,
    "start_time": "2023-02-16T14:06:32.543Z"
   },
   {
    "duration": 12,
    "start_time": "2023-02-16T14:06:48.934Z"
   },
   {
    "duration": 10,
    "start_time": "2023-02-16T14:07:13.950Z"
   },
   {
    "duration": 29,
    "start_time": "2023-02-16T14:08:23.910Z"
   },
   {
    "duration": 28,
    "start_time": "2023-02-16T14:08:31.702Z"
   },
   {
    "duration": 9,
    "start_time": "2023-02-16T14:08:41.759Z"
   },
   {
    "duration": 10,
    "start_time": "2023-02-16T14:09:19.896Z"
   },
   {
    "duration": 24,
    "start_time": "2023-02-16T14:10:20.447Z"
   },
   {
    "duration": 13,
    "start_time": "2023-02-16T14:10:26.585Z"
   },
   {
    "duration": 57,
    "start_time": "2023-02-16T14:10:30.707Z"
   },
   {
    "duration": 10,
    "start_time": "2023-02-16T14:13:15.460Z"
   },
   {
    "duration": 62,
    "start_time": "2023-02-16T14:14:39.703Z"
   },
   {
    "duration": 32,
    "start_time": "2023-02-16T14:15:03.795Z"
   },
   {
    "duration": 24,
    "start_time": "2023-02-16T14:15:32.563Z"
   },
   {
    "duration": 48,
    "start_time": "2023-02-16T14:15:50.321Z"
   },
   {
    "duration": 21,
    "start_time": "2023-02-16T14:15:58.675Z"
   },
   {
    "duration": 1489,
    "start_time": "2023-02-16T14:19:17.658Z"
   },
   {
    "duration": 2310,
    "start_time": "2023-02-16T14:19:30.907Z"
   },
   {
    "duration": 2164,
    "start_time": "2023-02-16T14:20:08.716Z"
   },
   {
    "duration": 2000,
    "start_time": "2023-02-16T14:20:21.992Z"
   },
   {
    "duration": 625,
    "start_time": "2023-02-16T14:20:34.308Z"
   },
   {
    "duration": 4375,
    "start_time": "2023-02-16T14:21:17.192Z"
   },
   {
    "duration": 2788,
    "start_time": "2023-02-16T14:21:29.476Z"
   },
   {
    "duration": 1715,
    "start_time": "2023-02-16T14:21:41.385Z"
   },
   {
    "duration": 612,
    "start_time": "2023-02-16T14:21:57.158Z"
   },
   {
    "duration": 761,
    "start_time": "2023-02-16T14:22:56.640Z"
   },
   {
    "duration": 725,
    "start_time": "2023-02-16T14:23:01.763Z"
   },
   {
    "duration": 561,
    "start_time": "2023-02-16T14:23:10.640Z"
   },
   {
    "duration": 23,
    "start_time": "2023-02-16T14:24:28.260Z"
   },
   {
    "duration": 653,
    "start_time": "2023-02-16T14:24:41.990Z"
   },
   {
    "duration": 22,
    "start_time": "2023-02-16T14:29:11.866Z"
   },
   {
    "duration": 81,
    "start_time": "2023-02-16T14:31:01.795Z"
   },
   {
    "duration": 9,
    "start_time": "2023-02-16T14:35:15.462Z"
   },
   {
    "duration": 2521,
    "start_time": "2023-02-16T14:35:28.648Z"
   },
   {
    "duration": 1119,
    "start_time": "2023-02-16T14:35:31.171Z"
   },
   {
    "duration": 1107,
    "start_time": "2023-02-16T14:35:32.292Z"
   },
   {
    "duration": 2450,
    "start_time": "2023-02-16T14:35:33.401Z"
   },
   {
    "duration": 997,
    "start_time": "2023-02-16T14:35:35.852Z"
   },
   {
    "duration": 53,
    "start_time": "2023-02-16T14:35:36.866Z"
   },
   {
    "duration": 60,
    "start_time": "2023-02-16T14:35:36.928Z"
   },
   {
    "duration": 12,
    "start_time": "2023-02-16T14:35:36.990Z"
   },
   {
    "duration": 5,
    "start_time": "2023-02-16T14:35:37.004Z"
   },
   {
    "duration": 14853,
    "start_time": "2023-02-16T14:35:37.034Z"
   },
   {
    "duration": 14575,
    "start_time": "2023-02-16T14:35:51.888Z"
   },
   {
    "duration": 24,
    "start_time": "2023-02-16T14:36:06.548Z"
   },
   {
    "duration": 57069,
    "start_time": "2023-02-16T14:36:06.574Z"
   },
   {
    "duration": 0,
    "start_time": "2023-02-16T14:37:03.644Z"
   },
   {
    "duration": 0,
    "start_time": "2023-02-16T14:37:03.645Z"
   },
   {
    "duration": 0,
    "start_time": "2023-02-16T14:37:03.646Z"
   },
   {
    "duration": 0,
    "start_time": "2023-02-16T14:37:03.646Z"
   },
   {
    "duration": 0,
    "start_time": "2023-02-16T14:37:03.649Z"
   },
   {
    "duration": 0,
    "start_time": "2023-02-16T14:37:03.651Z"
   },
   {
    "duration": 23361,
    "start_time": "2023-02-16T14:38:03.047Z"
   },
   {
    "duration": 49511,
    "start_time": "2023-02-16T14:38:29.295Z"
   },
   {
    "duration": 23,
    "start_time": "2023-02-16T14:39:43.023Z"
   },
   {
    "duration": 17108,
    "start_time": "2023-02-16T14:39:52.089Z"
   },
   {
    "duration": 5,
    "start_time": "2023-02-16T14:40:26.088Z"
   },
   {
    "duration": 16,
    "start_time": "2023-02-16T14:40:39.532Z"
   },
   {
    "duration": 31086,
    "start_time": "2023-02-16T16:11:45.336Z"
   },
   {
    "duration": 1405,
    "start_time": "2023-02-16T16:12:16.425Z"
   },
   {
    "duration": 1158,
    "start_time": "2023-02-16T16:12:17.831Z"
   },
   {
    "duration": 2176,
    "start_time": "2023-02-16T16:12:18.991Z"
   },
   {
    "duration": 3547,
    "start_time": "2023-02-16T16:12:21.169Z"
   },
   {
    "duration": 51,
    "start_time": "2023-02-16T16:12:24.718Z"
   },
   {
    "duration": 11,
    "start_time": "2023-02-16T16:12:24.770Z"
   },
   {
    "duration": 17,
    "start_time": "2023-02-16T16:12:24.782Z"
   },
   {
    "duration": 4,
    "start_time": "2023-02-16T16:12:24.800Z"
   },
   {
    "duration": 12604,
    "start_time": "2023-02-16T16:12:24.805Z"
   },
   {
    "duration": 12653,
    "start_time": "2023-02-16T16:12:37.411Z"
   },
   {
    "duration": 3,
    "start_time": "2023-02-16T16:12:50.066Z"
   },
   {
    "duration": 388,
    "start_time": "2023-02-16T16:12:50.071Z"
   },
   {
    "duration": 29,
    "start_time": "2023-02-16T16:12:50.461Z"
   },
   {
    "duration": 219,
    "start_time": "2023-02-16T16:12:50.492Z"
   },
   {
    "duration": 0,
    "start_time": "2023-02-16T16:12:50.713Z"
   },
   {
    "duration": 0,
    "start_time": "2023-02-16T16:12:50.714Z"
   },
   {
    "duration": 0,
    "start_time": "2023-02-16T16:12:50.716Z"
   },
   {
    "duration": 0,
    "start_time": "2023-02-16T16:12:50.718Z"
   },
   {
    "duration": 0,
    "start_time": "2023-02-16T16:12:50.719Z"
   },
   {
    "duration": 19008,
    "start_time": "2023-02-16T16:13:54.249Z"
   },
   {
    "duration": 9,
    "start_time": "2023-02-16T16:35:38.906Z"
   },
   {
    "duration": 8,
    "start_time": "2023-02-16T16:36:03.224Z"
   },
   {
    "duration": 21,
    "start_time": "2023-02-16T16:36:03.931Z"
   },
   {
    "duration": 7,
    "start_time": "2023-02-16T16:36:06.249Z"
   },
   {
    "duration": 10,
    "start_time": "2023-02-16T16:37:40.487Z"
   },
   {
    "duration": 7,
    "start_time": "2023-02-16T16:37:42.304Z"
   },
   {
    "duration": 131,
    "start_time": "2023-02-16T16:38:28.923Z"
   },
   {
    "duration": 6,
    "start_time": "2023-02-16T16:38:45.731Z"
   },
   {
    "duration": 10,
    "start_time": "2023-02-16T16:39:24.862Z"
   },
   {
    "duration": 6,
    "start_time": "2023-02-16T16:39:26.292Z"
   },
   {
    "duration": 14,
    "start_time": "2023-02-16T16:40:46.589Z"
   },
   {
    "duration": 1642,
    "start_time": "2023-02-16T16:40:49.000Z"
   },
   {
    "duration": 26728,
    "start_time": "2023-02-17T08:03:41.847Z"
   },
   {
    "duration": 1797,
    "start_time": "2023-02-17T08:04:08.578Z"
   },
   {
    "duration": 1092,
    "start_time": "2023-02-17T08:04:10.377Z"
   },
   {
    "duration": 3454,
    "start_time": "2023-02-17T08:04:11.472Z"
   },
   {
    "duration": 3047,
    "start_time": "2023-02-17T08:04:14.932Z"
   },
   {
    "duration": 51,
    "start_time": "2023-02-17T08:04:17.981Z"
   },
   {
    "duration": 19,
    "start_time": "2023-02-17T08:04:18.035Z"
   },
   {
    "duration": 17,
    "start_time": "2023-02-17T08:04:18.056Z"
   },
   {
    "duration": 4,
    "start_time": "2023-02-17T08:04:18.074Z"
   },
   {
    "duration": 13577,
    "start_time": "2023-02-17T08:04:18.080Z"
   },
   {
    "duration": 14350,
    "start_time": "2023-02-17T08:04:31.659Z"
   },
   {
    "duration": 92,
    "start_time": "2023-02-17T08:04:46.010Z"
   },
   {
    "duration": 423,
    "start_time": "2023-02-17T08:04:46.105Z"
   },
   {
    "duration": 1457,
    "start_time": "2023-02-17T08:04:46.536Z"
   },
   {
    "duration": 16203,
    "start_time": "2023-02-17T08:04:47.995Z"
   },
   {
    "duration": 3,
    "start_time": "2023-02-17T08:05:04.200Z"
   },
   {
    "duration": 6,
    "start_time": "2023-02-17T08:05:04.206Z"
   },
   {
    "duration": 10,
    "start_time": "2023-02-17T08:05:04.214Z"
   },
   {
    "duration": 280,
    "start_time": "2023-02-17T08:05:04.225Z"
   },
   {
    "duration": 0,
    "start_time": "2023-02-17T08:05:04.508Z"
   },
   {
    "duration": 7818,
    "start_time": "2023-02-17T08:45:30.590Z"
   },
   {
    "duration": 56,
    "start_time": "2023-02-17T08:45:51.582Z"
   },
   {
    "duration": 6241,
    "start_time": "2023-02-17T08:45:59.873Z"
   },
   {
    "duration": 10620,
    "start_time": "2023-02-17T08:58:50.971Z"
   },
   {
    "duration": 10067,
    "start_time": "2023-02-17T08:59:45.943Z"
   },
   {
    "duration": 73,
    "start_time": "2023-02-17T08:59:59.272Z"
   },
   {
    "duration": 2,
    "start_time": "2023-02-17T09:00:19.487Z"
   },
   {
    "duration": 3,
    "start_time": "2023-02-17T09:00:31.899Z"
   },
   {
    "duration": 8955,
    "start_time": "2023-02-17T09:03:50.983Z"
   },
   {
    "duration": 28027,
    "start_time": "2023-02-17T09:32:30.750Z"
   }
  ],
  "kernelspec": {
   "display_name": "Python 3 (ipykernel)",
   "language": "python",
   "name": "python3"
  },
  "language_info": {
   "codemirror_mode": {
    "name": "ipython",
    "version": 3
   },
   "file_extension": ".py",
   "mimetype": "text/x-python",
   "name": "python",
   "nbconvert_exporter": "python",
   "pygments_lexer": "ipython3",
   "version": "3.9.5"
  },
  "toc": {
   "base_numbering": 1,
   "nav_menu": {},
   "number_sections": true,
   "sideBar": true,
   "skip_h1_title": true,
   "title_cell": "Содержание",
   "title_sidebar": "Contents",
   "toc_cell": true,
   "toc_position": {
    "height": "calc(100% - 180px)",
    "left": "10px",
    "top": "150px",
    "width": "302.391px"
   },
   "toc_section_display": true,
   "toc_window_display": false
  },
  "toc-autonumbering": true,
  "toc-showmarkdowntxt": false
 },
 "nbformat": 4,
 "nbformat_minor": 4
}
