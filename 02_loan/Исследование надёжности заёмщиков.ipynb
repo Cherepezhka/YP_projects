{
 "cells": [
  {
   "attachments": {},
   "cell_type": "markdown",
   "id": "d85b6df7",
   "metadata": {
    "deletable": false,
    "editable": false,
    "id": "c81daeeb"
   },
   "source": [
    "# Исследование надежности заемщиков\n"
   ]
  },
  {
   "attachments": {},
   "cell_type": "markdown",
   "id": "66aed8e0",
   "metadata": {
    "deletable": false,
    "editable": false,
    "id": "744d7639"
   },
   "source": [
    "## Откройте таблицу и изучите общую информацию о данных"
   ]
  },
  {
   "attachments": {},
   "cell_type": "markdown",
   "id": "5b0a5d15",
   "metadata": {
    "deletable": false,
    "editable": false,
    "id": "e7a14c31"
   },
   "source": [
    "**Задание 1. Импортируйте библиотеку pandas. Считайте данные из csv-файла в датафрейм и сохраните в переменную `data`. Путь к файлу:**\n",
    "\n",
    "`/datasets/data.csv`"
   ]
  },
  {
   "cell_type": "code",
   "execution_count": 1,
   "id": "0db29961",
   "metadata": {
    "deletable": false,
    "id": "7bcf75c9"
   },
   "outputs": [],
   "source": [
    "import pandas as pd\n",
    "\n",
    "try:\n",
    "    data = pd.read_csv('/datasets/data.csv')\n",
    "except:\n",
    "    data = pd.read_csv('https://code.s3.yandex.net/datasets/data.csv')"
   ]
  },
  {
   "attachments": {},
   "cell_type": "markdown",
   "id": "0f04c084",
   "metadata": {
    "deletable": false,
    "editable": false,
    "id": "b8038fe3"
   },
   "source": [
    "**Задание 2. Выведите первые 20 строчек датафрейма `data` на экран.**"
   ]
  },
  {
   "cell_type": "code",
   "execution_count": 2,
   "id": "34736e5f",
   "metadata": {
    "deletable": false,
    "id": "2a7cab99",
    "outputId": "1a8f3ef2-d323-4ec2-ddf7-89670b5944c4"
   },
   "outputs": [
    {
     "data": {
      "text/html": [
       "<div>\n",
       "<style scoped>\n",
       "    .dataframe tbody tr th:only-of-type {\n",
       "        vertical-align: middle;\n",
       "    }\n",
       "\n",
       "    .dataframe tbody tr th {\n",
       "        vertical-align: top;\n",
       "    }\n",
       "\n",
       "    .dataframe thead th {\n",
       "        text-align: right;\n",
       "    }\n",
       "</style>\n",
       "<table border=\"1\" class=\"dataframe\">\n",
       "  <thead>\n",
       "    <tr style=\"text-align: right;\">\n",
       "      <th></th>\n",
       "      <th>children</th>\n",
       "      <th>days_employed</th>\n",
       "      <th>dob_years</th>\n",
       "      <th>education</th>\n",
       "      <th>education_id</th>\n",
       "      <th>family_status</th>\n",
       "      <th>family_status_id</th>\n",
       "      <th>gender</th>\n",
       "      <th>income_type</th>\n",
       "      <th>debt</th>\n",
       "      <th>total_income</th>\n",
       "      <th>purpose</th>\n",
       "    </tr>\n",
       "  </thead>\n",
       "  <tbody>\n",
       "    <tr>\n",
       "      <th>0</th>\n",
       "      <td>1</td>\n",
       "      <td>-8437.673028</td>\n",
       "      <td>42</td>\n",
       "      <td>высшее</td>\n",
       "      <td>0</td>\n",
       "      <td>женат / замужем</td>\n",
       "      <td>0</td>\n",
       "      <td>F</td>\n",
       "      <td>сотрудник</td>\n",
       "      <td>0</td>\n",
       "      <td>253875.639453</td>\n",
       "      <td>покупка жилья</td>\n",
       "    </tr>\n",
       "    <tr>\n",
       "      <th>1</th>\n",
       "      <td>1</td>\n",
       "      <td>-4024.803754</td>\n",
       "      <td>36</td>\n",
       "      <td>среднее</td>\n",
       "      <td>1</td>\n",
       "      <td>женат / замужем</td>\n",
       "      <td>0</td>\n",
       "      <td>F</td>\n",
       "      <td>сотрудник</td>\n",
       "      <td>0</td>\n",
       "      <td>112080.014102</td>\n",
       "      <td>приобретение автомобиля</td>\n",
       "    </tr>\n",
       "    <tr>\n",
       "      <th>2</th>\n",
       "      <td>0</td>\n",
       "      <td>-5623.422610</td>\n",
       "      <td>33</td>\n",
       "      <td>Среднее</td>\n",
       "      <td>1</td>\n",
       "      <td>женат / замужем</td>\n",
       "      <td>0</td>\n",
       "      <td>M</td>\n",
       "      <td>сотрудник</td>\n",
       "      <td>0</td>\n",
       "      <td>145885.952297</td>\n",
       "      <td>покупка жилья</td>\n",
       "    </tr>\n",
       "    <tr>\n",
       "      <th>3</th>\n",
       "      <td>3</td>\n",
       "      <td>-4124.747207</td>\n",
       "      <td>32</td>\n",
       "      <td>среднее</td>\n",
       "      <td>1</td>\n",
       "      <td>женат / замужем</td>\n",
       "      <td>0</td>\n",
       "      <td>M</td>\n",
       "      <td>сотрудник</td>\n",
       "      <td>0</td>\n",
       "      <td>267628.550329</td>\n",
       "      <td>дополнительное образование</td>\n",
       "    </tr>\n",
       "    <tr>\n",
       "      <th>4</th>\n",
       "      <td>0</td>\n",
       "      <td>340266.072047</td>\n",
       "      <td>53</td>\n",
       "      <td>среднее</td>\n",
       "      <td>1</td>\n",
       "      <td>гражданский брак</td>\n",
       "      <td>1</td>\n",
       "      <td>F</td>\n",
       "      <td>пенсионер</td>\n",
       "      <td>0</td>\n",
       "      <td>158616.077870</td>\n",
       "      <td>сыграть свадьбу</td>\n",
       "    </tr>\n",
       "    <tr>\n",
       "      <th>5</th>\n",
       "      <td>0</td>\n",
       "      <td>-926.185831</td>\n",
       "      <td>27</td>\n",
       "      <td>высшее</td>\n",
       "      <td>0</td>\n",
       "      <td>гражданский брак</td>\n",
       "      <td>1</td>\n",
       "      <td>M</td>\n",
       "      <td>компаньон</td>\n",
       "      <td>0</td>\n",
       "      <td>255763.565419</td>\n",
       "      <td>покупка жилья</td>\n",
       "    </tr>\n",
       "    <tr>\n",
       "      <th>6</th>\n",
       "      <td>0</td>\n",
       "      <td>-2879.202052</td>\n",
       "      <td>43</td>\n",
       "      <td>высшее</td>\n",
       "      <td>0</td>\n",
       "      <td>женат / замужем</td>\n",
       "      <td>0</td>\n",
       "      <td>F</td>\n",
       "      <td>компаньон</td>\n",
       "      <td>0</td>\n",
       "      <td>240525.971920</td>\n",
       "      <td>операции с жильем</td>\n",
       "    </tr>\n",
       "    <tr>\n",
       "      <th>7</th>\n",
       "      <td>0</td>\n",
       "      <td>-152.779569</td>\n",
       "      <td>50</td>\n",
       "      <td>СРЕДНЕЕ</td>\n",
       "      <td>1</td>\n",
       "      <td>женат / замужем</td>\n",
       "      <td>0</td>\n",
       "      <td>M</td>\n",
       "      <td>сотрудник</td>\n",
       "      <td>0</td>\n",
       "      <td>135823.934197</td>\n",
       "      <td>образование</td>\n",
       "    </tr>\n",
       "    <tr>\n",
       "      <th>8</th>\n",
       "      <td>2</td>\n",
       "      <td>-6929.865299</td>\n",
       "      <td>35</td>\n",
       "      <td>ВЫСШЕЕ</td>\n",
       "      <td>0</td>\n",
       "      <td>гражданский брак</td>\n",
       "      <td>1</td>\n",
       "      <td>F</td>\n",
       "      <td>сотрудник</td>\n",
       "      <td>0</td>\n",
       "      <td>95856.832424</td>\n",
       "      <td>на проведение свадьбы</td>\n",
       "    </tr>\n",
       "    <tr>\n",
       "      <th>9</th>\n",
       "      <td>0</td>\n",
       "      <td>-2188.756445</td>\n",
       "      <td>41</td>\n",
       "      <td>среднее</td>\n",
       "      <td>1</td>\n",
       "      <td>женат / замужем</td>\n",
       "      <td>0</td>\n",
       "      <td>M</td>\n",
       "      <td>сотрудник</td>\n",
       "      <td>0</td>\n",
       "      <td>144425.938277</td>\n",
       "      <td>покупка жилья для семьи</td>\n",
       "    </tr>\n",
       "    <tr>\n",
       "      <th>10</th>\n",
       "      <td>2</td>\n",
       "      <td>-4171.483647</td>\n",
       "      <td>36</td>\n",
       "      <td>высшее</td>\n",
       "      <td>0</td>\n",
       "      <td>женат / замужем</td>\n",
       "      <td>0</td>\n",
       "      <td>M</td>\n",
       "      <td>компаньон</td>\n",
       "      <td>0</td>\n",
       "      <td>113943.491460</td>\n",
       "      <td>покупка недвижимости</td>\n",
       "    </tr>\n",
       "    <tr>\n",
       "      <th>11</th>\n",
       "      <td>0</td>\n",
       "      <td>-792.701887</td>\n",
       "      <td>40</td>\n",
       "      <td>среднее</td>\n",
       "      <td>1</td>\n",
       "      <td>женат / замужем</td>\n",
       "      <td>0</td>\n",
       "      <td>F</td>\n",
       "      <td>сотрудник</td>\n",
       "      <td>0</td>\n",
       "      <td>77069.234271</td>\n",
       "      <td>покупка коммерческой недвижимости</td>\n",
       "    </tr>\n",
       "    <tr>\n",
       "      <th>12</th>\n",
       "      <td>0</td>\n",
       "      <td>NaN</td>\n",
       "      <td>65</td>\n",
       "      <td>среднее</td>\n",
       "      <td>1</td>\n",
       "      <td>гражданский брак</td>\n",
       "      <td>1</td>\n",
       "      <td>M</td>\n",
       "      <td>пенсионер</td>\n",
       "      <td>0</td>\n",
       "      <td>NaN</td>\n",
       "      <td>сыграть свадьбу</td>\n",
       "    </tr>\n",
       "    <tr>\n",
       "      <th>13</th>\n",
       "      <td>0</td>\n",
       "      <td>-1846.641941</td>\n",
       "      <td>54</td>\n",
       "      <td>неоконченное высшее</td>\n",
       "      <td>2</td>\n",
       "      <td>женат / замужем</td>\n",
       "      <td>0</td>\n",
       "      <td>F</td>\n",
       "      <td>сотрудник</td>\n",
       "      <td>0</td>\n",
       "      <td>130458.228857</td>\n",
       "      <td>приобретение автомобиля</td>\n",
       "    </tr>\n",
       "    <tr>\n",
       "      <th>14</th>\n",
       "      <td>0</td>\n",
       "      <td>-1844.956182</td>\n",
       "      <td>56</td>\n",
       "      <td>высшее</td>\n",
       "      <td>0</td>\n",
       "      <td>гражданский брак</td>\n",
       "      <td>1</td>\n",
       "      <td>F</td>\n",
       "      <td>компаньон</td>\n",
       "      <td>1</td>\n",
       "      <td>165127.911772</td>\n",
       "      <td>покупка жилой недвижимости</td>\n",
       "    </tr>\n",
       "    <tr>\n",
       "      <th>15</th>\n",
       "      <td>1</td>\n",
       "      <td>-972.364419</td>\n",
       "      <td>26</td>\n",
       "      <td>среднее</td>\n",
       "      <td>1</td>\n",
       "      <td>женат / замужем</td>\n",
       "      <td>0</td>\n",
       "      <td>F</td>\n",
       "      <td>сотрудник</td>\n",
       "      <td>0</td>\n",
       "      <td>116820.904450</td>\n",
       "      <td>строительство собственной недвижимости</td>\n",
       "    </tr>\n",
       "    <tr>\n",
       "      <th>16</th>\n",
       "      <td>0</td>\n",
       "      <td>-1719.934226</td>\n",
       "      <td>35</td>\n",
       "      <td>среднее</td>\n",
       "      <td>1</td>\n",
       "      <td>женат / замужем</td>\n",
       "      <td>0</td>\n",
       "      <td>F</td>\n",
       "      <td>сотрудник</td>\n",
       "      <td>0</td>\n",
       "      <td>289202.704229</td>\n",
       "      <td>недвижимость</td>\n",
       "    </tr>\n",
       "    <tr>\n",
       "      <th>17</th>\n",
       "      <td>0</td>\n",
       "      <td>-2369.999720</td>\n",
       "      <td>33</td>\n",
       "      <td>высшее</td>\n",
       "      <td>0</td>\n",
       "      <td>гражданский брак</td>\n",
       "      <td>1</td>\n",
       "      <td>M</td>\n",
       "      <td>сотрудник</td>\n",
       "      <td>0</td>\n",
       "      <td>90410.586745</td>\n",
       "      <td>строительство недвижимости</td>\n",
       "    </tr>\n",
       "    <tr>\n",
       "      <th>18</th>\n",
       "      <td>0</td>\n",
       "      <td>400281.136913</td>\n",
       "      <td>53</td>\n",
       "      <td>среднее</td>\n",
       "      <td>1</td>\n",
       "      <td>вдовец / вдова</td>\n",
       "      <td>2</td>\n",
       "      <td>F</td>\n",
       "      <td>пенсионер</td>\n",
       "      <td>0</td>\n",
       "      <td>56823.777243</td>\n",
       "      <td>на покупку подержанного автомобиля</td>\n",
       "    </tr>\n",
       "    <tr>\n",
       "      <th>19</th>\n",
       "      <td>0</td>\n",
       "      <td>-10038.818549</td>\n",
       "      <td>48</td>\n",
       "      <td>СРЕДНЕЕ</td>\n",
       "      <td>1</td>\n",
       "      <td>в разводе</td>\n",
       "      <td>3</td>\n",
       "      <td>F</td>\n",
       "      <td>сотрудник</td>\n",
       "      <td>0</td>\n",
       "      <td>242831.107982</td>\n",
       "      <td>на покупку своего автомобиля</td>\n",
       "    </tr>\n",
       "  </tbody>\n",
       "</table>\n",
       "</div>"
      ],
      "text/plain": [
       "    children  days_employed  dob_years            education  education_id  \\\n",
       "0          1   -8437.673028         42               высшее             0   \n",
       "1          1   -4024.803754         36              среднее             1   \n",
       "2          0   -5623.422610         33              Среднее             1   \n",
       "3          3   -4124.747207         32              среднее             1   \n",
       "4          0  340266.072047         53              среднее             1   \n",
       "5          0    -926.185831         27               высшее             0   \n",
       "6          0   -2879.202052         43               высшее             0   \n",
       "7          0    -152.779569         50              СРЕДНЕЕ             1   \n",
       "8          2   -6929.865299         35               ВЫСШЕЕ             0   \n",
       "9          0   -2188.756445         41              среднее             1   \n",
       "10         2   -4171.483647         36               высшее             0   \n",
       "11         0    -792.701887         40              среднее             1   \n",
       "12         0            NaN         65              среднее             1   \n",
       "13         0   -1846.641941         54  неоконченное высшее             2   \n",
       "14         0   -1844.956182         56               высшее             0   \n",
       "15         1    -972.364419         26              среднее             1   \n",
       "16         0   -1719.934226         35              среднее             1   \n",
       "17         0   -2369.999720         33               высшее             0   \n",
       "18         0  400281.136913         53              среднее             1   \n",
       "19         0  -10038.818549         48              СРЕДНЕЕ             1   \n",
       "\n",
       "       family_status  family_status_id gender income_type  debt  \\\n",
       "0    женат / замужем                 0      F   сотрудник     0   \n",
       "1    женат / замужем                 0      F   сотрудник     0   \n",
       "2    женат / замужем                 0      M   сотрудник     0   \n",
       "3    женат / замужем                 0      M   сотрудник     0   \n",
       "4   гражданский брак                 1      F   пенсионер     0   \n",
       "5   гражданский брак                 1      M   компаньон     0   \n",
       "6    женат / замужем                 0      F   компаньон     0   \n",
       "7    женат / замужем                 0      M   сотрудник     0   \n",
       "8   гражданский брак                 1      F   сотрудник     0   \n",
       "9    женат / замужем                 0      M   сотрудник     0   \n",
       "10   женат / замужем                 0      M   компаньон     0   \n",
       "11   женат / замужем                 0      F   сотрудник     0   \n",
       "12  гражданский брак                 1      M   пенсионер     0   \n",
       "13   женат / замужем                 0      F   сотрудник     0   \n",
       "14  гражданский брак                 1      F   компаньон     1   \n",
       "15   женат / замужем                 0      F   сотрудник     0   \n",
       "16   женат / замужем                 0      F   сотрудник     0   \n",
       "17  гражданский брак                 1      M   сотрудник     0   \n",
       "18    вдовец / вдова                 2      F   пенсионер     0   \n",
       "19         в разводе                 3      F   сотрудник     0   \n",
       "\n",
       "     total_income                                 purpose  \n",
       "0   253875.639453                           покупка жилья  \n",
       "1   112080.014102                 приобретение автомобиля  \n",
       "2   145885.952297                           покупка жилья  \n",
       "3   267628.550329              дополнительное образование  \n",
       "4   158616.077870                         сыграть свадьбу  \n",
       "5   255763.565419                           покупка жилья  \n",
       "6   240525.971920                       операции с жильем  \n",
       "7   135823.934197                             образование  \n",
       "8    95856.832424                   на проведение свадьбы  \n",
       "9   144425.938277                 покупка жилья для семьи  \n",
       "10  113943.491460                    покупка недвижимости  \n",
       "11   77069.234271       покупка коммерческой недвижимости  \n",
       "12            NaN                         сыграть свадьбу  \n",
       "13  130458.228857                 приобретение автомобиля  \n",
       "14  165127.911772              покупка жилой недвижимости  \n",
       "15  116820.904450  строительство собственной недвижимости  \n",
       "16  289202.704229                            недвижимость  \n",
       "17   90410.586745              строительство недвижимости  \n",
       "18   56823.777243      на покупку подержанного автомобиля  \n",
       "19  242831.107982            на покупку своего автомобиля  "
      ]
     },
     "execution_count": 2,
     "metadata": {},
     "output_type": "execute_result"
    }
   ],
   "source": [
    "data.head(20)"
   ]
  },
  {
   "attachments": {},
   "cell_type": "markdown",
   "id": "5e6aa54b",
   "metadata": {
    "deletable": false,
    "editable": false,
    "id": "1c12e233"
   },
   "source": [
    "**Задание 3. Выведите основную информацию о датафрейме с помощью метода `info()`.**"
   ]
  },
  {
   "cell_type": "code",
   "execution_count": 3,
   "id": "3d17097c",
   "metadata": {
    "deletable": false,
    "id": "2b757bca",
    "outputId": "15376089-8dad-46c9-b520-c05248d43158"
   },
   "outputs": [
    {
     "name": "stdout",
     "output_type": "stream",
     "text": [
      "<class 'pandas.core.frame.DataFrame'>\n",
      "RangeIndex: 21525 entries, 0 to 21524\n",
      "Data columns (total 12 columns):\n",
      " #   Column            Non-Null Count  Dtype  \n",
      "---  ------            --------------  -----  \n",
      " 0   children          21525 non-null  int64  \n",
      " 1   days_employed     19351 non-null  float64\n",
      " 2   dob_years         21525 non-null  int64  \n",
      " 3   education         21525 non-null  object \n",
      " 4   education_id      21525 non-null  int64  \n",
      " 5   family_status     21525 non-null  object \n",
      " 6   family_status_id  21525 non-null  int64  \n",
      " 7   gender            21525 non-null  object \n",
      " 8   income_type       21525 non-null  object \n",
      " 9   debt              21525 non-null  int64  \n",
      " 10  total_income      19351 non-null  float64\n",
      " 11  purpose           21525 non-null  object \n",
      "dtypes: float64(2), int64(5), object(5)\n",
      "memory usage: 2.0+ MB\n"
     ]
    }
   ],
   "source": [
    "data.info()"
   ]
  },
  {
   "attachments": {},
   "cell_type": "markdown",
   "id": "22349b8f",
   "metadata": {
    "deletable": false,
    "editable": false,
    "id": "333ec665"
   },
   "source": [
    "## Предобработка данных"
   ]
  },
  {
   "attachments": {},
   "cell_type": "markdown",
   "id": "d14ef9da",
   "metadata": {
    "deletable": false,
    "editable": false,
    "id": "02d92d53"
   },
   "source": [
    "### Удаление пропусков"
   ]
  },
  {
   "attachments": {},
   "cell_type": "markdown",
   "id": "2527351a",
   "metadata": {
    "deletable": false,
    "editable": false,
    "id": "cd84967c"
   },
   "source": [
    "**Задание 4. Выведите количество пропущенных значений для каждого столбца. Используйте комбинацию двух методов.**"
   ]
  },
  {
   "cell_type": "code",
   "execution_count": 4,
   "id": "6cebff0c",
   "metadata": {
    "deletable": false,
    "id": "7f9b2309",
    "outputId": "81f4d817-781c-465c-ed15-91ce4446810d"
   },
   "outputs": [
    {
     "data": {
      "text/plain": [
       "children               0\n",
       "days_employed       2174\n",
       "dob_years              0\n",
       "education              0\n",
       "education_id           0\n",
       "family_status          0\n",
       "family_status_id       0\n",
       "gender                 0\n",
       "income_type            0\n",
       "debt                   0\n",
       "total_income        2174\n",
       "purpose                0\n",
       "dtype: int64"
      ]
     },
     "execution_count": 4,
     "metadata": {},
     "output_type": "execute_result"
    }
   ],
   "source": [
    "data.isna().sum()"
   ]
  },
  {
   "attachments": {},
   "cell_type": "markdown",
   "id": "615f30b8",
   "metadata": {
    "deletable": false,
    "editable": false,
    "id": "db86e27b"
   },
   "source": [
    "**Задание 5. В двух столбцах есть пропущенные значения. Один из них — `days_employed`. Пропуски в этом столбце вы обработаете на следующем этапе. Другой столбец с пропущенными значениями — `total_income` — хранит данные о доходах. На сумму дохода сильнее всего влияет тип занятости, поэтому заполнить пропуски в этом столбце нужно медианным значением по каждому типу из столбца `income_type`. Например, у человека с типом занятости `сотрудник` пропуск в столбце `total_income` должен быть заполнен медианным доходом среди всех записей с тем же типом.**"
   ]
  },
  {
   "cell_type": "code",
   "execution_count": 5,
   "id": "fab61992",
   "metadata": {
    "deletable": false,
    "id": "42006a93"
   },
   "outputs": [],
   "source": [
    "for t in data['income_type'].unique():\n",
    "    data.loc[(data['income_type'] == t) & (data['total_income'].isna()), 'total_income'] = \\\n",
    "    data.loc[(data['income_type'] == t), 'total_income'].median()"
   ]
  },
  {
   "attachments": {},
   "cell_type": "markdown",
   "id": "a92771b1",
   "metadata": {
    "deletable": false,
    "editable": false,
    "id": "89da5ece"
   },
   "source": [
    "### Обработка аномальных значений"
   ]
  },
  {
   "attachments": {},
   "cell_type": "markdown",
   "id": "41af40b7",
   "metadata": {
    "deletable": false,
    "editable": false,
    "id": "57964554"
   },
   "source": [
    "**Задание 6. В данных могут встречаться артефакты (аномалии) — значения, которые не отражают действительность и появились по какой-то ошибке. таким артефактом будет отрицательное количество дней трудового стажа в столбце `days_employed`. Для реальных данных это нормально. Обработайте значения в этом столбце: замените все отрицательные значения положительными с помощью метода `abs()`.**"
   ]
  },
  {
   "cell_type": "code",
   "execution_count": 6,
   "id": "7bb2314d",
   "metadata": {
    "deletable": false,
    "id": "f6f055bf"
   },
   "outputs": [],
   "source": [
    "data['days_employed'] = data['days_employed'].abs()"
   ]
  },
  {
   "attachments": {},
   "cell_type": "markdown",
   "id": "5369d760",
   "metadata": {
    "deletable": false,
    "editable": false,
    "id": "6107dd2f"
   },
   "source": [
    "**Задание 7. Для каждого типа занятости выведите медианное значение трудового стажа `days_employed` в днях.**"
   ]
  },
  {
   "cell_type": "code",
   "execution_count": 7,
   "id": "e492eeb7",
   "metadata": {
    "deletable": false,
    "id": "85a5faf6",
    "outputId": "801ef80e-522b-4668-f34e-565af7432bcf"
   },
   "outputs": [
    {
     "data": {
      "text/plain": [
       "income_type\n",
       "безработный        366413.652744\n",
       "в декрете            3296.759962\n",
       "госслужащий          2689.368353\n",
       "компаньон            1547.382223\n",
       "пенсионер          365213.306266\n",
       "предприниматель       520.848083\n",
       "сотрудник            1574.202821\n",
       "студент               578.751554\n",
       "Name: days_employed, dtype: float64"
      ]
     },
     "execution_count": 7,
     "metadata": {},
     "output_type": "execute_result"
    }
   ],
   "source": [
    "data.groupby('income_type')['days_employed'].agg('median')"
   ]
  },
  {
   "attachments": {},
   "cell_type": "markdown",
   "id": "9c04e70e",
   "metadata": {
    "deletable": false,
    "editable": false,
    "id": "38d1a030"
   },
   "source": [
    "У двух типов (безработные и пенсионеры) получатся аномально большие значения. Исправить такие значения сложно, поэтому оставьте их как есть. Тем более этот столбец не понадобится вам для исследования."
   ]
  },
  {
   "attachments": {},
   "cell_type": "markdown",
   "id": "54f9445e",
   "metadata": {
    "deletable": false,
    "editable": false,
    "id": "d8a9f147"
   },
   "source": [
    "**Задание 8. Выведите перечень уникальных значений столбца `children`.**"
   ]
  },
  {
   "cell_type": "code",
   "execution_count": 8,
   "id": "703bd82f",
   "metadata": {
    "deletable": false,
    "id": "ef5056eb",
    "outputId": "6975b15c-7f95-4697-d16d-a0c79b657b03"
   },
   "outputs": [
    {
     "data": {
      "text/plain": [
       "array([ 1,  0,  3,  2, -1,  4, 20,  5])"
      ]
     },
     "execution_count": 8,
     "metadata": {},
     "output_type": "execute_result"
    }
   ],
   "source": [
    "data['children'].unique()"
   ]
  },
  {
   "attachments": {},
   "cell_type": "markdown",
   "id": "1f27e55a",
   "metadata": {
    "deletable": false,
    "editable": false,
    "id": "40b9ebf2"
   },
   "source": [
    "**Задание 9. В столбце `children` есть два аномальных значения. Удалите строки, в которых встречаются такие аномальные значения из датафрейма `data`.**"
   ]
  },
  {
   "cell_type": "code",
   "execution_count": 9,
   "id": "5912dd70",
   "metadata": {
    "deletable": false,
    "id": "3ff9801d"
   },
   "outputs": [],
   "source": [
    "data = data[(data['children'] != -1) & (data['children'] != 20)]"
   ]
  },
  {
   "attachments": {},
   "cell_type": "markdown",
   "id": "23fe7f2d",
   "metadata": {
    "deletable": false,
    "editable": false,
    "id": "bbc4d0ce"
   },
   "source": [
    "**Задание 10. Ещё раз выведите перечень уникальных значений столбца `children`, чтобы убедиться, что артефакты удалены.**"
   ]
  },
  {
   "cell_type": "code",
   "execution_count": 10,
   "id": "ee82e4ad",
   "metadata": {
    "deletable": false,
    "id": "ad4fa8b7",
    "outputId": "b2097101-d49d-44d9-901b-32a65c9463d1"
   },
   "outputs": [
    {
     "data": {
      "text/plain": [
       "array([1, 0, 3, 2, 4, 5])"
      ]
     },
     "execution_count": 10,
     "metadata": {},
     "output_type": "execute_result"
    }
   ],
   "source": [
    "data['children'].unique()"
   ]
  },
  {
   "attachments": {},
   "cell_type": "markdown",
   "id": "a71323d4",
   "metadata": {
    "deletable": false,
    "editable": false,
    "id": "75440b63"
   },
   "source": [
    "### Удаление пропусков (продолжение)"
   ]
  },
  {
   "attachments": {},
   "cell_type": "markdown",
   "id": "3d55b2b1",
   "metadata": {
    "deletable": false,
    "editable": false,
    "id": "f4ea573f"
   },
   "source": [
    "**Задание 11. Заполните пропуски в столбце `days_employed` медианными значениями по каждого типа занятости `income_type`.**"
   ]
  },
  {
   "cell_type": "code",
   "execution_count": 11,
   "id": "9efbb115",
   "metadata": {
    "deletable": false,
    "id": "af6b1a7e"
   },
   "outputs": [],
   "source": [
    "for t in data['income_type'].unique():\n",
    "    data.loc[(data['income_type'] == t) & (data['days_employed'].isna()), 'days_employed'] = \\\n",
    "    data.loc[(data['income_type'] == t), 'days_employed'].median()"
   ]
  },
  {
   "attachments": {},
   "cell_type": "markdown",
   "id": "e1ffd762",
   "metadata": {
    "deletable": false,
    "editable": false,
    "id": "2753f40d"
   },
   "source": [
    "**Задание 12. Убедитесь, что все пропуски заполнены. Проверьте себя и ещё раз выведите количество пропущенных значений для каждого столбца с помощью двух методов.**"
   ]
  },
  {
   "cell_type": "code",
   "execution_count": 12,
   "id": "67662893",
   "metadata": {
    "deletable": false,
    "id": "55f78bc2",
    "outputId": "8da1e4e1-358e-4e87-98c9-f261bce0a7b2"
   },
   "outputs": [
    {
     "data": {
      "text/plain": [
       "children            0\n",
       "days_employed       0\n",
       "dob_years           0\n",
       "education           0\n",
       "education_id        0\n",
       "family_status       0\n",
       "family_status_id    0\n",
       "gender              0\n",
       "income_type         0\n",
       "debt                0\n",
       "total_income        0\n",
       "purpose             0\n",
       "dtype: int64"
      ]
     },
     "execution_count": 12,
     "metadata": {},
     "output_type": "execute_result"
    }
   ],
   "source": [
    "data.isna().sum()"
   ]
  },
  {
   "attachments": {},
   "cell_type": "markdown",
   "id": "5369c97d",
   "metadata": {
    "deletable": false,
    "editable": false,
    "id": "ddc81e43"
   },
   "source": [
    "### Изменение типов данных"
   ]
  },
  {
   "attachments": {},
   "cell_type": "markdown",
   "id": "72db4407",
   "metadata": {
    "deletable": false,
    "editable": false,
    "id": "42d19d24"
   },
   "source": [
    "**Задание 13. Замените вещественный тип данных в столбце `total_income` на целочисленный с помощью метода `astype()`.**"
   ]
  },
  {
   "cell_type": "code",
   "execution_count": 13,
   "id": "3d209ba9",
   "metadata": {
    "deletable": false,
    "id": "920b65ad"
   },
   "outputs": [],
   "source": [
    "data['total_income'] = data['total_income'].astype(int)"
   ]
  },
  {
   "attachments": {},
   "cell_type": "markdown",
   "id": "e7c01afe",
   "metadata": {
    "deletable": false,
    "editable": false,
    "id": "80c420ba"
   },
   "source": [
    "### Обработка дубликатов"
   ]
  },
  {
   "attachments": {},
   "cell_type": "markdown",
   "id": "abfd9f02",
   "metadata": {
    "deletable": false,
    "editable": false
   },
   "source": [
    "**Задание 14. Обработайте неявные дубликаты в столбце `education`. В этом столбце есть одни и те же значения, но записанные по-разному: с использованием заглавных и строчных букв. Приведите их к нижнему регистру. Проверьте остальные столбцы.**"
   ]
  },
  {
   "cell_type": "code",
   "execution_count": 14,
   "id": "aea8cbfe",
   "metadata": {
    "deletable": false
   },
   "outputs": [],
   "source": [
    "data['education'] = data['education'].str.lower()"
   ]
  },
  {
   "attachments": {},
   "cell_type": "markdown",
   "id": "c6328a86",
   "metadata": {
    "deletable": false,
    "editable": false,
    "id": "dc587695"
   },
   "source": [
    "**Задание 15. Выведите на экран количество строк-дубликатов в данных. Если такие строки присутствуют, удалите их.**"
   ]
  },
  {
   "cell_type": "code",
   "execution_count": 15,
   "id": "ec082e75",
   "metadata": {
    "deletable": false,
    "id": "3ee445e4",
    "outputId": "9684deba-1934-42d1-99e1-cda61740f822"
   },
   "outputs": [
    {
     "data": {
      "text/plain": [
       "71"
      ]
     },
     "execution_count": 15,
     "metadata": {},
     "output_type": "execute_result"
    }
   ],
   "source": [
    "data.duplicated().sum()"
   ]
  },
  {
   "cell_type": "code",
   "execution_count": 16,
   "id": "819e078f",
   "metadata": {
    "deletable": false,
    "id": "8575fe05"
   },
   "outputs": [],
   "source": [
    "data = data.drop_duplicates()"
   ]
  },
  {
   "attachments": {},
   "cell_type": "markdown",
   "id": "e97626b7",
   "metadata": {
    "deletable": false,
    "editable": false,
    "id": "9904cf55"
   },
   "source": [
    "### Категоризация данных"
   ]
  },
  {
   "attachments": {},
   "cell_type": "markdown",
   "id": "ae72ee94",
   "metadata": {
    "deletable": false,
    "editable": false,
    "id": "72fcc8a2"
   },
   "source": [
    "**Задание 16. На основании диапазонов, указанных ниже, создайте в датафрейме `data` столбец `total_income_category` с категориями:**\n",
    "\n",
    "- 0–30000 — `'E'`;\n",
    "- 30001–50000 — `'D'`;\n",
    "- 50001–200000 — `'C'`;\n",
    "- 200001–1000000 — `'B'`;\n",
    "- 1000001 и выше — `'A'`.\n",
    "\n",
    "\n",
    "**Например, кредитополучателю с доходом 25000 нужно назначить категорию `'E'`, а клиенту, получающему 235000, — `'B'`. Используйте собственную функцию с именем `categorize_income()` и метод `apply()`.**"
   ]
  },
  {
   "cell_type": "code",
   "execution_count": 17,
   "id": "03988fc3",
   "metadata": {
    "deletable": false,
    "id": "e1771346"
   },
   "outputs": [],
   "source": [
    "def categorize_income(income):\n",
    "    try:\n",
    "        if 0 <= income <= 30000:\n",
    "            return 'E'\n",
    "        elif 30001 <= income <= 50000:\n",
    "            return 'D'\n",
    "        elif 50001 <= income <= 200000:\n",
    "            return 'C'\n",
    "        elif 200001 <= income <= 1000000:\n",
    "            return 'B'\n",
    "        elif income >= 1000001:\n",
    "            return 'A'\n",
    "    except:\n",
    "        pass"
   ]
  },
  {
   "cell_type": "code",
   "execution_count": 18,
   "id": "dc1efd23",
   "metadata": {
    "deletable": false,
    "id": "d5f3586d"
   },
   "outputs": [],
   "source": [
    "data['total_income_category'] = data['total_income'].apply(categorize_income)"
   ]
  },
  {
   "attachments": {},
   "cell_type": "markdown",
   "id": "3ccaed65",
   "metadata": {
    "deletable": false,
    "editable": false,
    "id": "dde49b5c"
   },
   "source": [
    "**Задание 17. Выведите на экран перечень уникальных целей взятия кредита из столбца `purpose`.**"
   ]
  },
  {
   "cell_type": "code",
   "execution_count": 19,
   "id": "bdb64559",
   "metadata": {
    "deletable": false,
    "id": "f67ce9b3",
    "outputId": "673c12d9-7d7e-4ae0-9812-c622c89dd244"
   },
   "outputs": [
    {
     "data": {
      "text/plain": [
       "array(['покупка жилья', 'приобретение автомобиля',\n",
       "       'дополнительное образование', 'сыграть свадьбу',\n",
       "       'операции с жильем', 'образование', 'на проведение свадьбы',\n",
       "       'покупка жилья для семьи', 'покупка недвижимости',\n",
       "       'покупка коммерческой недвижимости', 'покупка жилой недвижимости',\n",
       "       'строительство собственной недвижимости', 'недвижимость',\n",
       "       'строительство недвижимости', 'на покупку подержанного автомобиля',\n",
       "       'на покупку своего автомобиля',\n",
       "       'операции с коммерческой недвижимостью',\n",
       "       'строительство жилой недвижимости', 'жилье',\n",
       "       'операции со своей недвижимостью', 'автомобили',\n",
       "       'заняться образованием', 'сделка с подержанным автомобилем',\n",
       "       'получение образования', 'автомобиль', 'свадьба',\n",
       "       'получение дополнительного образования', 'покупка своего жилья',\n",
       "       'операции с недвижимостью', 'получение высшего образования',\n",
       "       'свой автомобиль', 'сделка с автомобилем',\n",
       "       'профильное образование', 'высшее образование',\n",
       "       'покупка жилья для сдачи', 'на покупку автомобиля', 'ремонт жилью',\n",
       "       'заняться высшим образованием'], dtype=object)"
      ]
     },
     "execution_count": 19,
     "metadata": {},
     "output_type": "execute_result"
    }
   ],
   "source": [
    "data['purpose'].unique()"
   ]
  },
  {
   "attachments": {},
   "cell_type": "markdown",
   "id": "d1fb4416",
   "metadata": {
    "deletable": false,
    "editable": false,
    "id": "85d0aef0"
   },
   "source": [
    "**Задание 18. Создайте функцию, которая на основании данных из столбца `purpose` сформирует новый столбец `purpose_category`, в который войдут следующие категории:**\n",
    "\n",
    "- `'операции с автомобилем'`,\n",
    "- `'операции с недвижимостью'`,\n",
    "- `'проведение свадьбы'`,\n",
    "- `'получение образования'`.\n",
    "\n",
    "**Например, если в столбце `purpose` находится подстрока `'на покупку автомобиля'`, то в столбце `purpose_category` должна появиться строка `'операции с автомобилем'`.**\n",
    "\n",
    "**Используйте собственную функцию с именем `categorize_purpose()` и метод `apply()`. Изучите данные в столбце `purpose` и определите, какие подстроки помогут вам правильно определить категорию.**"
   ]
  },
  {
   "cell_type": "code",
   "execution_count": 20,
   "id": "0ed08a22",
   "metadata": {
    "deletable": false,
    "id": "e149fab4"
   },
   "outputs": [],
   "source": [
    "def categorize_purpose(row):\n",
    "    try:\n",
    "        if 'автом' in row:\n",
    "            return 'операции с автомобилем'\n",
    "        elif 'жил' in row or 'недвиж' in row:\n",
    "            return 'операции с недвижимостью'\n",
    "        elif 'свад' in row:\n",
    "            return 'проведение свадьбы'\n",
    "        elif 'образов' in row:\n",
    "            return 'получение образования'\n",
    "    except:\n",
    "        return 'нет категории'"
   ]
  },
  {
   "cell_type": "code",
   "execution_count": 21,
   "id": "a1a63630",
   "metadata": {
    "deletable": false,
    "id": "bf36e69b"
   },
   "outputs": [],
   "source": [
    "data['purpose_category'] = data['purpose'].apply(categorize_purpose)"
   ]
  },
  {
   "attachments": {},
   "cell_type": "markdown",
   "id": "9d683d73",
   "metadata": {
    "deletable": false,
    "editable": false,
    "id": "09b242bf"
   },
   "source": [
    "### Шаг 3. Исследуйте данные и ответьте на вопросы"
   ]
  },
  {
   "attachments": {},
   "cell_type": "markdown",
   "id": "0213a910",
   "metadata": {
    "deletable": false,
    "editable": false,
    "id": "c5d66278"
   },
   "source": [
    "#### 3.1 Есть ли зависимость между количеством детей и возвратом кредита в срок?"
   ]
  },
  {
   "cell_type": "code",
   "execution_count": 22,
   "id": "8243961c",
   "metadata": {
    "deletable": false,
    "id": "2cacfc4a"
   },
   "outputs": [
    {
     "name": "stdout",
     "output_type": "stream",
     "text": [
      "          Выдано кредитов  Доля должников  Всего должников\n",
      "children                                                  \n",
      "5                     9.0        0.000000              0.0\n",
      "0                 14091.0        0.075438           1063.0\n",
      "3                   330.0        0.081818             27.0\n",
      "1                  4808.0        0.092346            444.0\n",
      "2                  2052.0        0.094542            194.0\n",
      "4                    41.0        0.097561              4.0\n"
     ]
    }
   ],
   "source": [
    "pivot = pd.pivot_table(data, index = ['children'] ,values = 'debt', aggfunc = ('mean','count', 'sum'))\n",
    "pivot.rename(columns = {'count': 'Выдано кредитов','sum': 'Всего должников','mean': 'Доля должников'}, inplace =True)\n",
    "print(pivot.sort_values('Доля должников'))"
   ]
  },
  {
   "attachments": {},
   "cell_type": "markdown",
   "id": "842d5241",
   "metadata": {
    "deletable": false,
    "id": "3a6b99ec"
   },
   "source": [
    "**Вывод:** Клиенты банка без детей имеют наименьшие значения по средней задолженности по кредитам 7,54% из выборки, о клиентах с с 5ью детьми сложно судить, так как выборка слишком мала. Далее по благонадежности идут клиенты с 3мя детьми. С довольно близкими результатами клиенты с 1, 2 и 4мя детьми. Предположительно, на такой результат для клиентов с 4мя детьми мог повлиять объем выборки, который на 2 порядка меньше, чем у клиентов с 1им или 2умя детьми."
   ]
  },
  {
   "attachments": {},
   "cell_type": "markdown",
   "id": "534f2c8e",
   "metadata": {
    "deletable": false,
    "editable": false,
    "id": "97be82ca"
   },
   "source": [
    "#### 3.2 Есть ли зависимость между семейным положением и возвратом кредита в срок?"
   ]
  },
  {
   "cell_type": "code",
   "execution_count": 23,
   "id": "308adf97",
   "metadata": {
    "deletable": false,
    "id": "dc3f7ee8",
    "scrolled": true
   },
   "outputs": [
    {
     "name": "stdout",
     "output_type": "stream",
     "text": [
      "                       Выдано кредитов  Доля должников  Всего должников\n",
      "family_status                                                          \n",
      "вдовец / вдова                   951.0        0.066246             63.0\n",
      "в разводе                       1189.0        0.070648             84.0\n",
      "женат / замужем                12261.0        0.075606            927.0\n",
      "гражданский брак                4134.0        0.093130            385.0\n",
      "Не женат / не замужем           2796.0        0.097639            273.0\n"
     ]
    }
   ],
   "source": [
    "pivot_status = pd.pivot_table(data, index=['family_status'], values = 'debt',aggfunc = ('mean','sum','count'))\n",
    "pivot_status.rename(columns = {'count': 'Выдано кредитов','sum': 'Всего должников','mean': 'Доля должников'}, inplace =True)\n",
    "print(pivot_status.sort_values('Доля должников'))"
   ]
  },
  {
   "attachments": {},
   "cell_type": "markdown",
   "id": "3f968a60",
   "metadata": {
    "deletable": false,
    "id": "1cef7837"
   },
   "source": [
    "**Вывод:** Вдовецы/вдовы имеют наименьшие просрочки про кредитам. Наиболее рискованными являются не женатые клиенты."
   ]
  },
  {
   "attachments": {},
   "cell_type": "markdown",
   "id": "4980321f",
   "metadata": {
    "deletable": false,
    "editable": false,
    "id": "1e8b2fca"
   },
   "source": [
    "#### 3.3 Есть ли зависимость между уровнем дохода и возвратом кредита в срок?"
   ]
  },
  {
   "cell_type": "code",
   "execution_count": 24,
   "id": "1de4899e",
   "metadata": {
    "deletable": false,
    "id": "cd7e3720"
   },
   "outputs": [
    {
     "name": "stdout",
     "output_type": "stream",
     "text": [
      "                       Выдано кредитов  Доля должников  Всего должников\n",
      "total_income_category                                                  \n",
      "D                                349.0        0.060172             21.0\n",
      "B                               5014.0        0.070602            354.0\n",
      "A                                 25.0        0.080000              2.0\n",
      "C                              15921.0        0.084982           1353.0\n",
      "E                                 22.0        0.090909              2.0\n"
     ]
    }
   ],
   "source": [
    "pivot_income = pd.pivot_table(data, index=['total_income_category'], values = 'debt', aggfunc = ('mean','sum','count'))\n",
    "pivot_income.rename(columns = {'count': 'Выдано кредитов','sum': 'Всего должников','mean':'Доля должников'}, inplace =True)\n",
    "print(pivot_income.sort_values('Доля должников'))"
   ]
  },
  {
   "attachments": {},
   "cell_type": "markdown",
   "id": "4a9a28a3",
   "metadata": {
    "deletable": false,
    "id": "e8593def"
   },
   "source": [
    "**Вывод:** Наиболее отвественными являются клиенты с доходом 30001–50000, далее с доходом 200001–1000000 и выше. Наибольшее количество просрочек у клиентов с доходом до 30000."
   ]
  },
  {
   "attachments": {},
   "cell_type": "markdown",
   "id": "045c0d28",
   "metadata": {},
   "source": [
    "**Исправленный вывод:** Выборки по категориям дохода A и E не достаточны для сравнения (вероятно, что людям категории Е с низким доходам реже дают кредиты, а в категории A реже их берут). Если взять для рассмотрения две самые большие выборки, то клиенты категории B с доходом более 1000001 рублей более благонадежны, чем с доходом 200001–1000000 категория С."
   ]
  },
  {
   "attachments": {},
   "cell_type": "markdown",
   "id": "2a169823",
   "metadata": {
    "deletable": false,
    "editable": false,
    "id": "99ecbd1f"
   },
   "source": [
    "#### 3.4 Как разные цели кредита влияют на его возврат в срок?"
   ]
  },
  {
   "cell_type": "code",
   "execution_count": 25,
   "id": "9bfbf491",
   "metadata": {
    "deletable": false,
    "id": "2b687290"
   },
   "outputs": [
    {
     "name": "stdout",
     "output_type": "stream",
     "text": [
      "                          Выдано кредитов  Доля должников  Всего должников\n",
      "purpose_category                                                          \n",
      "операции с недвижимостью          10751.0        0.072551            780.0\n",
      "проведение свадьбы                 2313.0        0.079118            183.0\n",
      "получение образования              3988.0        0.092528            369.0\n",
      "операции с автомобилем             4279.0        0.093480            400.0\n"
     ]
    }
   ],
   "source": [
    "pivot_purpose = pd.pivot_table(data, index='purpose_category', values = 'debt',aggfunc = ('mean','sum','count'))\n",
    "pivot_purpose.rename(columns = {'count': 'Выдано кредитов','sum': 'Всего должников','mean':'Доля должников'}, inplace =True)\n",
    "print(pivot_purpose.sort_values('Доля должников'))"
   ]
  },
  {
   "attachments": {},
   "cell_type": "markdown",
   "id": "09e1259a",
   "metadata": {
    "deletable": false,
    "id": "b4bb2ce6"
   },
   "source": [
    "**Вывод:**   Чаще просрочка у тех клиентов, кому нужен кредит на авто и образование. Прострочка по кредитам, целью которых является проведение свадьбы встречается немного чаще, чем по операциям с недвижимостью. "
   ]
  },
  {
   "attachments": {},
   "cell_type": "markdown",
   "id": "67d43d4e",
   "metadata": {
    "deletable": false,
    "editable": false,
    "id": "09c3ac4c"
   },
   "source": [
    "#### 3.5 Приведите возможные причины появления пропусков в исходных данных."
   ]
  },
  {
   "attachments": {},
   "cell_type": "markdown",
   "id": "53a77d5d",
   "metadata": {
    "deletable": false,
    "id": "9da2ceda"
   },
   "source": [
    "*Ответ:* Одной из возможных причин появления пропусков может быть человеческий фактор, наличие необязательных полей в заполняемой форме."
   ]
  },
  {
   "attachments": {},
   "cell_type": "markdown",
   "id": "86e2fedd",
   "metadata": {
    "deletable": false,
    "editable": false,
    "id": "7b0487d6"
   },
   "source": [
    "#### 3.6 Объясните, почему заполнить пропуски медианным значением — лучшее решение для количественных переменных."
   ]
  },
  {
   "attachments": {},
   "cell_type": "markdown",
   "id": "1657c125",
   "metadata": {
    "deletable": false,
    "id": "7ecf2b8e"
   },
   "source": [
    "*Ответ:* Так как медиана по определению является серединой набора чисел, то заполнение пропусков медианным значением не повлияет значение медианы у набора с заполненными пропусками. \n",
    "\n",
    "На среднее значение сильно влияют пиковые значения(пример с зарплатой), так как медиана является более стабильной оценкой в данном случае."
   ]
  },
  {
   "attachments": {},
   "cell_type": "markdown",
   "id": "d2741e7e",
   "metadata": {
    "deletable": false,
    "editable": false,
    "id": "6db5255a"
   },
   "source": [
    "### Шаг 4: общий вывод."
   ]
  },
  {
   "attachments": {},
   "cell_type": "markdown",
   "id": "55ea55ff",
   "metadata": {
    "deletable": false,
    "id": "bad65432"
   },
   "source": [
    "Напишите ваш общий вывод.\n",
    "\n",
    "В данном проекте мы работали с данными клиентов банка по кредитам. Проведён обзор данных, предобработка данных, удаление пропусков, дубликатов, аномальных значений, категоризация данных. Определено влияние различных факторов на вероятность возврата кредита в срок.\n",
    "\n",
    "Количество детей влияется на возврат кредита в срок: чем больше детей, тем более вероятна просрочка по платежам. Люди состоящие или состоявшие в браке чаще платят, чем не женатые. \n",
    "\n",
    "Цели кредита на операции с недвижимостью и проведение свадьбы являются менее рискованными для банков, чем на образование или покупку автомобиля.\n",
    "\n",
    "В данных имеют место пропуски, множество аномальных значений. Достаточно мало данных о клиентах по некоторым категориям."
   ]
  }
 ],
 "metadata": {
  "ExecuteTimeLog": [
   {
    "duration": 51,
    "start_time": "2022-09-20T15:02:26.480Z"
   },
   {
    "duration": 485,
    "start_time": "2022-09-20T15:02:37.883Z"
   },
   {
    "duration": 446,
    "start_time": "2022-09-20T15:03:06.128Z"
   },
   {
    "duration": 20,
    "start_time": "2022-09-20T15:03:06.576Z"
   },
   {
    "duration": 13,
    "start_time": "2022-09-20T15:03:06.598Z"
   },
   {
    "duration": 9,
    "start_time": "2022-09-20T15:03:06.613Z"
   },
   {
    "duration": 31,
    "start_time": "2022-09-20T15:03:06.623Z"
   },
   {
    "duration": 4,
    "start_time": "2022-09-20T15:03:06.655Z"
   },
   {
    "duration": 10,
    "start_time": "2022-09-20T15:03:06.660Z"
   },
   {
    "duration": 4,
    "start_time": "2022-09-20T15:03:06.671Z"
   },
   {
    "duration": 8,
    "start_time": "2022-09-20T15:03:06.676Z"
   },
   {
    "duration": 27,
    "start_time": "2022-09-20T15:03:06.687Z"
   },
   {
    "duration": 33,
    "start_time": "2022-09-20T15:03:06.715Z"
   },
   {
    "duration": 8,
    "start_time": "2022-09-20T15:03:06.750Z"
   },
   {
    "duration": 5,
    "start_time": "2022-09-20T15:03:06.759Z"
   },
   {
    "duration": 12,
    "start_time": "2022-09-20T15:03:06.765Z"
   },
   {
    "duration": 38,
    "start_time": "2022-09-20T15:03:06.779Z"
   },
   {
    "duration": 19,
    "start_time": "2022-09-20T15:03:06.819Z"
   },
   {
    "duration": 3,
    "start_time": "2022-09-20T15:03:06.840Z"
   },
   {
    "duration": 22,
    "start_time": "2022-09-20T15:03:06.845Z"
   },
   {
    "duration": 18,
    "start_time": "2022-09-20T15:03:06.868Z"
   },
   {
    "duration": 11,
    "start_time": "2022-09-20T15:03:06.888Z"
   },
   {
    "duration": 23,
    "start_time": "2022-09-20T15:03:06.900Z"
   },
   {
    "duration": 69,
    "start_time": "2022-09-20T15:03:06.924Z"
   },
   {
    "duration": 0,
    "start_time": "2022-09-20T15:03:06.995Z"
   },
   {
    "duration": 0,
    "start_time": "2022-09-20T15:03:06.996Z"
   },
   {
    "duration": 0,
    "start_time": "2022-09-20T15:03:06.996Z"
   },
   {
    "duration": 4,
    "start_time": "2022-09-20T15:03:27.683Z"
   },
   {
    "duration": 3,
    "start_time": "2022-09-20T16:16:50.547Z"
   },
   {
    "duration": 15,
    "start_time": "2022-09-20T16:17:00.890Z"
   },
   {
    "duration": 12,
    "start_time": "2022-09-20T16:17:03.226Z"
   },
   {
    "duration": 5,
    "start_time": "2022-09-20T16:17:16.018Z"
   },
   {
    "duration": 12,
    "start_time": "2022-09-20T16:17:27.583Z"
   },
   {
    "duration": 7,
    "start_time": "2022-09-20T16:20:59.192Z"
   },
   {
    "duration": 7,
    "start_time": "2022-09-20T16:21:31.047Z"
   },
   {
    "duration": 26,
    "start_time": "2022-09-20T16:23:17.884Z"
   },
   {
    "duration": 20,
    "start_time": "2022-09-20T16:23:39.617Z"
   },
   {
    "duration": 14,
    "start_time": "2022-09-20T16:24:11.627Z"
   },
   {
    "duration": 13,
    "start_time": "2022-09-20T16:24:49.061Z"
   },
   {
    "duration": 4,
    "start_time": "2022-09-20T16:26:22.484Z"
   },
   {
    "duration": 5,
    "start_time": "2022-09-20T16:26:46.479Z"
   },
   {
    "duration": 12,
    "start_time": "2022-09-20T19:34:16.941Z"
   },
   {
    "duration": 6,
    "start_time": "2022-09-20T19:34:31.848Z"
   },
   {
    "duration": 5,
    "start_time": "2022-09-20T19:34:50.102Z"
   },
   {
    "duration": 43,
    "start_time": "2022-09-20T19:35:36.103Z"
   },
   {
    "duration": 20,
    "start_time": "2022-09-20T19:35:58.160Z"
   },
   {
    "duration": 9,
    "start_time": "2022-09-20T19:36:43.340Z"
   },
   {
    "duration": 6,
    "start_time": "2022-09-20T19:37:49.994Z"
   },
   {
    "duration": 44,
    "start_time": "2022-09-21T17:40:40.984Z"
   },
   {
    "duration": 1064,
    "start_time": "2022-09-21T17:40:51.407Z"
   },
   {
    "duration": 20,
    "start_time": "2022-09-21T17:40:52.473Z"
   },
   {
    "duration": 13,
    "start_time": "2022-09-21T17:40:52.494Z"
   },
   {
    "duration": 8,
    "start_time": "2022-09-21T17:40:52.509Z"
   },
   {
    "duration": 31,
    "start_time": "2022-09-21T17:40:52.519Z"
   },
   {
    "duration": 3,
    "start_time": "2022-09-21T17:40:52.551Z"
   },
   {
    "duration": 11,
    "start_time": "2022-09-21T17:40:52.555Z"
   },
   {
    "duration": 5,
    "start_time": "2022-09-21T17:40:52.567Z"
   },
   {
    "duration": 15,
    "start_time": "2022-09-21T17:40:52.574Z"
   },
   {
    "duration": 6,
    "start_time": "2022-09-21T17:40:52.591Z"
   },
   {
    "duration": 47,
    "start_time": "2022-09-21T17:40:52.599Z"
   },
   {
    "duration": 10,
    "start_time": "2022-09-21T17:40:52.647Z"
   },
   {
    "duration": 5,
    "start_time": "2022-09-21T17:40:52.658Z"
   },
   {
    "duration": 12,
    "start_time": "2022-09-21T17:40:52.665Z"
   },
   {
    "duration": 21,
    "start_time": "2022-09-21T17:40:52.678Z"
   },
   {
    "duration": 36,
    "start_time": "2022-09-21T17:40:52.700Z"
   },
   {
    "duration": 3,
    "start_time": "2022-09-21T17:40:52.737Z"
   },
   {
    "duration": 15,
    "start_time": "2022-09-21T17:40:52.741Z"
   },
   {
    "duration": 5,
    "start_time": "2022-09-21T17:40:52.757Z"
   },
   {
    "duration": 5,
    "start_time": "2022-09-21T17:40:52.764Z"
   },
   {
    "duration": 13,
    "start_time": "2022-09-21T17:40:52.771Z"
   },
   {
    "duration": 40,
    "start_time": "2022-09-21T17:40:52.785Z"
   },
   {
    "duration": 4,
    "start_time": "2022-09-21T17:40:52.827Z"
   },
   {
    "duration": 8,
    "start_time": "2022-09-21T17:40:52.832Z"
   },
   {
    "duration": 59,
    "start_time": "2022-09-21T17:40:52.842Z"
   },
   {
    "duration": 0,
    "start_time": "2022-09-21T17:40:52.903Z"
   },
   {
    "duration": 0,
    "start_time": "2022-09-21T17:40:52.904Z"
   },
   {
    "duration": 0,
    "start_time": "2022-09-21T17:40:52.906Z"
   },
   {
    "duration": 7,
    "start_time": "2022-09-21T17:44:01.334Z"
   },
   {
    "duration": 12,
    "start_time": "2022-09-21T17:49:32.889Z"
   },
   {
    "duration": 8,
    "start_time": "2022-09-21T17:59:09.063Z"
   },
   {
    "duration": 13,
    "start_time": "2022-09-21T17:59:34.546Z"
   },
   {
    "duration": 7,
    "start_time": "2022-09-21T18:14:54.987Z"
   },
   {
    "duration": 12,
    "start_time": "2022-09-21T18:43:18.748Z"
   },
   {
    "duration": 14,
    "start_time": "2022-09-21T18:45:26.202Z"
   },
   {
    "duration": 10,
    "start_time": "2022-09-21T18:45:31.947Z"
   },
   {
    "duration": 12,
    "start_time": "2022-09-21T18:45:43.211Z"
   },
   {
    "duration": 151,
    "start_time": "2022-09-21T18:46:40.948Z"
   },
   {
    "duration": 160,
    "start_time": "2022-09-21T18:46:44.629Z"
   },
   {
    "duration": 62,
    "start_time": "2022-09-21T18:47:21.143Z"
   },
   {
    "duration": 7,
    "start_time": "2022-09-21T18:48:24.497Z"
   },
   {
    "duration": 9,
    "start_time": "2022-09-21T18:49:27.633Z"
   },
   {
    "duration": 7,
    "start_time": "2022-09-21T18:49:49.183Z"
   },
   {
    "duration": 6,
    "start_time": "2022-09-21T18:49:53.880Z"
   },
   {
    "duration": 4,
    "start_time": "2022-09-21T18:50:12.744Z"
   },
   {
    "duration": 7,
    "start_time": "2022-09-21T18:50:21.104Z"
   },
   {
    "duration": 11,
    "start_time": "2022-09-21T18:50:45.417Z"
   },
   {
    "duration": 10,
    "start_time": "2022-09-21T18:50:55.097Z"
   },
   {
    "duration": 11,
    "start_time": "2022-09-21T18:50:59.146Z"
   },
   {
    "duration": 20,
    "start_time": "2022-09-21T18:51:31.515Z"
   },
   {
    "duration": 6,
    "start_time": "2022-09-21T18:51:41.410Z"
   },
   {
    "duration": 6,
    "start_time": "2022-09-21T18:51:47.771Z"
   },
   {
    "duration": 13,
    "start_time": "2022-09-21T18:52:46.282Z"
   },
   {
    "duration": 5,
    "start_time": "2022-09-21T18:56:48.673Z"
   },
   {
    "duration": 11,
    "start_time": "2022-09-21T19:02:21.233Z"
   },
   {
    "duration": 9,
    "start_time": "2022-09-21T19:02:37.646Z"
   },
   {
    "duration": 8,
    "start_time": "2022-09-21T19:03:14.643Z"
   },
   {
    "duration": 13,
    "start_time": "2022-09-21T19:03:19.041Z"
   },
   {
    "duration": 11,
    "start_time": "2022-09-21T19:03:47.734Z"
   },
   {
    "duration": 4,
    "start_time": "2022-09-21T19:03:57.162Z"
   },
   {
    "duration": 8,
    "start_time": "2022-09-21T19:04:01.682Z"
   },
   {
    "duration": 115,
    "start_time": "2022-09-21T19:04:07.178Z"
   },
   {
    "duration": 4,
    "start_time": "2022-09-21T19:04:10.706Z"
   },
   {
    "duration": 4,
    "start_time": "2022-09-21T19:04:26.674Z"
   },
   {
    "duration": 10,
    "start_time": "2022-09-21T19:39:17.371Z"
   },
   {
    "duration": 13,
    "start_time": "2022-09-21T19:39:27.133Z"
   },
   {
    "duration": 15,
    "start_time": "2022-09-21T19:40:02.469Z"
   },
   {
    "duration": 16,
    "start_time": "2022-09-21T19:40:12.020Z"
   },
   {
    "duration": 17,
    "start_time": "2022-09-21T20:05:29.306Z"
   },
   {
    "duration": 13,
    "start_time": "2022-09-21T20:09:09.271Z"
   },
   {
    "duration": 16,
    "start_time": "2022-09-21T20:09:34.668Z"
   },
   {
    "duration": 16,
    "start_time": "2022-09-21T20:11:50.297Z"
   },
   {
    "duration": 11,
    "start_time": "2022-09-21T20:12:21.786Z"
   },
   {
    "duration": 11,
    "start_time": "2022-09-21T20:12:26.234Z"
   },
   {
    "duration": 15,
    "start_time": "2022-09-21T20:12:32.963Z"
   },
   {
    "duration": 58,
    "start_time": "2022-09-21T20:13:23.395Z"
   },
   {
    "duration": 92,
    "start_time": "2022-09-21T20:13:33.445Z"
   },
   {
    "duration": 55,
    "start_time": "2022-09-21T20:13:37.748Z"
   },
   {
    "duration": 20,
    "start_time": "2022-09-21T20:14:59.974Z"
   },
   {
    "duration": 21,
    "start_time": "2022-09-21T20:15:09.918Z"
   },
   {
    "duration": 21,
    "start_time": "2022-09-21T20:15:47.296Z"
   },
   {
    "duration": 14,
    "start_time": "2022-09-21T20:16:51.080Z"
   },
   {
    "duration": 20,
    "start_time": "2022-09-21T20:17:05.280Z"
   },
   {
    "duration": 15,
    "start_time": "2022-09-21T20:17:11.628Z"
   },
   {
    "duration": 15,
    "start_time": "2022-09-21T20:17:35.960Z"
   },
   {
    "duration": 13,
    "start_time": "2022-09-21T20:18:14.171Z"
   },
   {
    "duration": 7,
    "start_time": "2022-09-21T20:19:18.395Z"
   },
   {
    "duration": 25,
    "start_time": "2022-09-21T20:19:26.532Z"
   },
   {
    "duration": 19,
    "start_time": "2022-09-21T20:19:42.181Z"
   },
   {
    "duration": 13,
    "start_time": "2022-09-21T20:20:16.636Z"
   },
   {
    "duration": 759,
    "start_time": "2022-09-22T15:53:19.080Z"
   },
   {
    "duration": 20,
    "start_time": "2022-09-22T15:53:19.841Z"
   },
   {
    "duration": 15,
    "start_time": "2022-09-22T15:53:19.862Z"
   },
   {
    "duration": 7,
    "start_time": "2022-09-22T15:53:19.879Z"
   },
   {
    "duration": 47,
    "start_time": "2022-09-22T15:53:19.888Z"
   },
   {
    "duration": 4,
    "start_time": "2022-09-22T15:53:19.936Z"
   },
   {
    "duration": 11,
    "start_time": "2022-09-22T15:53:19.941Z"
   },
   {
    "duration": 4,
    "start_time": "2022-09-22T15:53:19.953Z"
   },
   {
    "duration": 8,
    "start_time": "2022-09-22T15:53:19.958Z"
   },
   {
    "duration": 4,
    "start_time": "2022-09-22T15:53:19.968Z"
   },
   {
    "duration": 63,
    "start_time": "2022-09-22T15:53:19.973Z"
   },
   {
    "duration": 8,
    "start_time": "2022-09-22T15:53:20.038Z"
   },
   {
    "duration": 3,
    "start_time": "2022-09-22T15:53:20.048Z"
   },
   {
    "duration": 15,
    "start_time": "2022-09-22T15:53:20.053Z"
   },
   {
    "duration": 21,
    "start_time": "2022-09-22T15:53:20.069Z"
   },
   {
    "duration": 24,
    "start_time": "2022-09-22T15:53:20.091Z"
   },
   {
    "duration": 8,
    "start_time": "2022-09-22T15:53:20.123Z"
   },
   {
    "duration": 12,
    "start_time": "2022-09-22T15:53:20.134Z"
   },
   {
    "duration": 6,
    "start_time": "2022-09-22T15:53:20.148Z"
   },
   {
    "duration": 4,
    "start_time": "2022-09-22T15:53:20.155Z"
   },
   {
    "duration": 11,
    "start_time": "2022-09-22T15:53:20.160Z"
   },
   {
    "duration": 14,
    "start_time": "2022-09-22T15:53:20.172Z"
   },
   {
    "duration": 11,
    "start_time": "2022-09-22T15:53:20.187Z"
   },
   {
    "duration": 37,
    "start_time": "2022-09-22T15:53:20.199Z"
   },
   {
    "duration": 8,
    "start_time": "2022-09-22T15:53:20.240Z"
   },
   {
    "duration": 7,
    "start_time": "2022-09-22T15:53:20.249Z"
   },
   {
    "duration": 3,
    "start_time": "2022-09-22T15:53:20.257Z"
   },
   {
    "duration": 17,
    "start_time": "2022-09-22T15:53:20.262Z"
   },
   {
    "duration": 11,
    "start_time": "2022-09-22T15:53:20.280Z"
   },
   {
    "duration": 45,
    "start_time": "2022-09-22T15:53:20.292Z"
   },
   {
    "duration": 13,
    "start_time": "2022-09-22T15:58:04.262Z"
   },
   {
    "duration": 24,
    "start_time": "2022-09-22T16:49:09.411Z"
   },
   {
    "duration": 14,
    "start_time": "2022-09-22T18:40:29.358Z"
   },
   {
    "duration": 15,
    "start_time": "2022-09-22T18:40:36.318Z"
   },
   {
    "duration": 13,
    "start_time": "2022-09-22T19:05:35.524Z"
   },
   {
    "duration": 17,
    "start_time": "2022-09-22T19:06:07.693Z"
   },
   {
    "duration": 15,
    "start_time": "2022-09-22T19:07:03.568Z"
   },
   {
    "duration": 16,
    "start_time": "2022-09-22T19:07:37.480Z"
   },
   {
    "duration": 16,
    "start_time": "2022-09-22T19:27:21.426Z"
   },
   {
    "duration": 15,
    "start_time": "2022-09-22T19:28:41.875Z"
   },
   {
    "duration": 12,
    "start_time": "2022-09-22T19:42:32.757Z"
   },
   {
    "duration": 527,
    "start_time": "2022-09-22T19:56:09.058Z"
   },
   {
    "duration": 21,
    "start_time": "2022-09-22T19:56:09.587Z"
   },
   {
    "duration": 14,
    "start_time": "2022-09-22T19:56:09.610Z"
   },
   {
    "duration": 12,
    "start_time": "2022-09-22T19:56:09.626Z"
   },
   {
    "duration": 37,
    "start_time": "2022-09-22T19:56:09.640Z"
   },
   {
    "duration": 3,
    "start_time": "2022-09-22T19:56:09.679Z"
   },
   {
    "duration": 9,
    "start_time": "2022-09-22T19:56:09.708Z"
   },
   {
    "duration": 6,
    "start_time": "2022-09-22T19:56:09.719Z"
   },
   {
    "duration": 9,
    "start_time": "2022-09-22T19:56:09.726Z"
   },
   {
    "duration": 6,
    "start_time": "2022-09-22T19:56:09.739Z"
   },
   {
    "duration": 33,
    "start_time": "2022-09-22T19:56:09.746Z"
   },
   {
    "duration": 31,
    "start_time": "2022-09-22T19:56:09.780Z"
   },
   {
    "duration": 4,
    "start_time": "2022-09-22T19:56:09.812Z"
   },
   {
    "duration": 11,
    "start_time": "2022-09-22T19:56:09.817Z"
   },
   {
    "duration": 18,
    "start_time": "2022-09-22T19:56:09.829Z"
   },
   {
    "duration": 16,
    "start_time": "2022-09-22T19:56:09.848Z"
   },
   {
    "duration": 4,
    "start_time": "2022-09-22T19:56:09.865Z"
   },
   {
    "duration": 46,
    "start_time": "2022-09-22T19:56:09.870Z"
   },
   {
    "duration": 9,
    "start_time": "2022-09-22T19:56:09.917Z"
   },
   {
    "duration": 4,
    "start_time": "2022-09-22T19:56:09.927Z"
   },
   {
    "duration": 15,
    "start_time": "2022-09-22T19:56:09.932Z"
   },
   {
    "duration": 21,
    "start_time": "2022-09-22T19:56:09.949Z"
   },
   {
    "duration": 39,
    "start_time": "2022-09-22T19:56:09.971Z"
   },
   {
    "duration": 12,
    "start_time": "2022-09-22T19:56:10.012Z"
   },
   {
    "duration": 13,
    "start_time": "2022-09-22T19:56:10.026Z"
   },
   {
    "duration": 46,
    "start_time": "2022-09-23T18:42:13.669Z"
   },
   {
    "duration": 671,
    "start_time": "2022-09-23T18:42:19.365Z"
   },
   {
    "duration": 23,
    "start_time": "2022-09-23T18:42:20.038Z"
   },
   {
    "duration": 13,
    "start_time": "2022-09-23T18:42:20.062Z"
   },
   {
    "duration": 9,
    "start_time": "2022-09-23T18:42:20.077Z"
   },
   {
    "duration": 50,
    "start_time": "2022-09-23T18:42:20.087Z"
   },
   {
    "duration": 3,
    "start_time": "2022-09-23T18:42:20.139Z"
   },
   {
    "duration": 14,
    "start_time": "2022-09-23T18:42:20.144Z"
   },
   {
    "duration": 4,
    "start_time": "2022-09-23T18:42:20.162Z"
   },
   {
    "duration": 12,
    "start_time": "2022-09-23T18:42:20.167Z"
   },
   {
    "duration": 4,
    "start_time": "2022-09-23T18:42:20.181Z"
   },
   {
    "duration": 55,
    "start_time": "2022-09-23T18:42:20.186Z"
   },
   {
    "duration": 10,
    "start_time": "2022-09-23T18:42:20.243Z"
   },
   {
    "duration": 4,
    "start_time": "2022-09-23T18:42:20.254Z"
   },
   {
    "duration": 13,
    "start_time": "2022-09-23T18:42:20.259Z"
   },
   {
    "duration": 20,
    "start_time": "2022-09-23T18:42:20.273Z"
   },
   {
    "duration": 16,
    "start_time": "2022-09-23T18:42:20.294Z"
   },
   {
    "duration": 23,
    "start_time": "2022-09-23T18:42:20.311Z"
   },
   {
    "duration": 12,
    "start_time": "2022-09-23T18:42:20.335Z"
   },
   {
    "duration": 5,
    "start_time": "2022-09-23T18:42:20.349Z"
   },
   {
    "duration": 5,
    "start_time": "2022-09-23T18:42:20.356Z"
   },
   {
    "duration": 16,
    "start_time": "2022-09-23T18:42:20.362Z"
   },
   {
    "duration": 22,
    "start_time": "2022-09-23T18:42:20.380Z"
   },
   {
    "duration": 37,
    "start_time": "2022-09-23T18:42:20.404Z"
   },
   {
    "duration": 11,
    "start_time": "2022-09-23T18:42:20.442Z"
   },
   {
    "duration": 11,
    "start_time": "2022-09-23T18:42:20.455Z"
   },
   {
    "duration": 19,
    "start_time": "2022-09-23T18:45:17.104Z"
   },
   {
    "duration": 20,
    "start_time": "2022-09-23T18:45:30.568Z"
   },
   {
    "duration": 84,
    "start_time": "2022-09-23T18:46:42.185Z"
   },
   {
    "duration": 23,
    "start_time": "2022-09-23T18:47:03.066Z"
   },
   {
    "duration": 23,
    "start_time": "2022-09-23T18:47:17.762Z"
   },
   {
    "duration": 47,
    "start_time": "2022-09-24T08:08:25.960Z"
   },
   {
    "duration": 551,
    "start_time": "2022-09-24T08:08:31.199Z"
   },
   {
    "duration": 24,
    "start_time": "2022-09-24T08:08:31.752Z"
   },
   {
    "duration": 15,
    "start_time": "2022-09-24T08:08:31.777Z"
   },
   {
    "duration": 24,
    "start_time": "2022-09-24T08:08:31.794Z"
   },
   {
    "duration": 36,
    "start_time": "2022-09-24T08:08:31.820Z"
   },
   {
    "duration": 4,
    "start_time": "2022-09-24T08:08:31.858Z"
   },
   {
    "duration": 12,
    "start_time": "2022-09-24T08:08:31.863Z"
   },
   {
    "duration": 10,
    "start_time": "2022-09-24T08:08:31.877Z"
   },
   {
    "duration": 9,
    "start_time": "2022-09-24T08:08:31.896Z"
   },
   {
    "duration": 14,
    "start_time": "2022-09-24T08:08:31.907Z"
   },
   {
    "duration": 40,
    "start_time": "2022-09-24T08:08:31.922Z"
   },
   {
    "duration": 10,
    "start_time": "2022-09-24T08:08:31.964Z"
   },
   {
    "duration": 4,
    "start_time": "2022-09-24T08:08:31.996Z"
   },
   {
    "duration": 14,
    "start_time": "2022-09-24T08:08:32.002Z"
   },
   {
    "duration": 26,
    "start_time": "2022-09-24T08:08:32.018Z"
   },
   {
    "duration": 19,
    "start_time": "2022-09-24T08:08:32.046Z"
   },
   {
    "duration": 5,
    "start_time": "2022-09-24T08:08:32.067Z"
   },
   {
    "duration": 10,
    "start_time": "2022-09-24T08:08:32.095Z"
   },
   {
    "duration": 12,
    "start_time": "2022-09-24T08:08:32.107Z"
   },
   {
    "duration": 5,
    "start_time": "2022-09-24T08:08:32.122Z"
   },
   {
    "duration": 21,
    "start_time": "2022-09-24T08:08:32.130Z"
   },
   {
    "duration": 103,
    "start_time": "2022-09-24T08:08:32.153Z"
   },
   {
    "duration": 0,
    "start_time": "2022-09-24T08:08:32.258Z"
   },
   {
    "duration": 0,
    "start_time": "2022-09-24T08:08:32.260Z"
   },
   {
    "duration": 0,
    "start_time": "2022-09-24T08:08:32.261Z"
   },
   {
    "duration": 34,
    "start_time": "2022-09-24T08:09:02.292Z"
   },
   {
    "duration": 20,
    "start_time": "2022-09-24T08:09:11.291Z"
   },
   {
    "duration": 27,
    "start_time": "2022-09-24T08:11:15.677Z"
   },
   {
    "duration": 20,
    "start_time": "2022-09-24T08:11:24.037Z"
   },
   {
    "duration": 20,
    "start_time": "2022-09-24T08:11:53.558Z"
   },
   {
    "duration": 23,
    "start_time": "2022-09-24T08:25:20.348Z"
   },
   {
    "duration": 451,
    "start_time": "2022-09-24T08:25:38.630Z"
   },
   {
    "duration": 22,
    "start_time": "2022-09-24T08:25:39.083Z"
   },
   {
    "duration": 16,
    "start_time": "2022-09-24T08:25:39.107Z"
   },
   {
    "duration": 9,
    "start_time": "2022-09-24T08:25:39.125Z"
   },
   {
    "duration": 58,
    "start_time": "2022-09-24T08:25:39.137Z"
   },
   {
    "duration": 3,
    "start_time": "2022-09-24T08:25:39.197Z"
   },
   {
    "duration": 11,
    "start_time": "2022-09-24T08:25:39.202Z"
   },
   {
    "duration": 5,
    "start_time": "2022-09-24T08:25:39.215Z"
   },
   {
    "duration": 7,
    "start_time": "2022-09-24T08:25:39.221Z"
   },
   {
    "duration": 6,
    "start_time": "2022-09-24T08:25:39.229Z"
   },
   {
    "duration": 59,
    "start_time": "2022-09-24T08:25:39.236Z"
   },
   {
    "duration": 9,
    "start_time": "2022-09-24T08:25:39.297Z"
   },
   {
    "duration": 5,
    "start_time": "2022-09-24T08:25:39.308Z"
   },
   {
    "duration": 11,
    "start_time": "2022-09-24T08:25:39.316Z"
   },
   {
    "duration": 22,
    "start_time": "2022-09-24T08:25:39.329Z"
   },
   {
    "duration": 42,
    "start_time": "2022-09-24T08:25:39.353Z"
   },
   {
    "duration": 4,
    "start_time": "2022-09-24T08:25:39.397Z"
   },
   {
    "duration": 15,
    "start_time": "2022-09-24T08:25:39.403Z"
   },
   {
    "duration": 8,
    "start_time": "2022-09-24T08:25:39.420Z"
   },
   {
    "duration": 4,
    "start_time": "2022-09-24T08:25:39.430Z"
   },
   {
    "duration": 16,
    "start_time": "2022-09-24T08:25:39.435Z"
   },
   {
    "duration": 42,
    "start_time": "2022-09-24T08:25:39.453Z"
   },
   {
    "duration": 17,
    "start_time": "2022-09-24T08:25:39.497Z"
   },
   {
    "duration": 95,
    "start_time": "2022-09-24T08:25:39.515Z"
   },
   {
    "duration": 0,
    "start_time": "2022-09-24T08:25:39.612Z"
   },
   {
    "duration": 19,
    "start_time": "2022-09-24T08:26:48.950Z"
   },
   {
    "duration": 43,
    "start_time": "2022-09-24T08:31:07.764Z"
   },
   {
    "duration": 36,
    "start_time": "2022-09-24T08:31:42.189Z"
   },
   {
    "duration": 26,
    "start_time": "2022-09-24T08:31:54.917Z"
   },
   {
    "duration": 28,
    "start_time": "2022-09-24T08:33:26.886Z"
   },
   {
    "duration": 30,
    "start_time": "2022-09-24T08:33:34.350Z"
   },
   {
    "duration": 22,
    "start_time": "2022-09-24T08:34:26.064Z"
   },
   {
    "duration": 27,
    "start_time": "2022-09-24T08:34:31.697Z"
   },
   {
    "duration": 25,
    "start_time": "2022-09-24T08:34:41.152Z"
   },
   {
    "duration": 25,
    "start_time": "2022-09-24T08:35:44.137Z"
   },
   {
    "duration": 22,
    "start_time": "2022-09-24T08:35:52.731Z"
   },
   {
    "duration": 31,
    "start_time": "2022-09-24T08:37:15.740Z"
   },
   {
    "duration": 21,
    "start_time": "2022-09-24T08:37:45.349Z"
   },
   {
    "duration": 17,
    "start_time": "2022-09-24T08:38:25.772Z"
   },
   {
    "duration": 33,
    "start_time": "2022-09-24T08:43:47.301Z"
   },
   {
    "duration": 26,
    "start_time": "2022-09-24T08:44:17.149Z"
   },
   {
    "duration": 32,
    "start_time": "2022-09-24T08:44:33.598Z"
   },
   {
    "duration": 21,
    "start_time": "2022-09-24T08:54:14.562Z"
   },
   {
    "duration": 24,
    "start_time": "2022-09-24T08:54:29.858Z"
   },
   {
    "duration": 20,
    "start_time": "2022-09-24T08:54:39.219Z"
   },
   {
    "duration": 28,
    "start_time": "2022-09-24T08:54:46.523Z"
   },
   {
    "duration": 21,
    "start_time": "2022-09-24T11:18:03.695Z"
   },
   {
    "duration": 501,
    "start_time": "2022-09-24T12:52:35.876Z"
   },
   {
    "duration": 35,
    "start_time": "2022-09-24T12:52:36.380Z"
   },
   {
    "duration": 18,
    "start_time": "2022-09-24T12:52:36.416Z"
   },
   {
    "duration": 9,
    "start_time": "2022-09-24T12:52:36.436Z"
   },
   {
    "duration": 56,
    "start_time": "2022-09-24T12:52:36.447Z"
   },
   {
    "duration": 4,
    "start_time": "2022-09-24T12:52:36.505Z"
   },
   {
    "duration": 25,
    "start_time": "2022-09-24T12:52:36.511Z"
   },
   {
    "duration": 14,
    "start_time": "2022-09-24T12:52:36.538Z"
   },
   {
    "duration": 20,
    "start_time": "2022-09-24T12:52:36.554Z"
   },
   {
    "duration": 8,
    "start_time": "2022-09-24T12:52:36.579Z"
   },
   {
    "duration": 44,
    "start_time": "2022-09-24T12:52:36.595Z"
   },
   {
    "duration": 12,
    "start_time": "2022-09-24T12:52:36.642Z"
   },
   {
    "duration": 17,
    "start_time": "2022-09-24T12:52:36.656Z"
   },
   {
    "duration": 25,
    "start_time": "2022-09-24T12:52:36.675Z"
   },
   {
    "duration": 25,
    "start_time": "2022-09-24T12:52:36.702Z"
   },
   {
    "duration": 20,
    "start_time": "2022-09-24T12:52:36.729Z"
   },
   {
    "duration": 7,
    "start_time": "2022-09-24T12:52:36.751Z"
   },
   {
    "duration": 35,
    "start_time": "2022-09-24T12:52:36.760Z"
   },
   {
    "duration": 7,
    "start_time": "2022-09-24T12:52:36.797Z"
   },
   {
    "duration": 4,
    "start_time": "2022-09-24T12:52:36.806Z"
   },
   {
    "duration": 14,
    "start_time": "2022-09-24T12:52:36.812Z"
   },
   {
    "duration": 31,
    "start_time": "2022-09-24T12:52:36.829Z"
   },
   {
    "duration": 45,
    "start_time": "2022-09-24T12:52:36.862Z"
   },
   {
    "duration": 21,
    "start_time": "2022-09-24T12:52:36.909Z"
   },
   {
    "duration": 22,
    "start_time": "2022-09-24T12:52:36.931Z"
   }
  ],
  "colab": {
   "name": "dpp_template_part2.ipynb",
   "provenance": []
  },
  "kernelspec": {
   "display_name": "Python 3 (ipykernel)",
   "language": "python",
   "name": "python3"
  },
  "language_info": {
   "codemirror_mode": {
    "name": "ipython",
    "version": 3
   },
   "file_extension": ".py",
   "mimetype": "text/x-python",
   "name": "python",
   "nbconvert_exporter": "python",
   "pygments_lexer": "ipython3",
   "version": "3.9.5"
  },
  "toc": {
   "base_numbering": 1,
   "nav_menu": {},
   "number_sections": true,
   "sideBar": true,
   "skip_h1_title": true,
   "title_cell": "Table of Contents",
   "title_sidebar": "Contents",
   "toc_cell": false,
   "toc_position": {},
   "toc_section_display": true,
   "toc_window_display": false
  }
 },
 "nbformat": 4,
 "nbformat_minor": 5
}
