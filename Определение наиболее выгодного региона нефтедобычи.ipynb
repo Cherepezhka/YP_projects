{
 "cells": [
  {
   "attachments": {},
   "cell_type": "markdown",
   "metadata": {},
   "source": [
    "# Выбор локации для скважины"
   ]
  },
  {
   "attachments": {},
   "cell_type": "markdown",
   "metadata": {},
   "source": [
    "Допустим, вы работаете в добывающей компании «ГлавРосГосНефть». Нужно решить, где бурить новую скважину.\n",
    "\n",
    "Вам предоставлены пробы нефти в трёх регионах: в каждом 10 000 месторождений, где измерили качество нефти и объём её запасов. Постройте модель машинного обучения, которая поможет определить регион, где добыча принесёт наибольшую прибыль. Проанализируйте возможную прибыль и риски техникой *Bootstrap.*\n",
    "\n",
    "Шаги для выбора локации:\n",
    "\n",
    "- В избранном регионе ищут месторождения, для каждого определяют значения признаков;\n",
    "- Строят модель и оценивают объём запасов;\n",
    "- Выбирают месторождения с самым высокими оценками значений. Количество месторождений зависит от бюджета компании и стоимости разработки одной скважины;\n",
    "- Прибыль равна суммарной прибыли отобранных месторождений."
   ]
  },
  {
   "attachments": {},
   "cell_type": "markdown",
   "metadata": {
    "toc": true
   },
   "source": [
    "<h1>Содержание<span class=\"tocSkip\"></span></h1>\n",
    "<div class=\"toc\"><ul class=\"toc-item\"><li><ul class=\"toc-item\"><li><span><a href=\"#Общее-впечатление\" data-toc-modified-id=\"Общее-впечатление-0.1\"><span class=\"toc-item-num\">0.1&nbsp;&nbsp;</span><font color=\"orange\">Общее впечатление</font></a></span></li><li><span><a href=\"#Общее-впечатление-(ревью-2)\" data-toc-modified-id=\"Общее-впечатление-(ревью-2)-0.2\"><span class=\"toc-item-num\">0.2&nbsp;&nbsp;</span><font color=\"orange\">Общее впечатление (ревью 2)</font></a></span></li></ul></li><li><span><a href=\"#Загрузка-и-подготовка-данных\" data-toc-modified-id=\"Загрузка-и-подготовка-данных-1\"><span class=\"toc-item-num\">1&nbsp;&nbsp;</span>Загрузка и подготовка данных</a></span></li><li><span><a href=\"#Обучение-и-проверка-модели\" data-toc-modified-id=\"Обучение-и-проверка-модели-2\"><span class=\"toc-item-num\">2&nbsp;&nbsp;</span>Обучение и проверка модели</a></span></li><li><span><a href=\"#Подготовка-к-расчёту-прибыли\" data-toc-modified-id=\"Подготовка-к-расчёту-прибыли-3\"><span class=\"toc-item-num\">3&nbsp;&nbsp;</span>Подготовка к расчёту прибыли</a></span></li><li><span><a href=\"#Расчёт-прибыли-и-рисков\" data-toc-modified-id=\"Расчёт-прибыли-и-рисков-4\"><span class=\"toc-item-num\">4&nbsp;&nbsp;</span>Расчёт прибыли и рисков</a></span></li><li><span><a href=\"#Общий-вывод\" data-toc-modified-id=\"Общий-вывод-5\"><span class=\"toc-item-num\">5&nbsp;&nbsp;</span>Общий вывод</a></span></li><li><span><a href=\"#Чек-лист-готовности-проекта\" data-toc-modified-id=\"Чек-лист-готовности-проекта-6\"><span class=\"toc-item-num\">6&nbsp;&nbsp;</span>Чек-лист готовности проекта</a></span></li></ul></div>"
   ]
  },
  {
   "attachments": {},
   "cell_type": "markdown",
   "metadata": {},
   "source": [
    "## Загрузка и подготовка данных"
   ]
  },
  {
   "cell_type": "code",
   "execution_count": 1,
   "metadata": {},
   "outputs": [],
   "source": [
    "import pandas as pd\n",
    "from scipy.stats import uniform\n",
    "\n",
    "import seaborn as sns\n",
    "import matplotlib.pyplot as plt\n",
    "\n",
    "from sklearn.linear_model import LinearRegression\n",
    "\n",
    "from sklearn.model_selection import train_test_split       \n",
    "\n",
    "from sklearn.metrics import r2_score, mean_absolute_error,mean_squared_error\n",
    "from numpy.random import RandomState\n",
    "\n",
    "import warnings\n",
    "warnings.filterwarnings('ignore')"
   ]
  },
  {
   "attachments": {},
   "cell_type": "markdown",
   "metadata": {},
   "source": [
    "<div class=\"alert alert-block alert-success\">\n",
    "<b>Успех:</b> Отлично, что все импорты собраны в первой ячейке ноутбука! Если у того, кто будет запускать твой ноутбук будут отсутствовать некоторые библиотеки, то он это увидит сразу, а не в процессе!\n",
    "</div>"
   ]
  },
  {
   "cell_type": "code",
   "execution_count": 2,
   "metadata": {},
   "outputs": [],
   "source": [
    "data_0 = pd.read_csv('/datasets/geo_data_0.csv')\n",
    "data_1 = pd.read_csv('/datasets/geo_data_1.csv')\n",
    "data_2 = pd.read_csv('/datasets/geo_data_2.csv')"
   ]
  },
  {
   "cell_type": "code",
   "execution_count": 3,
   "metadata": {},
   "outputs": [
    {
     "name": "stdout",
     "output_type": "stream",
     "text": [
      "<class 'pandas.core.frame.DataFrame'>\n",
      "RangeIndex: 100000 entries, 0 to 99999\n",
      "Data columns (total 5 columns):\n",
      " #   Column   Non-Null Count   Dtype  \n",
      "---  ------   --------------   -----  \n",
      " 0   id       100000 non-null  object \n",
      " 1   f0       100000 non-null  float64\n",
      " 2   f1       100000 non-null  float64\n",
      " 3   f2       100000 non-null  float64\n",
      " 4   product  100000 non-null  float64\n",
      "dtypes: float64(4), object(1)\n",
      "memory usage: 3.8+ MB\n",
      "<class 'pandas.core.frame.DataFrame'>\n",
      "RangeIndex: 100000 entries, 0 to 99999\n",
      "Data columns (total 5 columns):\n",
      " #   Column   Non-Null Count   Dtype  \n",
      "---  ------   --------------   -----  \n",
      " 0   id       100000 non-null  object \n",
      " 1   f0       100000 non-null  float64\n",
      " 2   f1       100000 non-null  float64\n",
      " 3   f2       100000 non-null  float64\n",
      " 4   product  100000 non-null  float64\n",
      "dtypes: float64(4), object(1)\n",
      "memory usage: 3.8+ MB\n",
      "<class 'pandas.core.frame.DataFrame'>\n",
      "RangeIndex: 100000 entries, 0 to 99999\n",
      "Data columns (total 5 columns):\n",
      " #   Column   Non-Null Count   Dtype  \n",
      "---  ------   --------------   -----  \n",
      " 0   id       100000 non-null  object \n",
      " 1   f0       100000 non-null  float64\n",
      " 2   f1       100000 non-null  float64\n",
      " 3   f2       100000 non-null  float64\n",
      " 4   product  100000 non-null  float64\n",
      "dtypes: float64(4), object(1)\n",
      "memory usage: 3.8+ MB\n"
     ]
    }
   ],
   "source": [
    "data_0.info()\n",
    "data_1.info()\n",
    "data_2.info()"
   ]
  },
  {
   "cell_type": "code",
   "execution_count": 4,
   "metadata": {},
   "outputs": [
    {
     "data": {
      "text/html": [
       "<div>\n",
       "<style scoped>\n",
       "    .dataframe tbody tr th:only-of-type {\n",
       "        vertical-align: middle;\n",
       "    }\n",
       "\n",
       "    .dataframe tbody tr th {\n",
       "        vertical-align: top;\n",
       "    }\n",
       "\n",
       "    .dataframe thead th {\n",
       "        text-align: right;\n",
       "    }\n",
       "</style>\n",
       "<table border=\"1\" class=\"dataframe\">\n",
       "  <thead>\n",
       "    <tr style=\"text-align: right;\">\n",
       "      <th></th>\n",
       "      <th>id</th>\n",
       "      <th>f0</th>\n",
       "      <th>f1</th>\n",
       "      <th>f2</th>\n",
       "      <th>product</th>\n",
       "    </tr>\n",
       "  </thead>\n",
       "  <tbody>\n",
       "    <tr>\n",
       "      <th>0</th>\n",
       "      <td>fwXo0</td>\n",
       "      <td>-1.146987</td>\n",
       "      <td>0.963328</td>\n",
       "      <td>-0.828965</td>\n",
       "      <td>27.758673</td>\n",
       "    </tr>\n",
       "    <tr>\n",
       "      <th>1</th>\n",
       "      <td>WJtFt</td>\n",
       "      <td>0.262778</td>\n",
       "      <td>0.269839</td>\n",
       "      <td>-2.530187</td>\n",
       "      <td>56.069697</td>\n",
       "    </tr>\n",
       "    <tr>\n",
       "      <th>2</th>\n",
       "      <td>ovLUW</td>\n",
       "      <td>0.194587</td>\n",
       "      <td>0.289035</td>\n",
       "      <td>-5.586433</td>\n",
       "      <td>62.871910</td>\n",
       "    </tr>\n",
       "  </tbody>\n",
       "</table>\n",
       "</div>"
      ],
      "text/plain": [
       "      id        f0        f1        f2    product\n",
       "0  fwXo0 -1.146987  0.963328 -0.828965  27.758673\n",
       "1  WJtFt  0.262778  0.269839 -2.530187  56.069697\n",
       "2  ovLUW  0.194587  0.289035 -5.586433  62.871910"
      ]
     },
     "execution_count": 4,
     "metadata": {},
     "output_type": "execute_result"
    }
   ],
   "source": [
    "data_2.head(3)"
   ]
  },
  {
   "attachments": {},
   "cell_type": "markdown",
   "metadata": {},
   "source": [
    "*id* — уникальный идентификатор скважины;\n",
    "\n",
    "*f0, f1, f2* — три признака точек;\n",
    "\n",
    "*product* — объём запасов в скважине (тыс. баррелей)."
   ]
  },
  {
   "attachments": {},
   "cell_type": "markdown",
   "metadata": {},
   "source": [
    "Представленные в данных признаки уже отмасштабированны."
   ]
  },
  {
   "attachments": {},
   "cell_type": "markdown",
   "metadata": {},
   "source": [
    "Проверка на  явные дубликаты дубликаты."
   ]
  },
  {
   "cell_type": "code",
   "execution_count": 5,
   "metadata": {},
   "outputs": [
    {
     "name": "stdout",
     "output_type": "stream",
     "text": [
      "0\n",
      "0\n",
      "0\n"
     ]
    }
   ],
   "source": [
    "print(data_0.duplicated().sum())\n",
    "print(data_1.duplicated().sum())\n",
    "print(data_2.duplicated().sum())"
   ]
  },
  {
   "attachments": {},
   "cell_type": "markdown",
   "metadata": {},
   "source": [
    "Проверим признаки на корреляцию."
   ]
  },
  {
   "cell_type": "code",
   "execution_count": 7,
   "metadata": {},
   "outputs": [
    {
     "data": {
      "text/html": [
       "<style  type=\"text/css\" >\n",
       "#T_0fb12_row0_col0,#T_0fb12_row1_col1,#T_0fb12_row2_col2,#T_0fb12_row3_col3{\n",
       "            background-color:  #014636;\n",
       "            color:  #f1f1f1;\n",
       "        }#T_0fb12_row0_col1,#T_0fb12_row0_col2,#T_0fb12_row1_col0,#T_0fb12_row1_col3{\n",
       "            background-color:  #fff7fb;\n",
       "            color:  #000000;\n",
       "        }#T_0fb12_row0_col3{\n",
       "            background-color:  #c5cce3;\n",
       "            color:  #000000;\n",
       "        }#T_0fb12_row1_col2{\n",
       "            background-color:  #fef6fb;\n",
       "            color:  #000000;\n",
       "        }#T_0fb12_row2_col0{\n",
       "            background-color:  #bfc9e1;\n",
       "            color:  #000000;\n",
       "        }#T_0fb12_row2_col1{\n",
       "            background-color:  #bdc8e1;\n",
       "            color:  #000000;\n",
       "        }#T_0fb12_row2_col3{\n",
       "            background-color:  #4c9bc7;\n",
       "            color:  #000000;\n",
       "        }#T_0fb12_row3_col0{\n",
       "            background-color:  #97b8d8;\n",
       "            color:  #000000;\n",
       "        }#T_0fb12_row3_col1{\n",
       "            background-color:  #e1dcec;\n",
       "            color:  #000000;\n",
       "        }#T_0fb12_row3_col2{\n",
       "            background-color:  #6eabd0;\n",
       "            color:  #000000;\n",
       "        }</style><table id=\"T_0fb12_\" ><thead>    <tr>        <th class=\"blank level0\" ></th>        <th class=\"col_heading level0 col0\" >f0</th>        <th class=\"col_heading level0 col1\" >f1</th>        <th class=\"col_heading level0 col2\" >f2</th>        <th class=\"col_heading level0 col3\" >product</th>    </tr></thead><tbody>\n",
       "                <tr>\n",
       "                        <th id=\"T_0fb12_level0_row0\" class=\"row_heading level0 row0\" >f0</th>\n",
       "                        <td id=\"T_0fb12_row0_col0\" class=\"data row0 col0\" >1.000000</td>\n",
       "                        <td id=\"T_0fb12_row0_col1\" class=\"data row0 col1\" >-0.440723</td>\n",
       "                        <td id=\"T_0fb12_row0_col2\" class=\"data row0 col2\" >-0.003153</td>\n",
       "                        <td id=\"T_0fb12_row0_col3\" class=\"data row0 col3\" >0.143536</td>\n",
       "            </tr>\n",
       "            <tr>\n",
       "                        <th id=\"T_0fb12_level0_row1\" class=\"row_heading level0 row1\" >f1</th>\n",
       "                        <td id=\"T_0fb12_row1_col0\" class=\"data row1 col0\" >-0.440723</td>\n",
       "                        <td id=\"T_0fb12_row1_col1\" class=\"data row1 col1\" >1.000000</td>\n",
       "                        <td id=\"T_0fb12_row1_col2\" class=\"data row1 col2\" >0.001724</td>\n",
       "                        <td id=\"T_0fb12_row1_col3\" class=\"data row1 col3\" >-0.192356</td>\n",
       "            </tr>\n",
       "            <tr>\n",
       "                        <th id=\"T_0fb12_level0_row2\" class=\"row_heading level0 row2\" >f2</th>\n",
       "                        <td id=\"T_0fb12_row2_col0\" class=\"data row2 col0\" >-0.003153</td>\n",
       "                        <td id=\"T_0fb12_row2_col1\" class=\"data row2 col1\" >0.001724</td>\n",
       "                        <td id=\"T_0fb12_row2_col2\" class=\"data row2 col2\" >1.000000</td>\n",
       "                        <td id=\"T_0fb12_row2_col3\" class=\"data row2 col3\" >0.483663</td>\n",
       "            </tr>\n",
       "            <tr>\n",
       "                        <th id=\"T_0fb12_level0_row3\" class=\"row_heading level0 row3\" >product</th>\n",
       "                        <td id=\"T_0fb12_row3_col0\" class=\"data row3 col0\" >0.143536</td>\n",
       "                        <td id=\"T_0fb12_row3_col1\" class=\"data row3 col1\" >-0.192356</td>\n",
       "                        <td id=\"T_0fb12_row3_col2\" class=\"data row3 col2\" >0.483663</td>\n",
       "                        <td id=\"T_0fb12_row3_col3\" class=\"data row3 col3\" >1.000000</td>\n",
       "            </tr>\n",
       "    </tbody></table>"
      ],
      "text/plain": [
       "<pandas.io.formats.style.Styler at 0x7fda0a8deb20>"
      ]
     },
     "metadata": {},
     "output_type": "display_data"
    },
    {
     "data": {
      "text/html": [
       "<style  type=\"text/css\" >\n",
       "#T_39a16_row0_col0,#T_39a16_row1_col1,#T_39a16_row2_col2,#T_39a16_row2_col3,#T_39a16_row3_col2,#T_39a16_row3_col3{\n",
       "            background-color:  #014636;\n",
       "            color:  #f1f1f1;\n",
       "        }#T_39a16_row0_col1{\n",
       "            background-color:  #ded9eb;\n",
       "            color:  #000000;\n",
       "        }#T_39a16_row0_col2,#T_39a16_row0_col3,#T_39a16_row1_col2,#T_39a16_row3_col0,#T_39a16_row3_col1{\n",
       "            background-color:  #fff7fb;\n",
       "            color:  #000000;\n",
       "        }#T_39a16_row1_col0{\n",
       "            background-color:  #dad7ea;\n",
       "            color:  #000000;\n",
       "        }#T_39a16_row1_col3{\n",
       "            background-color:  #fcf4f9;\n",
       "            color:  #000000;\n",
       "        }#T_39a16_row2_col0{\n",
       "            background-color:  #fbf2f9;\n",
       "            color:  #000000;\n",
       "        }#T_39a16_row2_col1{\n",
       "            background-color:  #fef6fb;\n",
       "            color:  #000000;\n",
       "        }</style><table id=\"T_39a16_\" ><thead>    <tr>        <th class=\"blank level0\" ></th>        <th class=\"col_heading level0 col0\" >f0</th>        <th class=\"col_heading level0 col1\" >f1</th>        <th class=\"col_heading level0 col2\" >f2</th>        <th class=\"col_heading level0 col3\" >product</th>    </tr></thead><tbody>\n",
       "                <tr>\n",
       "                        <th id=\"T_39a16_level0_row0\" class=\"row_heading level0 row0\" >f0</th>\n",
       "                        <td id=\"T_39a16_row0_col0\" class=\"data row0 col0\" >1.000000</td>\n",
       "                        <td id=\"T_39a16_row0_col1\" class=\"data row0 col1\" >0.182287</td>\n",
       "                        <td id=\"T_39a16_row0_col2\" class=\"data row0 col2\" >-0.001777</td>\n",
       "                        <td id=\"T_39a16_row0_col3\" class=\"data row0 col3\" >-0.030491</td>\n",
       "            </tr>\n",
       "            <tr>\n",
       "                        <th id=\"T_39a16_level0_row1\" class=\"row_heading level0 row1\" >f1</th>\n",
       "                        <td id=\"T_39a16_row1_col0\" class=\"data row1 col0\" >0.182287</td>\n",
       "                        <td id=\"T_39a16_row1_col1\" class=\"data row1 col1\" >1.000000</td>\n",
       "                        <td id=\"T_39a16_row1_col2\" class=\"data row1 col2\" >-0.002595</td>\n",
       "                        <td id=\"T_39a16_row1_col3\" class=\"data row1 col3\" >-0.010155</td>\n",
       "            </tr>\n",
       "            <tr>\n",
       "                        <th id=\"T_39a16_level0_row2\" class=\"row_heading level0 row2\" >f2</th>\n",
       "                        <td id=\"T_39a16_row2_col0\" class=\"data row2 col0\" >-0.001777</td>\n",
       "                        <td id=\"T_39a16_row2_col1\" class=\"data row2 col1\" >-0.002595</td>\n",
       "                        <td id=\"T_39a16_row2_col2\" class=\"data row2 col2\" >1.000000</td>\n",
       "                        <td id=\"T_39a16_row2_col3\" class=\"data row2 col3\" >0.999397</td>\n",
       "            </tr>\n",
       "            <tr>\n",
       "                        <th id=\"T_39a16_level0_row3\" class=\"row_heading level0 row3\" >product</th>\n",
       "                        <td id=\"T_39a16_row3_col0\" class=\"data row3 col0\" >-0.030491</td>\n",
       "                        <td id=\"T_39a16_row3_col1\" class=\"data row3 col1\" >-0.010155</td>\n",
       "                        <td id=\"T_39a16_row3_col2\" class=\"data row3 col2\" >0.999397</td>\n",
       "                        <td id=\"T_39a16_row3_col3\" class=\"data row3 col3\" >1.000000</td>\n",
       "            </tr>\n",
       "    </tbody></table>"
      ],
      "text/plain": [
       "<pandas.io.formats.style.Styler at 0x7fda90091f70>"
      ]
     },
     "metadata": {},
     "output_type": "display_data"
    },
    {
     "data": {
      "text/html": [
       "<style  type=\"text/css\" >\n",
       "#T_26442_row0_col0,#T_26442_row1_col1,#T_26442_row2_col2,#T_26442_row3_col3{\n",
       "            background-color:  #014636;\n",
       "            color:  #f1f1f1;\n",
       "        }#T_26442_row0_col1,#T_26442_row0_col2,#T_26442_row0_col3,#T_26442_row1_col0,#T_26442_row1_col2,#T_26442_row1_col3,#T_26442_row2_col0,#T_26442_row2_col1,#T_26442_row3_col0,#T_26442_row3_col1{\n",
       "            background-color:  #fff7fb;\n",
       "            color:  #000000;\n",
       "        }#T_26442_row2_col3,#T_26442_row3_col2{\n",
       "            background-color:  #82b1d4;\n",
       "            color:  #000000;\n",
       "        }</style><table id=\"T_26442_\" ><thead>    <tr>        <th class=\"blank level0\" ></th>        <th class=\"col_heading level0 col0\" >f0</th>        <th class=\"col_heading level0 col1\" >f1</th>        <th class=\"col_heading level0 col2\" >f2</th>        <th class=\"col_heading level0 col3\" >product</th>    </tr></thead><tbody>\n",
       "                <tr>\n",
       "                        <th id=\"T_26442_level0_row0\" class=\"row_heading level0 row0\" >f0</th>\n",
       "                        <td id=\"T_26442_row0_col0\" class=\"data row0 col0\" >1.000000</td>\n",
       "                        <td id=\"T_26442_row0_col1\" class=\"data row0 col1\" >0.000528</td>\n",
       "                        <td id=\"T_26442_row0_col2\" class=\"data row0 col2\" >-0.000448</td>\n",
       "                        <td id=\"T_26442_row0_col3\" class=\"data row0 col3\" >-0.001987</td>\n",
       "            </tr>\n",
       "            <tr>\n",
       "                        <th id=\"T_26442_level0_row1\" class=\"row_heading level0 row1\" >f1</th>\n",
       "                        <td id=\"T_26442_row1_col0\" class=\"data row1 col0\" >0.000528</td>\n",
       "                        <td id=\"T_26442_row1_col1\" class=\"data row1 col1\" >1.000000</td>\n",
       "                        <td id=\"T_26442_row1_col2\" class=\"data row1 col2\" >0.000779</td>\n",
       "                        <td id=\"T_26442_row1_col3\" class=\"data row1 col3\" >-0.001012</td>\n",
       "            </tr>\n",
       "            <tr>\n",
       "                        <th id=\"T_26442_level0_row2\" class=\"row_heading level0 row2\" >f2</th>\n",
       "                        <td id=\"T_26442_row2_col0\" class=\"data row2 col0\" >-0.000448</td>\n",
       "                        <td id=\"T_26442_row2_col1\" class=\"data row2 col1\" >0.000779</td>\n",
       "                        <td id=\"T_26442_row2_col2\" class=\"data row2 col2\" >1.000000</td>\n",
       "                        <td id=\"T_26442_row2_col3\" class=\"data row2 col3\" >0.445871</td>\n",
       "            </tr>\n",
       "            <tr>\n",
       "                        <th id=\"T_26442_level0_row3\" class=\"row_heading level0 row3\" >product</th>\n",
       "                        <td id=\"T_26442_row3_col0\" class=\"data row3 col0\" >-0.001987</td>\n",
       "                        <td id=\"T_26442_row3_col1\" class=\"data row3 col1\" >-0.001012</td>\n",
       "                        <td id=\"T_26442_row3_col2\" class=\"data row3 col2\" >0.445871</td>\n",
       "                        <td id=\"T_26442_row3_col3\" class=\"data row3 col3\" >1.000000</td>\n",
       "            </tr>\n",
       "    </tbody></table>"
      ],
      "text/plain": [
       "<pandas.io.formats.style.Styler at 0x7fda0a43fbb0>"
      ]
     },
     "metadata": {},
     "output_type": "display_data"
    }
   ],
   "source": [
    "display(data_0.corr().style.background_gradient('PuBuGn'))\n",
    "display(data_1.corr().style.background_gradient('PuBuGn'))\n",
    "display(data_2.corr().style.background_gradient('PuBuGn'))"
   ]
  },
  {
   "attachments": {},
   "cell_type": "markdown",
   "metadata": {},
   "source": [
    "Корреляции признаков меджу собой не наблюдается. Значительная линейная корреляция признака f2 и целевого признака во втором регионе."
   ]
  },
  {
   "attachments": {},
   "cell_type": "markdown",
   "metadata": {},
   "source": [
    "Разделим выборки на тренировочные и валидационные для каждого из датасетов."
   ]
  },
  {
   "cell_type": "code",
   "execution_count": 8,
   "metadata": {},
   "outputs": [],
   "source": [
    "# для первого региона\n",
    "features_0 = data_0.drop(columns=['id','product'])\n",
    "target_0 = data_0['product']\n",
    "\n",
    "features_train_0, features_valid_0, target_train_0, target_valid_0 = train_test_split(features_0,target_0,\n",
    "                                                                                      test_size=0.25 ,random_state=12345)\n",
    "\n",
    "# для второго региона\n",
    "features_1 = data_1.drop(columns=['id','product'])\n",
    "target_1 = data_1['product']\n",
    "\n",
    "features_train_1, features_valid_1, target_train_1, target_valid_1 = train_test_split(features_1,target_1,\n",
    "                                                                                      test_size=0.25 ,random_state=12345)\n",
    "\n",
    "# для третьего региона\n",
    "features_2 = data_2.drop(columns=['id','product'])\n",
    "target_2 = data_2['product']\n",
    "\n",
    "features_train_2, features_valid_2, target_train_2, target_valid_2 = train_test_split(features_2,target_2,\n",
    "                                                                                      test_size=0.25 ,random_state=12345)"
   ]
  },
  {
   "attachments": {},
   "cell_type": "markdown",
   "metadata": {},
   "source": [
    "## Обучение и проверка модели"
   ]
  },
  {
   "cell_type": "code",
   "execution_count": 9,
   "metadata": {},
   "outputs": [],
   "source": [
    "results = pd.DataFrame(columns=['R2','RMSE','MAE','Predicted Product'])"
   ]
  },
  {
   "cell_type": "code",
   "execution_count": 10,
   "metadata": {},
   "outputs": [],
   "source": [
    "def get_metrics(model,features_x,target_x,predictions_x):\n",
    "    r2 = r2_score(target_x,predictions_x)\n",
    "    rmse = mean_squared_error(target_x,predictions_x) ** 0.5\n",
    "    mae = mean_absolute_error(target_x,predictions_x)\n",
    "    \n",
    "    return r2,rmse,mae, predictions_x.mean()\n",
    "    #print(f'R2: {r2:.3f}\\nRMSE: {rmse:.3f}\\nMAE: {mae:.3f}\\nСреднее количество сырья: {predictions_x.mean():.3f}')"
   ]
  },
  {
   "cell_type": "code",
   "execution_count": 11,
   "metadata": {},
   "outputs": [],
   "source": [
    "model_0 = LinearRegression()\n",
    "model_0.fit(features_train_0,target_train_0)\n",
    "predictions_0 = model_0.predict(features_valid_0)\n",
    "\n",
    "results.loc['Region 1',:] = get_metrics(model_0,features_valid_0,target_valid_0,predictions_0)"
   ]
  },
  {
   "cell_type": "code",
   "execution_count": 12,
   "metadata": {},
   "outputs": [],
   "source": [
    "model_1 = LinearRegression()\n",
    "model_1.fit(features_train_1,target_train_1)\n",
    "predictions_1 = model_1.predict(features_valid_1)\n",
    "\n",
    "results.loc['Region 2',:] =get_metrics(model_1,features_valid_1,target_valid_1,predictions_1)"
   ]
  },
  {
   "cell_type": "code",
   "execution_count": 13,
   "metadata": {},
   "outputs": [],
   "source": [
    "model_2 = LinearRegression()\n",
    "model_2.fit(features_train_2,target_train_2)\n",
    "predictions_2 = model_2.predict(features_valid_2)\n",
    "\n",
    "results.loc['Region 3',:] =get_metrics(model_2,features_valid_2,target_valid_2,predictions_2)"
   ]
  },
  {
   "cell_type": "code",
   "execution_count": 14,
   "metadata": {},
   "outputs": [
    {
     "data": {
      "text/html": [
       "<div>\n",
       "<style scoped>\n",
       "    .dataframe tbody tr th:only-of-type {\n",
       "        vertical-align: middle;\n",
       "    }\n",
       "\n",
       "    .dataframe tbody tr th {\n",
       "        vertical-align: top;\n",
       "    }\n",
       "\n",
       "    .dataframe thead th {\n",
       "        text-align: right;\n",
       "    }\n",
       "</style>\n",
       "<table border=\"1\" class=\"dataframe\">\n",
       "  <thead>\n",
       "    <tr style=\"text-align: right;\">\n",
       "      <th></th>\n",
       "      <th>R2</th>\n",
       "      <th>RMSE</th>\n",
       "      <th>MAE</th>\n",
       "      <th>Predicted Product</th>\n",
       "      <th>Real Product</th>\n",
       "    </tr>\n",
       "  </thead>\n",
       "  <tbody>\n",
       "    <tr>\n",
       "      <th>Region 1</th>\n",
       "      <td>0.279943</td>\n",
       "      <td>37.579422</td>\n",
       "      <td>30.919601</td>\n",
       "      <td>92.592568</td>\n",
       "      <td>92.500</td>\n",
       "    </tr>\n",
       "    <tr>\n",
       "      <th>Region 2</th>\n",
       "      <td>0.999623</td>\n",
       "      <td>0.893099</td>\n",
       "      <td>0.718766</td>\n",
       "      <td>68.728547</td>\n",
       "      <td>68.825</td>\n",
       "    </tr>\n",
       "    <tr>\n",
       "      <th>Region 3</th>\n",
       "      <td>0.205248</td>\n",
       "      <td>40.029709</td>\n",
       "      <td>32.792652</td>\n",
       "      <td>94.965046</td>\n",
       "      <td>95.000</td>\n",
       "    </tr>\n",
       "  </tbody>\n",
       "</table>\n",
       "</div>"
      ],
      "text/plain": [
       "                R2       RMSE        MAE Predicted Product  Real Product\n",
       "Region 1  0.279943  37.579422  30.919601         92.592568        92.500\n",
       "Region 2  0.999623   0.893099   0.718766         68.728547        68.825\n",
       "Region 3  0.205248  40.029709  32.792652         94.965046        95.000"
      ]
     },
     "execution_count": 14,
     "metadata": {},
     "output_type": "execute_result"
    }
   ],
   "source": [
    "results['Real Product'] = [data_0['product'].mean(),data_1['product'].mean(),data_2['product'].mean()]\n",
    "results"
   ]
  },
  {
   "attachments": {},
   "cell_type": "markdown",
   "metadata": {},
   "source": [
    "**Вывод:** Наилушие метрики показала модель линейной регрессии, построенная по данным второго региона."
   ]
  },
  {
   "attachments": {},
   "cell_type": "markdown",
   "metadata": {},
   "source": [
    "## Подготовка к расчёту прибыли"
   ]
  },
  {
   "attachments": {},
   "cell_type": "markdown",
   "metadata": {},
   "source": [
    "Из условия задачи, бюджет на разработку скважин в регионе составляет 10 млрд рублей. Количество скважин, которые необходимо пробурить -  200. Таким образом можем приблизительно оценить стоимость одной скважины.  №№№№№№"
   ]
  },
  {
   "cell_type": "code",
   "execution_count": 15,
   "metadata": {},
   "outputs": [
    {
     "name": "stdout",
     "output_type": "stream",
     "text": [
      "Цена разработки одной скважины, руб: 50000000\n",
      "Количество сырья для окупаемости скважины, тыс. баррелей: 111.1111\n"
     ]
    }
   ],
   "source": [
    "region_budget = 10_000_000_000 # бюджет на разработку месторождений в регионе\n",
    "well_count = 200               # количество скважин\n",
    "barrel_price = 450_000         # доход за тысячу баррелей нефти\n",
    "\n",
    "\n",
    "well_price = region_budget / well_count  # цена разработки одной скважины\n",
    "\n",
    "barrel_count = well_price / barrel_price # количество сырья для окупаемости скважины, тыс. баррелей\n",
    "\n",
    "print(f'Цена разработки одной скважины, руб: {well_price:.0f}\\nКоличество сырья для окупаемости скважины, тыс. баррелей: {barrel_count:.4f}')"
   ]
  },
  {
   "cell_type": "code",
   "execution_count": 16,
   "metadata": {},
   "outputs": [],
   "source": [
    "def mean_compare(data,barrel_count):\n",
    "    return (f'Средний запас в регионе больше {barrel_count:.4f}' if data['product'].mean() >= barrel_count \n",
    "      else f'Средний запас в регионе меньше {barrel_count:.4f}')"
   ]
  },
  {
   "cell_type": "code",
   "execution_count": 17,
   "metadata": {},
   "outputs": [
    {
     "data": {
      "text/plain": [
       "'Средний запас в регионе меньше 111.1111'"
      ]
     },
     "execution_count": 17,
     "metadata": {},
     "output_type": "execute_result"
    }
   ],
   "source": [
    "mean_compare(data_0,barrel_count)"
   ]
  },
  {
   "cell_type": "code",
   "execution_count": 18,
   "metadata": {},
   "outputs": [
    {
     "data": {
      "text/plain": [
       "'Средний запас в регионе меньше 111.1111'"
      ]
     },
     "execution_count": 18,
     "metadata": {},
     "output_type": "execute_result"
    }
   ],
   "source": [
    "mean_compare(data_1,barrel_count)"
   ]
  },
  {
   "cell_type": "code",
   "execution_count": 19,
   "metadata": {},
   "outputs": [
    {
     "data": {
      "text/plain": [
       "'Средний запас в регионе меньше 111.1111'"
      ]
     },
     "execution_count": 19,
     "metadata": {},
     "output_type": "execute_result"
    }
   ],
   "source": [
    "mean_compare(data_2,barrel_count)"
   ]
  },
  {
   "attachments": {},
   "cell_type": "markdown",
   "metadata": {},
   "source": [
    "**Вывод:** Средний запас по всем регионам меньше необходимого для окупаемости одной скважены. Такой подход не позволяет достоверно оценить риски, поэтому воспользумся методом bootstrap."
   ]
  },
  {
   "attachments": {},
   "cell_type": "markdown",
   "metadata": {},
   "source": [
    "## Расчёт прибыли и рисков "
   ]
  },
  {
   "cell_type": "code",
   "execution_count": 20,
   "metadata": {},
   "outputs": [],
   "source": [
    "RND_ST = RandomState(12345)"
   ]
  },
  {
   "attachments": {},
   "cell_type": "markdown",
   "metadata": {},
   "source": [
    "Функция для вычисления прибыли."
   ]
  },
  {
   "cell_type": "code",
   "execution_count": 25,
   "metadata": {},
   "outputs": [],
   "source": [
    "def estimate_profit(products,barrel_price_x,region_budget_x):\n",
    "    return products.sum() * barrel_price_x - region_budget_x "
   ]
  },
  {
   "attachments": {},
   "cell_type": "markdown",
   "metadata": {},
   "source": [
    " Функция *Bootstrap*"
   ]
  },
  {
   "cell_type": "code",
   "execution_count": 33,
   "metadata": {},
   "outputs": [],
   "source": [
    "def boostraping(target,predictions_x,barrel_price_x,region_budget_x):\n",
    "    \n",
    "    res = []\n",
    "    for _ in range(1000):\n",
    "        subsample  = pd.Series(predictions_x).sample(n=500,random_state=RND_ST).sort_values(ascending=False).head(200)\n",
    "        \n",
    "        res.append(estimate_profit(target.iloc[subsample.index],barrel_price_x,region_budget_x ))\n",
    "        \n",
    "    res = pd.Series(res)\n",
    "    return  len(res[res <= 0]),(len(res[res <= 0]) / len(res)) *100 , res.mean(), res.quantile(0.975) , res.quantile(0.025), res.min()"
   ]
  },
  {
   "cell_type": "code",
   "execution_count": 32,
   "metadata": {},
   "outputs": [],
   "source": [
    "res = pd.DataFrame(columns=['Кол-во неприбыльных скважин','Доля неприбыльных скважин,%','Средняя прибыль,млн','97,5 квантиль','2,5 квантиль','min'])"
   ]
  },
  {
   "cell_type": "code",
   "execution_count": 34,
   "metadata": {},
   "outputs": [
    {
     "data": {
      "text/html": [
       "<div>\n",
       "<style scoped>\n",
       "    .dataframe tbody tr th:only-of-type {\n",
       "        vertical-align: middle;\n",
       "    }\n",
       "\n",
       "    .dataframe tbody tr th {\n",
       "        vertical-align: top;\n",
       "    }\n",
       "\n",
       "    .dataframe thead th {\n",
       "        text-align: right;\n",
       "    }\n",
       "</style>\n",
       "<table border=\"1\" class=\"dataframe\">\n",
       "  <thead>\n",
       "    <tr style=\"text-align: right;\">\n",
       "      <th></th>\n",
       "      <th>Кол-во неприбыльных скважин</th>\n",
       "      <th>Доля неприбыльных скважин,%</th>\n",
       "      <th>Средняя прибыль,млн</th>\n",
       "      <th>97,5 квантиль</th>\n",
       "      <th>2,5 квантиль</th>\n",
       "      <th>min</th>\n",
       "    </tr>\n",
       "  </thead>\n",
       "  <tbody>\n",
       "    <tr>\n",
       "      <th>Region 1</th>\n",
       "      <td>72</td>\n",
       "      <td>7.2</td>\n",
       "      <td>375.564158</td>\n",
       "      <td>912.125446</td>\n",
       "      <td>-133.909614</td>\n",
       "      <td>-557.755629</td>\n",
       "    </tr>\n",
       "    <tr>\n",
       "      <th>Region 2</th>\n",
       "      <td>13</td>\n",
       "      <td>1.3</td>\n",
       "      <td>457.892565</td>\n",
       "      <td>872.29914</td>\n",
       "      <td>68.89033</td>\n",
       "      <td>-213.727052</td>\n",
       "    </tr>\n",
       "    <tr>\n",
       "      <th>Region 3</th>\n",
       "      <td>77</td>\n",
       "      <td>7.7</td>\n",
       "      <td>393.957806</td>\n",
       "      <td>919.885438</td>\n",
       "      <td>-145.234944</td>\n",
       "      <td>-474.527283</td>\n",
       "    </tr>\n",
       "  </tbody>\n",
       "</table>\n",
       "</div>"
      ],
      "text/plain": [
       "         Кол-во неприбыльных скважин Доля неприбыльных скважин,%  \\\n",
       "Region 1                          72                         7.2   \n",
       "Region 2                          13                         1.3   \n",
       "Region 3                          77                         7.7   \n",
       "\n",
       "         Средняя прибыль,млн 97,5 квантиль 2,5 квантиль         min  \n",
       "Region 1          375.564158    912.125446  -133.909614 -557.755629  \n",
       "Region 2          457.892565     872.29914     68.89033 -213.727052  \n",
       "Region 3          393.957806    919.885438  -145.234944 -474.527283  "
      ]
     },
     "execution_count": 34,
     "metadata": {},
     "output_type": "execute_result"
    }
   ],
   "source": [
    "res.loc['Region 1',:] = boostraping(target_valid_0,predictions_0,barrel_price,region_budget)\n",
    "res.loc['Region 2',:] = boostraping(target_valid_1,predictions_1,barrel_price,region_budget)\n",
    "res.loc['Region 3',:] = boostraping(target_valid_2,predictions_2,barrel_price,region_budget)\n",
    "\n",
    "res.loc[:,'Средняя прибыль,млн':'min'] = res.loc[:,'Средняя прибыль,млн':'min'] / 1_000_000 \n",
    "\n",
    "res"
   ]
  },
  {
   "attachments": {},
   "cell_type": "markdown",
   "metadata": {},
   "source": [
    "**Вывод:** Предпочтительным для разработки месторождений является Регион 2. Доля неприбыльных скважин не превышает 2.5%, показатели средней прибыли по региону выше, чем у двух других. Нижней границей 95% доверительного интервала является положительное число, что исключает возможность понести убытки."
   ]
  },
  {
   "attachments": {},
   "cell_type": "markdown",
   "metadata": {},
   "source": [
    "## Общий вывод"
   ]
  },
  {
   "attachments": {},
   "cell_type": "markdown",
   "metadata": {},
   "source": [
    "Изучены и подготовлены данные по 3-м регионам для разработки нефтяных меторождений.\n",
    "\n",
    "Обучены модели линейной регрессии, проведены оценки метрик.\n",
    "\n",
    "Определен минимальный объем сырья для окупаемости разработки одной скважены.\n",
    "\n",
    "Проведена оценка средней прибыли, 95% доверительнго интервала и доли неприбыльных скважин для каждого из регионов.\n",
    "\n",
    "Для разработки месторождений был рекомендован регион 2, в связи с наименьшими рисками получения убытков."
   ]
  }
 ],
 "metadata": {
  "ExecuteTimeLog": [
   {
    "duration": 1521,
    "start_time": "2022-12-03T14:20:29.125Z"
   },
   {
    "duration": 218,
    "start_time": "2022-12-03T14:20:32.376Z"
   },
   {
    "duration": 14,
    "start_time": "2022-12-03T14:20:39.544Z"
   },
   {
    "duration": 46,
    "start_time": "2022-12-03T14:21:08.868Z"
   },
   {
    "duration": 211,
    "start_time": "2022-12-03T14:21:15.558Z"
   },
   {
    "duration": 14,
    "start_time": "2022-12-03T14:21:17.152Z"
   },
   {
    "duration": 228,
    "start_time": "2022-12-03T15:01:04.772Z"
   },
   {
    "duration": 19,
    "start_time": "2022-12-03T15:01:06.287Z"
   },
   {
    "duration": 133,
    "start_time": "2022-12-03T15:01:08.194Z"
   },
   {
    "duration": 21,
    "start_time": "2022-12-03T15:01:09.779Z"
   },
   {
    "duration": 14,
    "start_time": "2022-12-03T15:09:32.084Z"
   },
   {
    "duration": 113,
    "start_time": "2022-12-03T15:55:31.359Z"
   },
   {
    "duration": 139,
    "start_time": "2022-12-03T15:55:35.135Z"
   },
   {
    "duration": 55,
    "start_time": "2022-12-03T15:55:36.652Z"
   },
   {
    "duration": 18,
    "start_time": "2022-12-03T15:56:46.200Z"
   },
   {
    "duration": 1358,
    "start_time": "2022-12-03T15:56:53.364Z"
   },
   {
    "duration": 361,
    "start_time": "2022-12-03T15:56:54.724Z"
   },
   {
    "duration": 36,
    "start_time": "2022-12-03T15:56:55.086Z"
   },
   {
    "duration": 14,
    "start_time": "2022-12-03T15:56:55.124Z"
   },
   {
    "duration": 15,
    "start_time": "2022-12-03T15:56:55.139Z"
   },
   {
    "duration": 3,
    "start_time": "2022-12-03T16:38:45.150Z"
   },
   {
    "duration": 119,
    "start_time": "2022-12-03T16:38:47.081Z"
   },
   {
    "duration": 15,
    "start_time": "2022-12-03T16:38:57.538Z"
   },
   {
    "duration": 51,
    "start_time": "2022-12-03T16:39:28.247Z"
   },
   {
    "duration": 1359,
    "start_time": "2022-12-03T16:39:37.704Z"
   },
   {
    "duration": 376,
    "start_time": "2022-12-03T16:39:39.065Z"
   },
   {
    "duration": 34,
    "start_time": "2022-12-03T16:39:39.442Z"
   },
   {
    "duration": 20,
    "start_time": "2022-12-03T16:39:39.478Z"
   },
   {
    "duration": 15,
    "start_time": "2022-12-03T16:39:39.500Z"
   },
   {
    "duration": 3,
    "start_time": "2022-12-03T16:39:39.517Z"
   },
   {
    "duration": 261,
    "start_time": "2022-12-03T16:39:39.521Z"
   },
   {
    "duration": 26,
    "start_time": "2022-12-03T16:40:26.020Z"
   },
   {
    "duration": 3,
    "start_time": "2022-12-03T16:40:28.357Z"
   },
   {
    "duration": 17,
    "start_time": "2022-12-03T16:40:29.923Z"
   },
   {
    "duration": 3,
    "start_time": "2022-12-03T16:40:39.930Z"
   },
   {
    "duration": 16,
    "start_time": "2022-12-03T16:40:41.804Z"
   },
   {
    "duration": 3,
    "start_time": "2022-12-03T16:42:26.852Z"
   },
   {
    "duration": 16,
    "start_time": "2022-12-03T16:42:28.428Z"
   },
   {
    "duration": 11,
    "start_time": "2022-12-03T16:45:07.730Z"
   },
   {
    "duration": 1384,
    "start_time": "2022-12-03T16:45:30.183Z"
   },
   {
    "duration": 375,
    "start_time": "2022-12-03T16:45:31.570Z"
   },
   {
    "duration": 35,
    "start_time": "2022-12-03T16:45:31.947Z"
   },
   {
    "duration": 13,
    "start_time": "2022-12-03T16:45:31.997Z"
   },
   {
    "duration": 20,
    "start_time": "2022-12-03T16:45:32.012Z"
   },
   {
    "duration": 18,
    "start_time": "2022-12-03T16:45:32.033Z"
   },
   {
    "duration": 15,
    "start_time": "2022-12-03T16:45:32.053Z"
   },
   {
    "duration": 26,
    "start_time": "2022-12-03T16:45:32.070Z"
   },
   {
    "duration": 98,
    "start_time": "2022-12-03T16:45:32.099Z"
   },
   {
    "duration": 104,
    "start_time": "2022-12-03T16:45:32.199Z"
   },
   {
    "duration": 98,
    "start_time": "2022-12-03T16:45:32.305Z"
   },
   {
    "duration": 4,
    "start_time": "2022-12-03T17:00:35.572Z"
   },
   {
    "duration": 17,
    "start_time": "2022-12-03T17:00:37.498Z"
   },
   {
    "duration": 29,
    "start_time": "2022-12-03T17:00:39.915Z"
   },
   {
    "duration": 17,
    "start_time": "2022-12-03T17:00:42.729Z"
   },
   {
    "duration": 3,
    "start_time": "2022-12-03T17:01:12.811Z"
   },
   {
    "duration": 17,
    "start_time": "2022-12-03T17:01:17.164Z"
   },
   {
    "duration": 18,
    "start_time": "2022-12-03T17:01:19.276Z"
   },
   {
    "duration": 17,
    "start_time": "2022-12-03T17:01:20.771Z"
   },
   {
    "duration": 117,
    "start_time": "2022-12-03T18:36:37.280Z"
   },
   {
    "duration": 73,
    "start_time": "2022-12-03T18:36:46.332Z"
   },
   {
    "duration": 26,
    "start_time": "2022-12-03T18:36:56.816Z"
   },
   {
    "duration": 28,
    "start_time": "2022-12-03T18:37:03.025Z"
   },
   {
    "duration": 20,
    "start_time": "2022-12-03T18:37:13.270Z"
   },
   {
    "duration": 21,
    "start_time": "2022-12-03T18:37:15.516Z"
   },
   {
    "duration": 20,
    "start_time": "2022-12-03T18:37:20.629Z"
   },
   {
    "duration": 1454,
    "start_time": "2022-12-04T08:03:46.186Z"
   },
   {
    "duration": 605,
    "start_time": "2022-12-04T08:03:47.642Z"
   },
   {
    "duration": 34,
    "start_time": "2022-12-04T08:03:48.249Z"
   },
   {
    "duration": 16,
    "start_time": "2022-12-04T08:03:48.286Z"
   },
   {
    "duration": 53,
    "start_time": "2022-12-04T08:03:48.304Z"
   },
   {
    "duration": 39,
    "start_time": "2022-12-04T08:03:48.359Z"
   },
   {
    "duration": 19,
    "start_time": "2022-12-04T08:03:48.399Z"
   },
   {
    "duration": 11,
    "start_time": "2022-12-04T08:03:48.420Z"
   },
   {
    "duration": 14,
    "start_time": "2022-12-04T08:03:48.433Z"
   },
   {
    "duration": 15,
    "start_time": "2022-12-04T08:03:48.449Z"
   },
   {
    "duration": 31,
    "start_time": "2022-12-04T08:03:48.466Z"
   },
   {
    "duration": 105,
    "start_time": "2022-12-04T08:03:48.498Z"
   },
   {
    "duration": 107,
    "start_time": "2022-12-04T08:03:48.605Z"
   },
   {
    "duration": 192,
    "start_time": "2022-12-04T08:03:48.714Z"
   },
   {
    "duration": 1231,
    "start_time": "2022-12-04T08:06:30.658Z"
   },
   {
    "duration": 393,
    "start_time": "2022-12-04T08:06:31.891Z"
   },
   {
    "duration": 43,
    "start_time": "2022-12-04T08:06:32.286Z"
   },
   {
    "duration": 14,
    "start_time": "2022-12-04T08:06:32.331Z"
   },
   {
    "duration": 72,
    "start_time": "2022-12-04T08:06:32.346Z"
   },
   {
    "duration": 19,
    "start_time": "2022-12-04T08:06:32.419Z"
   },
   {
    "duration": 17,
    "start_time": "2022-12-04T08:06:32.439Z"
   },
   {
    "duration": 53,
    "start_time": "2022-12-04T08:06:32.457Z"
   },
   {
    "duration": 3,
    "start_time": "2022-12-04T08:06:32.511Z"
   },
   {
    "duration": 24,
    "start_time": "2022-12-04T08:06:32.516Z"
   },
   {
    "duration": 106,
    "start_time": "2022-12-04T08:06:32.598Z"
   },
   {
    "duration": 194,
    "start_time": "2022-12-04T08:06:32.706Z"
   },
   {
    "duration": 14,
    "start_time": "2022-12-04T10:38:51.118Z"
   },
   {
    "duration": 6,
    "start_time": "2022-12-04T10:39:13.828Z"
   },
   {
    "duration": 103,
    "start_time": "2022-12-04T10:39:22.795Z"
   },
   {
    "duration": 13,
    "start_time": "2022-12-04T10:39:35.710Z"
   },
   {
    "duration": 1293,
    "start_time": "2022-12-04T10:39:39.499Z"
   },
   {
    "duration": 363,
    "start_time": "2022-12-04T10:39:40.794Z"
   },
   {
    "duration": 41,
    "start_time": "2022-12-04T10:39:41.159Z"
   },
   {
    "duration": 12,
    "start_time": "2022-12-04T10:39:41.202Z"
   },
   {
    "duration": 54,
    "start_time": "2022-12-04T10:39:41.216Z"
   },
   {
    "duration": 33,
    "start_time": "2022-12-04T10:39:41.272Z"
   },
   {
    "duration": 5,
    "start_time": "2022-12-04T10:39:41.307Z"
   },
   {
    "duration": 21,
    "start_time": "2022-12-04T10:39:41.314Z"
   },
   {
    "duration": 34,
    "start_time": "2022-12-04T10:39:41.337Z"
   },
   {
    "duration": 4,
    "start_time": "2022-12-04T10:39:41.373Z"
   },
   {
    "duration": 17,
    "start_time": "2022-12-04T10:39:41.397Z"
   },
   {
    "duration": 185,
    "start_time": "2022-12-04T10:39:41.416Z"
   },
   {
    "duration": 195,
    "start_time": "2022-12-04T10:39:41.603Z"
   },
   {
    "duration": 27,
    "start_time": "2022-12-04T10:51:23.715Z"
   },
   {
    "duration": 21,
    "start_time": "2022-12-04T10:51:38.777Z"
   },
   {
    "duration": 22,
    "start_time": "2022-12-04T10:51:45.628Z"
   },
   {
    "duration": 20,
    "start_time": "2022-12-04T10:51:50.102Z"
   },
   {
    "duration": 24,
    "start_time": "2022-12-04T10:51:52.473Z"
   },
   {
    "duration": 19,
    "start_time": "2022-12-04T10:52:10.887Z"
   },
   {
    "duration": 17,
    "start_time": "2022-12-04T10:52:17.982Z"
   },
   {
    "duration": 16,
    "start_time": "2022-12-04T10:52:19.895Z"
   },
   {
    "duration": 1278,
    "start_time": "2022-12-04T10:52:25.879Z"
   },
   {
    "duration": 350,
    "start_time": "2022-12-04T10:52:27.158Z"
   },
   {
    "duration": 32,
    "start_time": "2022-12-04T10:52:27.509Z"
   },
   {
    "duration": 11,
    "start_time": "2022-12-04T10:52:27.543Z"
   },
   {
    "duration": 74,
    "start_time": "2022-12-04T10:52:27.556Z"
   },
   {
    "duration": 18,
    "start_time": "2022-12-04T10:52:27.631Z"
   },
   {
    "duration": 6,
    "start_time": "2022-12-04T10:52:27.650Z"
   },
   {
    "duration": 21,
    "start_time": "2022-12-04T10:52:27.658Z"
   },
   {
    "duration": 48,
    "start_time": "2022-12-04T10:52:27.680Z"
   },
   {
    "duration": 3,
    "start_time": "2022-12-04T10:52:27.730Z"
   },
   {
    "duration": 65,
    "start_time": "2022-12-04T10:52:27.735Z"
   },
   {
    "duration": 103,
    "start_time": "2022-12-04T10:52:27.801Z"
   },
   {
    "duration": 196,
    "start_time": "2022-12-04T10:52:27.906Z"
   },
   {
    "duration": 55,
    "start_time": "2022-12-04T11:50:10.593Z"
   },
   {
    "duration": 3,
    "start_time": "2022-12-04T11:50:14.078Z"
   },
   {
    "duration": 3,
    "start_time": "2022-12-04T11:53:59.078Z"
   },
   {
    "duration": 4,
    "start_time": "2022-12-04T11:54:06.023Z"
   },
   {
    "duration": 2,
    "start_time": "2022-12-04T12:01:28.664Z"
   },
   {
    "duration": 4,
    "start_time": "2022-12-04T12:01:48.914Z"
   },
   {
    "duration": 3,
    "start_time": "2022-12-04T12:02:39.038Z"
   },
   {
    "duration": 4,
    "start_time": "2022-12-04T12:03:01.810Z"
   },
   {
    "duration": 4,
    "start_time": "2022-12-04T12:03:07.422Z"
   },
   {
    "duration": 5,
    "start_time": "2022-12-04T12:03:30.033Z"
   },
   {
    "duration": 11,
    "start_time": "2022-12-04T12:04:32.093Z"
   },
   {
    "duration": 6,
    "start_time": "2022-12-04T12:10:32.724Z"
   },
   {
    "duration": 4,
    "start_time": "2022-12-04T12:10:40.950Z"
   },
   {
    "duration": 3,
    "start_time": "2022-12-04T12:12:03.550Z"
   },
   {
    "duration": 49,
    "start_time": "2022-12-04T12:12:22.967Z"
   },
   {
    "duration": 105,
    "start_time": "2022-12-04T12:12:43.123Z"
   },
   {
    "duration": 4,
    "start_time": "2022-12-04T12:13:08.605Z"
   },
   {
    "duration": 62,
    "start_time": "2022-12-04T12:15:17.942Z"
   },
   {
    "duration": 5,
    "start_time": "2022-12-04T12:15:21.152Z"
   },
   {
    "duration": 4,
    "start_time": "2022-12-04T12:16:34.381Z"
   },
   {
    "duration": 4,
    "start_time": "2022-12-04T12:17:17.139Z"
   },
   {
    "duration": 4,
    "start_time": "2022-12-04T12:17:19.068Z"
   },
   {
    "duration": 4,
    "start_time": "2022-12-04T12:18:07.697Z"
   },
   {
    "duration": 5,
    "start_time": "2022-12-04T12:18:22.799Z"
   },
   {
    "duration": 4,
    "start_time": "2022-12-04T12:18:32.585Z"
   },
   {
    "duration": 5,
    "start_time": "2022-12-04T12:18:33.967Z"
   },
   {
    "duration": 3,
    "start_time": "2022-12-04T12:18:35.254Z"
   },
   {
    "duration": 1298,
    "start_time": "2022-12-04T15:45:06.116Z"
   },
   {
    "duration": 398,
    "start_time": "2022-12-04T15:45:07.416Z"
   },
   {
    "duration": 32,
    "start_time": "2022-12-04T15:45:07.815Z"
   },
   {
    "duration": 12,
    "start_time": "2022-12-04T15:45:07.849Z"
   },
   {
    "duration": 73,
    "start_time": "2022-12-04T15:45:07.862Z"
   },
   {
    "duration": 25,
    "start_time": "2022-12-04T15:45:07.936Z"
   },
   {
    "duration": 3,
    "start_time": "2022-12-04T15:45:07.963Z"
   },
   {
    "duration": 37,
    "start_time": "2022-12-04T15:45:07.968Z"
   },
   {
    "duration": 37,
    "start_time": "2022-12-04T15:45:08.006Z"
   },
   {
    "duration": 3,
    "start_time": "2022-12-04T15:45:08.045Z"
   },
   {
    "duration": 50,
    "start_time": "2022-12-04T15:45:08.050Z"
   },
   {
    "duration": 104,
    "start_time": "2022-12-04T15:45:08.101Z"
   },
   {
    "duration": 200,
    "start_time": "2022-12-04T15:45:08.208Z"
   },
   {
    "duration": 92,
    "start_time": "2022-12-04T15:45:08.412Z"
   },
   {
    "duration": 93,
    "start_time": "2022-12-04T15:45:08.507Z"
   },
   {
    "duration": 6,
    "start_time": "2022-12-04T15:45:08.602Z"
   },
   {
    "duration": 5,
    "start_time": "2022-12-04T15:45:08.609Z"
   },
   {
    "duration": 5,
    "start_time": "2022-12-04T15:45:08.616Z"
   },
   {
    "duration": 40,
    "start_time": "2022-12-04T15:45:08.623Z"
   },
   {
    "duration": 3,
    "start_time": "2022-12-04T15:45:57.844Z"
   },
   {
    "duration": 14,
    "start_time": "2022-12-04T15:45:59.054Z"
   },
   {
    "duration": 15,
    "start_time": "2022-12-04T15:46:00.527Z"
   },
   {
    "duration": 13,
    "start_time": "2022-12-04T15:46:02.600Z"
   },
   {
    "duration": 2,
    "start_time": "2022-12-04T15:50:42.108Z"
   },
   {
    "duration": 56,
    "start_time": "2022-12-04T15:58:31.490Z"
   },
   {
    "duration": 46,
    "start_time": "2022-12-04T15:58:55.726Z"
   },
   {
    "duration": 42,
    "start_time": "2022-12-04T15:59:08.638Z"
   },
   {
    "duration": 3,
    "start_time": "2022-12-04T15:59:20.194Z"
   },
   {
    "duration": 5,
    "start_time": "2022-12-04T15:59:51.697Z"
   },
   {
    "duration": 3,
    "start_time": "2022-12-04T16:00:25.613Z"
   },
   {
    "duration": 4,
    "start_time": "2022-12-04T16:00:26.820Z"
   },
   {
    "duration": 3,
    "start_time": "2022-12-04T16:03:13.794Z"
   },
   {
    "duration": 5,
    "start_time": "2022-12-04T16:03:15.695Z"
   },
   {
    "duration": 4,
    "start_time": "2022-12-04T16:03:39.988Z"
   },
   {
    "duration": 5,
    "start_time": "2022-12-04T16:03:41.655Z"
   },
   {
    "duration": 6,
    "start_time": "2022-12-04T16:08:13.262Z"
   },
   {
    "duration": 9,
    "start_time": "2022-12-04T16:08:54.414Z"
   },
   {
    "duration": 10,
    "start_time": "2022-12-04T16:10:54.479Z"
   },
   {
    "duration": 3,
    "start_time": "2022-12-04T16:11:36.987Z"
   },
   {
    "duration": 7,
    "start_time": "2022-12-04T16:11:40.062Z"
   },
   {
    "duration": 7,
    "start_time": "2022-12-04T16:11:43.418Z"
   },
   {
    "duration": 5,
    "start_time": "2022-12-04T16:12:54.783Z"
   },
   {
    "duration": 8,
    "start_time": "2022-12-04T16:12:57.629Z"
   },
   {
    "duration": 9,
    "start_time": "2022-12-04T16:13:48.021Z"
   },
   {
    "duration": 1563,
    "start_time": "2022-12-05T08:55:19.268Z"
   },
   {
    "duration": 1728,
    "start_time": "2022-12-05T08:55:20.833Z"
   },
   {
    "duration": 36,
    "start_time": "2022-12-05T08:55:22.563Z"
   },
   {
    "duration": 12,
    "start_time": "2022-12-05T08:55:22.601Z"
   },
   {
    "duration": 71,
    "start_time": "2022-12-05T08:55:22.615Z"
   },
   {
    "duration": 31,
    "start_time": "2022-12-05T08:55:22.688Z"
   },
   {
    "duration": 4,
    "start_time": "2022-12-05T08:55:22.721Z"
   },
   {
    "duration": 51,
    "start_time": "2022-12-05T08:55:22.727Z"
   },
   {
    "duration": 43,
    "start_time": "2022-12-05T08:55:22.781Z"
   },
   {
    "duration": 4,
    "start_time": "2022-12-05T08:55:22.826Z"
   },
   {
    "duration": 249,
    "start_time": "2022-12-05T08:55:22.832Z"
   },
   {
    "duration": 107,
    "start_time": "2022-12-05T08:55:23.083Z"
   },
   {
    "duration": 184,
    "start_time": "2022-12-05T08:55:23.198Z"
   },
   {
    "duration": 98,
    "start_time": "2022-12-05T08:55:23.386Z"
   },
   {
    "duration": 4,
    "start_time": "2022-12-05T08:55:23.485Z"
   },
   {
    "duration": 9,
    "start_time": "2022-12-05T08:55:23.490Z"
   },
   {
    "duration": 9,
    "start_time": "2022-12-05T08:55:23.501Z"
   },
   {
    "duration": 7,
    "start_time": "2022-12-05T08:55:23.512Z"
   },
   {
    "duration": 7,
    "start_time": "2022-12-05T08:55:23.521Z"
   },
   {
    "duration": 7,
    "start_time": "2022-12-05T08:55:23.529Z"
   },
   {
    "duration": 7,
    "start_time": "2022-12-05T08:55:23.537Z"
   },
   {
    "duration": 7,
    "start_time": "2022-12-05T08:55:23.545Z"
   },
   {
    "duration": 4,
    "start_time": "2022-12-05T08:55:23.578Z"
   },
   {
    "duration": 3,
    "start_time": "2022-12-05T08:55:23.584Z"
   },
   {
    "duration": 3,
    "start_time": "2022-12-05T09:12:55.999Z"
   },
   {
    "duration": 4,
    "start_time": "2022-12-05T09:12:59.161Z"
   },
   {
    "duration": 4,
    "start_time": "2022-12-05T09:13:01.829Z"
   },
   {
    "duration": 4,
    "start_time": "2022-12-05T09:13:03.226Z"
   },
   {
    "duration": 3,
    "start_time": "2022-12-05T09:13:10.277Z"
   },
   {
    "duration": 4,
    "start_time": "2022-12-05T09:37:12.224Z"
   },
   {
    "duration": 3,
    "start_time": "2022-12-05T09:37:54.260Z"
   },
   {
    "duration": 3,
    "start_time": "2022-12-05T09:38:01.838Z"
   },
   {
    "duration": 4,
    "start_time": "2022-12-05T09:38:13.523Z"
   },
   {
    "duration": 9,
    "start_time": "2022-12-05T09:38:59.666Z"
   },
   {
    "duration": 18,
    "start_time": "2022-12-05T09:39:09.445Z"
   },
   {
    "duration": 67,
    "start_time": "2022-12-05T09:39:20.528Z"
   },
   {
    "duration": 45,
    "start_time": "2022-12-05T09:39:27.579Z"
   },
   {
    "duration": 49,
    "start_time": "2022-12-05T09:40:10.838Z"
   },
   {
    "duration": 49,
    "start_time": "2022-12-05T09:40:33.364Z"
   },
   {
    "duration": 51,
    "start_time": "2022-12-05T09:40:56.128Z"
   },
   {
    "duration": 68,
    "start_time": "2022-12-05T09:41:33.546Z"
   },
   {
    "duration": 37,
    "start_time": "2022-12-05T09:45:55.054Z"
   },
   {
    "duration": 43,
    "start_time": "2022-12-05T11:13:27.864Z"
   },
   {
    "duration": 39,
    "start_time": "2022-12-05T11:13:31.686Z"
   },
   {
    "duration": 112,
    "start_time": "2022-12-05T11:13:47.004Z"
   },
   {
    "duration": 104,
    "start_time": "2022-12-05T11:14:10.220Z"
   },
   {
    "duration": 18,
    "start_time": "2022-12-05T11:14:33.582Z"
   },
   {
    "duration": 13,
    "start_time": "2022-12-05T11:14:41.531Z"
   },
   {
    "duration": 36,
    "start_time": "2022-12-05T11:15:03.551Z"
   },
   {
    "duration": 4,
    "start_time": "2022-12-05T12:19:41.826Z"
   },
   {
    "duration": 64,
    "start_time": "2022-12-05T12:19:44.015Z"
   },
   {
    "duration": 3,
    "start_time": "2022-12-05T12:42:19.392Z"
   },
   {
    "duration": 16,
    "start_time": "2022-12-05T12:42:20.554Z"
   },
   {
    "duration": 4,
    "start_time": "2022-12-05T12:42:56.510Z"
   },
   {
    "duration": 23,
    "start_time": "2022-12-05T12:43:23.394Z"
   },
   {
    "duration": 6,
    "start_time": "2022-12-05T12:43:32.401Z"
   },
   {
    "duration": 4,
    "start_time": "2022-12-05T12:44:32.876Z"
   },
   {
    "duration": 6,
    "start_time": "2022-12-05T12:44:34.372Z"
   },
   {
    "duration": 20,
    "start_time": "2022-12-05T12:44:36.549Z"
   },
   {
    "duration": 7,
    "start_time": "2022-12-05T12:44:37.860Z"
   },
   {
    "duration": 6,
    "start_time": "2022-12-05T12:49:18.793Z"
   },
   {
    "duration": 17,
    "start_time": "2022-12-05T12:49:30.350Z"
   },
   {
    "duration": 9,
    "start_time": "2022-12-05T12:49:31.492Z"
   },
   {
    "duration": 5,
    "start_time": "2022-12-05T12:49:42.665Z"
   },
   {
    "duration": 18,
    "start_time": "2022-12-05T12:49:47.666Z"
   },
   {
    "duration": 15,
    "start_time": "2022-12-05T12:50:25.453Z"
   },
   {
    "duration": 15,
    "start_time": "2022-12-05T12:50:26.693Z"
   },
   {
    "duration": 8,
    "start_time": "2022-12-05T12:50:36.027Z"
   },
   {
    "duration": 18,
    "start_time": "2022-12-05T12:50:41.288Z"
   },
   {
    "duration": 17,
    "start_time": "2022-12-05T12:50:44.651Z"
   },
   {
    "duration": 14,
    "start_time": "2022-12-05T12:50:46.080Z"
   },
   {
    "duration": 15,
    "start_time": "2022-12-05T12:50:47.905Z"
   },
   {
    "duration": 9,
    "start_time": "2022-12-05T12:50:49.460Z"
   },
   {
    "duration": 10,
    "start_time": "2022-12-05T12:51:25.851Z"
   },
   {
    "duration": 12,
    "start_time": "2022-12-05T12:52:18.369Z"
   },
   {
    "duration": 29,
    "start_time": "2022-12-05T12:52:32.802Z"
   },
   {
    "duration": 12,
    "start_time": "2022-12-05T12:52:36.323Z"
   },
   {
    "duration": 10,
    "start_time": "2022-12-05T12:52:53.088Z"
   },
   {
    "duration": 8,
    "start_time": "2022-12-05T12:52:56.071Z"
   },
   {
    "duration": 9,
    "start_time": "2022-12-05T12:52:58.317Z"
   },
   {
    "duration": 12,
    "start_time": "2022-12-05T12:53:27.793Z"
   },
   {
    "duration": 1528,
    "start_time": "2022-12-05T12:53:33.205Z"
   },
   {
    "duration": 366,
    "start_time": "2022-12-05T12:53:34.735Z"
   },
   {
    "duration": 38,
    "start_time": "2022-12-05T12:53:35.103Z"
   },
   {
    "duration": 12,
    "start_time": "2022-12-05T12:53:35.143Z"
   },
   {
    "duration": 130,
    "start_time": "2022-12-05T12:53:35.157Z"
   },
   {
    "duration": 41,
    "start_time": "2022-12-05T12:53:35.289Z"
   },
   {
    "duration": 103,
    "start_time": "2022-12-05T12:53:35.331Z"
   },
   {
    "duration": 44,
    "start_time": "2022-12-05T12:53:35.435Z"
   },
   {
    "duration": 4,
    "start_time": "2022-12-05T12:53:35.481Z"
   },
   {
    "duration": 16,
    "start_time": "2022-12-05T12:53:35.487Z"
   },
   {
    "duration": 74,
    "start_time": "2022-12-05T12:53:35.504Z"
   },
   {
    "duration": 102,
    "start_time": "2022-12-05T12:53:35.580Z"
   },
   {
    "duration": 194,
    "start_time": "2022-12-05T12:53:35.684Z"
   },
   {
    "duration": 97,
    "start_time": "2022-12-05T12:53:35.882Z"
   },
   {
    "duration": 17,
    "start_time": "2022-12-05T12:53:35.980Z"
   },
   {
    "duration": 9,
    "start_time": "2022-12-05T12:53:35.999Z"
   },
   {
    "duration": 14,
    "start_time": "2022-12-05T12:53:36.010Z"
   },
   {
    "duration": 4,
    "start_time": "2022-12-05T12:53:36.025Z"
   },
   {
    "duration": 7,
    "start_time": "2022-12-05T12:53:36.031Z"
   },
   {
    "duration": 7,
    "start_time": "2022-12-05T12:53:36.039Z"
   },
   {
    "duration": 6,
    "start_time": "2022-12-05T12:53:36.048Z"
   },
   {
    "duration": 27,
    "start_time": "2022-12-05T12:53:36.055Z"
   },
   {
    "duration": 8,
    "start_time": "2022-12-05T12:53:36.083Z"
   },
   {
    "duration": 3,
    "start_time": "2022-12-05T12:56:11.602Z"
   },
   {
    "duration": 5,
    "start_time": "2022-12-05T12:56:13.478Z"
   },
   {
    "duration": 5,
    "start_time": "2022-12-05T12:56:14.805Z"
   },
   {
    "duration": 4,
    "start_time": "2022-12-05T12:56:16.853Z"
   },
   {
    "duration": 104,
    "start_time": "2022-12-05T13:14:37.311Z"
   },
   {
    "duration": 4,
    "start_time": "2022-12-05T13:14:46.122Z"
   },
   {
    "duration": 3,
    "start_time": "2022-12-05T13:14:50.405Z"
   },
   {
    "duration": 3,
    "start_time": "2022-12-05T13:43:06.912Z"
   },
   {
    "duration": 81,
    "start_time": "2022-12-05T13:59:04.762Z"
   },
   {
    "duration": 4,
    "start_time": "2022-12-05T13:59:08.313Z"
   },
   {
    "duration": 14,
    "start_time": "2022-12-05T13:59:24.163Z"
   },
   {
    "duration": 4,
    "start_time": "2022-12-05T14:00:40.062Z"
   },
   {
    "duration": 13,
    "start_time": "2022-12-05T14:00:42.092Z"
   },
   {
    "duration": 4,
    "start_time": "2022-12-05T14:00:47.183Z"
   },
   {
    "duration": 4,
    "start_time": "2022-12-05T14:00:49.419Z"
   },
   {
    "duration": 20,
    "start_time": "2022-12-05T14:00:51.054Z"
   },
   {
    "duration": 4,
    "start_time": "2022-12-05T14:01:45.300Z"
   },
   {
    "duration": 3,
    "start_time": "2022-12-05T14:01:47.227Z"
   },
   {
    "duration": 2989,
    "start_time": "2022-12-05T14:01:49.089Z"
   },
   {
    "duration": 3,
    "start_time": "2022-12-05T14:07:55.501Z"
   },
   {
    "duration": 3,
    "start_time": "2022-12-05T14:07:57.353Z"
   },
   {
    "duration": 790,
    "start_time": "2022-12-05T14:07:59.970Z"
   },
   {
    "duration": 4,
    "start_time": "2022-12-05T14:08:43.933Z"
   },
   {
    "duration": 3,
    "start_time": "2022-12-05T14:08:47.388Z"
   },
   {
    "duration": 5,
    "start_time": "2022-12-05T14:08:49.033Z"
   },
   {
    "duration": 692,
    "start_time": "2022-12-05T14:08:51.483Z"
   },
   {
    "duration": 693,
    "start_time": "2022-12-05T14:08:55.737Z"
   },
   {
    "duration": 3,
    "start_time": "2022-12-05T14:09:10.557Z"
   },
   {
    "duration": 1144,
    "start_time": "2022-12-05T14:09:11.915Z"
   },
   {
    "duration": 4,
    "start_time": "2022-12-05T14:10:22.152Z"
   },
   {
    "duration": 15,
    "start_time": "2022-12-05T14:10:24.238Z"
   },
   {
    "duration": 3,
    "start_time": "2022-12-05T14:10:29.649Z"
   },
   {
    "duration": 1158,
    "start_time": "2022-12-05T14:10:31.125Z"
   },
   {
    "duration": 4,
    "start_time": "2022-12-05T14:13:07.753Z"
   },
   {
    "duration": 1123,
    "start_time": "2022-12-05T14:13:10.676Z"
   },
   {
    "duration": 4,
    "start_time": "2022-12-05T14:13:55.549Z"
   },
   {
    "duration": 1123,
    "start_time": "2022-12-05T14:13:57.454Z"
   },
   {
    "duration": 4,
    "start_time": "2022-12-05T14:14:27.201Z"
   },
   {
    "duration": 1216,
    "start_time": "2022-12-05T14:14:30.175Z"
   },
   {
    "duration": 4,
    "start_time": "2022-12-05T14:15:08.624Z"
   },
   {
    "duration": 1079,
    "start_time": "2022-12-05T14:15:11.440Z"
   },
   {
    "duration": 4,
    "start_time": "2022-12-05T14:15:18.311Z"
   },
   {
    "duration": 1122,
    "start_time": "2022-12-05T14:15:20.189Z"
   },
   {
    "duration": 1104,
    "start_time": "2022-12-05T14:15:41.991Z"
   },
   {
    "duration": 1135,
    "start_time": "2022-12-05T14:15:44.154Z"
   },
   {
    "duration": 3,
    "start_time": "2022-12-05T14:16:21.216Z"
   },
   {
    "duration": 4,
    "start_time": "2022-12-05T14:17:51.144Z"
   },
   {
    "duration": 1122,
    "start_time": "2022-12-05T14:17:52.364Z"
   },
   {
    "duration": 1081,
    "start_time": "2022-12-05T14:17:55.026Z"
   },
   {
    "duration": 1065,
    "start_time": "2022-12-05T14:17:57.952Z"
   },
   {
    "duration": 4,
    "start_time": "2022-12-05T14:57:25.782Z"
   },
   {
    "duration": 1044,
    "start_time": "2022-12-05T14:57:27.826Z"
   },
   {
    "duration": 1140,
    "start_time": "2022-12-05T14:57:29.692Z"
   },
   {
    "duration": 1101,
    "start_time": "2022-12-05T14:57:32.095Z"
   },
   {
    "duration": 75,
    "start_time": "2022-12-05T14:57:54.608Z"
   },
   {
    "duration": 4,
    "start_time": "2022-12-05T14:57:59.102Z"
   },
   {
    "duration": 1112,
    "start_time": "2022-12-05T14:58:01.074Z"
   },
   {
    "duration": 1066,
    "start_time": "2022-12-05T14:58:04.181Z"
   },
   {
    "duration": 1086,
    "start_time": "2022-12-05T14:58:06.417Z"
   },
   {
    "duration": 4,
    "start_time": "2022-12-05T14:58:15.100Z"
   },
   {
    "duration": 1096,
    "start_time": "2022-12-05T14:58:18.284Z"
   },
   {
    "duration": 1146,
    "start_time": "2022-12-05T14:58:22.339Z"
   },
   {
    "duration": 1115,
    "start_time": "2022-12-05T14:58:24.038Z"
   },
   {
    "duration": 70,
    "start_time": "2022-12-05T14:58:50.841Z"
   },
   {
    "duration": 4,
    "start_time": "2022-12-05T14:58:55.025Z"
   },
   {
    "duration": 5,
    "start_time": "2022-12-05T16:38:43.035Z"
   },
   {
    "duration": 1054,
    "start_time": "2022-12-05T16:38:45.589Z"
   },
   {
    "duration": 1122,
    "start_time": "2022-12-05T16:38:54.703Z"
   },
   {
    "duration": 1173,
    "start_time": "2022-12-05T16:38:57.734Z"
   },
   {
    "duration": 3,
    "start_time": "2022-12-05T16:39:12.425Z"
   },
   {
    "duration": 1123,
    "start_time": "2022-12-05T16:39:13.763Z"
   },
   {
    "duration": 1075,
    "start_time": "2022-12-05T16:39:15.000Z"
   },
   {
    "duration": 1085,
    "start_time": "2022-12-05T16:39:16.676Z"
   },
   {
    "duration": 4,
    "start_time": "2022-12-05T16:50:32.060Z"
   },
   {
    "duration": 1145,
    "start_time": "2022-12-05T16:50:33.945Z"
   },
   {
    "duration": 1102,
    "start_time": "2022-12-05T16:50:36.523Z"
   },
   {
    "duration": 1090,
    "start_time": "2022-12-05T16:50:38.735Z"
   },
   {
    "duration": 4,
    "start_time": "2022-12-05T16:51:02.916Z"
   },
   {
    "duration": 4,
    "start_time": "2022-12-05T19:29:39.353Z"
   },
   {
    "duration": 2842,
    "start_time": "2022-12-05T19:30:42.000Z"
   },
   {
    "duration": 4,
    "start_time": "2022-12-05T19:31:08.049Z"
   },
   {
    "duration": 2712,
    "start_time": "2022-12-05T19:31:10.445Z"
   },
   {
    "duration": 5,
    "start_time": "2022-12-05T19:31:50.616Z"
   },
   {
    "duration": 907,
    "start_time": "2022-12-05T19:31:52.017Z"
   },
   {
    "duration": 5,
    "start_time": "2022-12-05T19:31:58.671Z"
   },
   {
    "duration": 892,
    "start_time": "2022-12-05T19:32:00.637Z"
   },
   {
    "duration": 2690,
    "start_time": "2022-12-05T19:32:02.513Z"
   },
   {
    "duration": 6,
    "start_time": "2022-12-05T19:33:44.105Z"
   },
   {
    "duration": 2755,
    "start_time": "2022-12-05T19:33:47.019Z"
   },
   {
    "duration": 5,
    "start_time": "2022-12-05T19:33:58.230Z"
   },
   {
    "duration": 5,
    "start_time": "2022-12-05T19:34:05.683Z"
   },
   {
    "duration": 2535,
    "start_time": "2022-12-05T19:34:06.707Z"
   },
   {
    "duration": 3862,
    "start_time": "2022-12-05T20:01:23.426Z"
   },
   {
    "duration": 2660,
    "start_time": "2022-12-05T20:02:14.078Z"
   },
   {
    "duration": 2708,
    "start_time": "2022-12-05T20:03:07.357Z"
   },
   {
    "duration": 2937,
    "start_time": "2022-12-05T20:03:32.440Z"
   },
   {
    "duration": 2761,
    "start_time": "2022-12-05T20:04:17.649Z"
   },
   {
    "duration": 2607,
    "start_time": "2022-12-05T20:04:49.801Z"
   },
   {
    "duration": 52,
    "start_time": "2022-12-06T10:49:59.603Z"
   },
   {
    "duration": 1558,
    "start_time": "2022-12-06T10:50:05.068Z"
   },
   {
    "duration": 1613,
    "start_time": "2022-12-06T10:50:06.628Z"
   },
   {
    "duration": 31,
    "start_time": "2022-12-06T10:50:08.243Z"
   },
   {
    "duration": 12,
    "start_time": "2022-12-06T10:50:08.275Z"
   },
   {
    "duration": 127,
    "start_time": "2022-12-06T10:50:08.289Z"
   },
   {
    "duration": 44,
    "start_time": "2022-12-06T10:50:08.417Z"
   },
   {
    "duration": 118,
    "start_time": "2022-12-06T10:50:08.462Z"
   },
   {
    "duration": 37,
    "start_time": "2022-12-06T10:50:08.582Z"
   },
   {
    "duration": 5,
    "start_time": "2022-12-06T10:50:08.621Z"
   },
   {
    "duration": 6,
    "start_time": "2022-12-06T10:50:08.628Z"
   },
   {
    "duration": 142,
    "start_time": "2022-12-06T10:50:08.636Z"
   },
   {
    "duration": 102,
    "start_time": "2022-12-06T10:50:08.780Z"
   },
   {
    "duration": 102,
    "start_time": "2022-12-06T10:50:08.884Z"
   },
   {
    "duration": 100,
    "start_time": "2022-12-06T10:50:09.079Z"
   },
   {
    "duration": 4,
    "start_time": "2022-12-06T10:50:09.181Z"
   },
   {
    "duration": 5,
    "start_time": "2022-12-06T10:50:09.186Z"
   },
   {
    "duration": 9,
    "start_time": "2022-12-06T10:50:09.192Z"
   },
   {
    "duration": 5,
    "start_time": "2022-12-06T10:50:09.202Z"
   },
   {
    "duration": 8,
    "start_time": "2022-12-06T10:50:09.208Z"
   },
   {
    "duration": 7,
    "start_time": "2022-12-06T10:50:09.217Z"
   },
   {
    "duration": 7,
    "start_time": "2022-12-06T10:50:09.225Z"
   },
   {
    "duration": 9,
    "start_time": "2022-12-06T10:50:09.234Z"
   },
   {
    "duration": 11,
    "start_time": "2022-12-06T10:50:09.244Z"
   },
   {
    "duration": 2795,
    "start_time": "2022-12-06T10:50:09.257Z"
   },
   {
    "duration": 4,
    "start_time": "2022-12-06T10:55:40.129Z"
   },
   {
    "duration": 5,
    "start_time": "2022-12-06T10:55:41.648Z"
   },
   {
    "duration": 2820,
    "start_time": "2022-12-06T10:55:43.052Z"
   },
   {
    "duration": 2763,
    "start_time": "2022-12-06T10:56:12.603Z"
   },
   {
    "duration": 1407,
    "start_time": "2022-12-06T11:02:38.347Z"
   },
   {
    "duration": 344,
    "start_time": "2022-12-06T11:02:39.756Z"
   },
   {
    "duration": 32,
    "start_time": "2022-12-06T11:02:40.101Z"
   },
   {
    "duration": 11,
    "start_time": "2022-12-06T11:02:40.135Z"
   },
   {
    "duration": 140,
    "start_time": "2022-12-06T11:02:40.148Z"
   },
   {
    "duration": 47,
    "start_time": "2022-12-06T11:02:40.290Z"
   },
   {
    "duration": 109,
    "start_time": "2022-12-06T11:02:40.339Z"
   },
   {
    "duration": 49,
    "start_time": "2022-12-06T11:02:40.450Z"
   },
   {
    "duration": 5,
    "start_time": "2022-12-06T11:02:40.501Z"
   },
   {
    "duration": 13,
    "start_time": "2022-12-06T11:02:40.507Z"
   },
   {
    "duration": 59,
    "start_time": "2022-12-06T11:02:40.522Z"
   },
   {
    "duration": 102,
    "start_time": "2022-12-06T11:02:40.582Z"
   },
   {
    "duration": 198,
    "start_time": "2022-12-06T11:02:40.686Z"
   },
   {
    "duration": 207,
    "start_time": "2022-12-06T11:02:40.887Z"
   },
   {
    "duration": 5,
    "start_time": "2022-12-06T11:02:41.096Z"
   },
   {
    "duration": 10,
    "start_time": "2022-12-06T11:02:41.103Z"
   },
   {
    "duration": 8,
    "start_time": "2022-12-06T11:02:41.114Z"
   },
   {
    "duration": 6,
    "start_time": "2022-12-06T11:02:41.124Z"
   },
   {
    "duration": 7,
    "start_time": "2022-12-06T11:02:41.132Z"
   },
   {
    "duration": 7,
    "start_time": "2022-12-06T11:02:41.141Z"
   },
   {
    "duration": 12,
    "start_time": "2022-12-06T11:02:41.150Z"
   },
   {
    "duration": 8,
    "start_time": "2022-12-06T11:02:41.164Z"
   },
   {
    "duration": 9,
    "start_time": "2022-12-06T11:02:41.177Z"
   },
   {
    "duration": 2707,
    "start_time": "2022-12-06T11:02:41.187Z"
   },
   {
    "duration": 2722,
    "start_time": "2022-12-06T11:02:57.752Z"
   },
   {
    "duration": 1388,
    "start_time": "2022-12-06T11:04:15.094Z"
   },
   {
    "duration": 381,
    "start_time": "2022-12-06T11:04:16.484Z"
   },
   {
    "duration": 39,
    "start_time": "2022-12-06T11:04:16.867Z"
   },
   {
    "duration": 22,
    "start_time": "2022-12-06T11:04:16.908Z"
   },
   {
    "duration": 157,
    "start_time": "2022-12-06T11:04:16.933Z"
   },
   {
    "duration": 49,
    "start_time": "2022-12-06T11:04:17.092Z"
   },
   {
    "duration": 113,
    "start_time": "2022-12-06T11:04:17.143Z"
   },
   {
    "duration": 50,
    "start_time": "2022-12-06T11:04:17.258Z"
   },
   {
    "duration": 5,
    "start_time": "2022-12-06T11:04:17.310Z"
   },
   {
    "duration": 57,
    "start_time": "2022-12-06T11:04:17.316Z"
   },
   {
    "duration": 53,
    "start_time": "2022-12-06T11:04:17.375Z"
   },
   {
    "duration": 159,
    "start_time": "2022-12-06T11:04:17.433Z"
   },
   {
    "duration": 200,
    "start_time": "2022-12-06T11:04:17.594Z"
   },
   {
    "duration": 209,
    "start_time": "2022-12-06T11:04:17.797Z"
   },
   {
    "duration": 30,
    "start_time": "2022-12-06T11:04:18.007Z"
   },
   {
    "duration": 39,
    "start_time": "2022-12-06T11:04:18.039Z"
   },
   {
    "duration": 44,
    "start_time": "2022-12-06T11:04:18.079Z"
   },
   {
    "duration": 45,
    "start_time": "2022-12-06T11:04:18.125Z"
   },
   {
    "duration": 50,
    "start_time": "2022-12-06T11:04:18.172Z"
   },
   {
    "duration": 41,
    "start_time": "2022-12-06T11:04:18.224Z"
   },
   {
    "duration": 31,
    "start_time": "2022-12-06T11:04:18.266Z"
   },
   {
    "duration": 45,
    "start_time": "2022-12-06T11:04:18.299Z"
   },
   {
    "duration": 55,
    "start_time": "2022-12-06T11:04:18.346Z"
   },
   {
    "duration": 2969,
    "start_time": "2022-12-06T11:04:18.403Z"
   },
   {
    "duration": 2848,
    "start_time": "2022-12-06T11:04:34.714Z"
   },
   {
    "duration": 2660,
    "start_time": "2022-12-06T11:04:39.840Z"
   },
   {
    "duration": 2759,
    "start_time": "2022-12-06T11:05:30.009Z"
   },
   {
    "duration": 5,
    "start_time": "2022-12-06T11:07:50.368Z"
   },
   {
    "duration": 2698,
    "start_time": "2022-12-06T11:07:51.960Z"
   },
   {
    "duration": 3,
    "start_time": "2022-12-06T11:08:52.122Z"
   },
   {
    "duration": 1367,
    "start_time": "2022-12-06T11:09:01.467Z"
   },
   {
    "duration": 387,
    "start_time": "2022-12-06T11:09:02.836Z"
   },
   {
    "duration": 37,
    "start_time": "2022-12-06T11:09:03.225Z"
   },
   {
    "duration": 23,
    "start_time": "2022-12-06T11:09:03.264Z"
   },
   {
    "duration": 172,
    "start_time": "2022-12-06T11:09:03.289Z"
   },
   {
    "duration": 58,
    "start_time": "2022-12-06T11:09:03.463Z"
   },
   {
    "duration": 106,
    "start_time": "2022-12-06T11:09:03.522Z"
   },
   {
    "duration": 52,
    "start_time": "2022-12-06T11:09:03.629Z"
   },
   {
    "duration": 6,
    "start_time": "2022-12-06T11:09:03.682Z"
   },
   {
    "duration": 24,
    "start_time": "2022-12-06T11:09:03.690Z"
   },
   {
    "duration": 32,
    "start_time": "2022-12-06T11:09:03.716Z"
   },
   {
    "duration": 138,
    "start_time": "2022-12-06T11:09:03.749Z"
   },
   {
    "duration": 126,
    "start_time": "2022-12-06T11:09:03.977Z"
   },
   {
    "duration": 183,
    "start_time": "2022-12-06T11:09:04.105Z"
   },
   {
    "duration": 11,
    "start_time": "2022-12-06T11:09:04.290Z"
   },
   {
    "duration": 28,
    "start_time": "2022-12-06T11:09:04.303Z"
   },
   {
    "duration": 21,
    "start_time": "2022-12-06T11:09:04.333Z"
   },
   {
    "duration": 20,
    "start_time": "2022-12-06T11:09:04.356Z"
   },
   {
    "duration": 22,
    "start_time": "2022-12-06T11:09:04.377Z"
   },
   {
    "duration": 29,
    "start_time": "2022-12-06T11:09:04.401Z"
   },
   {
    "duration": 11,
    "start_time": "2022-12-06T11:09:04.431Z"
   },
   {
    "duration": 20,
    "start_time": "2022-12-06T11:09:04.443Z"
   },
   {
    "duration": 17,
    "start_time": "2022-12-06T11:09:04.464Z"
   },
   {
    "duration": 34,
    "start_time": "2022-12-06T11:09:04.483Z"
   },
   {
    "duration": 2664,
    "start_time": "2022-12-06T11:09:04.519Z"
   },
   {
    "duration": 4,
    "start_time": "2022-12-06T11:15:24.970Z"
   },
   {
    "duration": 4,
    "start_time": "2022-12-06T11:15:27.015Z"
   },
   {
    "duration": 115,
    "start_time": "2022-12-06T11:15:52.431Z"
   },
   {
    "duration": 6,
    "start_time": "2022-12-06T11:16:05.464Z"
   },
   {
    "duration": 20,
    "start_time": "2022-12-06T11:16:07.382Z"
   },
   {
    "duration": 4,
    "start_time": "2022-12-06T11:16:34.357Z"
   },
   {
    "duration": 21,
    "start_time": "2022-12-06T11:16:35.821Z"
   },
   {
    "duration": 4,
    "start_time": "2022-12-06T11:17:01.004Z"
   },
   {
    "duration": 22,
    "start_time": "2022-12-06T11:17:03.377Z"
   },
   {
    "duration": 5,
    "start_time": "2022-12-06T11:17:34.196Z"
   },
   {
    "duration": 3298,
    "start_time": "2022-12-06T11:17:35.810Z"
   },
   {
    "duration": 1421,
    "start_time": "2022-12-06T11:17:58.791Z"
   },
   {
    "duration": 388,
    "start_time": "2022-12-06T11:18:00.215Z"
   },
   {
    "duration": 37,
    "start_time": "2022-12-06T11:18:00.605Z"
   },
   {
    "duration": 13,
    "start_time": "2022-12-06T11:18:00.644Z"
   },
   {
    "duration": 150,
    "start_time": "2022-12-06T11:18:00.677Z"
   },
   {
    "duration": 57,
    "start_time": "2022-12-06T11:18:00.828Z"
   },
   {
    "duration": 114,
    "start_time": "2022-12-06T11:18:00.887Z"
   },
   {
    "duration": 42,
    "start_time": "2022-12-06T11:18:01.002Z"
   },
   {
    "duration": 6,
    "start_time": "2022-12-06T11:18:01.045Z"
   },
   {
    "duration": 8,
    "start_time": "2022-12-06T11:18:01.052Z"
   },
   {
    "duration": 32,
    "start_time": "2022-12-06T11:18:01.062Z"
   },
   {
    "duration": 91,
    "start_time": "2022-12-06T11:18:01.096Z"
   },
   {
    "duration": 97,
    "start_time": "2022-12-06T11:18:01.188Z"
   },
   {
    "duration": 199,
    "start_time": "2022-12-06T11:18:01.288Z"
   },
   {
    "duration": 11,
    "start_time": "2022-12-06T11:18:01.489Z"
   },
   {
    "duration": 23,
    "start_time": "2022-12-06T11:18:01.502Z"
   },
   {
    "duration": 20,
    "start_time": "2022-12-06T11:18:01.527Z"
   },
   {
    "duration": 29,
    "start_time": "2022-12-06T11:18:01.549Z"
   },
   {
    "duration": 33,
    "start_time": "2022-12-06T11:18:01.580Z"
   },
   {
    "duration": 15,
    "start_time": "2022-12-06T11:18:01.614Z"
   },
   {
    "duration": 9,
    "start_time": "2022-12-06T11:18:01.631Z"
   },
   {
    "duration": 12,
    "start_time": "2022-12-06T11:18:01.642Z"
   },
   {
    "duration": 24,
    "start_time": "2022-12-06T11:18:01.656Z"
   },
   {
    "duration": 81,
    "start_time": "2022-12-06T11:18:01.681Z"
   },
   {
    "duration": 3243,
    "start_time": "2022-12-06T11:18:01.763Z"
   },
   {
    "duration": 3148,
    "start_time": "2022-12-06T11:19:47.665Z"
   },
   {
    "duration": 1358,
    "start_time": "2022-12-06T11:20:27.542Z"
   },
   {
    "duration": 369,
    "start_time": "2022-12-06T11:20:28.901Z"
   },
   {
    "duration": 35,
    "start_time": "2022-12-06T11:20:29.272Z"
   },
   {
    "duration": 14,
    "start_time": "2022-12-06T11:20:29.311Z"
   },
   {
    "duration": 141,
    "start_time": "2022-12-06T11:20:29.327Z"
   },
   {
    "duration": 56,
    "start_time": "2022-12-06T11:20:29.470Z"
   },
   {
    "duration": 97,
    "start_time": "2022-12-06T11:20:29.527Z"
   },
   {
    "duration": 35,
    "start_time": "2022-12-06T11:20:29.626Z"
   },
   {
    "duration": 15,
    "start_time": "2022-12-06T11:20:29.663Z"
   },
   {
    "duration": 5,
    "start_time": "2022-12-06T11:20:29.681Z"
   },
   {
    "duration": 19,
    "start_time": "2022-12-06T11:20:29.688Z"
   },
   {
    "duration": 104,
    "start_time": "2022-12-06T11:20:29.779Z"
   },
   {
    "duration": 197,
    "start_time": "2022-12-06T11:20:29.885Z"
   },
   {
    "duration": 205,
    "start_time": "2022-12-06T11:20:30.084Z"
   },
   {
    "duration": 26,
    "start_time": "2022-12-06T11:20:30.291Z"
   },
   {
    "duration": 50,
    "start_time": "2022-12-06T11:20:30.319Z"
   },
   {
    "duration": 25,
    "start_time": "2022-12-06T11:20:30.370Z"
   },
   {
    "duration": 22,
    "start_time": "2022-12-06T11:20:30.396Z"
   },
   {
    "duration": 13,
    "start_time": "2022-12-06T11:20:30.419Z"
   },
   {
    "duration": 10,
    "start_time": "2022-12-06T11:20:30.434Z"
   },
   {
    "duration": 17,
    "start_time": "2022-12-06T11:20:30.446Z"
   },
   {
    "duration": 29,
    "start_time": "2022-12-06T11:20:30.465Z"
   },
   {
    "duration": 42,
    "start_time": "2022-12-06T11:20:30.496Z"
   },
   {
    "duration": 3033,
    "start_time": "2022-12-06T11:20:30.540Z"
   },
   {
    "duration": 3,
    "start_time": "2022-12-06T11:27:44.654Z"
   },
   {
    "duration": 4,
    "start_time": "2022-12-06T11:27:46.242Z"
   },
   {
    "duration": 4,
    "start_time": "2022-12-06T11:27:48.041Z"
   },
   {
    "duration": 3126,
    "start_time": "2022-12-06T11:27:50.182Z"
   },
   {
    "duration": 4,
    "start_time": "2022-12-06T11:29:43.343Z"
   },
   {
    "duration": 4247,
    "start_time": "2022-12-06T11:29:44.584Z"
   },
   {
    "duration": 3204,
    "start_time": "2022-12-06T11:30:11.143Z"
   },
   {
    "duration": 5,
    "start_time": "2022-12-06T12:30:25.884Z"
   },
   {
    "duration": 4,
    "start_time": "2022-12-06T12:30:27.654Z"
   },
   {
    "duration": 2936,
    "start_time": "2022-12-06T12:30:29.389Z"
   }
  ],
  "kernelspec": {
   "display_name": "Python 3 (ipykernel)",
   "language": "python",
   "name": "python3"
  },
  "language_info": {
   "codemirror_mode": {
    "name": "ipython",
    "version": 3
   },
   "file_extension": ".py",
   "mimetype": "text/x-python",
   "name": "python",
   "nbconvert_exporter": "python",
   "pygments_lexer": "ipython3",
   "version": "3.9.5"
  },
  "toc": {
   "base_numbering": 1,
   "nav_menu": {},
   "number_sections": true,
   "sideBar": true,
   "skip_h1_title": true,
   "title_cell": "Содержание",
   "title_sidebar": "Contents",
   "toc_cell": true,
   "toc_position": {},
   "toc_section_display": true,
   "toc_window_display": false
  }
 },
 "nbformat": 4,
 "nbformat_minor": 2
}
