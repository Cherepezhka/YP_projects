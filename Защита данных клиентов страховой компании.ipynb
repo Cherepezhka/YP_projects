{
 "cells": [
  {
   "attachments": {},
   "cell_type": "markdown",
   "metadata": {
    "toc": true
   },
   "source": [
    "<h1>Содержание<span class=\"tocSkip\"></span></h1>\n",
    "<div class=\"toc\"><ul class=\"toc-item\"><li><span><a href=\"#Загрузка-данных\" data-toc-modified-id=\"Загрузка-данных-1\"><span class=\"toc-item-num\">1&nbsp;&nbsp;</span>Загрузка данных</a></span></li><li><span><a href=\"#Умножение-матриц\" data-toc-modified-id=\"Умножение-матриц-2\"><span class=\"toc-item-num\">2&nbsp;&nbsp;</span>Умножение матриц</a></span></li><li><span><a href=\"#Алгоритм-преобразования\" data-toc-modified-id=\"Алгоритм-преобразования-3\"><span class=\"toc-item-num\">3&nbsp;&nbsp;</span>Алгоритм преобразования</a></span></li><li><span><a href=\"#Проверка-алгоритма\" data-toc-modified-id=\"Проверка-алгоритма-4\"><span class=\"toc-item-num\">4&nbsp;&nbsp;</span>Проверка алгоритма</a></span></li><li><span><a href=\"#Общий-вывод\" data-toc-modified-id=\"Общий-вывод-5\"><span class=\"toc-item-num\">5&nbsp;&nbsp;</span>Общий вывод</a></span></li><li><span><a href=\"#Чек-лист-проверки\" data-toc-modified-id=\"Чек-лист-проверки-6\"><span class=\"toc-item-num\">6&nbsp;&nbsp;</span>Чек-лист проверки</a></span></li></ul></div>"
   ]
  },
  {
   "attachments": {},
   "cell_type": "markdown",
   "metadata": {},
   "source": [
    "# Защита персональных данных клиентов"
   ]
  },
  {
   "attachments": {},
   "cell_type": "markdown",
   "metadata": {},
   "source": [
    "Вам нужно защитить данные клиентов страховой компании «Хоть потоп». Разработайте такой метод преобразования данных, чтобы по ним было сложно восстановить персональную информацию. Обоснуйте корректность его работы.\n",
    "\n",
    "Нужно защитить данные, чтобы при преобразовании качество моделей машинного обучения не ухудшилось. Подбирать наилучшую модель не требуется."
   ]
  },
  {
   "attachments": {},
   "cell_type": "markdown",
   "metadata": {},
   "source": [
    "## Загрузка данных"
   ]
  },
  {
   "cell_type": "code",
   "execution_count": 1,
   "metadata": {},
   "outputs": [],
   "source": [
    "import pandas as pd\n",
    "import numpy as np\n",
    "\n",
    "from sklearn.linear_model import LinearRegression\n",
    "from sklearn.metrics import r2_score\n",
    "from sklearn.model_selection import train_test_split\n",
    "\n",
    "import warnings\n",
    "warnings.filterwarnings('ignore')"
   ]
  },
  {
   "cell_type": "code",
   "execution_count": 2,
   "metadata": {},
   "outputs": [],
   "source": [
    "data = pd.read_csv('/datasets/insurance.csv')"
   ]
  },
  {
   "cell_type": "code",
   "execution_count": 3,
   "metadata": {},
   "outputs": [
    {
     "name": "stdout",
     "output_type": "stream",
     "text": [
      "<class 'pandas.core.frame.DataFrame'>\n",
      "RangeIndex: 5000 entries, 0 to 4999\n",
      "Data columns (total 5 columns):\n",
      " #   Column             Non-Null Count  Dtype  \n",
      "---  ------             --------------  -----  \n",
      " 0   Пол                5000 non-null   int64  \n",
      " 1   Возраст            5000 non-null   float64\n",
      " 2   Зарплата           5000 non-null   float64\n",
      " 3   Члены семьи        5000 non-null   int64  \n",
      " 4   Страховые выплаты  5000 non-null   int64  \n",
      "dtypes: float64(2), int64(3)\n",
      "memory usage: 195.4 KB\n"
     ]
    }
   ],
   "source": [
    "data.info()"
   ]
  },
  {
   "cell_type": "code",
   "execution_count": 4,
   "metadata": {},
   "outputs": [
    {
     "data": {
      "text/html": [
       "<div>\n",
       "<style scoped>\n",
       "    .dataframe tbody tr th:only-of-type {\n",
       "        vertical-align: middle;\n",
       "    }\n",
       "\n",
       "    .dataframe tbody tr th {\n",
       "        vertical-align: top;\n",
       "    }\n",
       "\n",
       "    .dataframe thead th {\n",
       "        text-align: right;\n",
       "    }\n",
       "</style>\n",
       "<table border=\"1\" class=\"dataframe\">\n",
       "  <thead>\n",
       "    <tr style=\"text-align: right;\">\n",
       "      <th></th>\n",
       "      <th>Пол</th>\n",
       "      <th>Возраст</th>\n",
       "      <th>Зарплата</th>\n",
       "      <th>Члены семьи</th>\n",
       "      <th>Страховые выплаты</th>\n",
       "    </tr>\n",
       "  </thead>\n",
       "  <tbody>\n",
       "    <tr>\n",
       "      <th>0</th>\n",
       "      <td>1</td>\n",
       "      <td>41.0</td>\n",
       "      <td>49600.0</td>\n",
       "      <td>1</td>\n",
       "      <td>0</td>\n",
       "    </tr>\n",
       "    <tr>\n",
       "      <th>1</th>\n",
       "      <td>0</td>\n",
       "      <td>46.0</td>\n",
       "      <td>38000.0</td>\n",
       "      <td>1</td>\n",
       "      <td>1</td>\n",
       "    </tr>\n",
       "    <tr>\n",
       "      <th>2</th>\n",
       "      <td>0</td>\n",
       "      <td>29.0</td>\n",
       "      <td>21000.0</td>\n",
       "      <td>0</td>\n",
       "      <td>0</td>\n",
       "    </tr>\n",
       "  </tbody>\n",
       "</table>\n",
       "</div>"
      ],
      "text/plain": [
       "   Пол  Возраст  Зарплата  Члены семьи  Страховые выплаты\n",
       "0    1     41.0   49600.0            1                  0\n",
       "1    0     46.0   38000.0            1                  1\n",
       "2    0     29.0   21000.0            0                  0"
      ]
     },
     "execution_count": 4,
     "metadata": {},
     "output_type": "execute_result"
    }
   ],
   "source": [
    "data.head(3)"
   ]
  },
  {
   "cell_type": "code",
   "execution_count": 5,
   "metadata": {},
   "outputs": [
    {
     "data": {
      "text/html": [
       "<style  type=\"text/css\" >\n",
       "#T_5a6b2_row0_col0,#T_5a6b2_row1_col1,#T_5a6b2_row2_col2,#T_5a6b2_row3_col3,#T_5a6b2_row4_col4{\n",
       "            background-color:  #7f2704;\n",
       "            color:  #f1f1f1;\n",
       "        }#T_5a6b2_row0_col1,#T_5a6b2_row2_col4{\n",
       "            background-color:  #fff3e6;\n",
       "            color:  #000000;\n",
       "        }#T_5a6b2_row0_col2,#T_5a6b2_row0_col4{\n",
       "            background-color:  #fff0e1;\n",
       "            color:  #000000;\n",
       "        }#T_5a6b2_row0_col3,#T_5a6b2_row2_col0{\n",
       "            background-color:  #fff2e6;\n",
       "            color:  #000000;\n",
       "        }#T_5a6b2_row1_col0,#T_5a6b2_row1_col2{\n",
       "            background-color:  #fff4e9;\n",
       "            color:  #000000;\n",
       "        }#T_5a6b2_row1_col3{\n",
       "            background-color:  #fff2e5;\n",
       "            color:  #000000;\n",
       "        }#T_5a6b2_row1_col4{\n",
       "            background-color:  #ea5f0e;\n",
       "            color:  #000000;\n",
       "        }#T_5a6b2_row2_col1,#T_5a6b2_row3_col0,#T_5a6b2_row3_col2,#T_5a6b2_row3_col4,#T_5a6b2_row4_col3{\n",
       "            background-color:  #fff5eb;\n",
       "            color:  #000000;\n",
       "        }#T_5a6b2_row2_col3{\n",
       "            background-color:  #fff5ea;\n",
       "            color:  #000000;\n",
       "        }#T_5a6b2_row3_col1,#T_5a6b2_row4_col2{\n",
       "            background-color:  #fff4e8;\n",
       "            color:  #000000;\n",
       "        }#T_5a6b2_row4_col0{\n",
       "            background-color:  #fff3e7;\n",
       "            color:  #000000;\n",
       "        }#T_5a6b2_row4_col1{\n",
       "            background-color:  #eb600e;\n",
       "            color:  #000000;\n",
       "        }</style><table id=\"T_5a6b2_\" ><thead>    <tr>        <th class=\"blank level0\" ></th>        <th class=\"col_heading level0 col0\" >Пол</th>        <th class=\"col_heading level0 col1\" >Возраст</th>        <th class=\"col_heading level0 col2\" >Зарплата</th>        <th class=\"col_heading level0 col3\" >Члены семьи</th>        <th class=\"col_heading level0 col4\" >Страховые выплаты</th>    </tr></thead><tbody>\n",
       "                <tr>\n",
       "                        <th id=\"T_5a6b2_level0_row0\" class=\"row_heading level0 row0\" >Пол</th>\n",
       "                        <td id=\"T_5a6b2_row0_col0\" class=\"data row0 col0\" >1.000000</td>\n",
       "                        <td id=\"T_5a6b2_row0_col1\" class=\"data row0 col1\" >0.002074</td>\n",
       "                        <td id=\"T_5a6b2_row0_col2\" class=\"data row0 col2\" >0.014910</td>\n",
       "                        <td id=\"T_5a6b2_row0_col3\" class=\"data row0 col3\" >-0.008991</td>\n",
       "                        <td id=\"T_5a6b2_row0_col4\" class=\"data row0 col4\" >0.010140</td>\n",
       "            </tr>\n",
       "            <tr>\n",
       "                        <th id=\"T_5a6b2_level0_row1\" class=\"row_heading level0 row1\" >Возраст</th>\n",
       "                        <td id=\"T_5a6b2_row1_col0\" class=\"data row1 col0\" >0.002074</td>\n",
       "                        <td id=\"T_5a6b2_row1_col1\" class=\"data row1 col1\" >1.000000</td>\n",
       "                        <td id=\"T_5a6b2_row1_col2\" class=\"data row1 col2\" >-0.019093</td>\n",
       "                        <td id=\"T_5a6b2_row1_col3\" class=\"data row1 col3\" >-0.006692</td>\n",
       "                        <td id=\"T_5a6b2_row1_col4\" class=\"data row1 col4\" >0.651030</td>\n",
       "            </tr>\n",
       "            <tr>\n",
       "                        <th id=\"T_5a6b2_level0_row2\" class=\"row_heading level0 row2\" >Зарплата</th>\n",
       "                        <td id=\"T_5a6b2_row2_col0\" class=\"data row2 col0\" >0.014910</td>\n",
       "                        <td id=\"T_5a6b2_row2_col1\" class=\"data row2 col1\" >-0.019093</td>\n",
       "                        <td id=\"T_5a6b2_row2_col2\" class=\"data row2 col2\" >1.000000</td>\n",
       "                        <td id=\"T_5a6b2_row2_col3\" class=\"data row2 col3\" >-0.030296</td>\n",
       "                        <td id=\"T_5a6b2_row2_col4\" class=\"data row2 col4\" >-0.014963</td>\n",
       "            </tr>\n",
       "            <tr>\n",
       "                        <th id=\"T_5a6b2_level0_row3\" class=\"row_heading level0 row3\" >Члены семьи</th>\n",
       "                        <td id=\"T_5a6b2_row3_col0\" class=\"data row3 col0\" >-0.008991</td>\n",
       "                        <td id=\"T_5a6b2_row3_col1\" class=\"data row3 col1\" >-0.006692</td>\n",
       "                        <td id=\"T_5a6b2_row3_col2\" class=\"data row3 col2\" >-0.030296</td>\n",
       "                        <td id=\"T_5a6b2_row3_col3\" class=\"data row3 col3\" >1.000000</td>\n",
       "                        <td id=\"T_5a6b2_row3_col4\" class=\"data row3 col4\" >-0.036290</td>\n",
       "            </tr>\n",
       "            <tr>\n",
       "                        <th id=\"T_5a6b2_level0_row4\" class=\"row_heading level0 row4\" >Страховые выплаты</th>\n",
       "                        <td id=\"T_5a6b2_row4_col0\" class=\"data row4 col0\" >0.010140</td>\n",
       "                        <td id=\"T_5a6b2_row4_col1\" class=\"data row4 col1\" >0.651030</td>\n",
       "                        <td id=\"T_5a6b2_row4_col2\" class=\"data row4 col2\" >-0.014963</td>\n",
       "                        <td id=\"T_5a6b2_row4_col3\" class=\"data row4 col3\" >-0.036290</td>\n",
       "                        <td id=\"T_5a6b2_row4_col4\" class=\"data row4 col4\" >1.000000</td>\n",
       "            </tr>\n",
       "    </tbody></table>"
      ],
      "text/plain": [
       "<pandas.io.formats.style.Styler at 0x7f915b708970>"
      ]
     },
     "execution_count": 5,
     "metadata": {},
     "output_type": "execute_result"
    }
   ],
   "source": [
    "data.corr().style.background_gradient('Oranges')"
   ]
  },
  {
   "attachments": {},
   "cell_type": "markdown",
   "metadata": {},
   "source": [
    "**Вывод:** Пропусков в данных нет. Признаки имеют довольно низкую корреляцию между собой.\n",
    "* Признаки: пол, возраст и зарплата застрахованного, количество членов его семьи.\n",
    "* Целевой признак: количество страховых выплат клиенту за последние 5 лет."
   ]
  },
  {
   "attachments": {},
   "cell_type": "markdown",
   "metadata": {},
   "source": [
    "## Умножение матриц"
   ]
  },
  {
   "attachments": {},
   "cell_type": "markdown",
   "metadata": {},
   "source": [
    "В этом задании вы можете записывать формулы в *Jupyter Notebook.*\n",
    "\n",
    "Чтобы записать формулу внутри текста, окружите её символами доллара \\\\$; если снаружи —  двойными символами \\\\$\\\\$. Эти формулы записываются на языке вёрстки *LaTeX.* \n",
    "\n",
    "Для примера мы записали формулы линейной регрессии. Можете их скопировать и отредактировать, чтобы решить задачу.\n",
    "\n",
    "Работать в *LaTeX* необязательно."
   ]
  },
  {
   "attachments": {},
   "cell_type": "markdown",
   "metadata": {},
   "source": [
    "Обозначения:\n",
    "\n",
    "- $X$ — матрица признаков (нулевой столбец состоит из единиц)\n",
    "\n",
    "- $y$ — вектор целевого признака\n",
    "\n",
    "- $P$ — матрица, на которую умножаются признаки\n",
    "\n",
    "- $w$ — вектор весов линейной регрессии (нулевой элемент равен сдвигу)"
   ]
  },
  {
   "attachments": {},
   "cell_type": "markdown",
   "metadata": {},
   "source": [
    "Предсказания:\n",
    "\n",
    "$$\n",
    "a = Xw\n",
    "$$\n",
    "\n",
    "Задача обучения:\n",
    "\n",
    "$$\n",
    "w = \\arg\\min_w MSE(Xw, y)\n",
    "$$\n",
    "\n",
    "Формула обучения:\n",
    "\n",
    "$$\n",
    "w = (X^T X)^{-1} X^T y\n",
    "$$"
   ]
  },
  {
   "attachments": {},
   "cell_type": "markdown",
   "metadata": {},
   "source": [
    "**Изменится ли качество линейной регрессии, при умножении признаков на обратимую матрицу?**"
   ]
  },
  {
   "attachments": {},
   "cell_type": "markdown",
   "metadata": {},
   "source": [
    "**Ответ:** Нет, не изменится.\n",
    "\n",
    "**Обоснование:** \n",
    "\n",
    "\n",
    "Введем матрицу $А = XP.$ По условию, матрица $P$ обратимая, следовательно из критерия существования обратимости, матрица $P$ должна быть квадратной и ее определитель не равен нулю. Пусть матрица $X$ имеет размерность $(mxn)$, тогда матрица $P$ должна иметь размерность $(nxn)$.\n",
    "\n",
    "При доказательстве воспользуемся формулами матричного умножения:\n",
    "\n",
    "$\n",
    "А_{nxm}^T = P_{nxn}^T  X_{nxm}^T \\qquad\\qquad(1)\n",
    "$\n",
    "\n",
    "$\n",
    " (AB)^{-1}= B^{-1}A^{-1} \\qquad\\qquad\\ (2)\n",
    "$\n",
    "\n",
    "$\n",
    " ABC= (AB)C =A(BC) \\qquad(3)\n",
    "$\n",
    "\n",
    "$\n",
    " A A^{-1}= E \\qquad\\qquad\\qquad\\quad(4)\n",
    "$\n",
    "\n",
    "$\n",
    " EA= A =AE \\qquad\\qquad\\quad\\;(5)\n",
    "$\n",
    "\n",
    "Подставим матрицу А в формулу обучения:\n",
    "\n",
    "$$\n",
    "w = (A^T A)^{-1} A^T y = ((XP)^T XP)^{-1} (XP)^T y \n",
    "$$\n",
    "\n",
    "По формуле (1) раскроем скобки и получим:\n",
    "\n",
    "$$\n",
    "w =  (P^T X^T XP)^{-1} P^T X^T y \n",
    "$$\n",
    "\n",
    "Воспользовавшись формулами (2) и (3):\n",
    "\n",
    "$$\n",
    "w = (P^T ((X^T X)P))^{-1} P^T X^T y = ((X^T X)P)^{-1} (P^T)^{-1} P^T X^T y = P^{-1}(X^T X)^{-1} (P^T)^{-1} P^T X^T y \n",
    "$$\n",
    "\n",
    "Так как при умножении матрицы на ее обратную получается единичная матрица, а умножение матрицы на единичную не меняет ее значения (по формулам (4) и (5)), выражение примет следующий вид:\n",
    "\n",
    "$$\n",
    "w =  P^{-1} (X^T X)^{-1} X^T y\n",
    "$$\n",
    "\n",
    "Подставим полученное выражение в формулу предсказаний.\n",
    "\n",
    "$$\n",
    "a = Aw = XPw = XPP^{-1} (X^T X)^{-1} X^T y = X(X^T X)^{-1} X^T y\n",
    "$$\n",
    "\n",
    "**Ч.Т.Д.** (что требовалось доказать). \n",
    "Умножение матрицы $X$ на обратимую матрицу $P$ не повлияет на формулу предсказаний."
   ]
  },
  {
   "attachments": {},
   "cell_type": "markdown",
   "metadata": {},
   "source": [
    "  \n",
    "Есть ещё один способ доказательства   когда мы берём\n",
    "    \n",
    "    \n",
    "$$\n",
    "w = \\arg\\min_w MSE(Xw, y)\n",
    "$$\n",
    "    \n",
    "  \n",
    "и     \n",
    "    \n",
    "$$\n",
    "w_P = \\arg\\min_w MSE(XPw_p, y)\n",
    "$$  \n",
    "    \n",
    "    \n",
    "И делая  замену    w_p, видим что задача  \n",
    "    \n",
    "$$\n",
    "\\arg\\min_w MSE(XPw_p, y)\n",
    "$$\n",
    "    \n",
    "сводится к     \n",
    "  \n",
    "    \n",
    "$$\n",
    "\\arg\\min_w MSE(Xw, y)\n",
    "$$    \n",
    "\n",
    "\n",
    "Осталось только догадаться какую замену мы делаем.  Можешь попробовать решить и таким способом  \n",
    "\n",
    "  \n",
    "</div>\n",
    "    \n",
    "\n",
    "    \n",
    "\n",
    "\n"
   ]
  },
  {
   "attachments": {},
   "cell_type": "markdown",
   "metadata": {},
   "source": [
    "## Алгоритм преобразования"
   ]
  },
  {
   "attachments": {},
   "cell_type": "markdown",
   "metadata": {},
   "source": [
    "**Алгоритм**\n",
    "\n",
    "Введем матрицу зашифрованных признаков $А_{mxn} = X_{mxn}P_{nxn}.$ Так как размерность матрицы признаков 5000x4, а матрица $P$ - квадратная, то ее размерность будет 4х4.\n",
    "\n",
    "В качестве матрицы $P_{4x4}$ возьмем матрицу случайных чисел и проверим ее на обратимость. Далее обучим модели линейной регрессии на зашифрованных и незашифрованных признаках и определим для каждой из них метрику R2. Полученные результаты сравним."
   ]
  },
  {
   "attachments": {},
   "cell_type": "markdown",
   "metadata": {},
   "source": [
    "**Обоснование**"
   ]
  },
  {
   "cell_type": "code",
   "execution_count": 6,
   "metadata": {},
   "outputs": [],
   "source": [
    "features = data.drop('Страховые выплаты',axis=1)\n",
    "target = data['Страховые выплаты']"
   ]
  },
  {
   "cell_type": "code",
   "execution_count": 7,
   "metadata": {},
   "outputs": [
    {
     "name": "stdout",
     "output_type": "stream",
     "text": [
      "[[ 0.53052216 -1.71789161 -0.30743901  6.73599387]\n",
      " [ 0.53647661  7.94927402 -0.19304034  3.50752611]\n",
      " [-1.23081959  2.62428438 -2.69638698 -0.51868442]\n",
      " [-6.84541507  0.63501647  3.38752846  0.95373709]]\n"
     ]
    }
   ],
   "source": [
    "p_matrix = np.random.normal(1,3,size=(4,4))\n",
    "print(p_matrix)"
   ]
  },
  {
   "cell_type": "code",
   "execution_count": 8,
   "metadata": {},
   "outputs": [
    {
     "data": {
      "text/plain": [
       "array([[-0.02264783,  0.05338782, -0.14823195, -0.11700197],\n",
       "       [-0.05848075,  0.1117972 ,  0.00324454,  0.00364592],\n",
       "       [-0.07197853,  0.0790678 , -0.29981807,  0.0545261 ],\n",
       "       [ 0.13204029,  0.02791579, -0.00118196,  0.01263346]])"
      ]
     },
     "execution_count": 8,
     "metadata": {},
     "output_type": "execute_result"
    }
   ],
   "source": [
    "#Проверим матрицу на обратимость\n",
    "np.linalg.inv(p_matrix)"
   ]
  },
  {
   "attachments": {},
   "cell_type": "markdown",
   "metadata": {},
   "source": [
    "Полученная матрица обратима."
   ]
  },
  {
   "cell_type": "code",
   "execution_count": 9,
   "metadata": {},
   "outputs": [
    {
     "data": {
      "text/html": [
       "<div>\n",
       "<style scoped>\n",
       "    .dataframe tbody tr th:only-of-type {\n",
       "        vertical-align: middle;\n",
       "    }\n",
       "\n",
       "    .dataframe tbody tr th {\n",
       "        vertical-align: top;\n",
       "    }\n",
       "\n",
       "    .dataframe thead th {\n",
       "        text-align: right;\n",
       "    }\n",
       "</style>\n",
       "<table border=\"1\" class=\"dataframe\">\n",
       "  <thead>\n",
       "    <tr style=\"text-align: right;\">\n",
       "      <th></th>\n",
       "      <th>Пол</th>\n",
       "      <th>Возраст</th>\n",
       "      <th>Зарплата</th>\n",
       "      <th>Члены семьи</th>\n",
       "    </tr>\n",
       "  </thead>\n",
       "  <tbody>\n",
       "    <tr>\n",
       "      <th>0</th>\n",
       "      <td>-61032.971217</td>\n",
       "      <td>130489.342577</td>\n",
       "      <td>-133745.628806</td>\n",
       "      <td>-25575.249067</td>\n",
       "    </tr>\n",
       "    <tr>\n",
       "      <th>1</th>\n",
       "      <td>-46753.312065</td>\n",
       "      <td>100089.108038</td>\n",
       "      <td>-102468.197593</td>\n",
       "      <td>-19547.708127</td>\n",
       "    </tr>\n",
       "    <tr>\n",
       "      <th>2</th>\n",
       "      <td>-25831.653653</td>\n",
       "      <td>55340.500914</td>\n",
       "      <td>-56629.724764</td>\n",
       "      <td>-10790.654621</td>\n",
       "    </tr>\n",
       "    <tr>\n",
       "      <th>3</th>\n",
       "      <td>-51327.601893</td>\n",
       "      <td>109600.863408</td>\n",
       "      <td>-112436.615885</td>\n",
       "      <td>-21553.574906</td>\n",
       "    </tr>\n",
       "    <tr>\n",
       "      <th>4</th>\n",
       "      <td>-32108.839537</td>\n",
       "      <td>68714.684083</td>\n",
       "      <td>-70381.412764</td>\n",
       "      <td>-13432.716709</td>\n",
       "    </tr>\n",
       "  </tbody>\n",
       "</table>\n",
       "</div>"
      ],
      "text/plain": [
       "            Пол        Возраст       Зарплата   Члены семьи\n",
       "0 -61032.971217  130489.342577 -133745.628806 -25575.249067\n",
       "1 -46753.312065  100089.108038 -102468.197593 -19547.708127\n",
       "2 -25831.653653   55340.500914  -56629.724764 -10790.654621\n",
       "3 -51327.601893  109600.863408 -112436.615885 -21553.574906\n",
       "4 -32108.839537   68714.684083  -70381.412764 -13432.716709"
      ]
     },
     "execution_count": 9,
     "metadata": {},
     "output_type": "execute_result"
    }
   ],
   "source": [
    "#Зашифрованные признаки\n",
    "ecrypted_features = pd.DataFrame(np.dot(features.values,p_matrix),index=features.index,columns=features.columns)\n",
    "ecrypted_features.head()"
   ]
  },
  {
   "cell_type": "code",
   "execution_count": 10,
   "metadata": {},
   "outputs": [],
   "source": [
    "#Отедлим тренировочную и тествую выборки для незашифрованных признаков\n",
    "features_train, features_test, target_train,target_test = train_test_split(features,target,test_size=0.25,\n",
    "                                                                            random_state=12345)\n",
    "\n",
    "#Отедлим тренировочную и тествую выборки для зашифрованных признаков\n",
    "ecrypted_features_train,  ecrypted_features_test, ecrypted_target_train,ecrypted_target_test = train_test_split(\n",
    "                                                ecrypted_features, target,test_size=0.25,random_state=12345)"
   ]
  },
  {
   "attachments": {},
   "cell_type": "markdown",
   "metadata": {},
   "source": [
    "## Проверка алгоритма"
   ]
  },
  {
   "cell_type": "code",
   "execution_count": 11,
   "metadata": {},
   "outputs": [],
   "source": [
    "def linear_model_r2(features_x,target_x):\n",
    "    model = LinearRegression()\n",
    "    model.fit(features_x,target_x)\n",
    "    predictions = model.predict(features_x)\n",
    "    print(f'Метрика R2: {r2_score(target_x,predictions):.4f}')"
   ]
  },
  {
   "cell_type": "code",
   "execution_count": 12,
   "metadata": {},
   "outputs": [
    {
     "name": "stdout",
     "output_type": "stream",
     "text": [
      "Метрика R2: 0.4249\n"
     ]
    }
   ],
   "source": [
    "#Метрика R2 для незашифрованных признаков\n",
    "linear_model_r2(features,target)"
   ]
  },
  {
   "cell_type": "code",
   "execution_count": 13,
   "metadata": {},
   "outputs": [
    {
     "name": "stdout",
     "output_type": "stream",
     "text": [
      "Метрика R2: 0.4249\n"
     ]
    }
   ],
   "source": [
    "#Метрика R2 для зашифрованных признаков\n",
    "linear_model_r2(ecrypted_features,target)"
   ]
  },
  {
   "cell_type": "code",
   "execution_count": 14,
   "metadata": {},
   "outputs": [],
   "source": [
    "def linear_model_r2(features_x,target_x,features_t,target_t):\n",
    "    model = LinearRegression()\n",
    "    model.fit(features_x,target_x)\n",
    "    predictions = model.predict(features_x)\n",
    "    print(f'Метрика R2 на тренировочной выборке: {r2_score(target_x,predictions):.4f}')\n",
    "    predictions_t = model.predict(features_t)\n",
    "    print(f'Метрика R2 на тестовой выборке: {r2_score(target_t,predictions_t):.4f}')"
   ]
  },
  {
   "cell_type": "code",
   "execution_count": 15,
   "metadata": {},
   "outputs": [
    {
     "name": "stdout",
     "output_type": "stream",
     "text": [
      "Метрика R2 на тренировочной выборке: 0.4214\n",
      "Метрика R2 на тестовой выборке: 0.4352\n"
     ]
    }
   ],
   "source": [
    "#Метрика R2 для незашифрованных признаков\n",
    "linear_model_r2(features_train, target_train, features_test, target_test)"
   ]
  },
  {
   "cell_type": "code",
   "execution_count": 16,
   "metadata": {},
   "outputs": [
    {
     "name": "stdout",
     "output_type": "stream",
     "text": [
      "Метрика R2 на тренировочной выборке: 0.4214\n",
      "Метрика R2 на тестовой выборке: 0.4352\n"
     ]
    }
   ],
   "source": [
    "#Метрика R2 для зашифрованных признаков\n",
    "linear_model_r2(ecrypted_features_train, ecrypted_target_train, ecrypted_features_test, ecrypted_target_test)"
   ]
  },
  {
   "attachments": {},
   "cell_type": "markdown",
   "metadata": {},
   "source": [
    "**Вывод:** Метрики для незашифрованных и зашифрованных признаков не отличаются."
   ]
  },
  {
   "attachments": {},
   "cell_type": "markdown",
   "metadata": {},
   "source": [
    "## Общий вывод"
   ]
  },
  {
   "attachments": {},
   "cell_type": "markdown",
   "metadata": {},
   "source": [
    "* Рассмотрены данные страховой компании. Целевым признаком является количество страховых выплат клиенту за последние 5 лет. \n",
    "* Пропуски в данных не обнаружены, проверена корреляция признаков между собой.\n",
    "\n",
    "* Доказано и обосновано, что качество линейной регрессии, при умножении признаков на обратимую матрицу, не изменится.\n",
    "\n",
    "* Составлен алгоритм шифрования данных клиентов страховой компании.\n",
    "\n",
    "* Проведена проверка алгоритма на тестовой и тренировочной выборках.\n",
    "\n",
    "* Полученные метрики R2 для зашифрованных и незашифрованных данных не отличаются.\n"
   ]
  }
 ],
 "metadata": {
  "ExecuteTimeLog": [
   {
    "duration": 394,
    "start_time": "2022-12-29T09:28:36.031Z"
   },
   {
    "duration": 116,
    "start_time": "2022-12-29T09:28:37.554Z"
   },
   {
    "duration": 13,
    "start_time": "2022-12-29T09:28:42.309Z"
   },
   {
    "duration": 15,
    "start_time": "2022-12-29T09:28:45.004Z"
   },
   {
    "duration": 19,
    "start_time": "2022-12-29T09:28:49.100Z"
   },
   {
    "duration": 17,
    "start_time": "2022-12-29T09:28:59.895Z"
   },
   {
    "duration": 89,
    "start_time": "2022-12-29T09:29:37.335Z"
   },
   {
    "duration": 7,
    "start_time": "2022-12-29T09:29:43.844Z"
   },
   {
    "duration": 6,
    "start_time": "2022-12-29T09:29:47.548Z"
   },
   {
    "duration": 1126,
    "start_time": "2023-01-11T07:03:04.146Z"
   },
   {
    "duration": 74,
    "start_time": "2023-01-11T07:03:05.274Z"
   },
   {
    "duration": 11,
    "start_time": "2023-01-11T07:03:05.350Z"
   },
   {
    "duration": 18,
    "start_time": "2023-01-11T07:03:05.363Z"
   },
   {
    "duration": 8,
    "start_time": "2023-01-11T07:03:05.382Z"
   },
   {
    "duration": 1033,
    "start_time": "2023-01-11T08:11:26.488Z"
   },
   {
    "duration": 29,
    "start_time": "2023-01-11T08:11:27.523Z"
   },
   {
    "duration": 11,
    "start_time": "2023-01-11T08:11:27.553Z"
   },
   {
    "duration": 43,
    "start_time": "2023-01-11T08:11:27.566Z"
   },
   {
    "duration": 15,
    "start_time": "2023-01-11T08:11:27.611Z"
   },
   {
    "duration": 4,
    "start_time": "2023-01-11T12:57:32.286Z"
   },
   {
    "duration": 10,
    "start_time": "2023-01-11T13:15:24.800Z"
   },
   {
    "duration": 1087,
    "start_time": "2023-01-11T13:16:09.689Z"
   },
   {
    "duration": 74,
    "start_time": "2023-01-11T13:16:10.777Z"
   },
   {
    "duration": 12,
    "start_time": "2023-01-11T13:16:10.852Z"
   },
   {
    "duration": 19,
    "start_time": "2023-01-11T13:16:10.866Z"
   },
   {
    "duration": 7,
    "start_time": "2023-01-11T13:16:10.888Z"
   },
   {
    "duration": 7,
    "start_time": "2023-01-11T13:16:10.896Z"
   },
   {
    "duration": 7,
    "start_time": "2023-01-11T13:16:10.905Z"
   },
   {
    "duration": 9,
    "start_time": "2023-01-11T13:16:10.913Z"
   },
   {
    "duration": 14,
    "start_time": "2023-01-11T13:16:10.923Z"
   },
   {
    "duration": 10,
    "start_time": "2023-01-11T13:16:10.938Z"
   },
   {
    "duration": 1064,
    "start_time": "2023-01-12T11:15:10.857Z"
   },
   {
    "duration": 136,
    "start_time": "2023-01-12T11:15:11.923Z"
   },
   {
    "duration": 13,
    "start_time": "2023-01-12T11:15:12.061Z"
   },
   {
    "duration": 30,
    "start_time": "2023-01-12T11:15:12.075Z"
   },
   {
    "duration": 5,
    "start_time": "2023-01-12T11:15:12.107Z"
   },
   {
    "duration": 11,
    "start_time": "2023-01-12T11:15:12.113Z"
   },
   {
    "duration": 94,
    "start_time": "2023-01-12T11:15:12.126Z"
   },
   {
    "duration": 0,
    "start_time": "2023-01-12T11:15:12.222Z"
   },
   {
    "duration": 0,
    "start_time": "2023-01-12T11:15:12.223Z"
   },
   {
    "duration": 0,
    "start_time": "2023-01-12T11:15:12.224Z"
   },
   {
    "duration": 969,
    "start_time": "2023-01-12T11:15:20.593Z"
   },
   {
    "duration": 25,
    "start_time": "2023-01-12T11:15:21.564Z"
   },
   {
    "duration": 13,
    "start_time": "2023-01-12T11:15:21.591Z"
   },
   {
    "duration": 20,
    "start_time": "2023-01-12T11:15:21.606Z"
   },
   {
    "duration": 6,
    "start_time": "2023-01-12T11:15:21.629Z"
   },
   {
    "duration": 8,
    "start_time": "2023-01-12T11:15:21.636Z"
   },
   {
    "duration": 8,
    "start_time": "2023-01-12T11:15:21.645Z"
   },
   {
    "duration": 4,
    "start_time": "2023-01-12T11:15:21.654Z"
   },
   {
    "duration": 17,
    "start_time": "2023-01-12T11:15:21.660Z"
   },
   {
    "duration": 5,
    "start_time": "2023-01-12T11:15:21.730Z"
   },
   {
    "duration": 3,
    "start_time": "2023-01-12T11:16:02.037Z"
   },
   {
    "duration": 8,
    "start_time": "2023-01-12T11:16:03.354Z"
   },
   {
    "duration": 3,
    "start_time": "2023-01-12T11:16:11.629Z"
   },
   {
    "duration": 8,
    "start_time": "2023-01-12T11:16:12.793Z"
   },
   {
    "duration": 8,
    "start_time": "2023-01-12T11:24:10.026Z"
   },
   {
    "duration": 979,
    "start_time": "2023-01-12T12:55:12.279Z"
   },
   {
    "duration": 38,
    "start_time": "2023-01-12T12:55:13.259Z"
   },
   {
    "duration": 10,
    "start_time": "2023-01-12T12:55:13.299Z"
   },
   {
    "duration": 18,
    "start_time": "2023-01-12T12:55:13.311Z"
   },
   {
    "duration": 17,
    "start_time": "2023-01-12T12:55:13.331Z"
   },
   {
    "duration": 28,
    "start_time": "2023-01-12T12:55:13.349Z"
   },
   {
    "duration": 32,
    "start_time": "2023-01-12T12:55:13.378Z"
   },
   {
    "duration": 15,
    "start_time": "2023-01-12T12:55:13.411Z"
   },
   {
    "duration": 29,
    "start_time": "2023-01-12T12:55:13.428Z"
   },
   {
    "duration": 80,
    "start_time": "2023-01-12T12:55:13.458Z"
   },
   {
    "duration": 4,
    "start_time": "2023-01-12T12:57:13.536Z"
   },
   {
    "duration": 11,
    "start_time": "2023-01-12T12:57:19.794Z"
   },
   {
    "duration": 9,
    "start_time": "2023-01-12T12:57:27.912Z"
   },
   {
    "duration": 1052,
    "start_time": "2023-01-16T09:39:21.183Z"
   },
   {
    "duration": 82,
    "start_time": "2023-01-16T09:39:22.238Z"
   },
   {
    "duration": 11,
    "start_time": "2023-01-16T09:39:22.321Z"
   },
   {
    "duration": 29,
    "start_time": "2023-01-16T09:39:22.334Z"
   },
   {
    "duration": 19,
    "start_time": "2023-01-16T09:39:22.364Z"
   },
   {
    "duration": 15,
    "start_time": "2023-01-16T09:39:22.385Z"
   },
   {
    "duration": 20,
    "start_time": "2023-01-16T09:39:22.401Z"
   },
   {
    "duration": 30,
    "start_time": "2023-01-16T09:39:22.422Z"
   },
   {
    "duration": 15,
    "start_time": "2023-01-16T09:39:22.454Z"
   },
   {
    "duration": 18,
    "start_time": "2023-01-16T09:39:22.471Z"
   },
   {
    "duration": 223,
    "start_time": "2023-01-16T09:39:22.490Z"
   },
   {
    "duration": 5,
    "start_time": "2023-01-16T09:39:51.879Z"
   },
   {
    "duration": 4,
    "start_time": "2023-01-16T09:40:14.405Z"
   },
   {
    "duration": 5,
    "start_time": "2023-01-16T09:40:49.071Z"
   },
   {
    "duration": 4,
    "start_time": "2023-01-16T09:40:57.864Z"
   },
   {
    "duration": 4,
    "start_time": "2023-01-16T09:42:24.572Z"
   },
   {
    "duration": 5,
    "start_time": "2023-01-16T09:42:49.846Z"
   },
   {
    "duration": 5,
    "start_time": "2023-01-16T09:43:12.753Z"
   },
   {
    "duration": 90,
    "start_time": "2023-01-16T09:43:37.455Z"
   },
   {
    "duration": 10,
    "start_time": "2023-01-16T09:43:53.563Z"
   },
   {
    "duration": 4,
    "start_time": "2023-01-16T09:45:07.433Z"
   },
   {
    "duration": 5,
    "start_time": "2023-01-16T09:46:23.247Z"
   },
   {
    "duration": 1014,
    "start_time": "2023-01-16T11:13:11.544Z"
   },
   {
    "duration": 33,
    "start_time": "2023-01-16T11:13:12.559Z"
   },
   {
    "duration": 10,
    "start_time": "2023-01-16T11:13:12.594Z"
   },
   {
    "duration": 19,
    "start_time": "2023-01-16T11:13:12.606Z"
   },
   {
    "duration": 4,
    "start_time": "2023-01-16T11:13:12.627Z"
   },
   {
    "duration": 5,
    "start_time": "2023-01-16T11:13:12.633Z"
   },
   {
    "duration": 8,
    "start_time": "2023-01-16T11:13:12.639Z"
   },
   {
    "duration": 6,
    "start_time": "2023-01-16T11:13:12.649Z"
   },
   {
    "duration": 8,
    "start_time": "2023-01-16T11:13:12.657Z"
   },
   {
    "duration": 4,
    "start_time": "2023-01-16T11:13:12.677Z"
   },
   {
    "duration": 6,
    "start_time": "2023-01-16T11:13:12.683Z"
   },
   {
    "duration": 6,
    "start_time": "2023-01-16T11:13:12.691Z"
   },
   {
    "duration": 12,
    "start_time": "2023-01-16T11:13:12.698Z"
   },
   {
    "duration": 4,
    "start_time": "2023-01-16T11:13:12.711Z"
   },
   {
    "duration": 69,
    "start_time": "2023-01-16T11:13:12.717Z"
   },
   {
    "duration": 111,
    "start_time": "2023-01-16T11:13:12.788Z"
   },
   {
    "duration": 6,
    "start_time": "2023-01-16T11:20:29.900Z"
   },
   {
    "duration": 1807,
    "start_time": "2023-01-16T14:27:40.380Z"
   },
   {
    "duration": 82,
    "start_time": "2023-01-16T14:27:42.189Z"
   },
   {
    "duration": 10,
    "start_time": "2023-01-16T14:27:42.273Z"
   },
   {
    "duration": 13,
    "start_time": "2023-01-16T14:27:42.285Z"
   },
   {
    "duration": 3,
    "start_time": "2023-01-16T14:27:42.300Z"
   },
   {
    "duration": 12,
    "start_time": "2023-01-16T14:27:42.305Z"
   },
   {
    "duration": 11,
    "start_time": "2023-01-16T14:27:42.319Z"
   },
   {
    "duration": 15,
    "start_time": "2023-01-16T14:27:42.332Z"
   },
   {
    "duration": 69,
    "start_time": "2023-01-16T14:27:42.348Z"
   },
   {
    "duration": 101,
    "start_time": "2023-01-16T14:27:42.420Z"
   },
   {
    "duration": 103,
    "start_time": "2023-01-16T14:27:42.523Z"
   },
   {
    "duration": 44,
    "start_time": "2023-01-16T14:32:59.565Z"
   },
   {
    "duration": 1066,
    "start_time": "2023-01-16T14:33:04.422Z"
   },
   {
    "duration": 90,
    "start_time": "2023-01-16T14:33:05.490Z"
   },
   {
    "duration": 15,
    "start_time": "2023-01-16T14:33:05.583Z"
   },
   {
    "duration": 23,
    "start_time": "2023-01-16T14:33:05.600Z"
   },
   {
    "duration": 13,
    "start_time": "2023-01-16T14:33:05.626Z"
   },
   {
    "duration": 14,
    "start_time": "2023-01-16T14:33:05.641Z"
   },
   {
    "duration": 18,
    "start_time": "2023-01-16T14:33:05.657Z"
   },
   {
    "duration": 7,
    "start_time": "2023-01-16T14:33:05.677Z"
   },
   {
    "duration": 41,
    "start_time": "2023-01-16T14:33:05.686Z"
   },
   {
    "duration": 8,
    "start_time": "2023-01-16T14:33:05.729Z"
   },
   {
    "duration": 89,
    "start_time": "2023-01-16T14:33:05.739Z"
   },
   {
    "duration": 202,
    "start_time": "2023-01-16T14:33:05.830Z"
   },
   {
    "duration": 96,
    "start_time": "2023-01-16T14:33:38.876Z"
   },
   {
    "duration": 388,
    "start_time": "2023-01-16T14:33:42.836Z"
   },
   {
    "duration": 21,
    "start_time": "2023-01-16T14:37:12.517Z"
   },
   {
    "duration": 17,
    "start_time": "2023-01-16T14:37:22.196Z"
   },
   {
    "duration": 17,
    "start_time": "2023-01-16T14:37:29.454Z"
   },
   {
    "duration": 16,
    "start_time": "2023-01-16T14:37:36.872Z"
   },
   {
    "duration": 1201,
    "start_time": "2023-01-16T15:55:33.010Z"
   },
   {
    "duration": 91,
    "start_time": "2023-01-16T15:55:34.213Z"
   },
   {
    "duration": 14,
    "start_time": "2023-01-16T15:55:34.305Z"
   },
   {
    "duration": 19,
    "start_time": "2023-01-16T15:55:34.321Z"
   },
   {
    "duration": 538,
    "start_time": "2023-01-16T15:55:34.342Z"
   },
   {
    "duration": 5,
    "start_time": "2023-01-16T15:55:34.881Z"
   },
   {
    "duration": 7,
    "start_time": "2023-01-16T15:55:34.888Z"
   },
   {
    "duration": 7,
    "start_time": "2023-01-16T15:55:34.897Z"
   },
   {
    "duration": 173,
    "start_time": "2023-01-16T15:55:34.906Z"
   },
   {
    "duration": 7,
    "start_time": "2023-01-16T15:55:35.082Z"
   },
   {
    "duration": 93,
    "start_time": "2023-01-16T15:55:35.091Z"
   },
   {
    "duration": 105,
    "start_time": "2023-01-16T15:55:35.186Z"
   },
   {
    "duration": 1289,
    "start_time": "2023-01-17T07:07:26.694Z"
   },
   {
    "duration": 4,
    "start_time": "2023-01-17T07:07:52.352Z"
   },
   {
    "duration": 9,
    "start_time": "2023-01-17T07:15:14.092Z"
   },
   {
    "duration": 3,
    "start_time": "2023-01-17T07:15:35.054Z"
   },
   {
    "duration": 12,
    "start_time": "2023-01-17T07:15:49.182Z"
   },
   {
    "duration": 1271,
    "start_time": "2023-01-17T07:16:08.836Z"
   },
   {
    "duration": 92,
    "start_time": "2023-01-17T07:16:10.109Z"
   },
   {
    "duration": 17,
    "start_time": "2023-01-17T07:16:10.203Z"
   },
   {
    "duration": 25,
    "start_time": "2023-01-17T07:16:10.223Z"
   },
   {
    "duration": 534,
    "start_time": "2023-01-17T07:16:10.250Z"
   },
   {
    "duration": 4,
    "start_time": "2023-01-17T07:16:10.786Z"
   },
   {
    "duration": 23,
    "start_time": "2023-01-17T07:16:10.792Z"
   },
   {
    "duration": 38,
    "start_time": "2023-01-17T07:16:10.817Z"
   },
   {
    "duration": 200,
    "start_time": "2023-01-17T07:16:10.860Z"
   },
   {
    "duration": 132,
    "start_time": "2023-01-17T07:16:11.063Z"
   },
   {
    "duration": 0,
    "start_time": "2023-01-17T07:16:11.196Z"
   },
   {
    "duration": 0,
    "start_time": "2023-01-17T07:16:11.198Z"
   },
   {
    "duration": 0,
    "start_time": "2023-01-17T07:16:11.199Z"
   },
   {
    "duration": 7,
    "start_time": "2023-01-17T07:17:35.401Z"
   },
   {
    "duration": 1197,
    "start_time": "2023-01-17T07:17:40.883Z"
   },
   {
    "duration": 26,
    "start_time": "2023-01-17T07:17:42.082Z"
   },
   {
    "duration": 13,
    "start_time": "2023-01-17T07:17:42.109Z"
   },
   {
    "duration": 17,
    "start_time": "2023-01-17T07:17:42.124Z"
   },
   {
    "duration": 348,
    "start_time": "2023-01-17T07:17:42.143Z"
   },
   {
    "duration": 4,
    "start_time": "2023-01-17T07:17:42.493Z"
   },
   {
    "duration": 8,
    "start_time": "2023-01-17T07:17:42.499Z"
   },
   {
    "duration": 12,
    "start_time": "2023-01-17T07:17:42.509Z"
   },
   {
    "duration": 16,
    "start_time": "2023-01-17T07:17:42.550Z"
   },
   {
    "duration": 88,
    "start_time": "2023-01-17T07:17:42.570Z"
   },
   {
    "duration": 10,
    "start_time": "2023-01-17T07:17:42.659Z"
   },
   {
    "duration": 17,
    "start_time": "2023-01-17T07:17:42.671Z"
   },
   {
    "duration": 105,
    "start_time": "2023-01-17T07:17:42.753Z"
   },
   {
    "duration": 112,
    "start_time": "2023-01-17T08:08:01.935Z"
   },
   {
    "duration": 4,
    "start_time": "2023-01-17T08:08:03.934Z"
   },
   {
    "duration": 29,
    "start_time": "2023-01-17T08:08:05.693Z"
   },
   {
    "duration": 20,
    "start_time": "2023-01-17T08:08:13.069Z"
   },
   {
    "duration": 3,
    "start_time": "2023-01-17T08:08:58.761Z"
   },
   {
    "duration": 23,
    "start_time": "2023-01-17T08:09:00.524Z"
   },
   {
    "duration": 8,
    "start_time": "2023-01-17T08:39:00.853Z"
   },
   {
    "duration": 1155,
    "start_time": "2023-01-17T08:39:05.818Z"
   },
   {
    "duration": 26,
    "start_time": "2023-01-17T08:39:06.975Z"
   },
   {
    "duration": 14,
    "start_time": "2023-01-17T08:39:07.002Z"
   },
   {
    "duration": 32,
    "start_time": "2023-01-17T08:39:07.018Z"
   },
   {
    "duration": 327,
    "start_time": "2023-01-17T08:39:07.053Z"
   },
   {
    "duration": 4,
    "start_time": "2023-01-17T08:39:07.382Z"
   },
   {
    "duration": 31,
    "start_time": "2023-01-17T08:39:07.388Z"
   },
   {
    "duration": 36,
    "start_time": "2023-01-17T08:39:07.421Z"
   },
   {
    "duration": 107,
    "start_time": "2023-01-17T08:39:07.459Z"
   },
   {
    "duration": 83,
    "start_time": "2023-01-17T08:39:07.568Z"
   },
   {
    "duration": 19,
    "start_time": "2023-01-17T08:39:07.654Z"
   },
   {
    "duration": 75,
    "start_time": "2023-01-17T08:39:07.675Z"
   },
   {
    "duration": 105,
    "start_time": "2023-01-17T08:39:07.754Z"
   },
   {
    "duration": 209,
    "start_time": "2023-01-17T08:39:07.865Z"
   },
   {
    "duration": 285,
    "start_time": "2023-01-17T08:39:08.076Z"
   },
   {
    "duration": 0,
    "start_time": "2023-01-17T08:39:08.363Z"
   },
   {
    "duration": 5,
    "start_time": "2023-01-17T08:39:39.517Z"
   },
   {
    "duration": 15,
    "start_time": "2023-01-17T08:39:40.985Z"
   },
   {
    "duration": 12,
    "start_time": "2023-01-17T08:39:43.194Z"
   },
   {
    "duration": 1165,
    "start_time": "2023-01-17T08:40:21.507Z"
   },
   {
    "duration": 26,
    "start_time": "2023-01-17T08:40:22.674Z"
   },
   {
    "duration": 17,
    "start_time": "2023-01-17T08:40:22.702Z"
   },
   {
    "duration": 28,
    "start_time": "2023-01-17T08:40:22.721Z"
   },
   {
    "duration": 348,
    "start_time": "2023-01-17T08:40:22.752Z"
   },
   {
    "duration": 4,
    "start_time": "2023-01-17T08:40:23.102Z"
   },
   {
    "duration": 20,
    "start_time": "2023-01-17T08:40:23.108Z"
   },
   {
    "duration": 28,
    "start_time": "2023-01-17T08:40:23.131Z"
   },
   {
    "duration": 105,
    "start_time": "2023-01-17T08:40:23.161Z"
   },
   {
    "duration": 14,
    "start_time": "2023-01-17T08:40:23.268Z"
   },
   {
    "duration": 15,
    "start_time": "2023-01-17T08:40:23.285Z"
   },
   {
    "duration": 149,
    "start_time": "2023-01-17T08:40:23.302Z"
   },
   {
    "duration": 115,
    "start_time": "2023-01-17T08:40:23.453Z"
   },
   {
    "duration": 93,
    "start_time": "2023-01-17T08:40:23.571Z"
   },
   {
    "duration": 102,
    "start_time": "2023-01-17T08:40:23.667Z"
   },
   {
    "duration": 190,
    "start_time": "2023-01-17T08:40:23.772Z"
   },
   {
    "duration": 1199,
    "start_time": "2023-01-17T08:41:22.753Z"
   },
   {
    "duration": 27,
    "start_time": "2023-01-17T08:41:23.954Z"
   },
   {
    "duration": 16,
    "start_time": "2023-01-17T08:41:23.984Z"
   },
   {
    "duration": 79,
    "start_time": "2023-01-17T08:41:24.002Z"
   },
   {
    "duration": 333,
    "start_time": "2023-01-17T08:41:24.084Z"
   },
   {
    "duration": 4,
    "start_time": "2023-01-17T08:41:24.419Z"
   },
   {
    "duration": 21,
    "start_time": "2023-01-17T08:41:24.424Z"
   },
   {
    "duration": 16,
    "start_time": "2023-01-17T08:41:24.449Z"
   },
   {
    "duration": 98,
    "start_time": "2023-01-17T08:41:24.467Z"
   },
   {
    "duration": 104,
    "start_time": "2023-01-17T08:41:24.568Z"
   },
   {
    "duration": 26,
    "start_time": "2023-01-17T08:41:24.674Z"
   },
   {
    "duration": 26,
    "start_time": "2023-01-17T08:41:24.702Z"
   },
   {
    "duration": 141,
    "start_time": "2023-01-17T08:41:24.731Z"
   },
   {
    "duration": 175,
    "start_time": "2023-01-17T08:41:24.876Z"
   },
   {
    "duration": 24,
    "start_time": "2023-01-17T08:41:25.053Z"
   },
   {
    "duration": 194,
    "start_time": "2023-01-17T08:41:25.080Z"
   },
   {
    "duration": 1060,
    "start_time": "2023-01-17T09:27:46.290Z"
   },
   {
    "duration": 25,
    "start_time": "2023-01-17T09:27:47.352Z"
   },
   {
    "duration": 11,
    "start_time": "2023-01-17T09:27:47.379Z"
   },
   {
    "duration": 16,
    "start_time": "2023-01-17T09:27:47.392Z"
   },
   {
    "duration": 333,
    "start_time": "2023-01-17T09:27:47.410Z"
   },
   {
    "duration": 4,
    "start_time": "2023-01-17T09:27:47.751Z"
   },
   {
    "duration": 17,
    "start_time": "2023-01-17T09:27:47.756Z"
   },
   {
    "duration": 32,
    "start_time": "2023-01-17T09:27:47.775Z"
   },
   {
    "duration": 51,
    "start_time": "2023-01-17T09:27:47.810Z"
   },
   {
    "duration": 89,
    "start_time": "2023-01-17T09:27:47.864Z"
   },
   {
    "duration": 3,
    "start_time": "2023-01-17T09:27:47.955Z"
   },
   {
    "duration": 91,
    "start_time": "2023-01-17T09:27:47.959Z"
   },
   {
    "duration": 114,
    "start_time": "2023-01-17T09:27:48.053Z"
   },
   {
    "duration": 185,
    "start_time": "2023-01-17T09:27:48.171Z"
   },
   {
    "duration": 21,
    "start_time": "2023-01-17T09:27:48.358Z"
   },
   {
    "duration": 119,
    "start_time": "2023-01-17T09:27:48.453Z"
   }
  ],
  "kernelspec": {
   "display_name": "Python 3 (ipykernel)",
   "language": "python",
   "name": "python3"
  },
  "language_info": {
   "codemirror_mode": {
    "name": "ipython",
    "version": 3
   },
   "file_extension": ".py",
   "mimetype": "text/x-python",
   "name": "python",
   "nbconvert_exporter": "python",
   "pygments_lexer": "ipython3",
   "version": "3.9.5"
  },
  "toc": {
   "base_numbering": 1,
   "nav_menu": {},
   "number_sections": true,
   "sideBar": true,
   "skip_h1_title": true,
   "title_cell": "Содержание",
   "title_sidebar": "Contents",
   "toc_cell": true,
   "toc_position": {},
   "toc_section_display": true,
   "toc_window_display": false
  }
 },
 "nbformat": 4,
 "nbformat_minor": 2
}
