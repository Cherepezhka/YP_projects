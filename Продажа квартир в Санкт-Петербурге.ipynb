{
 "cells": [
  {
   "attachments": {},
   "cell_type": "markdown",
   "metadata": {},
   "source": [
    "# Исследование объявлений о продаже квартир\n",
    "\n",
    "В вашем распоряжении данные сервиса Яндекс.Недвижимость — архив объявлений о продаже квартир в Санкт-Петербурге и соседних населённых пунктов за несколько лет. Нужно научиться определять рыночную стоимость объектов недвижимости. Ваша задача — установить параметры. Это позволит построить автоматизированную систему: она отследит аномалии и мошенническую деятельность. \n",
    "\n",
    "По каждой квартире на продажу доступны два вида данных. Первые вписаны пользователем, вторые — получены автоматически на основе картографических данных. Например, расстояние до центра, аэропорта, ближайшего парка и водоёма. "
   ]
  },
  {
   "attachments": {},
   "cell_type": "markdown",
   "metadata": {},
   "source": [
    "<div class=\"alert alert-info\"> \n",
    "<b>Целью работы является: </b> \n",
    "        - рассмотреть основные параметры датасета, провести предобработку\n",
    "        - изучить насколько быстро продавались квартиры в расмматриваемый период\n",
    "        - определить какие факторы оказывают влияние на стоимость объекта\n",
    "        - определить среднюю стоимость одного квадратного метра в 10 пунктах с наибольшим числом объвлений\n",
    "        - определить влияние расстояния от центра города на итоговую стоимость объекта \n",
    "\n",
    "<b>Для достижения цели были поставлены следующие задачи: </b> \n",
    "        - рассмотреть основные параметры датасета\n",
    "        - заполнение пропусков и изменение типов данных\n",
    "        - поиск и устранение дубликатов, аномальных значений\n",
    "        - построить графики для визуализации данных\n",
    "        - определить среднюю стоимость одного квадратного метра в 10 пунктах с наибольшим числом объвлений\n",
    "        - определить влияние расстояния от центра города на итоговую стоимость объекта </div>"
   ]
  },
  {
   "attachments": {},
   "cell_type": "markdown",
   "metadata": {},
   "source": [
    "### Откройте файл с данными и изучите общую информацию. "
   ]
  },
  {
   "cell_type": "code",
   "execution_count": 1,
   "metadata": {},
   "outputs": [],
   "source": [
    "import pandas as pd\n",
    "import matplotlib.pyplot as plt"
   ]
  },
  {
   "cell_type": "code",
   "execution_count": 2,
   "metadata": {},
   "outputs": [],
   "source": [
    "data = pd.read_csv('/datasets/real_estate_data.csv',sep='\\t')"
   ]
  },
  {
   "cell_type": "code",
   "execution_count": 3,
   "metadata": {},
   "outputs": [
    {
     "name": "stdout",
     "output_type": "stream",
     "text": [
      "<class 'pandas.core.frame.DataFrame'>\n",
      "RangeIndex: 23699 entries, 0 to 23698\n",
      "Data columns (total 22 columns):\n",
      " #   Column                Non-Null Count  Dtype  \n",
      "---  ------                --------------  -----  \n",
      " 0   total_images          23699 non-null  int64  \n",
      " 1   last_price            23699 non-null  float64\n",
      " 2   total_area            23699 non-null  float64\n",
      " 3   first_day_exposition  23699 non-null  object \n",
      " 4   rooms                 23699 non-null  int64  \n",
      " 5   ceiling_height        14504 non-null  float64\n",
      " 6   floors_total          23613 non-null  float64\n",
      " 7   living_area           21796 non-null  float64\n",
      " 8   floor                 23699 non-null  int64  \n",
      " 9   is_apartment          2775 non-null   object \n",
      " 10  studio                23699 non-null  bool   \n",
      " 11  open_plan             23699 non-null  bool   \n",
      " 12  kitchen_area          21421 non-null  float64\n",
      " 13  balcony               12180 non-null  float64\n",
      " 14  locality_name         23650 non-null  object \n",
      " 15  airports_nearest      18157 non-null  float64\n",
      " 16  cityCenters_nearest   18180 non-null  float64\n",
      " 17  parks_around3000      18181 non-null  float64\n",
      " 18  parks_nearest         8079 non-null   float64\n",
      " 19  ponds_around3000      18181 non-null  float64\n",
      " 20  ponds_nearest         9110 non-null   float64\n",
      " 21  days_exposition       20518 non-null  float64\n",
      "dtypes: bool(2), float64(14), int64(3), object(3)\n",
      "memory usage: 3.7+ MB\n"
     ]
    }
   ],
   "source": [
    "data.info()"
   ]
  },
  {
   "cell_type": "code",
   "execution_count": 4,
   "metadata": {
    "scrolled": false
   },
   "outputs": [
    {
     "data": {
      "text/html": [
       "<div>\n",
       "<style scoped>\n",
       "    .dataframe tbody tr th:only-of-type {\n",
       "        vertical-align: middle;\n",
       "    }\n",
       "\n",
       "    .dataframe tbody tr th {\n",
       "        vertical-align: top;\n",
       "    }\n",
       "\n",
       "    .dataframe thead th {\n",
       "        text-align: right;\n",
       "    }\n",
       "</style>\n",
       "<table border=\"1\" class=\"dataframe\">\n",
       "  <thead>\n",
       "    <tr style=\"text-align: right;\">\n",
       "      <th></th>\n",
       "      <th>total_images</th>\n",
       "      <th>last_price</th>\n",
       "      <th>total_area</th>\n",
       "      <th>first_day_exposition</th>\n",
       "      <th>rooms</th>\n",
       "      <th>ceiling_height</th>\n",
       "      <th>floors_total</th>\n",
       "      <th>living_area</th>\n",
       "      <th>floor</th>\n",
       "      <th>is_apartment</th>\n",
       "      <th>...</th>\n",
       "      <th>kitchen_area</th>\n",
       "      <th>balcony</th>\n",
       "      <th>locality_name</th>\n",
       "      <th>airports_nearest</th>\n",
       "      <th>cityCenters_nearest</th>\n",
       "      <th>parks_around3000</th>\n",
       "      <th>parks_nearest</th>\n",
       "      <th>ponds_around3000</th>\n",
       "      <th>ponds_nearest</th>\n",
       "      <th>days_exposition</th>\n",
       "    </tr>\n",
       "  </thead>\n",
       "  <tbody>\n",
       "    <tr>\n",
       "      <th>0</th>\n",
       "      <td>20</td>\n",
       "      <td>13000000.0</td>\n",
       "      <td>108.00</td>\n",
       "      <td>2019-03-07T00:00:00</td>\n",
       "      <td>3</td>\n",
       "      <td>2.70</td>\n",
       "      <td>16.0</td>\n",
       "      <td>51.0</td>\n",
       "      <td>8</td>\n",
       "      <td>NaN</td>\n",
       "      <td>...</td>\n",
       "      <td>25.00</td>\n",
       "      <td>NaN</td>\n",
       "      <td>Санкт-Петербург</td>\n",
       "      <td>18863.0</td>\n",
       "      <td>16028.0</td>\n",
       "      <td>1.0</td>\n",
       "      <td>482.0</td>\n",
       "      <td>2.0</td>\n",
       "      <td>755.0</td>\n",
       "      <td>NaN</td>\n",
       "    </tr>\n",
       "    <tr>\n",
       "      <th>1</th>\n",
       "      <td>7</td>\n",
       "      <td>3350000.0</td>\n",
       "      <td>40.40</td>\n",
       "      <td>2018-12-04T00:00:00</td>\n",
       "      <td>1</td>\n",
       "      <td>NaN</td>\n",
       "      <td>11.0</td>\n",
       "      <td>18.6</td>\n",
       "      <td>1</td>\n",
       "      <td>NaN</td>\n",
       "      <td>...</td>\n",
       "      <td>11.00</td>\n",
       "      <td>2.0</td>\n",
       "      <td>посёлок Шушары</td>\n",
       "      <td>12817.0</td>\n",
       "      <td>18603.0</td>\n",
       "      <td>0.0</td>\n",
       "      <td>NaN</td>\n",
       "      <td>0.0</td>\n",
       "      <td>NaN</td>\n",
       "      <td>81.0</td>\n",
       "    </tr>\n",
       "    <tr>\n",
       "      <th>2</th>\n",
       "      <td>10</td>\n",
       "      <td>5196000.0</td>\n",
       "      <td>56.00</td>\n",
       "      <td>2015-08-20T00:00:00</td>\n",
       "      <td>2</td>\n",
       "      <td>NaN</td>\n",
       "      <td>5.0</td>\n",
       "      <td>34.3</td>\n",
       "      <td>4</td>\n",
       "      <td>NaN</td>\n",
       "      <td>...</td>\n",
       "      <td>8.30</td>\n",
       "      <td>0.0</td>\n",
       "      <td>Санкт-Петербург</td>\n",
       "      <td>21741.0</td>\n",
       "      <td>13933.0</td>\n",
       "      <td>1.0</td>\n",
       "      <td>90.0</td>\n",
       "      <td>2.0</td>\n",
       "      <td>574.0</td>\n",
       "      <td>558.0</td>\n",
       "    </tr>\n",
       "    <tr>\n",
       "      <th>3</th>\n",
       "      <td>0</td>\n",
       "      <td>64900000.0</td>\n",
       "      <td>159.00</td>\n",
       "      <td>2015-07-24T00:00:00</td>\n",
       "      <td>3</td>\n",
       "      <td>NaN</td>\n",
       "      <td>14.0</td>\n",
       "      <td>NaN</td>\n",
       "      <td>9</td>\n",
       "      <td>NaN</td>\n",
       "      <td>...</td>\n",
       "      <td>NaN</td>\n",
       "      <td>0.0</td>\n",
       "      <td>Санкт-Петербург</td>\n",
       "      <td>28098.0</td>\n",
       "      <td>6800.0</td>\n",
       "      <td>2.0</td>\n",
       "      <td>84.0</td>\n",
       "      <td>3.0</td>\n",
       "      <td>234.0</td>\n",
       "      <td>424.0</td>\n",
       "    </tr>\n",
       "    <tr>\n",
       "      <th>4</th>\n",
       "      <td>2</td>\n",
       "      <td>10000000.0</td>\n",
       "      <td>100.00</td>\n",
       "      <td>2018-06-19T00:00:00</td>\n",
       "      <td>2</td>\n",
       "      <td>3.03</td>\n",
       "      <td>14.0</td>\n",
       "      <td>32.0</td>\n",
       "      <td>13</td>\n",
       "      <td>NaN</td>\n",
       "      <td>...</td>\n",
       "      <td>41.00</td>\n",
       "      <td>NaN</td>\n",
       "      <td>Санкт-Петербург</td>\n",
       "      <td>31856.0</td>\n",
       "      <td>8098.0</td>\n",
       "      <td>2.0</td>\n",
       "      <td>112.0</td>\n",
       "      <td>1.0</td>\n",
       "      <td>48.0</td>\n",
       "      <td>121.0</td>\n",
       "    </tr>\n",
       "    <tr>\n",
       "      <th>...</th>\n",
       "      <td>...</td>\n",
       "      <td>...</td>\n",
       "      <td>...</td>\n",
       "      <td>...</td>\n",
       "      <td>...</td>\n",
       "      <td>...</td>\n",
       "      <td>...</td>\n",
       "      <td>...</td>\n",
       "      <td>...</td>\n",
       "      <td>...</td>\n",
       "      <td>...</td>\n",
       "      <td>...</td>\n",
       "      <td>...</td>\n",
       "      <td>...</td>\n",
       "      <td>...</td>\n",
       "      <td>...</td>\n",
       "      <td>...</td>\n",
       "      <td>...</td>\n",
       "      <td>...</td>\n",
       "      <td>...</td>\n",
       "      <td>...</td>\n",
       "    </tr>\n",
       "    <tr>\n",
       "      <th>23694</th>\n",
       "      <td>9</td>\n",
       "      <td>9700000.0</td>\n",
       "      <td>133.81</td>\n",
       "      <td>2017-03-21T00:00:00</td>\n",
       "      <td>3</td>\n",
       "      <td>3.70</td>\n",
       "      <td>5.0</td>\n",
       "      <td>73.3</td>\n",
       "      <td>3</td>\n",
       "      <td>NaN</td>\n",
       "      <td>...</td>\n",
       "      <td>13.83</td>\n",
       "      <td>NaN</td>\n",
       "      <td>Санкт-Петербург</td>\n",
       "      <td>24665.0</td>\n",
       "      <td>4232.0</td>\n",
       "      <td>1.0</td>\n",
       "      <td>796.0</td>\n",
       "      <td>3.0</td>\n",
       "      <td>381.0</td>\n",
       "      <td>NaN</td>\n",
       "    </tr>\n",
       "    <tr>\n",
       "      <th>23695</th>\n",
       "      <td>14</td>\n",
       "      <td>3100000.0</td>\n",
       "      <td>59.00</td>\n",
       "      <td>2018-01-15T00:00:00</td>\n",
       "      <td>3</td>\n",
       "      <td>NaN</td>\n",
       "      <td>5.0</td>\n",
       "      <td>38.0</td>\n",
       "      <td>4</td>\n",
       "      <td>NaN</td>\n",
       "      <td>...</td>\n",
       "      <td>8.50</td>\n",
       "      <td>NaN</td>\n",
       "      <td>Тосно</td>\n",
       "      <td>NaN</td>\n",
       "      <td>NaN</td>\n",
       "      <td>NaN</td>\n",
       "      <td>NaN</td>\n",
       "      <td>NaN</td>\n",
       "      <td>NaN</td>\n",
       "      <td>45.0</td>\n",
       "    </tr>\n",
       "    <tr>\n",
       "      <th>23696</th>\n",
       "      <td>18</td>\n",
       "      <td>2500000.0</td>\n",
       "      <td>56.70</td>\n",
       "      <td>2018-02-11T00:00:00</td>\n",
       "      <td>2</td>\n",
       "      <td>NaN</td>\n",
       "      <td>3.0</td>\n",
       "      <td>29.7</td>\n",
       "      <td>1</td>\n",
       "      <td>NaN</td>\n",
       "      <td>...</td>\n",
       "      <td>NaN</td>\n",
       "      <td>NaN</td>\n",
       "      <td>село Рождествено</td>\n",
       "      <td>NaN</td>\n",
       "      <td>NaN</td>\n",
       "      <td>NaN</td>\n",
       "      <td>NaN</td>\n",
       "      <td>NaN</td>\n",
       "      <td>NaN</td>\n",
       "      <td>NaN</td>\n",
       "    </tr>\n",
       "    <tr>\n",
       "      <th>23697</th>\n",
       "      <td>13</td>\n",
       "      <td>11475000.0</td>\n",
       "      <td>76.75</td>\n",
       "      <td>2017-03-28T00:00:00</td>\n",
       "      <td>2</td>\n",
       "      <td>3.00</td>\n",
       "      <td>17.0</td>\n",
       "      <td>NaN</td>\n",
       "      <td>12</td>\n",
       "      <td>NaN</td>\n",
       "      <td>...</td>\n",
       "      <td>23.30</td>\n",
       "      <td>2.0</td>\n",
       "      <td>Санкт-Петербург</td>\n",
       "      <td>39140.0</td>\n",
       "      <td>10364.0</td>\n",
       "      <td>2.0</td>\n",
       "      <td>173.0</td>\n",
       "      <td>3.0</td>\n",
       "      <td>196.0</td>\n",
       "      <td>602.0</td>\n",
       "    </tr>\n",
       "    <tr>\n",
       "      <th>23698</th>\n",
       "      <td>4</td>\n",
       "      <td>1350000.0</td>\n",
       "      <td>32.30</td>\n",
       "      <td>2017-07-21T00:00:00</td>\n",
       "      <td>1</td>\n",
       "      <td>2.50</td>\n",
       "      <td>5.0</td>\n",
       "      <td>12.3</td>\n",
       "      <td>1</td>\n",
       "      <td>NaN</td>\n",
       "      <td>...</td>\n",
       "      <td>9.00</td>\n",
       "      <td>NaN</td>\n",
       "      <td>поселок Новый Учхоз</td>\n",
       "      <td>NaN</td>\n",
       "      <td>NaN</td>\n",
       "      <td>NaN</td>\n",
       "      <td>NaN</td>\n",
       "      <td>NaN</td>\n",
       "      <td>NaN</td>\n",
       "      <td>NaN</td>\n",
       "    </tr>\n",
       "  </tbody>\n",
       "</table>\n",
       "<p>23699 rows × 22 columns</p>\n",
       "</div>"
      ],
      "text/plain": [
       "       total_images  last_price  total_area first_day_exposition  rooms  \\\n",
       "0                20  13000000.0      108.00  2019-03-07T00:00:00      3   \n",
       "1                 7   3350000.0       40.40  2018-12-04T00:00:00      1   \n",
       "2                10   5196000.0       56.00  2015-08-20T00:00:00      2   \n",
       "3                 0  64900000.0      159.00  2015-07-24T00:00:00      3   \n",
       "4                 2  10000000.0      100.00  2018-06-19T00:00:00      2   \n",
       "...             ...         ...         ...                  ...    ...   \n",
       "23694             9   9700000.0      133.81  2017-03-21T00:00:00      3   \n",
       "23695            14   3100000.0       59.00  2018-01-15T00:00:00      3   \n",
       "23696            18   2500000.0       56.70  2018-02-11T00:00:00      2   \n",
       "23697            13  11475000.0       76.75  2017-03-28T00:00:00      2   \n",
       "23698             4   1350000.0       32.30  2017-07-21T00:00:00      1   \n",
       "\n",
       "       ceiling_height  floors_total  living_area  floor is_apartment  ...  \\\n",
       "0                2.70          16.0         51.0      8          NaN  ...   \n",
       "1                 NaN          11.0         18.6      1          NaN  ...   \n",
       "2                 NaN           5.0         34.3      4          NaN  ...   \n",
       "3                 NaN          14.0          NaN      9          NaN  ...   \n",
       "4                3.03          14.0         32.0     13          NaN  ...   \n",
       "...               ...           ...          ...    ...          ...  ...   \n",
       "23694            3.70           5.0         73.3      3          NaN  ...   \n",
       "23695             NaN           5.0         38.0      4          NaN  ...   \n",
       "23696             NaN           3.0         29.7      1          NaN  ...   \n",
       "23697            3.00          17.0          NaN     12          NaN  ...   \n",
       "23698            2.50           5.0         12.3      1          NaN  ...   \n",
       "\n",
       "       kitchen_area  balcony        locality_name  airports_nearest  \\\n",
       "0             25.00      NaN      Санкт-Петербург           18863.0   \n",
       "1             11.00      2.0       посёлок Шушары           12817.0   \n",
       "2              8.30      0.0      Санкт-Петербург           21741.0   \n",
       "3               NaN      0.0      Санкт-Петербург           28098.0   \n",
       "4             41.00      NaN      Санкт-Петербург           31856.0   \n",
       "...             ...      ...                  ...               ...   \n",
       "23694         13.83      NaN      Санкт-Петербург           24665.0   \n",
       "23695          8.50      NaN                Тосно               NaN   \n",
       "23696           NaN      NaN     село Рождествено               NaN   \n",
       "23697         23.30      2.0      Санкт-Петербург           39140.0   \n",
       "23698          9.00      NaN  поселок Новый Учхоз               NaN   \n",
       "\n",
       "      cityCenters_nearest  parks_around3000  parks_nearest  ponds_around3000  \\\n",
       "0                 16028.0               1.0          482.0               2.0   \n",
       "1                 18603.0               0.0            NaN               0.0   \n",
       "2                 13933.0               1.0           90.0               2.0   \n",
       "3                  6800.0               2.0           84.0               3.0   \n",
       "4                  8098.0               2.0          112.0               1.0   \n",
       "...                   ...               ...            ...               ...   \n",
       "23694              4232.0               1.0          796.0               3.0   \n",
       "23695                 NaN               NaN            NaN               NaN   \n",
       "23696                 NaN               NaN            NaN               NaN   \n",
       "23697             10364.0               2.0          173.0               3.0   \n",
       "23698                 NaN               NaN            NaN               NaN   \n",
       "\n",
       "       ponds_nearest  days_exposition  \n",
       "0              755.0              NaN  \n",
       "1                NaN             81.0  \n",
       "2              574.0            558.0  \n",
       "3              234.0            424.0  \n",
       "4               48.0            121.0  \n",
       "...              ...              ...  \n",
       "23694          381.0              NaN  \n",
       "23695            NaN             45.0  \n",
       "23696            NaN              NaN  \n",
       "23697          196.0            602.0  \n",
       "23698            NaN              NaN  \n",
       "\n",
       "[23699 rows x 22 columns]"
      ]
     },
     "metadata": {},
     "output_type": "display_data"
    }
   ],
   "source": [
    "display(data)"
   ]
  },
  {
   "cell_type": "code",
   "execution_count": 5,
   "metadata": {
    "scrolled": false
   },
   "outputs": [
    {
     "data": {
      "image/png": "[encoded data removed]",
      "text/plain": [
       "<Figure size 1080x1440 with 20 Axes>"
      ]
     },
     "metadata": {
      "needs_background": "light"
     },
     "output_type": "display_data"
    }
   ],
   "source": [
    "data.hist(figsize=(15,20))\n",
    "plt.show()"
   ]
  },
  {
   "attachments": {},
   "cell_type": "markdown",
   "metadata": {},
   "source": [
    "### Предобработка данных"
   ]
  },
  {
   "attachments": {},
   "cell_type": "markdown",
   "metadata": {},
   "source": [
    "Пропуски обнаружены в столбцах ceiling_height, floors_total, living_area, is_apartment, kitchen_area, balcony, locality_name, airports_nearest, cityCenters_nearest, parks_around3000, parks_nearest, ponds_nearest, ponds_around3000, days_exposition."
   ]
  },
  {
   "cell_type": "code",
   "execution_count": 6,
   "metadata": {},
   "outputs": [
    {
     "data": {
      "text/plain": [
       "is_apartment            20924\n",
       "parks_nearest           15620\n",
       "ponds_nearest           14589\n",
       "balcony                 11519\n",
       "ceiling_height           9195\n",
       "airports_nearest         5542\n",
       "cityCenters_nearest      5519\n",
       "ponds_around3000         5518\n",
       "parks_around3000         5518\n",
       "days_exposition          3181\n",
       "kitchen_area             2278\n",
       "living_area              1903\n",
       "floors_total               86\n",
       "locality_name              49\n",
       "total_images                0\n",
       "last_price                  0\n",
       "studio                      0\n",
       "floor                       0\n",
       "rooms                       0\n",
       "first_day_exposition        0\n",
       "total_area                  0\n",
       "open_plan                   0\n",
       "dtype: int64"
      ]
     },
     "execution_count": 6,
     "metadata": {},
     "output_type": "execute_result"
    }
   ],
   "source": [
    "data.isna().sum().sort_values(ascending=False)"
   ]
  },
  {
   "cell_type": "code",
   "execution_count": 7,
   "metadata": {},
   "outputs": [
    {
     "data": {
      "text/html": [
       "<style  type=\"text/css\" >\n",
       "#T_73c3f_row0_col0,#T_73c3f_row1_col0,#T_73c3f_row2_col0,#T_73c3f_row3_col0,#T_73c3f_row4_col0,#T_73c3f_row6_col0,#T_73c3f_row8_col0,#T_73c3f_row10_col0,#T_73c3f_row11_col0,#T_73c3f_row14_col0{\n",
       "            background-color:  #3b4cc0;\n",
       "            color:  #f1f1f1;\n",
       "        }#T_73c3f_row5_col0{\n",
       "            background-color:  #cdd9ec;\n",
       "            color:  #000000;\n",
       "        }#T_73c3f_row7_col0{\n",
       "            background-color:  #5673e0;\n",
       "            color:  #000000;\n",
       "        }#T_73c3f_row9_col0{\n",
       "            background-color:  #b40426;\n",
       "            color:  #f1f1f1;\n",
       "        }#T_73c3f_row12_col0{\n",
       "            background-color:  #5e7de7;\n",
       "            color:  #000000;\n",
       "        }#T_73c3f_row13_col0{\n",
       "            background-color:  #ead4c8;\n",
       "            color:  #000000;\n",
       "        }#T_73c3f_row15_col0,#T_73c3f_row16_col0,#T_73c3f_row17_col0,#T_73c3f_row19_col0{\n",
       "            background-color:  #90b2fe;\n",
       "            color:  #000000;\n",
       "        }#T_73c3f_row18_col0{\n",
       "            background-color:  #f4987a;\n",
       "            color:  #000000;\n",
       "        }#T_73c3f_row20_col0{\n",
       "            background-color:  #f7aa8c;\n",
       "            color:  #000000;\n",
       "        }#T_73c3f_row21_col0{\n",
       "            background-color:  #688aef;\n",
       "            color:  #000000;\n",
       "        }</style><table id=\"T_73c3f_\" ><thead>    <tr>        <th class=\"blank level0\" ></th>        <th class=\"col_heading level0 col0\" >0</th>    </tr></thead><tbody>\n",
       "                <tr>\n",
       "                        <th id=\"T_73c3f_level0_row0\" class=\"row_heading level0 row0\" >total_images</th>\n",
       "                        <td id=\"T_73c3f_row0_col0\" class=\"data row0 col0\" >0.000000</td>\n",
       "            </tr>\n",
       "            <tr>\n",
       "                        <th id=\"T_73c3f_level0_row1\" class=\"row_heading level0 row1\" >last_price</th>\n",
       "                        <td id=\"T_73c3f_row1_col0\" class=\"data row1 col0\" >0.000000</td>\n",
       "            </tr>\n",
       "            <tr>\n",
       "                        <th id=\"T_73c3f_level0_row2\" class=\"row_heading level0 row2\" >total_area</th>\n",
       "                        <td id=\"T_73c3f_row2_col0\" class=\"data row2 col0\" >0.000000</td>\n",
       "            </tr>\n",
       "            <tr>\n",
       "                        <th id=\"T_73c3f_level0_row3\" class=\"row_heading level0 row3\" >first_day_exposition</th>\n",
       "                        <td id=\"T_73c3f_row3_col0\" class=\"data row3 col0\" >0.000000</td>\n",
       "            </tr>\n",
       "            <tr>\n",
       "                        <th id=\"T_73c3f_level0_row4\" class=\"row_heading level0 row4\" >rooms</th>\n",
       "                        <td id=\"T_73c3f_row4_col0\" class=\"data row4 col0\" >0.000000</td>\n",
       "            </tr>\n",
       "            <tr>\n",
       "                        <th id=\"T_73c3f_level0_row5\" class=\"row_heading level0 row5\" >ceiling_height</th>\n",
       "                        <td id=\"T_73c3f_row5_col0\" class=\"data row5 col0\" >39.000000</td>\n",
       "            </tr>\n",
       "            <tr>\n",
       "                        <th id=\"T_73c3f_level0_row6\" class=\"row_heading level0 row6\" >floors_total</th>\n",
       "                        <td id=\"T_73c3f_row6_col0\" class=\"data row6 col0\" >0.000000</td>\n",
       "            </tr>\n",
       "            <tr>\n",
       "                        <th id=\"T_73c3f_level0_row7\" class=\"row_heading level0 row7\" >living_area</th>\n",
       "                        <td id=\"T_73c3f_row7_col0\" class=\"data row7 col0\" >8.000000</td>\n",
       "            </tr>\n",
       "            <tr>\n",
       "                        <th id=\"T_73c3f_level0_row8\" class=\"row_heading level0 row8\" >floor</th>\n",
       "                        <td id=\"T_73c3f_row8_col0\" class=\"data row8 col0\" >0.000000</td>\n",
       "            </tr>\n",
       "            <tr>\n",
       "                        <th id=\"T_73c3f_level0_row9\" class=\"row_heading level0 row9\" >is_apartment</th>\n",
       "                        <td id=\"T_73c3f_row9_col0\" class=\"data row9 col0\" >88.000000</td>\n",
       "            </tr>\n",
       "            <tr>\n",
       "                        <th id=\"T_73c3f_level0_row10\" class=\"row_heading level0 row10\" >studio</th>\n",
       "                        <td id=\"T_73c3f_row10_col0\" class=\"data row10 col0\" >0.000000</td>\n",
       "            </tr>\n",
       "            <tr>\n",
       "                        <th id=\"T_73c3f_level0_row11\" class=\"row_heading level0 row11\" >open_plan</th>\n",
       "                        <td id=\"T_73c3f_row11_col0\" class=\"data row11 col0\" >0.000000</td>\n",
       "            </tr>\n",
       "            <tr>\n",
       "                        <th id=\"T_73c3f_level0_row12\" class=\"row_heading level0 row12\" >kitchen_area</th>\n",
       "                        <td id=\"T_73c3f_row12_col0\" class=\"data row12 col0\" >10.000000</td>\n",
       "            </tr>\n",
       "            <tr>\n",
       "                        <th id=\"T_73c3f_level0_row13\" class=\"row_heading level0 row13\" >balcony</th>\n",
       "                        <td id=\"T_73c3f_row13_col0\" class=\"data row13 col0\" >49.000000</td>\n",
       "            </tr>\n",
       "            <tr>\n",
       "                        <th id=\"T_73c3f_level0_row14\" class=\"row_heading level0 row14\" >locality_name</th>\n",
       "                        <td id=\"T_73c3f_row14_col0\" class=\"data row14 col0\" >0.000000</td>\n",
       "            </tr>\n",
       "            <tr>\n",
       "                        <th id=\"T_73c3f_level0_row15\" class=\"row_heading level0 row15\" >airports_nearest</th>\n",
       "                        <td id=\"T_73c3f_row15_col0\" class=\"data row15 col0\" >23.000000</td>\n",
       "            </tr>\n",
       "            <tr>\n",
       "                        <th id=\"T_73c3f_level0_row16\" class=\"row_heading level0 row16\" >cityCenters_nearest</th>\n",
       "                        <td id=\"T_73c3f_row16_col0\" class=\"data row16 col0\" >23.000000</td>\n",
       "            </tr>\n",
       "            <tr>\n",
       "                        <th id=\"T_73c3f_level0_row17\" class=\"row_heading level0 row17\" >parks_around3000</th>\n",
       "                        <td id=\"T_73c3f_row17_col0\" class=\"data row17 col0\" >23.000000</td>\n",
       "            </tr>\n",
       "            <tr>\n",
       "                        <th id=\"T_73c3f_level0_row18\" class=\"row_heading level0 row18\" >parks_nearest</th>\n",
       "                        <td id=\"T_73c3f_row18_col0\" class=\"data row18 col0\" >66.000000</td>\n",
       "            </tr>\n",
       "            <tr>\n",
       "                        <th id=\"T_73c3f_level0_row19\" class=\"row_heading level0 row19\" >ponds_around3000</th>\n",
       "                        <td id=\"T_73c3f_row19_col0\" class=\"data row19 col0\" >23.000000</td>\n",
       "            </tr>\n",
       "            <tr>\n",
       "                        <th id=\"T_73c3f_level0_row20\" class=\"row_heading level0 row20\" >ponds_nearest</th>\n",
       "                        <td id=\"T_73c3f_row20_col0\" class=\"data row20 col0\" >62.000000</td>\n",
       "            </tr>\n",
       "            <tr>\n",
       "                        <th id=\"T_73c3f_level0_row21\" class=\"row_heading level0 row21\" >days_exposition</th>\n",
       "                        <td id=\"T_73c3f_row21_col0\" class=\"data row21 col0\" >13.000000</td>\n",
       "            </tr>\n",
       "    </tbody></table>"
      ],
      "text/plain": [
       "<pandas.io.formats.style.Styler at 0x7feec2348c40>"
      ]
     },
     "execution_count": 7,
     "metadata": {},
     "output_type": "execute_result"
    }
   ],
   "source": [
    "pd.DataFrame(round(data.isna().mean()*100,)).style.background_gradient('coolwarm')"
   ]
  },
  {
   "attachments": {},
   "cell_type": "markdown",
   "metadata": {},
   "source": [
    "Пропуски в данных о высоте потолков заполним медианным значением. Также в данных присутствуют аномальные значение высоты, вероятно вызванные неправильным вводом дробного числа."
   ]
  },
  {
   "cell_type": "code",
   "execution_count": 8,
   "metadata": {},
   "outputs": [
    {
     "data": {
      "text/plain": [
       "array([ 25. ,   5.2,   5.3,   5.6,  32. ,   8. ,  27. ,  24. ,  26. ,\n",
       "         8.3,   5.5,  14. ,  20. ,   6. ,  22.6,   5.8,  27.5,  10.3,\n",
       "       100. ])"
      ]
     },
     "execution_count": 8,
     "metadata": {},
     "output_type": "execute_result"
    }
   ],
   "source": [
    "data['ceiling_height'].fillna(data['ceiling_height'].median(),inplace=True)\n",
    "data[data['ceiling_height'] > 5]['ceiling_height'].unique()"
   ]
  },
  {
   "cell_type": "code",
   "execution_count": 9,
   "metadata": {},
   "outputs": [
    {
     "data": {
      "text/plain": [
       "array([ 5.2,  5.3,  5.6,  8. ,  8.3,  5.5, 14. ,  6. ,  5.8, 10.3, 10. ])"
      ]
     },
     "execution_count": 9,
     "metadata": {},
     "output_type": "execute_result"
    }
   ],
   "source": [
    "data['ceiling_height'] = data['ceiling_height'].apply(lambda x: x/10 if x>15 else x)\n",
    "data[data['ceiling_height'] > 5]['ceiling_height'].unique()"
   ]
  },
  {
   "attachments": {},
   "cell_type": "markdown",
   "metadata": {},
   "source": [
    "Изменение типов данных : заменим тип данных столбцов floors total, balcony, parks_around3000 на Int64."
   ]
  },
  {
   "cell_type": "code",
   "execution_count": 10,
   "metadata": {},
   "outputs": [],
   "source": [
    "data = data.astype({'floors_total' : 'Int64', 'parks_around3000' : 'Int64', 'days_exposition' : 'Int64', 'ponds_around3000' :'Int64' }, errors='ignore')"
   ]
  },
  {
   "attachments": {},
   "cell_type": "markdown",
   "metadata": {},
   "source": [
    "<div class=\"alert alert-info\"> <b>Изменим типы данных на int у столбцов :</b> balcony, ponds_nearest ,parks_nearest,airports_nearest, cityCenters_nearest.</div>"
   ]
  },
  {
   "cell_type": "code",
   "execution_count": 11,
   "metadata": {},
   "outputs": [],
   "source": [
    "data = data.astype({'balcony' : 'Int64', 'ponds_nearest' : 'Int64','parks_nearest' : 'Int64','airports_nearest' : 'Int64'}, errors='ignore')"
   ]
  },
  {
   "attachments": {},
   "cell_type": "markdown",
   "metadata": {},
   "source": [
    "Заполним пропуски значений столбца is_apartment значениями False из предположения, что ."
   ]
  },
  {
   "cell_type": "code",
   "execution_count": 12,
   "metadata": {},
   "outputs": [],
   "source": [
    "data['is_apartment'].fillna(False,inplace=True)"
   ]
  },
  {
   "attachments": {},
   "cell_type": "markdown",
   "metadata": {},
   "source": [
    "Пропуски столбца с данными о количестве балконов заполним значением 0, как отсутсвие балкона."
   ]
  },
  {
   "cell_type": "code",
   "execution_count": 13,
   "metadata": {},
   "outputs": [],
   "source": [
    "data['balcony'].fillna(0,inplace=True)"
   ]
  },
  {
   "attachments": {},
   "cell_type": "markdown",
   "metadata": {},
   "source": [
    "Рассмотрим столбец locality_name, с данными о расположении объекта недвижимости."
   ]
  },
  {
   "cell_type": "code",
   "execution_count": 14,
   "metadata": {},
   "outputs": [
    {
     "data": {
      "text/plain": [
       "Санкт-Петербург                 15721\n",
       "посёлок Мурино                    522\n",
       "посёлок Шушары                    440\n",
       "Всеволожск                        398\n",
       "Пушкин                            369\n",
       "                                ...  \n",
       "деревня Снегирёвка                  1\n",
       "поселок Коробицыно                  1\n",
       "коттеджный поселок Счастье          1\n",
       "городской посёлок Свирьстрой        1\n",
       "поселок Севастьяново                1\n",
       "Name: locality_name, Length: 364, dtype: int64"
      ]
     },
     "execution_count": 14,
     "metadata": {},
     "output_type": "execute_result"
    }
   ],
   "source": [
    "data['locality_name'].value_counts()"
   ]
  },
  {
   "cell_type": "code",
   "execution_count": 15,
   "metadata": {},
   "outputs": [
    {
     "data": {
      "text/plain": [
       "array(['Санкт-Петербург', 'посёлок Шушары', 'городской посёлок Янино-1',\n",
       "       'посёлок Парголово', 'посёлок Мурино', 'Ломоносов', 'Сертолово',\n",
       "       'Петергоф', 'Пушкин', 'деревня Кудрово', 'Коммунар', 'Колпино',\n",
       "       'поселок городского типа Красный Бор', 'Гатчина', 'поселок Мурино',\n",
       "       'деревня Фёдоровское', 'Выборг', 'Кронштадт', 'Кировск',\n",
       "       'деревня Новое Девяткино', 'посёлок Металлострой',\n",
       "       'посёлок городского типа Лебяжье',\n",
       "       'посёлок городского типа Сиверский', 'поселок Молодцово',\n",
       "       'поселок городского типа Кузьмоловский',\n",
       "       'садовое товарищество Новая Ропша', 'Павловск',\n",
       "       'деревня Пикколово', 'Всеволожск', 'Волхов', 'Кингисепп',\n",
       "       'Приозерск', 'Сестрорецк', 'деревня Куттузи', 'посёлок Аннино',\n",
       "       'поселок городского типа Ефимовский', 'посёлок Плодовое',\n",
       "       'деревня Заклинье', 'поселок Торковичи', 'поселок Первомайское',\n",
       "       'Красное Село', 'посёлок Понтонный', 'Сясьстрой', 'деревня Старая',\n",
       "       'деревня Лесколово', 'посёлок Новый Свет', 'Сланцы',\n",
       "       'село Путилово', 'Ивангород', 'Мурино', 'Шлиссельбург',\n",
       "       'Никольское', 'Зеленогорск', 'Сосновый Бор', 'поселок Новый Свет',\n",
       "       'деревня Оржицы', 'деревня Кальтино', 'Кудрово',\n",
       "       'поселок Романовка', 'посёлок Бугры', 'поселок Бугры',\n",
       "       'поселок городского типа Рощино', 'Кириши', 'Луга', 'Волосово',\n",
       "       'Отрадное', 'село Павлово', 'поселок Оредеж', 'село Копорье',\n",
       "       'посёлок городского типа Красный Бор', 'посёлок Молодёжное',\n",
       "       'Тихвин', 'посёлок Победа', 'деревня Нурма',\n",
       "       'поселок городского типа Синявино', 'Тосно',\n",
       "       'посёлок городского типа Кузьмоловский', 'посёлок Стрельна',\n",
       "       'Бокситогорск', 'посёлок Александровская', 'деревня Лопухинка',\n",
       "       'Пикалёво', 'поселок Терволово',\n",
       "       'поселок городского типа Советский', 'Подпорожье',\n",
       "       'посёлок Петровское', 'посёлок городского типа Токсово',\n",
       "       'поселок Сельцо', 'посёлок городского типа Вырица',\n",
       "       'деревня Кипень', 'деревня Келози', 'деревня Вартемяги',\n",
       "       'посёлок Тельмана', 'поселок Севастьяново',\n",
       "       'городской поселок Большая Ижора', nan,\n",
       "       'городской посёлок Павлово', 'деревня Агалатово',\n",
       "       'посёлок Новогорелово', 'городской посёлок Лесогорский',\n",
       "       'деревня Лаголово', 'поселок Цвелодубово',\n",
       "       'поселок городского типа Рахья', 'поселок городского типа Вырица',\n",
       "       'деревня Белогорка', 'поселок Заводской',\n",
       "       'городской посёлок Новоселье', 'деревня Большие Колпаны',\n",
       "       'деревня Горбунки', 'деревня Батово', 'деревня Заневка',\n",
       "       'деревня Иссад', 'Приморск', 'городской посёлок Фёдоровское',\n",
       "       'деревня Мистолово', 'Новая Ладога', 'поселок Зимитицы',\n",
       "       'поселок Барышево', 'деревня Разметелево',\n",
       "       'поселок городского типа имени Свердлова', 'деревня Пеники',\n",
       "       'поселок Рябово', 'деревня Пудомяги', 'поселок станции Корнево',\n",
       "       'деревня Низино', 'деревня Бегуницы', 'посёлок Поляны',\n",
       "       'городской посёлок Мга', 'поселок Елизаветино',\n",
       "       'посёлок городского типа Кузнечное', 'деревня Колтуши',\n",
       "       'поселок Запорожское', 'посёлок городского типа Рощино',\n",
       "       'деревня Гостилицы', 'деревня Малое Карлино',\n",
       "       'посёлок Мичуринское', 'посёлок городского типа имени Морозова',\n",
       "       'посёлок Песочный', 'посёлок Сосново', 'деревня Аро',\n",
       "       'поселок Ильичёво', 'посёлок городского типа Тайцы',\n",
       "       'деревня Малое Верево', 'деревня Извара', 'поселок станции Вещево',\n",
       "       'село Паша', 'деревня Калитино',\n",
       "       'посёлок городского типа Ульяновка', 'деревня Чудской Бор',\n",
       "       'поселок городского типа Дубровка', 'деревня Мины',\n",
       "       'поселок Войсковицы', 'посёлок городского типа имени Свердлова',\n",
       "       'деревня Коркино', 'посёлок Ропша',\n",
       "       'поселок городского типа Приладожский', 'посёлок Щеглово',\n",
       "       'посёлок Гаврилово', 'Лодейное Поле', 'деревня Рабитицы',\n",
       "       'поселок городского типа Никольский', 'деревня Кузьмолово',\n",
       "       'деревня Малые Колпаны', 'поселок Тельмана',\n",
       "       'посёлок Петро-Славянка', 'городской посёлок Назия',\n",
       "       'посёлок Репино', 'посёлок Ильичёво', 'поселок Углово',\n",
       "       'поселок Старая Малукса', 'садовое товарищество Рахья',\n",
       "       'поселок Аннино', 'поселок Победа', 'деревня Меньково',\n",
       "       'деревня Старые Бегуницы', 'посёлок Сапёрный', 'поселок Семрино',\n",
       "       'поселок Гаврилово', 'поселок Глажево', 'поселок Кобринское',\n",
       "       'деревня Гарболово', 'деревня Юкки',\n",
       "       'поселок станции Приветнинское', 'деревня Мануйлово',\n",
       "       'деревня Пчева', 'поселок Поляны', 'поселок Цвылёво',\n",
       "       'поселок Мельниково', 'посёлок Пудость', 'посёлок Усть-Луга',\n",
       "       'Светогорск', 'Любань', 'поселок Селезнёво',\n",
       "       'поселок городского типа Рябово', 'Каменногорск', 'деревня Кривко',\n",
       "       'поселок Глебычево', 'деревня Парицы', 'поселок Жилпосёлок',\n",
       "       'посёлок городского типа Мга', 'городской поселок Янино-1',\n",
       "       'посёлок Войскорово', 'село Никольское', 'посёлок Терволово',\n",
       "       'поселок Стеклянный', 'посёлок городского типа Важины',\n",
       "       'посёлок Мыза-Ивановка', 'село Русско-Высоцкое',\n",
       "       'поселок городского типа Лебяжье',\n",
       "       'поселок городского типа Форносово', 'село Старая Ладога',\n",
       "       'поселок Житково', 'городской посёлок Виллози', 'деревня Лампово',\n",
       "       'деревня Шпаньково', 'деревня Лаврики', 'посёлок Сумино',\n",
       "       'посёлок Возрождение', 'деревня Старосиверская',\n",
       "       'посёлок Кикерино', 'поселок Возрождение',\n",
       "       'деревня Старое Хинколово', 'посёлок Пригородный',\n",
       "       'посёлок Торфяное', 'городской посёлок Будогощь',\n",
       "       'поселок Суходолье', 'поселок Красная Долина', 'деревня Хапо-Ое',\n",
       "       'поселок городского типа Дружная Горка', 'поселок Лисий Нос',\n",
       "       'деревня Яльгелево', 'посёлок Стеклянный', 'село Рождествено',\n",
       "       'деревня Старополье', 'посёлок Левашово', 'деревня Сяськелево',\n",
       "       'деревня Камышовка',\n",
       "       'садоводческое некоммерческое товарищество Лесная Поляна',\n",
       "       'деревня Хязельки', 'поселок Жилгородок',\n",
       "       'посёлок городского типа Павлово', 'деревня Ялгино',\n",
       "       'поселок Новый Учхоз', 'городской посёлок Рощино',\n",
       "       'поселок Гончарово', 'поселок Почап', 'посёлок Сапёрное',\n",
       "       'посёлок Платформа 69-й километр', 'поселок Каложицы',\n",
       "       'деревня Фалилеево', 'деревня Пельгора',\n",
       "       'поселок городского типа Лесогорский', 'деревня Торошковичи',\n",
       "       'посёлок Белоостров', 'посёлок Алексеевка', 'поселок Серебрянский',\n",
       "       'поселок Лукаши', 'поселок Петровское', 'деревня Щеглово',\n",
       "       'поселок Мичуринское', 'деревня Тарасово', 'поселок Кингисеппский',\n",
       "       'посёлок при железнодорожной станции Вещево', 'поселок Ушаки',\n",
       "       'деревня Котлы', 'деревня Сижно', 'деревня Торосово',\n",
       "       'посёлок Форт Красная Горка', 'поселок городского типа Токсово',\n",
       "       'деревня Новолисино', 'посёлок станции Громово', 'деревня Глинка',\n",
       "       'посёлок Мельниково', 'поселок городского типа Назия',\n",
       "       'деревня Старая Пустошь', 'поселок Коммунары', 'поселок Починок',\n",
       "       'посёлок городского типа Вознесенье', 'деревня Разбегаево',\n",
       "       'посёлок городского типа Рябово', 'поселок Гладкое',\n",
       "       'посёлок при железнодорожной станции Приветнинское',\n",
       "       'поселок Тёсово-4', 'посёлок Жилгородок', 'деревня Бор',\n",
       "       'посёлок Коробицыно', 'деревня Большая Вруда', 'деревня Курковицы',\n",
       "       'посёлок Лисий Нос', 'городской посёлок Советский',\n",
       "       'посёлок Кобралово', 'деревня Суоранда', 'поселок Кобралово',\n",
       "       'поселок городского типа Кондратьево',\n",
       "       'коттеджный поселок Счастье', 'поселок Любань', 'деревня Реброво',\n",
       "       'деревня Зимитицы', 'деревня Тойворово', 'поселок Семиозерье',\n",
       "       'поселок Лесное', 'поселок Совхозный', 'поселок Усть-Луга',\n",
       "       'посёлок Ленинское', 'посёлок Суйда',\n",
       "       'посёлок городского типа Форносово', 'деревня Нижние Осельки',\n",
       "       'посёлок станции Свирь', 'поселок Перово', 'Высоцк',\n",
       "       'поселок Гарболово', 'село Шум', 'поселок Котельский',\n",
       "       'поселок станции Лужайка', 'деревня Большая Пустомержа',\n",
       "       'поселок Красносельское', 'деревня Вахнова Кара', 'деревня Пижма',\n",
       "       'коттеджный поселок Кивеннапа Север', 'поселок Коробицыно',\n",
       "       'поселок Ромашки', 'посёлок Перово', 'деревня Каськово',\n",
       "       'деревня Куровицы', 'посёлок Плоское', 'поселок Сумино',\n",
       "       'поселок городского типа Большая Ижора', 'поселок Кирпичное',\n",
       "       'деревня Ям-Тесово', 'деревня Раздолье', 'деревня Терпилицы',\n",
       "       'посёлок Шугозеро', 'деревня Ваганово', 'поселок Пушное',\n",
       "       'садовое товарищество Садко', 'посёлок Усть-Ижора',\n",
       "       'деревня Выскатка', 'городской посёлок Свирьстрой',\n",
       "       'поселок Громово', 'деревня Кисельня', 'посёлок Старая Малукса',\n",
       "       'деревня Трубников Бор', 'поселок Калитино',\n",
       "       'посёлок Высокоключевой', 'садовое товарищество Приладожский',\n",
       "       'посёлок Пансионат Зелёный Бор', 'деревня Ненимяки',\n",
       "       'поселок Пансионат Зелёный Бор', 'деревня Снегирёвка',\n",
       "       'деревня Рапполово', 'деревня Пустынка', 'поселок Рабитицы',\n",
       "       'деревня Большой Сабск', 'деревня Русско', 'деревня Лупполово',\n",
       "       'деревня Большое Рейзино', 'деревня Малая Романовка',\n",
       "       'поселок Дружноселье', 'поселок Пчевжа', 'поселок Володарское',\n",
       "       'деревня Нижняя', 'коттеджный посёлок Лесное', 'деревня Тихковицы',\n",
       "       'деревня Борисова Грива', 'посёлок Дзержинского'], dtype=object)"
      ]
     },
     "execution_count": 15,
     "metadata": {},
     "output_type": "execute_result"
    }
   ],
   "source": [
    "data['locality_name'].unique()"
   ]
  },
  {
   "attachments": {},
   "cell_type": "markdown",
   "metadata": {},
   "source": [
    "Просмотрев список уникальных значений столбца locality_name, обнаружены неявные дубликаты. В основном из-за отсутсвия или наличия слова определяющего тип населенного пункта, буква \"е\" вместо \"ё\"."
   ]
  },
  {
   "cell_type": "code",
   "execution_count": 16,
   "metadata": {},
   "outputs": [
    {
     "data": {
      "text/plain": [
       "0        Санкт-Петербург\n",
       "1                 Шушары\n",
       "2        Санкт-Петербург\n",
       "3        Санкт-Петербург\n",
       "4        Санкт-Петербург\n",
       "              ...       \n",
       "23645    Санкт-Петербург\n",
       "23646              Тосно\n",
       "23647        Рождествено\n",
       "23648    Санкт-Петербург\n",
       "23649        Новый Учхоз\n",
       "Name: locality_name, Length: 23650, dtype: object"
      ]
     },
     "execution_count": 16,
     "metadata": {},
     "output_type": "execute_result"
    }
   ],
   "source": [
    "data = data.dropna(subset=['locality_name']).reset_index(drop=True)\n",
    "data['locality_name'] = data['locality_name'].str.replace('ё','е') #.str.lower()\n",
    "\n",
    "locality_type = ['поселок при железнодорожной станции','садоводческое некоммерческое товарищество','городской поселок',\n",
    "'поселок городского типа', 'деревня', 'коттеджный поселок', 'поселок', 'садовое товарищество',\n",
    "'поселок станции','село','станции'] \n",
    "\n",
    "for location in locality_type:\n",
    "    data['locality_name'] = data['locality_name'].str.replace(location, '').str.strip()\n",
    "\n",
    "data['locality_name']"
   ]
  },
  {
   "attachments": {},
   "cell_type": "markdown",
   "metadata": {},
   "source": [
    "Переведем формат данных столбца first_day_exposition к формату день.месяц.год."
   ]
  },
  {
   "cell_type": "code",
   "execution_count": 17,
   "metadata": {},
   "outputs": [
    {
     "data": {
      "text/plain": [
       "0       2019-03-07\n",
       "1       2018-12-04\n",
       "2       2015-08-20\n",
       "3       2015-07-24\n",
       "4       2018-06-19\n",
       "           ...    \n",
       "23645   2017-03-21\n",
       "23646   2018-01-15\n",
       "23647   2018-02-11\n",
       "23648   2017-03-28\n",
       "23649   2017-07-21\n",
       "Name: first_day_exposition, Length: 23650, dtype: datetime64[ns]"
      ]
     },
     "execution_count": 17,
     "metadata": {},
     "output_type": "execute_result"
    }
   ],
   "source": [
    "data['first_day_exposition'] =pd.to_datetime(data['first_day_exposition'], format='%Y-%m-%dT%H:%M:%S')\n",
    "data['first_day_exposition']"
   ]
  },
  {
   "attachments": {},
   "cell_type": "markdown",
   "metadata": {},
   "source": [
    "<div class=\"alert alert-info\"> Проверка на явные дубликаты.</div>"
   ]
  },
  {
   "cell_type": "code",
   "execution_count": 18,
   "metadata": {
    "scrolled": true
   },
   "outputs": [
    {
     "data": {
      "text/plain": [
       "0"
      ]
     },
     "execution_count": 18,
     "metadata": {},
     "output_type": "execute_result"
    }
   ],
   "source": [
    "data.duplicated().sum()"
   ]
  },
  {
   "attachments": {},
   "cell_type": "markdown",
   "metadata": {},
   "source": [
    "<div class=\"alert alert-info\"> Явных дубликатов не обнаружено.</div>"
   ]
  },
  {
   "cell_type": "code",
   "execution_count": 19,
   "metadata": {},
   "outputs": [
    {
     "name": "stdout",
     "output_type": "stream",
     "text": [
      "<class 'pandas.core.frame.DataFrame'>\n",
      "RangeIndex: 23650 entries, 0 to 23649\n",
      "Data columns (total 22 columns):\n",
      " #   Column                Non-Null Count  Dtype         \n",
      "---  ------                --------------  -----         \n",
      " 0   total_images          23650 non-null  int64         \n",
      " 1   last_price            23650 non-null  float64       \n",
      " 2   total_area            23650 non-null  float64       \n",
      " 3   first_day_exposition  23650 non-null  datetime64[ns]\n",
      " 4   rooms                 23650 non-null  int64         \n",
      " 5   ceiling_height        23650 non-null  float64       \n",
      " 6   floors_total          23565 non-null  Int64         \n",
      " 7   living_area           21752 non-null  float64       \n",
      " 8   floor                 23650 non-null  int64         \n",
      " 9   is_apartment          23650 non-null  bool          \n",
      " 10  studio                23650 non-null  bool          \n",
      " 11  open_plan             23650 non-null  bool          \n",
      " 12  kitchen_area          21381 non-null  float64       \n",
      " 13  balcony               23650 non-null  Int64         \n",
      " 14  locality_name         23650 non-null  object        \n",
      " 15  airports_nearest      18116 non-null  Int64         \n",
      " 16  cityCenters_nearest   18139 non-null  float64       \n",
      " 17  parks_around3000      18140 non-null  Int64         \n",
      " 18  parks_nearest         8064 non-null   Int64         \n",
      " 19  ponds_around3000      18140 non-null  Int64         \n",
      " 20  ponds_nearest         9085 non-null   Int64         \n",
      " 21  days_exposition       20470 non-null  float64       \n",
      "dtypes: Int64(7), bool(3), datetime64[ns](1), float64(7), int64(3), object(1)\n",
      "memory usage: 3.7+ MB\n"
     ]
    }
   ],
   "source": [
    "data.info()"
   ]
  },
  {
   "cell_type": "code",
   "execution_count": null,
   "metadata": {},
   "outputs": [],
   "source": []
  },
  {
   "attachments": {},
   "cell_type": "markdown",
   "metadata": {},
   "source": [
    "### Посчитайте и добавьте в таблицу новые столбцы"
   ]
  },
  {
   "attachments": {},
   "cell_type": "markdown",
   "metadata": {},
   "source": [
    "Добавим в датасет данные о стоимости за квадратный метр."
   ]
  },
  {
   "cell_type": "code",
   "execution_count": 20,
   "metadata": {
    "scrolled": true
   },
   "outputs": [
    {
     "data": {
      "text/plain": [
       "0        120370\n",
       "1         82921\n",
       "2         92786\n",
       "3        408176\n",
       "4        100000\n",
       "          ...  \n",
       "23645     72491\n",
       "23646     52542\n",
       "23647     44092\n",
       "23648    149511\n",
       "23649     41796\n",
       "Name: price_per_m2, Length: 23650, dtype: int64"
      ]
     },
     "metadata": {},
     "output_type": "display_data"
    }
   ],
   "source": [
    "data['price_per_m2'] = data['last_price'] / data['total_area']\n",
    "data['price_per_m2'] = data['price_per_m2'].round(0).astype(int)\n",
    "display(data['price_per_m2'])"
   ]
  },
  {
   "attachments": {},
   "cell_type": "markdown",
   "metadata": {},
   "source": [
    "Добавим в датасет столбцы с данными: день, месяц и год публикации объявления"
   ]
  },
  {
   "cell_type": "code",
   "execution_count": 21,
   "metadata": {},
   "outputs": [],
   "source": [
    "data['days'] = pd.DatetimeIndex(data['first_day_exposition']).dayofweek\n",
    "data['month'] = pd.DatetimeIndex(data['first_day_exposition']).month\n",
    "data['year'] = pd.DatetimeIndex(data['first_day_exposition']).year"
   ]
  },
  {
   "cell_type": "code",
   "execution_count": 22,
   "metadata": {},
   "outputs": [
    {
     "data": {
      "text/html": [
       "<div>\n",
       "<style scoped>\n",
       "    .dataframe tbody tr th:only-of-type {\n",
       "        vertical-align: middle;\n",
       "    }\n",
       "\n",
       "    .dataframe tbody tr th {\n",
       "        vertical-align: top;\n",
       "    }\n",
       "\n",
       "    .dataframe thead th {\n",
       "        text-align: right;\n",
       "    }\n",
       "</style>\n",
       "<table border=\"1\" class=\"dataframe\">\n",
       "  <thead>\n",
       "    <tr style=\"text-align: right;\">\n",
       "      <th></th>\n",
       "      <th>days</th>\n",
       "      <th>month</th>\n",
       "      <th>year</th>\n",
       "    </tr>\n",
       "  </thead>\n",
       "  <tbody>\n",
       "    <tr>\n",
       "      <th>0</th>\n",
       "      <td>3</td>\n",
       "      <td>3</td>\n",
       "      <td>2019</td>\n",
       "    </tr>\n",
       "    <tr>\n",
       "      <th>1</th>\n",
       "      <td>1</td>\n",
       "      <td>12</td>\n",
       "      <td>2018</td>\n",
       "    </tr>\n",
       "    <tr>\n",
       "      <th>2</th>\n",
       "      <td>3</td>\n",
       "      <td>8</td>\n",
       "      <td>2015</td>\n",
       "    </tr>\n",
       "    <tr>\n",
       "      <th>3</th>\n",
       "      <td>4</td>\n",
       "      <td>7</td>\n",
       "      <td>2015</td>\n",
       "    </tr>\n",
       "    <tr>\n",
       "      <th>4</th>\n",
       "      <td>1</td>\n",
       "      <td>6</td>\n",
       "      <td>2018</td>\n",
       "    </tr>\n",
       "    <tr>\n",
       "      <th>...</th>\n",
       "      <td>...</td>\n",
       "      <td>...</td>\n",
       "      <td>...</td>\n",
       "    </tr>\n",
       "    <tr>\n",
       "      <th>23645</th>\n",
       "      <td>1</td>\n",
       "      <td>3</td>\n",
       "      <td>2017</td>\n",
       "    </tr>\n",
       "    <tr>\n",
       "      <th>23646</th>\n",
       "      <td>0</td>\n",
       "      <td>1</td>\n",
       "      <td>2018</td>\n",
       "    </tr>\n",
       "    <tr>\n",
       "      <th>23647</th>\n",
       "      <td>6</td>\n",
       "      <td>2</td>\n",
       "      <td>2018</td>\n",
       "    </tr>\n",
       "    <tr>\n",
       "      <th>23648</th>\n",
       "      <td>1</td>\n",
       "      <td>3</td>\n",
       "      <td>2017</td>\n",
       "    </tr>\n",
       "    <tr>\n",
       "      <th>23649</th>\n",
       "      <td>4</td>\n",
       "      <td>7</td>\n",
       "      <td>2017</td>\n",
       "    </tr>\n",
       "  </tbody>\n",
       "</table>\n",
       "<p>23650 rows × 3 columns</p>\n",
       "</div>"
      ],
      "text/plain": [
       "       days  month  year\n",
       "0         3      3  2019\n",
       "1         1     12  2018\n",
       "2         3      8  2015\n",
       "3         4      7  2015\n",
       "4         1      6  2018\n",
       "...     ...    ...   ...\n",
       "23645     1      3  2017\n",
       "23646     0      1  2018\n",
       "23647     6      2  2018\n",
       "23648     1      3  2017\n",
       "23649     4      7  2017\n",
       "\n",
       "[23650 rows x 3 columns]"
      ]
     },
     "execution_count": 22,
     "metadata": {},
     "output_type": "execute_result"
    }
   ],
   "source": [
    "data.loc[:,'days':'year']"
   ]
  },
  {
   "attachments": {},
   "cell_type": "markdown",
   "metadata": {},
   "source": [
    "Добавим в датасет столбец с категориями кваритир по этажам. "
   ]
  },
  {
   "cell_type": "code",
   "execution_count": 23,
   "metadata": {},
   "outputs": [],
   "source": [
    "def add_floor_category(x):\n",
    "    try:\n",
    "        if x['floor'] == 1:\n",
    "            return 'первый'\n",
    "        elif x['floor'] == x['floors_total']:\n",
    "            return 'последний'\n",
    "        else:\n",
    "            return 'другой'\n",
    "    except:\n",
    "        return 'другой'\n",
    "\n",
    "data['floor_category'] = data.apply(add_floor_category,axis=1)"
   ]
  },
  {
   "cell_type": "code",
   "execution_count": 24,
   "metadata": {},
   "outputs": [
    {
     "data": {
      "text/plain": [
       "другой       17408\n",
       "последний     3330\n",
       "первый        2912\n",
       "Name: floor_category, dtype: int64"
      ]
     },
     "execution_count": 24,
     "metadata": {},
     "output_type": "execute_result"
    }
   ],
   "source": [
    "data['floor_category'].value_counts()"
   ]
  },
  {
   "attachments": {},
   "cell_type": "markdown",
   "metadata": {},
   "source": [
    "Добавим столбец с значениями расстояния объекта недвижимости в км до центра города."
   ]
  },
  {
   "cell_type": "code",
   "execution_count": 25,
   "metadata": {},
   "outputs": [],
   "source": [
    "data['cityCenters_nearest_km'] = data['cityCenters_nearest'].apply(lambda x: x/1000)"
   ]
  },
  {
   "cell_type": "code",
   "execution_count": 26,
   "metadata": {},
   "outputs": [
    {
     "data": {
      "text/plain": [
       "0        16.0\n",
       "1        19.0\n",
       "2        14.0\n",
       "3         7.0\n",
       "4         8.0\n",
       "         ... \n",
       "23645     4.0\n",
       "23646     NaN\n",
       "23647     NaN\n",
       "23648    10.0\n",
       "23649     NaN\n",
       "Name: cityCenters_nearest_km, Length: 23650, dtype: float64"
      ]
     },
     "execution_count": 26,
     "metadata": {},
     "output_type": "execute_result"
    }
   ],
   "source": [
    "data['cityCenters_nearest_km'] = data['cityCenters_nearest_km'].round(0)\n",
    "data['cityCenters_nearest_km']"
   ]
  },
  {
   "attachments": {},
   "cell_type": "markdown",
   "metadata": {},
   "source": [
    "### Проведите исследовательский анализ данных"
   ]
  },
  {
   "cell_type": "code",
   "execution_count": 27,
   "metadata": {},
   "outputs": [
    {
     "data": {
      "text/plain": [
       "Text(0, 0.5, 'Кол-во квартир')"
      ]
     },
     "execution_count": 27,
     "metadata": {},
     "output_type": "execute_result"
    },
    {
     "data": {
      "image/png": "[encoded data removed]",
      "text/plain": [
       "<Figure size 432x288 with 1 Axes>"
      ]
     },
     "metadata": {
      "needs_background": "light"
     },
     "output_type": "display_data"
    }
   ],
   "source": [
    "plot = data['total_area'].plot(kind='hist', bins=80, range=(20,100), title='Общая площадь', xlabel='Площадь', ylabel='Кол-во квартир',grid=True)\n",
    "plot.set_xlabel('Площадь')\n",
    "plot.set_ylabel('Кол-во квартир')"
   ]
  },
  {
   "cell_type": "code",
   "execution_count": 28,
   "metadata": {},
   "outputs": [
    {
     "name": "stdout",
     "output_type": "stream",
     "text": [
      "Средняя площадь квартиры: 60.32906934460889\n",
      "Медиана : 52.0\n"
     ]
    }
   ],
   "source": [
    "print(f'Средняя площадь квартиры: {data.total_area.mean()}')\n",
    "print(f'Медиана : {data.total_area.median()}')"
   ]
  },
  {
   "attachments": {},
   "cell_type": "markdown",
   "metadata": {},
   "source": [
    "Наибольшее количество квартир с площадью примерно 45 кв.м. Пики в количестве объявлений наблюдаются у квартир площадью 32 кв.м и 60 кв.м."
   ]
  },
  {
   "cell_type": "code",
   "execution_count": 29,
   "metadata": {},
   "outputs": [
    {
     "data": {
      "text/plain": [
       "Text(0, 0.5, 'Кол-во квартир')"
      ]
     },
     "execution_count": 29,
     "metadata": {},
     "output_type": "execute_result"
    },
    {
     "data": {
      "image/png": "[encoded data removed]",
      "text/plain": [
       "<Figure size 432x288 with 1 Axes>"
      ]
     },
     "metadata": {
      "needs_background": "light"
     },
     "output_type": "display_data"
    }
   ],
   "source": [
    "plot = data['living_area'].plot(kind='hist', bins=75, range=(20,100), title='Жилая площадь', grid=True)\n",
    "plot.set_xlabel('Площадь')\n",
    "plot.set_ylabel('Кол-во квартир')"
   ]
  },
  {
   "cell_type": "code",
   "execution_count": 30,
   "metadata": {},
   "outputs": [
    {
     "name": "stdout",
     "output_type": "stream",
     "text": [
      "Средняя жил. площадь : 34.44835562302317\n",
      "Медиана : 30.0\n"
     ]
    }
   ],
   "source": [
    "print(f'Средняя жил. площадь : {data.living_area.mean()}')\n",
    "print(f'Медиана : {data.living_area.median()}')"
   ]
  },
  {
   "cell_type": "code",
   "execution_count": 31,
   "metadata": {},
   "outputs": [
    {
     "data": {
      "text/plain": [
       "Text(0, 0.5, 'Кол-во квартир')"
      ]
     },
     "execution_count": 31,
     "metadata": {},
     "output_type": "execute_result"
    },
    {
     "data": {
      "image/png": "[encoded data removed]",
      "text/plain": [
       "<Figure size 432x288 with 1 Axes>"
      ]
     },
     "metadata": {
      "needs_background": "light"
     },
     "output_type": "display_data"
    }
   ],
   "source": [
    "plot = data['kitchen_area'].plot(kind='hist', bins=40, range=(5,30), title='Площадь кухни', grid=True)\n",
    "plot.set_xlabel('Площадь')\n",
    "plot.set_ylabel('Кол-во квартир')"
   ]
  },
  {
   "cell_type": "code",
   "execution_count": 32,
   "metadata": {},
   "outputs": [
    {
     "name": "stdout",
     "output_type": "stream",
     "text": [
      "Средняя площадь кухни: 10.566402881062626\n",
      "Медиана : 9.1\n"
     ]
    }
   ],
   "source": [
    "print(f'Средняя площадь кухни: {data.kitchen_area.mean()}')\n",
    "print(f'Медиана : {data.kitchen_area.median()}')"
   ]
  },
  {
   "attachments": {},
   "cell_type": "markdown",
   "metadata": {},
   "source": [
    "Самая часто встречаемая жилая площадь порядка 30 кв.м, а кухни порядка 10 кв.м."
   ]
  },
  {
   "cell_type": "code",
   "execution_count": 33,
   "metadata": {},
   "outputs": [
    {
     "data": {
      "text/plain": [
       "Text(0, 0.5, 'Кол-во')"
      ]
     },
     "execution_count": 33,
     "metadata": {},
     "output_type": "execute_result"
    },
    {
     "data": {
      "image/png": "[encoded data removed]",
      "text/plain": [
       "<Figure size 432x288 with 1 Axes>"
      ]
     },
     "metadata": {
      "needs_background": "light"
     },
     "output_type": "display_data"
    }
   ],
   "source": [
    "plot = data['last_price'].plot(kind='hist',bins=75,range=(1000000,20000000))\n",
    "plot.set_xlabel('Цена')\n",
    "plot.set_ylabel('Кол-во')"
   ]
  },
  {
   "attachments": {},
   "cell_type": "markdown",
   "metadata": {},
   "source": [
    "В объявлениях больше всего квартир стоимостью порядка 4 млн. руб."
   ]
  },
  {
   "cell_type": "code",
   "execution_count": 34,
   "metadata": {},
   "outputs": [
    {
     "data": {
      "text/plain": [
       "Text(0, 0.5, 'Кол-во')"
      ]
     },
     "execution_count": 34,
     "metadata": {},
     "output_type": "execute_result"
    },
    {
     "data": {
      "image/png": "[encoded data removed]",
      "text/plain": [
       "<Figure size 432x288 with 1 Axes>"
      ]
     },
     "metadata": {
      "needs_background": "light"
     },
     "output_type": "display_data"
    }
   ],
   "source": [
    "plot = data['rooms'].plot(kind='hist',bins=8,range=(0,8))\n",
    "plot.set_xlabel('Комнат')\n",
    "plot.set_ylabel('Кол-во')"
   ]
  },
  {
   "attachments": {},
   "cell_type": "markdown",
   "metadata": {},
   "source": [
    "Больше всего 1 и 2ух комнатных квартир."
   ]
  },
  {
   "cell_type": "code",
   "execution_count": 35,
   "metadata": {},
   "outputs": [
    {
     "data": {
      "text/plain": [
       "Text(0, 0.5, 'Кол-во квартир')"
      ]
     },
     "execution_count": 35,
     "metadata": {},
     "output_type": "execute_result"
    },
    {
     "data": {
      "image/png": "[encoded data removed]",
      "text/plain": [
       "<Figure size 432x288 with 1 Axes>"
      ]
     },
     "metadata": {
      "needs_background": "light"
     },
     "output_type": "display_data"
    }
   ],
   "source": [
    "plot = data['ceiling_height'].plot(kind='hist',bins=25, range=(2.4,3.4), title='Высота потолков', grid=True)\n",
    "plot.set_xlabel('Высота потолков')\n",
    "plot.set_ylabel('Кол-во квартир')"
   ]
  },
  {
   "cell_type": "code",
   "execution_count": 36,
   "metadata": {},
   "outputs": [
    {
     "name": "stdout",
     "output_type": "stream",
     "text": [
      "Среднее значение : 2.698619873150106\n",
      "Медиана : 2.65\n"
     ]
    }
   ],
   "source": [
    "print(f'Среднее значение : {data.ceiling_height.mean()}')\n",
    "print(f'Медиана : {data.ceiling_height.median()}')"
   ]
  },
  {
   "cell_type": "code",
   "execution_count": 37,
   "metadata": {},
   "outputs": [
    {
     "data": {
      "text/plain": [
       "Text(0, 0.5, 'Кол-во квартир')"
      ]
     },
     "execution_count": 37,
     "metadata": {},
     "output_type": "execute_result"
    },
    {
     "data": {
      "image/png": "[encoded data removed]",
      "text/plain": [
       "<Figure size 432x288 with 1 Axes>"
      ]
     },
     "metadata": {
      "needs_background": "light"
     },
     "output_type": "display_data"
    }
   ],
   "source": [
    "plot = data['floor'].plot(kind='hist',bins=30, range=(1,30), title='Этажи', grid=True)\n",
    "plot.set_xlabel('Этаж')\n",
    "plot.set_ylabel('Кол-во квартир')"
   ]
  },
  {
   "cell_type": "code",
   "execution_count": 38,
   "metadata": {},
   "outputs": [
    {
     "name": "stdout",
     "output_type": "stream",
     "text": [
      "Средняя значение этажа: 5.893276955602537\n",
      "Медиана : 4.0\n"
     ]
    }
   ],
   "source": [
    "print(f'Средняя значение этажа: {data.floor.mean()}')\n",
    "print(f'Медиана : {data.floor.median()}')"
   ]
  },
  {
   "cell_type": "code",
   "execution_count": 39,
   "metadata": {},
   "outputs": [
    {
     "data": {
      "text/plain": [
       "Text(0, 0.5, 'Кол-во')"
      ]
     },
     "execution_count": 39,
     "metadata": {},
     "output_type": "execute_result"
    },
    {
     "data": {
      "image/png": "[encoded data removed]",
      "text/plain": [
       "<Figure size 432x288 with 1 Axes>"
      ]
     },
     "metadata": {
      "needs_background": "light"
     },
     "output_type": "display_data"
    }
   ],
   "source": [
    "plot = data['floor_category'].hist()\n",
    "plot.set_xlabel('Этаж')\n",
    "plot.set_ylabel('Кол-во')"
   ]
  },
  {
   "attachments": {},
   "cell_type": "markdown",
   "metadata": {},
   "source": [
    "Меньше всего объявлений с квартирами на первых этажах."
   ]
  },
  {
   "cell_type": "code",
   "execution_count": 40,
   "metadata": {},
   "outputs": [
    {
     "data": {
      "text/plain": [
       "Text(0, 0.5, 'Кол-во квартир')"
      ]
     },
     "execution_count": 40,
     "metadata": {},
     "output_type": "execute_result"
    },
    {
     "data": {
      "image/png": "[encoded data removed]",
      "text/plain": [
       "<Figure size 432x288 with 1 Axes>"
      ]
     },
     "metadata": {
      "needs_background": "light"
     },
     "output_type": "display_data"
    }
   ],
   "source": [
    "plot = data['floors_total'].plot(kind='hist',bins=30, range=(1,30), title='Этажей всего', grid=True)\n",
    "plot.set_xlabel('Этаж')\n",
    "plot.set_ylabel('Кол-во квартир')"
   ]
  },
  {
   "attachments": {},
   "cell_type": "markdown",
   "metadata": {},
   "source": [
    "Чаще всего встречаются 5ти этажные дома. Достаточно большое количество 9ти этажных домов."
   ]
  },
  {
   "cell_type": "code",
   "execution_count": 41,
   "metadata": {},
   "outputs": [
    {
     "data": {
      "text/plain": [
       "Text(0, 0.5, 'Кол-во')"
      ]
     },
     "execution_count": 41,
     "metadata": {},
     "output_type": "execute_result"
    },
    {
     "data": {
      "image/png": "[encoded data removed]",
      "text/plain": [
       "<Figure size 432x288 with 1 Axes>"
      ]
     },
     "metadata": {
      "needs_background": "light"
     },
     "output_type": "display_data"
    }
   ],
   "source": [
    "plot = data['cityCenters_nearest'].plot(kind='hist', bins=75, range=(1,3000), title='Расстояние до центра, м.', grid=True)\n",
    "plot.set_xlabel('метр')\n",
    "plot.set_ylabel('Кол-во')"
   ]
  },
  {
   "cell_type": "code",
   "execution_count": 42,
   "metadata": {},
   "outputs": [
    {
     "name": "stdout",
     "output_type": "stream",
     "text": [
      "Средняя значение расстояния до центра, м: 14197.860742047522\n",
      "Медиана, м : 13105.0\n"
     ]
    }
   ],
   "source": [
    "print(f'Средняя значение расстояния до центра, м: {data.cityCenters_nearest.mean()}')\n",
    "print(f'Медиана, м : {data.cityCenters_nearest.median()}')"
   ]
  },
  {
   "cell_type": "code",
   "execution_count": 43,
   "metadata": {},
   "outputs": [
    {
     "data": {
      "text/plain": [
       "Text(0, 0.5, 'Кол-во')"
      ]
     },
     "execution_count": 43,
     "metadata": {},
     "output_type": "execute_result"
    },
    {
     "data": {
      "image/png": "[encoded data removed]",
      "text/plain": [
       "<Figure size 432x288 with 1 Axes>"
      ]
     },
     "metadata": {
      "needs_background": "light"
     },
     "output_type": "display_data"
    }
   ],
   "source": [
    "plot = data['airports_nearest'].plot(kind='hist', bins=75, range=(6000,20000), title='Расстояние до аэропорта, м.', grid=True)\n",
    "plot.set_xlabel('метр')\n",
    "plot.set_ylabel('Кол-во')"
   ]
  },
  {
   "cell_type": "code",
   "execution_count": 44,
   "metadata": {},
   "outputs": [
    {
     "data": {
      "text/plain": [
       "Text(0, 0.5, 'Кол-во')"
      ]
     },
     "execution_count": 44,
     "metadata": {},
     "output_type": "execute_result"
    },
    {
     "data": {
      "image/png": "[encoded data removed]",
      "text/plain": [
       "<Figure size 432x288 with 1 Axes>"
      ]
     },
     "metadata": {
      "needs_background": "light"
     },
     "output_type": "display_data"
    }
   ],
   "source": [
    "plot = data['parks_nearest'].plot(kind='hist', bins=75, range=(1,3000), title='Расстояние до парка, м.', grid=True)\n",
    "plot.set_xlabel('метр')\n",
    "plot.set_ylabel('Кол-во')"
   ]
  },
  {
   "cell_type": "code",
   "execution_count": 45,
   "metadata": {},
   "outputs": [
    {
     "data": {
      "text/plain": [
       "Text(0, 0.5, 'Кол-во')"
      ]
     },
     "execution_count": 45,
     "metadata": {},
     "output_type": "execute_result"
    },
    {
     "data": {
      "image/png": "[encoded data removed]",
      "text/plain": [
       "<Figure size 432x288 with 1 Axes>"
      ]
     },
     "metadata": {
      "needs_background": "light"
     },
     "output_type": "display_data"
    }
   ],
   "source": [
    "plot = data['days'].plot(kind='hist',bins=7, range=(0,7), title='Распределение по дням недели', grid=True)\n",
    "plot.set_xlabel('Номер дня')\n",
    "plot.set_ylabel('Кол-во')"
   ]
  },
  {
   "attachments": {},
   "cell_type": "markdown",
   "metadata": {},
   "source": [
    "В будние дни публицуется больше объявлений, чем в выходные. "
   ]
  },
  {
   "cell_type": "code",
   "execution_count": 46,
   "metadata": {},
   "outputs": [
    {
     "data": {
      "text/plain": [
       "Text(0, 0.5, 'Кол-во')"
      ]
     },
     "execution_count": 46,
     "metadata": {},
     "output_type": "execute_result"
    },
    {
     "data": {
      "image/png": "[encoded data removed]",
      "text/plain": [
       "<Figure size 432x288 with 1 Axes>"
      ]
     },
     "metadata": {
      "needs_background": "light"
     },
     "output_type": "display_data"
    }
   ],
   "source": [
    "plot = data['month'].plot(kind='hist', bins=12, range=(0,12), title='Распределение по месяцам', grid=True)\n",
    "plot.set_xlabel('месяц')\n",
    "plot.set_ylabel('Кол-во')"
   ]
  },
  {
   "attachments": {},
   "cell_type": "markdown",
   "metadata": {},
   "source": [
    "Больше всего объявлений публикуется в декабре, практически нет значений в январе."
   ]
  },
  {
   "cell_type": "code",
   "execution_count": 47,
   "metadata": {},
   "outputs": [
    {
     "data": {
      "text/plain": [
       "Text(0, 0.5, 'Кол-во')"
      ]
     },
     "execution_count": 47,
     "metadata": {},
     "output_type": "execute_result"
    },
    {
     "data": {
      "image/png": "[encoded data removed]",
      "text/plain": [
       "<Figure size 432x288 with 1 Axes>"
      ]
     },
     "metadata": {
      "needs_background": "light"
     },
     "output_type": "display_data"
    }
   ],
   "source": [
    "plot = data['days_exposition'].plot(kind='hist', bins=75, range=(1,700), title='Дней до снятия с продажи', grid=True)\n",
    "plot.set_xlabel('Дней')\n",
    "plot.set_ylabel('Кол-во')"
   ]
  },
  {
   "cell_type": "code",
   "execution_count": 48,
   "metadata": {},
   "outputs": [
    {
     "data": {
      "text/plain": [
       "Text(0, 0.5, 'Кол-во')"
      ]
     },
     "execution_count": 48,
     "metadata": {},
     "output_type": "execute_result"
    },
    {
     "data": {
      "image/png": "[encoded data removed]",
      "text/plain": [
       "<Figure size 432x288 with 1 Axes>"
      ]
     },
     "metadata": {
      "needs_background": "light"
     },
     "output_type": "display_data"
    }
   ],
   "source": [
    "plot = data['days_exposition'].plot(kind='hist', bins=50, range=(1,125), title='Дней до снятия с продажи', grid=True)\n",
    "plot.set_xlabel('Дней')\n",
    "plot.set_ylabel('Кол-во')"
   ]
  },
  {
   "cell_type": "code",
   "execution_count": 49,
   "metadata": {},
   "outputs": [
    {
     "data": {
      "text/plain": [
       "count    20470.000000\n",
       "mean       180.753200\n",
       "std        219.777916\n",
       "min          1.000000\n",
       "25%         45.000000\n",
       "50%         95.000000\n",
       "75%        231.000000\n",
       "max       1580.000000\n",
       "Name: days_exposition, dtype: float64"
      ]
     },
     "execution_count": 49,
     "metadata": {},
     "output_type": "execute_result"
    }
   ],
   "source": [
    "#print(f'Средняя кол-во дней до снятия с продажи: {data.days_exposition.mean()}')\n",
    "#print(f'Медиана : {data.days_exposition.median()}')\n",
    "data['days_exposition'].describe()"
   ]
  },
  {
   "attachments": {},
   "cell_type": "markdown",
   "metadata": {},
   "source": [
    "**Вывод:** Чаще всего квартиры продаются за 45 или 60 дней. Более половины квартир продаются в первые 100 дней после появления объявления. Долгими можно считать объявления, которые \"висят\" более 230 дней. "
   ]
  },
  {
   "attachments": {},
   "cell_type": "markdown",
   "metadata": {},
   "source": [
    "**Задание:** \"Какие факторы больше всего влияют на общую (полную) стоимость объекта? Постройте графики, которые покажут зависимость цены от указанных ниже параметров. Для подготовки данных перед визуализацией вы можете использовать сводные таблицы.\""
   ]
  },
  {
   "cell_type": "code",
   "execution_count": 50,
   "metadata": {},
   "outputs": [
    {
     "data": {
      "text/plain": [
       "last_price      1.000000\n",
       "total_area      0.653743\n",
       "living_area     0.566517\n",
       "kitchen_area    0.520233\n",
       "rooms           0.363421\n",
       "days            0.001607\n",
       "month           0.002741\n",
       "year           -0.042927\n",
       "Name: last_price, dtype: float64"
      ]
     },
     "execution_count": 50,
     "metadata": {},
     "output_type": "execute_result"
    }
   ],
   "source": [
    "corr_data = data[['last_price','total_area', 'living_area', 'kitchen_area','rooms','floor_category','days','month','year']].corr() #floor_category\n",
    "corr_data['last_price']"
   ]
  },
  {
   "cell_type": "code",
   "execution_count": 51,
   "metadata": {
    "scrolled": false
   },
   "outputs": [],
   "source": [
    "pivot_data = data.pivot_table(index='locality_name',values=['last_price','total_area', 'living_area', 'kitchen_area','rooms','floor_category','days','month','year'],aggfunc='mean')\n",
    "#pd.plotting.scatter_matrix(pivot_data, figsize=(15, 15))\n",
    "#plt.show()"
   ]
  },
  {
   "cell_type": "code",
   "execution_count": 52,
   "metadata": {},
   "outputs": [
    {
     "data": {
      "image/png": "[encoded data removed]",
      "text/plain": [
       "<Figure size 720x432 with 1 Axes>"
      ]
     },
     "metadata": {
      "needs_background": "light"
     },
     "output_type": "display_data"
    }
   ],
   "source": [
    "data.plot(kind='scatter',x='total_area', y='last_price',xlabel='Полная площадь',ylabel='Цена квартиры',title='Зависимоть цены квартиры от полной площади',figsize=(10,6),xlim=(20,120), ylim=(1000000,35000000))\n",
    "plt.show()"
   ]
  },
  {
   "cell_type": "code",
   "execution_count": 53,
   "metadata": {},
   "outputs": [
    {
     "data": {
      "image/png": "[encoded data removed]",
      "text/plain": [
       "<Figure size 720x432 with 1 Axes>"
      ]
     },
     "metadata": {
      "needs_background": "light"
     },
     "output_type": "display_data"
    }
   ],
   "source": [
    "data.plot(kind='scatter',x='living_area', y='last_price',xlabel='Жилая площадь',ylabel='Цена квартиры',title='Зависимоть цены квартиры от полной площади',figsize=(10,6),xlim=(10,100), ylim=(1000000,35000000))\n",
    "plt.show()"
   ]
  },
  {
   "cell_type": "code",
   "execution_count": 54,
   "metadata": {},
   "outputs": [
    {
     "data": {
      "image/png": "[encoded data removed]",
      "text/plain": [
       "<Figure size 720x432 with 1 Axes>"
      ]
     },
     "metadata": {
      "needs_background": "light"
     },
     "output_type": "display_data"
    }
   ],
   "source": [
    "data.plot(kind='scatter',x='kitchen_area', y='last_price',xlabel='Площадь кухни',ylabel='Цена квартиры',title='Зависимоть цены квартиры от полной площади',figsize=(10,6),xlim=(5,30), ylim=(1000000,35000000))\n",
    "plt.show()"
   ]
  },
  {
   "cell_type": "code",
   "execution_count": 55,
   "metadata": {},
   "outputs": [
    {
     "data": {
      "image/png": "[encoded data removed]",
      "text/plain": [
       "<Figure size 720x432 with 1 Axes>"
      ]
     },
     "metadata": {
      "needs_background": "light"
     },
     "output_type": "display_data"
    }
   ],
   "source": [
    "data.plot(kind='scatter',x='days', y='last_price',xlabel='День публикации',ylabel='Цена квартиры',title='Зависимоть цены квартиры от дня публикации',figsize=(10,6),xlim=(0,7), ylim=(1000000,35000000))\n",
    "plt.show()"
   ]
  },
  {
   "cell_type": "code",
   "execution_count": 56,
   "metadata": {},
   "outputs": [
    {
     "data": {
      "image/png": "[encoded data removed]",
      "text/plain": [
       "<Figure size 720x432 with 1 Axes>"
      ]
     },
     "metadata": {
      "needs_background": "light"
     },
     "output_type": "display_data"
    }
   ],
   "source": [
    "data.plot(kind='scatter',x='month', y='last_price',xlabel='Месяц публикации',ylabel='Цена квартиры',title='Зависимоть цены квартиры от месяца пуликации',figsize=(10,6),xlim=(0,12), ylim=(1000000,35000000))\n",
    "plt.show()"
   ]
  },
  {
   "cell_type": "code",
   "execution_count": 57,
   "metadata": {},
   "outputs": [
    {
     "data": {
      "image/png": "[encoded data removed]",
      "text/plain": [
       "<Figure size 720x432 with 1 Axes>"
      ]
     },
     "metadata": {
      "needs_background": "light"
     },
     "output_type": "display_data"
    }
   ],
   "source": [
    "data.plot(kind='scatter',x='year', y='last_price',xlabel='Год',ylabel='Цена квартиры',title='Зависимоть цены квартиры от года публикации',figsize=(10,6),xlim=(2013,2020), ylim=(1000000,35000000))\n",
    "plt.show()"
   ]
  },
  {
   "cell_type": "code",
   "execution_count": 58,
   "metadata": {},
   "outputs": [
    {
     "data": {
      "image/png": "[encoded data removed]",
      "text/plain": [
       "<Figure size 720x432 with 1 Axes>"
      ]
     },
     "metadata": {
      "needs_background": "light"
     },
     "output_type": "display_data"
    }
   ],
   "source": [
    "data.plot(kind='scatter',x='rooms', y='last_price',xlabel='Комнат',ylabel='Цена квартиры',title='Зависимоть цены квартиры от кол-ва комнат',figsize=(10,6),xticks=range(1,7),xlim=(1,6))\n",
    "plt.show()"
   ]
  },
  {
   "cell_type": "code",
   "execution_count": 59,
   "metadata": {},
   "outputs": [
    {
     "data": {
      "image/png": "[encoded data removed]",
      "text/plain": [
       "<Figure size 720x432 with 1 Axes>"
      ]
     },
     "metadata": {
      "needs_background": "light"
     },
     "output_type": "display_data"
    }
   ],
   "source": [
    "data.plot(kind='scatter',x='floor_category', y='last_price',xlabel='Категория',ylabel='Цена квартиры',title='Зависимоть цены квартиры от категории этажа',figsize=(10,6))\n",
    "plt.show()"
   ]
  },
  {
   "cell_type": "code",
   "execution_count": 60,
   "metadata": {},
   "outputs": [
    {
     "data": {
      "text/html": [
       "<div>\n",
       "<style scoped>\n",
       "    .dataframe tbody tr th:only-of-type {\n",
       "        vertical-align: middle;\n",
       "    }\n",
       "\n",
       "    .dataframe tbody tr th {\n",
       "        vertical-align: top;\n",
       "    }\n",
       "\n",
       "    .dataframe thead th {\n",
       "        text-align: right;\n",
       "    }\n",
       "</style>\n",
       "<table border=\"1\" class=\"dataframe\">\n",
       "  <thead>\n",
       "    <tr style=\"text-align: right;\">\n",
       "      <th></th>\n",
       "      <th>Среднняя цена</th>\n",
       "      <th>Медианная цена</th>\n",
       "    </tr>\n",
       "    <tr>\n",
       "      <th>floor_category</th>\n",
       "      <th></th>\n",
       "      <th></th>\n",
       "    </tr>\n",
       "  </thead>\n",
       "  <tbody>\n",
       "    <tr>\n",
       "      <th>другой</th>\n",
       "      <td>6.675825e+06</td>\n",
       "      <td>4850000.0</td>\n",
       "    </tr>\n",
       "    <tr>\n",
       "      <th>первый</th>\n",
       "      <td>4.800465e+06</td>\n",
       "      <td>3900000.0</td>\n",
       "    </tr>\n",
       "    <tr>\n",
       "      <th>последний</th>\n",
       "      <td>7.359138e+06</td>\n",
       "      <td>4300000.0</td>\n",
       "    </tr>\n",
       "  </tbody>\n",
       "</table>\n",
       "</div>"
      ],
      "text/plain": [
       "                Среднняя цена  Медианная цена\n",
       "floor_category                               \n",
       "другой           6.675825e+06       4850000.0\n",
       "первый           4.800465e+06       3900000.0\n",
       "последний        7.359138e+06       4300000.0"
      ]
     },
     "execution_count": 60,
     "metadata": {},
     "output_type": "execute_result"
    }
   ],
   "source": [
    "pivot_floor = data.pivot_table(index='floor_category',values='last_price',aggfunc=('mean','median'))\n",
    "pivot_floor.rename(columns={'mean': 'Среднняя цена','median':'Медианная цена'})"
   ]
  },
  {
   "attachments": {},
   "cell_type": "markdown",
   "metadata": {},
   "source": [
    "**Вывод:**  Наибольшее влияние на стоимость оказывает площадь квартиры. Далее идут жилая площадь, площадь кухни и количество комнат. День и месяц публикации практически не оказывают влияния на стоимость. Цена квартир на первых этажах ниже, чем у квартир на других этажах. Квартиры на последних этажах также менее предпочтительны, вследствие чего их цена меньше, чем у квартир на других этажах."
   ]
  },
  {
   "attachments": {},
   "cell_type": "markdown",
   "metadata": {},
   "source": [
    "<div class=\"alert alert-info\"> Цена квартир на первых этажах ниже, чем у квартир на других этажах. Квартиры на последних этажах также менее предпочтительны, вследствие чего их цена меньше, чем у квартир на других этажах.</div>"
   ]
  },
  {
   "attachments": {},
   "cell_type": "markdown",
   "metadata": {},
   "source": [
    "**Задание:** \"Посчитайте среднюю цену одного квадратного метра в 10 населённых пунктах с наибольшим числом объявлений. Выделите населённые пункты с самой высокой и низкой стоимостью квадратного метра. Эти данные можно найти по имени в столбце locality_name.\""
   ]
  },
  {
   "cell_type": "code",
   "execution_count": 61,
   "metadata": {},
   "outputs": [
    {
     "data": {
      "text/html": [
       "<div>\n",
       "<style scoped>\n",
       "    .dataframe tbody tr th:only-of-type {\n",
       "        vertical-align: middle;\n",
       "    }\n",
       "\n",
       "    .dataframe tbody tr th {\n",
       "        vertical-align: top;\n",
       "    }\n",
       "\n",
       "    .dataframe thead th {\n",
       "        text-align: right;\n",
       "    }\n",
       "</style>\n",
       "<table border=\"1\" class=\"dataframe\">\n",
       "  <thead>\n",
       "    <tr style=\"text-align: right;\">\n",
       "      <th></th>\n",
       "      <th>Кол-во</th>\n",
       "      <th>Средняя цена за кв.м</th>\n",
       "    </tr>\n",
       "    <tr>\n",
       "      <th>locality_name</th>\n",
       "      <th></th>\n",
       "      <th></th>\n",
       "    </tr>\n",
       "  </thead>\n",
       "  <tbody>\n",
       "    <tr>\n",
       "      <th>Санкт-Петербург</th>\n",
       "      <td>15721</td>\n",
       "      <td>114849.005788</td>\n",
       "    </tr>\n",
       "    <tr>\n",
       "      <th>Мурино</th>\n",
       "      <td>590</td>\n",
       "      <td>86087.508475</td>\n",
       "    </tr>\n",
       "    <tr>\n",
       "      <th>Кудрово</th>\n",
       "      <td>472</td>\n",
       "      <td>95324.957627</td>\n",
       "    </tr>\n",
       "    <tr>\n",
       "      <th>Шушары</th>\n",
       "      <td>440</td>\n",
       "      <td>78677.379545</td>\n",
       "    </tr>\n",
       "    <tr>\n",
       "      <th>Всеволожск</th>\n",
       "      <td>398</td>\n",
       "      <td>68654.474874</td>\n",
       "    </tr>\n",
       "    <tr>\n",
       "      <th>Пушкин</th>\n",
       "      <td>369</td>\n",
       "      <td>103125.818428</td>\n",
       "    </tr>\n",
       "    <tr>\n",
       "      <th>Колпино</th>\n",
       "      <td>338</td>\n",
       "      <td>75424.571006</td>\n",
       "    </tr>\n",
       "    <tr>\n",
       "      <th>Парголово</th>\n",
       "      <td>327</td>\n",
       "      <td>90175.886850</td>\n",
       "    </tr>\n",
       "    <tr>\n",
       "      <th>Гатчина</th>\n",
       "      <td>307</td>\n",
       "      <td>68746.110749</td>\n",
       "    </tr>\n",
       "    <tr>\n",
       "      <th>Выборг</th>\n",
       "      <td>237</td>\n",
       "      <td>58141.919831</td>\n",
       "    </tr>\n",
       "  </tbody>\n",
       "</table>\n",
       "</div>"
      ],
      "text/plain": [
       "                 Кол-во  Средняя цена за кв.м\n",
       "locality_name                                \n",
       "Санкт-Петербург   15721         114849.005788\n",
       "Мурино              590          86087.508475\n",
       "Кудрово             472          95324.957627\n",
       "Шушары              440          78677.379545\n",
       "Всеволожск          398          68654.474874\n",
       "Пушкин              369         103125.818428\n",
       "Колпино             338          75424.571006\n",
       "Парголово           327          90175.886850\n",
       "Гатчина             307          68746.110749\n",
       "Выборг              237          58141.919831"
      ]
     },
     "execution_count": 61,
     "metadata": {},
     "output_type": "execute_result"
    }
   ],
   "source": [
    "pivot_1 = data.pivot_table(index='locality_name', values=['price_per_m2'], aggfunc={'price_per_m2' : 'mean', 'locality_name' : 'count'})\n",
    "pivot_1.rename(columns={'locality_name':'Кол-во','price_per_m2':'Средняя цена за кв.м'},inplace=True)\n",
    "pivot_1.sort_values(by='Кол-во',ascending=False).head(10)"
   ]
  },
  {
   "cell_type": "code",
   "execution_count": 62,
   "metadata": {},
   "outputs": [
    {
     "data": {
      "text/plain": [
       "locality_name\n",
       "Зеленогорск    115122.75\n",
       "Name: Средняя цена за кв.м, dtype: float64"
      ]
     },
     "execution_count": 62,
     "metadata": {},
     "output_type": "execute_result"
    }
   ],
   "source": [
    "pivot_1.loc[pivot_1['Средняя цена за кв.м'] == pivot_1['Средняя цена за кв.м'].max(),'Средняя цена за кв.м']"
   ]
  },
  {
   "cell_type": "code",
   "execution_count": 63,
   "metadata": {},
   "outputs": [
    {
     "data": {
      "text/plain": [
       "locality_name\n",
       "Старополье    11206.333333\n",
       "Name: Средняя цена за кв.м, dtype: float64"
      ]
     },
     "execution_count": 63,
     "metadata": {},
     "output_type": "execute_result"
    }
   ],
   "source": [
    "pivot_1.loc[pivot_1['Средняя цена за кв.м'] == pivot_1['Средняя цена за кв.м'].min(),'Средняя цена за кв.м']"
   ]
  },
  {
   "attachments": {},
   "cell_type": "markdown",
   "metadata": {},
   "source": [
    "**Вывод:** Выведены данные о средней стоимости за квадратный метр в 10 населенных пунктах с наибольшим количеством объявлений. Максимальная стоимость квадратного метра в Зеленогорск, минимальная в Старополье."
   ]
  },
  {
   "attachments": {},
   "cell_type": "markdown",
   "metadata": {},
   "source": [
    "**Задание:** \"Ранее вы посчитали расстояние до центра в километрах. Теперь выделите квартиры в Санкт-Петербурге с помощью столбца locality_name и вычислите среднюю цену каждого километра. Опишите, как стоимость объектов зависит от расстояния до центра города.\""
   ]
  },
  {
   "cell_type": "code",
   "execution_count": 64,
   "metadata": {},
   "outputs": [
    {
     "data": {
      "text/html": [
       "<div>\n",
       "<style scoped>\n",
       "    .dataframe tbody tr th:only-of-type {\n",
       "        vertical-align: middle;\n",
       "    }\n",
       "\n",
       "    .dataframe tbody tr th {\n",
       "        vertical-align: top;\n",
       "    }\n",
       "\n",
       "    .dataframe thead th {\n",
       "        text-align: right;\n",
       "    }\n",
       "</style>\n",
       "<table border=\"1\" class=\"dataframe\">\n",
       "  <thead>\n",
       "    <tr style=\"text-align: right;\">\n",
       "      <th></th>\n",
       "      <th>Средняя цена квартиры</th>\n",
       "      <th>Средняя цена за кв.м</th>\n",
       "    </tr>\n",
       "    <tr>\n",
       "      <th>cityCenters_nearest_km</th>\n",
       "      <th></th>\n",
       "      <th></th>\n",
       "    </tr>\n",
       "  </thead>\n",
       "  <tbody>\n",
       "    <tr>\n",
       "      <th>0.0</th>\n",
       "      <td>3.144912e+07</td>\n",
       "      <td>245833.518519</td>\n",
       "    </tr>\n",
       "    <tr>\n",
       "      <th>1.0</th>\n",
       "      <td>2.120672e+07</td>\n",
       "      <td>177005.395833</td>\n",
       "    </tr>\n",
       "    <tr>\n",
       "      <th>2.0</th>\n",
       "      <td>1.778832e+07</td>\n",
       "      <td>157848.983871</td>\n",
       "    </tr>\n",
       "    <tr>\n",
       "      <th>3.0</th>\n",
       "      <td>1.112658e+07</td>\n",
       "      <td>121387.442857</td>\n",
       "    </tr>\n",
       "    <tr>\n",
       "      <th>4.0</th>\n",
       "      <td>1.330428e+07</td>\n",
       "      <td>133282.873547</td>\n",
       "    </tr>\n",
       "    <tr>\n",
       "      <th>5.0</th>\n",
       "      <td>1.449912e+07</td>\n",
       "      <td>140509.786957</td>\n",
       "    </tr>\n",
       "    <tr>\n",
       "      <th>6.0</th>\n",
       "      <td>1.533842e+07</td>\n",
       "      <td>151012.189320</td>\n",
       "    </tr>\n",
       "    <tr>\n",
       "      <th>7.0</th>\n",
       "      <td>1.477515e+07</td>\n",
       "      <td>156176.866667</td>\n",
       "    </tr>\n",
       "    <tr>\n",
       "      <th>8.0</th>\n",
       "      <td>9.957717e+06</td>\n",
       "      <td>125671.440536</td>\n",
       "    </tr>\n",
       "    <tr>\n",
       "      <th>9.0</th>\n",
       "      <td>6.950659e+06</td>\n",
       "      <td>113131.025295</td>\n",
       "    </tr>\n",
       "  </tbody>\n",
       "</table>\n",
       "</div>"
      ],
      "text/plain": [
       "                        Средняя цена квартиры  Средняя цена за кв.м\n",
       "cityCenters_nearest_km                                             \n",
       "0.0                              3.144912e+07         245833.518519\n",
       "1.0                              2.120672e+07         177005.395833\n",
       "2.0                              1.778832e+07         157848.983871\n",
       "3.0                              1.112658e+07         121387.442857\n",
       "4.0                              1.330428e+07         133282.873547\n",
       "5.0                              1.449912e+07         140509.786957\n",
       "6.0                              1.533842e+07         151012.189320\n",
       "7.0                              1.477515e+07         156176.866667\n",
       "8.0                              9.957717e+06         125671.440536\n",
       "9.0                              6.950659e+06         113131.025295"
      ]
     },
     "execution_count": 64,
     "metadata": {},
     "output_type": "execute_result"
    }
   ],
   "source": [
    "pivot_2 = data.query('locality_name == \"Санкт-Петербург\"').pivot_table(index='cityCenters_nearest_km',values=['price_per_m2','last_price'])\n",
    "pivot_2.rename(columns={'price_per_m2':'Средняя цена за кв.м','last_price':'Средняя цена квартиры'},inplace=True)\n",
    "pivot_2.head(10)"
   ]
  },
  {
   "cell_type": "code",
   "execution_count": 65,
   "metadata": {},
   "outputs": [
    {
     "data": {
      "image/png": "[encoded data removed]",
      "text/plain": [
       "<Figure size 648x432 with 1 Axes>"
      ]
     },
     "metadata": {
      "needs_background": "light"
     },
     "output_type": "display_data"
    }
   ],
   "source": [
    "pivot_2.plot(y='Средняя цена квартиры',grid=True,figsize=(9,6),ylabel='Средняя цена квартиры', title = 'Зависимость средней цены квартиры от удаленности от центра города')\n",
    "plt.show()"
   ]
  },
  {
   "attachments": {},
   "cell_type": "markdown",
   "metadata": {},
   "source": [
    "**Вывод:** Стоимость квартир в Санкт-Петербурге по удалению от цетра города падает."
   ]
  },
  {
   "attachments": {},
   "cell_type": "markdown",
   "metadata": {},
   "source": [
    "### Общий вывод"
   ]
  },
  {
   "attachments": {},
   "cell_type": "markdown",
   "metadata": {},
   "source": [
    "Проведена работа с данными о продаже квартир в Санкт-Петербурге и соседних населенных пунктах за несколько лет. Выполнена предобработка данных(заполнение пропусков, удаление неявных дубликатов и аномальных значений). Расмотрены и изучены данные датасета.\n",
    "\n",
    "Наибольшее количество квартир с площадью примерно 45 кв.м. Пики в количестве объявлений наблюдаются у квартир площадью 32 кв.м и 60 кв.м. Самая часто встречаемая жилая площадь порядка 30 кв.м, а кухни порядка 10 кв.м. \n",
    "\n",
    "В объявлениях больше всего квартир стоимостью порядка 4 млн. руб. Меньше всего объявлений с квартирами на первых этажах. \n",
    "\n",
    "В будние дни публицуется больше объявлений, чем в выходные. Больше всего объявлений публикуется в декабре, практически нет объявлений в январе.\n",
    "\n",
    "Чаще всего квартиры продаются за 45 или 60 дней, при этом более половины квартир продаются в первые 100 дней после появления объявления. Менее удачными можно считать объявления, которые продавались более 230 дней.\n",
    "\n",
    "Наибольшее влияние на стоимость оказывает площадь квартиры. Далее идут жилая площадь, площадь кухни и количество комнат. День и месяц публикации практически не оказывают влияния на стоимость.\n",
    "\n",
    "Максимальная стоимость квадратного метра в Зеленогорск, минимальная в Старополье.\n",
    "\n",
    "Стоимость квартир в города Санкт-Петербург падает по удалению от цетра города.\n",
    "\n"
   ]
  },
  {
   "attachments": {},
   "cell_type": "markdown",
   "metadata": {},
   "source": [
    "<div class=\"alert alert-info\"> Цена квартир на первых этажах ниже, чем у квартир на других этажах. Квартиры на последних этажах также менее предпочтительны, вследствие чего их цена меньше, чем у квартир на других этажах.</div>"
   ]
  }
 ],
 "metadata": {
  "ExecuteTimeLog": [
   {
    "duration": 464,
    "start_time": "2022-09-30T08:49:52.962Z"
   },
   {
    "duration": 411,
    "start_time": "2022-09-30T08:49:55.011Z"
   },
   {
    "duration": 20,
    "start_time": "2022-09-30T08:49:56.894Z"
   },
   {
    "duration": 10,
    "start_time": "2022-09-30T08:51:26.357Z"
   },
   {
    "duration": 103,
    "start_time": "2022-09-30T08:57:43.713Z"
   },
   {
    "duration": 20,
    "start_time": "2022-09-30T08:57:47.606Z"
   },
   {
    "duration": 26,
    "start_time": "2022-09-30T08:57:49.305Z"
   },
   {
    "duration": 4,
    "start_time": "2022-09-30T09:00:40.406Z"
   },
   {
    "duration": 74,
    "start_time": "2022-09-30T09:01:22.731Z"
   },
   {
    "duration": 8,
    "start_time": "2022-09-30T09:01:33.535Z"
   },
   {
    "duration": 8,
    "start_time": "2022-09-30T09:47:48.575Z"
   },
   {
    "duration": 13,
    "start_time": "2022-09-30T09:47:50.904Z"
   },
   {
    "duration": 35,
    "start_time": "2022-09-30T09:48:06.989Z"
   },
   {
    "duration": 17,
    "start_time": "2022-09-30T09:52:24.041Z"
   },
   {
    "duration": 5,
    "start_time": "2022-09-30T09:52:52.129Z"
   },
   {
    "duration": 6,
    "start_time": "2022-09-30T09:53:14.232Z"
   },
   {
    "duration": 52,
    "start_time": "2022-09-30T09:54:33.514Z"
   },
   {
    "duration": 10,
    "start_time": "2022-09-30T09:54:40.018Z"
   },
   {
    "duration": 23,
    "start_time": "2022-09-30T09:59:34.999Z"
   },
   {
    "duration": 4,
    "start_time": "2022-09-30T10:01:28.466Z"
   },
   {
    "duration": 8,
    "start_time": "2022-09-30T10:01:42.740Z"
   },
   {
    "duration": 9,
    "start_time": "2022-09-30T10:01:53.531Z"
   },
   {
    "duration": 115,
    "start_time": "2022-09-30T10:02:36.653Z"
   },
   {
    "duration": 75,
    "start_time": "2022-09-30T10:03:13.318Z"
   },
   {
    "duration": 110,
    "start_time": "2022-09-30T10:04:02.120Z"
   },
   {
    "duration": 3,
    "start_time": "2022-09-30T11:29:22.825Z"
   },
   {
    "duration": 15,
    "start_time": "2022-09-30T11:29:29.749Z"
   },
   {
    "duration": 10,
    "start_time": "2022-09-30T11:32:26.100Z"
   },
   {
    "duration": 2480,
    "start_time": "2022-09-30T11:32:41.992Z"
   },
   {
    "duration": 25,
    "start_time": "2022-09-30T11:46:16.429Z"
   },
   {
    "duration": 5,
    "start_time": "2022-09-30T11:55:54.501Z"
   },
   {
    "duration": 18,
    "start_time": "2022-09-30T11:55:57.574Z"
   },
   {
    "duration": 6,
    "start_time": "2022-09-30T11:58:04.033Z"
   },
   {
    "duration": 12,
    "start_time": "2022-09-30T12:02:05.174Z"
   },
   {
    "duration": 7,
    "start_time": "2022-09-30T12:02:09.766Z"
   },
   {
    "duration": 19,
    "start_time": "2022-09-30T12:02:39.300Z"
   },
   {
    "duration": 8,
    "start_time": "2022-09-30T12:02:54.214Z"
   },
   {
    "duration": 6,
    "start_time": "2022-09-30T12:03:02.359Z"
   },
   {
    "duration": 8,
    "start_time": "2022-09-30T12:19:48.749Z"
   },
   {
    "duration": 59,
    "start_time": "2022-09-30T12:21:22.998Z"
   },
   {
    "duration": 7,
    "start_time": "2022-09-30T12:21:28.518Z"
   },
   {
    "duration": 52,
    "start_time": "2022-10-01T10:33:34.423Z"
   },
   {
    "duration": 469,
    "start_time": "2022-10-01T10:33:40.043Z"
   },
   {
    "duration": 197,
    "start_time": "2022-10-01T10:33:40.514Z"
   },
   {
    "duration": 23,
    "start_time": "2022-10-01T10:33:40.714Z"
   },
   {
    "duration": 85,
    "start_time": "2022-10-01T10:33:40.741Z"
   },
   {
    "duration": 3070,
    "start_time": "2022-10-01T10:33:40.829Z"
   },
   {
    "duration": 10,
    "start_time": "2022-10-01T10:33:43.903Z"
   },
   {
    "duration": 15,
    "start_time": "2022-10-01T10:33:43.916Z"
   },
   {
    "duration": 13,
    "start_time": "2022-10-01T10:33:43.933Z"
   },
   {
    "duration": 9,
    "start_time": "2022-10-01T10:33:43.948Z"
   },
   {
    "duration": 14,
    "start_time": "2022-10-01T10:33:43.961Z"
   },
   {
    "duration": 20,
    "start_time": "2022-10-01T10:33:43.977Z"
   },
   {
    "duration": 35,
    "start_time": "2022-10-01T10:33:43.999Z"
   },
   {
    "duration": 14,
    "start_time": "2022-10-01T10:33:44.037Z"
   },
   {
    "duration": 18,
    "start_time": "2022-10-01T10:33:44.057Z"
   },
   {
    "duration": 47,
    "start_time": "2022-10-01T10:33:44.077Z"
   },
   {
    "duration": 10,
    "start_time": "2022-10-01T10:33:44.126Z"
   },
   {
    "duration": 12,
    "start_time": "2022-10-01T10:33:44.138Z"
   },
   {
    "duration": 9,
    "start_time": "2022-10-01T10:33:44.152Z"
   },
   {
    "duration": 117,
    "start_time": "2022-10-01T10:33:44.163Z"
   },
   {
    "duration": 0,
    "start_time": "2022-10-01T10:33:44.282Z"
   },
   {
    "duration": 0,
    "start_time": "2022-10-01T10:33:44.283Z"
   },
   {
    "duration": 15,
    "start_time": "2022-10-01T11:28:47.246Z"
   },
   {
    "duration": 49,
    "start_time": "2022-10-01T11:32:56.720Z"
   },
   {
    "duration": 30,
    "start_time": "2022-10-01T11:33:01.938Z"
   },
   {
    "duration": 8,
    "start_time": "2022-10-01T11:33:36.165Z"
   },
   {
    "duration": 8,
    "start_time": "2022-10-01T15:07:26.648Z"
   },
   {
    "duration": 8,
    "start_time": "2022-10-01T15:07:37.215Z"
   },
   {
    "duration": 11,
    "start_time": "2022-10-01T15:48:02.170Z"
   },
   {
    "duration": 11,
    "start_time": "2022-10-01T16:01:03.366Z"
   },
   {
    "duration": 398,
    "start_time": "2022-10-01T16:01:20.551Z"
   },
   {
    "duration": 109,
    "start_time": "2022-10-01T16:01:20.950Z"
   },
   {
    "duration": 17,
    "start_time": "2022-10-01T16:01:21.061Z"
   },
   {
    "duration": 77,
    "start_time": "2022-10-01T16:01:21.089Z"
   },
   {
    "duration": 2728,
    "start_time": "2022-10-01T16:01:21.169Z"
   },
   {
    "duration": 15,
    "start_time": "2022-10-01T16:01:23.901Z"
   },
   {
    "duration": 78,
    "start_time": "2022-10-01T16:01:23.918Z"
   },
   {
    "duration": 74,
    "start_time": "2022-10-01T16:01:24.000Z"
   },
   {
    "duration": 42,
    "start_time": "2022-10-01T16:01:24.076Z"
   },
   {
    "duration": 112,
    "start_time": "2022-10-01T16:01:24.120Z"
   },
   {
    "duration": 83,
    "start_time": "2022-10-01T16:01:24.234Z"
   },
   {
    "duration": 41,
    "start_time": "2022-10-01T16:01:24.319Z"
   },
   {
    "duration": 62,
    "start_time": "2022-10-01T16:01:24.362Z"
   },
   {
    "duration": 35,
    "start_time": "2022-10-01T16:01:24.429Z"
   },
   {
    "duration": 34,
    "start_time": "2022-10-01T16:01:24.465Z"
   },
   {
    "duration": 46,
    "start_time": "2022-10-01T16:01:24.501Z"
   },
   {
    "duration": 37,
    "start_time": "2022-10-01T16:01:24.549Z"
   },
   {
    "duration": 40,
    "start_time": "2022-10-01T16:01:24.588Z"
   },
   {
    "duration": 31,
    "start_time": "2022-10-01T16:01:24.630Z"
   },
   {
    "duration": 114,
    "start_time": "2022-10-01T16:01:24.662Z"
   },
   {
    "duration": 0,
    "start_time": "2022-10-01T16:01:24.778Z"
   },
   {
    "duration": 0,
    "start_time": "2022-10-01T16:01:24.779Z"
   },
   {
    "duration": 456,
    "start_time": "2022-10-01T16:09:21.762Z"
   },
   {
    "duration": 120,
    "start_time": "2022-10-01T16:09:22.222Z"
   },
   {
    "duration": 19,
    "start_time": "2022-10-01T16:09:22.344Z"
   },
   {
    "duration": 70,
    "start_time": "2022-10-01T16:09:22.365Z"
   },
   {
    "duration": 2496,
    "start_time": "2022-10-01T16:09:22.437Z"
   },
   {
    "duration": 11,
    "start_time": "2022-10-01T16:09:24.935Z"
   },
   {
    "duration": 7,
    "start_time": "2022-10-01T16:09:24.948Z"
   },
   {
    "duration": 12,
    "start_time": "2022-10-01T16:09:24.956Z"
   },
   {
    "duration": 20,
    "start_time": "2022-10-01T16:09:24.970Z"
   },
   {
    "duration": 15,
    "start_time": "2022-10-01T16:09:25.001Z"
   },
   {
    "duration": 9,
    "start_time": "2022-10-01T16:09:25.018Z"
   },
   {
    "duration": 16,
    "start_time": "2022-10-01T16:09:25.030Z"
   },
   {
    "duration": 15,
    "start_time": "2022-10-01T16:09:25.049Z"
   },
   {
    "duration": 14,
    "start_time": "2022-10-01T16:09:25.066Z"
   },
   {
    "duration": 39,
    "start_time": "2022-10-01T16:09:25.082Z"
   },
   {
    "duration": 23,
    "start_time": "2022-10-01T16:09:25.122Z"
   },
   {
    "duration": 17,
    "start_time": "2022-10-01T16:09:25.147Z"
   },
   {
    "duration": 11,
    "start_time": "2022-10-01T16:09:25.166Z"
   },
   {
    "duration": 33,
    "start_time": "2022-10-01T16:09:25.180Z"
   },
   {
    "duration": 106,
    "start_time": "2022-10-01T16:09:25.215Z"
   },
   {
    "duration": 0,
    "start_time": "2022-10-01T16:09:25.323Z"
   },
   {
    "duration": 0,
    "start_time": "2022-10-01T16:09:25.324Z"
   },
   {
    "duration": 5,
    "start_time": "2022-10-01T18:41:59.127Z"
   },
   {
    "duration": 10,
    "start_time": "2022-10-01T18:47:23.901Z"
   },
   {
    "duration": 78,
    "start_time": "2022-10-01T19:02:24.581Z"
   },
   {
    "duration": 4,
    "start_time": "2022-10-01T19:02:37.717Z"
   },
   {
    "duration": 297,
    "start_time": "2022-10-01T19:02:42.846Z"
   },
   {
    "duration": 2344,
    "start_time": "2022-10-01T19:03:27.287Z"
   },
   {
    "duration": 78,
    "start_time": "2022-10-01T19:10:58.396Z"
   },
   {
    "duration": 83,
    "start_time": "2022-10-01T19:11:52.883Z"
   },
   {
    "duration": 9,
    "start_time": "2022-10-01T19:14:54.342Z"
   },
   {
    "duration": 8,
    "start_time": "2022-10-01T19:15:05.141Z"
   },
   {
    "duration": 7,
    "start_time": "2022-10-01T19:15:11.993Z"
   },
   {
    "duration": 6,
    "start_time": "2022-10-01T19:15:35.231Z"
   },
   {
    "duration": 6,
    "start_time": "2022-10-01T19:16:01.607Z"
   },
   {
    "duration": 1243,
    "start_time": "2022-10-01T19:16:47.905Z"
   },
   {
    "duration": 1252,
    "start_time": "2022-10-01T19:17:11.042Z"
   },
   {
    "duration": 1248,
    "start_time": "2022-10-01T19:17:27.694Z"
   },
   {
    "duration": 1231,
    "start_time": "2022-10-01T19:17:41.402Z"
   },
   {
    "duration": 1175,
    "start_time": "2022-10-01T19:17:51.105Z"
   },
   {
    "duration": 10,
    "start_time": "2022-10-01T19:18:07.707Z"
   },
   {
    "duration": 8,
    "start_time": "2022-10-01T19:18:16.147Z"
   },
   {
    "duration": 7,
    "start_time": "2022-10-01T19:18:51.282Z"
   },
   {
    "duration": 7,
    "start_time": "2022-10-01T19:21:08.150Z"
   },
   {
    "duration": 5,
    "start_time": "2022-10-01T19:22:23.344Z"
   },
   {
    "duration": 8,
    "start_time": "2022-10-01T19:22:44.780Z"
   },
   {
    "duration": 23,
    "start_time": "2022-10-01T19:42:24.577Z"
   },
   {
    "duration": 7,
    "start_time": "2022-10-01T19:42:40.956Z"
   },
   {
    "duration": 7,
    "start_time": "2022-10-01T19:43:25.909Z"
   },
   {
    "duration": 5,
    "start_time": "2022-10-01T19:43:52.437Z"
   },
   {
    "duration": 1468,
    "start_time": "2022-10-01T19:44:19.967Z"
   },
   {
    "duration": 12,
    "start_time": "2022-10-01T19:44:33.111Z"
   },
   {
    "duration": 12,
    "start_time": "2022-10-01T19:44:43.878Z"
   },
   {
    "duration": 39,
    "start_time": "2022-10-01T19:45:42.601Z"
   },
   {
    "duration": 10,
    "start_time": "2022-10-01T19:45:44.704Z"
   },
   {
    "duration": 7,
    "start_time": "2022-10-01T19:47:09.155Z"
   },
   {
    "duration": 9,
    "start_time": "2022-10-01T19:47:24.698Z"
   },
   {
    "duration": 7,
    "start_time": "2022-10-01T20:06:13.172Z"
   },
   {
    "duration": 9,
    "start_time": "2022-10-01T20:06:23.603Z"
   },
   {
    "duration": 12,
    "start_time": "2022-10-01T21:29:17.162Z"
   },
   {
    "duration": 9,
    "start_time": "2022-10-01T21:29:43.002Z"
   },
   {
    "duration": 50,
    "start_time": "2022-10-02T08:07:14.513Z"
   },
   {
    "duration": 422,
    "start_time": "2022-10-02T08:07:18.757Z"
   },
   {
    "duration": 308,
    "start_time": "2022-10-02T08:07:19.181Z"
   },
   {
    "duration": 14,
    "start_time": "2022-10-02T08:07:19.491Z"
   },
   {
    "duration": 51,
    "start_time": "2022-10-02T08:07:19.507Z"
   },
   {
    "duration": 2276,
    "start_time": "2022-10-02T08:07:19.560Z"
   },
   {
    "duration": 9,
    "start_time": "2022-10-02T08:07:21.838Z"
   },
   {
    "duration": 5,
    "start_time": "2022-10-02T08:07:21.848Z"
   },
   {
    "duration": 10,
    "start_time": "2022-10-02T08:07:21.855Z"
   },
   {
    "duration": 12,
    "start_time": "2022-10-02T08:07:21.866Z"
   },
   {
    "duration": 9,
    "start_time": "2022-10-02T08:07:21.880Z"
   },
   {
    "duration": 13,
    "start_time": "2022-10-02T08:07:21.891Z"
   },
   {
    "duration": 11,
    "start_time": "2022-10-02T08:07:21.906Z"
   },
   {
    "duration": 3,
    "start_time": "2022-10-02T08:07:21.919Z"
   },
   {
    "duration": 15,
    "start_time": "2022-10-02T08:07:21.925Z"
   },
   {
    "duration": 9,
    "start_time": "2022-10-02T08:07:21.941Z"
   },
   {
    "duration": 25,
    "start_time": "2022-10-02T08:07:21.952Z"
   },
   {
    "duration": 21,
    "start_time": "2022-10-02T08:07:21.979Z"
   },
   {
    "duration": 22,
    "start_time": "2022-10-02T08:07:22.002Z"
   },
   {
    "duration": 16,
    "start_time": "2022-10-02T08:07:22.026Z"
   },
   {
    "duration": 7,
    "start_time": "2022-10-02T08:07:22.044Z"
   },
   {
    "duration": 11,
    "start_time": "2022-10-02T08:07:22.053Z"
   },
   {
    "duration": 11,
    "start_time": "2022-10-02T08:07:22.066Z"
   },
   {
    "duration": 17,
    "start_time": "2022-10-02T08:07:22.078Z"
   },
   {
    "duration": 30,
    "start_time": "2022-10-02T08:07:22.097Z"
   },
   {
    "duration": 9,
    "start_time": "2022-10-02T08:07:22.129Z"
   },
   {
    "duration": 49,
    "start_time": "2022-10-02T08:07:22.139Z"
   },
   {
    "duration": 12,
    "start_time": "2022-10-02T08:07:22.189Z"
   },
   {
    "duration": 2458,
    "start_time": "2022-10-02T08:07:22.202Z"
   },
   {
    "duration": 80,
    "start_time": "2022-10-02T08:07:24.662Z"
   },
   {
    "duration": 10,
    "start_time": "2022-10-02T08:07:52.257Z"
   },
   {
    "duration": 7,
    "start_time": "2022-10-02T08:07:56.281Z"
   },
   {
    "duration": 7,
    "start_time": "2022-10-02T08:08:10.017Z"
   },
   {
    "duration": 6,
    "start_time": "2022-10-02T08:08:13.993Z"
   },
   {
    "duration": 8,
    "start_time": "2022-10-02T08:08:20.313Z"
   },
   {
    "duration": 6,
    "start_time": "2022-10-02T08:08:25.777Z"
   },
   {
    "duration": 6,
    "start_time": "2022-10-02T08:09:47.771Z"
   },
   {
    "duration": 5,
    "start_time": "2022-10-02T13:12:58.340Z"
   },
   {
    "duration": 7,
    "start_time": "2022-10-02T14:00:52.369Z"
   },
   {
    "duration": 6,
    "start_time": "2022-10-02T14:01:08.089Z"
   },
   {
    "duration": 6,
    "start_time": "2022-10-02T14:01:18.964Z"
   },
   {
    "duration": 74,
    "start_time": "2022-10-02T14:01:23.313Z"
   },
   {
    "duration": 5,
    "start_time": "2022-10-02T14:01:25.930Z"
   },
   {
    "duration": 6,
    "start_time": "2022-10-02T14:01:37.274Z"
   },
   {
    "duration": 6,
    "start_time": "2022-10-02T14:01:44.794Z"
   },
   {
    "duration": 6,
    "start_time": "2022-10-02T14:01:53.211Z"
   },
   {
    "duration": 6,
    "start_time": "2022-10-02T14:01:57.531Z"
   },
   {
    "duration": 6,
    "start_time": "2022-10-02T14:02:08.138Z"
   },
   {
    "duration": 5,
    "start_time": "2022-10-02T14:02:16.965Z"
   },
   {
    "duration": 5,
    "start_time": "2022-10-02T14:02:24.139Z"
   },
   {
    "duration": 36,
    "start_time": "2022-10-02T14:24:33.425Z"
   },
   {
    "duration": 10,
    "start_time": "2022-10-02T14:37:48.835Z"
   },
   {
    "duration": 2256,
    "start_time": "2022-10-02T14:40:03.958Z"
   },
   {
    "duration": 8,
    "start_time": "2022-10-02T14:40:13.423Z"
   },
   {
    "duration": 5,
    "start_time": "2022-10-02T14:40:50.768Z"
   },
   {
    "duration": 4,
    "start_time": "2022-10-02T14:41:02.176Z"
   },
   {
    "duration": 72,
    "start_time": "2022-10-02T14:42:24.993Z"
   },
   {
    "duration": 7,
    "start_time": "2022-10-02T14:42:27.850Z"
   },
   {
    "duration": 7,
    "start_time": "2022-10-02T14:42:35.170Z"
   },
   {
    "duration": 121,
    "start_time": "2022-10-02T14:43:05.386Z"
   },
   {
    "duration": 5,
    "start_time": "2022-10-02T14:43:07.378Z"
   },
   {
    "duration": 7,
    "start_time": "2022-10-02T14:43:09.434Z"
   },
   {
    "duration": 2481,
    "start_time": "2022-10-02T14:43:13.298Z"
   },
   {
    "duration": 8,
    "start_time": "2022-10-02T14:43:54.428Z"
   },
   {
    "duration": 12,
    "start_time": "2022-10-02T14:44:27.484Z"
   },
   {
    "duration": 5,
    "start_time": "2022-10-02T14:44:29.524Z"
   },
   {
    "duration": 6,
    "start_time": "2022-10-02T14:44:32.372Z"
   },
   {
    "duration": 6,
    "start_time": "2022-10-02T14:44:34.188Z"
   },
   {
    "duration": 12,
    "start_time": "2022-10-02T14:45:01.173Z"
   },
   {
    "duration": 7,
    "start_time": "2022-10-02T14:45:03.620Z"
   },
   {
    "duration": 13,
    "start_time": "2022-10-02T14:45:11.997Z"
   },
   {
    "duration": 8,
    "start_time": "2022-10-02T14:45:42.013Z"
   },
   {
    "duration": 14,
    "start_time": "2022-10-02T14:46:48.712Z"
   },
   {
    "duration": 7,
    "start_time": "2022-10-02T14:46:50.239Z"
   },
   {
    "duration": 8,
    "start_time": "2022-10-02T14:46:55.263Z"
   },
   {
    "duration": 6,
    "start_time": "2022-10-02T14:47:03.772Z"
   },
   {
    "duration": 14,
    "start_time": "2022-10-02T14:47:14.664Z"
   },
   {
    "duration": 7,
    "start_time": "2022-10-02T14:47:15.808Z"
   },
   {
    "duration": 287,
    "start_time": "2022-10-02T14:49:14.027Z"
   },
   {
    "duration": 7,
    "start_time": "2022-10-02T14:49:16.028Z"
   },
   {
    "duration": 8,
    "start_time": "2022-10-02T14:50:17.956Z"
   },
   {
    "duration": 6,
    "start_time": "2022-10-02T15:05:48.937Z"
   },
   {
    "duration": 6,
    "start_time": "2022-10-02T15:06:08.297Z"
   },
   {
    "duration": 10,
    "start_time": "2022-10-02T15:06:15.081Z"
   },
   {
    "duration": 9,
    "start_time": "2022-10-02T15:06:34.465Z"
   },
   {
    "duration": 6,
    "start_time": "2022-10-02T15:06:36.481Z"
   },
   {
    "duration": 6,
    "start_time": "2022-10-02T15:06:52.945Z"
   },
   {
    "duration": 44,
    "start_time": "2022-10-03T15:54:50.333Z"
   },
   {
    "duration": 411,
    "start_time": "2022-10-03T15:54:55.424Z"
   },
   {
    "duration": 310,
    "start_time": "2022-10-03T15:54:55.837Z"
   },
   {
    "duration": 17,
    "start_time": "2022-10-03T15:54:56.148Z"
   },
   {
    "duration": 62,
    "start_time": "2022-10-03T15:54:56.167Z"
   },
   {
    "duration": 2258,
    "start_time": "2022-10-03T15:54:56.235Z"
   },
   {
    "duration": 10,
    "start_time": "2022-10-03T15:54:58.494Z"
   },
   {
    "duration": 6,
    "start_time": "2022-10-03T15:54:58.506Z"
   },
   {
    "duration": 8,
    "start_time": "2022-10-03T15:54:58.513Z"
   },
   {
    "duration": 9,
    "start_time": "2022-10-03T15:54:58.523Z"
   },
   {
    "duration": 9,
    "start_time": "2022-10-03T15:54:58.534Z"
   },
   {
    "duration": 7,
    "start_time": "2022-10-03T15:54:58.545Z"
   },
   {
    "duration": 9,
    "start_time": "2022-10-03T15:54:58.554Z"
   },
   {
    "duration": 5,
    "start_time": "2022-10-03T15:54:58.565Z"
   },
   {
    "duration": 3,
    "start_time": "2022-10-03T15:54:58.572Z"
   },
   {
    "duration": 8,
    "start_time": "2022-10-03T15:54:58.576Z"
   },
   {
    "duration": 7,
    "start_time": "2022-10-03T15:54:58.586Z"
   },
   {
    "duration": 10,
    "start_time": "2022-10-03T15:54:58.594Z"
   },
   {
    "duration": 7,
    "start_time": "2022-10-03T15:54:58.633Z"
   },
   {
    "duration": 9,
    "start_time": "2022-10-03T15:54:58.641Z"
   },
   {
    "duration": 9,
    "start_time": "2022-10-03T15:54:58.651Z"
   },
   {
    "duration": 8,
    "start_time": "2022-10-03T15:54:58.662Z"
   },
   {
    "duration": 6,
    "start_time": "2022-10-03T15:54:58.672Z"
   },
   {
    "duration": 8,
    "start_time": "2022-10-03T15:54:58.680Z"
   },
   {
    "duration": 11,
    "start_time": "2022-10-03T15:54:58.689Z"
   },
   {
    "duration": 44,
    "start_time": "2022-10-03T15:54:58.701Z"
   },
   {
    "duration": 53,
    "start_time": "2022-10-03T15:54:58.747Z"
   },
   {
    "duration": 7,
    "start_time": "2022-10-03T15:54:58.801Z"
   },
   {
    "duration": 42,
    "start_time": "2022-10-03T15:54:58.810Z"
   },
   {
    "duration": 10,
    "start_time": "2022-10-03T15:54:58.853Z"
   },
   {
    "duration": 265,
    "start_time": "2022-10-03T15:54:58.864Z"
   },
   {
    "duration": 7,
    "start_time": "2022-10-03T15:54:59.131Z"
   },
   {
    "duration": 14,
    "start_time": "2022-10-03T15:54:59.139Z"
   },
   {
    "duration": 6,
    "start_time": "2022-10-03T15:54:59.154Z"
   },
   {
    "duration": 3,
    "start_time": "2022-10-03T19:43:28.380Z"
   },
   {
    "duration": 7,
    "start_time": "2022-10-03T19:43:42.072Z"
   },
   {
    "duration": 7,
    "start_time": "2022-10-03T19:43:53.280Z"
   },
   {
    "duration": 76,
    "start_time": "2022-10-03T19:44:33.969Z"
   },
   {
    "duration": 7,
    "start_time": "2022-10-03T19:44:43.073Z"
   },
   {
    "duration": 53,
    "start_time": "2022-10-03T19:45:20.394Z"
   },
   {
    "duration": 64,
    "start_time": "2022-10-03T19:45:26.395Z"
   },
   {
    "duration": 17,
    "start_time": "2022-10-03T19:45:38.698Z"
   },
   {
    "duration": 11,
    "start_time": "2022-10-03T19:45:50.578Z"
   },
   {
    "duration": 46,
    "start_time": "2022-10-03T19:47:45.365Z"
   },
   {
    "duration": 14,
    "start_time": "2022-10-03T19:47:50.604Z"
   },
   {
    "duration": 17,
    "start_time": "2022-10-03T19:48:16.725Z"
   },
   {
    "duration": 12,
    "start_time": "2022-10-03T19:48:25.678Z"
   },
   {
    "duration": 8,
    "start_time": "2022-10-03T19:51:05.153Z"
   },
   {
    "duration": 8,
    "start_time": "2022-10-03T20:18:46.652Z"
   },
   {
    "duration": 15,
    "start_time": "2022-10-03T20:18:52.535Z"
   },
   {
    "duration": 13,
    "start_time": "2022-10-03T20:21:51.396Z"
   },
   {
    "duration": 13,
    "start_time": "2022-10-03T20:22:02.532Z"
   },
   {
    "duration": 54,
    "start_time": "2022-10-04T16:11:05.650Z"
   },
   {
    "duration": 432,
    "start_time": "2022-10-04T16:11:10.545Z"
   },
   {
    "duration": 306,
    "start_time": "2022-10-04T16:11:10.979Z"
   },
   {
    "duration": 17,
    "start_time": "2022-10-04T16:11:11.287Z"
   },
   {
    "duration": 60,
    "start_time": "2022-10-04T16:11:11.306Z"
   },
   {
    "duration": 2541,
    "start_time": "2022-10-04T16:11:11.368Z"
   },
   {
    "duration": 11,
    "start_time": "2022-10-04T16:11:13.911Z"
   },
   {
    "duration": 7,
    "start_time": "2022-10-04T16:11:13.924Z"
   },
   {
    "duration": 19,
    "start_time": "2022-10-04T16:11:13.933Z"
   },
   {
    "duration": 5,
    "start_time": "2022-10-04T16:11:13.954Z"
   },
   {
    "duration": 22,
    "start_time": "2022-10-04T16:11:13.961Z"
   },
   {
    "duration": 14,
    "start_time": "2022-10-04T16:11:13.985Z"
   },
   {
    "duration": 9,
    "start_time": "2022-10-04T16:11:14.001Z"
   },
   {
    "duration": 6,
    "start_time": "2022-10-04T16:11:14.012Z"
   },
   {
    "duration": 6,
    "start_time": "2022-10-04T16:11:14.021Z"
   },
   {
    "duration": 10,
    "start_time": "2022-10-04T16:11:14.028Z"
   },
   {
    "duration": 16,
    "start_time": "2022-10-04T16:11:14.040Z"
   },
   {
    "duration": 13,
    "start_time": "2022-10-04T16:11:14.057Z"
   },
   {
    "duration": 8,
    "start_time": "2022-10-04T16:11:14.072Z"
   },
   {
    "duration": 11,
    "start_time": "2022-10-04T16:11:14.082Z"
   },
   {
    "duration": 9,
    "start_time": "2022-10-04T16:11:14.094Z"
   },
   {
    "duration": 9,
    "start_time": "2022-10-04T16:11:14.104Z"
   },
   {
    "duration": 6,
    "start_time": "2022-10-04T16:11:14.114Z"
   },
   {
    "duration": 36,
    "start_time": "2022-10-04T16:11:14.121Z"
   },
   {
    "duration": 11,
    "start_time": "2022-10-04T16:11:14.159Z"
   },
   {
    "duration": 15,
    "start_time": "2022-10-04T16:11:14.172Z"
   },
   {
    "duration": 43,
    "start_time": "2022-10-04T16:11:14.188Z"
   },
   {
    "duration": 7,
    "start_time": "2022-10-04T16:11:14.255Z"
   },
   {
    "duration": 13,
    "start_time": "2022-10-04T16:11:14.264Z"
   },
   {
    "duration": 11,
    "start_time": "2022-10-04T16:11:14.279Z"
   },
   {
    "duration": 367,
    "start_time": "2022-10-04T16:11:14.292Z"
   },
   {
    "duration": 8,
    "start_time": "2022-10-04T16:11:14.661Z"
   },
   {
    "duration": 11,
    "start_time": "2022-10-04T16:11:14.671Z"
   },
   {
    "duration": 7,
    "start_time": "2022-10-04T16:11:14.683Z"
   },
   {
    "duration": 7,
    "start_time": "2022-10-04T16:11:43.656Z"
   },
   {
    "duration": 7,
    "start_time": "2022-10-04T16:43:37.955Z"
   },
   {
    "duration": 6,
    "start_time": "2022-10-04T16:54:05.379Z"
   },
   {
    "duration": 7,
    "start_time": "2022-10-04T16:54:16.316Z"
   },
   {
    "duration": 18,
    "start_time": "2022-10-04T17:23:57.142Z"
   },
   {
    "duration": 85,
    "start_time": "2022-10-04T17:24:08.828Z"
   },
   {
    "duration": 35,
    "start_time": "2022-10-04T17:24:31.518Z"
   },
   {
    "duration": 13,
    "start_time": "2022-10-04T17:44:31.946Z"
   },
   {
    "duration": 12,
    "start_time": "2022-10-04T17:44:42.186Z"
   },
   {
    "duration": 12,
    "start_time": "2022-10-04T17:44:53.314Z"
   },
   {
    "duration": 11,
    "start_time": "2022-10-04T17:44:58.829Z"
   },
   {
    "duration": 447,
    "start_time": "2022-10-04T17:45:23.434Z"
   },
   {
    "duration": 104,
    "start_time": "2022-10-04T17:45:23.884Z"
   },
   {
    "duration": 17,
    "start_time": "2022-10-04T17:45:23.989Z"
   },
   {
    "duration": 73,
    "start_time": "2022-10-04T17:45:24.008Z"
   },
   {
    "duration": 2422,
    "start_time": "2022-10-04T17:45:24.083Z"
   },
   {
    "duration": 11,
    "start_time": "2022-10-04T17:45:26.507Z"
   },
   {
    "duration": 9,
    "start_time": "2022-10-04T17:45:26.520Z"
   },
   {
    "duration": 5,
    "start_time": "2022-10-04T17:45:26.531Z"
   },
   {
    "duration": 18,
    "start_time": "2022-10-04T17:45:26.537Z"
   },
   {
    "duration": 16,
    "start_time": "2022-10-04T17:45:26.557Z"
   },
   {
    "duration": 18,
    "start_time": "2022-10-04T17:45:26.574Z"
   },
   {
    "duration": 9,
    "start_time": "2022-10-04T17:45:26.594Z"
   },
   {
    "duration": 15,
    "start_time": "2022-10-04T17:45:26.605Z"
   },
   {
    "duration": 7,
    "start_time": "2022-10-04T17:45:26.623Z"
   },
   {
    "duration": 5,
    "start_time": "2022-10-04T17:45:26.632Z"
   },
   {
    "duration": 28,
    "start_time": "2022-10-04T17:45:26.639Z"
   },
   {
    "duration": 28,
    "start_time": "2022-10-04T17:45:26.669Z"
   },
   {
    "duration": 34,
    "start_time": "2022-10-04T17:45:26.699Z"
   },
   {
    "duration": 9,
    "start_time": "2022-10-04T17:45:26.735Z"
   },
   {
    "duration": 15,
    "start_time": "2022-10-04T17:45:26.745Z"
   },
   {
    "duration": 49,
    "start_time": "2022-10-04T17:45:26.761Z"
   },
   {
    "duration": 14,
    "start_time": "2022-10-04T17:45:26.812Z"
   },
   {
    "duration": 12,
    "start_time": "2022-10-04T17:45:26.829Z"
   },
   {
    "duration": 6,
    "start_time": "2022-10-04T17:45:26.843Z"
   },
   {
    "duration": 11,
    "start_time": "2022-10-04T17:45:26.850Z"
   },
   {
    "duration": 13,
    "start_time": "2022-10-04T17:45:26.863Z"
   },
   {
    "duration": 26,
    "start_time": "2022-10-04T17:45:26.878Z"
   },
   {
    "duration": 6,
    "start_time": "2022-10-04T17:45:26.906Z"
   },
   {
    "duration": 71,
    "start_time": "2022-10-04T17:45:26.914Z"
   },
   {
    "duration": 10,
    "start_time": "2022-10-04T17:45:26.987Z"
   },
   {
    "duration": 12,
    "start_time": "2022-10-04T17:45:26.999Z"
   },
   {
    "duration": 12,
    "start_time": "2022-10-04T17:45:27.013Z"
   },
   {
    "duration": 369,
    "start_time": "2022-10-04T17:45:27.027Z"
   },
   {
    "duration": 8,
    "start_time": "2022-10-04T17:45:27.398Z"
   },
   {
    "duration": 13,
    "start_time": "2022-10-04T17:45:27.408Z"
   },
   {
    "duration": 12,
    "start_time": "2022-10-04T17:45:27.422Z"
   },
   {
    "duration": 16,
    "start_time": "2022-10-04T17:47:15.610Z"
   },
   {
    "duration": 54,
    "start_time": "2022-10-04T18:21:17.731Z"
   },
   {
    "duration": 29,
    "start_time": "2022-10-04T18:21:36.646Z"
   },
   {
    "duration": 8,
    "start_time": "2022-10-04T18:21:43.199Z"
   },
   {
    "duration": 80,
    "start_time": "2022-10-04T18:21:57.799Z"
   },
   {
    "duration": 8,
    "start_time": "2022-10-04T18:22:06.711Z"
   },
   {
    "duration": 11,
    "start_time": "2022-10-04T18:22:41.960Z"
   },
   {
    "duration": 7,
    "start_time": "2022-10-04T18:22:51.104Z"
   },
   {
    "duration": 13,
    "start_time": "2022-10-04T18:25:21.956Z"
   },
   {
    "duration": 11,
    "start_time": "2022-10-04T18:25:41.660Z"
   },
   {
    "duration": 9,
    "start_time": "2022-10-04T18:25:49.307Z"
   },
   {
    "duration": 8,
    "start_time": "2022-10-04T18:27:57.246Z"
   },
   {
    "duration": 9,
    "start_time": "2022-10-04T18:28:19.903Z"
   },
   {
    "duration": 8,
    "start_time": "2022-10-04T18:30:26.163Z"
   },
   {
    "duration": 7,
    "start_time": "2022-10-04T18:31:33.868Z"
   },
   {
    "duration": 8,
    "start_time": "2022-10-04T18:31:50.948Z"
   },
   {
    "duration": 374,
    "start_time": "2022-10-04T18:32:04.404Z"
   },
   {
    "duration": 89,
    "start_time": "2022-10-04T18:32:04.780Z"
   },
   {
    "duration": 15,
    "start_time": "2022-10-04T18:32:04.871Z"
   },
   {
    "duration": 50,
    "start_time": "2022-10-04T18:32:04.888Z"
   },
   {
    "duration": 2310,
    "start_time": "2022-10-04T18:32:04.953Z"
   },
   {
    "duration": 13,
    "start_time": "2022-10-04T18:32:07.265Z"
   },
   {
    "duration": 8,
    "start_time": "2022-10-04T18:32:07.280Z"
   },
   {
    "duration": 10,
    "start_time": "2022-10-04T18:32:07.290Z"
   },
   {
    "duration": 7,
    "start_time": "2022-10-04T18:32:07.302Z"
   },
   {
    "duration": 9,
    "start_time": "2022-10-04T18:32:07.313Z"
   },
   {
    "duration": 40,
    "start_time": "2022-10-04T18:32:07.324Z"
   },
   {
    "duration": 14,
    "start_time": "2022-10-04T18:32:07.366Z"
   },
   {
    "duration": 9,
    "start_time": "2022-10-04T18:32:07.381Z"
   },
   {
    "duration": 9,
    "start_time": "2022-10-04T18:32:07.392Z"
   },
   {
    "duration": 5,
    "start_time": "2022-10-04T18:32:07.402Z"
   },
   {
    "duration": 83,
    "start_time": "2022-10-04T18:32:07.408Z"
   },
   {
    "duration": 7,
    "start_time": "2022-10-04T18:32:07.493Z"
   },
   {
    "duration": 122,
    "start_time": "2022-10-04T18:32:07.502Z"
   },
   {
    "duration": 0,
    "start_time": "2022-10-04T18:32:07.626Z"
   },
   {
    "duration": 0,
    "start_time": "2022-10-04T18:32:07.627Z"
   },
   {
    "duration": 0,
    "start_time": "2022-10-04T18:32:07.628Z"
   },
   {
    "duration": 0,
    "start_time": "2022-10-04T18:32:07.629Z"
   },
   {
    "duration": 0,
    "start_time": "2022-10-04T18:32:07.630Z"
   },
   {
    "duration": 0,
    "start_time": "2022-10-04T18:32:07.631Z"
   },
   {
    "duration": 0,
    "start_time": "2022-10-04T18:32:07.632Z"
   },
   {
    "duration": 0,
    "start_time": "2022-10-04T18:32:07.633Z"
   },
   {
    "duration": 0,
    "start_time": "2022-10-04T18:32:07.634Z"
   },
   {
    "duration": 0,
    "start_time": "2022-10-04T18:32:07.635Z"
   },
   {
    "duration": 0,
    "start_time": "2022-10-04T18:32:07.636Z"
   },
   {
    "duration": 0,
    "start_time": "2022-10-04T18:32:07.637Z"
   },
   {
    "duration": 0,
    "start_time": "2022-10-04T18:32:07.638Z"
   },
   {
    "duration": 0,
    "start_time": "2022-10-04T18:32:07.639Z"
   },
   {
    "duration": 0,
    "start_time": "2022-10-04T18:32:07.640Z"
   },
   {
    "duration": 0,
    "start_time": "2022-10-04T18:32:07.641Z"
   },
   {
    "duration": 0,
    "start_time": "2022-10-04T18:32:07.642Z"
   },
   {
    "duration": 0,
    "start_time": "2022-10-04T18:32:07.642Z"
   },
   {
    "duration": 63,
    "start_time": "2022-10-04T18:33:01.790Z"
   },
   {
    "duration": 26,
    "start_time": "2022-10-04T18:33:22.014Z"
   },
   {
    "duration": 421,
    "start_time": "2022-10-04T18:33:26.733Z"
   },
   {
    "duration": 94,
    "start_time": "2022-10-04T18:33:27.156Z"
   },
   {
    "duration": 15,
    "start_time": "2022-10-04T18:33:27.252Z"
   },
   {
    "duration": 69,
    "start_time": "2022-10-04T18:33:27.269Z"
   },
   {
    "duration": 2190,
    "start_time": "2022-10-04T18:33:27.339Z"
   },
   {
    "duration": 12,
    "start_time": "2022-10-04T18:33:29.530Z"
   },
   {
    "duration": 9,
    "start_time": "2022-10-04T18:33:29.543Z"
   },
   {
    "duration": 10,
    "start_time": "2022-10-04T18:33:29.554Z"
   },
   {
    "duration": 16,
    "start_time": "2022-10-04T18:33:29.565Z"
   },
   {
    "duration": 11,
    "start_time": "2022-10-04T18:33:29.584Z"
   },
   {
    "duration": 6,
    "start_time": "2022-10-04T18:33:29.596Z"
   },
   {
    "duration": 9,
    "start_time": "2022-10-04T18:33:29.603Z"
   },
   {
    "duration": 12,
    "start_time": "2022-10-04T18:33:29.613Z"
   },
   {
    "duration": 10,
    "start_time": "2022-10-04T18:33:29.627Z"
   },
   {
    "duration": 17,
    "start_time": "2022-10-04T18:33:29.639Z"
   },
   {
    "duration": 18,
    "start_time": "2022-10-04T18:33:29.658Z"
   },
   {
    "duration": 8,
    "start_time": "2022-10-04T18:33:29.677Z"
   },
   {
    "duration": 26,
    "start_time": "2022-10-04T18:33:29.687Z"
   },
   {
    "duration": 9,
    "start_time": "2022-10-04T18:33:29.714Z"
   },
   {
    "duration": 6,
    "start_time": "2022-10-04T18:33:29.724Z"
   },
   {
    "duration": 9,
    "start_time": "2022-10-04T18:33:29.754Z"
   },
   {
    "duration": 6,
    "start_time": "2022-10-04T18:33:29.765Z"
   },
   {
    "duration": 11,
    "start_time": "2022-10-04T18:33:29.772Z"
   },
   {
    "duration": 4,
    "start_time": "2022-10-04T18:33:29.785Z"
   },
   {
    "duration": 9,
    "start_time": "2022-10-04T18:33:29.791Z"
   },
   {
    "duration": 15,
    "start_time": "2022-10-04T18:33:29.801Z"
   },
   {
    "duration": 44,
    "start_time": "2022-10-04T18:33:29.818Z"
   },
   {
    "duration": 6,
    "start_time": "2022-10-04T18:33:29.866Z"
   },
   {
    "duration": 71,
    "start_time": "2022-10-04T18:33:29.874Z"
   },
   {
    "duration": 8,
    "start_time": "2022-10-04T18:33:29.953Z"
   },
   {
    "duration": 12,
    "start_time": "2022-10-04T18:33:29.963Z"
   },
   {
    "duration": 11,
    "start_time": "2022-10-04T18:33:29.976Z"
   },
   {
    "duration": 348,
    "start_time": "2022-10-04T18:33:29.988Z"
   },
   {
    "duration": 7,
    "start_time": "2022-10-04T18:33:30.338Z"
   },
   {
    "duration": 37,
    "start_time": "2022-10-04T18:33:30.346Z"
   },
   {
    "duration": 19,
    "start_time": "2022-10-04T18:33:30.385Z"
   },
   {
    "duration": 82,
    "start_time": "2022-10-04T18:35:46.057Z"
   },
   {
    "duration": 7,
    "start_time": "2022-10-04T18:35:56.610Z"
   },
   {
    "duration": 241,
    "start_time": "2022-10-04T18:38:21.486Z"
   },
   {
    "duration": 205,
    "start_time": "2022-10-04T18:40:16.137Z"
   },
   {
    "duration": 353,
    "start_time": "2022-10-04T18:41:13.729Z"
   },
   {
    "duration": 17,
    "start_time": "2022-10-04T18:45:33.918Z"
   },
   {
    "duration": 103,
    "start_time": "2022-10-04T18:46:00.544Z"
   },
   {
    "duration": 95,
    "start_time": "2022-10-04T18:48:28.460Z"
   },
   {
    "duration": 81,
    "start_time": "2022-10-04T18:49:14.068Z"
   },
   {
    "duration": 94,
    "start_time": "2022-10-04T18:49:33.163Z"
   },
   {
    "duration": 99,
    "start_time": "2022-10-04T18:50:28.559Z"
   },
   {
    "duration": 93,
    "start_time": "2022-10-04T18:50:32.686Z"
   },
   {
    "duration": 91,
    "start_time": "2022-10-04T18:50:43.494Z"
   },
   {
    "duration": 272,
    "start_time": "2022-10-04T18:53:46.641Z"
   },
   {
    "duration": 6,
    "start_time": "2022-10-04T18:54:51.859Z"
   },
   {
    "duration": 213,
    "start_time": "2022-10-04T18:54:54.436Z"
   },
   {
    "duration": 194,
    "start_time": "2022-10-04T18:55:53.381Z"
   },
   {
    "duration": 197,
    "start_time": "2022-10-04T18:55:58.357Z"
   },
   {
    "duration": 100,
    "start_time": "2022-10-04T18:56:24.870Z"
   },
   {
    "duration": 202,
    "start_time": "2022-10-04T18:56:31.757Z"
   },
   {
    "duration": 50,
    "start_time": "2022-10-04T18:56:38.085Z"
   },
   {
    "duration": 39,
    "start_time": "2022-10-04T18:56:41.981Z"
   },
   {
    "duration": 115,
    "start_time": "2022-10-04T18:56:49.238Z"
   },
   {
    "duration": 48,
    "start_time": "2022-10-04T18:57:05.702Z"
   },
   {
    "duration": 147,
    "start_time": "2022-10-04T18:57:10.175Z"
   },
   {
    "duration": 10,
    "start_time": "2022-10-04T19:21:39.327Z"
   },
   {
    "duration": 13,
    "start_time": "2022-10-04T19:22:36.856Z"
   },
   {
    "duration": 17,
    "start_time": "2022-10-04T19:22:45.369Z"
   },
   {
    "duration": 7,
    "start_time": "2022-10-04T19:59:15.481Z"
   },
   {
    "duration": 8,
    "start_time": "2022-10-04T19:59:20.160Z"
   },
   {
    "duration": 7,
    "start_time": "2022-10-04T19:59:27.320Z"
   },
   {
    "duration": 7,
    "start_time": "2022-10-04T19:59:36.041Z"
   },
   {
    "duration": 7,
    "start_time": "2022-10-04T19:59:39.441Z"
   },
   {
    "duration": 57,
    "start_time": "2022-10-05T08:38:05.324Z"
   },
   {
    "duration": 399,
    "start_time": "2022-10-05T08:38:11.113Z"
   },
   {
    "duration": 150,
    "start_time": "2022-10-05T08:38:11.514Z"
   },
   {
    "duration": 17,
    "start_time": "2022-10-05T08:38:11.665Z"
   },
   {
    "duration": 60,
    "start_time": "2022-10-05T08:38:11.684Z"
   },
   {
    "duration": 2579,
    "start_time": "2022-10-05T08:38:11.746Z"
   },
   {
    "duration": 10,
    "start_time": "2022-10-05T08:38:14.327Z"
   },
   {
    "duration": 16,
    "start_time": "2022-10-05T08:38:14.339Z"
   },
   {
    "duration": 16,
    "start_time": "2022-10-05T08:38:14.357Z"
   },
   {
    "duration": 29,
    "start_time": "2022-10-05T08:38:14.375Z"
   },
   {
    "duration": 24,
    "start_time": "2022-10-05T08:38:14.406Z"
   },
   {
    "duration": 15,
    "start_time": "2022-10-05T08:38:14.432Z"
   },
   {
    "duration": 18,
    "start_time": "2022-10-05T08:38:14.449Z"
   },
   {
    "duration": 15,
    "start_time": "2022-10-05T08:38:14.468Z"
   },
   {
    "duration": 21,
    "start_time": "2022-10-05T08:38:14.485Z"
   },
   {
    "duration": 22,
    "start_time": "2022-10-05T08:38:14.508Z"
   },
   {
    "duration": 34,
    "start_time": "2022-10-05T08:38:14.531Z"
   },
   {
    "duration": 15,
    "start_time": "2022-10-05T08:38:14.567Z"
   },
   {
    "duration": 28,
    "start_time": "2022-10-05T08:38:14.583Z"
   },
   {
    "duration": 15,
    "start_time": "2022-10-05T08:38:14.613Z"
   },
   {
    "duration": 169,
    "start_time": "2022-10-05T08:38:14.630Z"
   },
   {
    "duration": 9,
    "start_time": "2022-10-05T08:38:14.800Z"
   },
   {
    "duration": 25,
    "start_time": "2022-10-05T08:38:14.810Z"
   },
   {
    "duration": 24,
    "start_time": "2022-10-05T08:38:14.836Z"
   },
   {
    "duration": 24,
    "start_time": "2022-10-05T08:38:14.862Z"
   },
   {
    "duration": 23,
    "start_time": "2022-10-05T08:38:14.887Z"
   },
   {
    "duration": 18,
    "start_time": "2022-10-05T08:38:14.912Z"
   },
   {
    "duration": 17,
    "start_time": "2022-10-05T08:38:14.931Z"
   },
   {
    "duration": 25,
    "start_time": "2022-10-05T08:38:14.950Z"
   },
   {
    "duration": 19,
    "start_time": "2022-10-05T08:38:14.977Z"
   },
   {
    "duration": 17,
    "start_time": "2022-10-05T08:38:14.998Z"
   },
   {
    "duration": 68,
    "start_time": "2022-10-05T08:38:15.017Z"
   },
   {
    "duration": 7,
    "start_time": "2022-10-05T08:38:15.087Z"
   },
   {
    "duration": 37,
    "start_time": "2022-10-05T08:38:15.095Z"
   },
   {
    "duration": 12,
    "start_time": "2022-10-05T08:38:15.134Z"
   },
   {
    "duration": 383,
    "start_time": "2022-10-05T08:38:15.147Z"
   },
   {
    "duration": 7,
    "start_time": "2022-10-05T08:38:15.532Z"
   },
   {
    "duration": 17,
    "start_time": "2022-10-05T08:38:15.540Z"
   },
   {
    "duration": 24,
    "start_time": "2022-10-05T08:38:15.558Z"
   },
   {
    "duration": 7,
    "start_time": "2022-10-05T08:39:01.891Z"
   },
   {
    "duration": 10,
    "start_time": "2022-10-05T08:39:22.940Z"
   },
   {
    "duration": 8,
    "start_time": "2022-10-05T08:39:43.180Z"
   },
   {
    "duration": 222,
    "start_time": "2022-10-05T08:40:54.669Z"
   },
   {
    "duration": 13,
    "start_time": "2022-10-05T08:41:04.489Z"
   },
   {
    "duration": 113,
    "start_time": "2022-10-05T08:41:04.503Z"
   },
   {
    "duration": 14,
    "start_time": "2022-10-05T08:41:04.618Z"
   },
   {
    "duration": 58,
    "start_time": "2022-10-05T08:41:04.634Z"
   },
   {
    "duration": 2014,
    "start_time": "2022-10-05T08:41:04.694Z"
   },
   {
    "duration": 9,
    "start_time": "2022-10-05T08:41:06.710Z"
   },
   {
    "duration": 42,
    "start_time": "2022-10-05T08:41:06.720Z"
   },
   {
    "duration": 20,
    "start_time": "2022-10-05T08:41:06.765Z"
   },
   {
    "duration": 13,
    "start_time": "2022-10-05T08:41:06.786Z"
   },
   {
    "duration": 47,
    "start_time": "2022-10-05T08:41:06.800Z"
   },
   {
    "duration": 19,
    "start_time": "2022-10-05T08:41:06.849Z"
   },
   {
    "duration": 14,
    "start_time": "2022-10-05T08:41:06.870Z"
   },
   {
    "duration": 24,
    "start_time": "2022-10-05T08:41:06.886Z"
   },
   {
    "duration": 26,
    "start_time": "2022-10-05T08:41:06.912Z"
   },
   {
    "duration": 35,
    "start_time": "2022-10-05T08:41:06.940Z"
   },
   {
    "duration": 52,
    "start_time": "2022-10-05T08:41:06.977Z"
   },
   {
    "duration": 23,
    "start_time": "2022-10-05T08:41:07.031Z"
   },
   {
    "duration": 28,
    "start_time": "2022-10-05T08:41:07.056Z"
   },
   {
    "duration": 29,
    "start_time": "2022-10-05T08:41:07.086Z"
   },
   {
    "duration": 237,
    "start_time": "2022-10-05T08:41:07.116Z"
   },
   {
    "duration": 10,
    "start_time": "2022-10-05T08:41:07.355Z"
   },
   {
    "duration": 27,
    "start_time": "2022-10-05T08:41:07.367Z"
   },
   {
    "duration": 27,
    "start_time": "2022-10-05T08:41:07.396Z"
   },
   {
    "duration": 25,
    "start_time": "2022-10-05T08:41:07.424Z"
   },
   {
    "duration": 17,
    "start_time": "2022-10-05T08:41:07.450Z"
   },
   {
    "duration": 6,
    "start_time": "2022-10-05T08:41:07.469Z"
   },
   {
    "duration": 20,
    "start_time": "2022-10-05T08:41:07.477Z"
   },
   {
    "duration": 17,
    "start_time": "2022-10-05T08:41:07.499Z"
   },
   {
    "duration": 23,
    "start_time": "2022-10-05T08:41:07.518Z"
   },
   {
    "duration": 8,
    "start_time": "2022-10-05T08:41:07.543Z"
   },
   {
    "duration": 26,
    "start_time": "2022-10-05T08:41:07.552Z"
   },
   {
    "duration": 21,
    "start_time": "2022-10-05T08:41:07.580Z"
   },
   {
    "duration": 317,
    "start_time": "2022-10-05T08:41:07.603Z"
   },
   {
    "duration": 8,
    "start_time": "2022-10-05T08:41:07.922Z"
   },
   {
    "duration": 14,
    "start_time": "2022-10-05T08:41:07.931Z"
   },
   {
    "duration": 10,
    "start_time": "2022-10-05T08:41:07.947Z"
   },
   {
    "duration": 7,
    "start_time": "2022-10-05T08:46:34.377Z"
   },
   {
    "duration": 8,
    "start_time": "2022-10-05T12:33:36.188Z"
   },
   {
    "duration": 87,
    "start_time": "2022-10-05T12:35:55.584Z"
   },
   {
    "duration": 348,
    "start_time": "2022-10-05T12:36:05.886Z"
   },
   {
    "duration": 321,
    "start_time": "2022-10-05T12:36:52.016Z"
   },
   {
    "duration": 265,
    "start_time": "2022-10-05T12:37:00.904Z"
   },
   {
    "duration": 299,
    "start_time": "2022-10-05T12:37:19.655Z"
   },
   {
    "duration": 252,
    "start_time": "2022-10-05T12:37:44.353Z"
   },
   {
    "duration": 258,
    "start_time": "2022-10-05T12:38:27.705Z"
   },
   {
    "duration": 10,
    "start_time": "2022-10-05T12:39:53.476Z"
   },
   {
    "duration": 5,
    "start_time": "2022-10-05T12:40:01.075Z"
   },
   {
    "duration": 5,
    "start_time": "2022-10-05T12:40:15.068Z"
   },
   {
    "duration": 5,
    "start_time": "2022-10-05T12:40:31.331Z"
   },
   {
    "duration": 86,
    "start_time": "2022-10-05T12:46:48.901Z"
   },
   {
    "duration": 90,
    "start_time": "2022-10-05T12:47:23.933Z"
   },
   {
    "duration": 212,
    "start_time": "2022-10-05T12:47:37.564Z"
   },
   {
    "duration": 4,
    "start_time": "2022-10-05T12:47:50.310Z"
   },
   {
    "duration": 273,
    "start_time": "2022-10-05T13:06:33.958Z"
   },
   {
    "duration": 294,
    "start_time": "2022-10-05T13:06:40.559Z"
   },
   {
    "duration": 5,
    "start_time": "2022-10-05T13:06:43.022Z"
   },
   {
    "duration": 5,
    "start_time": "2022-10-05T13:07:04.814Z"
   },
   {
    "duration": 5,
    "start_time": "2022-10-05T13:20:34.506Z"
   },
   {
    "duration": 244,
    "start_time": "2022-10-05T13:20:35.933Z"
   },
   {
    "duration": 228,
    "start_time": "2022-10-05T13:26:27.034Z"
   },
   {
    "duration": 6,
    "start_time": "2022-10-05T13:26:59.707Z"
   },
   {
    "duration": 5,
    "start_time": "2022-10-05T13:27:22.307Z"
   },
   {
    "duration": 6,
    "start_time": "2022-10-05T13:27:46.277Z"
   },
   {
    "duration": 23,
    "start_time": "2022-10-05T13:30:00.680Z"
   },
   {
    "duration": 9,
    "start_time": "2022-10-05T13:30:39.144Z"
   },
   {
    "duration": 16,
    "start_time": "2022-10-05T13:30:49.902Z"
   },
   {
    "duration": 258,
    "start_time": "2022-10-05T13:31:10.649Z"
   },
   {
    "duration": 219,
    "start_time": "2022-10-05T13:33:27.101Z"
   },
   {
    "duration": 226,
    "start_time": "2022-10-05T13:33:36.236Z"
   },
   {
    "duration": 217,
    "start_time": "2022-10-05T13:33:40.356Z"
   },
   {
    "duration": 246,
    "start_time": "2022-10-05T13:33:46.012Z"
   },
   {
    "duration": 209,
    "start_time": "2022-10-05T13:33:51.372Z"
   },
   {
    "duration": 559,
    "start_time": "2022-10-05T13:34:05.868Z"
   },
   {
    "duration": 238,
    "start_time": "2022-10-05T13:34:13.621Z"
   },
   {
    "duration": 249,
    "start_time": "2022-10-05T13:34:25.461Z"
   },
   {
    "duration": 212,
    "start_time": "2022-10-05T13:34:32.429Z"
   },
   {
    "duration": 177,
    "start_time": "2022-10-05T13:34:35.709Z"
   },
   {
    "duration": 182,
    "start_time": "2022-10-05T13:34:39.909Z"
   },
   {
    "duration": 443,
    "start_time": "2022-10-05T14:26:31.402Z"
   },
   {
    "duration": 116,
    "start_time": "2022-10-05T14:26:31.848Z"
   },
   {
    "duration": 29,
    "start_time": "2022-10-05T14:26:31.966Z"
   },
   {
    "duration": 77,
    "start_time": "2022-10-05T14:26:31.997Z"
   },
   {
    "duration": 2299,
    "start_time": "2022-10-05T14:26:32.078Z"
   },
   {
    "duration": 16,
    "start_time": "2022-10-05T14:26:34.379Z"
   },
   {
    "duration": 15,
    "start_time": "2022-10-05T14:26:34.397Z"
   },
   {
    "duration": 8,
    "start_time": "2022-10-05T14:26:34.414Z"
   },
   {
    "duration": 9,
    "start_time": "2022-10-05T14:26:34.424Z"
   },
   {
    "duration": 18,
    "start_time": "2022-10-05T14:26:34.434Z"
   },
   {
    "duration": 6,
    "start_time": "2022-10-05T14:26:34.454Z"
   },
   {
    "duration": 6,
    "start_time": "2022-10-05T14:26:34.462Z"
   },
   {
    "duration": 25,
    "start_time": "2022-10-05T14:26:34.469Z"
   },
   {
    "duration": 16,
    "start_time": "2022-10-05T14:26:34.497Z"
   },
   {
    "duration": 5,
    "start_time": "2022-10-05T14:26:34.515Z"
   },
   {
    "duration": 11,
    "start_time": "2022-10-05T14:26:34.522Z"
   },
   {
    "duration": 11,
    "start_time": "2022-10-05T14:26:34.537Z"
   },
   {
    "duration": 249,
    "start_time": "2022-10-05T14:26:34.550Z"
   },
   {
    "duration": 9,
    "start_time": "2022-10-05T14:26:34.802Z"
   },
   {
    "duration": 15,
    "start_time": "2022-10-05T14:26:34.813Z"
   },
   {
    "duration": 14,
    "start_time": "2022-10-05T14:26:34.830Z"
   },
   {
    "duration": 16,
    "start_time": "2022-10-05T14:26:34.846Z"
   },
   {
    "duration": 26,
    "start_time": "2022-10-05T14:26:34.864Z"
   },
   {
    "duration": 16,
    "start_time": "2022-10-05T14:26:34.892Z"
   },
   {
    "duration": 15,
    "start_time": "2022-10-05T14:26:34.910Z"
   },
   {
    "duration": 382,
    "start_time": "2022-10-05T14:26:34.927Z"
   },
   {
    "duration": 7,
    "start_time": "2022-10-05T14:26:35.311Z"
   },
   {
    "duration": 15,
    "start_time": "2022-10-05T14:26:35.319Z"
   },
   {
    "duration": 9,
    "start_time": "2022-10-05T14:26:35.336Z"
   },
   {
    "duration": 272,
    "start_time": "2022-10-05T14:26:35.347Z"
   },
   {
    "duration": 5,
    "start_time": "2022-10-05T14:26:35.621Z"
   },
   {
    "duration": 336,
    "start_time": "2022-10-05T14:26:35.627Z"
   },
   {
    "duration": 5,
    "start_time": "2022-10-05T14:26:35.964Z"
   },
   {
    "duration": 191,
    "start_time": "2022-10-05T14:26:35.970Z"
   },
   {
    "duration": 6,
    "start_time": "2022-10-05T14:26:36.163Z"
   },
   {
    "duration": 205,
    "start_time": "2022-10-05T14:26:36.170Z"
   },
   {
    "duration": 5,
    "start_time": "2022-10-05T14:26:36.377Z"
   },
   {
    "duration": 45,
    "start_time": "2022-10-05T14:26:36.399Z"
   },
   {
    "duration": 142,
    "start_time": "2022-10-05T14:27:19.631Z"
   },
   {
    "duration": 109,
    "start_time": "2022-10-05T14:28:22.560Z"
   },
   {
    "duration": 449,
    "start_time": "2022-10-05T14:54:37.564Z"
   },
   {
    "duration": 99,
    "start_time": "2022-10-05T14:54:38.016Z"
   },
   {
    "duration": 15,
    "start_time": "2022-10-05T14:54:38.117Z"
   },
   {
    "duration": 61,
    "start_time": "2022-10-05T14:54:38.134Z"
   },
   {
    "duration": 2192,
    "start_time": "2022-10-05T14:54:38.197Z"
   },
   {
    "duration": 10,
    "start_time": "2022-10-05T14:54:40.391Z"
   },
   {
    "duration": 9,
    "start_time": "2022-10-05T14:54:40.402Z"
   },
   {
    "duration": 9,
    "start_time": "2022-10-05T14:54:40.413Z"
   },
   {
    "duration": 7,
    "start_time": "2022-10-05T14:54:40.423Z"
   },
   {
    "duration": 14,
    "start_time": "2022-10-05T14:54:40.432Z"
   },
   {
    "duration": 6,
    "start_time": "2022-10-05T14:54:40.448Z"
   },
   {
    "duration": 38,
    "start_time": "2022-10-05T14:54:40.455Z"
   },
   {
    "duration": 13,
    "start_time": "2022-10-05T14:54:40.494Z"
   },
   {
    "duration": 7,
    "start_time": "2022-10-05T14:54:40.509Z"
   },
   {
    "duration": 3,
    "start_time": "2022-10-05T14:54:40.517Z"
   },
   {
    "duration": 11,
    "start_time": "2022-10-05T14:54:40.521Z"
   },
   {
    "duration": 6,
    "start_time": "2022-10-05T14:54:40.534Z"
   },
   {
    "duration": 237,
    "start_time": "2022-10-05T14:54:40.541Z"
   },
   {
    "duration": 12,
    "start_time": "2022-10-05T14:54:40.779Z"
   },
   {
    "duration": 11,
    "start_time": "2022-10-05T14:54:40.793Z"
   },
   {
    "duration": 22,
    "start_time": "2022-10-05T14:54:40.806Z"
   },
   {
    "duration": 8,
    "start_time": "2022-10-05T14:54:40.831Z"
   },
   {
    "duration": 13,
    "start_time": "2022-10-05T14:54:40.840Z"
   },
   {
    "duration": 38,
    "start_time": "2022-10-05T14:54:40.854Z"
   },
   {
    "duration": 321,
    "start_time": "2022-10-05T14:54:40.893Z"
   },
   {
    "duration": 7,
    "start_time": "2022-10-05T14:54:41.216Z"
   },
   {
    "duration": 13,
    "start_time": "2022-10-05T14:54:41.225Z"
   },
   {
    "duration": 11,
    "start_time": "2022-10-05T14:54:41.241Z"
   },
   {
    "duration": 268,
    "start_time": "2022-10-05T14:54:41.253Z"
   },
   {
    "duration": 5,
    "start_time": "2022-10-05T14:54:41.523Z"
   },
   {
    "duration": 377,
    "start_time": "2022-10-05T14:54:41.530Z"
   },
   {
    "duration": 9,
    "start_time": "2022-10-05T14:54:41.909Z"
   },
   {
    "duration": 220,
    "start_time": "2022-10-05T14:54:41.920Z"
   },
   {
    "duration": 4,
    "start_time": "2022-10-05T14:54:42.142Z"
   },
   {
    "duration": 189,
    "start_time": "2022-10-05T14:54:42.148Z"
   },
   {
    "duration": 4,
    "start_time": "2022-10-05T14:54:42.339Z"
   },
   {
    "duration": 146,
    "start_time": "2022-10-05T14:54:42.345Z"
   },
   {
    "duration": 170,
    "start_time": "2022-10-05T14:55:42.452Z"
   },
   {
    "duration": 5,
    "start_time": "2022-10-05T14:55:51.165Z"
   },
   {
    "duration": 100,
    "start_time": "2022-10-05T14:55:59.669Z"
   },
   {
    "duration": 202,
    "start_time": "2022-10-05T14:56:35.070Z"
   },
   {
    "duration": 204,
    "start_time": "2022-10-05T14:57:30.023Z"
   },
   {
    "duration": 203,
    "start_time": "2022-10-05T14:57:33.663Z"
   },
   {
    "duration": 244,
    "start_time": "2022-10-05T14:58:02.759Z"
   },
   {
    "duration": 384,
    "start_time": "2022-10-05T14:58:14.664Z"
   },
   {
    "duration": 9,
    "start_time": "2022-10-05T14:58:51.233Z"
   },
   {
    "duration": 10,
    "start_time": "2022-10-05T14:58:58.672Z"
   },
   {
    "duration": 253,
    "start_time": "2022-10-05T14:59:13.849Z"
   },
   {
    "duration": 208,
    "start_time": "2022-10-05T14:59:19.441Z"
   },
   {
    "duration": 5,
    "start_time": "2022-10-05T15:29:43.515Z"
   },
   {
    "duration": 156,
    "start_time": "2022-10-05T15:32:39.526Z"
   },
   {
    "duration": 367,
    "start_time": "2022-10-05T15:33:10.902Z"
   },
   {
    "duration": 230,
    "start_time": "2022-10-05T15:33:28.688Z"
   },
   {
    "duration": 211,
    "start_time": "2022-10-05T15:33:32.943Z"
   },
   {
    "duration": 182,
    "start_time": "2022-10-05T15:34:30.705Z"
   },
   {
    "duration": 178,
    "start_time": "2022-10-05T15:34:42.088Z"
   },
   {
    "duration": 219,
    "start_time": "2022-10-05T15:34:55.649Z"
   },
   {
    "duration": 229,
    "start_time": "2022-10-05T15:35:04.273Z"
   },
   {
    "duration": 170,
    "start_time": "2022-10-05T15:35:11.249Z"
   },
   {
    "duration": 146,
    "start_time": "2022-10-05T15:35:22.953Z"
   },
   {
    "duration": 152,
    "start_time": "2022-10-05T15:35:27.661Z"
   },
   {
    "duration": 151,
    "start_time": "2022-10-05T15:35:31.514Z"
   },
   {
    "duration": 183,
    "start_time": "2022-10-05T15:37:36.204Z"
   },
   {
    "duration": 190,
    "start_time": "2022-10-05T15:37:55.421Z"
   },
   {
    "duration": 309,
    "start_time": "2022-10-05T15:38:02.261Z"
   },
   {
    "duration": 168,
    "start_time": "2022-10-05T15:38:13.341Z"
   },
   {
    "duration": 139,
    "start_time": "2022-10-05T15:38:16.965Z"
   },
   {
    "duration": 164,
    "start_time": "2022-10-05T15:38:21.438Z"
   },
   {
    "duration": 187,
    "start_time": "2022-10-05T15:38:39.182Z"
   },
   {
    "duration": 198,
    "start_time": "2022-10-05T15:38:42.862Z"
   },
   {
    "duration": 236,
    "start_time": "2022-10-05T15:38:49.776Z"
   },
   {
    "duration": 192,
    "start_time": "2022-10-05T15:39:58.272Z"
   },
   {
    "duration": 168,
    "start_time": "2022-10-05T15:40:05.304Z"
   },
   {
    "duration": 184,
    "start_time": "2022-10-05T15:40:10.951Z"
   },
   {
    "duration": 181,
    "start_time": "2022-10-05T15:40:13.512Z"
   },
   {
    "duration": 221,
    "start_time": "2022-10-05T15:40:26.584Z"
   },
   {
    "duration": 202,
    "start_time": "2022-10-05T15:40:32.504Z"
   },
   {
    "duration": 210,
    "start_time": "2022-10-05T15:40:40.609Z"
   },
   {
    "duration": 198,
    "start_time": "2022-10-05T15:40:44.016Z"
   },
   {
    "duration": 173,
    "start_time": "2022-10-05T15:40:47.049Z"
   },
   {
    "duration": 6,
    "start_time": "2022-10-05T15:41:45.242Z"
   },
   {
    "duration": 5,
    "start_time": "2022-10-05T15:42:00.155Z"
   },
   {
    "duration": 185,
    "start_time": "2022-10-05T15:43:48.342Z"
   },
   {
    "duration": 183,
    "start_time": "2022-10-05T15:43:57.588Z"
   },
   {
    "duration": 181,
    "start_time": "2022-10-05T15:44:02.029Z"
   },
   {
    "duration": 204,
    "start_time": "2022-10-05T15:44:07.397Z"
   },
   {
    "duration": 180,
    "start_time": "2022-10-05T15:44:15.247Z"
   },
   {
    "duration": 174,
    "start_time": "2022-10-05T15:55:39.245Z"
   },
   {
    "duration": 219,
    "start_time": "2022-10-05T15:55:44.532Z"
   },
   {
    "duration": 180,
    "start_time": "2022-10-05T15:55:47.909Z"
   },
   {
    "duration": 176,
    "start_time": "2022-10-05T15:55:54.260Z"
   },
   {
    "duration": 6,
    "start_time": "2022-10-05T15:56:38.413Z"
   },
   {
    "duration": 12,
    "start_time": "2022-10-05T15:57:30.678Z"
   },
   {
    "duration": 278,
    "start_time": "2022-10-05T15:59:10.761Z"
   },
   {
    "duration": 9,
    "start_time": "2022-10-05T16:01:32.304Z"
   },
   {
    "duration": 8,
    "start_time": "2022-10-05T16:01:42.236Z"
   },
   {
    "duration": 16,
    "start_time": "2022-10-05T16:01:54.296Z"
   },
   {
    "duration": 213,
    "start_time": "2022-10-05T16:03:34.214Z"
   },
   {
    "duration": 6,
    "start_time": "2022-10-05T16:04:11.568Z"
   },
   {
    "duration": 5,
    "start_time": "2022-10-05T16:04:17.872Z"
   },
   {
    "duration": 16,
    "start_time": "2022-10-05T16:30:50.578Z"
   },
   {
    "duration": 18,
    "start_time": "2022-10-05T16:33:53.788Z"
   },
   {
    "duration": 261,
    "start_time": "2022-10-05T18:35:33.089Z"
   },
   {
    "duration": 212,
    "start_time": "2022-10-05T18:35:50.394Z"
   },
   {
    "duration": 213,
    "start_time": "2022-10-05T18:36:01.114Z"
   },
   {
    "duration": 257,
    "start_time": "2022-10-05T18:36:43.884Z"
   },
   {
    "duration": 239,
    "start_time": "2022-10-05T18:37:17.076Z"
   },
   {
    "duration": 256,
    "start_time": "2022-10-05T18:37:25.126Z"
   },
   {
    "duration": 239,
    "start_time": "2022-10-05T18:39:05.606Z"
   },
   {
    "duration": 233,
    "start_time": "2022-10-05T18:39:18.455Z"
   },
   {
    "duration": 272,
    "start_time": "2022-10-05T18:39:22.712Z"
   },
   {
    "duration": 4,
    "start_time": "2022-10-05T18:40:12.575Z"
   },
   {
    "duration": 8,
    "start_time": "2022-10-05T18:40:14.751Z"
   },
   {
    "duration": 388,
    "start_time": "2022-10-05T18:41:05.936Z"
   },
   {
    "duration": 98,
    "start_time": "2022-10-05T18:41:06.325Z"
   },
   {
    "duration": 16,
    "start_time": "2022-10-05T18:41:06.425Z"
   },
   {
    "duration": 66,
    "start_time": "2022-10-05T18:41:06.443Z"
   },
   {
    "duration": 2270,
    "start_time": "2022-10-05T18:41:06.511Z"
   },
   {
    "duration": 10,
    "start_time": "2022-10-05T18:41:08.782Z"
   },
   {
    "duration": 9,
    "start_time": "2022-10-05T18:41:08.794Z"
   },
   {
    "duration": 9,
    "start_time": "2022-10-05T18:41:08.804Z"
   },
   {
    "duration": 8,
    "start_time": "2022-10-05T18:41:08.815Z"
   },
   {
    "duration": 17,
    "start_time": "2022-10-05T18:41:08.824Z"
   },
   {
    "duration": 6,
    "start_time": "2022-10-05T18:41:08.843Z"
   },
   {
    "duration": 41,
    "start_time": "2022-10-05T18:41:08.850Z"
   },
   {
    "duration": 6,
    "start_time": "2022-10-05T18:41:08.893Z"
   },
   {
    "duration": 8,
    "start_time": "2022-10-05T18:41:08.901Z"
   },
   {
    "duration": 4,
    "start_time": "2022-10-05T18:41:08.910Z"
   },
   {
    "duration": 9,
    "start_time": "2022-10-05T18:41:08.915Z"
   },
   {
    "duration": 11,
    "start_time": "2022-10-05T18:41:08.926Z"
   },
   {
    "duration": 252,
    "start_time": "2022-10-05T18:41:08.938Z"
   },
   {
    "duration": 8,
    "start_time": "2022-10-05T18:41:09.191Z"
   },
   {
    "duration": 17,
    "start_time": "2022-10-05T18:41:09.200Z"
   },
   {
    "duration": 14,
    "start_time": "2022-10-05T18:41:09.219Z"
   },
   {
    "duration": 8,
    "start_time": "2022-10-05T18:41:09.235Z"
   },
   {
    "duration": 48,
    "start_time": "2022-10-05T18:41:09.245Z"
   },
   {
    "duration": 12,
    "start_time": "2022-10-05T18:41:09.295Z"
   },
   {
    "duration": 346,
    "start_time": "2022-10-05T18:41:09.309Z"
   },
   {
    "duration": 7,
    "start_time": "2022-10-05T18:41:09.656Z"
   },
   {
    "duration": 11,
    "start_time": "2022-10-05T18:41:09.666Z"
   },
   {
    "duration": 1498,
    "start_time": "2022-10-05T18:41:09.689Z"
   },
   {
    "duration": 0,
    "start_time": "2022-10-05T18:41:11.188Z"
   },
   {
    "duration": 0,
    "start_time": "2022-10-05T18:41:11.190Z"
   },
   {
    "duration": 0,
    "start_time": "2022-10-05T18:41:11.191Z"
   },
   {
    "duration": 0,
    "start_time": "2022-10-05T18:41:11.192Z"
   },
   {
    "duration": 0,
    "start_time": "2022-10-05T18:41:11.193Z"
   },
   {
    "duration": 0,
    "start_time": "2022-10-05T18:41:11.194Z"
   },
   {
    "duration": 0,
    "start_time": "2022-10-05T18:41:11.195Z"
   },
   {
    "duration": 0,
    "start_time": "2022-10-05T18:41:11.196Z"
   },
   {
    "duration": 0,
    "start_time": "2022-10-05T18:41:11.197Z"
   },
   {
    "duration": 0,
    "start_time": "2022-10-05T18:41:11.198Z"
   },
   {
    "duration": 0,
    "start_time": "2022-10-05T18:41:11.199Z"
   },
   {
    "duration": 0,
    "start_time": "2022-10-05T18:41:11.200Z"
   },
   {
    "duration": 0,
    "start_time": "2022-10-05T18:41:11.201Z"
   },
   {
    "duration": 0,
    "start_time": "2022-10-05T18:41:11.203Z"
   },
   {
    "duration": 0,
    "start_time": "2022-10-05T18:41:11.204Z"
   },
   {
    "duration": 0,
    "start_time": "2022-10-05T18:41:11.205Z"
   },
   {
    "duration": 0,
    "start_time": "2022-10-05T18:41:11.205Z"
   },
   {
    "duration": 0,
    "start_time": "2022-10-05T18:41:11.206Z"
   },
   {
    "duration": 0,
    "start_time": "2022-10-05T18:41:11.207Z"
   },
   {
    "duration": 0,
    "start_time": "2022-10-05T18:41:11.208Z"
   },
   {
    "duration": 448,
    "start_time": "2022-10-05T18:41:49.072Z"
   },
   {
    "duration": 98,
    "start_time": "2022-10-05T18:41:49.522Z"
   },
   {
    "duration": 16,
    "start_time": "2022-10-05T18:41:49.622Z"
   },
   {
    "duration": 57,
    "start_time": "2022-10-05T18:41:49.639Z"
   },
   {
    "duration": 2311,
    "start_time": "2022-10-05T18:41:49.698Z"
   },
   {
    "duration": 13,
    "start_time": "2022-10-05T18:41:52.011Z"
   },
   {
    "duration": 37,
    "start_time": "2022-10-05T18:41:52.026Z"
   },
   {
    "duration": 25,
    "start_time": "2022-10-05T18:41:52.065Z"
   },
   {
    "duration": 9,
    "start_time": "2022-10-05T18:41:52.092Z"
   },
   {
    "duration": 25,
    "start_time": "2022-10-05T18:41:52.103Z"
   },
   {
    "duration": 6,
    "start_time": "2022-10-05T18:41:52.129Z"
   },
   {
    "duration": 5,
    "start_time": "2022-10-05T18:41:52.137Z"
   },
   {
    "duration": 7,
    "start_time": "2022-10-05T18:41:52.144Z"
   },
   {
    "duration": 7,
    "start_time": "2022-10-05T18:41:52.153Z"
   },
   {
    "duration": 30,
    "start_time": "2022-10-05T18:41:52.161Z"
   },
   {
    "duration": 15,
    "start_time": "2022-10-05T18:41:52.192Z"
   },
   {
    "duration": 14,
    "start_time": "2022-10-05T18:41:52.209Z"
   },
   {
    "duration": 222,
    "start_time": "2022-10-05T18:41:52.225Z"
   },
   {
    "duration": 7,
    "start_time": "2022-10-05T18:41:52.449Z"
   },
   {
    "duration": 14,
    "start_time": "2022-10-05T18:41:52.458Z"
   },
   {
    "duration": 19,
    "start_time": "2022-10-05T18:41:52.490Z"
   },
   {
    "duration": 8,
    "start_time": "2022-10-05T18:41:52.511Z"
   },
   {
    "duration": 16,
    "start_time": "2022-10-05T18:41:52.521Z"
   },
   {
    "duration": 11,
    "start_time": "2022-10-05T18:41:52.538Z"
   },
   {
    "duration": 339,
    "start_time": "2022-10-05T18:41:52.550Z"
   },
   {
    "duration": 7,
    "start_time": "2022-10-05T18:41:52.891Z"
   },
   {
    "duration": 22,
    "start_time": "2022-10-05T18:41:52.899Z"
   },
   {
    "duration": 5,
    "start_time": "2022-10-05T18:41:52.923Z"
   },
   {
    "duration": 259,
    "start_time": "2022-10-05T18:41:52.930Z"
   },
   {
    "duration": 5,
    "start_time": "2022-10-05T18:41:53.190Z"
   },
   {
    "duration": 318,
    "start_time": "2022-10-05T18:41:53.196Z"
   },
   {
    "duration": 5,
    "start_time": "2022-10-05T18:41:53.515Z"
   },
   {
    "duration": 179,
    "start_time": "2022-10-05T18:41:53.521Z"
   },
   {
    "duration": 5,
    "start_time": "2022-10-05T18:41:53.701Z"
   },
   {
    "duration": 205,
    "start_time": "2022-10-05T18:41:53.708Z"
   },
   {
    "duration": 143,
    "start_time": "2022-10-05T18:41:53.914Z"
   },
   {
    "duration": 195,
    "start_time": "2022-10-05T18:41:54.059Z"
   },
   {
    "duration": 6,
    "start_time": "2022-10-05T18:41:54.256Z"
   },
   {
    "duration": 187,
    "start_time": "2022-10-05T18:41:54.263Z"
   },
   {
    "duration": 5,
    "start_time": "2022-10-05T18:41:54.452Z"
   },
   {
    "duration": 156,
    "start_time": "2022-10-05T18:41:54.462Z"
   },
   {
    "duration": 178,
    "start_time": "2022-10-05T18:41:54.620Z"
   },
   {
    "duration": 70,
    "start_time": "2022-10-05T18:41:54.800Z"
   },
   {
    "duration": 0,
    "start_time": "2022-10-05T18:41:54.872Z"
   },
   {
    "duration": 0,
    "start_time": "2022-10-05T18:41:54.873Z"
   },
   {
    "duration": 0,
    "start_time": "2022-10-05T18:41:54.874Z"
   },
   {
    "duration": 0,
    "start_time": "2022-10-05T18:41:54.875Z"
   },
   {
    "duration": 0,
    "start_time": "2022-10-05T18:41:54.875Z"
   },
   {
    "duration": 250,
    "start_time": "2022-10-05T18:42:34.794Z"
   },
   {
    "duration": 318,
    "start_time": "2022-10-05T18:42:43.722Z"
   },
   {
    "duration": 228,
    "start_time": "2022-10-05T18:42:57.234Z"
   },
   {
    "duration": 5,
    "start_time": "2022-10-05T18:43:37.459Z"
   },
   {
    "duration": 6,
    "start_time": "2022-10-05T18:43:55.292Z"
   },
   {
    "duration": 6,
    "start_time": "2022-10-05T18:44:04.150Z"
   },
   {
    "duration": 237,
    "start_time": "2022-10-05T18:44:10.460Z"
   },
   {
    "duration": 465,
    "start_time": "2022-10-05T18:44:13.541Z"
   },
   {
    "duration": 8,
    "start_time": "2022-10-05T18:44:17.176Z"
   },
   {
    "duration": 21,
    "start_time": "2022-10-05T18:44:18.772Z"
   },
   {
    "duration": 254,
    "start_time": "2022-10-05T18:45:57.167Z"
   },
   {
    "duration": 232,
    "start_time": "2022-10-05T18:46:12.664Z"
   },
   {
    "duration": 259,
    "start_time": "2022-10-05T18:46:21.680Z"
   },
   {
    "duration": 248,
    "start_time": "2022-10-05T18:46:27.151Z"
   },
   {
    "duration": 239,
    "start_time": "2022-10-05T18:46:33.591Z"
   },
   {
    "duration": 310,
    "start_time": "2022-10-05T18:46:37.823Z"
   },
   {
    "duration": 240,
    "start_time": "2022-10-05T18:46:42.560Z"
   },
   {
    "duration": 238,
    "start_time": "2022-10-05T18:46:52.592Z"
   },
   {
    "duration": 235,
    "start_time": "2022-10-05T18:47:02.441Z"
   },
   {
    "duration": 550,
    "start_time": "2022-10-05T18:47:06.281Z"
   },
   {
    "duration": 280,
    "start_time": "2022-10-05T18:47:17.089Z"
   },
   {
    "duration": 164,
    "start_time": "2022-10-05T18:47:20.746Z"
   },
   {
    "duration": 145,
    "start_time": "2022-10-05T18:47:27.273Z"
   },
   {
    "duration": 167,
    "start_time": "2022-10-05T18:47:30.664Z"
   },
   {
    "duration": 141,
    "start_time": "2022-10-05T18:47:41.121Z"
   },
   {
    "duration": 74,
    "start_time": "2022-10-05T18:47:59.610Z"
   },
   {
    "duration": 155,
    "start_time": "2022-10-05T18:48:05.642Z"
   },
   {
    "duration": 254,
    "start_time": "2022-10-05T18:48:30.618Z"
   },
   {
    "duration": 144,
    "start_time": "2022-10-05T18:48:42.971Z"
   },
   {
    "duration": 150,
    "start_time": "2022-10-05T18:48:47.298Z"
   },
   {
    "duration": 217,
    "start_time": "2022-10-05T18:48:51.794Z"
   },
   {
    "duration": 23,
    "start_time": "2022-10-05T18:52:23.728Z"
   },
   {
    "duration": 2263,
    "start_time": "2022-10-05T18:52:45.768Z"
   },
   {
    "duration": 2193,
    "start_time": "2022-10-05T18:52:56.952Z"
   },
   {
    "duration": 2752,
    "start_time": "2022-10-05T20:10:24.561Z"
   },
   {
    "duration": 47,
    "start_time": "2022-10-06T16:00:07.940Z"
   },
   {
    "duration": 408,
    "start_time": "2022-10-06T16:00:12.809Z"
   },
   {
    "duration": 137,
    "start_time": "2022-10-06T16:00:13.219Z"
   },
   {
    "duration": 17,
    "start_time": "2022-10-06T16:00:13.361Z"
   },
   {
    "duration": 67,
    "start_time": "2022-10-06T16:00:13.387Z"
   },
   {
    "duration": 2113,
    "start_time": "2022-10-06T16:00:13.455Z"
   },
   {
    "duration": 9,
    "start_time": "2022-10-06T16:00:15.570Z"
   },
   {
    "duration": 8,
    "start_time": "2022-10-06T16:00:15.581Z"
   },
   {
    "duration": 8,
    "start_time": "2022-10-06T16:00:15.591Z"
   },
   {
    "duration": 12,
    "start_time": "2022-10-06T16:00:15.600Z"
   },
   {
    "duration": 14,
    "start_time": "2022-10-06T16:00:15.614Z"
   },
   {
    "duration": 5,
    "start_time": "2022-10-06T16:00:15.629Z"
   },
   {
    "duration": 21,
    "start_time": "2022-10-06T16:00:15.636Z"
   },
   {
    "duration": 57,
    "start_time": "2022-10-06T16:00:15.660Z"
   },
   {
    "duration": 21,
    "start_time": "2022-10-06T16:00:15.719Z"
   },
   {
    "duration": 3,
    "start_time": "2022-10-06T16:00:15.742Z"
   },
   {
    "duration": 10,
    "start_time": "2022-10-06T16:00:15.746Z"
   },
   {
    "duration": 11,
    "start_time": "2022-10-06T16:00:15.757Z"
   },
   {
    "duration": 183,
    "start_time": "2022-10-06T16:00:15.770Z"
   },
   {
    "duration": 5,
    "start_time": "2022-10-06T16:00:15.955Z"
   },
   {
    "duration": 14,
    "start_time": "2022-10-06T16:00:15.962Z"
   },
   {
    "duration": 22,
    "start_time": "2022-10-06T16:00:15.977Z"
   },
   {
    "duration": 6,
    "start_time": "2022-10-06T16:00:16.001Z"
   },
   {
    "duration": 14,
    "start_time": "2022-10-06T16:00:16.021Z"
   },
   {
    "duration": 17,
    "start_time": "2022-10-06T16:00:16.037Z"
   },
   {
    "duration": 349,
    "start_time": "2022-10-06T16:00:16.056Z"
   },
   {
    "duration": 6,
    "start_time": "2022-10-06T16:00:16.406Z"
   },
   {
    "duration": 14,
    "start_time": "2022-10-06T16:00:16.413Z"
   },
   {
    "duration": 11,
    "start_time": "2022-10-06T16:00:16.428Z"
   },
   {
    "duration": 213,
    "start_time": "2022-10-06T16:00:16.440Z"
   },
   {
    "duration": 4,
    "start_time": "2022-10-06T16:00:16.655Z"
   },
   {
    "duration": 289,
    "start_time": "2022-10-06T16:00:16.661Z"
   },
   {
    "duration": 4,
    "start_time": "2022-10-06T16:00:16.952Z"
   },
   {
    "duration": 171,
    "start_time": "2022-10-06T16:00:16.957Z"
   },
   {
    "duration": 5,
    "start_time": "2022-10-06T16:00:17.130Z"
   },
   {
    "duration": 197,
    "start_time": "2022-10-06T16:00:17.136Z"
   },
   {
    "duration": 147,
    "start_time": "2022-10-06T16:00:17.334Z"
   },
   {
    "duration": 162,
    "start_time": "2022-10-06T16:00:17.483Z"
   },
   {
    "duration": 5,
    "start_time": "2022-10-06T16:00:17.647Z"
   },
   {
    "duration": 176,
    "start_time": "2022-10-06T16:00:17.653Z"
   },
   {
    "duration": 5,
    "start_time": "2022-10-06T16:00:17.832Z"
   },
   {
    "duration": 132,
    "start_time": "2022-10-06T16:00:17.839Z"
   },
   {
    "duration": 163,
    "start_time": "2022-10-06T16:00:17.972Z"
   },
   {
    "duration": 290,
    "start_time": "2022-10-06T16:00:18.136Z"
   },
   {
    "duration": 5,
    "start_time": "2022-10-06T16:00:18.427Z"
   },
   {
    "duration": 218,
    "start_time": "2022-10-06T16:00:18.433Z"
   },
   {
    "duration": 202,
    "start_time": "2022-10-06T16:00:18.653Z"
   },
   {
    "duration": 126,
    "start_time": "2022-10-06T16:00:18.856Z"
   },
   {
    "duration": 150,
    "start_time": "2022-10-06T16:00:18.984Z"
   },
   {
    "duration": 218,
    "start_time": "2022-10-06T16:00:19.136Z"
   },
   {
    "duration": 212,
    "start_time": "2022-10-06T16:00:19.356Z"
   },
   {
    "duration": 9,
    "start_time": "2022-10-06T16:00:19.570Z"
   },
   {
    "duration": 19,
    "start_time": "2022-10-06T16:00:19.580Z"
   },
   {
    "duration": 89,
    "start_time": "2022-10-06T16:00:19.601Z"
   },
   {
    "duration": 13,
    "start_time": "2022-10-06T16:01:33.408Z"
   },
   {
    "duration": 38,
    "start_time": "2022-10-06T16:01:43.711Z"
   },
   {
    "duration": 18,
    "start_time": "2022-10-06T16:02:56.801Z"
   },
   {
    "duration": 2559,
    "start_time": "2022-10-06T16:04:20.684Z"
   },
   {
    "duration": 426,
    "start_time": "2022-10-06T16:05:53.024Z"
   },
   {
    "duration": 92,
    "start_time": "2022-10-06T16:05:53.452Z"
   },
   {
    "duration": 15,
    "start_time": "2022-10-06T16:05:53.546Z"
   },
   {
    "duration": 50,
    "start_time": "2022-10-06T16:05:53.562Z"
   },
   {
    "duration": 2149,
    "start_time": "2022-10-06T16:05:53.623Z"
   },
   {
    "duration": 10,
    "start_time": "2022-10-06T16:05:55.774Z"
   },
   {
    "duration": 11,
    "start_time": "2022-10-06T16:05:55.785Z"
   },
   {
    "duration": 13,
    "start_time": "2022-10-06T16:05:55.797Z"
   },
   {
    "duration": 11,
    "start_time": "2022-10-06T16:05:55.812Z"
   },
   {
    "duration": 24,
    "start_time": "2022-10-06T16:05:55.825Z"
   },
   {
    "duration": 7,
    "start_time": "2022-10-06T16:05:55.851Z"
   },
   {
    "duration": 8,
    "start_time": "2022-10-06T16:05:55.859Z"
   },
   {
    "duration": 15,
    "start_time": "2022-10-06T16:05:55.868Z"
   },
   {
    "duration": 15,
    "start_time": "2022-10-06T16:05:55.886Z"
   },
   {
    "duration": 5,
    "start_time": "2022-10-06T16:05:55.903Z"
   },
   {
    "duration": 23,
    "start_time": "2022-10-06T16:05:55.910Z"
   },
   {
    "duration": 14,
    "start_time": "2022-10-06T16:05:55.935Z"
   },
   {
    "duration": 242,
    "start_time": "2022-10-06T16:05:55.951Z"
   },
   {
    "duration": 8,
    "start_time": "2022-10-06T16:05:56.196Z"
   },
   {
    "duration": 25,
    "start_time": "2022-10-06T16:05:56.206Z"
   },
   {
    "duration": 19,
    "start_time": "2022-10-06T16:05:56.233Z"
   },
   {
    "duration": 10,
    "start_time": "2022-10-06T16:05:56.254Z"
   },
   {
    "duration": 17,
    "start_time": "2022-10-06T16:05:56.266Z"
   },
   {
    "duration": 31,
    "start_time": "2022-10-06T16:05:56.292Z"
   },
   {
    "duration": 340,
    "start_time": "2022-10-06T16:05:56.325Z"
   },
   {
    "duration": 7,
    "start_time": "2022-10-06T16:05:56.667Z"
   },
   {
    "duration": 10,
    "start_time": "2022-10-06T16:05:56.677Z"
   },
   {
    "duration": 8,
    "start_time": "2022-10-06T16:05:56.688Z"
   },
   {
    "duration": 252,
    "start_time": "2022-10-06T16:05:56.698Z"
   },
   {
    "duration": 5,
    "start_time": "2022-10-06T16:05:56.952Z"
   },
   {
    "duration": 286,
    "start_time": "2022-10-06T16:05:56.958Z"
   },
   {
    "duration": 5,
    "start_time": "2022-10-06T16:05:57.246Z"
   },
   {
    "duration": 192,
    "start_time": "2022-10-06T16:05:57.253Z"
   },
   {
    "duration": 5,
    "start_time": "2022-10-06T16:05:57.447Z"
   },
   {
    "duration": 225,
    "start_time": "2022-10-06T16:05:57.457Z"
   },
   {
    "duration": 148,
    "start_time": "2022-10-06T16:05:57.685Z"
   },
   {
    "duration": 192,
    "start_time": "2022-10-06T16:05:57.835Z"
   },
   {
    "duration": 6,
    "start_time": "2022-10-06T16:05:58.029Z"
   },
   {
    "duration": 179,
    "start_time": "2022-10-06T16:05:58.037Z"
   },
   {
    "duration": 7,
    "start_time": "2022-10-06T16:05:58.218Z"
   },
   {
    "duration": 150,
    "start_time": "2022-10-06T16:05:58.228Z"
   },
   {
    "duration": 177,
    "start_time": "2022-10-06T16:05:58.380Z"
   },
   {
    "duration": 215,
    "start_time": "2022-10-06T16:05:58.559Z"
   },
   {
    "duration": 6,
    "start_time": "2022-10-06T16:05:58.776Z"
   },
   {
    "duration": 337,
    "start_time": "2022-10-06T16:05:58.783Z"
   },
   {
    "duration": 201,
    "start_time": "2022-10-06T16:05:59.122Z"
   },
   {
    "duration": 155,
    "start_time": "2022-10-06T16:05:59.324Z"
   },
   {
    "duration": 151,
    "start_time": "2022-10-06T16:05:59.481Z"
   },
   {
    "duration": 226,
    "start_time": "2022-10-06T16:05:59.634Z"
   },
   {
    "duration": 221,
    "start_time": "2022-10-06T16:05:59.862Z"
   },
   {
    "duration": 9,
    "start_time": "2022-10-06T16:06:00.084Z"
   },
   {
    "duration": 36,
    "start_time": "2022-10-06T16:06:00.095Z"
   },
   {
    "duration": 2772,
    "start_time": "2022-10-06T16:06:00.133Z"
   },
   {
    "duration": 80,
    "start_time": "2022-10-06T16:14:29.495Z"
   },
   {
    "duration": 132,
    "start_time": "2022-10-06T16:14:35.736Z"
   },
   {
    "duration": 14,
    "start_time": "2022-10-06T16:14:44.575Z"
   },
   {
    "duration": 135,
    "start_time": "2022-10-06T16:14:58.080Z"
   },
   {
    "duration": 9,
    "start_time": "2022-10-06T16:19:16.155Z"
   },
   {
    "duration": 14,
    "start_time": "2022-10-06T16:19:25.680Z"
   },
   {
    "duration": 7,
    "start_time": "2022-10-06T16:19:36.464Z"
   },
   {
    "duration": 6,
    "start_time": "2022-10-06T16:21:33.004Z"
   },
   {
    "duration": 34,
    "start_time": "2022-10-06T16:22:37.205Z"
   },
   {
    "duration": 12,
    "start_time": "2022-10-06T16:23:00.107Z"
   },
   {
    "duration": 6,
    "start_time": "2022-10-06T16:23:11.072Z"
   },
   {
    "duration": 10,
    "start_time": "2022-10-06T16:23:43.951Z"
   },
   {
    "duration": 5,
    "start_time": "2022-10-06T16:24:12.969Z"
   },
   {
    "duration": 7,
    "start_time": "2022-10-06T16:27:02.621Z"
   },
   {
    "duration": 13,
    "start_time": "2022-10-06T16:27:15.549Z"
   },
   {
    "duration": 6,
    "start_time": "2022-10-06T16:27:20.285Z"
   },
   {
    "duration": 70,
    "start_time": "2022-10-06T16:27:36.478Z"
   },
   {
    "duration": 6,
    "start_time": "2022-10-06T16:27:39.384Z"
   },
   {
    "duration": 22,
    "start_time": "2022-10-06T17:52:54.677Z"
   },
   {
    "duration": 16,
    "start_time": "2022-10-06T17:55:20.855Z"
   },
   {
    "duration": 21,
    "start_time": "2022-10-06T17:55:30.940Z"
   },
   {
    "duration": 23,
    "start_time": "2022-10-06T17:58:11.524Z"
   },
   {
    "duration": 8,
    "start_time": "2022-10-06T17:58:16.555Z"
   },
   {
    "duration": 8,
    "start_time": "2022-10-06T17:58:24.338Z"
   },
   {
    "duration": 11,
    "start_time": "2022-10-06T17:59:13.277Z"
   },
   {
    "duration": 7,
    "start_time": "2022-10-06T17:59:26.908Z"
   },
   {
    "duration": 27,
    "start_time": "2022-10-06T18:00:57.026Z"
   },
   {
    "duration": 20,
    "start_time": "2022-10-06T18:23:06.886Z"
   },
   {
    "duration": 31,
    "start_time": "2022-10-06T18:23:26.079Z"
   },
   {
    "duration": 33,
    "start_time": "2022-10-06T18:23:46.639Z"
   },
   {
    "duration": 33,
    "start_time": "2022-10-06T18:23:53.896Z"
   },
   {
    "duration": 27,
    "start_time": "2022-10-06T18:24:01.633Z"
   },
   {
    "duration": 28,
    "start_time": "2022-10-06T18:25:01.466Z"
   },
   {
    "duration": 23,
    "start_time": "2022-10-06T18:25:12.242Z"
   },
   {
    "duration": 28,
    "start_time": "2022-10-06T18:25:49.937Z"
   },
   {
    "duration": 32,
    "start_time": "2022-10-06T18:26:07.723Z"
   },
   {
    "duration": 27,
    "start_time": "2022-10-06T18:26:40.131Z"
   },
   {
    "duration": 29,
    "start_time": "2022-10-06T18:27:37.448Z"
   },
   {
    "duration": 19,
    "start_time": "2022-10-06T18:27:45.757Z"
   },
   {
    "duration": 6,
    "start_time": "2022-10-06T19:36:55.307Z"
   },
   {
    "duration": 352,
    "start_time": "2022-10-06T19:37:01.745Z"
   },
   {
    "duration": 92,
    "start_time": "2022-10-06T19:37:02.098Z"
   },
   {
    "duration": 13,
    "start_time": "2022-10-06T19:37:02.192Z"
   },
   {
    "duration": 46,
    "start_time": "2022-10-06T19:37:02.207Z"
   },
   {
    "duration": 1894,
    "start_time": "2022-10-06T19:37:02.254Z"
   },
   {
    "duration": 10,
    "start_time": "2022-10-06T19:37:04.150Z"
   },
   {
    "duration": 9,
    "start_time": "2022-10-06T19:37:04.162Z"
   },
   {
    "duration": 12,
    "start_time": "2022-10-06T19:37:04.172Z"
   },
   {
    "duration": 16,
    "start_time": "2022-10-06T19:37:04.185Z"
   },
   {
    "duration": 19,
    "start_time": "2022-10-06T19:37:04.203Z"
   },
   {
    "duration": 7,
    "start_time": "2022-10-06T19:37:04.224Z"
   },
   {
    "duration": 13,
    "start_time": "2022-10-06T19:37:04.232Z"
   },
   {
    "duration": 7,
    "start_time": "2022-10-06T19:37:04.246Z"
   },
   {
    "duration": 169,
    "start_time": "2022-10-06T19:37:04.254Z"
   },
   {
    "duration": 10,
    "start_time": "2022-10-06T19:37:04.424Z"
   },
   {
    "duration": 18,
    "start_time": "2022-10-06T19:37:04.435Z"
   },
   {
    "duration": 7,
    "start_time": "2022-10-06T19:37:04.455Z"
   },
   {
    "duration": 14,
    "start_time": "2022-10-06T19:37:04.464Z"
   },
   {
    "duration": 43,
    "start_time": "2022-10-06T19:37:04.480Z"
   },
   {
    "duration": 294,
    "start_time": "2022-10-06T19:37:04.525Z"
   },
   {
    "duration": 7,
    "start_time": "2022-10-06T19:37:04.821Z"
   },
   {
    "duration": 27,
    "start_time": "2022-10-06T19:37:04.829Z"
   },
   {
    "duration": 7,
    "start_time": "2022-10-06T19:37:04.857Z"
   },
   {
    "duration": 209,
    "start_time": "2022-10-06T19:37:04.865Z"
   },
   {
    "duration": 4,
    "start_time": "2022-10-06T19:37:05.076Z"
   },
   {
    "duration": 285,
    "start_time": "2022-10-06T19:37:05.081Z"
   },
   {
    "duration": 5,
    "start_time": "2022-10-06T19:37:05.368Z"
   },
   {
    "duration": 163,
    "start_time": "2022-10-06T19:37:05.376Z"
   },
   {
    "duration": 5,
    "start_time": "2022-10-06T19:37:05.540Z"
   },
   {
    "duration": 198,
    "start_time": "2022-10-06T19:37:05.547Z"
   },
   {
    "duration": 142,
    "start_time": "2022-10-06T19:37:05.747Z"
   },
   {
    "duration": 197,
    "start_time": "2022-10-06T19:37:05.890Z"
   },
   {
    "duration": 6,
    "start_time": "2022-10-06T19:37:06.089Z"
   },
   {
    "duration": 221,
    "start_time": "2022-10-06T19:37:06.097Z"
   },
   {
    "duration": 5,
    "start_time": "2022-10-06T19:37:06.320Z"
   },
   {
    "duration": 134,
    "start_time": "2022-10-06T19:37:06.327Z"
   },
   {
    "duration": 165,
    "start_time": "2022-10-06T19:37:06.463Z"
   },
   {
    "duration": 195,
    "start_time": "2022-10-06T19:37:06.630Z"
   },
   {
    "duration": 6,
    "start_time": "2022-10-06T19:37:06.826Z"
   },
   {
    "duration": 333,
    "start_time": "2022-10-06T19:37:06.834Z"
   },
   {
    "duration": 237,
    "start_time": "2022-10-06T19:37:07.169Z"
   },
   {
    "duration": 139,
    "start_time": "2022-10-06T19:37:07.408Z"
   },
   {
    "duration": 160,
    "start_time": "2022-10-06T19:37:07.549Z"
   },
   {
    "duration": 269,
    "start_time": "2022-10-06T19:37:07.711Z"
   },
   {
    "duration": 231,
    "start_time": "2022-10-06T19:37:07.982Z"
   },
   {
    "duration": 14,
    "start_time": "2022-10-06T19:37:08.216Z"
   },
   {
    "duration": 39,
    "start_time": "2022-10-06T19:37:08.232Z"
   },
   {
    "duration": 2853,
    "start_time": "2022-10-06T19:37:08.273Z"
   },
   {
    "duration": 20,
    "start_time": "2022-10-06T19:37:11.127Z"
   },
   {
    "duration": 4,
    "start_time": "2022-10-06T19:37:11.149Z"
   },
   {
    "duration": 7,
    "start_time": "2022-10-06T19:37:11.155Z"
   },
   {
    "duration": 10,
    "start_time": "2022-10-06T19:37:11.163Z"
   },
   {
    "duration": 23,
    "start_time": "2022-10-06T19:37:54.225Z"
   },
   {
    "duration": 91,
    "start_time": "2022-10-06T19:39:02.562Z"
   },
   {
    "duration": 40,
    "start_time": "2022-10-06T19:39:13.699Z"
   },
   {
    "duration": 22,
    "start_time": "2022-10-06T19:44:03.006Z"
   },
   {
    "duration": 20,
    "start_time": "2022-10-06T19:44:44.458Z"
   },
   {
    "duration": 15,
    "start_time": "2022-10-06T19:46:27.516Z"
   },
   {
    "duration": 19,
    "start_time": "2022-10-06T19:46:42.500Z"
   },
   {
    "duration": 46,
    "start_time": "2022-10-06T19:48:15.408Z"
   },
   {
    "duration": 26,
    "start_time": "2022-10-06T19:48:34.816Z"
   },
   {
    "duration": 25,
    "start_time": "2022-10-06T19:48:59.824Z"
   },
   {
    "duration": 44,
    "start_time": "2022-10-07T13:46:44.149Z"
   },
   {
    "duration": 416,
    "start_time": "2022-10-07T13:46:48.587Z"
   },
   {
    "duration": 142,
    "start_time": "2022-10-07T13:46:49.005Z"
   },
   {
    "duration": 16,
    "start_time": "2022-10-07T13:46:49.149Z"
   },
   {
    "duration": 50,
    "start_time": "2022-10-07T13:46:49.167Z"
   },
   {
    "duration": 2229,
    "start_time": "2022-10-07T13:46:49.219Z"
   },
   {
    "duration": 10,
    "start_time": "2022-10-07T13:46:51.450Z"
   },
   {
    "duration": 9,
    "start_time": "2022-10-07T13:46:51.461Z"
   },
   {
    "duration": 10,
    "start_time": "2022-10-07T13:46:51.472Z"
   },
   {
    "duration": 18,
    "start_time": "2022-10-07T13:46:51.484Z"
   },
   {
    "duration": 5,
    "start_time": "2022-10-07T13:46:51.505Z"
   },
   {
    "duration": 7,
    "start_time": "2022-10-07T13:46:51.511Z"
   },
   {
    "duration": 9,
    "start_time": "2022-10-07T13:46:51.520Z"
   },
   {
    "duration": 8,
    "start_time": "2022-10-07T13:46:51.530Z"
   },
   {
    "duration": 190,
    "start_time": "2022-10-07T13:46:51.539Z"
   },
   {
    "duration": 10,
    "start_time": "2022-10-07T13:46:51.730Z"
   },
   {
    "duration": 16,
    "start_time": "2022-10-07T13:46:51.741Z"
   },
   {
    "duration": 6,
    "start_time": "2022-10-07T13:46:51.759Z"
   },
   {
    "duration": 28,
    "start_time": "2022-10-07T13:46:51.767Z"
   },
   {
    "duration": 10,
    "start_time": "2022-10-07T13:46:51.797Z"
   },
   {
    "duration": 301,
    "start_time": "2022-10-07T13:46:51.809Z"
   },
   {
    "duration": 6,
    "start_time": "2022-10-07T13:46:52.112Z"
   },
   {
    "duration": 11,
    "start_time": "2022-10-07T13:46:52.119Z"
   },
   {
    "duration": 5,
    "start_time": "2022-10-07T13:46:52.132Z"
   },
   {
    "duration": 245,
    "start_time": "2022-10-07T13:46:52.139Z"
   },
   {
    "duration": 10,
    "start_time": "2022-10-07T13:46:52.385Z"
   },
   {
    "duration": 288,
    "start_time": "2022-10-07T13:46:52.396Z"
   },
   {
    "duration": 11,
    "start_time": "2022-10-07T13:46:52.686Z"
   },
   {
    "duration": 187,
    "start_time": "2022-10-07T13:46:52.700Z"
   },
   {
    "duration": 7,
    "start_time": "2022-10-07T13:46:52.888Z"
   },
   {
    "duration": 208,
    "start_time": "2022-10-07T13:46:52.896Z"
   },
   {
    "duration": 137,
    "start_time": "2022-10-07T13:46:53.105Z"
   },
   {
    "duration": 188,
    "start_time": "2022-10-07T13:46:53.244Z"
   },
   {
    "duration": 6,
    "start_time": "2022-10-07T13:46:53.434Z"
   },
   {
    "duration": 187,
    "start_time": "2022-10-07T13:46:53.441Z"
   },
   {
    "duration": 4,
    "start_time": "2022-10-07T13:46:53.630Z"
   },
   {
    "duration": 133,
    "start_time": "2022-10-07T13:46:53.636Z"
   },
   {
    "duration": 181,
    "start_time": "2022-10-07T13:46:53.771Z"
   },
   {
    "duration": 210,
    "start_time": "2022-10-07T13:46:53.954Z"
   },
   {
    "duration": 5,
    "start_time": "2022-10-07T13:46:54.166Z"
   },
   {
    "duration": 325,
    "start_time": "2022-10-07T13:46:54.172Z"
   },
   {
    "duration": 222,
    "start_time": "2022-10-07T13:46:54.499Z"
   },
   {
    "duration": 151,
    "start_time": "2022-10-07T13:46:54.723Z"
   },
   {
    "duration": 153,
    "start_time": "2022-10-07T13:46:54.876Z"
   },
   {
    "duration": 230,
    "start_time": "2022-10-07T13:46:55.031Z"
   },
   {
    "duration": 211,
    "start_time": "2022-10-07T13:46:55.262Z"
   },
   {
    "duration": 9,
    "start_time": "2022-10-07T13:46:55.475Z"
   },
   {
    "duration": 22,
    "start_time": "2022-10-07T13:46:55.495Z"
   },
   {
    "duration": 3006,
    "start_time": "2022-10-07T13:46:55.518Z"
   },
   {
    "duration": 20,
    "start_time": "2022-10-07T13:46:58.526Z"
   },
   {
    "duration": 19,
    "start_time": "2022-10-07T13:46:58.547Z"
   },
   {
    "duration": 4,
    "start_time": "2022-10-07T13:46:58.568Z"
   },
   {
    "duration": 5,
    "start_time": "2022-10-07T13:46:58.595Z"
   },
   {
    "duration": 141,
    "start_time": "2022-10-07T14:11:15.104Z"
   },
   {
    "duration": 139,
    "start_time": "2022-10-07T14:11:29.312Z"
   },
   {
    "duration": 141,
    "start_time": "2022-10-07T14:12:29.073Z"
   },
   {
    "duration": 145,
    "start_time": "2022-10-07T14:12:44.443Z"
   },
   {
    "duration": 25,
    "start_time": "2022-10-07T14:14:07.788Z"
   },
   {
    "duration": 20,
    "start_time": "2022-10-07T14:15:02.685Z"
   },
   {
    "duration": 6,
    "start_time": "2022-10-07T14:15:15.509Z"
   },
   {
    "duration": 5,
    "start_time": "2022-10-07T14:16:02.823Z"
   },
   {
    "duration": 69,
    "start_time": "2022-10-07T14:16:46.919Z"
   },
   {
    "duration": 1367,
    "start_time": "2022-10-07T14:16:52.264Z"
   },
   {
    "duration": 1340,
    "start_time": "2022-10-07T14:17:27.816Z"
   },
   {
    "duration": 1216,
    "start_time": "2022-10-07T14:17:51.776Z"
   },
   {
    "duration": 1832,
    "start_time": "2022-10-07T14:18:51.897Z"
   },
   {
    "duration": 1331,
    "start_time": "2022-10-07T14:19:39.475Z"
   },
   {
    "duration": 14,
    "start_time": "2022-10-07T14:19:51.868Z"
   },
   {
    "duration": 22,
    "start_time": "2022-10-07T14:20:25.261Z"
   },
   {
    "duration": 257,
    "start_time": "2022-10-07T14:21:39.197Z"
   },
   {
    "duration": 17,
    "start_time": "2022-10-07T14:21:41.669Z"
   },
   {
    "duration": 13,
    "start_time": "2022-10-07T14:21:50.951Z"
   },
   {
    "duration": 7,
    "start_time": "2022-10-07T14:22:48.861Z"
   },
   {
    "duration": 6,
    "start_time": "2022-10-07T14:23:07.752Z"
   },
   {
    "duration": 3100,
    "start_time": "2022-10-07T14:56:36.306Z"
   },
   {
    "duration": 19,
    "start_time": "2022-10-07T15:00:27.234Z"
   },
   {
    "duration": 24,
    "start_time": "2022-10-07T15:38:47.505Z"
   },
   {
    "duration": 1240,
    "start_time": "2022-10-07T15:40:31.850Z"
   },
   {
    "duration": 1279,
    "start_time": "2022-10-07T15:40:34.545Z"
   },
   {
    "duration": 11,
    "start_time": "2022-10-07T15:40:56.400Z"
   },
   {
    "duration": 163,
    "start_time": "2022-10-07T15:42:09.089Z"
   },
   {
    "duration": 167,
    "start_time": "2022-10-07T15:42:59.531Z"
   },
   {
    "duration": 166,
    "start_time": "2022-10-07T15:43:15.106Z"
   },
   {
    "duration": 188,
    "start_time": "2022-10-07T15:43:20.994Z"
   },
   {
    "duration": 166,
    "start_time": "2022-10-07T15:43:29.099Z"
   },
   {
    "duration": 179,
    "start_time": "2022-10-07T15:45:32.791Z"
   },
   {
    "duration": 172,
    "start_time": "2022-10-07T15:46:28.783Z"
   },
   {
    "duration": 1141,
    "start_time": "2022-10-07T15:46:44.263Z"
   },
   {
    "duration": 1314,
    "start_time": "2022-10-07T15:46:50.312Z"
   },
   {
    "duration": 157,
    "start_time": "2022-10-07T15:47:04.456Z"
   },
   {
    "duration": 198,
    "start_time": "2022-10-07T15:48:26.849Z"
   },
   {
    "duration": 216,
    "start_time": "2022-10-07T15:48:34.537Z"
   },
   {
    "duration": 267,
    "start_time": "2022-10-07T15:48:48.730Z"
   },
   {
    "duration": 95,
    "start_time": "2022-10-07T15:49:50.084Z"
   },
   {
    "duration": 234,
    "start_time": "2022-10-07T15:50:14.204Z"
   },
   {
    "duration": 17,
    "start_time": "2022-10-07T15:54:29.666Z"
   },
   {
    "duration": 14,
    "start_time": "2022-10-07T15:54:43.034Z"
   },
   {
    "duration": 21,
    "start_time": "2022-10-07T15:54:49.602Z"
   },
   {
    "duration": 31,
    "start_time": "2022-10-07T15:55:07.467Z"
   },
   {
    "duration": 22,
    "start_time": "2022-10-07T15:56:13.452Z"
   },
   {
    "duration": 30,
    "start_time": "2022-10-07T15:56:53.638Z"
   },
   {
    "duration": 209,
    "start_time": "2022-10-07T15:57:44.640Z"
   },
   {
    "duration": 369,
    "start_time": "2022-10-07T15:57:49.826Z"
   },
   {
    "duration": 115,
    "start_time": "2022-10-07T15:57:50.197Z"
   },
   {
    "duration": 25,
    "start_time": "2022-10-07T15:57:50.314Z"
   },
   {
    "duration": 54,
    "start_time": "2022-10-07T15:57:50.342Z"
   },
   {
    "duration": 2122,
    "start_time": "2022-10-07T15:57:50.398Z"
   },
   {
    "duration": 10,
    "start_time": "2022-10-07T15:57:52.522Z"
   },
   {
    "duration": 9,
    "start_time": "2022-10-07T15:57:52.533Z"
   },
   {
    "duration": 12,
    "start_time": "2022-10-07T15:57:52.544Z"
   },
   {
    "duration": 18,
    "start_time": "2022-10-07T15:57:52.557Z"
   },
   {
    "duration": 6,
    "start_time": "2022-10-07T15:57:52.577Z"
   },
   {
    "duration": 11,
    "start_time": "2022-10-07T15:57:52.584Z"
   },
   {
    "duration": 11,
    "start_time": "2022-10-07T15:57:52.596Z"
   },
   {
    "duration": 10,
    "start_time": "2022-10-07T15:57:52.608Z"
   },
   {
    "duration": 206,
    "start_time": "2022-10-07T15:57:52.620Z"
   },
   {
    "duration": 12,
    "start_time": "2022-10-07T15:57:52.828Z"
   },
   {
    "duration": 20,
    "start_time": "2022-10-07T15:57:52.841Z"
   },
   {
    "duration": 8,
    "start_time": "2022-10-07T15:57:52.863Z"
   },
   {
    "duration": 30,
    "start_time": "2022-10-07T15:57:52.872Z"
   },
   {
    "duration": 15,
    "start_time": "2022-10-07T15:57:52.903Z"
   },
   {
    "duration": 335,
    "start_time": "2022-10-07T15:57:52.919Z"
   },
   {
    "duration": 8,
    "start_time": "2022-10-07T15:57:53.255Z"
   },
   {
    "duration": 10,
    "start_time": "2022-10-07T15:57:53.264Z"
   },
   {
    "duration": 23,
    "start_time": "2022-10-07T15:57:53.276Z"
   },
   {
    "duration": 240,
    "start_time": "2022-10-07T15:57:53.300Z"
   },
   {
    "duration": 5,
    "start_time": "2022-10-07T15:57:53.542Z"
   },
   {
    "duration": 310,
    "start_time": "2022-10-07T15:57:53.549Z"
   },
   {
    "duration": 5,
    "start_time": "2022-10-07T15:57:53.861Z"
   },
   {
    "duration": 183,
    "start_time": "2022-10-07T15:57:53.869Z"
   },
   {
    "duration": 6,
    "start_time": "2022-10-07T15:57:54.054Z"
   },
   {
    "duration": 217,
    "start_time": "2022-10-07T15:57:54.061Z"
   },
   {
    "duration": 147,
    "start_time": "2022-10-07T15:57:54.280Z"
   },
   {
    "duration": 194,
    "start_time": "2022-10-07T15:57:54.429Z"
   },
   {
    "duration": 5,
    "start_time": "2022-10-07T15:57:54.625Z"
   },
   {
    "duration": 191,
    "start_time": "2022-10-07T15:57:54.631Z"
   },
   {
    "duration": 5,
    "start_time": "2022-10-07T15:57:54.824Z"
   },
   {
    "duration": 146,
    "start_time": "2022-10-07T15:57:54.831Z"
   },
   {
    "duration": 191,
    "start_time": "2022-10-07T15:57:54.979Z"
   },
   {
    "duration": 256,
    "start_time": "2022-10-07T15:57:55.172Z"
   },
   {
    "duration": 6,
    "start_time": "2022-10-07T15:57:55.429Z"
   },
   {
    "duration": 345,
    "start_time": "2022-10-07T15:57:55.436Z"
   },
   {
    "duration": 231,
    "start_time": "2022-10-07T15:57:55.783Z"
   },
   {
    "duration": 151,
    "start_time": "2022-10-07T15:57:56.016Z"
   },
   {
    "duration": 162,
    "start_time": "2022-10-07T15:57:56.168Z"
   },
   {
    "duration": 268,
    "start_time": "2022-10-07T15:57:56.332Z"
   },
   {
    "duration": 241,
    "start_time": "2022-10-07T15:57:56.602Z"
   },
   {
    "duration": 9,
    "start_time": "2022-10-07T15:57:56.845Z"
   },
   {
    "duration": 39,
    "start_time": "2022-10-07T15:57:56.856Z"
   },
   {
    "duration": 3045,
    "start_time": "2022-10-07T15:57:56.897Z"
   },
   {
    "duration": 31,
    "start_time": "2022-10-07T15:57:59.944Z"
   },
   {
    "duration": 23,
    "start_time": "2022-10-07T15:57:59.994Z"
   },
   {
    "duration": 8,
    "start_time": "2022-10-07T15:58:00.019Z"
   },
   {
    "duration": 17,
    "start_time": "2022-10-07T15:58:00.028Z"
   },
   {
    "duration": 48,
    "start_time": "2022-10-07T15:58:00.048Z"
   },
   {
    "duration": 178,
    "start_time": "2022-10-07T15:58:00.098Z"
   },
   {
    "duration": 12,
    "start_time": "2022-10-07T16:00:36.336Z"
   },
   {
    "duration": 3054,
    "start_time": "2022-10-07T16:04:08.215Z"
   },
   {
    "duration": 2965,
    "start_time": "2022-10-07T16:05:55.921Z"
   },
   {
    "duration": 2960,
    "start_time": "2022-10-07T16:06:30.978Z"
   },
   {
    "duration": 78,
    "start_time": "2022-10-07T16:09:42.974Z"
   },
   {
    "duration": 16,
    "start_time": "2022-10-07T16:10:00.527Z"
   },
   {
    "duration": 14,
    "start_time": "2022-10-07T16:10:23.399Z"
   },
   {
    "duration": 14,
    "start_time": "2022-10-07T16:10:29.134Z"
   },
   {
    "duration": 14,
    "start_time": "2022-10-07T16:11:20.617Z"
   },
   {
    "duration": 3012,
    "start_time": "2022-10-07T16:15:24.894Z"
   },
   {
    "duration": 467,
    "start_time": "2022-10-07T16:16:10.994Z"
   },
   {
    "duration": 95,
    "start_time": "2022-10-07T16:16:11.463Z"
   },
   {
    "duration": 16,
    "start_time": "2022-10-07T16:16:11.560Z"
   },
   {
    "duration": 66,
    "start_time": "2022-10-07T16:16:11.578Z"
   },
   {
    "duration": 2106,
    "start_time": "2022-10-07T16:16:11.646Z"
   },
   {
    "duration": 9,
    "start_time": "2022-10-07T16:16:13.754Z"
   },
   {
    "duration": 9,
    "start_time": "2022-10-07T16:16:13.765Z"
   },
   {
    "duration": 12,
    "start_time": "2022-10-07T16:16:13.775Z"
   },
   {
    "duration": 22,
    "start_time": "2022-10-07T16:16:13.788Z"
   },
   {
    "duration": 5,
    "start_time": "2022-10-07T16:16:13.811Z"
   },
   {
    "duration": 7,
    "start_time": "2022-10-07T16:16:13.818Z"
   },
   {
    "duration": 12,
    "start_time": "2022-10-07T16:16:13.826Z"
   },
   {
    "duration": 9,
    "start_time": "2022-10-07T16:16:13.839Z"
   },
   {
    "duration": 212,
    "start_time": "2022-10-07T16:16:13.851Z"
   },
   {
    "duration": 11,
    "start_time": "2022-10-07T16:16:14.064Z"
   },
   {
    "duration": 28,
    "start_time": "2022-10-07T16:16:14.076Z"
   },
   {
    "duration": 6,
    "start_time": "2022-10-07T16:16:14.106Z"
   },
   {
    "duration": 12,
    "start_time": "2022-10-07T16:16:14.114Z"
   },
   {
    "duration": 10,
    "start_time": "2022-10-07T16:16:14.128Z"
   },
   {
    "duration": 326,
    "start_time": "2022-10-07T16:16:14.139Z"
   },
   {
    "duration": 7,
    "start_time": "2022-10-07T16:16:14.467Z"
   },
   {
    "duration": 20,
    "start_time": "2022-10-07T16:16:14.475Z"
   },
   {
    "duration": 6,
    "start_time": "2022-10-07T16:16:14.497Z"
   },
   {
    "duration": 228,
    "start_time": "2022-10-07T16:16:14.505Z"
   },
   {
    "duration": 5,
    "start_time": "2022-10-07T16:16:14.735Z"
   },
   {
    "duration": 314,
    "start_time": "2022-10-07T16:16:14.741Z"
   },
   {
    "duration": 6,
    "start_time": "2022-10-07T16:16:15.056Z"
   },
   {
    "duration": 178,
    "start_time": "2022-10-07T16:16:15.063Z"
   },
   {
    "duration": 5,
    "start_time": "2022-10-07T16:16:15.243Z"
   },
   {
    "duration": 208,
    "start_time": "2022-10-07T16:16:15.250Z"
   },
   {
    "duration": 137,
    "start_time": "2022-10-07T16:16:15.459Z"
   },
   {
    "duration": 193,
    "start_time": "2022-10-07T16:16:15.597Z"
   },
   {
    "duration": 5,
    "start_time": "2022-10-07T16:16:15.794Z"
   },
   {
    "duration": 177,
    "start_time": "2022-10-07T16:16:15.800Z"
   },
   {
    "duration": 5,
    "start_time": "2022-10-07T16:16:15.978Z"
   },
   {
    "duration": 127,
    "start_time": "2022-10-07T16:16:15.995Z"
   },
   {
    "duration": 178,
    "start_time": "2022-10-07T16:16:16.123Z"
   },
   {
    "duration": 223,
    "start_time": "2022-10-07T16:16:16.303Z"
   },
   {
    "duration": 5,
    "start_time": "2022-10-07T16:16:16.528Z"
   },
   {
    "duration": 397,
    "start_time": "2022-10-07T16:16:16.534Z"
   },
   {
    "duration": 237,
    "start_time": "2022-10-07T16:16:16.936Z"
   },
   {
    "duration": 151,
    "start_time": "2022-10-07T16:16:17.175Z"
   },
   {
    "duration": 168,
    "start_time": "2022-10-07T16:16:17.327Z"
   },
   {
    "duration": 238,
    "start_time": "2022-10-07T16:16:17.497Z"
   },
   {
    "duration": 201,
    "start_time": "2022-10-07T16:16:17.737Z"
   },
   {
    "duration": 9,
    "start_time": "2022-10-07T16:16:17.939Z"
   },
   {
    "duration": 15,
    "start_time": "2022-10-07T16:16:17.950Z"
   },
   {
    "duration": 2956,
    "start_time": "2022-10-07T16:16:17.967Z"
   },
   {
    "duration": 22,
    "start_time": "2022-10-07T16:16:20.925Z"
   },
   {
    "duration": 6,
    "start_time": "2022-10-07T16:16:20.949Z"
   },
   {
    "duration": 10,
    "start_time": "2022-10-07T16:16:20.957Z"
   },
   {
    "duration": 25,
    "start_time": "2022-10-07T16:16:20.996Z"
   },
   {
    "duration": 169,
    "start_time": "2022-10-07T16:16:21.023Z"
   },
   {
    "duration": 2884,
    "start_time": "2022-10-07T16:16:36.520Z"
   },
   {
    "duration": 638,
    "start_time": "2022-10-07T16:17:13.803Z"
   },
   {
    "duration": 88,
    "start_time": "2022-10-07T16:17:14.443Z"
   },
   {
    "duration": 15,
    "start_time": "2022-10-07T16:17:14.533Z"
   },
   {
    "duration": 59,
    "start_time": "2022-10-07T16:17:14.549Z"
   },
   {
    "duration": 1862,
    "start_time": "2022-10-07T16:17:14.610Z"
   },
   {
    "duration": 9,
    "start_time": "2022-10-07T16:17:16.474Z"
   },
   {
    "duration": 14,
    "start_time": "2022-10-07T16:17:16.485Z"
   },
   {
    "duration": 13,
    "start_time": "2022-10-07T16:17:16.501Z"
   },
   {
    "duration": 19,
    "start_time": "2022-10-07T16:17:16.516Z"
   },
   {
    "duration": 7,
    "start_time": "2022-10-07T16:17:16.537Z"
   },
   {
    "duration": 12,
    "start_time": "2022-10-07T16:17:16.546Z"
   },
   {
    "duration": 14,
    "start_time": "2022-10-07T16:17:16.560Z"
   },
   {
    "duration": 21,
    "start_time": "2022-10-07T16:17:16.576Z"
   },
   {
    "duration": 228,
    "start_time": "2022-10-07T16:17:16.600Z"
   },
   {
    "duration": 12,
    "start_time": "2022-10-07T16:17:16.830Z"
   },
   {
    "duration": 21,
    "start_time": "2022-10-07T16:17:16.843Z"
   },
   {
    "duration": 8,
    "start_time": "2022-10-07T16:17:16.865Z"
   },
   {
    "duration": 14,
    "start_time": "2022-10-07T16:17:16.894Z"
   },
   {
    "duration": 12,
    "start_time": "2022-10-07T16:17:16.910Z"
   },
   {
    "duration": 318,
    "start_time": "2022-10-07T16:17:16.923Z"
   },
   {
    "duration": 6,
    "start_time": "2022-10-07T16:17:17.243Z"
   },
   {
    "duration": 12,
    "start_time": "2022-10-07T16:17:17.250Z"
   },
   {
    "duration": 9,
    "start_time": "2022-10-07T16:17:17.264Z"
   },
   {
    "duration": 254,
    "start_time": "2022-10-07T16:17:17.274Z"
   },
   {
    "duration": 4,
    "start_time": "2022-10-07T16:17:17.530Z"
   },
   {
    "duration": 301,
    "start_time": "2022-10-07T16:17:17.536Z"
   },
   {
    "duration": 5,
    "start_time": "2022-10-07T16:17:17.839Z"
   },
   {
    "duration": 181,
    "start_time": "2022-10-07T16:17:17.845Z"
   },
   {
    "duration": 6,
    "start_time": "2022-10-07T16:17:18.028Z"
   },
   {
    "duration": 224,
    "start_time": "2022-10-07T16:17:18.035Z"
   },
   {
    "duration": 146,
    "start_time": "2022-10-07T16:17:18.262Z"
   },
   {
    "duration": 192,
    "start_time": "2022-10-07T16:17:18.410Z"
   },
   {
    "duration": 5,
    "start_time": "2022-10-07T16:17:18.604Z"
   },
   {
    "duration": 193,
    "start_time": "2022-10-07T16:17:18.611Z"
   },
   {
    "duration": 6,
    "start_time": "2022-10-07T16:17:18.806Z"
   },
   {
    "duration": 145,
    "start_time": "2022-10-07T16:17:18.813Z"
   },
   {
    "duration": 178,
    "start_time": "2022-10-07T16:17:18.959Z"
   },
   {
    "duration": 211,
    "start_time": "2022-10-07T16:17:19.139Z"
   },
   {
    "duration": 5,
    "start_time": "2022-10-07T16:17:19.351Z"
   },
   {
    "duration": 335,
    "start_time": "2022-10-07T16:17:19.357Z"
   },
   {
    "duration": 221,
    "start_time": "2022-10-07T16:17:19.697Z"
   },
   {
    "duration": 144,
    "start_time": "2022-10-07T16:17:19.920Z"
   },
   {
    "duration": 159,
    "start_time": "2022-10-07T16:17:20.065Z"
   },
   {
    "duration": 242,
    "start_time": "2022-10-07T16:17:20.226Z"
   },
   {
    "duration": 213,
    "start_time": "2022-10-07T16:17:20.470Z"
   },
   {
    "duration": 14,
    "start_time": "2022-10-07T16:17:20.684Z"
   },
   {
    "duration": 19,
    "start_time": "2022-10-07T16:17:20.700Z"
   },
   {
    "duration": 2991,
    "start_time": "2022-10-07T16:17:20.721Z"
   },
   {
    "duration": 21,
    "start_time": "2022-10-07T16:17:23.714Z"
   },
   {
    "duration": 5,
    "start_time": "2022-10-07T16:17:23.737Z"
   },
   {
    "duration": 7,
    "start_time": "2022-10-07T16:17:23.744Z"
   },
   {
    "duration": 52,
    "start_time": "2022-10-07T16:17:23.752Z"
   },
   {
    "duration": 174,
    "start_time": "2022-10-07T16:17:23.806Z"
   },
   {
    "duration": 3036,
    "start_time": "2022-10-07T16:18:53.067Z"
   },
   {
    "duration": 2913,
    "start_time": "2022-10-07T16:19:12.547Z"
   },
   {
    "duration": 3067,
    "start_time": "2022-10-07T16:21:31.973Z"
   },
   {
    "duration": 2783,
    "start_time": "2022-10-07T16:23:00.224Z"
   },
   {
    "duration": 164,
    "start_time": "2022-10-07T16:31:57.173Z"
   },
   {
    "duration": 248,
    "start_time": "2022-10-07T16:32:21.269Z"
   },
   {
    "duration": 226,
    "start_time": "2022-10-07T16:32:51.357Z"
   },
   {
    "duration": 219,
    "start_time": "2022-10-07T16:33:37.830Z"
   },
   {
    "duration": 212,
    "start_time": "2022-10-07T16:33:46.070Z"
   },
   {
    "duration": 241,
    "start_time": "2022-10-07T16:33:53.510Z"
   },
   {
    "duration": 216,
    "start_time": "2022-10-07T16:33:58.759Z"
   },
   {
    "duration": 447,
    "start_time": "2022-10-07T16:34:14.449Z"
   },
   {
    "duration": 240,
    "start_time": "2022-10-07T16:34:51.800Z"
   },
   {
    "duration": 239,
    "start_time": "2022-10-07T16:35:02.520Z"
   },
   {
    "duration": 241,
    "start_time": "2022-10-07T16:35:12.056Z"
   },
   {
    "duration": 653,
    "start_time": "2022-10-07T16:35:41.745Z"
   },
   {
    "duration": 95,
    "start_time": "2022-10-07T16:35:42.400Z"
   },
   {
    "duration": 16,
    "start_time": "2022-10-07T16:35:42.496Z"
   },
   {
    "duration": 48,
    "start_time": "2022-10-07T16:35:42.514Z"
   },
   {
    "duration": 1959,
    "start_time": "2022-10-07T16:35:42.565Z"
   },
   {
    "duration": 9,
    "start_time": "2022-10-07T16:35:44.526Z"
   },
   {
    "duration": 11,
    "start_time": "2022-10-07T16:35:44.536Z"
   },
   {
    "duration": 11,
    "start_time": "2022-10-07T16:35:44.548Z"
   },
   {
    "duration": 21,
    "start_time": "2022-10-07T16:35:44.561Z"
   },
   {
    "duration": 6,
    "start_time": "2022-10-07T16:35:44.584Z"
   },
   {
    "duration": 9,
    "start_time": "2022-10-07T16:35:44.594Z"
   },
   {
    "duration": 10,
    "start_time": "2022-10-07T16:35:44.605Z"
   },
   {
    "duration": 9,
    "start_time": "2022-10-07T16:35:44.617Z"
   },
   {
    "duration": 203,
    "start_time": "2022-10-07T16:35:44.628Z"
   },
   {
    "duration": 11,
    "start_time": "2022-10-07T16:35:44.832Z"
   },
   {
    "duration": 19,
    "start_time": "2022-10-07T16:35:44.845Z"
   },
   {
    "duration": 7,
    "start_time": "2022-10-07T16:35:44.866Z"
   },
   {
    "duration": 28,
    "start_time": "2022-10-07T16:35:44.874Z"
   },
   {
    "duration": 10,
    "start_time": "2022-10-07T16:35:44.903Z"
   },
   {
    "duration": 322,
    "start_time": "2022-10-07T16:35:44.915Z"
   },
   {
    "duration": 7,
    "start_time": "2022-10-07T16:35:45.238Z"
   },
   {
    "duration": 11,
    "start_time": "2022-10-07T16:35:45.246Z"
   },
   {
    "duration": 8,
    "start_time": "2022-10-07T16:35:45.259Z"
   },
   {
    "duration": 243,
    "start_time": "2022-10-07T16:35:45.269Z"
   },
   {
    "duration": 4,
    "start_time": "2022-10-07T16:35:45.514Z"
   },
   {
    "duration": 300,
    "start_time": "2022-10-07T16:35:45.520Z"
   },
   {
    "duration": 4,
    "start_time": "2022-10-07T16:35:45.822Z"
   },
   {
    "duration": 174,
    "start_time": "2022-10-07T16:35:45.827Z"
   },
   {
    "duration": 5,
    "start_time": "2022-10-07T16:35:46.002Z"
   },
   {
    "duration": 206,
    "start_time": "2022-10-07T16:35:46.009Z"
   },
   {
    "duration": 140,
    "start_time": "2022-10-07T16:35:46.217Z"
   },
   {
    "duration": 174,
    "start_time": "2022-10-07T16:35:46.358Z"
   },
   {
    "duration": 4,
    "start_time": "2022-10-07T16:35:46.534Z"
   },
   {
    "duration": 209,
    "start_time": "2022-10-07T16:35:46.540Z"
   },
   {
    "duration": 7,
    "start_time": "2022-10-07T16:35:46.751Z"
   },
   {
    "duration": 181,
    "start_time": "2022-10-07T16:35:46.760Z"
   },
   {
    "duration": 179,
    "start_time": "2022-10-07T16:35:46.942Z"
   },
   {
    "duration": 212,
    "start_time": "2022-10-07T16:35:47.122Z"
   },
   {
    "duration": 5,
    "start_time": "2022-10-07T16:35:47.336Z"
   },
   {
    "duration": 336,
    "start_time": "2022-10-07T16:35:47.342Z"
   },
   {
    "duration": 220,
    "start_time": "2022-10-07T16:35:47.681Z"
   },
   {
    "duration": 141,
    "start_time": "2022-10-07T16:35:47.903Z"
   },
   {
    "duration": 165,
    "start_time": "2022-10-07T16:35:48.045Z"
   },
   {
    "duration": 225,
    "start_time": "2022-10-07T16:35:48.212Z"
   },
   {
    "duration": 194,
    "start_time": "2022-10-07T16:35:48.439Z"
   },
   {
    "duration": 8,
    "start_time": "2022-10-07T16:35:48.635Z"
   },
   {
    "duration": 16,
    "start_time": "2022-10-07T16:35:48.644Z"
   },
   {
    "duration": 2894,
    "start_time": "2022-10-07T16:35:48.661Z"
   },
   {
    "duration": 21,
    "start_time": "2022-10-07T16:35:51.556Z"
   },
   {
    "duration": 6,
    "start_time": "2022-10-07T16:35:51.594Z"
   },
   {
    "duration": 9,
    "start_time": "2022-10-07T16:35:51.602Z"
   },
   {
    "duration": 24,
    "start_time": "2022-10-07T16:35:51.612Z"
   },
   {
    "duration": 167,
    "start_time": "2022-10-07T16:35:51.638Z"
   },
   {
    "duration": 213,
    "start_time": "2022-10-07T16:43:56.413Z"
   },
   {
    "duration": 7,
    "start_time": "2022-10-07T19:08:57.510Z"
   },
   {
    "duration": 231,
    "start_time": "2022-10-07T19:35:10.540Z"
   },
   {
    "duration": 254,
    "start_time": "2022-10-07T19:39:34.497Z"
   },
   {
    "duration": 226,
    "start_time": "2022-10-07T19:40:02.319Z"
   },
   {
    "duration": 150,
    "start_time": "2022-10-07T19:41:44.370Z"
   },
   {
    "duration": 140,
    "start_time": "2022-10-07T19:41:52.218Z"
   },
   {
    "duration": 373,
    "start_time": "2022-10-07T19:42:24.331Z"
   },
   {
    "duration": 176,
    "start_time": "2022-10-07T19:42:32.844Z"
   },
   {
    "duration": 180,
    "start_time": "2022-10-07T19:42:45.483Z"
   },
   {
    "duration": 161,
    "start_time": "2022-10-07T19:43:06.845Z"
   },
   {
    "duration": 137,
    "start_time": "2022-10-07T19:43:10.244Z"
   },
   {
    "duration": 146,
    "start_time": "2022-10-07T19:43:14.076Z"
   },
   {
    "duration": 166,
    "start_time": "2022-10-07T19:43:32.679Z"
   },
   {
    "duration": 163,
    "start_time": "2022-10-07T19:43:36.596Z"
   },
   {
    "duration": 137,
    "start_time": "2022-10-07T20:41:55.868Z"
   },
   {
    "duration": 2546,
    "start_time": "2022-10-07T20:42:27.964Z"
   },
   {
    "duration": 642,
    "start_time": "2022-10-07T21:02:08.006Z"
   },
   {
    "duration": 300,
    "start_time": "2022-10-07T21:02:08.650Z"
   },
   {
    "duration": 14,
    "start_time": "2022-10-07T21:02:08.952Z"
   },
   {
    "duration": 42,
    "start_time": "2022-10-07T21:02:08.968Z"
   },
   {
    "duration": 1704,
    "start_time": "2022-10-07T21:02:09.012Z"
   },
   {
    "duration": 9,
    "start_time": "2022-10-07T21:02:10.717Z"
   },
   {
    "duration": 8,
    "start_time": "2022-10-07T21:02:10.728Z"
   },
   {
    "duration": 10,
    "start_time": "2022-10-07T21:02:10.738Z"
   },
   {
    "duration": 13,
    "start_time": "2022-10-07T21:02:10.750Z"
   },
   {
    "duration": 5,
    "start_time": "2022-10-07T21:02:10.766Z"
   },
   {
    "duration": 7,
    "start_time": "2022-10-07T21:02:10.773Z"
   },
   {
    "duration": 9,
    "start_time": "2022-10-07T21:02:10.781Z"
   },
   {
    "duration": 7,
    "start_time": "2022-10-07T21:02:10.791Z"
   },
   {
    "duration": 213,
    "start_time": "2022-10-07T21:02:10.799Z"
   },
   {
    "duration": 24,
    "start_time": "2022-10-07T21:02:11.015Z"
   },
   {
    "duration": 14,
    "start_time": "2022-10-07T21:02:11.041Z"
   },
   {
    "duration": 8,
    "start_time": "2022-10-07T21:02:11.057Z"
   },
   {
    "duration": 12,
    "start_time": "2022-10-07T21:02:11.067Z"
   },
   {
    "duration": 9,
    "start_time": "2022-10-07T21:02:11.081Z"
   },
   {
    "duration": 310,
    "start_time": "2022-10-07T21:02:11.092Z"
   },
   {
    "duration": 7,
    "start_time": "2022-10-07T21:02:11.403Z"
   },
   {
    "duration": 9,
    "start_time": "2022-10-07T21:02:11.412Z"
   },
   {
    "duration": 19,
    "start_time": "2022-10-07T21:02:11.422Z"
   },
   {
    "duration": 228,
    "start_time": "2022-10-07T21:02:11.442Z"
   },
   {
    "duration": 5,
    "start_time": "2022-10-07T21:02:11.672Z"
   },
   {
    "duration": 284,
    "start_time": "2022-10-07T21:02:11.678Z"
   },
   {
    "duration": 5,
    "start_time": "2022-10-07T21:02:11.964Z"
   },
   {
    "duration": 163,
    "start_time": "2022-10-07T21:02:11.972Z"
   },
   {
    "duration": 4,
    "start_time": "2022-10-07T21:02:12.138Z"
   },
   {
    "duration": 209,
    "start_time": "2022-10-07T21:02:12.143Z"
   },
   {
    "duration": 138,
    "start_time": "2022-10-07T21:02:12.354Z"
   },
   {
    "duration": 147,
    "start_time": "2022-10-07T21:02:12.494Z"
   },
   {
    "duration": 5,
    "start_time": "2022-10-07T21:02:12.643Z"
   },
   {
    "duration": 160,
    "start_time": "2022-10-07T21:02:12.649Z"
   },
   {
    "duration": 5,
    "start_time": "2022-10-07T21:02:12.811Z"
   },
   {
    "duration": 131,
    "start_time": "2022-10-07T21:02:12.818Z"
   },
   {
    "duration": 160,
    "start_time": "2022-10-07T21:02:12.951Z"
   },
   {
    "duration": 193,
    "start_time": "2022-10-07T21:02:13.113Z"
   },
   {
    "duration": 6,
    "start_time": "2022-10-07T21:02:13.308Z"
   },
   {
    "duration": 283,
    "start_time": "2022-10-07T21:02:13.315Z"
   },
   {
    "duration": 200,
    "start_time": "2022-10-07T21:02:13.600Z"
   },
   {
    "duration": 129,
    "start_time": "2022-10-07T21:02:13.801Z"
   },
   {
    "duration": 143,
    "start_time": "2022-10-07T21:02:13.932Z"
   },
   {
    "duration": 213,
    "start_time": "2022-10-07T21:02:14.076Z"
   },
   {
    "duration": 174,
    "start_time": "2022-10-07T21:02:14.291Z"
   },
   {
    "duration": 9,
    "start_time": "2022-10-07T21:02:14.466Z"
   },
   {
    "duration": 16,
    "start_time": "2022-10-07T21:02:14.476Z"
   },
   {
    "duration": 2598,
    "start_time": "2022-10-07T21:02:14.493Z"
   },
   {
    "duration": 20,
    "start_time": "2022-10-07T21:02:17.093Z"
   },
   {
    "duration": 25,
    "start_time": "2022-10-07T21:02:17.114Z"
   },
   {
    "duration": 8,
    "start_time": "2022-10-07T21:02:17.141Z"
   },
   {
    "duration": 32,
    "start_time": "2022-10-07T21:02:17.151Z"
   },
   {
    "duration": 160,
    "start_time": "2022-10-07T21:02:17.186Z"
   },
   {
    "duration": 140,
    "start_time": "2022-10-07T21:07:52.206Z"
   },
   {
    "duration": 869,
    "start_time": "2022-10-08T09:17:03.461Z"
   },
   {
    "duration": 326,
    "start_time": "2022-10-08T09:17:04.332Z"
   },
   {
    "duration": 25,
    "start_time": "2022-10-08T09:17:04.660Z"
   },
   {
    "duration": 72,
    "start_time": "2022-10-08T09:17:04.687Z"
   },
   {
    "duration": 2139,
    "start_time": "2022-10-08T09:17:04.762Z"
   },
   {
    "duration": 12,
    "start_time": "2022-10-08T09:17:06.903Z"
   },
   {
    "duration": 74,
    "start_time": "2022-10-08T09:17:06.917Z"
   },
   {
    "duration": 0,
    "start_time": "2022-10-08T09:17:06.996Z"
   },
   {
    "duration": 0,
    "start_time": "2022-10-08T09:17:06.997Z"
   },
   {
    "duration": 0,
    "start_time": "2022-10-08T09:17:06.999Z"
   },
   {
    "duration": 0,
    "start_time": "2022-10-08T09:17:07.001Z"
   },
   {
    "duration": 0,
    "start_time": "2022-10-08T09:17:07.003Z"
   },
   {
    "duration": 0,
    "start_time": "2022-10-08T09:17:07.004Z"
   },
   {
    "duration": 0,
    "start_time": "2022-10-08T09:17:07.006Z"
   },
   {
    "duration": 0,
    "start_time": "2022-10-08T09:17:07.007Z"
   },
   {
    "duration": 0,
    "start_time": "2022-10-08T09:17:07.010Z"
   },
   {
    "duration": 0,
    "start_time": "2022-10-08T09:17:07.011Z"
   },
   {
    "duration": 0,
    "start_time": "2022-10-08T09:17:07.013Z"
   },
   {
    "duration": 0,
    "start_time": "2022-10-08T09:17:07.015Z"
   },
   {
    "duration": 0,
    "start_time": "2022-10-08T09:17:07.016Z"
   },
   {
    "duration": 0,
    "start_time": "2022-10-08T09:17:07.055Z"
   },
   {
    "duration": 0,
    "start_time": "2022-10-08T09:17:07.057Z"
   },
   {
    "duration": 0,
    "start_time": "2022-10-08T09:17:07.059Z"
   },
   {
    "duration": 0,
    "start_time": "2022-10-08T09:17:07.061Z"
   },
   {
    "duration": 0,
    "start_time": "2022-10-08T09:17:07.063Z"
   },
   {
    "duration": 0,
    "start_time": "2022-10-08T09:17:07.064Z"
   },
   {
    "duration": 0,
    "start_time": "2022-10-08T09:17:07.065Z"
   },
   {
    "duration": 0,
    "start_time": "2022-10-08T09:17:07.066Z"
   },
   {
    "duration": 0,
    "start_time": "2022-10-08T09:17:07.068Z"
   },
   {
    "duration": 0,
    "start_time": "2022-10-08T09:17:07.069Z"
   },
   {
    "duration": 0,
    "start_time": "2022-10-08T09:17:07.070Z"
   },
   {
    "duration": 0,
    "start_time": "2022-10-08T09:17:07.071Z"
   },
   {
    "duration": 0,
    "start_time": "2022-10-08T09:17:07.072Z"
   },
   {
    "duration": 0,
    "start_time": "2022-10-08T09:17:07.073Z"
   },
   {
    "duration": 0,
    "start_time": "2022-10-08T09:17:07.074Z"
   },
   {
    "duration": 0,
    "start_time": "2022-10-08T09:17:07.075Z"
   },
   {
    "duration": 0,
    "start_time": "2022-10-08T09:17:07.076Z"
   },
   {
    "duration": 0,
    "start_time": "2022-10-08T09:17:07.077Z"
   },
   {
    "duration": 0,
    "start_time": "2022-10-08T09:17:07.079Z"
   },
   {
    "duration": 0,
    "start_time": "2022-10-08T09:17:07.081Z"
   },
   {
    "duration": 0,
    "start_time": "2022-10-08T09:17:07.082Z"
   },
   {
    "duration": 0,
    "start_time": "2022-10-08T09:17:07.084Z"
   },
   {
    "duration": 0,
    "start_time": "2022-10-08T09:17:07.085Z"
   },
   {
    "duration": 0,
    "start_time": "2022-10-08T09:17:07.087Z"
   },
   {
    "duration": 0,
    "start_time": "2022-10-08T09:17:07.088Z"
   },
   {
    "duration": 0,
    "start_time": "2022-10-08T09:17:07.153Z"
   },
   {
    "duration": 0,
    "start_time": "2022-10-08T09:17:07.155Z"
   },
   {
    "duration": 0,
    "start_time": "2022-10-08T09:17:07.157Z"
   },
   {
    "duration": 0,
    "start_time": "2022-10-08T09:17:07.159Z"
   },
   {
    "duration": 0,
    "start_time": "2022-10-08T09:17:07.161Z"
   },
   {
    "duration": 0,
    "start_time": "2022-10-08T09:17:07.162Z"
   },
   {
    "duration": 0,
    "start_time": "2022-10-08T09:17:07.164Z"
   },
   {
    "duration": 0,
    "start_time": "2022-10-08T09:17:07.165Z"
   },
   {
    "duration": 0,
    "start_time": "2022-10-08T09:17:07.167Z"
   },
   {
    "duration": 9,
    "start_time": "2022-10-08T09:17:21.693Z"
   },
   {
    "duration": 62,
    "start_time": "2022-10-08T09:17:26.921Z"
   },
   {
    "duration": 717,
    "start_time": "2022-10-08T09:19:30.128Z"
   },
   {
    "duration": 105,
    "start_time": "2022-10-08T09:19:30.847Z"
   },
   {
    "duration": 17,
    "start_time": "2022-10-08T09:19:30.954Z"
   },
   {
    "duration": 57,
    "start_time": "2022-10-08T09:19:30.974Z"
   },
   {
    "duration": 2336,
    "start_time": "2022-10-08T09:19:31.033Z"
   },
   {
    "duration": 11,
    "start_time": "2022-10-08T09:19:33.371Z"
   },
   {
    "duration": 67,
    "start_time": "2022-10-08T09:19:33.384Z"
   },
   {
    "duration": 11,
    "start_time": "2022-10-08T09:19:33.454Z"
   },
   {
    "duration": 15,
    "start_time": "2022-10-08T09:19:33.467Z"
   },
   {
    "duration": 16,
    "start_time": "2022-10-08T09:19:33.485Z"
   },
   {
    "duration": 7,
    "start_time": "2022-10-08T09:19:33.503Z"
   },
   {
    "duration": 43,
    "start_time": "2022-10-08T09:19:33.512Z"
   },
   {
    "duration": 8,
    "start_time": "2022-10-08T09:19:33.557Z"
   },
   {
    "duration": 10,
    "start_time": "2022-10-08T09:19:33.567Z"
   },
   {
    "duration": 250,
    "start_time": "2022-10-08T09:19:33.579Z"
   },
   {
    "duration": 12,
    "start_time": "2022-10-08T09:19:33.831Z"
   },
   {
    "duration": 21,
    "start_time": "2022-10-08T09:19:33.855Z"
   },
   {
    "duration": 10,
    "start_time": "2022-10-08T09:19:33.878Z"
   },
   {
    "duration": 16,
    "start_time": "2022-10-08T09:19:33.890Z"
   },
   {
    "duration": 16,
    "start_time": "2022-10-08T09:19:33.908Z"
   },
   {
    "duration": 377,
    "start_time": "2022-10-08T09:19:33.925Z"
   },
   {
    "duration": 9,
    "start_time": "2022-10-08T09:19:34.304Z"
   },
   {
    "duration": 17,
    "start_time": "2022-10-08T09:19:34.315Z"
   },
   {
    "duration": 21,
    "start_time": "2022-10-08T09:19:34.334Z"
   },
   {
    "duration": 284,
    "start_time": "2022-10-08T09:19:34.357Z"
   },
   {
    "duration": 11,
    "start_time": "2022-10-08T09:19:34.643Z"
   },
   {
    "duration": 368,
    "start_time": "2022-10-08T09:19:34.656Z"
   },
   {
    "duration": 6,
    "start_time": "2022-10-08T09:19:35.028Z"
   },
   {
    "duration": 199,
    "start_time": "2022-10-08T09:19:35.036Z"
   },
   {
    "duration": 6,
    "start_time": "2022-10-08T09:19:35.237Z"
   },
   {
    "duration": 266,
    "start_time": "2022-10-08T09:19:35.254Z"
   },
   {
    "duration": 185,
    "start_time": "2022-10-08T09:19:35.522Z"
   },
   {
    "duration": 192,
    "start_time": "2022-10-08T09:19:35.709Z"
   },
   {
    "duration": 7,
    "start_time": "2022-10-08T09:19:35.903Z"
   },
   {
    "duration": 220,
    "start_time": "2022-10-08T09:19:35.912Z"
   },
   {
    "duration": 6,
    "start_time": "2022-10-08T09:19:36.134Z"
   },
   {
    "duration": 149,
    "start_time": "2022-10-08T09:19:36.155Z"
   },
   {
    "duration": 196,
    "start_time": "2022-10-08T09:19:36.306Z"
   },
   {
    "duration": 338,
    "start_time": "2022-10-08T09:19:36.504Z"
   },
   {
    "duration": 13,
    "start_time": "2022-10-08T09:19:36.844Z"
   },
   {
    "duration": 263,
    "start_time": "2022-10-08T09:19:36.859Z"
   },
   {
    "duration": 245,
    "start_time": "2022-10-08T09:19:37.124Z"
   },
   {
    "duration": 159,
    "start_time": "2022-10-08T09:19:37.371Z"
   },
   {
    "duration": 185,
    "start_time": "2022-10-08T09:19:37.533Z"
   },
   {
    "duration": 279,
    "start_time": "2022-10-08T09:19:37.720Z"
   },
   {
    "duration": 225,
    "start_time": "2022-10-08T09:19:38.001Z"
   },
   {
    "duration": 12,
    "start_time": "2022-10-08T09:19:38.228Z"
   },
   {
    "duration": 40,
    "start_time": "2022-10-08T09:19:38.241Z"
   },
   {
    "duration": 3243,
    "start_time": "2022-10-08T09:19:38.284Z"
   },
   {
    "duration": 44,
    "start_time": "2022-10-08T09:19:41.530Z"
   },
   {
    "duration": 9,
    "start_time": "2022-10-08T09:19:41.577Z"
   },
   {
    "duration": 29,
    "start_time": "2022-10-08T09:19:41.588Z"
   },
   {
    "duration": 47,
    "start_time": "2022-10-08T09:19:41.619Z"
   },
   {
    "duration": 235,
    "start_time": "2022-10-08T09:19:41.669Z"
   },
   {
    "duration": 29,
    "start_time": "2022-10-08T09:20:23.244Z"
   },
   {
    "duration": 29,
    "start_time": "2022-10-08T09:20:43.980Z"
   },
   {
    "duration": 43,
    "start_time": "2022-10-08T09:20:47.973Z"
   },
   {
    "duration": 30,
    "start_time": "2022-10-08T09:20:54.133Z"
   },
   {
    "duration": 39,
    "start_time": "2022-10-08T09:21:05.925Z"
   },
   {
    "duration": 26,
    "start_time": "2022-10-08T09:43:34.500Z"
   },
   {
    "duration": 11,
    "start_time": "2022-10-08T09:44:50.421Z"
   },
   {
    "duration": 730,
    "start_time": "2022-10-08T09:44:55.355Z"
   },
   {
    "duration": 105,
    "start_time": "2022-10-08T09:44:56.087Z"
   },
   {
    "duration": 18,
    "start_time": "2022-10-08T09:44:56.193Z"
   },
   {
    "duration": 83,
    "start_time": "2022-10-08T09:44:56.213Z"
   },
   {
    "duration": 2203,
    "start_time": "2022-10-08T09:44:56.298Z"
   },
   {
    "duration": 11,
    "start_time": "2022-10-08T09:44:58.503Z"
   },
   {
    "duration": 68,
    "start_time": "2022-10-08T09:44:58.516Z"
   },
   {
    "duration": 8,
    "start_time": "2022-10-08T09:44:58.585Z"
   },
   {
    "duration": 16,
    "start_time": "2022-10-08T09:44:58.595Z"
   },
   {
    "duration": 17,
    "start_time": "2022-10-08T09:44:58.615Z"
   },
   {
    "duration": 31,
    "start_time": "2022-10-08T09:44:58.634Z"
   },
   {
    "duration": 13,
    "start_time": "2022-10-08T09:44:58.667Z"
   },
   {
    "duration": 10,
    "start_time": "2022-10-08T09:44:58.682Z"
   },
   {
    "duration": 12,
    "start_time": "2022-10-08T09:44:58.694Z"
   },
   {
    "duration": 251,
    "start_time": "2022-10-08T09:44:58.708Z"
   },
   {
    "duration": 14,
    "start_time": "2022-10-08T09:44:58.961Z"
   },
   {
    "duration": 29,
    "start_time": "2022-10-08T09:44:58.977Z"
   },
   {
    "duration": 13,
    "start_time": "2022-10-08T09:44:59.010Z"
   },
   {
    "duration": 37,
    "start_time": "2022-10-08T09:44:59.025Z"
   },
   {
    "duration": 14,
    "start_time": "2022-10-08T09:44:59.068Z"
   },
   {
    "duration": 13,
    "start_time": "2022-10-08T09:44:59.083Z"
   },
   {
    "duration": 389,
    "start_time": "2022-10-08T09:44:59.097Z"
   },
   {
    "duration": 7,
    "start_time": "2022-10-08T09:44:59.488Z"
   },
   {
    "duration": 13,
    "start_time": "2022-10-08T09:44:59.497Z"
   },
   {
    "duration": 7,
    "start_time": "2022-10-08T09:44:59.512Z"
   },
   {
    "duration": 305,
    "start_time": "2022-10-08T09:44:59.520Z"
   },
   {
    "duration": 5,
    "start_time": "2022-10-08T09:44:59.827Z"
   },
   {
    "duration": 378,
    "start_time": "2022-10-08T09:44:59.836Z"
   },
   {
    "duration": 5,
    "start_time": "2022-10-08T09:45:00.216Z"
   },
   {
    "duration": 207,
    "start_time": "2022-10-08T09:45:00.223Z"
   },
   {
    "duration": 5,
    "start_time": "2022-10-08T09:45:00.432Z"
   },
   {
    "duration": 296,
    "start_time": "2022-10-08T09:45:00.438Z"
   },
   {
    "duration": 185,
    "start_time": "2022-10-08T09:45:00.735Z"
   },
   {
    "duration": 192,
    "start_time": "2022-10-08T09:45:00.922Z"
   },
   {
    "duration": 5,
    "start_time": "2022-10-08T09:45:01.116Z"
   },
   {
    "duration": 219,
    "start_time": "2022-10-08T09:45:01.123Z"
   },
   {
    "duration": 22,
    "start_time": "2022-10-08T09:45:01.344Z"
   },
   {
    "duration": 181,
    "start_time": "2022-10-08T09:45:01.368Z"
   },
   {
    "duration": 259,
    "start_time": "2022-10-08T09:45:01.558Z"
   },
   {
    "duration": 355,
    "start_time": "2022-10-08T09:45:01.819Z"
   },
   {
    "duration": 6,
    "start_time": "2022-10-08T09:45:02.176Z"
   },
   {
    "duration": 274,
    "start_time": "2022-10-08T09:45:02.184Z"
   },
   {
    "duration": 265,
    "start_time": "2022-10-08T09:45:02.459Z"
   },
   {
    "duration": 188,
    "start_time": "2022-10-08T09:45:02.725Z"
   },
   {
    "duration": 229,
    "start_time": "2022-10-08T09:45:02.915Z"
   },
   {
    "duration": 293,
    "start_time": "2022-10-08T09:45:03.146Z"
   },
   {
    "duration": 250,
    "start_time": "2022-10-08T09:45:03.442Z"
   },
   {
    "duration": 61,
    "start_time": "2022-10-08T09:45:03.694Z"
   },
   {
    "duration": 21,
    "start_time": "2022-10-08T09:45:03.762Z"
   },
   {
    "duration": 3480,
    "start_time": "2022-10-08T09:45:03.785Z"
   },
   {
    "duration": 25,
    "start_time": "2022-10-08T09:45:07.269Z"
   },
   {
    "duration": 6,
    "start_time": "2022-10-08T09:45:07.296Z"
   },
   {
    "duration": 21,
    "start_time": "2022-10-08T09:45:07.304Z"
   },
   {
    "duration": 51,
    "start_time": "2022-10-08T09:45:07.327Z"
   },
   {
    "duration": 208,
    "start_time": "2022-10-08T09:45:07.381Z"
   },
   {
    "duration": 180,
    "start_time": "2022-10-08T09:45:56.058Z"
   },
   {
    "duration": 87,
    "start_time": "2022-10-08T09:52:32.623Z"
   },
   {
    "duration": 10,
    "start_time": "2022-10-08T09:52:48.122Z"
   },
   {
    "duration": 12,
    "start_time": "2022-10-08T09:52:54.338Z"
   },
   {
    "duration": 1190,
    "start_time": "2022-10-08T09:53:50.196Z"
   },
   {
    "duration": 24,
    "start_time": "2022-10-08T09:54:06.772Z"
   },
   {
    "duration": 34,
    "start_time": "2022-10-08T09:56:24.639Z"
   },
   {
    "duration": 13,
    "start_time": "2022-10-08T09:56:34.248Z"
   },
   {
    "duration": 20,
    "start_time": "2022-10-08T09:56:47.860Z"
   },
   {
    "duration": 14,
    "start_time": "2022-10-08T09:56:56.063Z"
   },
   {
    "duration": 20,
    "start_time": "2022-10-08T09:57:04.858Z"
   },
   {
    "duration": 8661,
    "start_time": "2022-10-08T09:58:53.242Z"
   },
   {
    "duration": 8,
    "start_time": "2022-10-08T09:59:06.907Z"
   },
   {
    "duration": 12,
    "start_time": "2022-10-08T10:00:07.996Z"
   },
   {
    "duration": 7,
    "start_time": "2022-10-08T10:01:13.918Z"
   },
   {
    "duration": 11,
    "start_time": "2022-10-08T10:01:32.174Z"
   },
   {
    "duration": 14,
    "start_time": "2022-10-08T10:02:37.303Z"
   },
   {
    "duration": 27,
    "start_time": "2022-10-08T10:02:40.831Z"
   },
   {
    "duration": 659,
    "start_time": "2022-10-08T10:06:06.021Z"
   },
   {
    "duration": 100,
    "start_time": "2022-10-08T10:06:06.682Z"
   },
   {
    "duration": 15,
    "start_time": "2022-10-08T10:06:06.784Z"
   },
   {
    "duration": 56,
    "start_time": "2022-10-08T10:06:06.801Z"
   },
   {
    "duration": 2106,
    "start_time": "2022-10-08T10:06:06.859Z"
   },
   {
    "duration": 11,
    "start_time": "2022-10-08T10:06:08.967Z"
   },
   {
    "duration": 62,
    "start_time": "2022-10-08T10:06:08.979Z"
   },
   {
    "duration": 18,
    "start_time": "2022-10-08T10:06:09.044Z"
   },
   {
    "duration": 19,
    "start_time": "2022-10-08T10:06:09.065Z"
   },
   {
    "duration": 15,
    "start_time": "2022-10-08T10:06:09.087Z"
   },
   {
    "duration": 18,
    "start_time": "2022-10-08T10:06:09.104Z"
   },
   {
    "duration": 32,
    "start_time": "2022-10-08T10:06:09.124Z"
   },
   {
    "duration": 6,
    "start_time": "2022-10-08T10:06:09.159Z"
   },
   {
    "duration": 10,
    "start_time": "2022-10-08T10:06:09.167Z"
   },
   {
    "duration": 9,
    "start_time": "2022-10-08T10:06:09.179Z"
   },
   {
    "duration": 248,
    "start_time": "2022-10-08T10:06:09.190Z"
   },
   {
    "duration": 17,
    "start_time": "2022-10-08T10:06:09.440Z"
   },
   {
    "duration": 22,
    "start_time": "2022-10-08T10:06:09.459Z"
   },
   {
    "duration": 9,
    "start_time": "2022-10-08T10:06:09.483Z"
   },
   {
    "duration": 13,
    "start_time": "2022-10-08T10:06:09.494Z"
   },
   {
    "duration": 45,
    "start_time": "2022-10-08T10:06:09.509Z"
   },
   {
    "duration": 13,
    "start_time": "2022-10-08T10:06:09.556Z"
   },
   {
    "duration": 13,
    "start_time": "2022-10-08T10:06:09.570Z"
   },
   {
    "duration": 338,
    "start_time": "2022-10-08T10:06:09.585Z"
   },
   {
    "duration": 7,
    "start_time": "2022-10-08T10:06:09.925Z"
   },
   {
    "duration": 20,
    "start_time": "2022-10-08T10:06:09.934Z"
   },
   {
    "duration": 74,
    "start_time": "2022-10-08T10:06:09.956Z"
   },
   {
    "duration": 0,
    "start_time": "2022-10-08T10:06:10.033Z"
   },
   {
    "duration": 0,
    "start_time": "2022-10-08T10:06:10.036Z"
   },
   {
    "duration": 0,
    "start_time": "2022-10-08T10:06:10.038Z"
   },
   {
    "duration": 0,
    "start_time": "2022-10-08T10:06:10.055Z"
   },
   {
    "duration": 0,
    "start_time": "2022-10-08T10:06:10.057Z"
   },
   {
    "duration": 0,
    "start_time": "2022-10-08T10:06:10.058Z"
   },
   {
    "duration": 0,
    "start_time": "2022-10-08T10:06:10.060Z"
   },
   {
    "duration": 0,
    "start_time": "2022-10-08T10:06:10.061Z"
   },
   {
    "duration": 0,
    "start_time": "2022-10-08T10:06:10.062Z"
   },
   {
    "duration": 0,
    "start_time": "2022-10-08T10:06:10.063Z"
   },
   {
    "duration": 0,
    "start_time": "2022-10-08T10:06:10.065Z"
   },
   {
    "duration": 0,
    "start_time": "2022-10-08T10:06:10.066Z"
   },
   {
    "duration": 0,
    "start_time": "2022-10-08T10:06:10.067Z"
   },
   {
    "duration": 0,
    "start_time": "2022-10-08T10:06:10.069Z"
   },
   {
    "duration": 0,
    "start_time": "2022-10-08T10:06:10.070Z"
   },
   {
    "duration": 0,
    "start_time": "2022-10-08T10:06:10.071Z"
   },
   {
    "duration": 0,
    "start_time": "2022-10-08T10:06:10.072Z"
   },
   {
    "duration": 0,
    "start_time": "2022-10-08T10:06:10.074Z"
   },
   {
    "duration": 0,
    "start_time": "2022-10-08T10:06:10.075Z"
   },
   {
    "duration": 0,
    "start_time": "2022-10-08T10:06:10.076Z"
   },
   {
    "duration": 0,
    "start_time": "2022-10-08T10:06:10.078Z"
   },
   {
    "duration": 0,
    "start_time": "2022-10-08T10:06:10.079Z"
   },
   {
    "duration": 0,
    "start_time": "2022-10-08T10:06:10.080Z"
   },
   {
    "duration": 0,
    "start_time": "2022-10-08T10:06:10.081Z"
   },
   {
    "duration": 0,
    "start_time": "2022-10-08T10:06:10.083Z"
   },
   {
    "duration": 0,
    "start_time": "2022-10-08T10:06:10.084Z"
   },
   {
    "duration": 0,
    "start_time": "2022-10-08T10:06:10.085Z"
   },
   {
    "duration": 0,
    "start_time": "2022-10-08T10:06:10.086Z"
   },
   {
    "duration": 0,
    "start_time": "2022-10-08T10:06:10.087Z"
   },
   {
    "duration": 0,
    "start_time": "2022-10-08T10:06:10.088Z"
   },
   {
    "duration": 6,
    "start_time": "2022-10-08T10:09:48.774Z"
   },
   {
    "duration": 13,
    "start_time": "2022-10-08T10:09:57.801Z"
   },
   {
    "duration": 12,
    "start_time": "2022-10-08T10:10:12.046Z"
   },
   {
    "duration": 12,
    "start_time": "2022-10-08T10:10:16.174Z"
   },
   {
    "duration": 14,
    "start_time": "2022-10-08T10:10:35.759Z"
   },
   {
    "duration": 8,
    "start_time": "2022-10-08T10:11:02.962Z"
   },
   {
    "duration": 24,
    "start_time": "2022-10-08T10:11:21.696Z"
   },
   {
    "duration": 23,
    "start_time": "2022-10-08T10:12:00.849Z"
   },
   {
    "duration": 12,
    "start_time": "2022-10-08T10:12:43.090Z"
   },
   {
    "duration": 635,
    "start_time": "2022-10-08T10:12:58.670Z"
   },
   {
    "duration": 99,
    "start_time": "2022-10-08T10:12:59.308Z"
   },
   {
    "duration": 16,
    "start_time": "2022-10-08T10:12:59.409Z"
   },
   {
    "duration": 65,
    "start_time": "2022-10-08T10:12:59.427Z"
   },
   {
    "duration": 2035,
    "start_time": "2022-10-08T10:12:59.494Z"
   },
   {
    "duration": 13,
    "start_time": "2022-10-08T10:13:01.531Z"
   },
   {
    "duration": 98,
    "start_time": "2022-10-08T10:13:01.546Z"
   },
   {
    "duration": 7,
    "start_time": "2022-10-08T10:13:01.646Z"
   },
   {
    "duration": 61,
    "start_time": "2022-10-08T10:13:01.654Z"
   },
   {
    "duration": 52,
    "start_time": "2022-10-08T10:13:01.718Z"
   },
   {
    "duration": 17,
    "start_time": "2022-10-08T10:13:01.772Z"
   },
   {
    "duration": 27,
    "start_time": "2022-10-08T10:13:01.791Z"
   },
   {
    "duration": 35,
    "start_time": "2022-10-08T10:13:01.820Z"
   },
   {
    "duration": 30,
    "start_time": "2022-10-08T10:13:01.857Z"
   },
   {
    "duration": 21,
    "start_time": "2022-10-08T10:13:01.889Z"
   },
   {
    "duration": 222,
    "start_time": "2022-10-08T10:13:01.913Z"
   },
   {
    "duration": 18,
    "start_time": "2022-10-08T10:13:02.137Z"
   },
   {
    "duration": 24,
    "start_time": "2022-10-08T10:13:02.157Z"
   },
   {
    "duration": 11,
    "start_time": "2022-10-08T10:13:02.183Z"
   },
   {
    "duration": 19,
    "start_time": "2022-10-08T10:13:02.195Z"
   },
   {
    "duration": 38,
    "start_time": "2022-10-08T10:13:02.216Z"
   },
   {
    "duration": 13,
    "start_time": "2022-10-08T10:13:02.257Z"
   },
   {
    "duration": 13,
    "start_time": "2022-10-08T10:13:02.272Z"
   },
   {
    "duration": 343,
    "start_time": "2022-10-08T10:13:02.287Z"
   },
   {
    "duration": 9,
    "start_time": "2022-10-08T10:13:02.632Z"
   },
   {
    "duration": 22,
    "start_time": "2022-10-08T10:13:02.643Z"
   },
   {
    "duration": 91,
    "start_time": "2022-10-08T10:13:02.667Z"
   },
   {
    "duration": 0,
    "start_time": "2022-10-08T10:13:02.760Z"
   },
   {
    "duration": 0,
    "start_time": "2022-10-08T10:13:02.761Z"
   },
   {
    "duration": 0,
    "start_time": "2022-10-08T10:13:02.763Z"
   },
   {
    "duration": 0,
    "start_time": "2022-10-08T10:13:02.764Z"
   },
   {
    "duration": 0,
    "start_time": "2022-10-08T10:13:02.765Z"
   },
   {
    "duration": 0,
    "start_time": "2022-10-08T10:13:02.766Z"
   },
   {
    "duration": 0,
    "start_time": "2022-10-08T10:13:02.766Z"
   },
   {
    "duration": 0,
    "start_time": "2022-10-08T10:13:02.767Z"
   },
   {
    "duration": 0,
    "start_time": "2022-10-08T10:13:02.768Z"
   },
   {
    "duration": 0,
    "start_time": "2022-10-08T10:13:02.769Z"
   },
   {
    "duration": 0,
    "start_time": "2022-10-08T10:13:02.770Z"
   },
   {
    "duration": 0,
    "start_time": "2022-10-08T10:13:02.771Z"
   },
   {
    "duration": 0,
    "start_time": "2022-10-08T10:13:02.773Z"
   },
   {
    "duration": 0,
    "start_time": "2022-10-08T10:13:02.774Z"
   },
   {
    "duration": 0,
    "start_time": "2022-10-08T10:13:02.775Z"
   },
   {
    "duration": 0,
    "start_time": "2022-10-08T10:13:02.776Z"
   },
   {
    "duration": 0,
    "start_time": "2022-10-08T10:13:02.777Z"
   },
   {
    "duration": 0,
    "start_time": "2022-10-08T10:13:02.778Z"
   },
   {
    "duration": 0,
    "start_time": "2022-10-08T10:13:02.779Z"
   },
   {
    "duration": 0,
    "start_time": "2022-10-08T10:13:02.779Z"
   },
   {
    "duration": 0,
    "start_time": "2022-10-08T10:13:02.780Z"
   },
   {
    "duration": 0,
    "start_time": "2022-10-08T10:13:02.781Z"
   },
   {
    "duration": 0,
    "start_time": "2022-10-08T10:13:02.782Z"
   },
   {
    "duration": 0,
    "start_time": "2022-10-08T10:13:02.784Z"
   },
   {
    "duration": 0,
    "start_time": "2022-10-08T10:13:02.785Z"
   },
   {
    "duration": 0,
    "start_time": "2022-10-08T10:13:02.786Z"
   },
   {
    "duration": 0,
    "start_time": "2022-10-08T10:13:02.787Z"
   },
   {
    "duration": 0,
    "start_time": "2022-10-08T10:13:02.788Z"
   },
   {
    "duration": 0,
    "start_time": "2022-10-08T10:13:02.789Z"
   },
   {
    "duration": 0,
    "start_time": "2022-10-08T10:13:02.790Z"
   },
   {
    "duration": 663,
    "start_time": "2022-10-08T10:13:58.481Z"
   },
   {
    "duration": 101,
    "start_time": "2022-10-08T10:13:59.146Z"
   },
   {
    "duration": 18,
    "start_time": "2022-10-08T10:13:59.249Z"
   },
   {
    "duration": 52,
    "start_time": "2022-10-08T10:13:59.269Z"
   },
   {
    "duration": 2116,
    "start_time": "2022-10-08T10:13:59.325Z"
   },
   {
    "duration": 12,
    "start_time": "2022-10-08T10:14:01.443Z"
   },
   {
    "duration": 100,
    "start_time": "2022-10-08T10:14:01.457Z"
   },
   {
    "duration": 11,
    "start_time": "2022-10-08T10:14:01.560Z"
   },
   {
    "duration": 36,
    "start_time": "2022-10-08T10:14:01.575Z"
   },
   {
    "duration": 36,
    "start_time": "2022-10-08T10:14:01.614Z"
   },
   {
    "duration": 30,
    "start_time": "2022-10-08T10:14:01.652Z"
   },
   {
    "duration": 40,
    "start_time": "2022-10-08T10:14:01.684Z"
   },
   {
    "duration": 40,
    "start_time": "2022-10-08T10:14:01.726Z"
   },
   {
    "duration": 30,
    "start_time": "2022-10-08T10:14:01.770Z"
   },
   {
    "duration": 61,
    "start_time": "2022-10-08T10:14:01.802Z"
   },
   {
    "duration": 206,
    "start_time": "2022-10-08T10:14:01.865Z"
   },
   {
    "duration": 11,
    "start_time": "2022-10-08T10:14:02.073Z"
   },
   {
    "duration": 26,
    "start_time": "2022-10-08T10:14:02.086Z"
   },
   {
    "duration": 14,
    "start_time": "2022-10-08T10:14:02.113Z"
   },
   {
    "duration": 32,
    "start_time": "2022-10-08T10:14:02.128Z"
   },
   {
    "duration": 13,
    "start_time": "2022-10-08T10:14:02.161Z"
   },
   {
    "duration": 12,
    "start_time": "2022-10-08T10:14:02.176Z"
   },
   {
    "duration": 348,
    "start_time": "2022-10-08T10:14:02.189Z"
   },
   {
    "duration": 7,
    "start_time": "2022-10-08T10:14:02.539Z"
   },
   {
    "duration": 30,
    "start_time": "2022-10-08T10:14:02.554Z"
   },
   {
    "duration": 15,
    "start_time": "2022-10-08T10:14:02.586Z"
   },
   {
    "duration": 288,
    "start_time": "2022-10-08T10:14:02.603Z"
   },
   {
    "duration": 5,
    "start_time": "2022-10-08T10:14:02.893Z"
   },
   {
    "duration": 346,
    "start_time": "2022-10-08T10:14:02.900Z"
   },
   {
    "duration": 9,
    "start_time": "2022-10-08T10:14:03.247Z"
   },
   {
    "duration": 191,
    "start_time": "2022-10-08T10:14:03.258Z"
   },
   {
    "duration": 6,
    "start_time": "2022-10-08T10:14:03.450Z"
   },
   {
    "duration": 250,
    "start_time": "2022-10-08T10:14:03.458Z"
   },
   {
    "duration": 168,
    "start_time": "2022-10-08T10:14:03.710Z"
   },
   {
    "duration": 182,
    "start_time": "2022-10-08T10:14:03.880Z"
   },
   {
    "duration": 6,
    "start_time": "2022-10-08T10:14:04.065Z"
   },
   {
    "duration": 200,
    "start_time": "2022-10-08T10:14:04.073Z"
   },
   {
    "duration": 6,
    "start_time": "2022-10-08T10:14:04.275Z"
   },
   {
    "duration": 149,
    "start_time": "2022-10-08T10:14:04.282Z"
   },
   {
    "duration": 193,
    "start_time": "2022-10-08T10:14:04.433Z"
   },
   {
    "duration": 334,
    "start_time": "2022-10-08T10:14:04.631Z"
   },
   {
    "duration": 7,
    "start_time": "2022-10-08T10:14:04.967Z"
   },
   {
    "duration": 266,
    "start_time": "2022-10-08T10:14:04.975Z"
   },
   {
    "duration": 247,
    "start_time": "2022-10-08T10:14:05.243Z"
   },
   {
    "duration": 170,
    "start_time": "2022-10-08T10:14:05.492Z"
   },
   {
    "duration": 172,
    "start_time": "2022-10-08T10:14:05.663Z"
   },
   {
    "duration": 266,
    "start_time": "2022-10-08T10:14:05.836Z"
   },
   {
    "duration": 210,
    "start_time": "2022-10-08T10:14:06.104Z"
   },
   {
    "duration": 11,
    "start_time": "2022-10-08T10:14:06.316Z"
   },
   {
    "duration": 32,
    "start_time": "2022-10-08T10:14:06.328Z"
   },
   {
    "duration": 3155,
    "start_time": "2022-10-08T10:14:06.362Z"
   },
   {
    "duration": 38,
    "start_time": "2022-10-08T10:14:09.519Z"
   },
   {
    "duration": 7,
    "start_time": "2022-10-08T10:14:09.558Z"
   },
   {
    "duration": 9,
    "start_time": "2022-10-08T10:14:09.567Z"
   },
   {
    "duration": 28,
    "start_time": "2022-10-08T10:14:09.577Z"
   },
   {
    "duration": 191,
    "start_time": "2022-10-08T10:14:09.606Z"
   },
   {
    "duration": 83,
    "start_time": "2022-10-08T10:16:43.123Z"
   },
   {
    "duration": 24,
    "start_time": "2022-10-08T10:17:01.523Z"
   },
   {
    "duration": 2922,
    "start_time": "2022-10-08T10:17:40.372Z"
   },
   {
    "duration": 199,
    "start_time": "2022-10-08T11:49:16.343Z"
   },
   {
    "duration": 192,
    "start_time": "2022-10-08T11:49:34.670Z"
   },
   {
    "duration": 377,
    "start_time": "2022-10-08T11:50:05.712Z"
   },
   {
    "duration": 139,
    "start_time": "2022-10-08T11:50:42.480Z"
   },
   {
    "duration": 155,
    "start_time": "2022-10-08T11:51:17.785Z"
   },
   {
    "duration": 152,
    "start_time": "2022-10-08T11:52:20.250Z"
   },
   {
    "duration": 164,
    "start_time": "2022-10-08T11:52:43.643Z"
   },
   {
    "duration": 239,
    "start_time": "2022-10-08T11:53:33.019Z"
   },
   {
    "duration": 184,
    "start_time": "2022-10-08T11:53:59.404Z"
   },
   {
    "duration": 216,
    "start_time": "2022-10-08T11:55:01.006Z"
   },
   {
    "duration": 3383,
    "start_time": "2022-10-08T11:57:07.488Z"
   },
   {
    "duration": 216,
    "start_time": "2022-10-08T11:57:31.850Z"
   },
   {
    "duration": 154,
    "start_time": "2022-10-08T12:00:07.652Z"
   },
   {
    "duration": 237,
    "start_time": "2022-10-08T12:00:19.982Z"
   },
   {
    "duration": 219,
    "start_time": "2022-10-08T12:00:29.997Z"
   },
   {
    "duration": 215,
    "start_time": "2022-10-08T12:01:36.799Z"
   },
   {
    "duration": 202,
    "start_time": "2022-10-08T12:02:20.184Z"
   },
   {
    "duration": 165,
    "start_time": "2022-10-08T12:02:41.648Z"
   },
   {
    "duration": 152,
    "start_time": "2022-10-08T12:02:46.224Z"
   },
   {
    "duration": 157,
    "start_time": "2022-10-08T12:02:50.744Z"
   },
   {
    "duration": 4,
    "start_time": "2022-10-08T12:03:02.544Z"
   },
   {
    "duration": 5,
    "start_time": "2022-10-08T12:03:05.992Z"
   },
   {
    "duration": 198,
    "start_time": "2022-10-08T12:03:14.418Z"
   },
   {
    "duration": 207,
    "start_time": "2022-10-08T12:03:27.961Z"
   },
   {
    "duration": 208,
    "start_time": "2022-10-08T12:03:34.353Z"
   },
   {
    "duration": 170,
    "start_time": "2022-10-08T12:04:07.386Z"
   },
   {
    "duration": 201,
    "start_time": "2022-10-08T12:04:57.731Z"
   },
   {
    "duration": 219,
    "start_time": "2022-10-08T12:06:42.013Z"
   },
   {
    "duration": 217,
    "start_time": "2022-10-08T12:06:48.813Z"
   },
   {
    "duration": 208,
    "start_time": "2022-10-08T12:07:02.462Z"
   },
   {
    "duration": 282,
    "start_time": "2022-10-08T12:07:21.622Z"
   },
   {
    "duration": 241,
    "start_time": "2022-10-08T12:09:01.249Z"
   },
   {
    "duration": 140,
    "start_time": "2022-10-08T12:09:07.705Z"
   },
   {
    "duration": 611,
    "start_time": "2022-10-08T12:09:11.097Z"
   },
   {
    "duration": 3673,
    "start_time": "2022-10-08T12:09:16.745Z"
   },
   {
    "duration": 266,
    "start_time": "2022-10-08T12:09:28.441Z"
   },
   {
    "duration": 1102,
    "start_time": "2022-10-08T12:09:36.849Z"
   },
   {
    "duration": 1118,
    "start_time": "2022-10-08T12:09:55.041Z"
   },
   {
    "duration": 1203,
    "start_time": "2022-10-08T12:10:25.538Z"
   },
   {
    "duration": 2419,
    "start_time": "2022-10-08T12:10:34.756Z"
   },
   {
    "duration": 2255,
    "start_time": "2022-10-08T12:10:49.291Z"
   },
   {
    "duration": 2262,
    "start_time": "2022-10-08T12:11:32.253Z"
   },
   {
    "duration": 175,
    "start_time": "2022-10-08T13:08:34.436Z"
   },
   {
    "duration": 205,
    "start_time": "2022-10-08T13:09:12.380Z"
   },
   {
    "duration": 176,
    "start_time": "2022-10-08T15:39:44.726Z"
   },
   {
    "duration": 211,
    "start_time": "2022-10-08T15:39:46.622Z"
   },
   {
    "duration": 213,
    "start_time": "2022-10-08T15:40:22.641Z"
   },
   {
    "duration": 212,
    "start_time": "2022-10-08T15:40:36.175Z"
   },
   {
    "duration": 804,
    "start_time": "2022-10-08T15:58:53.221Z"
   },
   {
    "duration": 815,
    "start_time": "2022-10-08T15:59:33.094Z"
   },
   {
    "duration": 33,
    "start_time": "2022-10-08T16:06:55.146Z"
   },
   {
    "duration": 28,
    "start_time": "2022-10-08T16:07:50.121Z"
   },
   {
    "duration": 62,
    "start_time": "2022-10-08T16:08:01.189Z"
   },
   {
    "duration": 30,
    "start_time": "2022-10-08T16:08:03.780Z"
   },
   {
    "duration": 45,
    "start_time": "2022-10-08T16:08:16.266Z"
   },
   {
    "duration": 62,
    "start_time": "2022-10-08T16:08:24.549Z"
   },
   {
    "duration": 64,
    "start_time": "2022-10-08T16:08:32.718Z"
   },
   {
    "duration": 16,
    "start_time": "2022-10-08T16:08:37.621Z"
   },
   {
    "duration": 21,
    "start_time": "2022-10-08T16:08:43.005Z"
   },
   {
    "duration": 189,
    "start_time": "2022-10-08T16:10:19.784Z"
   },
   {
    "duration": 233,
    "start_time": "2022-10-08T16:10:52.170Z"
   },
   {
    "duration": 211,
    "start_time": "2022-10-08T16:11:02.105Z"
   },
   {
    "duration": 21,
    "start_time": "2022-10-08T16:11:41.825Z"
   },
   {
    "duration": 201,
    "start_time": "2022-10-08T16:12:27.563Z"
   },
   {
    "duration": 979,
    "start_time": "2022-10-08T16:12:44.643Z"
   },
   {
    "duration": 944,
    "start_time": "2022-10-08T16:13:02.277Z"
   },
   {
    "duration": 206,
    "start_time": "2022-10-08T16:13:13.052Z"
   },
   {
    "duration": 241,
    "start_time": "2022-10-08T16:13:25.253Z"
   },
   {
    "duration": 23,
    "start_time": "2022-10-08T16:15:05.268Z"
   },
   {
    "duration": 189,
    "start_time": "2022-10-08T16:15:17.025Z"
   },
   {
    "duration": 200,
    "start_time": "2022-10-08T16:15:57.088Z"
   },
   {
    "duration": 42,
    "start_time": "2022-10-08T17:40:34.485Z"
   },
   {
    "duration": 22,
    "start_time": "2022-10-08T17:41:25.540Z"
   },
   {
    "duration": 18,
    "start_time": "2022-10-08T17:41:47.803Z"
   },
   {
    "duration": 34,
    "start_time": "2022-10-08T17:41:55.454Z"
   },
   {
    "duration": 22,
    "start_time": "2022-10-08T17:42:09.630Z"
   },
   {
    "duration": 40,
    "start_time": "2022-10-08T17:42:12.998Z"
   },
   {
    "duration": 9,
    "start_time": "2022-10-08T17:43:19.436Z"
   },
   {
    "duration": 10,
    "start_time": "2022-10-08T17:43:29.480Z"
   },
   {
    "duration": 13,
    "start_time": "2022-10-08T17:43:54.105Z"
   },
   {
    "duration": 42,
    "start_time": "2022-10-08T17:44:01.865Z"
   },
   {
    "duration": 619,
    "start_time": "2022-10-08T20:26:18.138Z"
   },
   {
    "duration": 97,
    "start_time": "2022-10-08T20:26:18.759Z"
   },
   {
    "duration": 14,
    "start_time": "2022-10-08T20:26:18.857Z"
   },
   {
    "duration": 56,
    "start_time": "2022-10-08T20:26:18.873Z"
   },
   {
    "duration": 1770,
    "start_time": "2022-10-08T20:26:18.931Z"
   },
   {
    "duration": 10,
    "start_time": "2022-10-08T20:26:20.702Z"
   },
   {
    "duration": 51,
    "start_time": "2022-10-08T20:26:20.714Z"
   },
   {
    "duration": 7,
    "start_time": "2022-10-08T20:26:20.766Z"
   },
   {
    "duration": 11,
    "start_time": "2022-10-08T20:26:20.774Z"
   },
   {
    "duration": 30,
    "start_time": "2022-10-08T20:26:20.788Z"
   },
   {
    "duration": 12,
    "start_time": "2022-10-08T20:26:20.819Z"
   },
   {
    "duration": 8,
    "start_time": "2022-10-08T20:26:20.832Z"
   },
   {
    "duration": 10,
    "start_time": "2022-10-08T20:26:20.841Z"
   },
   {
    "duration": 10,
    "start_time": "2022-10-08T20:26:20.852Z"
   },
   {
    "duration": 7,
    "start_time": "2022-10-08T20:26:20.863Z"
   },
   {
    "duration": 220,
    "start_time": "2022-10-08T20:26:20.872Z"
   },
   {
    "duration": 15,
    "start_time": "2022-10-08T20:26:21.094Z"
   },
   {
    "duration": 21,
    "start_time": "2022-10-08T20:26:21.111Z"
   },
   {
    "duration": 11,
    "start_time": "2022-10-08T20:26:21.134Z"
   },
   {
    "duration": 7,
    "start_time": "2022-10-08T20:26:21.147Z"
   },
   {
    "duration": 10,
    "start_time": "2022-10-08T20:26:21.155Z"
   },
   {
    "duration": 43,
    "start_time": "2022-10-08T20:26:21.166Z"
   },
   {
    "duration": 327,
    "start_time": "2022-10-08T20:26:21.211Z"
   },
   {
    "duration": 6,
    "start_time": "2022-10-08T20:26:21.540Z"
   },
   {
    "duration": 9,
    "start_time": "2022-10-08T20:26:21.548Z"
   },
   {
    "duration": 8,
    "start_time": "2022-10-08T20:26:21.558Z"
   },
   {
    "duration": 243,
    "start_time": "2022-10-08T20:26:21.567Z"
   },
   {
    "duration": 6,
    "start_time": "2022-10-08T20:26:21.814Z"
   },
   {
    "duration": 278,
    "start_time": "2022-10-08T20:26:21.821Z"
   },
   {
    "duration": 11,
    "start_time": "2022-10-08T20:26:22.100Z"
   },
   {
    "duration": 158,
    "start_time": "2022-10-08T20:26:22.112Z"
   },
   {
    "duration": 5,
    "start_time": "2022-10-08T20:26:22.271Z"
   },
   {
    "duration": 208,
    "start_time": "2022-10-08T20:26:22.278Z"
   },
   {
    "duration": 175,
    "start_time": "2022-10-08T20:26:22.487Z"
   },
   {
    "duration": 189,
    "start_time": "2022-10-08T20:26:22.663Z"
   },
   {
    "duration": 4,
    "start_time": "2022-10-08T20:26:22.854Z"
   },
   {
    "duration": 170,
    "start_time": "2022-10-08T20:26:22.859Z"
   },
   {
    "duration": 5,
    "start_time": "2022-10-08T20:26:23.030Z"
   },
   {
    "duration": 129,
    "start_time": "2022-10-08T20:26:23.036Z"
   },
   {
    "duration": 175,
    "start_time": "2022-10-08T20:26:23.167Z"
   },
   {
    "duration": 266,
    "start_time": "2022-10-08T20:26:23.344Z"
   },
   {
    "duration": 5,
    "start_time": "2022-10-08T20:26:23.611Z"
   },
   {
    "duration": 219,
    "start_time": "2022-10-08T20:26:23.617Z"
   },
   {
    "duration": 219,
    "start_time": "2022-10-08T20:26:23.838Z"
   },
   {
    "duration": 152,
    "start_time": "2022-10-08T20:26:24.058Z"
   },
   {
    "duration": 160,
    "start_time": "2022-10-08T20:26:24.211Z"
   },
   {
    "duration": 216,
    "start_time": "2022-10-08T20:26:24.372Z"
   },
   {
    "duration": 176,
    "start_time": "2022-10-08T20:26:24.590Z"
   },
   {
    "duration": 10,
    "start_time": "2022-10-08T20:26:24.768Z"
   },
   {
    "duration": 31,
    "start_time": "2022-10-08T20:26:24.780Z"
   },
   {
    "duration": 17,
    "start_time": "2022-10-08T20:26:24.812Z"
   },
   {
    "duration": 211,
    "start_time": "2022-10-08T20:26:24.831Z"
   },
   {
    "duration": 294,
    "start_time": "2022-10-08T20:26:25.044Z"
   },
   {
    "duration": 205,
    "start_time": "2022-10-08T20:26:25.340Z"
   },
   {
    "duration": 195,
    "start_time": "2022-10-08T20:26:25.547Z"
   },
   {
    "duration": 202,
    "start_time": "2022-10-08T20:26:25.743Z"
   },
   {
    "duration": 204,
    "start_time": "2022-10-08T20:26:25.947Z"
   },
   {
    "duration": 189,
    "start_time": "2022-10-08T20:26:26.152Z"
   },
   {
    "duration": 193,
    "start_time": "2022-10-08T20:26:26.343Z"
   },
   {
    "duration": 18,
    "start_time": "2022-10-08T20:26:26.538Z"
   },
   {
    "duration": 19,
    "start_time": "2022-10-08T20:26:26.557Z"
   },
   {
    "duration": 4,
    "start_time": "2022-10-08T20:26:26.577Z"
   },
   {
    "duration": 25,
    "start_time": "2022-10-08T20:26:26.583Z"
   },
   {
    "duration": 23,
    "start_time": "2022-10-08T20:26:26.610Z"
   },
   {
    "duration": 168,
    "start_time": "2022-10-08T20:26:26.634Z"
   }
  ],
  "kernelspec": {
   "display_name": "Python 3 (ipykernel)",
   "language": "python",
   "name": "python3"
  },
  "language_info": {
   "codemirror_mode": {
    "name": "ipython",
    "version": 3
   },
   "file_extension": ".py",
   "mimetype": "text/x-python",
   "name": "python",
   "nbconvert_exporter": "python",
   "pygments_lexer": "ipython3",
   "version": "3.9.5"
  },
  "toc": {
   "base_numbering": 1,
   "nav_menu": {},
   "number_sections": true,
   "sideBar": true,
   "skip_h1_title": true,
   "title_cell": "Table of Contents",
   "title_sidebar": "Contents",
   "toc_cell": false,
   "toc_position": {},
   "toc_section_display": true,
   "toc_window_display": true
  }
 },
 "nbformat": 4,
 "nbformat_minor": 2
}
