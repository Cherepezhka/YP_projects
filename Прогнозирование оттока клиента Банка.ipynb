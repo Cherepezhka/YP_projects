{
 "cells": [
  {
   "attachments": {},
   "cell_type": "markdown",
   "metadata": {
    "toc": true
   },
   "source": [
    "<h1>Содержание<span class=\"tocSkip\"></span></h1>\n",
    "<div class=\"toc\"><ul class=\"toc-item\"><li><span><a href=\"#Подготовка-данных\" data-toc-modified-id=\"Подготовка-данных-1\"><span class=\"toc-item-num\">1&nbsp;&nbsp;</span>Подготовка данных</a></span></li><li><span><a href=\"#Исследование-задачи\" data-toc-modified-id=\"Исследование-задачи-2\"><span class=\"toc-item-num\">2&nbsp;&nbsp;</span>Исследование задачи</a></span><ul class=\"toc-item\"><li><span><a href=\"#Модель-Дерево-Решений\" data-toc-modified-id=\"Модель-Дерево-Решений-2.1\"><span class=\"toc-item-num\">2.1&nbsp;&nbsp;</span>Модель Дерево Решений</a></span></li><li><span><a href=\"#Логистическая-регрессия\" data-toc-modified-id=\"Логистическая-регрессия-2.2\"><span class=\"toc-item-num\">2.2&nbsp;&nbsp;</span>Логистическая регрессия</a></span></li><li><span><a href=\"#Модель-Случаный-лес\" data-toc-modified-id=\"Модель-Случаный-лес-2.3\"><span class=\"toc-item-num\">2.3&nbsp;&nbsp;</span>Модель Случаный лес</a></span></li></ul></li><li><span><a href=\"#Борьба-с-дисбалансом\" data-toc-modified-id=\"Борьба-с-дисбалансом-3\"><span class=\"toc-item-num\">3&nbsp;&nbsp;</span>Борьба с дисбалансом</a></span><ul class=\"toc-item\"><li><span><a href=\"#Дерево-решений-для-нестрафицированной-выборки.\" data-toc-modified-id=\"Дерево-решений-для-нестрафицированной-выборки.-3.1\"><span class=\"toc-item-num\">3.1&nbsp;&nbsp;</span>Дерево решений для нестрафицированной выборки.</a></span></li><li><span><a href=\"#Логистическая-регрессия-для-нестрафицированной-выборки.\" data-toc-modified-id=\"Логистическая-регрессия-для-нестрафицированной-выборки.-3.2\"><span class=\"toc-item-num\">3.2&nbsp;&nbsp;</span>Логистическая регрессия для нестрафицированной выборки.</a></span></li><li><span><a href=\"#Случайный-лес-для-нестрафицированной-выборки.\" data-toc-modified-id=\"Случайный-лес-для-нестрафицированной-выборки.-3.3\"><span class=\"toc-item-num\">3.3&nbsp;&nbsp;</span>Случайный лес для нестрафицированной выборки.</a></span></li><li><span><a href=\"#Дерево-решений-на-стратифицированной-выборке\" data-toc-modified-id=\"Дерево-решений-на-стратифицированной-выборке-3.4\"><span class=\"toc-item-num\">3.4&nbsp;&nbsp;</span>Дерево решений на стратифицированной выборке</a></span></li><li><span><a href=\"#Логистическая-регрессия-на-стратифицированной-выборке\" data-toc-modified-id=\"Логистическая-регрессия-на-стратифицированной-выборке-3.5\"><span class=\"toc-item-num\">3.5&nbsp;&nbsp;</span>Логистическая регрессия на стратифицированной выборке</a></span></li><li><span><a href=\"#Случайный-лес-на-стратифицированной-выборке\" data-toc-modified-id=\"Случайный-лес-на-стратифицированной-выборке-3.6\"><span class=\"toc-item-num\">3.6&nbsp;&nbsp;</span>Случайный лес на стратифицированной выборке</a></span></li><li><span><a href=\"#Полученные-результаты\" data-toc-modified-id=\"Полученные-результаты-3.7\"><span class=\"toc-item-num\">3.7&nbsp;&nbsp;</span>Полученные результаты</a></span></li></ul></li><li><span><a href=\"#Тестирование-модели\" data-toc-modified-id=\"Тестирование-модели-4\"><span class=\"toc-item-num\">4&nbsp;&nbsp;</span>Тестирование модели</a></span></li><li><span><a href=\"#Общий-вывод\" data-toc-modified-id=\"Общий-вывод-5\"><span class=\"toc-item-num\">5&nbsp;&nbsp;</span>Общий вывод</a></span></li><li><span><a href=\"#Чек-лист-готовности-проекта\" data-toc-modified-id=\"Чек-лист-готовности-проекта-6\"><span class=\"toc-item-num\">6&nbsp;&nbsp;</span>Чек-лист готовности проекта</a></span></li></ul></div>"
   ]
  },
  {
   "attachments": {},
   "cell_type": "markdown",
   "metadata": {},
   "source": [
    "# Отток клиентов"
   ]
  },
  {
   "attachments": {},
   "cell_type": "markdown",
   "metadata": {},
   "source": [
    "Из «Бета-Банка» стали уходить клиенты. Каждый месяц. Немного, но заметно. Банковские маркетологи посчитали: сохранять текущих клиентов дешевле, чем привлекать новых.\n",
    "\n",
    "Нужно спрогнозировать, уйдёт клиент из банка в ближайшее время или нет. Вам предоставлены исторические данные о поведении клиентов и расторжении договоров с банком. \n",
    "\n",
    "Постройте модель с предельно большим значением *F1*-меры. Чтобы сдать проект успешно, нужно довести метрику до 0.59. Проверьте *F1*-меру на тестовой выборке самостоятельно.\n",
    "\n",
    "Дополнительно измеряйте *AUC-ROC*, сравнивайте её значение с *F1*-мерой.\n",
    "\n",
    "Источник данных: [https://www.kaggle.com/barelydedicated/bank-customer-churn-modeling](https://www.kaggle.com/barelydedicated/bank-customer-churn-modeling)"
   ]
  },
  {
   "attachments": {},
   "cell_type": "markdown",
   "metadata": {},
   "source": [
    "## Подготовка данных"
   ]
  },
  {
   "cell_type": "code",
   "execution_count": 1,
   "metadata": {},
   "outputs": [],
   "source": [
    "import pandas as pd\n",
    "from scipy.stats import uniform\n",
    "\n",
    "import seaborn as sns\n",
    "import matplotlib.pyplot as plt\n",
    "\n",
    "from sklearn.tree import DecisionTreeClassifier\n",
    "from sklearn.ensemble import RandomForestClassifier\n",
    "from sklearn.linear_model import LogisticRegression\n",
    "\n",
    "from sklearn.model_selection import train_test_split\n",
    "from sklearn.preprocessing import StandardScaler\n",
    "from sklearn.model_selection import RandomizedSearchCV\n",
    "from sklearn.utils import shuffle\n",
    "from sklearn.metrics import precision_score,recall_score,f1_score,roc_auc_score\n",
    "from sklearn.metrics import precision_recall_curve, roc_curve\n",
    "\n",
    "import warnings"
   ]
  },
  {
   "cell_type": "code",
   "execution_count": 2,
   "metadata": {},
   "outputs": [],
   "source": [
    "data = pd.read_csv('https://code.s3.yandex.net/datasets/Churn.csv')"
   ]
  },
  {
   "attachments": {},
   "cell_type": "markdown",
   "metadata": {},
   "source": [
    "**Целевой признак**\n",
    "\n",
    "*Exited* — факт ухода клиента\n",
    "\n",
    "**Признаки**\n",
    "\n",
    "*RowNumber* — индекс строки в данных\n",
    "\n",
    "*CustomerId* — уникальный идентификатор клиента\n",
    "\n",
    "*Surname* — фамилия\n",
    "\n",
    "*CreditScore* — кредитный рейтинг\n",
    "\n",
    "*Geography* — страна проживания\n",
    "\n",
    "*Gender* — пол\n",
    "\n",
    "*Age* — возраст\n",
    "\n",
    "*Tenure* — сколько лет человек является клиентом банка\n",
    "\n",
    "*Balance* — баланс на счёте\n",
    "\n",
    "*NumOfProducts* — количество продуктов банка, используемых клиентом\n",
    "\n",
    "*HasCrCard* — наличие кредитной карты\n",
    "\n",
    "*IsActiveMember* — активность клиента\n",
    "\n",
    "*EstimatedSalary* — предполагаемая зарплата"
   ]
  },
  {
   "cell_type": "code",
   "execution_count": 3,
   "metadata": {
    "scrolled": false
   },
   "outputs": [
    {
     "name": "stdout",
     "output_type": "stream",
     "text": [
      "<class 'pandas.core.frame.DataFrame'>\n",
      "RangeIndex: 10000 entries, 0 to 9999\n",
      "Data columns (total 14 columns):\n",
      " #   Column           Non-Null Count  Dtype  \n",
      "---  ------           --------------  -----  \n",
      " 0   RowNumber        10000 non-null  int64  \n",
      " 1   CustomerId       10000 non-null  int64  \n",
      " 2   Surname          10000 non-null  object \n",
      " 3   CreditScore      10000 non-null  int64  \n",
      " 4   Geography        10000 non-null  object \n",
      " 5   Gender           10000 non-null  object \n",
      " 6   Age              10000 non-null  int64  \n",
      " 7   Tenure           9091 non-null   float64\n",
      " 8   Balance          10000 non-null  float64\n",
      " 9   NumOfProducts    10000 non-null  int64  \n",
      " 10  HasCrCard        10000 non-null  int64  \n",
      " 11  IsActiveMember   10000 non-null  int64  \n",
      " 12  EstimatedSalary  10000 non-null  float64\n",
      " 13  Exited           10000 non-null  int64  \n",
      "dtypes: float64(3), int64(8), object(3)\n",
      "memory usage: 1.1+ MB\n"
     ]
    }
   ],
   "source": [
    "data.info()"
   ]
  },
  {
   "cell_type": "code",
   "execution_count": 4,
   "metadata": {
    "scrolled": false
   },
   "outputs": [
    {
     "data": {
      "text/html": [
       "<div>\n",
       "<style scoped>\n",
       "    .dataframe tbody tr th:only-of-type {\n",
       "        vertical-align: middle;\n",
       "    }\n",
       "\n",
       "    .dataframe tbody tr th {\n",
       "        vertical-align: top;\n",
       "    }\n",
       "\n",
       "    .dataframe thead th {\n",
       "        text-align: right;\n",
       "    }\n",
       "</style>\n",
       "<table border=\"1\" class=\"dataframe\">\n",
       "  <thead>\n",
       "    <tr style=\"text-align: right;\">\n",
       "      <th></th>\n",
       "      <th>RowNumber</th>\n",
       "      <th>CustomerId</th>\n",
       "      <th>Surname</th>\n",
       "      <th>CreditScore</th>\n",
       "      <th>Geography</th>\n",
       "      <th>Gender</th>\n",
       "      <th>Age</th>\n",
       "      <th>Tenure</th>\n",
       "      <th>Balance</th>\n",
       "      <th>NumOfProducts</th>\n",
       "      <th>HasCrCard</th>\n",
       "      <th>IsActiveMember</th>\n",
       "      <th>EstimatedSalary</th>\n",
       "      <th>Exited</th>\n",
       "    </tr>\n",
       "  </thead>\n",
       "  <tbody>\n",
       "    <tr>\n",
       "      <th>0</th>\n",
       "      <td>1</td>\n",
       "      <td>15634602</td>\n",
       "      <td>Hargrave</td>\n",
       "      <td>619</td>\n",
       "      <td>France</td>\n",
       "      <td>Female</td>\n",
       "      <td>42</td>\n",
       "      <td>2.0</td>\n",
       "      <td>0.00</td>\n",
       "      <td>1</td>\n",
       "      <td>1</td>\n",
       "      <td>1</td>\n",
       "      <td>101348.88</td>\n",
       "      <td>1</td>\n",
       "    </tr>\n",
       "    <tr>\n",
       "      <th>1</th>\n",
       "      <td>2</td>\n",
       "      <td>15647311</td>\n",
       "      <td>Hill</td>\n",
       "      <td>608</td>\n",
       "      <td>Spain</td>\n",
       "      <td>Female</td>\n",
       "      <td>41</td>\n",
       "      <td>1.0</td>\n",
       "      <td>83807.86</td>\n",
       "      <td>1</td>\n",
       "      <td>0</td>\n",
       "      <td>1</td>\n",
       "      <td>112542.58</td>\n",
       "      <td>0</td>\n",
       "    </tr>\n",
       "    <tr>\n",
       "      <th>2</th>\n",
       "      <td>3</td>\n",
       "      <td>15619304</td>\n",
       "      <td>Onio</td>\n",
       "      <td>502</td>\n",
       "      <td>France</td>\n",
       "      <td>Female</td>\n",
       "      <td>42</td>\n",
       "      <td>8.0</td>\n",
       "      <td>159660.80</td>\n",
       "      <td>3</td>\n",
       "      <td>1</td>\n",
       "      <td>0</td>\n",
       "      <td>113931.57</td>\n",
       "      <td>1</td>\n",
       "    </tr>\n",
       "    <tr>\n",
       "      <th>3</th>\n",
       "      <td>4</td>\n",
       "      <td>15701354</td>\n",
       "      <td>Boni</td>\n",
       "      <td>699</td>\n",
       "      <td>France</td>\n",
       "      <td>Female</td>\n",
       "      <td>39</td>\n",
       "      <td>1.0</td>\n",
       "      <td>0.00</td>\n",
       "      <td>2</td>\n",
       "      <td>0</td>\n",
       "      <td>0</td>\n",
       "      <td>93826.63</td>\n",
       "      <td>0</td>\n",
       "    </tr>\n",
       "    <tr>\n",
       "      <th>4</th>\n",
       "      <td>5</td>\n",
       "      <td>15737888</td>\n",
       "      <td>Mitchell</td>\n",
       "      <td>850</td>\n",
       "      <td>Spain</td>\n",
       "      <td>Female</td>\n",
       "      <td>43</td>\n",
       "      <td>2.0</td>\n",
       "      <td>125510.82</td>\n",
       "      <td>1</td>\n",
       "      <td>1</td>\n",
       "      <td>1</td>\n",
       "      <td>79084.10</td>\n",
       "      <td>0</td>\n",
       "    </tr>\n",
       "  </tbody>\n",
       "</table>\n",
       "</div>"
      ],
      "text/plain": [
       "   RowNumber  CustomerId   Surname  CreditScore Geography  Gender  Age  \\\n",
       "0          1    15634602  Hargrave          619    France  Female   42   \n",
       "1          2    15647311      Hill          608     Spain  Female   41   \n",
       "2          3    15619304      Onio          502    France  Female   42   \n",
       "3          4    15701354      Boni          699    France  Female   39   \n",
       "4          5    15737888  Mitchell          850     Spain  Female   43   \n",
       "\n",
       "   Tenure    Balance  NumOfProducts  HasCrCard  IsActiveMember  \\\n",
       "0     2.0       0.00              1          1               1   \n",
       "1     1.0   83807.86              1          0               1   \n",
       "2     8.0  159660.80              3          1               0   \n",
       "3     1.0       0.00              2          0               0   \n",
       "4     2.0  125510.82              1          1               1   \n",
       "\n",
       "   EstimatedSalary  Exited  \n",
       "0        101348.88       1  \n",
       "1        112542.58       0  \n",
       "2        113931.57       1  \n",
       "3         93826.63       0  \n",
       "4         79084.10       0  "
      ]
     },
     "execution_count": 4,
     "metadata": {},
     "output_type": "execute_result"
    }
   ],
   "source": [
    "data.head()"
   ]
  },
  {
   "attachments": {},
   "cell_type": "markdown",
   "metadata": {},
   "source": [
    "Пропуски в данных."
   ]
  },
  {
   "cell_type": "code",
   "execution_count": 5,
   "metadata": {},
   "outputs": [
    {
     "data": {
      "text/plain": [
       "1.0     952\n",
       "2.0     950\n",
       "8.0     933\n",
       "3.0     928\n",
       "5.0     927\n",
       "7.0     925\n",
       "4.0     885\n",
       "9.0     882\n",
       "6.0     881\n",
       "10.0    446\n",
       "0.0     382\n",
       "Name: Tenure, dtype: int64"
      ]
     },
     "execution_count": 5,
     "metadata": {},
     "output_type": "execute_result"
    }
   ],
   "source": [
    "data['Tenure'].value_counts()"
   ]
  },
  {
   "attachments": {},
   "cell_type": "markdown",
   "metadata": {},
   "source": [
    "Заполним пропуски в данных с помощью KNNImputer."
   ]
  },
  {
   "cell_type": "code",
   "execution_count": 6,
   "metadata": {},
   "outputs": [
    {
     "data": {
      "text/plain": [
       "6.0     1145\n",
       "5.0     1116\n",
       "4.0     1106\n",
       "3.0     1009\n",
       "7.0     1006\n",
       "2.0      986\n",
       "8.0      965\n",
       "1.0      955\n",
       "9.0      884\n",
       "10.0     446\n",
       "0.0      382\n",
       "Name: Tenure, dtype: int64"
      ]
     },
     "execution_count": 6,
     "metadata": {},
     "output_type": "execute_result"
    }
   ],
   "source": [
    "from sklearn.impute import KNNImputer\n",
    "\n",
    "imputer = KNNImputer(n_neighbors=4)\n",
    "numerics =['CreditScore','Age','Tenure','Balance','NumOfProducts','EstimatedSalary']\n",
    "\n",
    "data[numerics] = pd.DataFrame(imputer.fit_transform(data[numerics]),columns =data[numerics].columns)\n",
    "\n",
    "data['Tenure'] = round(data['Tenure'])\n",
    "data['Tenure'].value_counts()"
   ]
  },
  {
   "attachments": {},
   "cell_type": "markdown",
   "metadata": {},
   "source": [
    "Приведем тип данных столбца Tenure к типу int."
   ]
  },
  {
   "cell_type": "code",
   "execution_count": 7,
   "metadata": {},
   "outputs": [],
   "source": [
    "data['Tenure'] = data['Tenure'].astype(\"int\")"
   ]
  },
  {
   "attachments": {},
   "cell_type": "markdown",
   "metadata": {},
   "source": [
    "Проверим на данные на явные дуликаты."
   ]
  },
  {
   "cell_type": "code",
   "execution_count": 8,
   "metadata": {},
   "outputs": [
    {
     "data": {
      "text/plain": [
       "0"
      ]
     },
     "execution_count": 8,
     "metadata": {},
     "output_type": "execute_result"
    }
   ],
   "source": [
    "data.duplicated().sum()"
   ]
  },
  {
   "attachments": {},
   "cell_type": "markdown",
   "metadata": {},
   "source": [
    "Проверим признаки на корреляцию между собой."
   ]
  },
  {
   "cell_type": "code",
   "execution_count": 9,
   "metadata": {},
   "outputs": [
    {
     "data": {
      "text/html": [
       "<style  type=\"text/css\" >\n",
       "#T_1f111_row0_col0,#T_1f111_row1_col1,#T_1f111_row2_col2,#T_1f111_row3_col3,#T_1f111_row4_col4,#T_1f111_row5_col5,#T_1f111_row6_col6,#T_1f111_row7_col7,#T_1f111_row8_col8,#T_1f111_row9_col9,#T_1f111_row10_col10{\n",
       "            background-color:  #014636;\n",
       "            color:  #f1f1f1;\n",
       "        }#T_1f111_row0_col1,#T_1f111_row0_col4,#T_1f111_row1_col0,#T_1f111_row2_col0,#T_1f111_row3_col2,#T_1f111_row3_col4,#T_1f111_row4_col3,#T_1f111_row4_col9,#T_1f111_row5_col4,#T_1f111_row6_col0,#T_1f111_row7_col2,#T_1f111_row8_col1,#T_1f111_row9_col3,#T_1f111_row10_col9{\n",
       "            background-color:  #fcf4f9;\n",
       "            color:  #000000;\n",
       "        }#T_1f111_row0_col2,#T_1f111_row1_col2,#T_1f111_row5_col2,#T_1f111_row9_col1{\n",
       "            background-color:  #faf2f8;\n",
       "            color:  #000000;\n",
       "        }#T_1f111_row0_col3,#T_1f111_row2_col4,#T_1f111_row3_col1,#T_1f111_row8_col0{\n",
       "            background-color:  #fbf2f9;\n",
       "            color:  #000000;\n",
       "        }#T_1f111_row0_col5,#T_1f111_row1_col5,#T_1f111_row8_col5{\n",
       "            background-color:  #d6d5e8;\n",
       "            color:  #000000;\n",
       "        }#T_1f111_row0_col6,#T_1f111_row2_col6,#T_1f111_row4_col6,#T_1f111_row8_col6,#T_1f111_row9_col5,#T_1f111_row9_col6{\n",
       "            background-color:  #d2d2e7;\n",
       "            color:  #000000;\n",
       "        }#T_1f111_row0_col7,#T_1f111_row10_col1{\n",
       "            background-color:  #fdf5fa;\n",
       "            color:  #000000;\n",
       "        }#T_1f111_row0_col8,#T_1f111_row9_col10{\n",
       "            background-color:  #e7dfee;\n",
       "            color:  #000000;\n",
       "        }#T_1f111_row0_col9,#T_1f111_row3_col9,#T_1f111_row4_col0,#T_1f111_row5_col0,#T_1f111_row5_col1,#T_1f111_row7_col1,#T_1f111_row9_col7,#T_1f111_row10_col7{\n",
       "            background-color:  #fef6fb;\n",
       "            color:  #000000;\n",
       "        }#T_1f111_row0_col10{\n",
       "            background-color:  #ede3f1;\n",
       "            color:  #000000;\n",
       "        }#T_1f111_row1_col3,#T_1f111_row4_col7,#T_1f111_row6_col1,#T_1f111_row6_col2{\n",
       "            background-color:  #faf1f8;\n",
       "            color:  #000000;\n",
       "        }#T_1f111_row1_col4,#T_1f111_row2_col7,#T_1f111_row2_col9,#T_1f111_row9_col0{\n",
       "            background-color:  #fef6fa;\n",
       "            color:  #000000;\n",
       "        }#T_1f111_row1_col6{\n",
       "            background-color:  #d1d1e6;\n",
       "            color:  #000000;\n",
       "        }#T_1f111_row1_col7,#T_1f111_row3_col7,#T_1f111_row4_col1,#T_1f111_row5_col6,#T_1f111_row5_col7,#T_1f111_row6_col3,#T_1f111_row6_col5,#T_1f111_row7_col9,#T_1f111_row8_col4,#T_1f111_row8_col7,#T_1f111_row8_col9,#T_1f111_row8_col10,#T_1f111_row10_col0,#T_1f111_row10_col2,#T_1f111_row10_col8{\n",
       "            background-color:  #fff7fb;\n",
       "            color:  #000000;\n",
       "        }#T_1f111_row1_col8{\n",
       "            background-color:  #eae1ef;\n",
       "            color:  #000000;\n",
       "        }#T_1f111_row1_col9,#T_1f111_row2_col1,#T_1f111_row2_col3,#T_1f111_row4_col2,#T_1f111_row5_col9,#T_1f111_row6_col9,#T_1f111_row9_col2{\n",
       "            background-color:  #fbf3f9;\n",
       "            color:  #000000;\n",
       "        }#T_1f111_row1_col10{\n",
       "            background-color:  #ebe1f0;\n",
       "            color:  #000000;\n",
       "        }#T_1f111_row2_col5,#T_1f111_row5_col10,#T_1f111_row7_col6{\n",
       "            background-color:  #d3d3e7;\n",
       "            color:  #000000;\n",
       "        }#T_1f111_row2_col8{\n",
       "            background-color:  #e5deed;\n",
       "            color:  #000000;\n",
       "        }#T_1f111_row2_col10,#T_1f111_row8_col3{\n",
       "            background-color:  #eee5f1;\n",
       "            color:  #000000;\n",
       "        }#T_1f111_row3_col0,#T_1f111_row6_col7,#T_1f111_row7_col0,#T_1f111_row7_col3,#T_1f111_row10_col4{\n",
       "            background-color:  #fdf4fa;\n",
       "            color:  #000000;\n",
       "        }#T_1f111_row3_col5{\n",
       "            background-color:  #ced0e6;\n",
       "            color:  #000000;\n",
       "        }#T_1f111_row3_col6,#T_1f111_row3_col8{\n",
       "            background-color:  #d9d7e9;\n",
       "            color:  #000000;\n",
       "        }#T_1f111_row3_col10{\n",
       "            background-color:  #a3bcda;\n",
       "            color:  #000000;\n",
       "        }#T_1f111_row4_col5{\n",
       "            background-color:  #d5d4e8;\n",
       "            color:  #000000;\n",
       "        }#T_1f111_row4_col8{\n",
       "            background-color:  #efe5f2;\n",
       "            color:  #000000;\n",
       "        }#T_1f111_row4_col10,#T_1f111_row7_col8{\n",
       "            background-color:  #ede3f0;\n",
       "            color:  #000000;\n",
       "        }#T_1f111_row5_col3{\n",
       "            background-color:  #f7eef6;\n",
       "            color:  #000000;\n",
       "        }#T_1f111_row5_col8,#T_1f111_row7_col10,#T_1f111_row9_col8{\n",
       "            background-color:  #ece2f0;\n",
       "            color:  #000000;\n",
       "        }#T_1f111_row6_col4,#T_1f111_row9_col4{\n",
       "            background-color:  #f9f0f8;\n",
       "            color:  #000000;\n",
       "        }#T_1f111_row6_col8{\n",
       "            background-color:  #e8e0ef;\n",
       "            color:  #000000;\n",
       "        }#T_1f111_row6_col10{\n",
       "            background-color:  #f1e8f3;\n",
       "            color:  #000000;\n",
       "        }#T_1f111_row7_col4,#T_1f111_row8_col2{\n",
       "            background-color:  #f7eef7;\n",
       "            color:  #000000;\n",
       "        }#T_1f111_row7_col5{\n",
       "            background-color:  #d7d5e8;\n",
       "            color:  #000000;\n",
       "        }#T_1f111_row10_col3{\n",
       "            background-color:  #bdc8e1;\n",
       "            color:  #000000;\n",
       "        }#T_1f111_row10_col5{\n",
       "            background-color:  #b8c6e0;\n",
       "            color:  #000000;\n",
       "        }#T_1f111_row10_col6{\n",
       "            background-color:  #dcd8ea;\n",
       "            color:  #000000;\n",
       "        }</style><table id=\"T_1f111_\" ><thead>    <tr>        <th class=\"blank level0\" ></th>        <th class=\"col_heading level0 col0\" >RowNumber</th>        <th class=\"col_heading level0 col1\" >CustomerId</th>        <th class=\"col_heading level0 col2\" >CreditScore</th>        <th class=\"col_heading level0 col3\" >Age</th>        <th class=\"col_heading level0 col4\" >Tenure</th>        <th class=\"col_heading level0 col5\" >Balance</th>        <th class=\"col_heading level0 col6\" >NumOfProducts</th>        <th class=\"col_heading level0 col7\" >HasCrCard</th>        <th class=\"col_heading level0 col8\" >IsActiveMember</th>        <th class=\"col_heading level0 col9\" >EstimatedSalary</th>        <th class=\"col_heading level0 col10\" >Exited</th>    </tr></thead><tbody>\n",
       "                <tr>\n",
       "                        <th id=\"T_1f111_level0_row0\" class=\"row_heading level0 row0\" >RowNumber</th>\n",
       "                        <td id=\"T_1f111_row0_col0\" class=\"data row0 col0\" >1.000000</td>\n",
       "                        <td id=\"T_1f111_row0_col1\" class=\"data row0 col1\" >0.004202</td>\n",
       "                        <td id=\"T_1f111_row0_col2\" class=\"data row0 col2\" >0.005840</td>\n",
       "                        <td id=\"T_1f111_row0_col3\" class=\"data row0 col3\" >0.000783</td>\n",
       "                        <td id=\"T_1f111_row0_col4\" class=\"data row0 col4\" >-0.008959</td>\n",
       "                        <td id=\"T_1f111_row0_col5\" class=\"data row0 col5\" >-0.009067</td>\n",
       "                        <td id=\"T_1f111_row0_col6\" class=\"data row0 col6\" >0.007246</td>\n",
       "                        <td id=\"T_1f111_row0_col7\" class=\"data row0 col7\" >0.000599</td>\n",
       "                        <td id=\"T_1f111_row0_col8\" class=\"data row0 col8\" >0.012044</td>\n",
       "                        <td id=\"T_1f111_row0_col9\" class=\"data row0 col9\" >-0.005988</td>\n",
       "                        <td id=\"T_1f111_row0_col10\" class=\"data row0 col10\" >-0.016571</td>\n",
       "            </tr>\n",
       "            <tr>\n",
       "                        <th id=\"T_1f111_level0_row1\" class=\"row_heading level0 row1\" >CustomerId</th>\n",
       "                        <td id=\"T_1f111_row1_col0\" class=\"data row1 col0\" >0.004202</td>\n",
       "                        <td id=\"T_1f111_row1_col1\" class=\"data row1 col1\" >1.000000</td>\n",
       "                        <td id=\"T_1f111_row1_col2\" class=\"data row1 col2\" >0.005308</td>\n",
       "                        <td id=\"T_1f111_row1_col3\" class=\"data row1 col3\" >0.009497</td>\n",
       "                        <td id=\"T_1f111_row1_col4\" class=\"data row1 col4\" >-0.019439</td>\n",
       "                        <td id=\"T_1f111_row1_col5\" class=\"data row1 col5\" >-0.012419</td>\n",
       "                        <td id=\"T_1f111_row1_col6\" class=\"data row1 col6\" >0.016972</td>\n",
       "                        <td id=\"T_1f111_row1_col7\" class=\"data row1 col7\" >-0.014025</td>\n",
       "                        <td id=\"T_1f111_row1_col8\" class=\"data row1 col8\" >0.001665</td>\n",
       "                        <td id=\"T_1f111_row1_col9\" class=\"data row1 col9\" >0.015271</td>\n",
       "                        <td id=\"T_1f111_row1_col10\" class=\"data row1 col10\" >-0.006248</td>\n",
       "            </tr>\n",
       "            <tr>\n",
       "                        <th id=\"T_1f111_level0_row2\" class=\"row_heading level0 row2\" >CreditScore</th>\n",
       "                        <td id=\"T_1f111_row2_col0\" class=\"data row2 col0\" >0.005840</td>\n",
       "                        <td id=\"T_1f111_row2_col1\" class=\"data row2 col1\" >0.005308</td>\n",
       "                        <td id=\"T_1f111_row2_col2\" class=\"data row2 col2\" >1.000000</td>\n",
       "                        <td id=\"T_1f111_row2_col3\" class=\"data row2 col3\" >-0.003965</td>\n",
       "                        <td id=\"T_1f111_row2_col4\" class=\"data row2 col4\" >0.000103</td>\n",
       "                        <td id=\"T_1f111_row2_col5\" class=\"data row2 col5\" >0.006268</td>\n",
       "                        <td id=\"T_1f111_row2_col6\" class=\"data row2 col6\" >0.012238</td>\n",
       "                        <td id=\"T_1f111_row2_col7\" class=\"data row2 col7\" >-0.005458</td>\n",
       "                        <td id=\"T_1f111_row2_col8\" class=\"data row2 col8\" >0.025651</td>\n",
       "                        <td id=\"T_1f111_row2_col9\" class=\"data row2 col9\" >-0.001384</td>\n",
       "                        <td id=\"T_1f111_row2_col10\" class=\"data row2 col10\" >-0.027094</td>\n",
       "            </tr>\n",
       "            <tr>\n",
       "                        <th id=\"T_1f111_level0_row3\" class=\"row_heading level0 row3\" >Age</th>\n",
       "                        <td id=\"T_1f111_row3_col0\" class=\"data row3 col0\" >0.000783</td>\n",
       "                        <td id=\"T_1f111_row3_col1\" class=\"data row3 col1\" >0.009497</td>\n",
       "                        <td id=\"T_1f111_row3_col2\" class=\"data row3 col2\" >-0.003965</td>\n",
       "                        <td id=\"T_1f111_row3_col3\" class=\"data row3 col3\" >1.000000</td>\n",
       "                        <td id=\"T_1f111_row3_col4\" class=\"data row3 col4\" >-0.010235</td>\n",
       "                        <td id=\"T_1f111_row3_col5\" class=\"data row3 col5\" >0.028308</td>\n",
       "                        <td id=\"T_1f111_row3_col6\" class=\"data row3 col6\" >-0.030680</td>\n",
       "                        <td id=\"T_1f111_row3_col7\" class=\"data row3 col7\" >-0.011721</td>\n",
       "                        <td id=\"T_1f111_row3_col8\" class=\"data row3 col8\" >0.085472</td>\n",
       "                        <td id=\"T_1f111_row3_col9\" class=\"data row3 col9\" >-0.007201</td>\n",
       "                        <td id=\"T_1f111_row3_col10\" class=\"data row3 col10\" >0.285323</td>\n",
       "            </tr>\n",
       "            <tr>\n",
       "                        <th id=\"T_1f111_level0_row4\" class=\"row_heading level0 row4\" >Tenure</th>\n",
       "                        <td id=\"T_1f111_row4_col0\" class=\"data row4 col0\" >-0.008959</td>\n",
       "                        <td id=\"T_1f111_row4_col1\" class=\"data row4 col1\" >-0.019439</td>\n",
       "                        <td id=\"T_1f111_row4_col2\" class=\"data row4 col2\" >0.000103</td>\n",
       "                        <td id=\"T_1f111_row4_col3\" class=\"data row4 col3\" >-0.010235</td>\n",
       "                        <td id=\"T_1f111_row4_col4\" class=\"data row4 col4\" >1.000000</td>\n",
       "                        <td id=\"T_1f111_row4_col5\" class=\"data row4 col5\" >-0.008465</td>\n",
       "                        <td id=\"T_1f111_row4_col6\" class=\"data row4 col6\" >0.011686</td>\n",
       "                        <td id=\"T_1f111_row4_col7\" class=\"data row4 col7\" >0.023706</td>\n",
       "                        <td id=\"T_1f111_row4_col8\" class=\"data row4 col8\" >-0.030958</td>\n",
       "                        <td id=\"T_1f111_row4_col9\" class=\"data row4 col9\" >0.011107</td>\n",
       "                        <td id=\"T_1f111_row4_col10\" class=\"data row4 col10\" >-0.014600</td>\n",
       "            </tr>\n",
       "            <tr>\n",
       "                        <th id=\"T_1f111_level0_row5\" class=\"row_heading level0 row5\" >Balance</th>\n",
       "                        <td id=\"T_1f111_row5_col0\" class=\"data row5 col0\" >-0.009067</td>\n",
       "                        <td id=\"T_1f111_row5_col1\" class=\"data row5 col1\" >-0.012419</td>\n",
       "                        <td id=\"T_1f111_row5_col2\" class=\"data row5 col2\" >0.006268</td>\n",
       "                        <td id=\"T_1f111_row5_col3\" class=\"data row5 col3\" >0.028308</td>\n",
       "                        <td id=\"T_1f111_row5_col4\" class=\"data row5 col4\" >-0.008465</td>\n",
       "                        <td id=\"T_1f111_row5_col5\" class=\"data row5 col5\" >1.000000</td>\n",
       "                        <td id=\"T_1f111_row5_col6\" class=\"data row5 col6\" >-0.304180</td>\n",
       "                        <td id=\"T_1f111_row5_col7\" class=\"data row5 col7\" >-0.014858</td>\n",
       "                        <td id=\"T_1f111_row5_col8\" class=\"data row5 col8\" >-0.010084</td>\n",
       "                        <td id=\"T_1f111_row5_col9\" class=\"data row5 col9\" >0.012797</td>\n",
       "                        <td id=\"T_1f111_row5_col10\" class=\"data row5 col10\" >0.118533</td>\n",
       "            </tr>\n",
       "            <tr>\n",
       "                        <th id=\"T_1f111_level0_row6\" class=\"row_heading level0 row6\" >NumOfProducts</th>\n",
       "                        <td id=\"T_1f111_row6_col0\" class=\"data row6 col0\" >0.007246</td>\n",
       "                        <td id=\"T_1f111_row6_col1\" class=\"data row6 col1\" >0.016972</td>\n",
       "                        <td id=\"T_1f111_row6_col2\" class=\"data row6 col2\" >0.012238</td>\n",
       "                        <td id=\"T_1f111_row6_col3\" class=\"data row6 col3\" >-0.030680</td>\n",
       "                        <td id=\"T_1f111_row6_col4\" class=\"data row6 col4\" >0.011686</td>\n",
       "                        <td id=\"T_1f111_row6_col5\" class=\"data row6 col5\" >-0.304180</td>\n",
       "                        <td id=\"T_1f111_row6_col6\" class=\"data row6 col6\" >1.000000</td>\n",
       "                        <td id=\"T_1f111_row6_col7\" class=\"data row6 col7\" >0.003183</td>\n",
       "                        <td id=\"T_1f111_row6_col8\" class=\"data row6 col8\" >0.009612</td>\n",
       "                        <td id=\"T_1f111_row6_col9\" class=\"data row6 col9\" >0.014204</td>\n",
       "                        <td id=\"T_1f111_row6_col10\" class=\"data row6 col10\" >-0.047820</td>\n",
       "            </tr>\n",
       "            <tr>\n",
       "                        <th id=\"T_1f111_level0_row7\" class=\"row_heading level0 row7\" >HasCrCard</th>\n",
       "                        <td id=\"T_1f111_row7_col0\" class=\"data row7 col0\" >0.000599</td>\n",
       "                        <td id=\"T_1f111_row7_col1\" class=\"data row7 col1\" >-0.014025</td>\n",
       "                        <td id=\"T_1f111_row7_col2\" class=\"data row7 col2\" >-0.005458</td>\n",
       "                        <td id=\"T_1f111_row7_col3\" class=\"data row7 col3\" >-0.011721</td>\n",
       "                        <td id=\"T_1f111_row7_col4\" class=\"data row7 col4\" >0.023706</td>\n",
       "                        <td id=\"T_1f111_row7_col5\" class=\"data row7 col5\" >-0.014858</td>\n",
       "                        <td id=\"T_1f111_row7_col6\" class=\"data row7 col6\" >0.003183</td>\n",
       "                        <td id=\"T_1f111_row7_col7\" class=\"data row7 col7\" >1.000000</td>\n",
       "                        <td id=\"T_1f111_row7_col8\" class=\"data row7 col8\" >-0.011866</td>\n",
       "                        <td id=\"T_1f111_row7_col9\" class=\"data row7 col9\" >-0.009933</td>\n",
       "                        <td id=\"T_1f111_row7_col10\" class=\"data row7 col10\" >-0.007138</td>\n",
       "            </tr>\n",
       "            <tr>\n",
       "                        <th id=\"T_1f111_level0_row8\" class=\"row_heading level0 row8\" >IsActiveMember</th>\n",
       "                        <td id=\"T_1f111_row8_col0\" class=\"data row8 col0\" >0.012044</td>\n",
       "                        <td id=\"T_1f111_row8_col1\" class=\"data row8 col1\" >0.001665</td>\n",
       "                        <td id=\"T_1f111_row8_col2\" class=\"data row8 col2\" >0.025651</td>\n",
       "                        <td id=\"T_1f111_row8_col3\" class=\"data row8 col3\" >0.085472</td>\n",
       "                        <td id=\"T_1f111_row8_col4\" class=\"data row8 col4\" >-0.030958</td>\n",
       "                        <td id=\"T_1f111_row8_col5\" class=\"data row8 col5\" >-0.010084</td>\n",
       "                        <td id=\"T_1f111_row8_col6\" class=\"data row8 col6\" >0.009612</td>\n",
       "                        <td id=\"T_1f111_row8_col7\" class=\"data row8 col7\" >-0.011866</td>\n",
       "                        <td id=\"T_1f111_row8_col8\" class=\"data row8 col8\" >1.000000</td>\n",
       "                        <td id=\"T_1f111_row8_col9\" class=\"data row8 col9\" >-0.011421</td>\n",
       "                        <td id=\"T_1f111_row8_col10\" class=\"data row8 col10\" >-0.156128</td>\n",
       "            </tr>\n",
       "            <tr>\n",
       "                        <th id=\"T_1f111_level0_row9\" class=\"row_heading level0 row9\" >EstimatedSalary</th>\n",
       "                        <td id=\"T_1f111_row9_col0\" class=\"data row9 col0\" >-0.005988</td>\n",
       "                        <td id=\"T_1f111_row9_col1\" class=\"data row9 col1\" >0.015271</td>\n",
       "                        <td id=\"T_1f111_row9_col2\" class=\"data row9 col2\" >-0.001384</td>\n",
       "                        <td id=\"T_1f111_row9_col3\" class=\"data row9 col3\" >-0.007201</td>\n",
       "                        <td id=\"T_1f111_row9_col4\" class=\"data row9 col4\" >0.011107</td>\n",
       "                        <td id=\"T_1f111_row9_col5\" class=\"data row9 col5\" >0.012797</td>\n",
       "                        <td id=\"T_1f111_row9_col6\" class=\"data row9 col6\" >0.014204</td>\n",
       "                        <td id=\"T_1f111_row9_col7\" class=\"data row9 col7\" >-0.009933</td>\n",
       "                        <td id=\"T_1f111_row9_col8\" class=\"data row9 col8\" >-0.011421</td>\n",
       "                        <td id=\"T_1f111_row9_col9\" class=\"data row9 col9\" >1.000000</td>\n",
       "                        <td id=\"T_1f111_row9_col10\" class=\"data row9 col10\" >0.012097</td>\n",
       "            </tr>\n",
       "            <tr>\n",
       "                        <th id=\"T_1f111_level0_row10\" class=\"row_heading level0 row10\" >Exited</th>\n",
       "                        <td id=\"T_1f111_row10_col0\" class=\"data row10 col0\" >-0.016571</td>\n",
       "                        <td id=\"T_1f111_row10_col1\" class=\"data row10 col1\" >-0.006248</td>\n",
       "                        <td id=\"T_1f111_row10_col2\" class=\"data row10 col2\" >-0.027094</td>\n",
       "                        <td id=\"T_1f111_row10_col3\" class=\"data row10 col3\" >0.285323</td>\n",
       "                        <td id=\"T_1f111_row10_col4\" class=\"data row10 col4\" >-0.014600</td>\n",
       "                        <td id=\"T_1f111_row10_col5\" class=\"data row10 col5\" >0.118533</td>\n",
       "                        <td id=\"T_1f111_row10_col6\" class=\"data row10 col6\" >-0.047820</td>\n",
       "                        <td id=\"T_1f111_row10_col7\" class=\"data row10 col7\" >-0.007138</td>\n",
       "                        <td id=\"T_1f111_row10_col8\" class=\"data row10 col8\" >-0.156128</td>\n",
       "                        <td id=\"T_1f111_row10_col9\" class=\"data row10 col9\" >0.012097</td>\n",
       "                        <td id=\"T_1f111_row10_col10\" class=\"data row10 col10\" >1.000000</td>\n",
       "            </tr>\n",
       "    </tbody></table>"
      ],
      "text/plain": [
       "<pandas.io.formats.style.Styler at 0x1e1b4704ca0>"
      ]
     },
     "execution_count": 9,
     "metadata": {},
     "output_type": "execute_result"
    }
   ],
   "source": [
    "data.corr().style.background_gradient(cmap='PuBuGn')"
   ]
  },
  {
   "attachments": {},
   "cell_type": "markdown",
   "metadata": {},
   "source": [
    "Корреляция между признаками не значительна."
   ]
  },
  {
   "attachments": {},
   "cell_type": "markdown",
   "metadata": {},
   "source": [
    "Проведем прямое кодирование (OHE), чтобы преобразовать категориальные признаки в численные. Столбец 'Surname' удалим, так как фамилия клиента не тот признак, который мог бы влиять на факт ухода клиента."
   ]
  },
  {
   "cell_type": "code",
   "execution_count": 10,
   "metadata": {},
   "outputs": [],
   "source": [
    "data=data.drop(columns=['Surname'])\n",
    "data_ohe = pd.get_dummies(data, drop_first = True)"
   ]
  },
  {
   "attachments": {},
   "cell_type": "markdown",
   "metadata": {},
   "source": [
    "Разобьем выборки на тренировочную, валидационную и тестовую в соотношениях 3:1:1"
   ]
  },
  {
   "cell_type": "code",
   "execution_count": 11,
   "metadata": {},
   "outputs": [],
   "source": [
    "features = data_ohe.drop(columns=['Exited','RowNumber','CustomerId'])\n",
    "target = data_ohe['Exited']\n",
    "\n",
    "#Отделим тестовую выборку \n",
    "features_split, features_test, target_split, target_test = train_test_split(features,target,test_size=0.2 ,random_state=12345) #,stratify = target\n",
    "\n",
    "#Разделим оставшуюся часть данных на тренировочную и валидационную выборки\n",
    "features_train, features_valid, target_train, target_valid = train_test_split(features_split,target_split,test_size=0.25 ,random_state=12345) #,stratify = target_split"
   ]
  },
  {
   "cell_type": "code",
   "execution_count": 12,
   "metadata": {},
   "outputs": [
    {
     "name": "stdout",
     "output_type": "stream",
     "text": [
      "Длина тестовой выборки: 2000 \n",
      "Длина валидационной выборки: 2000 \n",
      "Длина тренировочной выборки: 6000\n",
      "Соотношение размеров выборок: 3.0\n"
     ]
    }
   ],
   "source": [
    "print(f'Длина тестовой выборки: {features_test.shape[0]}',\n",
    "    f'\\nДлина валидационной выборки: {features_valid.shape[0]}',\n",
    "    f'\\nДлина тренировочной выборки: {features_train.shape[0]}')\n",
    "\n",
    "print(f'Соотношение размеров выборок: {features_train.shape[0] / features_valid.shape[0]}')"
   ]
  },
  {
   "attachments": {},
   "cell_type": "markdown",
   "metadata": {},
   "source": [
    "Приведем признаки к одному масштабу."
   ]
  },
  {
   "cell_type": "code",
   "execution_count": 13,
   "metadata": {},
   "outputs": [],
   "source": [
    "pd.options.mode.chained_assignment = None\n",
    "numeric = ['CreditScore','Age','Tenure','Balance','NumOfProducts','EstimatedSalary']\n",
    "\n",
    "scaler = StandardScaler()\n",
    "scaler.fit(features_train[numeric]) \n",
    "\n",
    "features_train[numeric] = scaler.transform(features_train[numeric])\n",
    "features_valid[numeric] = scaler.transform(features_valid[numeric])\n",
    "features_test[numeric] = scaler.transform(features_test[numeric])"
   ]
  },
  {
   "attachments": {},
   "cell_type": "markdown",
   "metadata": {},
   "source": [
    "## Исследование задачи"
   ]
  },
  {
   "attachments": {},
   "cell_type": "markdown",
   "metadata": {},
   "source": [
    "Рассмотрим распределение классов по выборке."
   ]
  },
  {
   "cell_type": "code",
   "execution_count": 14,
   "metadata": {},
   "outputs": [
    {
     "data": {
      "image/png": "[encoded data removed]",
      "text/plain": [
       "<Figure size 432x288 with 1 Axes>"
      ]
     },
     "metadata": {
      "needs_background": "light"
     },
     "output_type": "display_data"
    }
   ],
   "source": [
    "(target.value_counts(normalize=True)*100).plot(kind='bar',xlabel='Факт ухода клиента',ylabel='Доля класса, %',title='Распределение классов по выборке',rot=0)\n",
    "plt.show()"
   ]
  },
  {
   "attachments": {},
   "cell_type": "markdown",
   "metadata": {},
   "source": [
    "Из банка уходят только 20% клиентов. Соотношение классов  4 к 1."
   ]
  },
  {
   "cell_type": "code",
   "execution_count": 15,
   "metadata": {},
   "outputs": [],
   "source": [
    "# Функция для определения метрик модели\n",
    "def model_researh(model,features_x,target_x,output=None):\n",
    "    \n",
    "    predictions = model.predict(features_x)\n",
    "    proba_one_valid = model.predict_proba(features_x)[:,1]\n",
    "    precision = precision_score(target_x,predictions)\n",
    "    recall = recall_score(target_x,predictions)\n",
    "    auc_roc = roc_auc_score(target_x,proba_one_valid)\n",
    "    f1 = f1_score(target_x,predictions)\n",
    "    \n",
    "    #добавлен параметр output для вывода численных значний метрик\n",
    "    if output:\n",
    "        return precision, recall, auc_roc, f1\n",
    "      \n",
    "    else:\n",
    "        print(f'Параметры модели: {model.best_estimator_}')\n",
    "        print(f'Полученные метрики:\\n{precision=:.3f}\\n{recall=:.3f}\\n{auc_roc=:.3f}\\n{f1=:.3f}')"
   ]
  },
  {
   "cell_type": "code",
   "execution_count": 16,
   "metadata": {},
   "outputs": [],
   "source": [
    "#Функция для вывода графиков\n",
    "def get_graf(model,features_x,target_x):\n",
    "    \n",
    "    precision_model = model_researh(model,features_x,target_x,output=True)[0]\n",
    "    recall_model = model_researh(model,features_x,target_x,output=True)[1]\n",
    "    \n",
    "    proba_one_v = model.predict_proba(features_x)[:,1]\n",
    "    fpr, tpr, thresholds = roc_curve(target_x, proba_one_v)\n",
    "    precision_th, recall_th, thresholds = precision_recall_curve(target_x, proba_one_v)\n",
    "    \n",
    "    fig, ax = plt.subplots(1, 2, figsize=(16,6))\n",
    "\n",
    "    plt.subplot(121)\n",
    "    plt.plot(recall_th, precision_th, linewidth=5)\n",
    "    plt.plot(recall_model, precision_model,'ro', markersize=12) \n",
    "    plt.xlabel('Recall')\n",
    "    plt.ylabel('Precision')\n",
    "    plt.ylim([0.0, 1.05])\n",
    "    plt.xlim([0.0, 1.0])\n",
    "    plt.title('Кривая Precision-Recall')\n",
    "\n",
    "    plt.subplot(122)\n",
    "    plt.plot(fpr, tpr,'green', linewidth=5)\n",
    "    plt.plot([0, 1], [0, 1], linestyle='--',linewidth=3)\n",
    "    plt.xlabel('False Positive Rate')\n",
    "    plt.ylabel('True Positive Rate')\n",
    "    plt.ylim([0.0, 1.05])\n",
    "    plt.xlim([0.0, 1.0])\n",
    "    plt.title('ROC-кривая')\n",
    "    \n",
    "    plt.show()\n",
    "    \n",
    "    #print(f'{precision_model=:.3f},{recall_model=:.3f}')"
   ]
  },
  {
   "cell_type": "code",
   "execution_count": 17,
   "metadata": {},
   "outputs": [],
   "source": [
    "#отключим предупреждения\n",
    "warnings.filterwarnings('ignore')"
   ]
  },
  {
   "cell_type": "code",
   "execution_count": 18,
   "metadata": {},
   "outputs": [],
   "source": [
    "#Зададимся random_state\n",
    "RND_ST = 12345"
   ]
  },
  {
   "attachments": {},
   "cell_type": "markdown",
   "metadata": {},
   "source": [
    "### Модель Дерево Решений"
   ]
  },
  {
   "cell_type": "code",
   "execution_count": 19,
   "metadata": {},
   "outputs": [
    {
     "name": "stdout",
     "output_type": "stream",
     "text": [
      "Параметры модели: DecisionTreeClassifier(max_depth=10, min_samples_leaf=4, min_samples_split=3,\n",
      "                       random_state=12345)\n",
      "Полученные метрики:\n",
      "precision=0.622\n",
      "recall=0.463\n",
      "auc_roc=0.781\n",
      "f1=0.531\n"
     ]
    },
    {
     "data": {
      "image/png": "[encoded data removed]",
      "text/plain": [
       "<Figure size 1152x432 with 2 Axes>"
      ]
     },
     "metadata": {
      "needs_background": "light"
     },
     "output_type": "display_data"
    },
    {
     "name": "stdout",
     "output_type": "stream",
     "text": [
      "Wall time: 2.51 s\n"
     ]
    }
   ],
   "source": [
    "%%time\n",
    "\n",
    "#Зададим диапазоны параметров для RandomizedSearch\n",
    "parameters_DT = {'criterion': ['gini', 'entropy', 'log_loss'],\n",
    "              'max_depth': range(2,25),\n",
    "              'min_samples_split': range(2,5),\n",
    "              'min_samples_leaf' : range(1,5)}\n",
    "\n",
    "dt_f1 = [] #список для сбора метрики f1\n",
    "\n",
    "d_tree = RandomizedSearchCV(DecisionTreeClassifier(random_state = RND_ST),parameters_DT,\n",
    "                           random_state = RND_ST,n_iter=15, scoring='f1',n_jobs=-1)\n",
    "d_tree.fit(features_train,target_train)\n",
    "\n",
    "model_researh(d_tree,features_valid,target_valid)\n",
    "dt_f1.append(model_researh(d_tree,features_valid,target_valid,output=True)[3])\n",
    "get_graf(d_tree,features_valid,target_valid)"
   ]
  },
  {
   "attachments": {},
   "cell_type": "markdown",
   "metadata": {},
   "source": [
    "### Логистическая регрессия"
   ]
  },
  {
   "cell_type": "code",
   "execution_count": 20,
   "metadata": {},
   "outputs": [
    {
     "name": "stdout",
     "output_type": "stream",
     "text": [
      "Параметры модели: LogisticRegression(C=1.1948148550775262, max_iter=650, penalty='none',\n",
      "                   random_state=12345, solver='newton-cg')\n",
      "Полученные метрики:\n",
      "precision=0.567\n",
      "recall=0.205\n",
      "auc_roc=0.770\n",
      "f1=0.301\n"
     ]
    },
    {
     "data": {
      "image/png": "[encoded data removed]",
      "text/plain": [
       "<Figure size 1152x432 with 2 Axes>"
      ]
     },
     "metadata": {
      "needs_background": "light"
     },
     "output_type": "display_data"
    },
    {
     "name": "stdout",
     "output_type": "stream",
     "text": [
      "Wall time: 400 ms\n"
     ]
    }
   ],
   "source": [
    "%%time\n",
    "\n",
    "#зададим диапазоны параметров для RandomizedSearch\n",
    "parameters_L = {'penalty': ['l1', 'l2', 'elasticnet', 'none'],\n",
    "              'solver':['newton-cg', 'lbfgs', 'liblinear', 'sag', 'saga'],\n",
    "              'max_iter': range(100,1000,50),\n",
    "              'C': uniform(loc=0, scale=4)}\n",
    "\n",
    "L_f1 = [] #список для сбора метрики f1\n",
    "\n",
    "logistic = RandomizedSearchCV(LogisticRegression(random_state = RND_ST),parameters_L,\n",
    "                              random_state = RND_ST,n_iter=15, scoring='f1',n_jobs=-1)\n",
    "logistic.fit(features_train,target_train)\n",
    "\n",
    "model_researh(logistic,features_valid,target_valid) \n",
    "L_f1.append(model_researh(logistic,features_valid,target_valid,output=True)[3])\n",
    "get_graf(logistic,features_valid,target_valid)"
   ]
  },
  {
   "attachments": {},
   "cell_type": "markdown",
   "metadata": {},
   "source": [
    "### Модель Случаный лес"
   ]
  },
  {
   "cell_type": "code",
   "execution_count": 21,
   "metadata": {},
   "outputs": [
    {
     "name": "stdout",
     "output_type": "stream",
     "text": [
      "Параметры модели: RandomForestClassifier(criterion='entropy', max_depth=19, min_samples_leaf=3,\n",
      "                       min_samples_split=3, n_estimators=40,\n",
      "                       random_state=12345)\n",
      "Полученные метрики:\n",
      "precision=0.749\n",
      "recall=0.435\n",
      "auc_roc=0.848\n",
      "f1=0.550\n"
     ]
    },
    {
     "data": {
      "image/png": "[encoded data removed]",
      "text/plain": [
       "<Figure size 1152x432 with 2 Axes>"
      ]
     },
     "metadata": {
      "needs_background": "light"
     },
     "output_type": "display_data"
    },
    {
     "name": "stdout",
     "output_type": "stream",
     "text": [
      "Wall time: 5.49 s\n"
     ]
    }
   ],
   "source": [
    "%%time\n",
    "\n",
    "#зададим диапазоны параметров для RandomizedSearch\n",
    "parameters_RF = {'n_estimators': range(20,500,20),\n",
    "              'criterion': ['gini', 'entropy', 'log_loss'],\n",
    "              'max_depth': range(2,25),\n",
    "              'min_samples_split': range(2,5),\n",
    "              'min_samples_leaf' : range(1,5)}\n",
    "\n",
    "RF_f1 = [] #список для сбора метрики f1\n",
    "\n",
    "rand_forest = RandomizedSearchCV(RandomForestClassifier(random_state = RND_ST),parameters_RF,\n",
    "                           random_state = RND_ST,n_iter=15, scoring='f1',n_jobs=-1)\n",
    "rand_forest.fit(features_train,target_train)\n",
    "\n",
    "model_researh(rand_forest,features_valid,target_valid)\n",
    "RF_f1.append(model_researh(rand_forest,features_valid,target_valid,output=True)[3])\n",
    "get_graf(rand_forest,features_valid,target_valid)"
   ]
  },
  {
   "attachments": {},
   "cell_type": "markdown",
   "metadata": {},
   "source": [
    "**Вывод:** Лучше всего показала себя модель случайного леса, но метрика f1 = 0.55 < 0.6 не соответствует условиям ТЗ. Дерево решений показало несколько меньшую метрику f1 = 0.537. Хуже всех показала себя логистическая регрессия с метрикой f1 = 0.305.\n",
    "Для улучшения модели по этой метрике требуется сбалансировать классы в обучающей выборке."
   ]
  },
  {
   "attachments": {},
   "cell_type": "markdown",
   "metadata": {},
   "source": [
    "## Борьба с дисбалансом"
   ]
  },
  {
   "attachments": {},
   "cell_type": "markdown",
   "metadata": {},
   "source": [
    "Функция для upsampling выборки."
   ]
  },
  {
   "cell_type": "code",
   "execution_count": 22,
   "metadata": {},
   "outputs": [],
   "source": [
    "def upsample(features, target, repeat):\n",
    "    features_zeros = features[target == 0]\n",
    "    features_ones = features[target == 1]\n",
    "    target_zeros = target[target == 0]\n",
    "    target_ones = target[target == 1]\n",
    "\n",
    "    features_upsampled = pd.concat([features_zeros] + [features_ones] * repeat)\n",
    "    target_upsampled = pd.concat([target_zeros] + [target_ones] * repeat)\n",
    "    \n",
    "    features_upsampled, target_upsampled = shuffle(features_upsampled, \n",
    "                                            target_upsampled, random_state=RND_ST)\n",
    "        \n",
    "    return features_upsampled, target_upsampled"
   ]
  },
  {
   "cell_type": "code",
   "execution_count": 23,
   "metadata": {},
   "outputs": [],
   "source": [
    "features_upsampled, target_upsampled = upsample(features_train, target_train, 4)"
   ]
  },
  {
   "cell_type": "code",
   "execution_count": 24,
   "metadata": {},
   "outputs": [
    {
     "name": "stdout",
     "output_type": "stream",
     "text": [
      "Соотношение классов: 0.9805168170631665\n"
     ]
    }
   ],
   "source": [
    "print(f'Соотношение классов: {features_upsampled[target == 0 ].shape[0] / features_upsampled[target == 1].shape[0]}')"
   ]
  },
  {
   "attachments": {},
   "cell_type": "markdown",
   "metadata": {},
   "source": [
    "### Дерево решений для нестрафицированной выборки."
   ]
  },
  {
   "attachments": {},
   "cell_type": "markdown",
   "metadata": {},
   "source": [
    "На увеличенной выборке."
   ]
  },
  {
   "cell_type": "code",
   "execution_count": 25,
   "metadata": {
    "scrolled": true
   },
   "outputs": [
    {
     "name": "stdout",
     "output_type": "stream",
     "text": [
      "Параметры модели: DecisionTreeClassifier(max_depth=13, min_samples_split=3, random_state=12345)\n",
      "Полученные метрики:\n",
      "precision=0.420\n",
      "recall=0.550\n",
      "auc_roc=0.708\n",
      "f1=0.476\n",
      "Wall time: 268 ms\n"
     ]
    }
   ],
   "source": [
    "%%time\n",
    "d_tree = RandomizedSearchCV(DecisionTreeClassifier(random_state = RND_ST),parameters_DT,\n",
    "                           random_state = RND_ST,n_iter=15, scoring='f1',n_jobs=-1)\n",
    "d_tree.fit(features_upsampled,target_upsampled)\n",
    "\n",
    "model_researh(d_tree,features_valid,target_valid)\n",
    "dt_f1.append(model_researh(d_tree,features_valid,target_valid,output=True)[3])\n",
    "\n",
    "#get_graf(d_tree,features_valid,target_valid)"
   ]
  },
  {
   "attachments": {},
   "cell_type": "markdown",
   "metadata": {},
   "source": [
    "Применение баланса веса классов."
   ]
  },
  {
   "cell_type": "code",
   "execution_count": 26,
   "metadata": {},
   "outputs": [
    {
     "name": "stdout",
     "output_type": "stream",
     "text": [
      "Параметры модели: DecisionTreeClassifier(class_weight='balanced', criterion='entropy',\n",
      "                       max_depth=9, min_samples_leaf=4, min_samples_split=3,\n",
      "                       random_state=12345)\n",
      "Полученные метрики:\n",
      "precision=0.475\n",
      "recall=0.670\n",
      "auc_roc=0.792\n",
      "f1=0.556\n",
      "Wall time: 192 ms\n"
     ]
    }
   ],
   "source": [
    "%%time\n",
    "d_tree = RandomizedSearchCV(DecisionTreeClassifier(class_weight='balanced',random_state = RND_ST),parameters_DT,\n",
    "                           random_state = RND_ST,n_iter=15, scoring='f1',n_jobs=-1)\n",
    "d_tree.fit(features_train,target_train)\n",
    "\n",
    "model_researh(d_tree,features_valid,target_valid)\n",
    "dt_f1.append(model_researh(d_tree,features_valid,target_valid,output=True)[3])\n",
    "\n",
    "#get_graf(d_tree,features_valid,target_valid)"
   ]
  },
  {
   "attachments": {},
   "cell_type": "markdown",
   "metadata": {},
   "source": [
    "### Логистическая регрессия для нестрафицированной выборки."
   ]
  },
  {
   "attachments": {},
   "cell_type": "markdown",
   "metadata": {},
   "source": [
    "На upsampled выборке."
   ]
  },
  {
   "cell_type": "code",
   "execution_count": 27,
   "metadata": {},
   "outputs": [
    {
     "name": "stdout",
     "output_type": "stream",
     "text": [
      "Параметры модели: LogisticRegression(C=0.10715889955724167, max_iter=600, random_state=12345,\n",
      "                   solver='liblinear')\n",
      "Полученные метрики:\n",
      "precision=0.364\n",
      "recall=0.693\n",
      "auc_roc=0.772\n",
      "f1=0.478\n",
      "Wall time: 212 ms\n"
     ]
    }
   ],
   "source": [
    "%%time\n",
    "logistic = RandomizedSearchCV(LogisticRegression(random_state = RND_ST),parameters_L,\n",
    "                              random_state = RND_ST,n_iter=15, scoring='f1',n_jobs=-1)\n",
    "logistic.fit(features_upsampled,target_upsampled)\n",
    "\n",
    "model_researh(logistic,features_valid,target_valid)  \n",
    "L_f1.append(model_researh(logistic,features_valid,target_valid,output=True)[3])\n",
    "\n",
    "#get_graf(logistic,features_valid,target_valid)"
   ]
  },
  {
   "attachments": {},
   "cell_type": "markdown",
   "metadata": {},
   "source": [
    "Применение баланса веса классов.(class_weight='balanced')"
   ]
  },
  {
   "cell_type": "code",
   "execution_count": 28,
   "metadata": {},
   "outputs": [
    {
     "name": "stdout",
     "output_type": "stream",
     "text": [
      "Параметры модели: LogisticRegression(C=0.10715889955724167, class_weight='balanced', max_iter=600,\n",
      "                   random_state=12345, solver='liblinear')\n",
      "Полученные метрики:\n",
      "precision=0.367\n",
      "recall=0.680\n",
      "auc_roc=0.772\n",
      "f1=0.477\n",
      "Wall time: 153 ms\n"
     ]
    }
   ],
   "source": [
    "%%time\n",
    "logistic = RandomizedSearchCV(LogisticRegression(class_weight='balanced',random_state = RND_ST),parameters_L,\n",
    "                              random_state = RND_ST,n_iter=15, scoring='f1',n_jobs=-1)\n",
    "logistic.fit(features_train,target_train)\n",
    "\n",
    "model_researh(logistic,features_valid,target_valid) \n",
    "L_f1.append(model_researh(logistic,features_valid,target_valid,output=True)[3])\n",
    "\n",
    "#get_graf(logistic,features_valid,target_valid)"
   ]
  },
  {
   "attachments": {},
   "cell_type": "markdown",
   "metadata": {},
   "source": [
    "### Случайный лес для нестрафицированной выборки."
   ]
  },
  {
   "attachments": {},
   "cell_type": "markdown",
   "metadata": {},
   "source": [
    "Увеличенная выборка."
   ]
  },
  {
   "cell_type": "code",
   "execution_count": 29,
   "metadata": {},
   "outputs": [
    {
     "name": "stdout",
     "output_type": "stream",
     "text": [
      "Параметры модели: RandomForestClassifier(criterion='entropy', max_depth=24, min_samples_split=3,\n",
      "                       n_estimators=360, random_state=12345)\n",
      "Полученные метрики:\n",
      "precision=0.652\n",
      "recall=0.537\n",
      "auc_roc=0.847\n",
      "f1=0.589\n",
      "Wall time: 10.9 s\n"
     ]
    }
   ],
   "source": [
    "%%time\n",
    "rand_forest = RandomizedSearchCV(RandomForestClassifier(random_state = RND_ST),parameters_RF,\n",
    "                           random_state = RND_ST,n_iter=15, scoring='f1',n_jobs=-1)\n",
    "rand_forest.fit(features_upsampled,target_upsampled)\n",
    "\n",
    "model_researh(rand_forest,features_valid,target_valid)\n",
    "RF_f1.append(model_researh(rand_forest,features_valid,target_valid,output=True)[3])\n",
    "\n",
    "#get_graf(rand_forest,features_valid,target_valid)"
   ]
  },
  {
   "attachments": {},
   "cell_type": "markdown",
   "metadata": {},
   "source": [
    "Баланс веса классов.(class_weight='balanced')"
   ]
  },
  {
   "cell_type": "code",
   "execution_count": 30,
   "metadata": {},
   "outputs": [
    {
     "name": "stdout",
     "output_type": "stream",
     "text": [
      "Параметры модели: RandomForestClassifier(class_weight='balanced', criterion='entropy',\n",
      "                       max_depth=19, min_samples_leaf=4, n_estimators=280,\n",
      "                       random_state=12345)\n",
      "Полученные метрики:\n",
      "precision=0.634\n",
      "recall=0.586\n",
      "auc_roc=0.853\n",
      "f1=0.609\n"
     ]
    },
    {
     "data": {
      "image/png": "[encoded data removed]",
      "text/plain": [
       "<Figure size 1152x432 with 2 Axes>"
      ]
     },
     "metadata": {
      "needs_background": "light"
     },
     "output_type": "display_data"
    },
    {
     "name": "stdout",
     "output_type": "stream",
     "text": [
      "Wall time: 7.43 s\n"
     ]
    }
   ],
   "source": [
    "%%time\n",
    "rand_forest = RandomizedSearchCV(RandomForestClassifier(class_weight='balanced',random_state = RND_ST),parameters_RF,\n",
    "                           random_state = RND_ST,n_iter=15, scoring='f1',n_jobs=-1)\n",
    "rand_forest.fit(features_train,target_train)\n",
    "\n",
    "model_researh(rand_forest,features_valid,target_valid)\n",
    "RF_f1.append(model_researh(rand_forest,features_valid,target_valid,output=True)[3])\n",
    "\n",
    "get_graf(rand_forest,features_valid,target_valid)"
   ]
  },
  {
   "attachments": {},
   "cell_type": "markdown",
   "metadata": {},
   "source": [
    "Применим метод **stratify** при разделении выборок."
   ]
  },
  {
   "cell_type": "code",
   "execution_count": 31,
   "metadata": {},
   "outputs": [],
   "source": [
    "#Отделим тестовую выборку, но уже используя параметр stratify\n",
    "features_split, features_test, target_split, target_test = train_test_split(features,target,test_size=0.2 ,random_state=12345,stratify = target)\n",
    "\n",
    "#Разделим оставшуюся часть данных так же с параметром stratify\n",
    "features_train, features_valid, target_train, target_valid = train_test_split(features_split,target_split,test_size=0.25 ,random_state=12345,stratify = target_split)"
   ]
  },
  {
   "cell_type": "code",
   "execution_count": 32,
   "metadata": {},
   "outputs": [],
   "source": [
    "features_upsampled, target_upsampled = upsample(features_train, target_train, 4)"
   ]
  },
  {
   "cell_type": "code",
   "execution_count": 33,
   "metadata": {},
   "outputs": [
    {
     "name": "stdout",
     "output_type": "stream",
     "text": [
      "Соотношение классов: 0.9764922322158627\n"
     ]
    }
   ],
   "source": [
    "print(f'Соотношение классов: {features_upsampled[target == 0 ].shape[0] / features_upsampled[target == 1].shape[0]}')"
   ]
  },
  {
   "attachments": {},
   "cell_type": "markdown",
   "metadata": {},
   "source": [
    "### Дерево решений на стратифицированной выборке"
   ]
  },
  {
   "attachments": {},
   "cell_type": "markdown",
   "metadata": {},
   "source": [
    "Рассмотрим модели на стратифицированной выборке, увеличенной стратифицированной выборке, с применением *stratify* и *class_weight = 'balanced'*,с применением *stratify* , *class_weight = 'balanced'* и *upsample*."
   ]
  },
  {
   "cell_type": "code",
   "execution_count": 34,
   "metadata": {},
   "outputs": [
    {
     "name": "stdout",
     "output_type": "stream",
     "text": [
      "Параметры модели: DecisionTreeClassifier(criterion='entropy', max_depth=9, min_samples_leaf=4,\n",
      "                       min_samples_split=3, random_state=12345)\n",
      "Полученные метрики:\n",
      "precision=0.721\n",
      "recall=0.437\n",
      "auc_roc=0.814\n",
      "f1=0.544\n",
      "Wall time: 195 ms\n"
     ]
    }
   ],
   "source": [
    "%%time\n",
    "d_tree = RandomizedSearchCV(DecisionTreeClassifier(random_state = RND_ST),parameters_DT,\n",
    "                           random_state = RND_ST,n_iter=15, scoring='f1',n_jobs=-1)\n",
    "d_tree.fit(features_train,target_train)\n",
    "\n",
    "model_researh(d_tree,features_valid,target_valid)\n",
    "dt_f1.append(model_researh(d_tree,features_valid,target_valid,output=True)[3])\n",
    "\n",
    "#get_graf(d_tree,features_valid,target_valid)"
   ]
  },
  {
   "cell_type": "code",
   "execution_count": 35,
   "metadata": {},
   "outputs": [
    {
     "name": "stdout",
     "output_type": "stream",
     "text": [
      "Параметры модели: DecisionTreeClassifier(max_depth=13, min_samples_split=3, random_state=12345)\n",
      "Полученные метрики:\n",
      "precision=0.481\n",
      "recall=0.572\n",
      "auc_roc=0.717\n",
      "f1=0.523\n",
      "Wall time: 248 ms\n"
     ]
    }
   ],
   "source": [
    "%%time\n",
    "d_tree = RandomizedSearchCV(DecisionTreeClassifier(random_state = RND_ST),parameters_DT,\n",
    "                           random_state = RND_ST,n_iter=15, scoring='f1',n_jobs=-1)\n",
    "d_tree.fit(features_upsampled,target_upsampled)\n",
    "\n",
    "model_researh(d_tree,features_valid,target_valid)\n",
    "dt_f1.append(model_researh(d_tree,features_valid,target_valid,output=True)[3])\n",
    "\n",
    "#get_graf(d_tree,features_valid,target_valid)"
   ]
  },
  {
   "cell_type": "code",
   "execution_count": 36,
   "metadata": {},
   "outputs": [
    {
     "name": "stdout",
     "output_type": "stream",
     "text": [
      "Параметры модели: DecisionTreeClassifier(class_weight='balanced', criterion='entropy',\n",
      "                       max_depth=5, min_samples_leaf=3, min_samples_split=4,\n",
      "                       random_state=12345)\n",
      "Полученные метрики:\n",
      "precision=0.432\n",
      "recall=0.784\n",
      "auc_roc=0.839\n",
      "f1=0.557\n",
      "Wall time: 196 ms\n"
     ]
    }
   ],
   "source": [
    "%%time\n",
    "d_tree = RandomizedSearchCV(DecisionTreeClassifier(class_weight='balanced',random_state = RND_ST),parameters_DT,\n",
    "                           random_state = RND_ST,n_iter=15, scoring='f1',n_jobs=-1)\n",
    "d_tree.fit(features_train,target_train)\n",
    "\n",
    "model_researh(d_tree,features_valid,target_valid)\n",
    "dt_f1.append(model_researh(d_tree,features_valid,target_valid,output=True)[3])\n",
    "\n",
    "#get_graf(d_tree,features_valid,target_valid)"
   ]
  },
  {
   "cell_type": "code",
   "execution_count": 37,
   "metadata": {},
   "outputs": [],
   "source": [
    "#%%time\n",
    "#d_tree = RandomizedSearchCV(DecisionTreeClassifier(class_weight='balanced',random_state = RND_ST),parameters_DT,\n",
    "                           #random_state = RND_ST,n_iter=15, scoring='f1',n_jobs=-1)\n",
    "#d_tree.fit(features_upsampled,target_upsampled)\n",
    "\n",
    "#model_researh(d_tree,features_valid,target_valid)\n",
    "#dt_f1.append(model_researh(d_tree,features_valid,target_valid,output=True)[3])\n",
    "\n",
    "#get_graf(d_tree,features_valid,target_valid)"
   ]
  },
  {
   "attachments": {},
   "cell_type": "markdown",
   "metadata": {},
   "source": [
    "### Логистическая регрессия на стратифицированной выборке"
   ]
  },
  {
   "attachments": {},
   "cell_type": "markdown",
   "metadata": {},
   "source": [
    "Рассмотрим модели на стратифицированной выборке, увеличенной стратифицированной выборке, с применением *stratify* и *class_weight = 'balanced'*,с применением *stratify* , *class_weight = 'balanced'* и *upsample*."
   ]
  },
  {
   "cell_type": "code",
   "execution_count": 38,
   "metadata": {},
   "outputs": [
    {
     "name": "stdout",
     "output_type": "stream",
     "text": [
      "Параметры модели: LogisticRegression(C=1.1948148550775262, max_iter=650, penalty='none',\n",
      "                   random_state=12345, solver='newton-cg')\n",
      "Полученные метрики:\n",
      "precision=0.674\n",
      "recall=0.214\n",
      "auc_roc=0.788\n",
      "f1=0.325\n",
      "Wall time: 2.02 s\n"
     ]
    }
   ],
   "source": [
    "%%time\n",
    "logistic = RandomizedSearchCV(LogisticRegression(random_state = RND_ST),parameters_L,\n",
    "                              random_state = RND_ST,n_iter=15, scoring='f1',n_jobs=-1)\n",
    "logistic.fit(features_train,target_train)\n",
    "\n",
    "model_researh(logistic,features_valid,target_valid)  \n",
    "L_f1.append(model_researh(logistic,features_valid,target_valid,output=True)[3])\n",
    "\n",
    "#get_graf(logistic,features_valid,target_valid)"
   ]
  },
  {
   "cell_type": "code",
   "execution_count": 39,
   "metadata": {},
   "outputs": [
    {
     "name": "stdout",
     "output_type": "stream",
     "text": [
      "Параметры модели: LogisticRegression(C=1.1948148550775262, max_iter=650, penalty='none',\n",
      "                   random_state=12345, solver='newton-cg')\n",
      "Полученные метрики:\n",
      "precision=0.388\n",
      "recall=0.727\n",
      "auc_roc=0.792\n",
      "f1=0.506\n",
      "Wall time: 2.29 s\n"
     ]
    }
   ],
   "source": [
    "%%time\n",
    "logistic = RandomizedSearchCV(LogisticRegression(random_state = RND_ST),parameters_L,\n",
    "                              random_state = RND_ST,n_iter=15, scoring='f1',n_jobs=-1)\n",
    "logistic.fit(features_upsampled,target_upsampled)\n",
    "\n",
    "model_researh(logistic,features_valid,target_valid) \n",
    "L_f1.append(model_researh(logistic,features_valid,target_valid,output=True)[3])\n",
    "\n",
    "#get_graf(logistic,features_valid,target_valid)"
   ]
  },
  {
   "cell_type": "code",
   "execution_count": 40,
   "metadata": {},
   "outputs": [
    {
     "name": "stdout",
     "output_type": "stream",
     "text": [
      "Параметры модели: LogisticRegression(C=1.1948148550775262, class_weight='balanced', max_iter=650,\n",
      "                   penalty='none', random_state=12345, solver='newton-cg')\n",
      "Полученные метрики:\n",
      "precision=0.396\n",
      "recall=0.722\n",
      "auc_roc=0.792\n",
      "f1=0.511\n",
      "Wall time: 1.47 s\n"
     ]
    }
   ],
   "source": [
    "%%time\n",
    "logistic = RandomizedSearchCV(LogisticRegression(class_weight='balanced',random_state = RND_ST),parameters_L,\n",
    "                              random_state = RND_ST,n_iter=15, scoring='f1',n_jobs=-1)\n",
    "logistic.fit(features_train,target_train)\n",
    "\n",
    "model_researh(logistic,features_valid,target_valid)  \n",
    "L_f1.append(model_researh(logistic,features_valid,target_valid,output=True)[3])\n",
    "\n",
    "#get_graf(logistic,features_valid,target_valid)"
   ]
  },
  {
   "cell_type": "code",
   "execution_count": 41,
   "metadata": {},
   "outputs": [],
   "source": [
    "#%%time\n",
    "#logistic = RandomizedSearchCV(LogisticRegression(class_weight='balanced',random_state = RND_ST),parameters_L,\n",
    "                              #random_state = RND_ST,n_iter=15, scoring='f1',n_jobs=-1)\n",
    "#logistic.fit(features_upsampled,target_upsampled)\n",
    "\n",
    "#model_researh(logistic,features_valid,target_valid)  \n",
    "#L_f1.append(model_researh(logistic,features_valid,target_valid,output=True)[3])\n",
    "\n",
    "#get_graf(logistic,features_valid,target_valid)"
   ]
  },
  {
   "attachments": {},
   "cell_type": "markdown",
   "metadata": {},
   "source": [
    "### Случайный лес на стратифицированной выборке"
   ]
  },
  {
   "attachments": {},
   "cell_type": "markdown",
   "metadata": {},
   "source": [
    "Рассмотрим модели на стратифицированной выборке, увеличенной стратифицированной выборке, с применением *stratify* и *class_weight = 'balanced'*,с применением *stratify* , *class_weight = 'balanced'* и *upsample*."
   ]
  },
  {
   "cell_type": "code",
   "execution_count": 42,
   "metadata": {},
   "outputs": [
    {
     "name": "stdout",
     "output_type": "stream",
     "text": [
      "Параметры модели: RandomForestClassifier(criterion='entropy', max_depth=24, min_samples_split=3,\n",
      "                       n_estimators=360, random_state=12345)\n",
      "Полученные метрики:\n",
      "precision=0.770\n",
      "recall=0.445\n",
      "auc_roc=0.862\n",
      "f1=0.564\n",
      "Wall time: 7.71 s\n"
     ]
    }
   ],
   "source": [
    "%%time\n",
    "rand_forest = RandomizedSearchCV(RandomForestClassifier(random_state = RND_ST),parameters_RF,\n",
    "                           random_state = RND_ST,n_iter=15, scoring='f1',n_jobs=-1)\n",
    "rand_forest.fit(features_train,target_train)\n",
    "\n",
    "model_researh(rand_forest,features_valid,target_valid)\n",
    "RF_f1.append(model_researh(rand_forest,features_valid,target_valid,output=True)[3])\n",
    "\n",
    "#get_graf(rand_forest,features_valid,target_valid)"
   ]
  },
  {
   "cell_type": "code",
   "execution_count": 43,
   "metadata": {},
   "outputs": [
    {
     "name": "stdout",
     "output_type": "stream",
     "text": [
      "Параметры модели: RandomForestClassifier(criterion='entropy', max_depth=24, min_samples_split=3,\n",
      "                       n_estimators=360, random_state=12345)\n",
      "Полученные метрики:\n",
      "precision=0.676\n",
      "recall=0.553\n",
      "auc_roc=0.854\n",
      "f1=0.608\n"
     ]
    },
    {
     "data": {
      "image/png": "[encoded data removed]",
      "text/plain": [
       "<Figure size 1152x432 with 2 Axes>"
      ]
     },
     "metadata": {
      "needs_background": "light"
     },
     "output_type": "display_data"
    },
    {
     "name": "stdout",
     "output_type": "stream",
     "text": [
      "Wall time: 11.4 s\n"
     ]
    }
   ],
   "source": [
    "%%time\n",
    "rand_forest = RandomizedSearchCV(RandomForestClassifier(random_state = RND_ST),parameters_RF,\n",
    "                           random_state = RND_ST,n_iter=15, scoring='f1',n_jobs=-1)\n",
    "rand_forest.fit(features_upsampled,target_upsampled)\n",
    "\n",
    "model_researh(rand_forest,features_valid,target_valid)\n",
    "RF_f1.append(model_researh(rand_forest,features_valid,target_valid,output=True)[3])\n",
    "\n",
    "get_graf(rand_forest,features_valid,target_valid)"
   ]
  },
  {
   "cell_type": "code",
   "execution_count": 44,
   "metadata": {},
   "outputs": [
    {
     "name": "stdout",
     "output_type": "stream",
     "text": [
      "Параметры модели: RandomForestClassifier(class_weight='balanced', criterion='entropy',\n",
      "                       max_depth=19, min_samples_leaf=4, n_estimators=280,\n",
      "                       random_state=12345)\n",
      "Полученные метрики:\n",
      "precision=0.652\n",
      "recall=0.612\n",
      "auc_roc=0.869\n",
      "f1=0.631\n"
     ]
    },
    {
     "data": {
      "image/png": "[encoded data removed]",
      "text/plain": [
       "<Figure size 1152x432 with 2 Axes>"
      ]
     },
     "metadata": {
      "needs_background": "light"
     },
     "output_type": "display_data"
    },
    {
     "name": "stdout",
     "output_type": "stream",
     "text": [
      "Wall time: 7.73 s\n"
     ]
    }
   ],
   "source": [
    "%%time\n",
    "rand_forest = RandomizedSearchCV(RandomForestClassifier(class_weight='balanced',random_state = RND_ST),parameters_RF,\n",
    "                           random_state = RND_ST,n_iter=15, scoring='f1',n_jobs=-1)\n",
    "rand_forest.fit(features_train,target_train)\n",
    "\n",
    "model_researh(rand_forest,features_valid,target_valid)\n",
    "RF_f1.append(model_researh(rand_forest,features_valid,target_valid,output=True)[3])\n",
    "\n",
    "get_graf(rand_forest,features_valid,target_valid)"
   ]
  },
  {
   "cell_type": "code",
   "execution_count": 45,
   "metadata": {},
   "outputs": [],
   "source": [
    "#%%time\n",
    "#rand_forest = RandomizedSearchCV(RandomForestClassifier(class_weight='balanced',random_state = RND_ST),parameters_RF,\n",
    "                           #random_state = RND_ST,n_iter=15, scoring='f1',n_jobs=-1)\n",
    "#rand_forest.fit(features_upsampled,target_upsampled)\n",
    "\n",
    "#model_researh(rand_forest,features_valid,target_valid)\n",
    "#RF_f1.append(model_researh(rand_forest,features_valid,target_valid,output=True)[3])\n",
    "\n",
    "#get_graf(rand_forest,features_valid,target_valid)"
   ]
  },
  {
   "attachments": {},
   "cell_type": "markdown",
   "metadata": {},
   "source": [
    "### Полученные результаты"
   ]
  },
  {
   "cell_type": "code",
   "execution_count": 46,
   "metadata": {},
   "outputs": [
    {
     "data": {
      "image/png": "[encoded data removed]",
      "text/plain": [
       "<Figure size 864x576 with 2 Axes>"
      ]
     },
     "metadata": {
      "needs_background": "light"
     },
     "output_type": "display_data"
    }
   ],
   "source": [
    "f1_results = pd.DataFrame(data={'DecisionTree':dt_f1, 'LogRegression':L_f1, 'RandomForest':RF_f1},index=['None', 'non-stratified+upsampled','non-stratified+class_weight_balanced','stratified','stratified+upsampled','stratified+class_weight_balanced']) #,'stratified+upsampled+class_weight_balanced'\n",
    "\n",
    "\n",
    "plt.figure(figsize=(12,8))\n",
    "sns.heatmap(f1_results,annot=True,fmt='.3f',cmap='Greens')\n",
    "plt.show()"
   ]
  },
  {
   "attachments": {},
   "cell_type": "markdown",
   "metadata": {},
   "source": [
    "**Вывод:** Наилучшую метрику f1 = 0.631 показала модель RandomForest на стратифицированной выборке с class_weight='balanced'."
   ]
  },
  {
   "attachments": {},
   "cell_type": "markdown",
   "metadata": {},
   "source": [
    "## Тестирование модели"
   ]
  },
  {
   "attachments": {},
   "cell_type": "markdown",
   "metadata": {},
   "source": [
    "Проверим метрики модели на тестовой выборке."
   ]
  },
  {
   "cell_type": "code",
   "execution_count": 47,
   "metadata": {},
   "outputs": [
    {
     "name": "stdout",
     "output_type": "stream",
     "text": [
      "Параметры модели: RandomForestClassifier(class_weight='balanced', criterion='entropy',\n",
      "                       max_depth=19, min_samples_leaf=4, n_estimators=280,\n",
      "                       random_state=12345)\n",
      "Полученные метрики:\n",
      "precision=0.653\n",
      "recall=0.597\n",
      "auc_roc=0.869\n",
      "f1=0.624\n"
     ]
    },
    {
     "data": {
      "image/png": "[encoded data removed]",
      "text/plain": [
       "<Figure size 1152x432 with 2 Axes>"
      ]
     },
     "metadata": {
      "needs_background": "light"
     },
     "output_type": "display_data"
    },
    {
     "name": "stdout",
     "output_type": "stream",
     "text": [
      "Wall time: 7.55 s\n"
     ]
    }
   ],
   "source": [
    "%%time\n",
    "rand_forest = RandomizedSearchCV(RandomForestClassifier(class_weight='balanced',random_state = RND_ST),parameters_RF,\n",
    "                           random_state = RND_ST,n_iter=15, scoring='f1',n_jobs=-1)\n",
    "rand_forest.fit(features_train,target_train)\n",
    "\n",
    "model_researh(rand_forest,features_test,target_test)\n",
    "\n",
    "get_graf(rand_forest,features_test,target_test)"
   ]
  },
  {
   "attachments": {},
   "cell_type": "markdown",
   "metadata": {},
   "source": [
    "**Вывод:** Модель показала себя успешно на тестовой выборке с метрикой f1 = 0.624 > 0.59."
   ]
  },
  {
   "attachments": {},
   "cell_type": "markdown",
   "metadata": {},
   "source": [
    "## Общий вывод"
   ]
  },
  {
   "attachments": {},
   "cell_type": "markdown",
   "metadata": {},
   "source": [
    "Проведено исследование данных об оттоке клиентов из банка. \n",
    "\n",
    "Данный подготовлены для обучения моделей.\n",
    "\n",
    "Рассмотрены модели дерева решений, логистической регрессии и случайного леса для прогнозирования ухода клиента. \n",
    "\n",
    "Рассмотрены различные методы борьбы с дисбалансом классов ( увеличение выборки,балансировка веса классов).\n",
    "\n",
    "Получены 3 модели с F1-мерой > 0.59. Наилучшей оказалась модель случайного леса на стратифицированной выборке с учетом баланса классов (class_weight = 'balanced'). Для всех моделей измерена метрика AUC-ROC.\n",
    "\n",
    "Модель показала успешные результаты на тестовой выборке."
   ]
  }
 ],
 "metadata": {
  "ExecuteTimeLog": [
   {
    "duration": 1800,
    "start_time": "2022-11-17T11:34:20.943Z"
   },
   {
    "duration": 82,
    "start_time": "2022-11-17T11:34:24.374Z"
   },
   {
    "duration": 14,
    "start_time": "2022-11-17T11:34:35.846Z"
   },
   {
    "duration": 20,
    "start_time": "2022-11-17T11:34:46.168Z"
   },
   {
    "duration": 12,
    "start_time": "2022-11-17T11:42:59.054Z"
   },
   {
    "duration": 8,
    "start_time": "2022-11-17T11:43:10.286Z"
   },
   {
    "duration": 6,
    "start_time": "2022-11-17T11:43:17.949Z"
   },
   {
    "duration": 6,
    "start_time": "2022-11-17T11:43:40.389Z"
   },
   {
    "duration": 7,
    "start_time": "2022-11-17T11:43:45.528Z"
   },
   {
    "duration": 9,
    "start_time": "2022-11-17T12:58:42.291Z"
   },
   {
    "duration": 7,
    "start_time": "2022-11-17T12:59:06.633Z"
   },
   {
    "duration": 7,
    "start_time": "2022-11-17T12:59:20.608Z"
   },
   {
    "duration": 13,
    "start_time": "2022-11-17T13:03:35.046Z"
   },
   {
    "duration": 15,
    "start_time": "2022-11-17T13:43:54.496Z"
   },
   {
    "duration": 5,
    "start_time": "2022-11-17T13:44:12.630Z"
   },
   {
    "duration": 4,
    "start_time": "2022-11-17T13:45:11.810Z"
   },
   {
    "duration": 5,
    "start_time": "2022-11-17T13:45:30.666Z"
   },
   {
    "duration": 1553,
    "start_time": "2022-11-22T08:27:16.762Z"
   },
   {
    "duration": 90,
    "start_time": "2022-11-22T08:27:18.317Z"
   },
   {
    "duration": 20,
    "start_time": "2022-11-22T08:27:18.408Z"
   },
   {
    "duration": 27,
    "start_time": "2022-11-22T08:27:18.429Z"
   },
   {
    "duration": 6,
    "start_time": "2022-11-22T08:27:18.458Z"
   },
   {
    "duration": 25,
    "start_time": "2022-11-22T08:27:18.466Z"
   },
   {
    "duration": 8,
    "start_time": "2022-11-22T08:27:18.493Z"
   },
   {
    "duration": 16,
    "start_time": "2022-11-22T08:27:18.502Z"
   },
   {
    "duration": 14,
    "start_time": "2022-11-22T08:27:18.520Z"
   },
   {
    "duration": 13,
    "start_time": "2022-11-22T08:27:18.536Z"
   },
   {
    "duration": 4,
    "start_time": "2022-11-22T08:27:18.551Z"
   },
   {
    "duration": 7,
    "start_time": "2022-11-22T08:27:18.557Z"
   },
   {
    "duration": 7,
    "start_time": "2022-11-22T08:27:18.566Z"
   },
   {
    "duration": 6,
    "start_time": "2022-11-22T08:28:23.028Z"
   },
   {
    "duration": 58837,
    "start_time": "2022-11-22T08:35:22.490Z"
   },
   {
    "duration": 17,
    "start_time": "2022-11-22T08:37:46.665Z"
   },
   {
    "duration": 14,
    "start_time": "2022-11-22T08:38:05.465Z"
   },
   {
    "duration": 10,
    "start_time": "2022-11-22T08:38:20.680Z"
   },
   {
    "duration": 73,
    "start_time": "2022-11-22T08:39:18.104Z"
   },
   {
    "duration": 35,
    "start_time": "2022-11-22T08:40:03.999Z"
   },
   {
    "duration": 26,
    "start_time": "2022-11-22T08:40:35.679Z"
   },
   {
    "duration": 340,
    "start_time": "2022-11-22T08:40:42.495Z"
   },
   {
    "duration": 25,
    "start_time": "2022-11-22T08:40:55.169Z"
   },
   {
    "duration": 35,
    "start_time": "2022-11-22T08:41:05.240Z"
   },
   {
    "duration": 24,
    "start_time": "2022-11-22T08:41:22.100Z"
   },
   {
    "duration": 36,
    "start_time": "2022-11-22T08:41:27.609Z"
   },
   {
    "duration": 23,
    "start_time": "2022-11-22T08:41:33.507Z"
   },
   {
    "duration": 48,
    "start_time": "2022-11-22T08:41:42.212Z"
   },
   {
    "duration": 1642,
    "start_time": "2022-11-22T11:52:37.685Z"
   },
   {
    "duration": 145,
    "start_time": "2022-11-22T11:52:39.329Z"
   },
   {
    "duration": 15,
    "start_time": "2022-11-22T11:52:39.475Z"
   },
   {
    "duration": 20,
    "start_time": "2022-11-22T11:52:39.492Z"
   },
   {
    "duration": 8,
    "start_time": "2022-11-22T11:52:39.516Z"
   },
   {
    "duration": 11,
    "start_time": "2022-11-22T11:52:39.526Z"
   },
   {
    "duration": 6,
    "start_time": "2022-11-22T11:52:39.539Z"
   },
   {
    "duration": 20,
    "start_time": "2022-11-22T11:52:39.547Z"
   },
   {
    "duration": 21,
    "start_time": "2022-11-22T11:52:39.570Z"
   },
   {
    "duration": 11,
    "start_time": "2022-11-22T11:52:39.593Z"
   },
   {
    "duration": 5,
    "start_time": "2022-11-22T11:52:39.638Z"
   },
   {
    "duration": 75,
    "start_time": "2022-11-22T11:52:39.645Z"
   },
   {
    "duration": 49383,
    "start_time": "2022-11-22T11:52:39.722Z"
   },
   {
    "duration": 4,
    "start_time": "2022-11-22T11:53:29.107Z"
   },
   {
    "duration": 8,
    "start_time": "2022-11-22T11:53:29.137Z"
   },
   {
    "duration": 96,
    "start_time": "2022-11-22T12:12:00.130Z"
   },
   {
    "duration": 120,
    "start_time": "2022-11-22T13:03:10.484Z"
   },
   {
    "duration": 30,
    "start_time": "2022-11-22T13:04:12.924Z"
   },
   {
    "duration": 6,
    "start_time": "2022-11-22T13:06:21.265Z"
   },
   {
    "duration": 6,
    "start_time": "2022-11-22T13:07:22.619Z"
   },
   {
    "duration": 5,
    "start_time": "2022-11-22T13:08:19.089Z"
   },
   {
    "duration": 7,
    "start_time": "2022-11-22T13:08:45.689Z"
   },
   {
    "duration": 9,
    "start_time": "2022-11-22T13:08:55.884Z"
   },
   {
    "duration": 68,
    "start_time": "2022-11-22T13:10:47.724Z"
   },
   {
    "duration": 9,
    "start_time": "2022-11-22T13:10:51.799Z"
   },
   {
    "duration": 8,
    "start_time": "2022-11-22T13:11:00.002Z"
   },
   {
    "duration": 6,
    "start_time": "2022-11-22T13:11:09.494Z"
   },
   {
    "duration": 6,
    "start_time": "2022-11-22T13:11:38.553Z"
   },
   {
    "duration": 5,
    "start_time": "2022-11-22T13:11:51.534Z"
   },
   {
    "duration": 5,
    "start_time": "2022-11-22T13:13:27.450Z"
   },
   {
    "duration": 6,
    "start_time": "2022-11-22T13:15:47.304Z"
   },
   {
    "duration": 6,
    "start_time": "2022-11-22T13:16:07.486Z"
   },
   {
    "duration": 7,
    "start_time": "2022-11-22T13:16:13.005Z"
   },
   {
    "duration": 26,
    "start_time": "2022-11-22T13:18:49.055Z"
   },
   {
    "duration": 1404,
    "start_time": "2022-11-22T13:19:03.154Z"
   },
   {
    "duration": 47,
    "start_time": "2022-11-22T13:19:04.561Z"
   },
   {
    "duration": 13,
    "start_time": "2022-11-22T13:19:04.610Z"
   },
   {
    "duration": 17,
    "start_time": "2022-11-22T13:19:04.625Z"
   },
   {
    "duration": 5,
    "start_time": "2022-11-22T13:19:04.643Z"
   },
   {
    "duration": 10,
    "start_time": "2022-11-22T13:19:04.650Z"
   },
   {
    "duration": 6,
    "start_time": "2022-11-22T13:19:04.661Z"
   },
   {
    "duration": 6,
    "start_time": "2022-11-22T13:19:04.668Z"
   },
   {
    "duration": 5,
    "start_time": "2022-11-22T13:19:04.676Z"
   },
   {
    "duration": 7,
    "start_time": "2022-11-22T13:19:04.684Z"
   },
   {
    "duration": 16,
    "start_time": "2022-11-22T13:19:04.738Z"
   },
   {
    "duration": 12,
    "start_time": "2022-11-22T13:19:04.755Z"
   },
   {
    "duration": 5,
    "start_time": "2022-11-22T13:19:04.769Z"
   },
   {
    "duration": 113,
    "start_time": "2022-11-22T13:19:04.775Z"
   },
   {
    "duration": 2,
    "start_time": "2022-11-22T13:19:04.890Z"
   },
   {
    "duration": 128,
    "start_time": "2022-11-22T13:19:04.894Z"
   },
   {
    "duration": 0,
    "start_time": "2022-11-22T13:19:05.024Z"
   },
   {
    "duration": 0,
    "start_time": "2022-11-22T13:19:05.026Z"
   },
   {
    "duration": 0,
    "start_time": "2022-11-22T13:19:05.027Z"
   },
   {
    "duration": 14,
    "start_time": "2022-11-22T13:45:29.760Z"
   },
   {
    "duration": 20,
    "start_time": "2022-11-22T13:45:34.233Z"
   },
   {
    "duration": 19,
    "start_time": "2022-11-22T13:46:04.488Z"
   },
   {
    "duration": 26,
    "start_time": "2022-11-22T13:46:09.272Z"
   },
   {
    "duration": 9,
    "start_time": "2022-11-22T13:48:46.885Z"
   },
   {
    "duration": 23,
    "start_time": "2022-11-22T13:48:50.540Z"
   },
   {
    "duration": 5,
    "start_time": "2022-11-22T13:49:20.047Z"
   },
   {
    "duration": 596,
    "start_time": "2022-11-22T13:49:27.787Z"
   },
   {
    "duration": 5520,
    "start_time": "2022-11-22T13:50:37.319Z"
   },
   {
    "duration": 31,
    "start_time": "2022-11-22T13:54:53.865Z"
   },
   {
    "duration": 26,
    "start_time": "2022-11-22T13:55:14.234Z"
   },
   {
    "duration": 27,
    "start_time": "2022-11-22T13:55:30.502Z"
   },
   {
    "duration": 1503,
    "start_time": "2022-11-22T13:55:52.185Z"
   },
   {
    "duration": 24796,
    "start_time": "2022-11-22T13:55:55.519Z"
   },
   {
    "duration": 24666,
    "start_time": "2022-11-22T14:06:21.643Z"
   },
   {
    "duration": 1652,
    "start_time": "2022-11-22T15:58:51.900Z"
   },
   {
    "duration": 151,
    "start_time": "2022-11-22T15:58:53.554Z"
   },
   {
    "duration": 13,
    "start_time": "2022-11-22T15:58:53.707Z"
   },
   {
    "duration": 18,
    "start_time": "2022-11-22T15:58:53.722Z"
   },
   {
    "duration": 5,
    "start_time": "2022-11-22T15:58:53.741Z"
   },
   {
    "duration": 8,
    "start_time": "2022-11-22T15:58:53.747Z"
   },
   {
    "duration": 8,
    "start_time": "2022-11-22T15:58:53.756Z"
   },
   {
    "duration": 5,
    "start_time": "2022-11-22T15:58:53.765Z"
   },
   {
    "duration": 4,
    "start_time": "2022-11-22T15:58:53.772Z"
   },
   {
    "duration": 6,
    "start_time": "2022-11-22T15:58:53.779Z"
   },
   {
    "duration": 13,
    "start_time": "2022-11-22T15:58:53.786Z"
   },
   {
    "duration": 9,
    "start_time": "2022-11-22T15:58:53.801Z"
   },
   {
    "duration": 7,
    "start_time": "2022-11-22T15:58:53.811Z"
   },
   {
    "duration": 96,
    "start_time": "2022-11-22T15:58:53.819Z"
   },
   {
    "duration": 2,
    "start_time": "2022-11-22T15:58:53.916Z"
   },
   {
    "duration": 596,
    "start_time": "2022-11-22T15:58:53.920Z"
   },
   {
    "duration": 5641,
    "start_time": "2022-11-22T15:58:54.518Z"
   },
   {
    "duration": 1655,
    "start_time": "2022-11-22T15:59:00.161Z"
   },
   {
    "duration": 25791,
    "start_time": "2022-11-22T15:59:01.818Z"
   },
   {
    "duration": 3,
    "start_time": "2022-11-22T15:59:27.610Z"
   },
   {
    "duration": 7,
    "start_time": "2022-11-22T15:59:27.615Z"
   },
   {
    "duration": 1557,
    "start_time": "2022-11-22T16:13:41.316Z"
   },
   {
    "duration": 40,
    "start_time": "2022-11-22T16:13:42.876Z"
   },
   {
    "duration": 15,
    "start_time": "2022-11-22T16:13:42.918Z"
   },
   {
    "duration": 22,
    "start_time": "2022-11-22T16:13:42.935Z"
   },
   {
    "duration": 6,
    "start_time": "2022-11-22T16:13:42.959Z"
   },
   {
    "duration": 15,
    "start_time": "2022-11-22T16:13:42.966Z"
   },
   {
    "duration": 21,
    "start_time": "2022-11-22T16:13:42.982Z"
   },
   {
    "duration": 11,
    "start_time": "2022-11-22T16:13:43.004Z"
   },
   {
    "duration": 8,
    "start_time": "2022-11-22T16:13:43.016Z"
   },
   {
    "duration": 10,
    "start_time": "2022-11-22T16:13:43.027Z"
   },
   {
    "duration": 24,
    "start_time": "2022-11-22T16:13:43.039Z"
   },
   {
    "duration": 12,
    "start_time": "2022-11-22T16:13:43.065Z"
   },
   {
    "duration": 4,
    "start_time": "2022-11-22T16:13:43.079Z"
   },
   {
    "duration": 96,
    "start_time": "2022-11-22T16:13:43.084Z"
   },
   {
    "duration": 3,
    "start_time": "2022-11-22T16:13:43.182Z"
   },
   {
    "duration": 137,
    "start_time": "2022-11-22T16:13:43.187Z"
   },
   {
    "duration": 0,
    "start_time": "2022-11-22T16:13:43.326Z"
   },
   {
    "duration": 0,
    "start_time": "2022-11-22T16:13:43.327Z"
   },
   {
    "duration": 0,
    "start_time": "2022-11-22T16:13:43.329Z"
   },
   {
    "duration": 0,
    "start_time": "2022-11-22T16:13:43.330Z"
   },
   {
    "duration": 0,
    "start_time": "2022-11-22T16:13:43.331Z"
   },
   {
    "duration": 9,
    "start_time": "2022-11-22T16:14:06.700Z"
   },
   {
    "duration": 1426,
    "start_time": "2022-11-22T16:14:10.579Z"
   },
   {
    "duration": 41,
    "start_time": "2022-11-22T16:14:12.007Z"
   },
   {
    "duration": 16,
    "start_time": "2022-11-22T16:14:12.049Z"
   },
   {
    "duration": 18,
    "start_time": "2022-11-22T16:14:12.066Z"
   },
   {
    "duration": 6,
    "start_time": "2022-11-22T16:14:12.087Z"
   },
   {
    "duration": 11,
    "start_time": "2022-11-22T16:14:12.094Z"
   },
   {
    "duration": 9,
    "start_time": "2022-11-22T16:14:12.106Z"
   },
   {
    "duration": 36,
    "start_time": "2022-11-22T16:14:12.116Z"
   },
   {
    "duration": 10,
    "start_time": "2022-11-22T16:14:12.154Z"
   },
   {
    "duration": 10,
    "start_time": "2022-11-22T16:14:12.166Z"
   },
   {
    "duration": 17,
    "start_time": "2022-11-22T16:14:12.178Z"
   },
   {
    "duration": 9,
    "start_time": "2022-11-22T16:14:12.197Z"
   },
   {
    "duration": 5,
    "start_time": "2022-11-22T16:14:12.208Z"
   },
   {
    "duration": 94,
    "start_time": "2022-11-22T16:14:12.215Z"
   },
   {
    "duration": 2,
    "start_time": "2022-11-22T16:14:12.311Z"
   },
   {
    "duration": 617,
    "start_time": "2022-11-22T16:14:12.315Z"
   },
   {
    "duration": 7018,
    "start_time": "2022-11-22T16:14:12.934Z"
   },
   {
    "duration": 1578,
    "start_time": "2022-11-22T16:14:19.957Z"
   },
   {
    "duration": 24825,
    "start_time": "2022-11-22T16:14:21.537Z"
   },
   {
    "duration": 3,
    "start_time": "2022-11-22T16:14:46.363Z"
   },
   {
    "duration": 8,
    "start_time": "2022-11-22T16:14:46.367Z"
   },
   {
    "duration": 117,
    "start_time": "2022-11-22T16:17:40.541Z"
   },
   {
    "duration": 121,
    "start_time": "2022-11-22T16:41:13.246Z"
   },
   {
    "duration": 6,
    "start_time": "2022-11-22T17:07:49.343Z"
   },
   {
    "duration": 5,
    "start_time": "2022-11-22T17:08:12.489Z"
   },
   {
    "duration": 1534,
    "start_time": "2022-11-22T17:08:17.987Z"
   },
   {
    "duration": 41,
    "start_time": "2022-11-22T17:08:19.523Z"
   },
   {
    "duration": 27,
    "start_time": "2022-11-22T17:08:19.566Z"
   },
   {
    "duration": 39,
    "start_time": "2022-11-22T17:08:19.597Z"
   },
   {
    "duration": 156,
    "start_time": "2022-11-22T17:08:19.639Z"
   },
   {
    "duration": 0,
    "start_time": "2022-11-22T17:08:19.798Z"
   },
   {
    "duration": 0,
    "start_time": "2022-11-22T17:08:19.799Z"
   },
   {
    "duration": 0,
    "start_time": "2022-11-22T17:08:19.802Z"
   },
   {
    "duration": 0,
    "start_time": "2022-11-22T17:08:19.803Z"
   },
   {
    "duration": 0,
    "start_time": "2022-11-22T17:08:19.805Z"
   },
   {
    "duration": 0,
    "start_time": "2022-11-22T17:08:19.807Z"
   },
   {
    "duration": 0,
    "start_time": "2022-11-22T17:08:19.809Z"
   },
   {
    "duration": 0,
    "start_time": "2022-11-22T17:08:19.811Z"
   },
   {
    "duration": 0,
    "start_time": "2022-11-22T17:08:19.812Z"
   },
   {
    "duration": 0,
    "start_time": "2022-11-22T17:08:19.813Z"
   },
   {
    "duration": 0,
    "start_time": "2022-11-22T17:08:19.815Z"
   },
   {
    "duration": 0,
    "start_time": "2022-11-22T17:08:19.817Z"
   },
   {
    "duration": 0,
    "start_time": "2022-11-22T17:08:19.818Z"
   },
   {
    "duration": 0,
    "start_time": "2022-11-22T17:08:19.854Z"
   },
   {
    "duration": 0,
    "start_time": "2022-11-22T17:08:19.855Z"
   },
   {
    "duration": 0,
    "start_time": "2022-11-22T17:08:19.857Z"
   },
   {
    "duration": 1544,
    "start_time": "2022-11-22T17:09:24.970Z"
   },
   {
    "duration": 42,
    "start_time": "2022-11-22T17:09:26.516Z"
   },
   {
    "duration": 13,
    "start_time": "2022-11-22T17:09:26.560Z"
   },
   {
    "duration": 19,
    "start_time": "2022-11-22T17:09:26.575Z"
   },
   {
    "duration": 5,
    "start_time": "2022-11-22T17:09:26.596Z"
   },
   {
    "duration": 9,
    "start_time": "2022-11-22T17:09:26.603Z"
   },
   {
    "duration": 51,
    "start_time": "2022-11-22T17:09:26.614Z"
   },
   {
    "duration": 22,
    "start_time": "2022-11-22T17:09:26.667Z"
   },
   {
    "duration": 28,
    "start_time": "2022-11-22T17:09:26.690Z"
   },
   {
    "duration": 14,
    "start_time": "2022-11-22T17:09:26.720Z"
   },
   {
    "duration": 32,
    "start_time": "2022-11-22T17:09:26.736Z"
   },
   {
    "duration": 12,
    "start_time": "2022-11-22T17:09:26.770Z"
   },
   {
    "duration": 29,
    "start_time": "2022-11-22T17:09:26.784Z"
   },
   {
    "duration": 113,
    "start_time": "2022-11-22T17:09:26.815Z"
   },
   {
    "duration": 3,
    "start_time": "2022-11-22T17:09:26.929Z"
   },
   {
    "duration": 633,
    "start_time": "2022-11-22T17:09:26.933Z"
   },
   {
    "duration": 5185,
    "start_time": "2022-11-22T17:09:27.568Z"
   },
   {
    "duration": 1621,
    "start_time": "2022-11-22T17:09:32.756Z"
   },
   {
    "duration": 26040,
    "start_time": "2022-11-22T17:09:34.379Z"
   },
   {
    "duration": 2,
    "start_time": "2022-11-22T17:10:00.421Z"
   },
   {
    "duration": 9,
    "start_time": "2022-11-22T17:10:00.424Z"
   },
   {
    "duration": 199,
    "start_time": "2022-11-22T17:12:54.456Z"
   },
   {
    "duration": 117,
    "start_time": "2022-11-22T17:13:22.755Z"
   },
   {
    "duration": 76,
    "start_time": "2022-11-22T17:13:41.959Z"
   },
   {
    "duration": 3,
    "start_time": "2022-11-22T17:13:55.234Z"
   },
   {
    "duration": 20,
    "start_time": "2022-11-22T17:14:01.879Z"
   },
   {
    "duration": 84467,
    "start_time": "2022-11-22T17:14:38.469Z"
   },
   {
    "duration": 32,
    "start_time": "2022-11-22T17:18:07.634Z"
   },
   {
    "duration": 22,
    "start_time": "2022-11-22T17:18:22.194Z"
   },
   {
    "duration": 4,
    "start_time": "2022-11-22T17:19:02.189Z"
   },
   {
    "duration": 20,
    "start_time": "2022-11-22T17:19:04.749Z"
   },
   {
    "duration": 131,
    "start_time": "2022-11-22T17:19:21.240Z"
   },
   {
    "duration": 128,
    "start_time": "2022-11-22T17:19:54.467Z"
   },
   {
    "duration": 161,
    "start_time": "2022-11-22T17:20:01.194Z"
   },
   {
    "duration": 128,
    "start_time": "2022-11-22T17:20:08.455Z"
   },
   {
    "duration": 75,
    "start_time": "2022-11-22T17:20:41.819Z"
   },
   {
    "duration": 140,
    "start_time": "2022-11-22T17:20:45.165Z"
   },
   {
    "duration": 134,
    "start_time": "2022-11-22T17:21:35.756Z"
   },
   {
    "duration": 135,
    "start_time": "2022-11-22T17:21:42.132Z"
   },
   {
    "duration": 132,
    "start_time": "2022-11-22T17:21:46.624Z"
   },
   {
    "duration": 123,
    "start_time": "2022-11-22T17:21:52.405Z"
   },
   {
    "duration": 135,
    "start_time": "2022-11-22T17:21:57.915Z"
   },
   {
    "duration": 1227,
    "start_time": "2022-11-22T19:20:53.015Z"
   },
   {
    "duration": 228,
    "start_time": "2022-11-22T19:21:26.412Z"
   },
   {
    "duration": 1539,
    "start_time": "2022-11-22T19:21:35.647Z"
   },
   {
    "duration": 43,
    "start_time": "2022-11-22T19:21:37.189Z"
   },
   {
    "duration": 16,
    "start_time": "2022-11-22T19:21:37.235Z"
   },
   {
    "duration": 21,
    "start_time": "2022-11-22T19:21:37.253Z"
   },
   {
    "duration": 5,
    "start_time": "2022-11-22T19:21:37.276Z"
   },
   {
    "duration": 9,
    "start_time": "2022-11-22T19:21:37.282Z"
   },
   {
    "duration": 7,
    "start_time": "2022-11-22T19:21:37.293Z"
   },
   {
    "duration": 5,
    "start_time": "2022-11-22T19:21:37.302Z"
   },
   {
    "duration": 9,
    "start_time": "2022-11-22T19:21:37.308Z"
   },
   {
    "duration": 35,
    "start_time": "2022-11-22T19:21:37.318Z"
   },
   {
    "duration": 14,
    "start_time": "2022-11-22T19:21:37.355Z"
   },
   {
    "duration": 233,
    "start_time": "2022-11-22T19:21:37.371Z"
   },
   {
    "duration": 282,
    "start_time": "2022-11-22T19:21:37.607Z"
   },
   {
    "duration": 5,
    "start_time": "2022-11-22T19:21:37.891Z"
   },
   {
    "duration": 1600,
    "start_time": "2022-11-22T19:22:49.357Z"
   },
   {
    "duration": 40,
    "start_time": "2022-11-22T19:22:50.959Z"
   },
   {
    "duration": 12,
    "start_time": "2022-11-22T19:22:51.001Z"
   },
   {
    "duration": 18,
    "start_time": "2022-11-22T19:22:51.015Z"
   },
   {
    "duration": 6,
    "start_time": "2022-11-22T19:22:51.035Z"
   },
   {
    "duration": 15,
    "start_time": "2022-11-22T19:22:51.042Z"
   },
   {
    "duration": 7,
    "start_time": "2022-11-22T19:22:51.058Z"
   },
   {
    "duration": 4,
    "start_time": "2022-11-22T19:22:51.066Z"
   },
   {
    "duration": 8,
    "start_time": "2022-11-22T19:22:51.072Z"
   },
   {
    "duration": 8,
    "start_time": "2022-11-22T19:22:51.081Z"
   },
   {
    "duration": 13,
    "start_time": "2022-11-22T19:22:51.091Z"
   },
   {
    "duration": 222,
    "start_time": "2022-11-22T19:22:51.106Z"
   },
   {
    "duration": 176,
    "start_time": "2022-11-22T19:22:51.330Z"
   },
   {
    "duration": 4,
    "start_time": "2022-11-22T19:22:51.509Z"
   },
   {
    "duration": 1440,
    "start_time": "2022-11-22T19:25:48.953Z"
   },
   {
    "duration": 40,
    "start_time": "2022-11-22T19:25:50.395Z"
   },
   {
    "duration": 14,
    "start_time": "2022-11-22T19:25:50.437Z"
   },
   {
    "duration": 17,
    "start_time": "2022-11-22T19:25:50.454Z"
   },
   {
    "duration": 7,
    "start_time": "2022-11-22T19:25:50.473Z"
   },
   {
    "duration": 9,
    "start_time": "2022-11-22T19:25:50.482Z"
   },
   {
    "duration": 13,
    "start_time": "2022-11-22T19:25:50.492Z"
   },
   {
    "duration": 11,
    "start_time": "2022-11-22T19:25:50.507Z"
   },
   {
    "duration": 9,
    "start_time": "2022-11-22T19:25:50.520Z"
   },
   {
    "duration": 20,
    "start_time": "2022-11-22T19:25:50.531Z"
   },
   {
    "duration": 14,
    "start_time": "2022-11-22T19:25:50.552Z"
   },
   {
    "duration": 224,
    "start_time": "2022-11-22T19:25:50.569Z"
   },
   {
    "duration": 184,
    "start_time": "2022-11-22T19:25:50.795Z"
   },
   {
    "duration": 5,
    "start_time": "2022-11-22T19:25:50.980Z"
   },
   {
    "duration": 21,
    "start_time": "2022-11-22T19:25:50.987Z"
   },
   {
    "duration": 11,
    "start_time": "2022-11-22T19:25:51.009Z"
   },
   {
    "duration": 8,
    "start_time": "2022-11-22T19:25:51.022Z"
   },
   {
    "duration": 142,
    "start_time": "2022-11-22T19:25:51.032Z"
   },
   {
    "duration": 2,
    "start_time": "2022-11-22T19:25:51.176Z"
   },
   {
    "duration": 5,
    "start_time": "2022-11-22T19:25:51.180Z"
   },
   {
    "duration": 116,
    "start_time": "2022-11-22T19:27:26.681Z"
   },
   {
    "duration": 14,
    "start_time": "2022-11-22T19:27:30.841Z"
   },
   {
    "duration": 14,
    "start_time": "2022-11-22T19:27:47.395Z"
   },
   {
    "duration": 1465,
    "start_time": "2022-11-22T19:27:58.532Z"
   },
   {
    "duration": 40,
    "start_time": "2022-11-22T19:27:59.999Z"
   },
   {
    "duration": 13,
    "start_time": "2022-11-22T19:28:00.041Z"
   },
   {
    "duration": 23,
    "start_time": "2022-11-22T19:28:00.056Z"
   },
   {
    "duration": 4,
    "start_time": "2022-11-22T19:28:00.081Z"
   },
   {
    "duration": 10,
    "start_time": "2022-11-22T19:28:00.086Z"
   },
   {
    "duration": 10,
    "start_time": "2022-11-22T19:28:00.098Z"
   },
   {
    "duration": 8,
    "start_time": "2022-11-22T19:28:00.109Z"
   },
   {
    "duration": 8,
    "start_time": "2022-11-22T19:28:00.118Z"
   },
   {
    "duration": 7,
    "start_time": "2022-11-22T19:28:00.129Z"
   },
   {
    "duration": 13,
    "start_time": "2022-11-22T19:28:00.151Z"
   },
   {
    "duration": 12,
    "start_time": "2022-11-22T19:28:00.165Z"
   },
   {
    "duration": 13,
    "start_time": "2022-11-22T19:28:00.179Z"
   },
   {
    "duration": 7,
    "start_time": "2022-11-22T19:28:00.194Z"
   },
   {
    "duration": 41,
    "start_time": "2022-11-22T19:28:00.204Z"
   },
   {
    "duration": 25,
    "start_time": "2022-11-22T19:28:00.246Z"
   },
   {
    "duration": 20,
    "start_time": "2022-11-22T19:28:00.273Z"
   },
   {
    "duration": 142,
    "start_time": "2022-11-22T19:28:00.295Z"
   },
   {
    "duration": 2,
    "start_time": "2022-11-22T19:28:00.439Z"
   },
   {
    "duration": 36,
    "start_time": "2022-11-22T19:28:00.442Z"
   },
   {
    "duration": 87,
    "start_time": "2022-11-22T19:28:23.731Z"
   },
   {
    "duration": 1481,
    "start_time": "2022-11-22T19:52:16.482Z"
   },
   {
    "duration": 40,
    "start_time": "2022-11-22T19:52:17.965Z"
   },
   {
    "duration": 15,
    "start_time": "2022-11-22T19:52:18.006Z"
   },
   {
    "duration": 28,
    "start_time": "2022-11-22T19:52:18.024Z"
   },
   {
    "duration": 5,
    "start_time": "2022-11-22T19:52:18.053Z"
   },
   {
    "duration": 13,
    "start_time": "2022-11-22T19:52:18.060Z"
   },
   {
    "duration": 11,
    "start_time": "2022-11-22T19:52:18.075Z"
   },
   {
    "duration": 6,
    "start_time": "2022-11-22T19:52:18.088Z"
   },
   {
    "duration": 9,
    "start_time": "2022-11-22T19:52:18.095Z"
   },
   {
    "duration": 4,
    "start_time": "2022-11-22T19:52:18.107Z"
   },
   {
    "duration": 20,
    "start_time": "2022-11-22T19:52:18.151Z"
   },
   {
    "duration": 20,
    "start_time": "2022-11-22T19:52:18.173Z"
   },
   {
    "duration": 153,
    "start_time": "2022-11-22T19:52:18.197Z"
   },
   {
    "duration": 0,
    "start_time": "2022-11-22T19:52:18.352Z"
   },
   {
    "duration": 0,
    "start_time": "2022-11-22T19:52:18.354Z"
   },
   {
    "duration": 0,
    "start_time": "2022-11-22T19:52:18.356Z"
   },
   {
    "duration": 0,
    "start_time": "2022-11-22T19:52:18.357Z"
   },
   {
    "duration": 0,
    "start_time": "2022-11-22T19:52:18.360Z"
   },
   {
    "duration": 0,
    "start_time": "2022-11-22T19:52:18.362Z"
   },
   {
    "duration": 0,
    "start_time": "2022-11-22T19:52:18.364Z"
   },
   {
    "duration": 1680,
    "start_time": "2022-11-23T07:17:18.400Z"
   },
   {
    "duration": 174,
    "start_time": "2022-11-23T07:17:20.082Z"
   },
   {
    "duration": 16,
    "start_time": "2022-11-23T07:17:20.258Z"
   },
   {
    "duration": 27,
    "start_time": "2022-11-23T07:17:20.276Z"
   },
   {
    "duration": 5,
    "start_time": "2022-11-23T07:17:20.306Z"
   },
   {
    "duration": 20,
    "start_time": "2022-11-23T07:17:20.313Z"
   },
   {
    "duration": 6,
    "start_time": "2022-11-23T07:17:20.335Z"
   },
   {
    "duration": 10,
    "start_time": "2022-11-23T07:17:20.342Z"
   },
   {
    "duration": 9,
    "start_time": "2022-11-23T07:17:20.354Z"
   },
   {
    "duration": 15,
    "start_time": "2022-11-23T07:17:20.365Z"
   },
   {
    "duration": 25,
    "start_time": "2022-11-23T07:17:20.381Z"
   },
   {
    "duration": 25,
    "start_time": "2022-11-23T07:17:20.408Z"
   },
   {
    "duration": 13,
    "start_time": "2022-11-23T07:17:20.435Z"
   },
   {
    "duration": 12,
    "start_time": "2022-11-23T07:17:20.450Z"
   },
   {
    "duration": 26,
    "start_time": "2022-11-23T07:17:20.464Z"
   },
   {
    "duration": 109,
    "start_time": "2022-11-23T07:17:20.491Z"
   },
   {
    "duration": 2,
    "start_time": "2022-11-23T07:17:20.601Z"
   },
   {
    "duration": 165,
    "start_time": "2022-11-23T07:17:20.605Z"
   },
   {
    "duration": 3,
    "start_time": "2022-11-23T07:17:20.772Z"
   },
   {
    "duration": 33,
    "start_time": "2022-11-23T07:17:20.776Z"
   },
   {
    "duration": 1415,
    "start_time": "2022-11-23T07:18:13.084Z"
   },
   {
    "duration": 42,
    "start_time": "2022-11-23T07:18:14.501Z"
   },
   {
    "duration": 13,
    "start_time": "2022-11-23T07:18:14.545Z"
   },
   {
    "duration": 30,
    "start_time": "2022-11-23T07:18:14.560Z"
   },
   {
    "duration": 13,
    "start_time": "2022-11-23T07:18:14.592Z"
   },
   {
    "duration": 21,
    "start_time": "2022-11-23T07:18:14.607Z"
   },
   {
    "duration": 16,
    "start_time": "2022-11-23T07:18:14.630Z"
   },
   {
    "duration": 19,
    "start_time": "2022-11-23T07:18:14.648Z"
   },
   {
    "duration": 22,
    "start_time": "2022-11-23T07:18:14.669Z"
   },
   {
    "duration": 14,
    "start_time": "2022-11-23T07:18:14.694Z"
   },
   {
    "duration": 31,
    "start_time": "2022-11-23T07:18:14.711Z"
   },
   {
    "duration": 22,
    "start_time": "2022-11-23T07:18:14.743Z"
   },
   {
    "duration": 22,
    "start_time": "2022-11-23T07:18:14.767Z"
   },
   {
    "duration": 5,
    "start_time": "2022-11-23T07:18:14.791Z"
   },
   {
    "duration": 30,
    "start_time": "2022-11-23T07:18:14.797Z"
   },
   {
    "duration": 97,
    "start_time": "2022-11-23T07:18:14.829Z"
   },
   {
    "duration": 3,
    "start_time": "2022-11-23T07:18:14.930Z"
   },
   {
    "duration": 144,
    "start_time": "2022-11-23T07:18:14.937Z"
   },
   {
    "duration": 2,
    "start_time": "2022-11-23T07:18:15.083Z"
   },
   {
    "duration": 11,
    "start_time": "2022-11-23T07:18:15.086Z"
   },
   {
    "duration": 11,
    "start_time": "2022-11-23T09:13:49.723Z"
   },
   {
    "duration": 112,
    "start_time": "2022-11-23T09:16:26.895Z"
   },
   {
    "duration": 1435,
    "start_time": "2022-11-23T09:16:35.471Z"
   },
   {
    "duration": 42,
    "start_time": "2022-11-23T09:16:36.908Z"
   },
   {
    "duration": 14,
    "start_time": "2022-11-23T09:16:36.952Z"
   },
   {
    "duration": 83,
    "start_time": "2022-11-23T09:16:36.969Z"
   },
   {
    "duration": 9,
    "start_time": "2022-11-23T09:16:37.054Z"
   },
   {
    "duration": 8,
    "start_time": "2022-11-23T09:16:37.065Z"
   },
   {
    "duration": 6,
    "start_time": "2022-11-23T09:16:37.075Z"
   },
   {
    "duration": 7,
    "start_time": "2022-11-23T09:16:37.082Z"
   },
   {
    "duration": 7,
    "start_time": "2022-11-23T09:16:37.092Z"
   },
   {
    "duration": 10,
    "start_time": "2022-11-23T09:16:37.101Z"
   },
   {
    "duration": 18,
    "start_time": "2022-11-23T09:16:37.113Z"
   },
   {
    "duration": 12,
    "start_time": "2022-11-23T09:16:37.133Z"
   },
   {
    "duration": 14,
    "start_time": "2022-11-23T09:16:37.147Z"
   },
   {
    "duration": 9,
    "start_time": "2022-11-23T09:16:37.162Z"
   },
   {
    "duration": 97,
    "start_time": "2022-11-23T09:16:37.172Z"
   },
   {
    "duration": 3,
    "start_time": "2022-11-23T09:16:37.270Z"
   },
   {
    "duration": 33,
    "start_time": "2022-11-23T09:16:37.274Z"
   },
   {
    "duration": 43,
    "start_time": "2022-11-23T09:16:37.309Z"
   },
   {
    "duration": 190,
    "start_time": "2022-11-23T09:16:37.354Z"
   },
   {
    "duration": 3,
    "start_time": "2022-11-23T09:16:37.545Z"
   },
   {
    "duration": 6,
    "start_time": "2022-11-23T09:16:37.549Z"
   },
   {
    "duration": 20,
    "start_time": "2022-11-23T09:17:03.990Z"
   },
   {
    "duration": 111,
    "start_time": "2022-11-23T13:00:43.036Z"
   },
   {
    "duration": 13,
    "start_time": "2022-11-23T13:00:46.997Z"
   },
   {
    "duration": 47,
    "start_time": "2022-11-23T13:02:19.163Z"
   },
   {
    "duration": 120,
    "start_time": "2022-11-23T13:04:33.726Z"
   },
   {
    "duration": 5,
    "start_time": "2022-11-23T13:04:56.603Z"
   },
   {
    "duration": 124,
    "start_time": "2022-11-23T13:05:06.703Z"
   },
   {
    "duration": 208,
    "start_time": "2022-11-23T13:05:18.222Z"
   },
   {
    "duration": 113,
    "start_time": "2022-11-23T13:05:21.920Z"
   },
   {
    "duration": 13,
    "start_time": "2022-11-23T14:08:07.120Z"
   },
   {
    "duration": 1559,
    "start_time": "2022-11-23T16:01:15.846Z"
   },
   {
    "duration": 83,
    "start_time": "2022-11-23T16:01:17.407Z"
   },
   {
    "duration": 13,
    "start_time": "2022-11-23T16:01:17.492Z"
   },
   {
    "duration": 20,
    "start_time": "2022-11-23T16:01:17.507Z"
   },
   {
    "duration": 8,
    "start_time": "2022-11-23T16:01:17.532Z"
   },
   {
    "duration": 15,
    "start_time": "2022-11-23T16:01:17.542Z"
   },
   {
    "duration": 11,
    "start_time": "2022-11-23T16:01:17.559Z"
   },
   {
    "duration": 5,
    "start_time": "2022-11-23T16:01:17.572Z"
   },
   {
    "duration": 14,
    "start_time": "2022-11-23T16:01:17.578Z"
   },
   {
    "duration": 83,
    "start_time": "2022-11-23T16:01:17.593Z"
   },
   {
    "duration": 11,
    "start_time": "2022-11-23T16:01:17.678Z"
   },
   {
    "duration": 15,
    "start_time": "2022-11-23T16:01:17.690Z"
   },
   {
    "duration": 19,
    "start_time": "2022-11-23T16:01:17.706Z"
   },
   {
    "duration": 31,
    "start_time": "2022-11-23T16:01:17.728Z"
   },
   {
    "duration": 125,
    "start_time": "2022-11-23T16:01:17.761Z"
   },
   {
    "duration": 49,
    "start_time": "2022-11-23T16:01:17.888Z"
   },
   {
    "duration": 0,
    "start_time": "2022-11-23T16:01:17.939Z"
   },
   {
    "duration": 0,
    "start_time": "2022-11-23T16:01:17.940Z"
   },
   {
    "duration": 0,
    "start_time": "2022-11-23T16:01:17.941Z"
   },
   {
    "duration": 0,
    "start_time": "2022-11-23T16:01:17.942Z"
   },
   {
    "duration": 0,
    "start_time": "2022-11-23T16:01:17.943Z"
   },
   {
    "duration": 2,
    "start_time": "2022-11-23T16:02:00.734Z"
   },
   {
    "duration": 1357,
    "start_time": "2022-11-23T16:02:07.658Z"
   },
   {
    "duration": 41,
    "start_time": "2022-11-23T16:02:09.017Z"
   },
   {
    "duration": 12,
    "start_time": "2022-11-23T16:02:09.062Z"
   },
   {
    "duration": 21,
    "start_time": "2022-11-23T16:02:09.075Z"
   },
   {
    "duration": 26,
    "start_time": "2022-11-23T16:02:09.098Z"
   },
   {
    "duration": 19,
    "start_time": "2022-11-23T16:02:09.126Z"
   },
   {
    "duration": 10,
    "start_time": "2022-11-23T16:02:09.146Z"
   },
   {
    "duration": 6,
    "start_time": "2022-11-23T16:02:09.157Z"
   },
   {
    "duration": 17,
    "start_time": "2022-11-23T16:02:09.166Z"
   },
   {
    "duration": 71,
    "start_time": "2022-11-23T16:02:09.185Z"
   },
   {
    "duration": 22,
    "start_time": "2022-11-23T16:02:09.258Z"
   },
   {
    "duration": 18,
    "start_time": "2022-11-23T16:02:09.281Z"
   },
   {
    "duration": 9,
    "start_time": "2022-11-23T16:02:09.300Z"
   },
   {
    "duration": 26,
    "start_time": "2022-11-23T16:02:09.311Z"
   },
   {
    "duration": 132,
    "start_time": "2022-11-23T16:02:09.339Z"
   },
   {
    "duration": 3,
    "start_time": "2022-11-23T16:02:09.473Z"
   },
   {
    "duration": 7,
    "start_time": "2022-11-23T16:02:09.478Z"
   },
   {
    "duration": 21,
    "start_time": "2022-11-23T16:02:09.486Z"
   },
   {
    "duration": 126,
    "start_time": "2022-11-23T16:02:09.509Z"
   },
   {
    "duration": 0,
    "start_time": "2022-11-23T16:02:09.636Z"
   },
   {
    "duration": 0,
    "start_time": "2022-11-23T16:02:09.637Z"
   },
   {
    "duration": 19,
    "start_time": "2022-11-23T16:14:22.231Z"
   },
   {
    "duration": 163,
    "start_time": "2022-11-23T16:14:26.668Z"
   },
   {
    "duration": 157,
    "start_time": "2022-11-23T16:14:38.593Z"
   },
   {
    "duration": 249,
    "start_time": "2022-11-23T16:14:59.287Z"
   },
   {
    "duration": 166,
    "start_time": "2022-11-23T16:15:05.794Z"
   },
   {
    "duration": 150,
    "start_time": "2022-11-23T16:15:13.009Z"
   },
   {
    "duration": 27,
    "start_time": "2022-11-23T16:25:23.432Z"
   },
   {
    "duration": 4,
    "start_time": "2022-11-23T16:25:25.041Z"
   },
   {
    "duration": 15,
    "start_time": "2022-11-23T16:26:28.689Z"
   },
   {
    "duration": 1355,
    "start_time": "2022-11-23T16:26:34.898Z"
   },
   {
    "duration": 41,
    "start_time": "2022-11-23T16:26:36.255Z"
   },
   {
    "duration": 12,
    "start_time": "2022-11-23T16:26:36.298Z"
   },
   {
    "duration": 15,
    "start_time": "2022-11-23T16:26:36.311Z"
   },
   {
    "duration": 5,
    "start_time": "2022-11-23T16:26:36.329Z"
   },
   {
    "duration": 7,
    "start_time": "2022-11-23T16:26:36.335Z"
   },
   {
    "duration": 10,
    "start_time": "2022-11-23T16:26:36.343Z"
   },
   {
    "duration": 3,
    "start_time": "2022-11-23T16:26:36.355Z"
   },
   {
    "duration": 27,
    "start_time": "2022-11-23T16:26:36.359Z"
   },
   {
    "duration": 64,
    "start_time": "2022-11-23T16:26:36.387Z"
   },
   {
    "duration": 31,
    "start_time": "2022-11-23T16:26:36.452Z"
   },
   {
    "duration": 13,
    "start_time": "2022-11-23T16:26:36.484Z"
   },
   {
    "duration": 3,
    "start_time": "2022-11-23T16:26:36.498Z"
   },
   {
    "duration": 25,
    "start_time": "2022-11-23T16:26:36.504Z"
   },
   {
    "duration": 136,
    "start_time": "2022-11-23T16:26:36.530Z"
   },
   {
    "duration": 152,
    "start_time": "2022-11-23T16:26:36.667Z"
   },
   {
    "duration": 2,
    "start_time": "2022-11-23T16:26:36.821Z"
   },
   {
    "duration": 7,
    "start_time": "2022-11-23T16:26:36.824Z"
   },
   {
    "duration": 5,
    "start_time": "2022-11-23T16:26:36.832Z"
   },
   {
    "duration": 15,
    "start_time": "2022-11-23T16:26:36.839Z"
   },
   {
    "duration": 3,
    "start_time": "2022-11-23T16:26:36.855Z"
   },
   {
    "duration": 3,
    "start_time": "2022-11-23T16:26:36.875Z"
   },
   {
    "duration": 4,
    "start_time": "2022-11-23T16:27:05.794Z"
   },
   {
    "duration": 16,
    "start_time": "2022-11-23T16:27:57.565Z"
   },
   {
    "duration": 1084,
    "start_time": "2022-11-24T09:25:00.344Z"
   },
   {
    "duration": 14,
    "start_time": "2022-11-24T09:25:14.215Z"
   },
   {
    "duration": 8,
    "start_time": "2022-11-24T09:25:38.455Z"
   },
   {
    "duration": 8,
    "start_time": "2022-11-24T09:25:49.064Z"
   },
   {
    "duration": 7,
    "start_time": "2022-11-24T09:25:52.665Z"
   },
   {
    "duration": 9,
    "start_time": "2022-11-24T09:27:58.899Z"
   },
   {
    "duration": 1667,
    "start_time": "2022-11-24T09:28:13.910Z"
   },
   {
    "duration": 0,
    "start_time": "2022-11-24T09:28:15.579Z"
   },
   {
    "duration": 0,
    "start_time": "2022-11-24T09:28:15.580Z"
   },
   {
    "duration": 0,
    "start_time": "2022-11-24T09:28:15.581Z"
   },
   {
    "duration": 0,
    "start_time": "2022-11-24T09:28:15.582Z"
   },
   {
    "duration": 0,
    "start_time": "2022-11-24T09:28:15.583Z"
   },
   {
    "duration": 0,
    "start_time": "2022-11-24T09:28:15.584Z"
   },
   {
    "duration": 0,
    "start_time": "2022-11-24T09:28:15.585Z"
   },
   {
    "duration": 0,
    "start_time": "2022-11-24T09:28:15.586Z"
   },
   {
    "duration": 0,
    "start_time": "2022-11-24T09:28:15.588Z"
   },
   {
    "duration": 0,
    "start_time": "2022-11-24T09:28:15.589Z"
   },
   {
    "duration": 0,
    "start_time": "2022-11-24T09:28:15.590Z"
   },
   {
    "duration": 0,
    "start_time": "2022-11-24T09:28:15.590Z"
   },
   {
    "duration": 1,
    "start_time": "2022-11-24T09:28:15.591Z"
   },
   {
    "duration": 0,
    "start_time": "2022-11-24T09:28:15.592Z"
   },
   {
    "duration": 0,
    "start_time": "2022-11-24T09:28:15.593Z"
   },
   {
    "duration": 0,
    "start_time": "2022-11-24T09:28:15.594Z"
   },
   {
    "duration": 0,
    "start_time": "2022-11-24T09:28:15.595Z"
   },
   {
    "duration": 0,
    "start_time": "2022-11-24T09:28:15.596Z"
   },
   {
    "duration": 0,
    "start_time": "2022-11-24T09:28:15.597Z"
   },
   {
    "duration": 0,
    "start_time": "2022-11-24T09:28:15.598Z"
   },
   {
    "duration": 0,
    "start_time": "2022-11-24T09:28:15.599Z"
   },
   {
    "duration": 0,
    "start_time": "2022-11-24T09:28:15.600Z"
   },
   {
    "duration": 0,
    "start_time": "2022-11-24T09:28:15.601Z"
   },
   {
    "duration": 0,
    "start_time": "2022-11-24T09:28:15.637Z"
   },
   {
    "duration": 4,
    "start_time": "2022-11-24T09:29:27.615Z"
   },
   {
    "duration": 1400,
    "start_time": "2022-11-24T09:29:34.070Z"
   },
   {
    "duration": 154,
    "start_time": "2022-11-24T09:29:35.472Z"
   },
   {
    "duration": 14,
    "start_time": "2022-11-24T09:29:35.627Z"
   },
   {
    "duration": 44,
    "start_time": "2022-11-24T09:29:35.642Z"
   },
   {
    "duration": 45,
    "start_time": "2022-11-24T09:29:35.690Z"
   },
   {
    "duration": 36,
    "start_time": "2022-11-24T09:29:35.736Z"
   },
   {
    "duration": 37,
    "start_time": "2022-11-24T09:29:35.774Z"
   },
   {
    "duration": 42,
    "start_time": "2022-11-24T09:29:35.813Z"
   },
   {
    "duration": 40,
    "start_time": "2022-11-24T09:29:35.856Z"
   },
   {
    "duration": 125,
    "start_time": "2022-11-24T09:29:35.897Z"
   },
   {
    "duration": 0,
    "start_time": "2022-11-24T09:29:36.024Z"
   },
   {
    "duration": 0,
    "start_time": "2022-11-24T09:29:36.025Z"
   },
   {
    "duration": 0,
    "start_time": "2022-11-24T09:29:36.027Z"
   },
   {
    "duration": 0,
    "start_time": "2022-11-24T09:29:36.027Z"
   },
   {
    "duration": 0,
    "start_time": "2022-11-24T09:29:36.037Z"
   },
   {
    "duration": 0,
    "start_time": "2022-11-24T09:29:36.038Z"
   },
   {
    "duration": 0,
    "start_time": "2022-11-24T09:29:36.039Z"
   },
   {
    "duration": 0,
    "start_time": "2022-11-24T09:29:36.041Z"
   },
   {
    "duration": 0,
    "start_time": "2022-11-24T09:29:36.042Z"
   },
   {
    "duration": 0,
    "start_time": "2022-11-24T09:29:36.043Z"
   },
   {
    "duration": 0,
    "start_time": "2022-11-24T09:29:36.044Z"
   },
   {
    "duration": 0,
    "start_time": "2022-11-24T09:29:36.045Z"
   },
   {
    "duration": 0,
    "start_time": "2022-11-24T09:29:36.046Z"
   },
   {
    "duration": 0,
    "start_time": "2022-11-24T09:29:36.047Z"
   },
   {
    "duration": 0,
    "start_time": "2022-11-24T09:29:36.048Z"
   },
   {
    "duration": 24,
    "start_time": "2022-11-24T09:31:05.580Z"
   },
   {
    "duration": 9,
    "start_time": "2022-11-24T09:31:18.416Z"
   },
   {
    "duration": 1418,
    "start_time": "2022-11-24T09:31:58.060Z"
   },
   {
    "duration": 40,
    "start_time": "2022-11-24T09:31:59.480Z"
   },
   {
    "duration": 12,
    "start_time": "2022-11-24T09:31:59.522Z"
   },
   {
    "duration": 15,
    "start_time": "2022-11-24T09:31:59.536Z"
   },
   {
    "duration": 7,
    "start_time": "2022-11-24T09:31:59.554Z"
   },
   {
    "duration": 9,
    "start_time": "2022-11-24T09:31:59.562Z"
   },
   {
    "duration": 8,
    "start_time": "2022-11-24T09:31:59.572Z"
   },
   {
    "duration": 4,
    "start_time": "2022-11-24T09:31:59.582Z"
   },
   {
    "duration": 11,
    "start_time": "2022-11-24T09:31:59.587Z"
   },
   {
    "duration": 2,
    "start_time": "2022-11-24T09:31:59.600Z"
   },
   {
    "duration": 35,
    "start_time": "2022-11-24T09:31:59.604Z"
   },
   {
    "duration": 65,
    "start_time": "2022-11-24T09:31:59.641Z"
   },
   {
    "duration": 12,
    "start_time": "2022-11-24T09:31:59.707Z"
   },
   {
    "duration": 31,
    "start_time": "2022-11-24T09:31:59.721Z"
   },
   {
    "duration": 11,
    "start_time": "2022-11-24T09:31:59.754Z"
   },
   {
    "duration": 8,
    "start_time": "2022-11-24T09:31:59.767Z"
   },
   {
    "duration": 4,
    "start_time": "2022-11-24T09:31:59.777Z"
   },
   {
    "duration": 56,
    "start_time": "2022-11-24T09:31:59.782Z"
   },
   {
    "duration": 131,
    "start_time": "2022-11-24T09:31:59.839Z"
   },
   {
    "duration": 161,
    "start_time": "2022-11-24T09:31:59.971Z"
   },
   {
    "duration": 2,
    "start_time": "2022-11-24T09:32:00.137Z"
   },
   {
    "duration": 9,
    "start_time": "2022-11-24T09:32:00.140Z"
   },
   {
    "duration": 15,
    "start_time": "2022-11-24T09:32:00.151Z"
   },
   {
    "duration": 19,
    "start_time": "2022-11-24T09:32:00.168Z"
   },
   {
    "duration": 9,
    "start_time": "2022-11-24T09:32:00.189Z"
   },
   {
    "duration": 5,
    "start_time": "2022-11-24T09:32:00.200Z"
   },
   {
    "duration": 12,
    "start_time": "2022-11-24T09:32:33.635Z"
   },
   {
    "duration": 1402,
    "start_time": "2022-11-24T09:36:31.431Z"
   },
   {
    "duration": 40,
    "start_time": "2022-11-24T09:36:32.835Z"
   },
   {
    "duration": 14,
    "start_time": "2022-11-24T09:36:32.877Z"
   },
   {
    "duration": 39,
    "start_time": "2022-11-24T09:36:32.892Z"
   },
   {
    "duration": 17,
    "start_time": "2022-11-24T09:36:32.934Z"
   },
   {
    "duration": 24,
    "start_time": "2022-11-24T09:36:32.953Z"
   },
   {
    "duration": 19,
    "start_time": "2022-11-24T09:36:32.978Z"
   },
   {
    "duration": 29,
    "start_time": "2022-11-24T09:36:32.999Z"
   },
   {
    "duration": 29,
    "start_time": "2022-11-24T09:36:33.029Z"
   },
   {
    "duration": 15,
    "start_time": "2022-11-24T09:36:33.059Z"
   },
   {
    "duration": 35,
    "start_time": "2022-11-24T09:36:33.076Z"
   },
   {
    "duration": 89,
    "start_time": "2022-11-24T09:36:33.113Z"
   },
   {
    "duration": 13,
    "start_time": "2022-11-24T09:36:33.204Z"
   },
   {
    "duration": 52,
    "start_time": "2022-11-24T09:36:33.220Z"
   },
   {
    "duration": 112,
    "start_time": "2022-11-24T09:36:33.274Z"
   },
   {
    "duration": 0,
    "start_time": "2022-11-24T09:36:33.388Z"
   },
   {
    "duration": 0,
    "start_time": "2022-11-24T09:36:33.389Z"
   },
   {
    "duration": 0,
    "start_time": "2022-11-24T09:36:33.390Z"
   },
   {
    "duration": 0,
    "start_time": "2022-11-24T09:36:33.391Z"
   },
   {
    "duration": 0,
    "start_time": "2022-11-24T09:36:33.392Z"
   },
   {
    "duration": 0,
    "start_time": "2022-11-24T09:36:33.393Z"
   },
   {
    "duration": 0,
    "start_time": "2022-11-24T09:36:33.394Z"
   },
   {
    "duration": 0,
    "start_time": "2022-11-24T09:36:33.395Z"
   },
   {
    "duration": 0,
    "start_time": "2022-11-24T09:36:33.397Z"
   },
   {
    "duration": 0,
    "start_time": "2022-11-24T09:36:33.398Z"
   },
   {
    "duration": 0,
    "start_time": "2022-11-24T09:36:33.399Z"
   },
   {
    "duration": 1060,
    "start_time": "2022-11-24T09:36:59.487Z"
   },
   {
    "duration": 1180,
    "start_time": "2022-11-24T09:47:37.760Z"
   },
   {
    "duration": 14,
    "start_time": "2022-11-24T09:48:15.060Z"
   },
   {
    "duration": 1095,
    "start_time": "2022-11-24T09:48:26.543Z"
   },
   {
    "duration": 1094,
    "start_time": "2022-11-24T09:48:35.356Z"
   },
   {
    "duration": 11,
    "start_time": "2022-11-24T09:55:14.979Z"
   },
   {
    "duration": 13,
    "start_time": "2022-11-24T09:55:33.780Z"
   },
   {
    "duration": 13,
    "start_time": "2022-11-24T09:55:41.960Z"
   },
   {
    "duration": 12,
    "start_time": "2022-11-24T10:13:59.616Z"
   },
   {
    "duration": 10,
    "start_time": "2022-11-24T10:14:32.638Z"
   },
   {
    "duration": 26,
    "start_time": "2022-11-24T10:16:16.947Z"
   },
   {
    "duration": 1326,
    "start_time": "2022-11-24T10:16:30.871Z"
   },
   {
    "duration": 1231,
    "start_time": "2022-11-24T10:16:34.991Z"
   },
   {
    "duration": 1328,
    "start_time": "2022-11-24T10:17:04.264Z"
   },
   {
    "duration": 1221,
    "start_time": "2022-11-24T10:21:16.971Z"
   },
   {
    "duration": 1055,
    "start_time": "2022-11-24T10:21:29.971Z"
   },
   {
    "duration": 1090,
    "start_time": "2022-11-24T10:21:37.881Z"
   },
   {
    "duration": 66,
    "start_time": "2022-11-24T14:18:25.331Z"
   },
   {
    "duration": 1772,
    "start_time": "2022-11-24T14:18:31.655Z"
   },
   {
    "duration": 119,
    "start_time": "2022-11-24T14:18:33.430Z"
   },
   {
    "duration": 17,
    "start_time": "2022-11-24T14:18:33.551Z"
   },
   {
    "duration": 19,
    "start_time": "2022-11-24T14:18:33.570Z"
   },
   {
    "duration": 41,
    "start_time": "2022-11-24T14:18:33.594Z"
   },
   {
    "duration": 9,
    "start_time": "2022-11-24T14:18:33.638Z"
   },
   {
    "duration": 4,
    "start_time": "2022-11-24T14:18:33.649Z"
   },
   {
    "duration": 9,
    "start_time": "2022-11-24T14:18:33.655Z"
   },
   {
    "duration": 16,
    "start_time": "2022-11-24T14:18:33.665Z"
   },
   {
    "duration": 2,
    "start_time": "2022-11-24T14:18:33.683Z"
   },
   {
    "duration": 20,
    "start_time": "2022-11-24T14:18:33.687Z"
   },
   {
    "duration": 84,
    "start_time": "2022-11-24T14:18:33.711Z"
   },
   {
    "duration": 30,
    "start_time": "2022-11-24T14:18:33.796Z"
   },
   {
    "duration": 24,
    "start_time": "2022-11-24T14:18:33.830Z"
   },
   {
    "duration": 12,
    "start_time": "2022-11-24T14:18:33.856Z"
   },
   {
    "duration": 2025,
    "start_time": "2022-11-24T14:18:33.870Z"
   },
   {
    "duration": 7,
    "start_time": "2022-11-24T14:18:35.897Z"
   },
   {
    "duration": 24,
    "start_time": "2022-11-24T14:18:35.905Z"
   },
   {
    "duration": 27,
    "start_time": "2022-11-24T14:18:35.931Z"
   },
   {
    "duration": 37,
    "start_time": "2022-11-24T14:18:35.960Z"
   },
   {
    "duration": 150,
    "start_time": "2022-11-24T14:18:35.999Z"
   },
   {
    "duration": 249,
    "start_time": "2022-11-24T14:18:36.151Z"
   },
   {
    "duration": 10,
    "start_time": "2022-11-24T14:18:36.402Z"
   },
   {
    "duration": 11,
    "start_time": "2022-11-24T14:18:36.415Z"
   },
   {
    "duration": 65,
    "start_time": "2022-11-24T14:18:36.428Z"
   },
   {
    "duration": 0,
    "start_time": "2022-11-24T14:18:36.495Z"
   },
   {
    "duration": 0,
    "start_time": "2022-11-24T14:18:36.497Z"
   },
   {
    "duration": 0,
    "start_time": "2022-11-24T14:18:36.498Z"
   },
   {
    "duration": 0,
    "start_time": "2022-11-24T14:18:36.500Z"
   },
   {
    "duration": 0,
    "start_time": "2022-11-24T14:18:36.501Z"
   },
   {
    "duration": 122,
    "start_time": "2022-11-24T14:19:01.059Z"
   },
   {
    "duration": 4,
    "start_time": "2022-11-24T14:20:01.260Z"
   },
   {
    "duration": 1484,
    "start_time": "2022-11-24T14:20:04.811Z"
   },
   {
    "duration": 43,
    "start_time": "2022-11-24T14:20:06.298Z"
   },
   {
    "duration": 16,
    "start_time": "2022-11-24T14:20:06.343Z"
   },
   {
    "duration": 24,
    "start_time": "2022-11-24T14:20:06.361Z"
   },
   {
    "duration": 9,
    "start_time": "2022-11-24T14:20:06.391Z"
   },
   {
    "duration": 7,
    "start_time": "2022-11-24T14:20:06.412Z"
   },
   {
    "duration": 6,
    "start_time": "2022-11-24T14:20:06.420Z"
   },
   {
    "duration": 7,
    "start_time": "2022-11-24T14:20:06.428Z"
   },
   {
    "duration": 16,
    "start_time": "2022-11-24T14:20:06.437Z"
   },
   {
    "duration": 8,
    "start_time": "2022-11-24T14:20:06.455Z"
   },
   {
    "duration": 16,
    "start_time": "2022-11-24T14:20:06.465Z"
   },
   {
    "duration": 104,
    "start_time": "2022-11-24T14:20:06.483Z"
   },
   {
    "duration": 27,
    "start_time": "2022-11-24T14:20:06.589Z"
   },
   {
    "duration": 25,
    "start_time": "2022-11-24T14:20:06.619Z"
   },
   {
    "duration": 17,
    "start_time": "2022-11-24T14:20:06.646Z"
   },
   {
    "duration": 2027,
    "start_time": "2022-11-24T14:20:06.666Z"
   },
   {
    "duration": 7,
    "start_time": "2022-11-24T14:20:08.695Z"
   },
   {
    "duration": 12,
    "start_time": "2022-11-24T14:20:08.713Z"
   },
   {
    "duration": 9,
    "start_time": "2022-11-24T14:20:08.727Z"
   },
   {
    "duration": 30,
    "start_time": "2022-11-24T14:20:08.738Z"
   },
   {
    "duration": 187,
    "start_time": "2022-11-24T14:20:08.770Z"
   },
   {
    "duration": 184,
    "start_time": "2022-11-24T14:20:08.959Z"
   },
   {
    "duration": 4,
    "start_time": "2022-11-24T14:20:09.145Z"
   },
   {
    "duration": 6,
    "start_time": "2022-11-24T14:20:09.151Z"
   },
   {
    "duration": 18,
    "start_time": "2022-11-24T14:20:09.159Z"
   },
   {
    "duration": 13,
    "start_time": "2022-11-24T14:20:09.179Z"
   },
   {
    "duration": 9,
    "start_time": "2022-11-24T14:20:09.195Z"
   },
   {
    "duration": 27,
    "start_time": "2022-11-24T14:20:09.206Z"
   },
   {
    "duration": 4,
    "start_time": "2022-11-24T14:20:09.236Z"
   },
   {
    "duration": 9,
    "start_time": "2022-11-24T14:20:09.242Z"
   },
   {
    "duration": 1548,
    "start_time": "2022-11-25T06:53:33.228Z"
   },
   {
    "duration": 80,
    "start_time": "2022-11-25T06:53:34.778Z"
   },
   {
    "duration": 12,
    "start_time": "2022-11-25T06:53:34.860Z"
   },
   {
    "duration": 17,
    "start_time": "2022-11-25T06:53:34.874Z"
   },
   {
    "duration": 5,
    "start_time": "2022-11-25T06:53:34.894Z"
   },
   {
    "duration": 8,
    "start_time": "2022-11-25T06:53:34.900Z"
   },
   {
    "duration": 7,
    "start_time": "2022-11-25T06:53:34.909Z"
   },
   {
    "duration": 7,
    "start_time": "2022-11-25T06:53:34.918Z"
   },
   {
    "duration": 23,
    "start_time": "2022-11-25T06:53:34.926Z"
   },
   {
    "duration": 2,
    "start_time": "2022-11-25T06:53:34.950Z"
   },
   {
    "duration": 16,
    "start_time": "2022-11-25T06:53:34.953Z"
   },
   {
    "duration": 65,
    "start_time": "2022-11-25T06:53:34.970Z"
   },
   {
    "duration": 11,
    "start_time": "2022-11-25T06:53:35.037Z"
   },
   {
    "duration": 18,
    "start_time": "2022-11-25T06:53:35.051Z"
   },
   {
    "duration": 31,
    "start_time": "2022-11-25T06:53:35.071Z"
   },
   {
    "duration": 1290,
    "start_time": "2022-11-25T06:53:35.103Z"
   },
   {
    "duration": 6,
    "start_time": "2022-11-25T06:53:36.396Z"
   },
   {
    "duration": 14,
    "start_time": "2022-11-25T06:53:36.403Z"
   },
   {
    "duration": 5,
    "start_time": "2022-11-25T06:53:36.419Z"
   },
   {
    "duration": 26,
    "start_time": "2022-11-25T06:53:36.425Z"
   },
   {
    "duration": 146,
    "start_time": "2022-11-25T06:53:36.453Z"
   },
   {
    "duration": 154,
    "start_time": "2022-11-25T06:53:36.600Z"
   },
   {
    "duration": 2,
    "start_time": "2022-11-25T06:53:36.756Z"
   },
   {
    "duration": 7,
    "start_time": "2022-11-25T06:53:36.760Z"
   },
   {
    "duration": 13,
    "start_time": "2022-11-25T06:53:36.768Z"
   },
   {
    "duration": 7,
    "start_time": "2022-11-25T06:53:36.783Z"
   },
   {
    "duration": 9,
    "start_time": "2022-11-25T06:53:36.791Z"
   },
   {
    "duration": 20,
    "start_time": "2022-11-25T06:53:36.801Z"
   },
   {
    "duration": 3,
    "start_time": "2022-11-25T06:53:36.823Z"
   },
   {
    "duration": 5,
    "start_time": "2022-11-25T06:53:36.827Z"
   },
   {
    "duration": 3,
    "start_time": "2022-11-25T06:57:21.226Z"
   },
   {
    "duration": 89,
    "start_time": "2022-11-25T07:25:24.841Z"
   },
   {
    "duration": 3,
    "start_time": "2022-11-25T07:25:53.394Z"
   },
   {
    "duration": 52,
    "start_time": "2022-11-25T07:26:07.325Z"
   },
   {
    "duration": 4,
    "start_time": "2022-11-25T07:27:34.838Z"
   },
   {
    "duration": 4,
    "start_time": "2022-11-25T07:27:47.786Z"
   },
   {
    "duration": 4,
    "start_time": "2022-11-25T07:28:03.113Z"
   },
   {
    "duration": 59,
    "start_time": "2022-11-25T07:29:05.425Z"
   },
   {
    "duration": 4,
    "start_time": "2022-11-25T07:29:13.294Z"
   },
   {
    "duration": 5,
    "start_time": "2022-11-25T07:30:06.642Z"
   },
   {
    "duration": 3,
    "start_time": "2022-11-25T07:31:22.812Z"
   },
   {
    "duration": 5,
    "start_time": "2022-11-25T07:31:26.850Z"
   },
   {
    "duration": 5,
    "start_time": "2022-11-25T07:31:34.338Z"
   },
   {
    "duration": 4,
    "start_time": "2022-11-25T07:53:49.115Z"
   },
   {
    "duration": 1105,
    "start_time": "2022-11-25T07:56:07.525Z"
   },
   {
    "duration": 6,
    "start_time": "2022-11-25T07:56:22.885Z"
   },
   {
    "duration": 4,
    "start_time": "2022-11-25T07:57:26.957Z"
   },
   {
    "duration": 4,
    "start_time": "2022-11-25T07:57:36.210Z"
   },
   {
    "duration": 5,
    "start_time": "2022-11-25T07:57:39.999Z"
   },
   {
    "duration": 4,
    "start_time": "2022-11-25T07:57:58.719Z"
   },
   {
    "duration": 111,
    "start_time": "2022-11-25T07:59:18.378Z"
   },
   {
    "duration": 180,
    "start_time": "2022-11-25T07:59:22.979Z"
   },
   {
    "duration": 4,
    "start_time": "2022-11-25T08:00:36.180Z"
   },
   {
    "duration": 1275,
    "start_time": "2022-11-25T08:26:59.737Z"
   },
   {
    "duration": 42,
    "start_time": "2022-11-25T08:27:01.014Z"
   },
   {
    "duration": 11,
    "start_time": "2022-11-25T08:27:01.058Z"
   },
   {
    "duration": 17,
    "start_time": "2022-11-25T08:27:01.071Z"
   },
   {
    "duration": 10,
    "start_time": "2022-11-25T08:27:01.091Z"
   },
   {
    "duration": 13,
    "start_time": "2022-11-25T08:27:01.102Z"
   },
   {
    "duration": 10,
    "start_time": "2022-11-25T08:27:01.116Z"
   },
   {
    "duration": 8,
    "start_time": "2022-11-25T08:27:01.127Z"
   },
   {
    "duration": 16,
    "start_time": "2022-11-25T08:27:01.137Z"
   },
   {
    "duration": 3,
    "start_time": "2022-11-25T08:27:01.154Z"
   },
   {
    "duration": 17,
    "start_time": "2022-11-25T08:27:01.159Z"
   },
   {
    "duration": 80,
    "start_time": "2022-11-25T08:27:01.177Z"
   },
   {
    "duration": 13,
    "start_time": "2022-11-25T08:27:01.258Z"
   },
   {
    "duration": 40,
    "start_time": "2022-11-25T08:27:01.274Z"
   },
   {
    "duration": 18,
    "start_time": "2022-11-25T08:27:01.315Z"
   },
   {
    "duration": 45,
    "start_time": "2022-11-25T08:27:01.335Z"
   },
   {
    "duration": 22,
    "start_time": "2022-11-25T08:27:01.382Z"
   },
   {
    "duration": 27,
    "start_time": "2022-11-25T08:27:01.406Z"
   },
   {
    "duration": 50,
    "start_time": "2022-11-25T08:27:01.434Z"
   },
   {
    "duration": 79,
    "start_time": "2022-11-25T08:27:01.485Z"
   },
   {
    "duration": 166,
    "start_time": "2022-11-25T08:27:01.566Z"
   },
   {
    "duration": 221,
    "start_time": "2022-11-25T08:27:01.734Z"
   },
   {
    "duration": 52,
    "start_time": "2022-11-25T08:27:01.957Z"
   },
   {
    "duration": 0,
    "start_time": "2022-11-25T08:27:02.011Z"
   },
   {
    "duration": 0,
    "start_time": "2022-11-25T08:27:02.012Z"
   },
   {
    "duration": 0,
    "start_time": "2022-11-25T08:27:02.013Z"
   },
   {
    "duration": 0,
    "start_time": "2022-11-25T08:27:02.014Z"
   },
   {
    "duration": 0,
    "start_time": "2022-11-25T08:27:02.015Z"
   },
   {
    "duration": 0,
    "start_time": "2022-11-25T08:27:02.016Z"
   },
   {
    "duration": 0,
    "start_time": "2022-11-25T08:27:02.018Z"
   },
   {
    "duration": 71,
    "start_time": "2022-11-25T08:28:12.485Z"
   },
   {
    "duration": 51,
    "start_time": "2022-11-25T08:28:16.396Z"
   },
   {
    "duration": 124,
    "start_time": "2022-11-25T08:29:18.910Z"
   },
   {
    "duration": 9,
    "start_time": "2022-11-25T08:30:32.680Z"
   },
   {
    "duration": 11,
    "start_time": "2022-11-25T08:30:52.972Z"
   },
   {
    "duration": 763,
    "start_time": "2022-11-25T08:33:04.811Z"
   },
   {
    "duration": 4,
    "start_time": "2022-11-25T08:37:02.908Z"
   },
   {
    "duration": 3,
    "start_time": "2022-11-25T08:37:53.628Z"
   },
   {
    "duration": 768,
    "start_time": "2022-11-25T08:37:56.563Z"
   },
   {
    "duration": 3,
    "start_time": "2022-11-25T08:38:15.747Z"
   },
   {
    "duration": 27,
    "start_time": "2022-11-25T08:38:49.962Z"
   },
   {
    "duration": 6288,
    "start_time": "2022-11-25T08:39:08.410Z"
   },
   {
    "duration": 57632,
    "start_time": "2022-11-25T08:40:11.235Z"
   },
   {
    "duration": 2,
    "start_time": "2022-11-25T08:50:41.300Z"
   },
   {
    "duration": 17,
    "start_time": "2022-11-25T09:16:51.298Z"
   },
   {
    "duration": 37152,
    "start_time": "2022-11-25T09:30:22.492Z"
   },
   {
    "duration": 55416,
    "start_time": "2022-11-25T09:31:04.129Z"
   },
   {
    "duration": 3,
    "start_time": "2022-11-25T09:38:02.728Z"
   },
   {
    "duration": 11,
    "start_time": "2022-11-25T09:42:28.936Z"
   },
   {
    "duration": 267,
    "start_time": "2022-11-25T09:42:43.188Z"
   },
   {
    "duration": 298,
    "start_time": "2022-11-25T09:44:51.921Z"
   },
   {
    "duration": 274,
    "start_time": "2022-11-25T09:45:15.616Z"
   },
   {
    "duration": 198,
    "start_time": "2022-11-25T09:46:37.803Z"
   },
   {
    "duration": 183,
    "start_time": "2022-11-25T09:48:25.992Z"
   },
   {
    "duration": 188,
    "start_time": "2022-11-25T09:48:42.191Z"
   },
   {
    "duration": 200,
    "start_time": "2022-11-25T09:48:48.190Z"
   },
   {
    "duration": 212,
    "start_time": "2022-11-25T09:48:54.696Z"
   },
   {
    "duration": 206,
    "start_time": "2022-11-25T09:49:00.120Z"
   },
   {
    "duration": 186,
    "start_time": "2022-11-25T09:49:03.755Z"
   },
   {
    "duration": 188,
    "start_time": "2022-11-25T09:49:10.940Z"
   },
   {
    "duration": 208,
    "start_time": "2022-11-25T09:49:21.835Z"
   },
   {
    "duration": 190,
    "start_time": "2022-11-25T09:49:25.921Z"
   },
   {
    "duration": 284,
    "start_time": "2022-11-25T09:49:33.575Z"
   },
   {
    "duration": 5,
    "start_time": "2022-11-25T10:04:22.654Z"
   },
   {
    "duration": 180,
    "start_time": "2022-11-25T10:04:27.251Z"
   },
   {
    "duration": 210,
    "start_time": "2022-11-25T10:04:36.721Z"
   },
   {
    "duration": 196,
    "start_time": "2022-11-25T10:06:12.070Z"
   },
   {
    "duration": 204,
    "start_time": "2022-11-25T10:06:41.841Z"
   },
   {
    "duration": 210,
    "start_time": "2022-11-25T10:06:49.021Z"
   },
   {
    "duration": 213,
    "start_time": "2022-11-25T10:06:57.441Z"
   },
   {
    "duration": 232,
    "start_time": "2022-11-25T10:07:57.542Z"
   },
   {
    "duration": 200,
    "start_time": "2022-11-25T10:08:01.497Z"
   },
   {
    "duration": 177,
    "start_time": "2022-11-25T10:08:29.813Z"
   },
   {
    "duration": 195,
    "start_time": "2022-11-25T10:08:44.741Z"
   },
   {
    "duration": 279,
    "start_time": "2022-11-25T10:08:54.189Z"
   },
   {
    "duration": 174,
    "start_time": "2022-11-25T10:09:07.502Z"
   },
   {
    "duration": 167,
    "start_time": "2022-11-25T10:09:11.922Z"
   },
   {
    "duration": 153,
    "start_time": "2022-11-25T10:09:15.780Z"
   },
   {
    "duration": 173,
    "start_time": "2022-11-25T10:09:42.918Z"
   },
   {
    "duration": 182,
    "start_time": "2022-11-25T10:09:55.781Z"
   },
   {
    "duration": 172,
    "start_time": "2022-11-25T10:10:06.345Z"
   },
   {
    "duration": 159,
    "start_time": "2022-11-25T10:10:08.455Z"
   },
   {
    "duration": 236,
    "start_time": "2022-11-25T10:10:12.361Z"
   },
   {
    "duration": 163,
    "start_time": "2022-11-25T10:10:19.652Z"
   },
   {
    "duration": 163,
    "start_time": "2022-11-25T10:10:23.283Z"
   },
   {
    "duration": 197,
    "start_time": "2022-11-25T10:10:45.422Z"
   },
   {
    "duration": 195,
    "start_time": "2022-11-25T10:11:03.141Z"
   },
   {
    "duration": 149,
    "start_time": "2022-11-25T10:11:12.752Z"
   },
   {
    "duration": 148,
    "start_time": "2022-11-25T10:11:19.540Z"
   },
   {
    "duration": 316,
    "start_time": "2022-11-25T10:11:23.301Z"
   },
   {
    "duration": 244,
    "start_time": "2022-11-25T10:12:44.597Z"
   },
   {
    "duration": 227,
    "start_time": "2022-11-25T10:13:06.751Z"
   },
   {
    "duration": 157,
    "start_time": "2022-11-25T10:13:10.872Z"
   },
   {
    "duration": 201,
    "start_time": "2022-11-25T10:13:15.005Z"
   },
   {
    "duration": 209,
    "start_time": "2022-11-25T10:13:23.981Z"
   },
   {
    "duration": 203,
    "start_time": "2022-11-25T10:13:31.885Z"
   },
   {
    "duration": 141,
    "start_time": "2022-11-25T10:13:36.318Z"
   },
   {
    "duration": 202,
    "start_time": "2022-11-25T10:13:39.697Z"
   },
   {
    "duration": 202,
    "start_time": "2022-11-25T10:13:43.130Z"
   },
   {
    "duration": 335,
    "start_time": "2022-11-25T10:14:02.607Z"
   },
   {
    "duration": 150,
    "start_time": "2022-11-25T10:14:06.085Z"
   },
   {
    "duration": 178,
    "start_time": "2022-11-25T10:14:14.595Z"
   },
   {
    "duration": 147,
    "start_time": "2022-11-25T10:14:21.314Z"
   },
   {
    "duration": 138,
    "start_time": "2022-11-25T10:14:30.631Z"
   },
   {
    "duration": 209,
    "start_time": "2022-11-25T10:14:51.594Z"
   },
   {
    "duration": 191,
    "start_time": "2022-11-25T10:15:03.948Z"
   },
   {
    "duration": 190,
    "start_time": "2022-11-25T10:18:01.760Z"
   },
   {
    "duration": 333,
    "start_time": "2022-11-25T10:18:12.685Z"
   },
   {
    "duration": 239,
    "start_time": "2022-11-25T10:18:24.000Z"
   },
   {
    "duration": 227,
    "start_time": "2022-11-25T10:18:59.613Z"
   },
   {
    "duration": 8,
    "start_time": "2022-11-25T10:22:53.026Z"
   },
   {
    "duration": 16,
    "start_time": "2022-11-25T10:23:23.902Z"
   },
   {
    "duration": 5,
    "start_time": "2022-11-25T10:24:44.617Z"
   },
   {
    "duration": 225,
    "start_time": "2022-11-25T10:24:49.351Z"
   },
   {
    "duration": 236,
    "start_time": "2022-11-25T10:25:42.595Z"
   },
   {
    "duration": 4,
    "start_time": "2022-11-25T10:26:51.757Z"
   },
   {
    "duration": 240,
    "start_time": "2022-11-25T10:27:11.317Z"
   },
   {
    "duration": 329,
    "start_time": "2022-11-25T10:27:25.919Z"
   },
   {
    "duration": 225,
    "start_time": "2022-11-25T10:27:29.519Z"
   },
   {
    "duration": 239,
    "start_time": "2022-11-25T10:28:39.704Z"
   },
   {
    "duration": 237,
    "start_time": "2022-11-25T10:28:48.751Z"
   },
   {
    "duration": 252,
    "start_time": "2022-11-25T10:28:54.765Z"
   },
   {
    "duration": 343,
    "start_time": "2022-11-25T10:29:01.160Z"
   },
   {
    "duration": 243,
    "start_time": "2022-11-25T10:29:09.460Z"
   },
   {
    "duration": 245,
    "start_time": "2022-11-25T10:33:45.045Z"
   },
   {
    "duration": 219,
    "start_time": "2022-11-25T10:33:49.725Z"
   },
   {
    "duration": 221,
    "start_time": "2022-11-25T10:34:00.866Z"
   },
   {
    "duration": 239,
    "start_time": "2022-11-25T10:34:05.915Z"
   },
   {
    "duration": 324,
    "start_time": "2022-11-25T10:34:11.566Z"
   },
   {
    "duration": 1307,
    "start_time": "2022-11-25T11:03:09.621Z"
   },
   {
    "duration": 40,
    "start_time": "2022-11-25T11:03:10.930Z"
   },
   {
    "duration": 12,
    "start_time": "2022-11-25T11:03:10.972Z"
   },
   {
    "duration": 15,
    "start_time": "2022-11-25T11:03:10.986Z"
   },
   {
    "duration": 5,
    "start_time": "2022-11-25T11:03:11.005Z"
   },
   {
    "duration": 6,
    "start_time": "2022-11-25T11:03:11.012Z"
   },
   {
    "duration": 5,
    "start_time": "2022-11-25T11:03:11.020Z"
   },
   {
    "duration": 11,
    "start_time": "2022-11-25T11:03:11.026Z"
   },
   {
    "duration": 16,
    "start_time": "2022-11-25T11:03:11.038Z"
   },
   {
    "duration": 6,
    "start_time": "2022-11-25T11:03:11.055Z"
   },
   {
    "duration": 21,
    "start_time": "2022-11-25T11:03:11.062Z"
   },
   {
    "duration": 72,
    "start_time": "2022-11-25T11:03:11.084Z"
   },
   {
    "duration": 11,
    "start_time": "2022-11-25T11:03:11.157Z"
   },
   {
    "duration": 29,
    "start_time": "2022-11-25T11:03:11.171Z"
   },
   {
    "duration": 11,
    "start_time": "2022-11-25T11:03:11.201Z"
   },
   {
    "duration": 20,
    "start_time": "2022-11-25T11:03:11.214Z"
   },
   {
    "duration": 5,
    "start_time": "2022-11-25T11:03:11.236Z"
   },
   {
    "duration": 9,
    "start_time": "2022-11-25T11:03:11.242Z"
   },
   {
    "duration": 4,
    "start_time": "2022-11-25T11:03:11.252Z"
   },
   {
    "duration": 51,
    "start_time": "2022-11-25T11:03:11.257Z"
   },
   {
    "duration": 10,
    "start_time": "2022-11-25T11:03:11.309Z"
   },
   {
    "duration": 130,
    "start_time": "2022-11-25T11:03:11.320Z"
   },
   {
    "duration": 152,
    "start_time": "2022-11-25T11:03:11.451Z"
   },
   {
    "duration": 2,
    "start_time": "2022-11-25T11:03:11.605Z"
   },
   {
    "duration": 9,
    "start_time": "2022-11-25T11:03:11.608Z"
   },
   {
    "duration": 791,
    "start_time": "2022-11-25T11:03:11.618Z"
   },
   {
    "duration": 5,
    "start_time": "2022-11-25T11:03:12.410Z"
   },
   {
    "duration": 305,
    "start_time": "2022-11-25T11:03:12.416Z"
   },
   {
    "duration": 10579,
    "start_time": "2022-11-25T11:03:12.722Z"
   },
   {
    "duration": 55835,
    "start_time": "2022-11-25T11:03:23.304Z"
   },
   {
    "duration": 3,
    "start_time": "2022-11-25T11:04:19.141Z"
   },
   {
    "duration": 30,
    "start_time": "2022-11-25T11:04:19.146Z"
   },
   {
    "duration": 41,
    "start_time": "2022-11-25T11:04:19.178Z"
   },
   {
    "duration": 25,
    "start_time": "2022-11-25T11:04:19.220Z"
   },
   {
    "duration": 23,
    "start_time": "2022-11-25T11:04:19.247Z"
   },
   {
    "duration": 23,
    "start_time": "2022-11-25T11:04:19.272Z"
   },
   {
    "duration": 4,
    "start_time": "2022-11-25T11:05:25.749Z"
   },
   {
    "duration": 323,
    "start_time": "2022-11-25T11:06:13.084Z"
   },
   {
    "duration": 4,
    "start_time": "2022-11-25T11:07:36.661Z"
   },
   {
    "duration": 323,
    "start_time": "2022-11-25T11:07:42.525Z"
   },
   {
    "duration": 751,
    "start_time": "2022-11-25T11:07:55.793Z"
   },
   {
    "duration": 12,
    "start_time": "2022-11-25T11:07:58.204Z"
   },
   {
    "duration": 3,
    "start_time": "2022-11-25T11:08:35.773Z"
   },
   {
    "duration": 14,
    "start_time": "2022-11-25T11:08:39.764Z"
   },
   {
    "duration": 3,
    "start_time": "2022-11-25T11:11:39.020Z"
   },
   {
    "duration": 13,
    "start_time": "2022-11-25T11:11:43.803Z"
   },
   {
    "duration": 13,
    "start_time": "2022-11-25T11:12:07.423Z"
   },
   {
    "duration": 14,
    "start_time": "2022-11-25T11:12:43.624Z"
   },
   {
    "duration": 4,
    "start_time": "2022-11-25T11:21:53.411Z"
   },
   {
    "duration": 1290,
    "start_time": "2022-11-25T11:49:45.039Z"
   },
   {
    "duration": 43,
    "start_time": "2022-11-25T11:49:46.331Z"
   },
   {
    "duration": 14,
    "start_time": "2022-11-25T11:49:46.376Z"
   },
   {
    "duration": 17,
    "start_time": "2022-11-25T11:49:46.393Z"
   },
   {
    "duration": 7,
    "start_time": "2022-11-25T11:49:46.412Z"
   },
   {
    "duration": 9,
    "start_time": "2022-11-25T11:49:46.421Z"
   },
   {
    "duration": 6,
    "start_time": "2022-11-25T11:49:46.432Z"
   },
   {
    "duration": 4,
    "start_time": "2022-11-25T11:49:46.439Z"
   },
   {
    "duration": 13,
    "start_time": "2022-11-25T11:49:46.445Z"
   },
   {
    "duration": 2,
    "start_time": "2022-11-25T11:49:46.497Z"
   },
   {
    "duration": 17,
    "start_time": "2022-11-25T11:49:46.501Z"
   },
   {
    "duration": 62,
    "start_time": "2022-11-25T11:49:46.519Z"
   },
   {
    "duration": 12,
    "start_time": "2022-11-25T11:49:46.598Z"
   },
   {
    "duration": 18,
    "start_time": "2022-11-25T11:49:46.611Z"
   },
   {
    "duration": 11,
    "start_time": "2022-11-25T11:49:46.631Z"
   },
   {
    "duration": 24,
    "start_time": "2022-11-25T11:49:46.643Z"
   },
   {
    "duration": 32,
    "start_time": "2022-11-25T11:49:46.669Z"
   },
   {
    "duration": 18,
    "start_time": "2022-11-25T11:49:46.703Z"
   },
   {
    "duration": 4,
    "start_time": "2022-11-25T11:49:46.723Z"
   },
   {
    "duration": 30,
    "start_time": "2022-11-25T11:49:46.729Z"
   },
   {
    "duration": 15,
    "start_time": "2022-11-25T11:49:46.761Z"
   },
   {
    "duration": 134,
    "start_time": "2022-11-25T11:49:46.798Z"
   },
   {
    "duration": 152,
    "start_time": "2022-11-25T11:49:46.933Z"
   },
   {
    "duration": 4,
    "start_time": "2022-11-25T11:49:47.087Z"
   },
   {
    "duration": 6,
    "start_time": "2022-11-25T11:49:47.098Z"
   },
   {
    "duration": 765,
    "start_time": "2022-11-25T11:49:47.106Z"
   },
   {
    "duration": 15,
    "start_time": "2022-11-25T11:49:47.872Z"
   },
   {
    "duration": 5,
    "start_time": "2022-11-25T11:49:47.899Z"
   },
   {
    "duration": 420,
    "start_time": "2022-11-25T11:49:47.905Z"
   },
   {
    "duration": 5276,
    "start_time": "2022-11-25T11:49:48.327Z"
   },
   {
    "duration": 105,
    "start_time": "2022-11-25T11:49:53.606Z"
   },
   {
    "duration": 57941,
    "start_time": "2022-11-25T11:49:53.799Z"
   },
   {
    "duration": 356,
    "start_time": "2022-11-25T11:50:51.742Z"
   },
   {
    "duration": 3,
    "start_time": "2022-11-25T11:50:52.099Z"
   },
   {
    "duration": 9,
    "start_time": "2022-11-25T11:50:52.104Z"
   },
   {
    "duration": 23,
    "start_time": "2022-11-25T11:50:52.114Z"
   },
   {
    "duration": 53,
    "start_time": "2022-11-25T11:50:52.139Z"
   },
   {
    "duration": 8,
    "start_time": "2022-11-25T11:50:52.195Z"
   },
   {
    "duration": 28,
    "start_time": "2022-11-25T11:50:52.206Z"
   },
   {
    "duration": 6,
    "start_time": "2022-11-25T12:30:51.111Z"
   },
   {
    "duration": 5,
    "start_time": "2022-11-25T12:31:07.279Z"
   },
   {
    "duration": 5,
    "start_time": "2022-11-25T12:31:52.455Z"
   },
   {
    "duration": 258,
    "start_time": "2022-11-25T12:32:30.525Z"
   },
   {
    "duration": 357,
    "start_time": "2022-11-25T12:33:06.099Z"
   },
   {
    "duration": 235,
    "start_time": "2022-11-25T12:33:09.437Z"
   },
   {
    "duration": 289,
    "start_time": "2022-11-25T12:34:24.544Z"
   },
   {
    "duration": 341,
    "start_time": "2022-11-25T12:34:35.857Z"
   },
   {
    "duration": 343,
    "start_time": "2022-11-25T12:34:39.827Z"
   },
   {
    "duration": 222,
    "start_time": "2022-11-25T12:34:53.025Z"
   },
   {
    "duration": 225,
    "start_time": "2022-11-25T12:34:56.005Z"
   },
   {
    "duration": 234,
    "start_time": "2022-11-25T12:34:57.438Z"
   },
   {
    "duration": 6,
    "start_time": "2022-11-25T12:35:30.857Z"
   },
   {
    "duration": 256,
    "start_time": "2022-11-25T12:35:32.335Z"
   },
   {
    "duration": 364,
    "start_time": "2022-11-25T12:36:03.184Z"
   },
   {
    "duration": 4,
    "start_time": "2022-11-25T12:47:02.719Z"
   },
   {
    "duration": 122,
    "start_time": "2022-11-25T12:47:06.779Z"
   },
   {
    "duration": 338,
    "start_time": "2022-11-25T12:47:56.754Z"
   },
   {
    "duration": 97,
    "start_time": "2022-11-25T12:56:36.153Z"
   },
   {
    "duration": 44,
    "start_time": "2022-11-25T12:56:55.392Z"
   },
   {
    "duration": 229,
    "start_time": "2022-11-25T12:58:43.565Z"
   },
   {
    "duration": 7,
    "start_time": "2022-11-25T12:59:04.721Z"
   },
   {
    "duration": 321,
    "start_time": "2022-11-25T12:59:07.921Z"
   },
   {
    "duration": 235,
    "start_time": "2022-11-25T12:59:23.557Z"
   },
   {
    "duration": 4,
    "start_time": "2022-11-25T13:01:10.451Z"
   },
   {
    "duration": 310,
    "start_time": "2022-11-25T13:01:18.093Z"
   },
   {
    "duration": 10,
    "start_time": "2022-11-25T13:01:31.712Z"
   },
   {
    "duration": 342,
    "start_time": "2022-11-25T13:01:36.832Z"
   },
   {
    "duration": 9,
    "start_time": "2022-11-25T13:01:45.840Z"
   },
   {
    "duration": 338,
    "start_time": "2022-11-25T13:01:53.880Z"
   },
   {
    "duration": 837,
    "start_time": "2022-11-25T13:03:56.514Z"
   },
   {
    "duration": 865,
    "start_time": "2022-11-25T13:04:42.197Z"
   },
   {
    "duration": 10,
    "start_time": "2022-11-25T13:13:34.949Z"
   },
   {
    "duration": 778,
    "start_time": "2022-11-25T13:13:36.769Z"
   },
   {
    "duration": 13,
    "start_time": "2022-11-25T13:13:50.214Z"
   },
   {
    "duration": 15,
    "start_time": "2022-11-25T13:13:51.854Z"
   },
   {
    "duration": 238,
    "start_time": "2022-11-25T13:15:27.977Z"
   },
   {
    "duration": 5,
    "start_time": "2022-11-25T13:15:35.841Z"
   },
   {
    "duration": 227,
    "start_time": "2022-11-25T13:15:37.535Z"
   },
   {
    "duration": 331,
    "start_time": "2022-11-25T13:15:43.296Z"
   },
   {
    "duration": 231,
    "start_time": "2022-11-25T13:15:49.238Z"
   },
   {
    "duration": 6008,
    "start_time": "2022-11-25T13:16:46.916Z"
   },
   {
    "duration": 6236,
    "start_time": "2022-11-25T13:17:23.368Z"
   },
   {
    "duration": 76,
    "start_time": "2022-11-25T13:17:37.024Z"
   },
   {
    "duration": 211,
    "start_time": "2022-11-25T13:17:57.644Z"
   },
   {
    "duration": 6066,
    "start_time": "2022-11-25T13:18:27.233Z"
   },
   {
    "duration": 761,
    "start_time": "2022-11-25T13:19:02.020Z"
   },
   {
    "duration": 12,
    "start_time": "2022-11-25T13:19:45.460Z"
   },
   {
    "duration": 14,
    "start_time": "2022-11-25T13:19:48.232Z"
   },
   {
    "duration": 12,
    "start_time": "2022-11-25T13:19:54.074Z"
   },
   {
    "duration": 6,
    "start_time": "2022-11-25T13:22:20.420Z"
   },
   {
    "duration": 6,
    "start_time": "2022-11-25T13:23:11.435Z"
   },
   {
    "duration": 9,
    "start_time": "2022-11-25T13:23:21.239Z"
   },
   {
    "duration": 6,
    "start_time": "2022-11-25T13:23:31.121Z"
   },
   {
    "duration": 222,
    "start_time": "2022-11-25T13:23:33.620Z"
   },
   {
    "duration": 7,
    "start_time": "2022-11-25T13:24:01.015Z"
   },
   {
    "duration": 270,
    "start_time": "2022-11-25T13:24:04.746Z"
   },
   {
    "duration": 6,
    "start_time": "2022-11-25T13:25:03.391Z"
   },
   {
    "duration": 242,
    "start_time": "2022-11-25T13:25:05.107Z"
   },
   {
    "duration": 6,
    "start_time": "2022-11-25T13:25:37.022Z"
   },
   {
    "duration": 351,
    "start_time": "2022-11-25T13:25:40.473Z"
   },
   {
    "duration": 55873,
    "start_time": "2022-11-25T13:28:21.597Z"
   },
   {
    "duration": 312,
    "start_time": "2022-11-25T13:29:30.575Z"
   },
   {
    "duration": 547,
    "start_time": "2022-11-25T13:37:52.067Z"
   },
   {
    "duration": 924,
    "start_time": "2022-11-25T13:38:06.106Z"
   },
   {
    "duration": 218,
    "start_time": "2022-11-25T13:40:27.636Z"
   },
   {
    "duration": 9,
    "start_time": "2022-11-25T13:43:54.253Z"
   },
   {
    "duration": 13,
    "start_time": "2022-11-25T13:44:11.402Z"
   },
   {
    "duration": 9,
    "start_time": "2022-11-25T13:44:58.200Z"
   },
   {
    "duration": 9,
    "start_time": "2022-11-25T13:45:07.601Z"
   },
   {
    "duration": 1337,
    "start_time": "2022-11-25T13:45:14.242Z"
   },
   {
    "duration": 45,
    "start_time": "2022-11-25T13:45:15.581Z"
   },
   {
    "duration": 14,
    "start_time": "2022-11-25T13:45:15.627Z"
   },
   {
    "duration": 23,
    "start_time": "2022-11-25T13:45:15.643Z"
   },
   {
    "duration": 24,
    "start_time": "2022-11-25T13:45:15.668Z"
   },
   {
    "duration": 21,
    "start_time": "2022-11-25T13:45:15.693Z"
   },
   {
    "duration": 16,
    "start_time": "2022-11-25T13:45:15.715Z"
   },
   {
    "duration": 21,
    "start_time": "2022-11-25T13:45:15.732Z"
   },
   {
    "duration": 23,
    "start_time": "2022-11-25T13:45:15.754Z"
   },
   {
    "duration": 29,
    "start_time": "2022-11-25T13:45:15.779Z"
   },
   {
    "duration": 50,
    "start_time": "2022-11-25T13:45:15.810Z"
   },
   {
    "duration": 103,
    "start_time": "2022-11-25T13:45:15.862Z"
   },
   {
    "duration": 11,
    "start_time": "2022-11-25T13:45:15.967Z"
   },
   {
    "duration": 59,
    "start_time": "2022-11-25T13:45:15.980Z"
   },
   {
    "duration": 83,
    "start_time": "2022-11-25T13:45:16.040Z"
   },
   {
    "duration": 39,
    "start_time": "2022-11-25T13:45:16.124Z"
   },
   {
    "duration": 53,
    "start_time": "2022-11-25T13:45:16.165Z"
   },
   {
    "duration": 41,
    "start_time": "2022-11-25T13:45:16.220Z"
   },
   {
    "duration": 33,
    "start_time": "2022-11-25T13:45:16.262Z"
   },
   {
    "duration": 77,
    "start_time": "2022-11-25T13:45:16.297Z"
   },
   {
    "duration": 73,
    "start_time": "2022-11-25T13:45:16.375Z"
   },
   {
    "duration": 147,
    "start_time": "2022-11-25T13:45:16.450Z"
   },
   {
    "duration": 178,
    "start_time": "2022-11-25T13:45:16.599Z"
   },
   {
    "duration": 6,
    "start_time": "2022-11-25T13:45:16.779Z"
   },
   {
    "duration": 52,
    "start_time": "2022-11-25T13:45:16.786Z"
   },
   {
    "duration": 790,
    "start_time": "2022-11-25T13:45:16.839Z"
   },
   {
    "duration": 12,
    "start_time": "2022-11-25T13:45:17.631Z"
   },
   {
    "duration": 69,
    "start_time": "2022-11-25T13:45:17.646Z"
   },
   {
    "duration": 121,
    "start_time": "2022-11-25T13:45:17.717Z"
   },
   {
    "duration": 0,
    "start_time": "2022-11-25T13:45:17.839Z"
   },
   {
    "duration": 0,
    "start_time": "2022-11-25T13:45:17.840Z"
   },
   {
    "duration": 0,
    "start_time": "2022-11-25T13:45:17.841Z"
   },
   {
    "duration": 0,
    "start_time": "2022-11-25T13:45:17.842Z"
   },
   {
    "duration": 0,
    "start_time": "2022-11-25T13:45:17.843Z"
   },
   {
    "duration": 0,
    "start_time": "2022-11-25T13:45:17.844Z"
   },
   {
    "duration": 0,
    "start_time": "2022-11-25T13:45:17.846Z"
   },
   {
    "duration": 0,
    "start_time": "2022-11-25T13:45:17.847Z"
   },
   {
    "duration": 0,
    "start_time": "2022-11-25T13:45:17.848Z"
   },
   {
    "duration": 0,
    "start_time": "2022-11-25T13:45:17.849Z"
   },
   {
    "duration": 0,
    "start_time": "2022-11-25T13:45:17.850Z"
   },
   {
    "duration": 0,
    "start_time": "2022-11-25T13:45:17.851Z"
   },
   {
    "duration": 0,
    "start_time": "2022-11-25T13:45:17.853Z"
   },
   {
    "duration": 0,
    "start_time": "2022-11-25T13:45:17.853Z"
   },
   {
    "duration": 1,
    "start_time": "2022-11-25T13:45:17.854Z"
   },
   {
    "duration": 0,
    "start_time": "2022-11-25T13:45:17.855Z"
   },
   {
    "duration": 0,
    "start_time": "2022-11-25T13:45:17.856Z"
   },
   {
    "duration": 1365,
    "start_time": "2022-11-25T13:47:08.676Z"
   },
   {
    "duration": 45,
    "start_time": "2022-11-25T13:47:10.043Z"
   },
   {
    "duration": 14,
    "start_time": "2022-11-25T13:47:10.090Z"
   },
   {
    "duration": 28,
    "start_time": "2022-11-25T13:47:10.106Z"
   },
   {
    "duration": 18,
    "start_time": "2022-11-25T13:47:10.135Z"
   },
   {
    "duration": 30,
    "start_time": "2022-11-25T13:47:10.155Z"
   },
   {
    "duration": 10,
    "start_time": "2022-11-25T13:47:10.186Z"
   },
   {
    "duration": 25,
    "start_time": "2022-11-25T13:47:10.198Z"
   },
   {
    "duration": 15,
    "start_time": "2022-11-25T13:47:10.224Z"
   },
   {
    "duration": 18,
    "start_time": "2022-11-25T13:47:10.242Z"
   },
   {
    "duration": 21,
    "start_time": "2022-11-25T13:47:10.261Z"
   },
   {
    "duration": 86,
    "start_time": "2022-11-25T13:47:10.283Z"
   },
   {
    "duration": 11,
    "start_time": "2022-11-25T13:47:10.371Z"
   },
   {
    "duration": 30,
    "start_time": "2022-11-25T13:47:10.384Z"
   },
   {
    "duration": 17,
    "start_time": "2022-11-25T13:47:10.415Z"
   },
   {
    "duration": 28,
    "start_time": "2022-11-25T13:47:10.434Z"
   },
   {
    "duration": 12,
    "start_time": "2022-11-25T13:47:10.464Z"
   },
   {
    "duration": 19,
    "start_time": "2022-11-25T13:47:10.478Z"
   },
   {
    "duration": 27,
    "start_time": "2022-11-25T13:47:10.498Z"
   },
   {
    "duration": 41,
    "start_time": "2022-11-25T13:47:10.527Z"
   },
   {
    "duration": 10,
    "start_time": "2022-11-25T13:47:10.569Z"
   },
   {
    "duration": 152,
    "start_time": "2022-11-25T13:47:10.580Z"
   },
   {
    "duration": 141,
    "start_time": "2022-11-25T13:47:10.734Z"
   },
   {
    "duration": 4,
    "start_time": "2022-11-25T13:47:10.877Z"
   },
   {
    "duration": 38,
    "start_time": "2022-11-25T13:47:10.883Z"
   },
   {
    "duration": 800,
    "start_time": "2022-11-25T13:47:10.923Z"
   },
   {
    "duration": 14,
    "start_time": "2022-11-25T13:47:11.724Z"
   },
   {
    "duration": 12,
    "start_time": "2022-11-25T13:47:11.740Z"
   },
   {
    "duration": 6,
    "start_time": "2022-11-25T13:47:11.753Z"
   },
   {
    "duration": 347,
    "start_time": "2022-11-25T13:47:11.760Z"
   },
   {
    "duration": 6089,
    "start_time": "2022-11-25T13:47:12.109Z"
   },
   {
    "duration": 198,
    "start_time": "2022-11-25T13:47:18.200Z"
   },
   {
    "duration": 616,
    "start_time": "2022-11-25T13:47:18.400Z"
   },
   {
    "duration": 54906,
    "start_time": "2022-11-25T13:47:19.018Z"
   },
   {
    "duration": 306,
    "start_time": "2022-11-25T13:48:13.925Z"
   },
   {
    "duration": 1017,
    "start_time": "2022-11-25T13:48:14.233Z"
   },
   {
    "duration": 3,
    "start_time": "2022-11-25T13:48:15.252Z"
   },
   {
    "duration": 13,
    "start_time": "2022-11-25T13:48:15.257Z"
   },
   {
    "duration": 4,
    "start_time": "2022-11-25T13:48:15.272Z"
   },
   {
    "duration": 12,
    "start_time": "2022-11-25T13:48:15.297Z"
   },
   {
    "duration": 751,
    "start_time": "2022-11-25T13:48:15.310Z"
   },
   {
    "duration": 12,
    "start_time": "2022-11-25T13:48:16.063Z"
   },
   {
    "duration": 1186,
    "start_time": "2022-11-25T13:48:16.077Z"
   },
   {
    "duration": 2,
    "start_time": "2022-11-25T13:48:17.265Z"
   },
   {
    "duration": 7,
    "start_time": "2022-11-25T13:48:17.269Z"
   },
   {
    "duration": 12,
    "start_time": "2022-11-25T13:50:49.718Z"
   },
   {
    "duration": 809,
    "start_time": "2022-11-25T13:57:46.316Z"
   },
   {
    "duration": 877,
    "start_time": "2022-11-25T13:58:34.684Z"
   },
   {
    "duration": 854,
    "start_time": "2022-11-25T13:58:41.175Z"
   },
   {
    "duration": 858,
    "start_time": "2022-11-25T13:58:50.648Z"
   },
   {
    "duration": 730,
    "start_time": "2022-11-25T13:59:09.544Z"
   },
   {
    "duration": 399,
    "start_time": "2022-11-25T13:59:18.175Z"
   },
   {
    "duration": 704,
    "start_time": "2022-11-25T13:59:20.865Z"
   },
   {
    "duration": 697,
    "start_time": "2022-11-25T13:59:22.928Z"
   },
   {
    "duration": 352,
    "start_time": "2022-11-25T14:00:19.566Z"
   },
   {
    "duration": 774,
    "start_time": "2022-11-25T14:00:31.527Z"
   },
   {
    "duration": 13,
    "start_time": "2022-11-25T14:00:42.589Z"
   },
   {
    "duration": 267,
    "start_time": "2022-11-25T14:00:43.821Z"
   },
   {
    "duration": 433,
    "start_time": "2022-11-25T14:00:58.605Z"
   },
   {
    "duration": 6,
    "start_time": "2022-11-25T14:01:31.027Z"
   },
   {
    "duration": 440,
    "start_time": "2022-11-25T14:01:35.946Z"
   },
   {
    "duration": 344,
    "start_time": "2022-11-25T14:01:38.907Z"
   },
   {
    "duration": 692,
    "start_time": "2022-11-25T14:01:42.977Z"
   },
   {
    "duration": 494,
    "start_time": "2022-11-25T14:02:03.377Z"
   },
   {
    "duration": 168,
    "start_time": "2022-11-25T14:02:11.076Z"
   },
   {
    "duration": 654,
    "start_time": "2022-11-25T14:02:14.875Z"
   },
   {
    "duration": 428,
    "start_time": "2022-11-25T14:02:30.115Z"
   },
   {
    "duration": 452,
    "start_time": "2022-11-25T14:02:44.296Z"
   },
   {
    "duration": 426,
    "start_time": "2022-11-25T14:02:56.216Z"
   },
   {
    "duration": 653,
    "start_time": "2022-11-25T14:03:04.915Z"
   },
   {
    "duration": 347,
    "start_time": "2022-11-25T14:03:13.216Z"
   },
   {
    "duration": 539,
    "start_time": "2022-11-25T14:03:21.981Z"
   },
   {
    "duration": 610,
    "start_time": "2022-11-25T14:03:29.868Z"
   },
   {
    "duration": 631,
    "start_time": "2022-11-25T14:03:41.573Z"
   },
   {
    "duration": 566,
    "start_time": "2022-11-25T14:03:46.533Z"
   },
   {
    "duration": 74,
    "start_time": "2022-11-25T14:12:11.241Z"
   },
   {
    "duration": 12,
    "start_time": "2022-11-25T14:12:16.894Z"
   },
   {
    "duration": 1161,
    "start_time": "2022-11-25T14:12:26.273Z"
   },
   {
    "duration": 14,
    "start_time": "2022-11-25T14:12:29.573Z"
   },
   {
    "duration": 1220,
    "start_time": "2022-11-25T14:12:43.466Z"
   },
   {
    "duration": 14,
    "start_time": "2022-11-25T14:12:45.621Z"
   },
   {
    "duration": 1221,
    "start_time": "2022-11-25T14:13:40.572Z"
   },
   {
    "duration": 1288,
    "start_time": "2022-11-25T14:13:44.901Z"
   },
   {
    "duration": 15,
    "start_time": "2022-11-25T14:13:59.162Z"
   },
   {
    "duration": 1479,
    "start_time": "2022-11-25T14:14:11.666Z"
   },
   {
    "duration": 782,
    "start_time": "2022-11-25T14:14:21.971Z"
   },
   {
    "duration": 1476,
    "start_time": "2022-11-25T14:14:26.766Z"
   },
   {
    "duration": 1082,
    "start_time": "2022-11-25T14:14:50.944Z"
   },
   {
    "duration": 1327,
    "start_time": "2022-11-25T14:15:12.311Z"
   },
   {
    "duration": 42,
    "start_time": "2022-11-25T14:15:13.641Z"
   },
   {
    "duration": 14,
    "start_time": "2022-11-25T14:15:13.685Z"
   },
   {
    "duration": 23,
    "start_time": "2022-11-25T14:15:13.700Z"
   },
   {
    "duration": 6,
    "start_time": "2022-11-25T14:15:13.725Z"
   },
   {
    "duration": 26,
    "start_time": "2022-11-25T14:15:13.733Z"
   },
   {
    "duration": 29,
    "start_time": "2022-11-25T14:15:13.760Z"
   },
   {
    "duration": 13,
    "start_time": "2022-11-25T14:15:13.791Z"
   },
   {
    "duration": 22,
    "start_time": "2022-11-25T14:15:13.806Z"
   },
   {
    "duration": 7,
    "start_time": "2022-11-25T14:15:13.829Z"
   },
   {
    "duration": 20,
    "start_time": "2022-11-25T14:15:13.837Z"
   },
   {
    "duration": 67,
    "start_time": "2022-11-25T14:15:13.859Z"
   },
   {
    "duration": 13,
    "start_time": "2022-11-25T14:15:13.927Z"
   },
   {
    "duration": 23,
    "start_time": "2022-11-25T14:15:13.943Z"
   },
   {
    "duration": 31,
    "start_time": "2022-11-25T14:15:13.968Z"
   },
   {
    "duration": 22,
    "start_time": "2022-11-25T14:15:14.001Z"
   },
   {
    "duration": 6,
    "start_time": "2022-11-25T14:15:14.025Z"
   },
   {
    "duration": 14,
    "start_time": "2022-11-25T14:15:14.032Z"
   },
   {
    "duration": 7,
    "start_time": "2022-11-25T14:15:14.047Z"
   },
   {
    "duration": 44,
    "start_time": "2022-11-25T14:15:14.055Z"
   },
   {
    "duration": 10,
    "start_time": "2022-11-25T14:15:14.101Z"
   },
   {
    "duration": 134,
    "start_time": "2022-11-25T14:15:14.113Z"
   },
   {
    "duration": 165,
    "start_time": "2022-11-25T14:15:14.249Z"
   },
   {
    "duration": 5,
    "start_time": "2022-11-25T14:15:14.415Z"
   },
   {
    "duration": 9,
    "start_time": "2022-11-25T14:15:14.422Z"
   },
   {
    "duration": 877,
    "start_time": "2022-11-25T14:15:14.432Z"
   },
   {
    "duration": 14,
    "start_time": "2022-11-25T14:15:15.311Z"
   },
   {
    "duration": 38,
    "start_time": "2022-11-25T14:15:15.326Z"
   },
   {
    "duration": 14,
    "start_time": "2022-11-25T14:15:15.366Z"
   },
   {
    "duration": 403,
    "start_time": "2022-11-25T14:15:15.381Z"
   },
   {
    "duration": 6818,
    "start_time": "2022-11-25T14:15:15.785Z"
   },
   {
    "duration": 193,
    "start_time": "2022-11-25T14:15:22.605Z"
   },
   {
    "duration": 709,
    "start_time": "2022-11-25T14:15:22.800Z"
   },
   {
    "duration": 56934,
    "start_time": "2022-11-25T14:15:23.511Z"
   },
   {
    "duration": 323,
    "start_time": "2022-11-25T14:16:20.447Z"
   },
   {
    "duration": 1049,
    "start_time": "2022-11-25T14:16:20.772Z"
   },
   {
    "duration": 3,
    "start_time": "2022-11-25T14:16:21.823Z"
   },
   {
    "duration": 18,
    "start_time": "2022-11-25T14:16:21.827Z"
   },
   {
    "duration": 4,
    "start_time": "2022-11-25T14:16:21.846Z"
   },
   {
    "duration": 14,
    "start_time": "2022-11-25T14:16:21.851Z"
   },
   {
    "duration": 1107,
    "start_time": "2022-11-25T14:16:21.869Z"
   },
   {
    "duration": 22,
    "start_time": "2022-11-25T14:16:22.978Z"
   },
   {
    "duration": 370,
    "start_time": "2022-11-25T14:16:23.002Z"
   },
   {
    "duration": 1502,
    "start_time": "2022-11-25T14:16:23.374Z"
   },
   {
    "duration": 21,
    "start_time": "2022-11-25T14:16:24.878Z"
   },
   {
    "duration": 590,
    "start_time": "2022-11-25T14:16:24.900Z"
   },
   {
    "duration": 6,
    "start_time": "2022-11-25T14:16:25.492Z"
   },
   {
    "duration": 11,
    "start_time": "2022-11-25T14:16:25.500Z"
   },
   {
    "duration": 1118,
    "start_time": "2022-11-25T14:20:09.981Z"
   },
   {
    "duration": 1650,
    "start_time": "2022-11-25T14:20:19.749Z"
   },
   {
    "duration": 1156,
    "start_time": "2022-11-25T14:21:00.907Z"
   },
   {
    "duration": 1486,
    "start_time": "2022-11-25T14:21:04.762Z"
   },
   {
    "duration": 1133,
    "start_time": "2022-11-25T14:21:48.034Z"
   },
   {
    "duration": 46,
    "start_time": "2022-11-25T14:22:11.391Z"
   },
   {
    "duration": 1681,
    "start_time": "2022-11-25T14:22:22.967Z"
   },
   {
    "duration": 1489,
    "start_time": "2022-11-25T18:48:41.472Z"
   },
   {
    "duration": 78,
    "start_time": "2022-11-25T18:48:42.963Z"
   },
   {
    "duration": 12,
    "start_time": "2022-11-25T18:48:43.043Z"
   },
   {
    "duration": 60,
    "start_time": "2022-11-25T18:48:43.057Z"
   },
   {
    "duration": 22,
    "start_time": "2022-11-25T18:48:43.119Z"
   },
   {
    "duration": 38,
    "start_time": "2022-11-25T18:48:43.142Z"
   },
   {
    "duration": 44,
    "start_time": "2022-11-25T18:48:43.182Z"
   },
   {
    "duration": 36,
    "start_time": "2022-11-25T18:48:43.227Z"
   },
   {
    "duration": 35,
    "start_time": "2022-11-25T18:48:43.264Z"
   },
   {
    "duration": 11,
    "start_time": "2022-11-25T18:48:43.300Z"
   },
   {
    "duration": 39,
    "start_time": "2022-11-25T18:48:43.313Z"
   },
   {
    "duration": 79,
    "start_time": "2022-11-25T18:48:43.354Z"
   },
   {
    "duration": 12,
    "start_time": "2022-11-25T18:48:43.435Z"
   },
   {
    "duration": 45,
    "start_time": "2022-11-25T18:48:43.450Z"
   },
   {
    "duration": 52,
    "start_time": "2022-11-25T18:48:43.497Z"
   },
   {
    "duration": 59,
    "start_time": "2022-11-25T18:48:43.551Z"
   },
   {
    "duration": 14,
    "start_time": "2022-11-25T18:48:43.612Z"
   },
   {
    "duration": 51,
    "start_time": "2022-11-25T18:48:43.627Z"
   },
   {
    "duration": 57,
    "start_time": "2022-11-25T18:48:43.680Z"
   },
   {
    "duration": 47,
    "start_time": "2022-11-25T18:48:43.738Z"
   },
   {
    "duration": 16,
    "start_time": "2022-11-25T18:48:43.787Z"
   },
   {
    "duration": 158,
    "start_time": "2022-11-25T18:48:43.804Z"
   },
   {
    "duration": 156,
    "start_time": "2022-11-25T18:48:43.963Z"
   },
   {
    "duration": 4,
    "start_time": "2022-11-25T18:48:44.120Z"
   },
   {
    "duration": 50,
    "start_time": "2022-11-25T18:48:44.126Z"
   },
   {
    "duration": 842,
    "start_time": "2022-11-25T18:48:44.177Z"
   },
   {
    "duration": 13,
    "start_time": "2022-11-25T18:48:45.020Z"
   },
   {
    "duration": 40,
    "start_time": "2022-11-25T18:48:45.034Z"
   },
   {
    "duration": 37,
    "start_time": "2022-11-25T18:48:45.075Z"
   },
   {
    "duration": 362,
    "start_time": "2022-11-25T18:48:45.113Z"
   },
   {
    "duration": 6232,
    "start_time": "2022-11-25T18:48:45.476Z"
   },
   {
    "duration": 199,
    "start_time": "2022-11-25T18:48:51.710Z"
   },
   {
    "duration": 800,
    "start_time": "2022-11-25T18:48:51.911Z"
   },
   {
    "duration": 35154,
    "start_time": "2022-11-25T18:48:52.713Z"
   },
   {
    "duration": 273,
    "start_time": "2022-11-25T18:49:27.869Z"
   },
   {
    "duration": 856,
    "start_time": "2022-11-25T18:49:28.143Z"
   },
   {
    "duration": 3,
    "start_time": "2022-11-25T18:49:29.000Z"
   },
   {
    "duration": 14,
    "start_time": "2022-11-25T18:49:29.005Z"
   },
   {
    "duration": 3,
    "start_time": "2022-11-25T18:49:29.021Z"
   },
   {
    "duration": 15,
    "start_time": "2022-11-25T18:49:29.026Z"
   },
   {
    "duration": 1066,
    "start_time": "2022-11-25T18:49:29.044Z"
   },
   {
    "duration": 1617,
    "start_time": "2022-11-25T18:49:30.111Z"
   },
   {
    "duration": 1048,
    "start_time": "2022-11-25T18:49:31.730Z"
   },
   {
    "duration": 1599,
    "start_time": "2022-11-25T18:49:32.780Z"
   },
   {
    "duration": 3,
    "start_time": "2022-11-25T18:49:34.380Z"
   },
   {
    "duration": 30,
    "start_time": "2022-11-25T18:49:34.397Z"
   },
   {
    "duration": 1497,
    "start_time": "2022-11-26T07:48:27.052Z"
   },
   {
    "duration": 164,
    "start_time": "2022-11-26T07:48:28.551Z"
   },
   {
    "duration": 13,
    "start_time": "2022-11-26T07:48:28.716Z"
   },
   {
    "duration": 19,
    "start_time": "2022-11-26T07:48:28.730Z"
   },
   {
    "duration": 6,
    "start_time": "2022-11-26T07:48:28.751Z"
   },
   {
    "duration": 8,
    "start_time": "2022-11-26T07:48:28.759Z"
   },
   {
    "duration": 6,
    "start_time": "2022-11-26T07:48:28.769Z"
   },
   {
    "duration": 2,
    "start_time": "2022-11-26T07:48:28.776Z"
   },
   {
    "duration": 9,
    "start_time": "2022-11-26T07:48:28.780Z"
   },
   {
    "duration": 1,
    "start_time": "2022-11-26T07:48:28.791Z"
   },
   {
    "duration": 12,
    "start_time": "2022-11-26T07:48:28.794Z"
   },
   {
    "duration": 72,
    "start_time": "2022-11-26T07:48:28.807Z"
   },
   {
    "duration": 10,
    "start_time": "2022-11-26T07:48:28.881Z"
   },
   {
    "duration": 15,
    "start_time": "2022-11-26T07:48:28.894Z"
   },
   {
    "duration": 5,
    "start_time": "2022-11-26T07:48:28.911Z"
   },
   {
    "duration": 9,
    "start_time": "2022-11-26T07:48:28.917Z"
   },
   {
    "duration": 5,
    "start_time": "2022-11-26T07:48:28.927Z"
   },
   {
    "duration": 58,
    "start_time": "2022-11-26T07:48:28.933Z"
   },
   {
    "duration": 10,
    "start_time": "2022-11-26T07:48:28.993Z"
   },
   {
    "duration": 131,
    "start_time": "2022-11-26T07:48:29.005Z"
   },
   {
    "duration": 140,
    "start_time": "2022-11-26T07:48:29.138Z"
   },
   {
    "duration": 4,
    "start_time": "2022-11-26T07:48:29.279Z"
   },
   {
    "duration": 15,
    "start_time": "2022-11-26T07:48:29.284Z"
   },
   {
    "duration": 732,
    "start_time": "2022-11-26T07:48:29.301Z"
   },
   {
    "duration": 14,
    "start_time": "2022-11-26T07:48:30.034Z"
   },
   {
    "duration": 29,
    "start_time": "2022-11-26T07:48:30.049Z"
   },
   {
    "duration": 7,
    "start_time": "2022-11-26T07:48:30.079Z"
   },
   {
    "duration": 320,
    "start_time": "2022-11-26T07:48:30.087Z"
   },
   {
    "duration": 6977,
    "start_time": "2022-11-26T07:48:30.409Z"
   },
   {
    "duration": 200,
    "start_time": "2022-11-26T07:48:37.387Z"
   },
   {
    "duration": 506,
    "start_time": "2022-11-26T07:48:37.679Z"
   },
   {
    "duration": 33335,
    "start_time": "2022-11-26T07:48:38.187Z"
   },
   {
    "duration": 249,
    "start_time": "2022-11-26T07:49:11.523Z"
   },
   {
    "duration": 808,
    "start_time": "2022-11-26T07:49:11.777Z"
   },
   {
    "duration": 3,
    "start_time": "2022-11-26T07:49:12.587Z"
   },
   {
    "duration": 34,
    "start_time": "2022-11-26T07:49:12.592Z"
   },
   {
    "duration": 22,
    "start_time": "2022-11-26T07:49:12.628Z"
   },
   {
    "duration": 22,
    "start_time": "2022-11-26T07:49:12.651Z"
   },
   {
    "duration": 1000,
    "start_time": "2022-11-26T07:49:12.675Z"
   },
   {
    "duration": 1579,
    "start_time": "2022-11-26T07:49:13.678Z"
   },
   {
    "duration": 1118,
    "start_time": "2022-11-26T07:49:15.261Z"
   },
   {
    "duration": 1639,
    "start_time": "2022-11-26T07:49:16.382Z"
   },
   {
    "duration": 2,
    "start_time": "2022-11-26T07:49:18.023Z"
   },
   {
    "duration": 7,
    "start_time": "2022-11-26T07:49:18.027Z"
   },
   {
    "duration": 65721,
    "start_time": "2022-11-26T16:31:40.509Z"
   },
   {
    "duration": 1364,
    "start_time": "2022-11-26T16:33:01.913Z"
   },
   {
    "duration": 108,
    "start_time": "2022-11-26T16:33:03.279Z"
   },
   {
    "duration": 12,
    "start_time": "2022-11-26T16:33:03.388Z"
   },
   {
    "duration": 34,
    "start_time": "2022-11-26T16:33:03.401Z"
   },
   {
    "duration": 14,
    "start_time": "2022-11-26T16:33:03.437Z"
   },
   {
    "duration": 22,
    "start_time": "2022-11-26T16:33:03.452Z"
   },
   {
    "duration": 9,
    "start_time": "2022-11-26T16:33:03.475Z"
   },
   {
    "duration": 21,
    "start_time": "2022-11-26T16:33:03.485Z"
   },
   {
    "duration": 21,
    "start_time": "2022-11-26T16:33:03.507Z"
   },
   {
    "duration": 14,
    "start_time": "2022-11-26T16:33:03.529Z"
   },
   {
    "duration": 19,
    "start_time": "2022-11-26T16:33:03.545Z"
   },
   {
    "duration": 63,
    "start_time": "2022-11-26T16:33:03.566Z"
   },
   {
    "duration": 11,
    "start_time": "2022-11-26T16:33:03.631Z"
   },
   {
    "duration": 26,
    "start_time": "2022-11-26T16:33:03.645Z"
   },
   {
    "duration": 6,
    "start_time": "2022-11-26T16:33:03.677Z"
   },
   {
    "duration": 23,
    "start_time": "2022-11-26T16:33:03.684Z"
   },
   {
    "duration": 20,
    "start_time": "2022-11-26T16:33:03.708Z"
   },
   {
    "duration": 26,
    "start_time": "2022-11-26T16:33:03.729Z"
   },
   {
    "duration": 11,
    "start_time": "2022-11-26T16:33:03.756Z"
   },
   {
    "duration": 131,
    "start_time": "2022-11-26T16:33:03.768Z"
   },
   {
    "duration": 191,
    "start_time": "2022-11-26T16:33:03.901Z"
   },
   {
    "duration": 5,
    "start_time": "2022-11-26T16:33:04.094Z"
   },
   {
    "duration": 25,
    "start_time": "2022-11-26T16:33:04.101Z"
   },
   {
    "duration": 787,
    "start_time": "2022-11-26T16:33:04.128Z"
   },
   {
    "duration": 13,
    "start_time": "2022-11-26T16:33:04.917Z"
   },
   {
    "duration": 39,
    "start_time": "2022-11-26T16:33:04.931Z"
   },
   {
    "duration": 6,
    "start_time": "2022-11-26T16:33:04.971Z"
   },
   {
    "duration": 332,
    "start_time": "2022-11-26T16:33:04.978Z"
   },
   {
    "duration": 6780,
    "start_time": "2022-11-26T16:33:05.312Z"
   },
   {
    "duration": 87,
    "start_time": "2022-11-26T16:33:12.093Z"
   },
   {
    "duration": 617,
    "start_time": "2022-11-26T16:33:12.182Z"
   },
   {
    "duration": 36788,
    "start_time": "2022-11-26T16:33:12.801Z"
   },
   {
    "duration": 1238,
    "start_time": "2022-11-26T16:33:49.591Z"
   },
   {
    "duration": 989,
    "start_time": "2022-11-26T16:33:50.831Z"
   },
   {
    "duration": 4,
    "start_time": "2022-11-26T16:33:51.822Z"
   },
   {
    "duration": 15,
    "start_time": "2022-11-26T16:33:51.827Z"
   },
   {
    "duration": 4,
    "start_time": "2022-11-26T16:33:51.843Z"
   },
   {
    "duration": 29,
    "start_time": "2022-11-26T16:33:51.849Z"
   },
   {
    "duration": 1059,
    "start_time": "2022-11-26T16:33:51.879Z"
   },
   {
    "duration": 1571,
    "start_time": "2022-11-26T16:33:52.939Z"
   },
   {
    "duration": 1057,
    "start_time": "2022-11-26T16:33:54.514Z"
   },
   {
    "duration": 1606,
    "start_time": "2022-11-26T16:33:55.578Z"
   },
   {
    "duration": 3,
    "start_time": "2022-11-26T16:33:57.186Z"
   },
   {
    "duration": 6,
    "start_time": "2022-11-26T16:33:57.191Z"
   },
   {
    "duration": 1156,
    "start_time": "2022-11-26T17:56:42.270Z"
   },
   {
    "duration": 161361,
    "start_time": "2022-11-26T18:02:29.044Z"
   },
   {
    "duration": 94231,
    "start_time": "2022-11-26T18:05:16.276Z"
   },
   {
    "duration": 1380,
    "start_time": "2022-11-26T18:09:15.341Z"
   },
   {
    "duration": 41,
    "start_time": "2022-11-26T18:09:16.723Z"
   },
   {
    "duration": 12,
    "start_time": "2022-11-26T18:09:16.766Z"
   },
   {
    "duration": 15,
    "start_time": "2022-11-26T18:09:16.779Z"
   },
   {
    "duration": 6,
    "start_time": "2022-11-26T18:09:16.796Z"
   },
   {
    "duration": 7,
    "start_time": "2022-11-26T18:09:16.804Z"
   },
   {
    "duration": 5,
    "start_time": "2022-11-26T18:09:16.812Z"
   },
   {
    "duration": 3,
    "start_time": "2022-11-26T18:09:16.818Z"
   },
   {
    "duration": 11,
    "start_time": "2022-11-26T18:09:16.823Z"
   },
   {
    "duration": 2,
    "start_time": "2022-11-26T18:09:16.836Z"
   },
   {
    "duration": 39,
    "start_time": "2022-11-26T18:09:16.840Z"
   },
   {
    "duration": 65,
    "start_time": "2022-11-26T18:09:16.881Z"
   },
   {
    "duration": 31,
    "start_time": "2022-11-26T18:09:16.947Z"
   },
   {
    "duration": 19,
    "start_time": "2022-11-26T18:09:16.980Z"
   },
   {
    "duration": 6,
    "start_time": "2022-11-26T18:09:17.001Z"
   },
   {
    "duration": 10,
    "start_time": "2022-11-26T18:09:17.009Z"
   },
   {
    "duration": 8,
    "start_time": "2022-11-26T18:09:17.021Z"
   },
   {
    "duration": 56,
    "start_time": "2022-11-26T18:09:17.030Z"
   },
   {
    "duration": 127,
    "start_time": "2022-11-26T18:09:17.088Z"
   },
   {
    "duration": 4,
    "start_time": "2022-11-26T18:09:17.216Z"
   },
   {
    "duration": 9,
    "start_time": "2022-11-26T18:09:17.222Z"
   },
   {
    "duration": 8,
    "start_time": "2022-11-26T18:09:17.233Z"
   },
   {
    "duration": 1027,
    "start_time": "2022-11-26T18:09:17.242Z"
   },
   {
    "duration": 17,
    "start_time": "2022-11-26T18:09:18.271Z"
   },
   {
    "duration": 7418,
    "start_time": "2022-11-26T18:09:18.290Z"
   },
   {
    "duration": 33765,
    "start_time": "2022-11-26T18:09:25.709Z"
   },
   {
    "duration": 3,
    "start_time": "2022-11-26T18:09:59.475Z"
   },
   {
    "duration": 17,
    "start_time": "2022-11-26T18:09:59.481Z"
   },
   {
    "duration": 9,
    "start_time": "2022-11-26T18:09:59.499Z"
   },
   {
    "duration": 15,
    "start_time": "2022-11-26T18:09:59.509Z"
   },
   {
    "duration": 1033,
    "start_time": "2022-11-26T18:09:59.525Z"
   },
   {
    "duration": 1621,
    "start_time": "2022-11-26T18:10:00.560Z"
   },
   {
    "duration": 1081,
    "start_time": "2022-11-26T18:10:02.182Z"
   },
   {
    "duration": 1614,
    "start_time": "2022-11-26T18:10:03.264Z"
   },
   {
    "duration": 85226,
    "start_time": "2022-11-26T18:10:04.879Z"
   },
   {
    "duration": 65881,
    "start_time": "2022-11-26T18:11:30.107Z"
   },
   {
    "duration": 145291,
    "start_time": "2022-11-26T18:12:35.990Z"
   },
   {
    "duration": 2,
    "start_time": "2022-11-26T18:15:01.282Z"
   },
   {
    "duration": 14,
    "start_time": "2022-11-26T18:15:01.286Z"
   },
   {
    "duration": 36788,
    "start_time": "2022-11-26T18:30:16.629Z"
   },
   {
    "duration": 1501,
    "start_time": "2022-11-26T19:20:58.964Z"
   },
   {
    "duration": 41,
    "start_time": "2022-11-26T19:21:00.468Z"
   },
   {
    "duration": 13,
    "start_time": "2022-11-26T19:21:00.511Z"
   },
   {
    "duration": 49,
    "start_time": "2022-11-26T19:21:00.526Z"
   },
   {
    "duration": 87,
    "start_time": "2022-11-26T19:21:00.578Z"
   },
   {
    "duration": 35,
    "start_time": "2022-11-26T19:21:00.668Z"
   },
   {
    "duration": 34,
    "start_time": "2022-11-26T19:21:00.705Z"
   },
   {
    "duration": 24,
    "start_time": "2022-11-26T19:21:00.741Z"
   },
   {
    "duration": 27,
    "start_time": "2022-11-26T19:21:00.767Z"
   },
   {
    "duration": 9,
    "start_time": "2022-11-26T19:21:00.796Z"
   },
   {
    "duration": 42,
    "start_time": "2022-11-26T19:21:00.806Z"
   },
   {
    "duration": 79,
    "start_time": "2022-11-26T19:21:00.850Z"
   },
   {
    "duration": 12,
    "start_time": "2022-11-26T19:21:00.931Z"
   },
   {
    "duration": 52,
    "start_time": "2022-11-26T19:21:00.945Z"
   },
   {
    "duration": 9,
    "start_time": "2022-11-26T19:21:00.998Z"
   },
   {
    "duration": 34,
    "start_time": "2022-11-26T19:21:01.009Z"
   },
   {
    "duration": 26,
    "start_time": "2022-11-26T19:21:01.045Z"
   },
   {
    "duration": 41,
    "start_time": "2022-11-26T19:21:01.072Z"
   },
   {
    "duration": 130,
    "start_time": "2022-11-26T19:21:01.115Z"
   },
   {
    "duration": 5,
    "start_time": "2022-11-26T19:21:01.246Z"
   },
   {
    "duration": 12,
    "start_time": "2022-11-26T19:21:01.252Z"
   },
   {
    "duration": 16,
    "start_time": "2022-11-26T19:21:01.265Z"
   },
   {
    "duration": 1060,
    "start_time": "2022-11-26T19:21:01.282Z"
   },
   {
    "duration": 18,
    "start_time": "2022-11-26T19:21:02.345Z"
   },
   {
    "duration": 7352,
    "start_time": "2022-11-26T19:21:02.377Z"
   },
   {
    "duration": 37350,
    "start_time": "2022-11-26T19:21:09.731Z"
   },
   {
    "duration": 4,
    "start_time": "2022-11-26T19:21:47.083Z"
   },
   {
    "duration": 43,
    "start_time": "2022-11-26T19:21:47.088Z"
   },
   {
    "duration": 1466,
    "start_time": "2022-11-26T19:21:47.133Z"
   },
   {
    "duration": 1182,
    "start_time": "2022-11-26T19:21:48.601Z"
   },
   {
    "duration": 9613,
    "start_time": "2022-11-26T19:21:49.785Z"
   },
   {
    "duration": 14483,
    "start_time": "2022-11-26T19:21:59.400Z"
   },
   {
    "duration": 65101,
    "start_time": "2022-11-26T19:22:13.885Z"
   },
   {
    "duration": 37037,
    "start_time": "2022-11-26T19:23:18.988Z"
   },
   {
    "duration": 12,
    "start_time": "2022-11-26T19:23:56.027Z"
   },
   {
    "duration": 17,
    "start_time": "2022-11-26T19:23:56.041Z"
   },
   {
    "duration": 1037,
    "start_time": "2022-11-26T19:23:56.060Z"
   },
   {
    "duration": 1481,
    "start_time": "2022-11-26T19:23:57.099Z"
   },
   {
    "duration": 1079,
    "start_time": "2022-11-26T19:23:58.582Z"
   },
   {
    "duration": 1740,
    "start_time": "2022-11-26T19:23:59.662Z"
   },
   {
    "duration": 95797,
    "start_time": "2022-11-26T19:24:01.406Z"
   },
   {
    "duration": 139574,
    "start_time": "2022-11-26T19:25:37.205Z"
   },
   {
    "duration": 49309,
    "start_time": "2022-11-26T19:27:56.781Z"
   },
   {
    "duration": 100811,
    "start_time": "2022-11-26T19:28:46.091Z"
   },
   {
    "duration": 37675,
    "start_time": "2022-11-26T19:30:26.903Z"
   },
   {
    "duration": 65675,
    "start_time": "2022-11-26T19:31:04.580Z"
   },
   {
    "duration": 37803,
    "start_time": "2022-11-26T19:32:10.257Z"
   },
   {
    "duration": 66128,
    "start_time": "2022-11-26T19:32:48.062Z"
   },
   {
    "duration": 4,
    "start_time": "2022-11-26T19:33:54.192Z"
   },
   {
    "duration": 12,
    "start_time": "2022-11-26T19:33:54.199Z"
   },
   {
    "duration": 32,
    "start_time": "2022-11-26T19:33:54.213Z"
   },
   {
    "duration": 7,
    "start_time": "2022-11-26T19:33:54.247Z"
   },
   {
    "duration": 7,
    "start_time": "2022-11-26T19:33:54.255Z"
   },
   {
    "duration": 50,
    "start_time": "2022-11-27T11:57:37.001Z"
   },
   {
    "duration": 1581,
    "start_time": "2022-11-27T11:57:42.243Z"
   },
   {
    "duration": 82,
    "start_time": "2022-11-27T11:57:43.826Z"
   },
   {
    "duration": 15,
    "start_time": "2022-11-27T11:57:43.909Z"
   },
   {
    "duration": 18,
    "start_time": "2022-11-27T11:57:43.925Z"
   },
   {
    "duration": 6,
    "start_time": "2022-11-27T11:57:43.946Z"
   },
   {
    "duration": 6,
    "start_time": "2022-11-27T11:57:43.954Z"
   },
   {
    "duration": 6,
    "start_time": "2022-11-27T11:57:43.962Z"
   },
   {
    "duration": 4,
    "start_time": "2022-11-27T11:57:43.969Z"
   },
   {
    "duration": 45,
    "start_time": "2022-11-27T11:57:43.975Z"
   },
   {
    "duration": 3,
    "start_time": "2022-11-27T11:57:44.022Z"
   },
   {
    "duration": 21,
    "start_time": "2022-11-27T11:57:44.027Z"
   },
   {
    "duration": 90,
    "start_time": "2022-11-27T11:57:44.050Z"
   },
   {
    "duration": 14,
    "start_time": "2022-11-27T11:57:44.142Z"
   },
   {
    "duration": 23,
    "start_time": "2022-11-27T11:57:44.160Z"
   },
   {
    "duration": 34,
    "start_time": "2022-11-27T11:57:44.185Z"
   },
   {
    "duration": 34,
    "start_time": "2022-11-27T11:57:44.221Z"
   },
   {
    "duration": 5,
    "start_time": "2022-11-27T11:57:44.257Z"
   },
   {
    "duration": 34,
    "start_time": "2022-11-27T11:57:44.264Z"
   },
   {
    "duration": 159,
    "start_time": "2022-11-27T11:57:44.300Z"
   },
   {
    "duration": 7,
    "start_time": "2022-11-27T11:57:44.461Z"
   },
   {
    "duration": 9,
    "start_time": "2022-11-27T11:57:44.470Z"
   },
   {
    "duration": 6,
    "start_time": "2022-11-27T11:57:44.481Z"
   },
   {
    "duration": 1250,
    "start_time": "2022-11-27T11:57:44.489Z"
   },
   {
    "duration": 16,
    "start_time": "2022-11-27T11:57:45.741Z"
   },
   {
    "duration": 6901,
    "start_time": "2022-11-27T11:57:45.759Z"
   },
   {
    "duration": 41067,
    "start_time": "2022-11-27T11:57:52.662Z"
   },
   {
    "duration": 4,
    "start_time": "2022-11-27T11:58:33.731Z"
   },
   {
    "duration": 16,
    "start_time": "2022-11-27T11:58:33.737Z"
   },
   {
    "duration": 1654,
    "start_time": "2022-11-27T11:58:33.755Z"
   },
   {
    "duration": 1338,
    "start_time": "2022-11-27T11:58:35.412Z"
   },
   {
    "duration": 16701,
    "start_time": "2022-11-27T11:58:36.752Z"
   },
   {
    "duration": 6205,
    "start_time": "2022-11-27T11:58:53.455Z"
   },
   {
    "duration": 71234,
    "start_time": "2022-11-27T11:58:59.662Z"
   },
   {
    "duration": 41750,
    "start_time": "2022-11-27T12:00:10.898Z"
   },
   {
    "duration": 12,
    "start_time": "2022-11-27T12:00:52.650Z"
   },
   {
    "duration": 11,
    "start_time": "2022-11-27T12:00:52.664Z"
   },
   {
    "duration": 1212,
    "start_time": "2022-11-27T12:00:52.677Z"
   },
   {
    "duration": 1661,
    "start_time": "2022-11-27T12:00:53.891Z"
   },
   {
    "duration": 1279,
    "start_time": "2022-11-27T12:00:55.554Z"
   },
   {
    "duration": 1891,
    "start_time": "2022-11-27T12:00:56.835Z"
   },
   {
    "duration": 74245,
    "start_time": "2022-11-27T12:00:58.730Z"
   },
   {
    "duration": 130973,
    "start_time": "2022-11-27T12:02:12.977Z"
   },
   {
    "duration": 56208,
    "start_time": "2022-11-27T12:04:23.952Z"
   },
   {
    "duration": 111494,
    "start_time": "2022-11-27T12:05:20.162Z"
   },
   {
    "duration": 40122,
    "start_time": "2022-11-27T12:07:11.657Z"
   },
   {
    "duration": 69753,
    "start_time": "2022-11-27T12:07:51.781Z"
   },
   {
    "duration": 40009,
    "start_time": "2022-11-27T12:09:01.536Z"
   },
   {
    "duration": 69365,
    "start_time": "2022-11-27T12:09:41.547Z"
   },
   {
    "duration": 3,
    "start_time": "2022-11-27T12:10:50.914Z"
   },
   {
    "duration": 7,
    "start_time": "2022-11-27T12:10:50.919Z"
   },
   {
    "duration": 9,
    "start_time": "2022-11-27T12:10:50.927Z"
   },
   {
    "duration": 135,
    "start_time": "2022-11-27T12:10:50.937Z"
   },
   {
    "duration": 0,
    "start_time": "2022-11-27T12:10:51.073Z"
   },
   {
    "duration": 0,
    "start_time": "2022-11-27T12:10:51.074Z"
   },
   {
    "duration": 16,
    "start_time": "2022-11-27T12:11:02.295Z"
   },
   {
    "duration": 9,
    "start_time": "2022-11-27T12:13:02.291Z"
   },
   {
    "duration": 327,
    "start_time": "2022-11-27T12:13:25.044Z"
   },
   {
    "duration": 361,
    "start_time": "2022-11-27T12:13:43.457Z"
   },
   {
    "duration": 49,
    "start_time": "2022-11-27T12:14:20.628Z"
   },
   {
    "duration": 385,
    "start_time": "2022-11-27T12:14:36.249Z"
   },
   {
    "duration": 369,
    "start_time": "2022-11-27T12:14:51.860Z"
   },
   {
    "duration": 489,
    "start_time": "2022-11-27T12:15:10.873Z"
   },
   {
    "duration": 349,
    "start_time": "2022-11-27T12:15:35.359Z"
   },
   {
    "duration": 362,
    "start_time": "2022-11-27T12:16:00.054Z"
   },
   {
    "duration": 24,
    "start_time": "2022-11-27T12:16:20.220Z"
   },
   {
    "duration": 416,
    "start_time": "2022-11-27T12:16:35.381Z"
   },
   {
    "duration": 381,
    "start_time": "2022-11-27T12:16:41.975Z"
   },
   {
    "duration": 19,
    "start_time": "2022-11-27T12:18:44.480Z"
   },
   {
    "duration": 435,
    "start_time": "2022-11-27T12:18:56.199Z"
   },
   {
    "duration": 381,
    "start_time": "2022-11-27T12:19:07.499Z"
   },
   {
    "duration": 18,
    "start_time": "2022-11-27T12:19:12.283Z"
   },
   {
    "duration": 401,
    "start_time": "2022-11-27T12:19:21.575Z"
   },
   {
    "duration": 345,
    "start_time": "2022-11-27T12:19:31.143Z"
   },
   {
    "duration": 19,
    "start_time": "2022-11-27T12:19:41.863Z"
   },
   {
    "duration": 349,
    "start_time": "2022-11-27T12:19:58.732Z"
   },
   {
    "duration": 392,
    "start_time": "2022-11-27T12:20:02.889Z"
   },
   {
    "duration": 529,
    "start_time": "2022-11-27T12:20:09.503Z"
   },
   {
    "duration": 3,
    "start_time": "2022-11-27T12:30:03.946Z"
   },
   {
    "duration": 3,
    "start_time": "2022-11-27T12:30:21.367Z"
   },
   {
    "duration": 1476,
    "start_time": "2022-11-27T12:35:13.739Z"
   },
   {
    "duration": 47,
    "start_time": "2022-11-27T12:35:15.217Z"
   },
   {
    "duration": 14,
    "start_time": "2022-11-27T12:35:15.266Z"
   },
   {
    "duration": 19,
    "start_time": "2022-11-27T12:35:15.282Z"
   },
   {
    "duration": 6,
    "start_time": "2022-11-27T12:35:15.303Z"
   },
   {
    "duration": 8,
    "start_time": "2022-11-27T12:35:15.311Z"
   },
   {
    "duration": 18,
    "start_time": "2022-11-27T12:35:15.321Z"
   },
   {
    "duration": 10,
    "start_time": "2022-11-27T12:35:15.341Z"
   },
   {
    "duration": 38,
    "start_time": "2022-11-27T12:35:15.353Z"
   },
   {
    "duration": 8,
    "start_time": "2022-11-27T12:35:15.394Z"
   },
   {
    "duration": 25,
    "start_time": "2022-11-27T12:35:15.403Z"
   },
   {
    "duration": 76,
    "start_time": "2022-11-27T12:35:15.429Z"
   },
   {
    "duration": 16,
    "start_time": "2022-11-27T12:35:15.506Z"
   },
   {
    "duration": 20,
    "start_time": "2022-11-27T12:35:15.524Z"
   },
   {
    "duration": 7,
    "start_time": "2022-11-27T12:35:15.546Z"
   },
   {
    "duration": 26,
    "start_time": "2022-11-27T12:35:15.555Z"
   },
   {
    "duration": 13,
    "start_time": "2022-11-27T12:35:15.583Z"
   },
   {
    "duration": 46,
    "start_time": "2022-11-27T12:35:15.597Z"
   },
   {
    "duration": 156,
    "start_time": "2022-11-27T12:35:15.645Z"
   },
   {
    "duration": 9,
    "start_time": "2022-11-27T12:35:15.803Z"
   },
   {
    "duration": 14,
    "start_time": "2022-11-27T12:35:15.814Z"
   },
   {
    "duration": 52,
    "start_time": "2022-11-27T12:35:15.830Z"
   },
   {
    "duration": 47,
    "start_time": "2022-11-27T12:35:15.884Z"
   },
   {
    "duration": 1682,
    "start_time": "2022-11-27T12:35:15.932Z"
   },
   {
    "duration": 15,
    "start_time": "2022-11-27T12:35:17.615Z"
   },
   {
    "duration": 8734,
    "start_time": "2022-11-27T12:35:17.631Z"
   },
   {
    "duration": 58426,
    "start_time": "2022-11-27T12:35:26.367Z"
   },
   {
    "duration": 5,
    "start_time": "2022-11-27T12:36:24.796Z"
   },
   {
    "duration": 20,
    "start_time": "2022-11-27T12:36:24.813Z"
   },
   {
    "duration": 2384,
    "start_time": "2022-11-27T12:36:24.835Z"
   },
   {
    "duration": 1745,
    "start_time": "2022-11-27T12:36:27.221Z"
   },
   {
    "duration": 11890,
    "start_time": "2022-11-27T12:36:28.967Z"
   },
   {
    "duration": 8203,
    "start_time": "2022-11-27T12:36:40.859Z"
   },
   {
    "duration": 103055,
    "start_time": "2022-11-27T12:36:49.064Z"
   },
   {
    "duration": 56606,
    "start_time": "2022-11-27T12:38:32.121Z"
   },
   {
    "duration": 14,
    "start_time": "2022-11-27T12:39:28.729Z"
   },
   {
    "duration": 14,
    "start_time": "2022-11-27T12:39:28.745Z"
   },
   {
    "duration": 1582,
    "start_time": "2022-11-27T12:39:28.761Z"
   },
   {
    "duration": 2214,
    "start_time": "2022-11-27T12:39:30.345Z"
   },
   {
    "duration": 1613,
    "start_time": "2022-11-27T12:39:32.562Z"
   },
   {
    "duration": 2541,
    "start_time": "2022-11-27T12:39:34.177Z"
   },
   {
    "duration": 141236,
    "start_time": "2022-11-27T12:39:36.720Z"
   },
   {
    "duration": 234493,
    "start_time": "2022-11-27T12:41:57.958Z"
   },
   {
    "duration": 144134,
    "start_time": "2022-11-27T12:45:52.452Z"
   },
   {
    "duration": 270966,
    "start_time": "2022-11-27T12:48:16.589Z"
   }
  ],
  "kernelspec": {
   "display_name": "Python 3 (ipykernel)",
   "language": "python",
   "name": "python3"
  },
  "language_info": {
   "codemirror_mode": {
    "name": "ipython",
    "version": 3
   },
   "file_extension": ".py",
   "mimetype": "text/x-python",
   "name": "python",
   "nbconvert_exporter": "python",
   "pygments_lexer": "ipython3",
   "version": "3.9.5"
  },
  "toc": {
   "base_numbering": 1,
   "nav_menu": {},
   "number_sections": true,
   "sideBar": true,
   "skip_h1_title": true,
   "title_cell": "Содержание",
   "title_sidebar": "Contents",
   "toc_cell": true,
   "toc_position": {
    "height": "calc(100% - 180px)",
    "left": "10px",
    "top": "150px",
    "width": "402px"
   },
   "toc_section_display": true,
   "toc_window_display": false
  }
 },
 "nbformat": 4,
 "nbformat_minor": 2
}
