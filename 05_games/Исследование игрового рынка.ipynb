{
 "cells": [
  {
   "attachments": {},
   "cell_type": "markdown",
   "metadata": {},
   "source": [
    "# Исследование игрового рынка"
   ]
  },
  {
   "attachments": {},
   "cell_type": "markdown",
   "metadata": {},
   "source": [
    "**Целью проекта** является определить основные закономерности, влияющие на успешноcть игры, для определения потенциально популярных продуктов и планирования рекламных кампаний.\n",
    "\n",
    "Для выполнения цели были поставлены следующие задачи:\n",
    "    \n",
    "    - изучить датасет;\n",
    "    - провести предобработку данных;\n",
    "    - построить распределение игр по году выпуска;\n",
    "    - определить актуальный период для рассмотрения даннных;\n",
    "    - определить потенциально прибыльные платформы;\n",
    "    - определить влияние оценок критиков и пользователей на продажи по различным платформам;\n",
    "    - определить потенциально прибыльные жанры;\n",
    "    - построить портреты пользователей регионов EU, NA , JP;\n",
    "    - проверить гипотезу: средние пользовательские рейтинги платформ Xbox One и PC одинаковые;\n",
    "    - проверить гипотезу: средние пользовательские рейтинги жанров Action и Sports разные."
   ]
  },
  {
   "attachments": {},
   "cell_type": "markdown",
   "metadata": {},
   "source": [
    "## Изучение датасета"
   ]
  },
  {
   "cell_type": "code",
   "execution_count": 1,
   "metadata": {},
   "outputs": [],
   "source": [
    "import pandas as pd\n",
    "import matplotlib.pyplot as plt\n",
    "import scipy.stats as st\n",
    "import seaborn as sb"
   ]
  },
  {
   "cell_type": "code",
   "execution_count": 2,
   "metadata": {},
   "outputs": [],
   "source": [
    "data = pd.read_csv('/datasets/games.csv')"
   ]
  },
  {
   "cell_type": "code",
   "execution_count": 3,
   "metadata": {},
   "outputs": [
    {
     "name": "stdout",
     "output_type": "stream",
     "text": [
      "<class 'pandas.core.frame.DataFrame'>\n",
      "RangeIndex: 16715 entries, 0 to 16714\n",
      "Data columns (total 11 columns):\n",
      " #   Column           Non-Null Count  Dtype  \n",
      "---  ------           --------------  -----  \n",
      " 0   Name             16713 non-null  object \n",
      " 1   Platform         16715 non-null  object \n",
      " 2   Year_of_Release  16446 non-null  float64\n",
      " 3   Genre            16713 non-null  object \n",
      " 4   NA_sales         16715 non-null  float64\n",
      " 5   EU_sales         16715 non-null  float64\n",
      " 6   JP_sales         16715 non-null  float64\n",
      " 7   Other_sales      16715 non-null  float64\n",
      " 8   Critic_Score     8137 non-null   float64\n",
      " 9   User_Score       10014 non-null  object \n",
      " 10  Rating           9949 non-null   object \n",
      "dtypes: float64(6), object(5)\n",
      "memory usage: 1.4+ MB\n"
     ]
    }
   ],
   "source": [
    "data.info()"
   ]
  },
  {
   "cell_type": "code",
   "execution_count": 4,
   "metadata": {},
   "outputs": [
    {
     "data": {
      "text/html": [
       "<div>\n",
       "<style scoped>\n",
       "    .dataframe tbody tr th:only-of-type {\n",
       "        vertical-align: middle;\n",
       "    }\n",
       "\n",
       "    .dataframe tbody tr th {\n",
       "        vertical-align: top;\n",
       "    }\n",
       "\n",
       "    .dataframe thead th {\n",
       "        text-align: right;\n",
       "    }\n",
       "</style>\n",
       "<table border=\"1\" class=\"dataframe\">\n",
       "  <thead>\n",
       "    <tr style=\"text-align: right;\">\n",
       "      <th></th>\n",
       "      <th>Name</th>\n",
       "      <th>Platform</th>\n",
       "      <th>Year_of_Release</th>\n",
       "      <th>Genre</th>\n",
       "      <th>NA_sales</th>\n",
       "      <th>EU_sales</th>\n",
       "      <th>JP_sales</th>\n",
       "      <th>Other_sales</th>\n",
       "      <th>Critic_Score</th>\n",
       "      <th>User_Score</th>\n",
       "      <th>Rating</th>\n",
       "    </tr>\n",
       "  </thead>\n",
       "  <tbody>\n",
       "    <tr>\n",
       "      <th>0</th>\n",
       "      <td>Wii Sports</td>\n",
       "      <td>Wii</td>\n",
       "      <td>2006.0</td>\n",
       "      <td>Sports</td>\n",
       "      <td>41.36</td>\n",
       "      <td>28.96</td>\n",
       "      <td>3.77</td>\n",
       "      <td>8.45</td>\n",
       "      <td>76.0</td>\n",
       "      <td>8</td>\n",
       "      <td>E</td>\n",
       "    </tr>\n",
       "    <tr>\n",
       "      <th>1</th>\n",
       "      <td>Super Mario Bros.</td>\n",
       "      <td>NES</td>\n",
       "      <td>1985.0</td>\n",
       "      <td>Platform</td>\n",
       "      <td>29.08</td>\n",
       "      <td>3.58</td>\n",
       "      <td>6.81</td>\n",
       "      <td>0.77</td>\n",
       "      <td>NaN</td>\n",
       "      <td>NaN</td>\n",
       "      <td>NaN</td>\n",
       "    </tr>\n",
       "    <tr>\n",
       "      <th>2</th>\n",
       "      <td>Mario Kart Wii</td>\n",
       "      <td>Wii</td>\n",
       "      <td>2008.0</td>\n",
       "      <td>Racing</td>\n",
       "      <td>15.68</td>\n",
       "      <td>12.76</td>\n",
       "      <td>3.79</td>\n",
       "      <td>3.29</td>\n",
       "      <td>82.0</td>\n",
       "      <td>8.3</td>\n",
       "      <td>E</td>\n",
       "    </tr>\n",
       "    <tr>\n",
       "      <th>3</th>\n",
       "      <td>Wii Sports Resort</td>\n",
       "      <td>Wii</td>\n",
       "      <td>2009.0</td>\n",
       "      <td>Sports</td>\n",
       "      <td>15.61</td>\n",
       "      <td>10.93</td>\n",
       "      <td>3.28</td>\n",
       "      <td>2.95</td>\n",
       "      <td>80.0</td>\n",
       "      <td>8</td>\n",
       "      <td>E</td>\n",
       "    </tr>\n",
       "    <tr>\n",
       "      <th>4</th>\n",
       "      <td>Pokemon Red/Pokemon Blue</td>\n",
       "      <td>GB</td>\n",
       "      <td>1996.0</td>\n",
       "      <td>Role-Playing</td>\n",
       "      <td>11.27</td>\n",
       "      <td>8.89</td>\n",
       "      <td>10.22</td>\n",
       "      <td>1.00</td>\n",
       "      <td>NaN</td>\n",
       "      <td>NaN</td>\n",
       "      <td>NaN</td>\n",
       "    </tr>\n",
       "  </tbody>\n",
       "</table>\n",
       "</div>"
      ],
      "text/plain": [
       "                       Name Platform  Year_of_Release         Genre  NA_sales  \\\n",
       "0                Wii Sports      Wii           2006.0        Sports     41.36   \n",
       "1         Super Mario Bros.      NES           1985.0      Platform     29.08   \n",
       "2            Mario Kart Wii      Wii           2008.0        Racing     15.68   \n",
       "3         Wii Sports Resort      Wii           2009.0        Sports     15.61   \n",
       "4  Pokemon Red/Pokemon Blue       GB           1996.0  Role-Playing     11.27   \n",
       "\n",
       "   EU_sales  JP_sales  Other_sales  Critic_Score User_Score Rating  \n",
       "0     28.96      3.77         8.45          76.0          8      E  \n",
       "1      3.58      6.81         0.77           NaN        NaN    NaN  \n",
       "2     12.76      3.79         3.29          82.0        8.3      E  \n",
       "3     10.93      3.28         2.95          80.0          8      E  \n",
       "4      8.89     10.22         1.00           NaN        NaN    NaN  "
      ]
     },
     "execution_count": 4,
     "metadata": {},
     "output_type": "execute_result"
    }
   ],
   "source": [
    "data.head()"
   ]
  },
  {
   "attachments": {},
   "cell_type": "markdown",
   "metadata": {},
   "source": [
    "## Предобработка данных"
   ]
  },
  {
   "attachments": {},
   "cell_type": "markdown",
   "metadata": {},
   "source": [
    "Проведем проверку на наличие явных дубликатов."
   ]
  },
  {
   "cell_type": "code",
   "execution_count": 5,
   "metadata": {},
   "outputs": [
    {
     "data": {
      "text/plain": [
       "0"
      ]
     },
     "execution_count": 5,
     "metadata": {},
     "output_type": "execute_result"
    }
   ],
   "source": [
    "data.duplicated().sum()"
   ]
  },
  {
   "attachments": {},
   "cell_type": "markdown",
   "metadata": {},
   "source": [
    "Приведем названия столбцов к нижнему регистру."
   ]
  },
  {
   "cell_type": "code",
   "execution_count": 6,
   "metadata": {},
   "outputs": [],
   "source": [
    "data.rename(str.lower, axis='columns',inplace=True)"
   ]
  },
  {
   "attachments": {},
   "cell_type": "markdown",
   "metadata": {},
   "source": [
    "Преобразуем столбцы year_of_release, critic_score к типу int, user_scroe к типу float:"
   ]
  },
  {
   "cell_type": "code",
   "execution_count": 7,
   "metadata": {},
   "outputs": [
    {
     "data": {
      "text/plain": [
       "array(['8', nan, '8.3', '8.5', '6.6', '8.4', '8.6', '7.7', '6.3', '7.4',\n",
       "       '8.2', '9', '7.9', '8.1', '8.7', '7.1', '3.4', '5.3', '4.8', '3.2',\n",
       "       '8.9', '6.4', '7.8', '7.5', '2.6', '7.2', '9.2', '7', '7.3', '4.3',\n",
       "       '7.6', '5.7', '5', '9.1', '6.5', 'tbd', '8.8', '6.9', '9.4', '6.8',\n",
       "       '6.1', '6.7', '5.4', '4', '4.9', '4.5', '9.3', '6.2', '4.2', '6',\n",
       "       '3.7', '4.1', '5.8', '5.6', '5.5', '4.4', '4.6', '5.9', '3.9',\n",
       "       '3.1', '2.9', '5.2', '3.3', '4.7', '5.1', '3.5', '2.5', '1.9', '3',\n",
       "       '2.7', '2.2', '2', '9.5', '2.1', '3.6', '2.8', '1.8', '3.8', '0',\n",
       "       '1.6', '9.6', '2.4', '1.7', '1.1', '0.3', '1.5', '0.7', '1.2',\n",
       "       '2.3', '0.5', '1.3', '0.2', '0.6', '1.4', '0.9', '1', '9.7'],\n",
       "      dtype=object)"
      ]
     },
     "execution_count": 7,
     "metadata": {},
     "output_type": "execute_result"
    }
   ],
   "source": [
    "data.user_score.unique()"
   ]
  },
  {
   "attachments": {},
   "cell_type": "markdown",
   "metadata": {},
   "source": [
    "Среди уникальных значений столбца присутсвует значение \"tbd\" (означает \"подлежит уточнению\")."
   ]
  },
  {
   "cell_type": "code",
   "execution_count": 8,
   "metadata": {},
   "outputs": [
    {
     "data": {
      "text/plain": [
       "2424"
      ]
     },
     "execution_count": 8,
     "metadata": {},
     "output_type": "execute_result"
    }
   ],
   "source": [
    "data.query('user_score == \"tbd\"').user_score.count()"
   ]
  },
  {
   "attachments": {},
   "cell_type": "markdown",
   "metadata": {},
   "source": [
    "Приведем данные пользовательских оценок к типу float."
   ]
  },
  {
   "cell_type": "code",
   "execution_count": 9,
   "metadata": {},
   "outputs": [],
   "source": [
    "data['user_score'] = pd.to_numeric(data['user_score'],errors='coerce',downcast ='float')"
   ]
  },
  {
   "cell_type": "code",
   "execution_count": 10,
   "metadata": {},
   "outputs": [
    {
     "data": {
      "text/plain": [
       "0.0"
      ]
     },
     "execution_count": 10,
     "metadata": {},
     "output_type": "execute_result"
    }
   ],
   "source": [
    "data[data['user_score'] == 'tbd']['user_score'].sum()"
   ]
  },
  {
   "cell_type": "code",
   "execution_count": 11,
   "metadata": {},
   "outputs": [
    {
     "data": {
      "text/plain": [
       "array([8. , nan, 8.3, 8.5, 6.6, 8.4, 8.6, 7.7, 6.3, 7.4, 8.2, 9. , 7.9,\n",
       "       8.1, 8.7, 7.1, 3.4, 5.3, 4.8, 3.2, 8.9, 6.4, 7.8, 7.5, 2.6, 7.2,\n",
       "       9.2, 7. , 7.3, 4.3, 7.6, 5.7, 5. , 9.1, 6.5, 8.8, 6.9, 9.4, 6.8,\n",
       "       6.1, 6.7, 5.4, 4. , 4.9, 4.5, 9.3, 6.2, 4.2, 6. , 3.7, 4.1, 5.8,\n",
       "       5.6, 5.5, 4.4, 4.6, 5.9, 3.9, 3.1, 2.9, 5.2, 3.3, 4.7, 5.1, 3.5,\n",
       "       2.5, 1.9, 3. , 2.7, 2.2, 2. , 9.5, 2.1, 3.6, 2.8, 1.8, 3.8, 0. ,\n",
       "       1.6, 9.6, 2.4, 1.7, 1.1, 0.3, 1.5, 0.7, 1.2, 2.3, 0.5, 1.3, 0.2,\n",
       "       0.6, 1.4, 0.9, 1. , 9.7], dtype=float32)"
      ]
     },
     "execution_count": 11,
     "metadata": {},
     "output_type": "execute_result"
    }
   ],
   "source": [
    "data['user_score'].unique()"
   ]
  },
  {
   "attachments": {},
   "cell_type": "markdown",
   "metadata": {},
   "source": [
    "Убедимся, что в столбце critic_score только целочисленные значения оценок."
   ]
  },
  {
   "cell_type": "code",
   "execution_count": 12,
   "metadata": {},
   "outputs": [
    {
     "data": {
      "text/plain": [
       "0"
      ]
     },
     "execution_count": 12,
     "metadata": {},
     "output_type": "execute_result"
    }
   ],
   "source": [
    "data[(data['critic_score'] % 1 != 0) & (data['critic_score'].isna() == False)]['critic_score'].count()"
   ]
  },
  {
   "attachments": {},
   "cell_type": "markdown",
   "metadata": {},
   "source": [
    "Приведем данные столбцов year_of_release и critic_score к типу Int."
   ]
  },
  {
   "cell_type": "code",
   "execution_count": 13,
   "metadata": {},
   "outputs": [],
   "source": [
    "data = data.astype({'year_of_release':'Int64','critic_score' :'Int64'})"
   ]
  },
  {
   "attachments": {},
   "cell_type": "markdown",
   "metadata": {},
   "source": [
    "Пропуски обнаружены в столбцах critic_scorerating, user_score, year_of_release. Пропуски в столбце "
   ]
  },
  {
   "cell_type": "code",
   "execution_count": 14,
   "metadata": {},
   "outputs": [
    {
     "data": {
      "text/html": [
       "<style  type=\"text/css\" >\n",
       "#T_5a3c9_row0_col0{\n",
       "            background-color:  #b40426;\n",
       "            color:  #f1f1f1;\n",
       "        }#T_5a3c9_row1_col0{\n",
       "            background-color:  #ca3b37;\n",
       "            color:  #f1f1f1;\n",
       "        }#T_5a3c9_row2_col0{\n",
       "            background-color:  #f59d7e;\n",
       "            color:  #000000;\n",
       "        }#T_5a3c9_row3_col0{\n",
       "            background-color:  #4358cb;\n",
       "            color:  #f1f1f1;\n",
       "        }#T_5a3c9_row4_col0,#T_5a3c9_row5_col0,#T_5a3c9_row6_col0,#T_5a3c9_row7_col0,#T_5a3c9_row8_col0,#T_5a3c9_row9_col0,#T_5a3c9_row10_col0{\n",
       "            background-color:  #3b4cc0;\n",
       "            color:  #f1f1f1;\n",
       "        }</style><table id=\"T_5a3c9_\" ><thead>    <tr>        <th class=\"blank level0\" ></th>        <th class=\"col_heading level0 col0\" >0</th>    </tr></thead><tbody>\n",
       "                <tr>\n",
       "                        <th id=\"T_5a3c9_level0_row0\" class=\"row_heading level0 row0\" >user_score</th>\n",
       "                        <td id=\"T_5a3c9_row0_col0\" class=\"data row0 col0\" >54.600000</td>\n",
       "            </tr>\n",
       "            <tr>\n",
       "                        <th id=\"T_5a3c9_level0_row1\" class=\"row_heading level0 row1\" >critic_score</th>\n",
       "                        <td id=\"T_5a3c9_row1_col0\" class=\"data row1 col0\" >51.300000</td>\n",
       "            </tr>\n",
       "            <tr>\n",
       "                        <th id=\"T_5a3c9_level0_row2\" class=\"row_heading level0 row2\" >rating</th>\n",
       "                        <td id=\"T_5a3c9_row2_col0\" class=\"data row2 col0\" >40.500000</td>\n",
       "            </tr>\n",
       "            <tr>\n",
       "                        <th id=\"T_5a3c9_level0_row3\" class=\"row_heading level0 row3\" >year_of_release</th>\n",
       "                        <td id=\"T_5a3c9_row3_col0\" class=\"data row3 col0\" >1.600000</td>\n",
       "            </tr>\n",
       "            <tr>\n",
       "                        <th id=\"T_5a3c9_level0_row4\" class=\"row_heading level0 row4\" >name</th>\n",
       "                        <td id=\"T_5a3c9_row4_col0\" class=\"data row4 col0\" >0.000000</td>\n",
       "            </tr>\n",
       "            <tr>\n",
       "                        <th id=\"T_5a3c9_level0_row5\" class=\"row_heading level0 row5\" >genre</th>\n",
       "                        <td id=\"T_5a3c9_row5_col0\" class=\"data row5 col0\" >0.000000</td>\n",
       "            </tr>\n",
       "            <tr>\n",
       "                        <th id=\"T_5a3c9_level0_row6\" class=\"row_heading level0 row6\" >platform</th>\n",
       "                        <td id=\"T_5a3c9_row6_col0\" class=\"data row6 col0\" >0.000000</td>\n",
       "            </tr>\n",
       "            <tr>\n",
       "                        <th id=\"T_5a3c9_level0_row7\" class=\"row_heading level0 row7\" >na_sales</th>\n",
       "                        <td id=\"T_5a3c9_row7_col0\" class=\"data row7 col0\" >0.000000</td>\n",
       "            </tr>\n",
       "            <tr>\n",
       "                        <th id=\"T_5a3c9_level0_row8\" class=\"row_heading level0 row8\" >eu_sales</th>\n",
       "                        <td id=\"T_5a3c9_row8_col0\" class=\"data row8 col0\" >0.000000</td>\n",
       "            </tr>\n",
       "            <tr>\n",
       "                        <th id=\"T_5a3c9_level0_row9\" class=\"row_heading level0 row9\" >jp_sales</th>\n",
       "                        <td id=\"T_5a3c9_row9_col0\" class=\"data row9 col0\" >0.000000</td>\n",
       "            </tr>\n",
       "            <tr>\n",
       "                        <th id=\"T_5a3c9_level0_row10\" class=\"row_heading level0 row10\" >other_sales</th>\n",
       "                        <td id=\"T_5a3c9_row10_col0\" class=\"data row10 col0\" >0.000000</td>\n",
       "            </tr>\n",
       "    </tbody></table>"
      ],
      "text/plain": [
       "<pandas.io.formats.style.Styler at 0x7fb7a7f4f460>"
      ]
     },
     "execution_count": 14,
     "metadata": {},
     "output_type": "execute_result"
    }
   ],
   "source": [
    "pd.DataFrame(round(data.isna().mean().sort_values(ascending=False)*100,1)).style.background_gradient('coolwarm')"
   ]
  },
  {
   "attachments": {},
   "cell_type": "markdown",
   "metadata": {},
   "source": [
    "Больше всего пропусков в столбце с данными оценки критиков (порядка 51 процента), оценки пользователей и рейтинга от организации ESRB."
   ]
  },
  {
   "attachments": {},
   "cell_type": "markdown",
   "metadata": {},
   "source": [
    "Пропусков в столбце year_of_release 1.6 процента, удалим их."
   ]
  },
  {
   "cell_type": "code",
   "execution_count": 15,
   "metadata": {},
   "outputs": [],
   "source": [
    "data = data.dropna(subset=['year_of_release']).reset_index(drop=True)"
   ]
  },
  {
   "attachments": {},
   "cell_type": "markdown",
   "metadata": {},
   "source": [
    "Пропусков в столбцах user_score и critic_score значительное количество, но заполнять их средним или медианным значением по платформе или по жанру может быть не совсем корректно. Оставим эти столбцы без изменений."
   ]
  },
  {
   "attachments": {},
   "cell_type": "markdown",
   "metadata": {},
   "source": [
    "Пропуски могут быть вызваны тем, что далеко не на все игры выходят обзоры критиков. На довольно старые игры или на некоторые старые платформы могут быть пропуски в оценках пользователей, в связи с отсутсвием соответствующих инструментов для сбора таких данных. "
   ]
  },
  {
   "attachments": {},
   "cell_type": "markdown",
   "metadata": {},
   "source": [
    "Пропуски в столбце rating, оценка организации ESRB, могут быть вызваны тем, что на тот момент времени организации просто не существовало (основана в 1994 году) или она была далеко не так известна, чтобы разработчики отправляли туда свою игру на оценку."
   ]
  },
  {
   "cell_type": "code",
   "execution_count": 16,
   "metadata": {},
   "outputs": [
    {
     "data": {
      "text/plain": [
       "array(['E', nan, 'M', 'T', 'E10+', 'K-A', 'AO', 'EC', 'RP'], dtype=object)"
      ]
     },
     "execution_count": 16,
     "metadata": {},
     "output_type": "execute_result"
    }
   ],
   "source": [
    "data.rating.unique()"
   ]
  },
  {
   "attachments": {},
   "cell_type": "markdown",
   "metadata": {},
   "source": [
    "Из возможных вариантов заполнения пропусков можно представить вариант заполнения пропусков значением «RP» («Rating Pending» — «Рейтинг ожидается») или вводить свое обозначение «nR» («no Rating»). В данном проекте было принято решение не заполнять пропуски в столбце rating."
   ]
  },
  {
   "attachments": {},
   "cell_type": "markdown",
   "metadata": {},
   "source": [
    "Посчитайте суммарные продажи во всех регионах и запишите их в отдельный столбец."
   ]
  },
  {
   "cell_type": "code",
   "execution_count": 17,
   "metadata": {},
   "outputs": [],
   "source": [
    "data['total_sales'] = data['na_sales'] + data['eu_sales'] + data['jp_sales'] + data['other_sales']"
   ]
  },
  {
   "attachments": {},
   "cell_type": "markdown",
   "metadata": {},
   "source": [
    "## Исследовательский анализ"
   ]
  },
  {
   "attachments": {},
   "cell_type": "markdown",
   "metadata": {},
   "source": [
    "Построим распределение игр по году выпуска."
   ]
  },
  {
   "cell_type": "code",
   "execution_count": 18,
   "metadata": {},
   "outputs": [
    {
     "data": {
      "image/png": "[encoded data removed]",
      "text/plain": [
       "<Figure size 1008x432 with 1 Axes>"
      ]
     },
     "metadata": {
      "needs_background": "light"
     },
     "output_type": "display_data"
    }
   ],
   "source": [
    "plot = data['year_of_release'].plot(kind='hist', bins=36, range=(1980,2016), title='Количество выпущенных игр в разные годы', grid=True,xticks=range(1980,2017,1),figsize=(14,6),rot = 90)\n",
    "plot.set_xlabel('Год')\n",
    "plot.set_ylabel('Кол-во игр')\n",
    "plt.show()"
   ]
  },
  {
   "attachments": {},
   "cell_type": "markdown",
   "metadata": {},
   "source": [
    "**Вывод:** Рост количества выпускаемых игр наблюдается с 1994 года. Пиковые значения наблюдались в 2008 и 2009 годах. Наблюдается значительный рост в 2016 году по сравнению с предыдущим."
   ]
  },
  {
   "attachments": {},
   "cell_type": "markdown",
   "metadata": {},
   "source": [
    "Посмотрите, как менялись продажи по платформам. Выберите платформы с наибольшими суммарными продажами и постройте распределение по годам. За какой характерный срок появляются новые и исчезают старые платформы?"
   ]
  },
  {
   "cell_type": "code",
   "execution_count": 19,
   "metadata": {},
   "outputs": [
    {
     "data": {
      "text/html": [
       "<div>\n",
       "<style scoped>\n",
       "    .dataframe tbody tr th:only-of-type {\n",
       "        vertical-align: middle;\n",
       "    }\n",
       "\n",
       "    .dataframe tbody tr th {\n",
       "        vertical-align: top;\n",
       "    }\n",
       "\n",
       "    .dataframe thead th {\n",
       "        text-align: right;\n",
       "    }\n",
       "</style>\n",
       "<table border=\"1\" class=\"dataframe\">\n",
       "  <thead>\n",
       "    <tr style=\"text-align: right;\">\n",
       "      <th></th>\n",
       "      <th>total_sales</th>\n",
       "    </tr>\n",
       "    <tr>\n",
       "      <th>platform</th>\n",
       "      <th></th>\n",
       "    </tr>\n",
       "  </thead>\n",
       "  <tbody>\n",
       "    <tr>\n",
       "      <th>PS2</th>\n",
       "      <td>1233.56</td>\n",
       "    </tr>\n",
       "    <tr>\n",
       "      <th>X360</th>\n",
       "      <td>961.24</td>\n",
       "    </tr>\n",
       "    <tr>\n",
       "      <th>PS3</th>\n",
       "      <td>931.34</td>\n",
       "    </tr>\n",
       "    <tr>\n",
       "      <th>Wii</th>\n",
       "      <td>891.18</td>\n",
       "    </tr>\n",
       "    <tr>\n",
       "      <th>DS</th>\n",
       "      <td>802.78</td>\n",
       "    </tr>\n",
       "    <tr>\n",
       "      <th>PS</th>\n",
       "      <td>727.58</td>\n",
       "    </tr>\n",
       "    <tr>\n",
       "      <th>PS4</th>\n",
       "      <td>314.14</td>\n",
       "    </tr>\n",
       "    <tr>\n",
       "      <th>GBA</th>\n",
       "      <td>312.88</td>\n",
       "    </tr>\n",
       "    <tr>\n",
       "      <th>PSP</th>\n",
       "      <td>289.53</td>\n",
       "    </tr>\n",
       "    <tr>\n",
       "      <th>3DS</th>\n",
       "      <td>257.81</td>\n",
       "    </tr>\n",
       "  </tbody>\n",
       "</table>\n",
       "</div>"
      ],
      "text/plain": [
       "          total_sales\n",
       "platform             \n",
       "PS2           1233.56\n",
       "X360           961.24\n",
       "PS3            931.34\n",
       "Wii            891.18\n",
       "DS             802.78\n",
       "PS             727.58\n",
       "PS4            314.14\n",
       "GBA            312.88\n",
       "PSP            289.53\n",
       "3DS            257.81"
      ]
     },
     "execution_count": 19,
     "metadata": {},
     "output_type": "execute_result"
    }
   ],
   "source": [
    "pivot_platform = data.pivot_table(index='platform', values='total_sales',aggfunc='sum')#.sort_values(by='total_sales',ascending=False)\n",
    "pivot_platform.sort_values(by='total_sales',ascending=False).head(10)"
   ]
  },
  {
   "cell_type": "code",
   "execution_count": 20,
   "metadata": {},
   "outputs": [
    {
     "data": {
      "image/png": "[encoded data removed]",
      "text/plain": [
       "<Figure size 864x432 with 1 Axes>"
      ]
     },
     "metadata": {
      "needs_background": "light"
     },
     "output_type": "display_data"
    }
   ],
   "source": [
    "pivot_platform.sort_values(by='total_sales').plot(kind='bar', y='total_sales', title='Суммарное количество продаж по различным платформам', grid=True,figsize=(12,6))\n",
    "plt.show()"
   ]
  },
  {
   "attachments": {},
   "cell_type": "markdown",
   "metadata": {},
   "source": [
    "**Вывод:** На текущий рассматриваемый момент по суммарным продажам игр за все время лидирует консоль PS2 (она достаточно долго поддерживалась производителем, но на текущий момент давно не производится). Второе и третье места делят Xbox360 и PS3, еще недавно актуальные поколения консолей. Далее DS и Wii. Актуальная на рассматриваемый момент PS4 еще только набирает обороты по продажам. "
   ]
  },
  {
   "cell_type": "code",
   "execution_count": 21,
   "metadata": {},
   "outputs": [
    {
     "data": {
      "image/png": "[encoded data removed]",
      "text/plain": [
       "<Figure size 1296x648 with 1 Axes>"
      ]
     },
     "metadata": {
      "needs_background": "light"
     },
     "output_type": "display_data"
    }
   ],
   "source": [
    "pivot_1 = data.pivot_table(index=['year_of_release'],values='total_sales',columns='platform',aggfunc='sum')\n",
    "pivot_1.plot(kind='area',figsize=(18,9),stacked=False)\n",
    "plt.show()"
   ]
  },
  {
   "cell_type": "code",
   "execution_count": 22,
   "metadata": {},
   "outputs": [
    {
     "data": {
      "image/png": "[encoded data removed]",
      "text/plain": [
       "<Figure size 1296x648 with 1 Axes>"
      ]
     },
     "metadata": {
      "needs_background": "light"
     },
     "output_type": "display_data"
    }
   ],
   "source": [
    "actual_platforms = ['PS4','X360','PS3','XOne','3DS','PC']\n",
    "pivot_1[actual_platforms].plot(xlim=(2003,2017),xticks=range(2003,2017,1),figsize=(18,9),grid=True)\n",
    "plt.show()"
   ]
  },
  {
   "attachments": {},
   "cell_type": "markdown",
   "metadata": {},
   "source": [
    "**Вывод:** Актуальность платформы составляет порядка 5-6 лет. PS4 и XboxOne показали просадки в продажах в 2016 году, возможно из-за неполных данных за этот год."
   ]
  },
  {
   "attachments": {},
   "cell_type": "markdown",
   "metadata": {},
   "source": [
    "В качестве актуального выберем данные за период с 2014 года."
   ]
  },
  {
   "cell_type": "code",
   "execution_count": 23,
   "metadata": {},
   "outputs": [],
   "source": [
    "actual_data = data.query('year_of_release >= 2014')"
   ]
  },
  {
   "attachments": {},
   "cell_type": "markdown",
   "metadata": {},
   "source": [
    "Выберем пять потенциально прибыльных платформ."
   ]
  },
  {
   "cell_type": "code",
   "execution_count": 24,
   "metadata": {},
   "outputs": [
    {
     "data": {
      "text/html": [
       "<div>\n",
       "<style scoped>\n",
       "    .dataframe tbody tr th:only-of-type {\n",
       "        vertical-align: middle;\n",
       "    }\n",
       "\n",
       "    .dataframe tbody tr th {\n",
       "        vertical-align: top;\n",
       "    }\n",
       "\n",
       "    .dataframe thead th {\n",
       "        text-align: right;\n",
       "    }\n",
       "</style>\n",
       "<table border=\"1\" class=\"dataframe\">\n",
       "  <thead>\n",
       "    <tr style=\"text-align: right;\">\n",
       "      <th></th>\n",
       "      <th>total_sales</th>\n",
       "    </tr>\n",
       "    <tr>\n",
       "      <th>platform</th>\n",
       "      <th></th>\n",
       "    </tr>\n",
       "  </thead>\n",
       "  <tbody>\n",
       "    <tr>\n",
       "      <th>PS4</th>\n",
       "      <td>288.15</td>\n",
       "    </tr>\n",
       "    <tr>\n",
       "      <th>XOne</th>\n",
       "      <td>140.36</td>\n",
       "    </tr>\n",
       "    <tr>\n",
       "      <th>3DS</th>\n",
       "      <td>86.68</td>\n",
       "    </tr>\n",
       "    <tr>\n",
       "      <th>PS3</th>\n",
       "      <td>68.18</td>\n",
       "    </tr>\n",
       "    <tr>\n",
       "      <th>X360</th>\n",
       "      <td>48.22</td>\n",
       "    </tr>\n",
       "  </tbody>\n",
       "</table>\n",
       "</div>"
      ],
      "text/plain": [
       "          total_sales\n",
       "platform             \n",
       "PS4            288.15\n",
       "XOne           140.36\n",
       "3DS             86.68\n",
       "PS3             68.18\n",
       "X360            48.22"
      ]
     },
     "execution_count": 24,
     "metadata": {},
     "output_type": "execute_result"
    }
   ],
   "source": [
    "top_platforms = actual_data.pivot_table(index='platform',values='total_sales',aggfunc='sum').sort_values(by='total_sales',ascending=False).head(5)\n",
    "top_platforms"
   ]
  },
  {
   "attachments": {},
   "cell_type": "markdown",
   "metadata": {},
   "source": [
    "Построим «ящик с усами» по глобальным продажам игр в разбивке по потенциально прибыльным платформам."
   ]
  },
  {
   "cell_type": "code",
   "execution_count": 25,
   "metadata": {},
   "outputs": [
    {
     "data": {
      "image/png": "[encoded data removed]",
      "text/plain": [
       "<Figure size 864x648 with 1 Axes>"
      ]
     },
     "metadata": {
      "needs_background": "light"
     },
     "output_type": "display_data"
    }
   ],
   "source": [
    "plot_2 = actual_data.loc[(actual_data['platform'].isin(top_platforms.index.to_list()))].boxplot(column='total_sales',by='platform',grid=True,figsize=(12,9))\n",
    "plt.show()"
   ]
  },
  {
   "cell_type": "code",
   "execution_count": 26,
   "metadata": {},
   "outputs": [
    {
     "data": {
      "image/png": "[encoded data removed]",
      "text/plain": [
       "<Figure size 864x648 with 1 Axes>"
      ]
     },
     "metadata": {
      "needs_background": "light"
     },
     "output_type": "display_data"
    }
   ],
   "source": [
    "plot_2 = actual_data.loc[(actual_data['platform'].isin(top_platforms.index.to_list()))].boxplot(column='total_sales',by='platform',grid=True,figsize=(12,9))\n",
    "plot_2.set_ylim(0,2)\n",
    "plt.show()"
   ]
  },
  {
   "attachments": {},
   "cell_type": "markdown",
   "metadata": {},
   "source": [
    "**Вывод:** Медианные значения продаж у топовых платформ лежит в диапазоне 0,15 до 0,25 млн за игру.\n",
    "Выбросы наблюдаются у всех платформ, в отдельных случаях достигают порядка 15 млн. Показатели у 3DS ниже остальных."
   ]
  },
  {
   "attachments": {},
   "cell_type": "markdown",
   "metadata": {},
   "source": [
    "Определим влияние оценок критиков и пользователей на продажи на примере Xbox360."
   ]
  },
  {
   "cell_type": "code",
   "execution_count": 27,
   "metadata": {},
   "outputs": [
    {
     "data": {
      "image/png": "[encoded data removed]",
      "text/plain": [
       "<Figure size 1296x432 with 2 Axes>"
      ]
     },
     "metadata": {
      "needs_background": "light"
     },
     "output_type": "display_data"
    }
   ],
   "source": [
    "platform_x = actual_data.query('platform == \"X360\"')\n",
    "\n",
    "fig, ax = plt.subplots(1, 2, figsize=(18,6))\n",
    "platform_x.plot(kind='scatter',x='critic_score',y='total_sales',color='Green',ec='black',title='Влияние оценок критиков на продажи',xlabel='Оценки пользователей',ylabel='Всего продаж',ax=ax[0])\n",
    "platform_x.plot(kind='scatter',x='user_score',y='total_sales',color='Green',ec='black',title='Влияние оценок пользователей на продажи',xlabel='Оценки пользователей',ylabel='Всего продаж',ax=ax[1])\n",
    "plt.show()"
   ]
  },
  {
   "cell_type": "code",
   "execution_count": 28,
   "metadata": {},
   "outputs": [
    {
     "data": {
      "text/html": [
       "<style  type=\"text/css\" >\n",
       "#T_eb745_row0_col0,#T_eb745_row1_col1,#T_eb745_row2_col2,#T_eb745_row3_col3,#T_eb745_row4_col4,#T_eb745_row5_col5,#T_eb745_row6_col6,#T_eb745_row7_col7{\n",
       "            background-color:  #00441b;\n",
       "            color:  #f1f1f1;\n",
       "        }#T_eb745_row0_col1,#T_eb745_row0_col2,#T_eb745_row0_col3,#T_eb745_row0_col4,#T_eb745_row0_col6,#T_eb745_row0_col7,#T_eb745_row3_col5,#T_eb745_row6_col0{\n",
       "            background-color:  #f7fcf5;\n",
       "            color:  #000000;\n",
       "        }#T_eb745_row0_col5,#T_eb745_row5_col0{\n",
       "            background-color:  #000000;\n",
       "            color:  #f1f1f1;\n",
       "        }#T_eb745_row1_col0{\n",
       "            background-color:  #f4fbf2;\n",
       "            color:  #000000;\n",
       "        }#T_eb745_row1_col2{\n",
       "            background-color:  #3aa357;\n",
       "            color:  #000000;\n",
       "        }#T_eb745_row1_col3,#T_eb745_row4_col3{\n",
       "            background-color:  #bbe4b4;\n",
       "            color:  #000000;\n",
       "        }#T_eb745_row1_col4,#T_eb745_row4_col1{\n",
       "            background-color:  #00491d;\n",
       "            color:  #f1f1f1;\n",
       "        }#T_eb745_row1_col5{\n",
       "            background-color:  #d7efd1;\n",
       "            color:  #000000;\n",
       "        }#T_eb745_row1_col6{\n",
       "            background-color:  #e9f7e5;\n",
       "            color:  #000000;\n",
       "        }#T_eb745_row1_col7,#T_eb745_row7_col1{\n",
       "            background-color:  #005221;\n",
       "            color:  #f1f1f1;\n",
       "        }#T_eb745_row2_col0,#T_eb745_row3_col0{\n",
       "            background-color:  #f1faee;\n",
       "            color:  #000000;\n",
       "        }#T_eb745_row2_col1{\n",
       "            background-color:  #38a156;\n",
       "            color:  #000000;\n",
       "        }#T_eb745_row2_col3,#T_eb745_row3_col2,#T_eb745_row6_col3{\n",
       "            background-color:  #caeac3;\n",
       "            color:  #000000;\n",
       "        }#T_eb745_row2_col4{\n",
       "            background-color:  #18823d;\n",
       "            color:  #f1f1f1;\n",
       "        }#T_eb745_row2_col5,#T_eb745_row4_col0{\n",
       "            background-color:  #f5fbf3;\n",
       "            color:  #000000;\n",
       "        }#T_eb745_row2_col6{\n",
       "            background-color:  #e7f6e2;\n",
       "            color:  #000000;\n",
       "        }#T_eb745_row2_col7{\n",
       "            background-color:  #067230;\n",
       "            color:  #f1f1f1;\n",
       "        }#T_eb745_row3_col1{\n",
       "            background-color:  #b6e2af;\n",
       "            color:  #000000;\n",
       "        }#T_eb745_row3_col4{\n",
       "            background-color:  #b2e0ac;\n",
       "            color:  #000000;\n",
       "        }#T_eb745_row3_col6{\n",
       "            background-color:  #c1e6ba;\n",
       "            color:  #000000;\n",
       "        }#T_eb745_row3_col7{\n",
       "            background-color:  #b4e1ad;\n",
       "            color:  #000000;\n",
       "        }#T_eb745_row4_col2{\n",
       "            background-color:  #1a843f;\n",
       "            color:  #000000;\n",
       "        }#T_eb745_row4_col5{\n",
       "            background-color:  #d5efcf;\n",
       "            color:  #000000;\n",
       "        }#T_eb745_row4_col6,#T_eb745_row7_col6{\n",
       "            background-color:  #eaf7e6;\n",
       "            color:  #000000;\n",
       "        }#T_eb745_row4_col7,#T_eb745_row7_col4{\n",
       "            background-color:  #00451c;\n",
       "            color:  #f1f1f1;\n",
       "        }#T_eb745_row5_col1{\n",
       "            background-color:  #42ab5d;\n",
       "            color:  #000000;\n",
       "        }#T_eb745_row5_col2{\n",
       "            background-color:  #66bd6f;\n",
       "            color:  #000000;\n",
       "        }#T_eb745_row5_col3{\n",
       "            background-color:  #68be70;\n",
       "            color:  #000000;\n",
       "        }#T_eb745_row5_col4{\n",
       "            background-color:  #3fa95c;\n",
       "            color:  #000000;\n",
       "        }#T_eb745_row5_col6{\n",
       "            background-color:  #2f974e;\n",
       "            color:  #000000;\n",
       "        }#T_eb745_row5_col7{\n",
       "            background-color:  #45ad5f;\n",
       "            color:  #000000;\n",
       "        }#T_eb745_row6_col1,#T_eb745_row6_col2{\n",
       "            background-color:  #edf8e9;\n",
       "            color:  #000000;\n",
       "        }#T_eb745_row6_col4,#T_eb745_row6_col7{\n",
       "            background-color:  #ecf8e8;\n",
       "            color:  #000000;\n",
       "        }#T_eb745_row6_col5{\n",
       "            background-color:  #acdea6;\n",
       "            color:  #000000;\n",
       "        }#T_eb745_row7_col0{\n",
       "            background-color:  #f6fcf4;\n",
       "            color:  #000000;\n",
       "        }#T_eb745_row7_col2{\n",
       "            background-color:  #077331;\n",
       "            color:  #f1f1f1;\n",
       "        }#T_eb745_row7_col3{\n",
       "            background-color:  #bce4b5;\n",
       "            color:  #000000;\n",
       "        }#T_eb745_row7_col5{\n",
       "            background-color:  #ddf2d8;\n",
       "            color:  #000000;\n",
       "        }</style><table id=\"T_eb745_\" ><thead>    <tr>        <th class=\"blank level0\" ></th>        <th class=\"col_heading level0 col0\" >year_of_release</th>        <th class=\"col_heading level0 col1\" >na_sales</th>        <th class=\"col_heading level0 col2\" >eu_sales</th>        <th class=\"col_heading level0 col3\" >jp_sales</th>        <th class=\"col_heading level0 col4\" >other_sales</th>        <th class=\"col_heading level0 col5\" >critic_score</th>        <th class=\"col_heading level0 col6\" >user_score</th>        <th class=\"col_heading level0 col7\" >total_sales</th>    </tr></thead><tbody>\n",
       "                <tr>\n",
       "                        <th id=\"T_eb745_level0_row0\" class=\"row_heading level0 row0\" >year_of_release</th>\n",
       "                        <td id=\"T_eb745_row0_col0\" class=\"data row0 col0\" >1.000000</td>\n",
       "                        <td id=\"T_eb745_row0_col1\" class=\"data row0 col1\" >-0.224167</td>\n",
       "                        <td id=\"T_eb745_row0_col2\" class=\"data row0 col2\" >-0.195040</td>\n",
       "                        <td id=\"T_eb745_row0_col3\" class=\"data row0 col3\" >-0.195843</td>\n",
       "                        <td id=\"T_eb745_row0_col4\" class=\"data row0 col4\" >-0.237644</td>\n",
       "                        <td id=\"T_eb745_row0_col5\" class=\"data row0 col5\" >nan</td>\n",
       "                        <td id=\"T_eb745_row0_col6\" class=\"data row0 col6\" >-0.252575</td>\n",
       "                        <td id=\"T_eb745_row0_col7\" class=\"data row0 col7\" >-0.238375</td>\n",
       "            </tr>\n",
       "            <tr>\n",
       "                        <th id=\"T_eb745_level0_row1\" class=\"row_heading level0 row1\" >na_sales</th>\n",
       "                        <td id=\"T_eb745_row1_col0\" class=\"data row1 col0\" >-0.224167</td>\n",
       "                        <td id=\"T_eb745_row1_col1\" class=\"data row1 col1\" >1.000000</td>\n",
       "                        <td id=\"T_eb745_row1_col2\" class=\"data row1 col2\" >0.588317</td>\n",
       "                        <td id=\"T_eb745_row1_col3\" class=\"data row1 col3\" >0.151322</td>\n",
       "                        <td id=\"T_eb745_row1_col4\" class=\"data row1 col4\" >0.978530</td>\n",
       "                        <td id=\"T_eb745_row1_col5\" class=\"data row1 col5\" >0.539778</td>\n",
       "                        <td id=\"T_eb745_row1_col6\" class=\"data row1 col6\" >-0.133585</td>\n",
       "                        <td id=\"T_eb745_row1_col7\" class=\"data row1 col7\" >0.944965</td>\n",
       "            </tr>\n",
       "            <tr>\n",
       "                        <th id=\"T_eb745_level0_row2\" class=\"row_heading level0 row2\" >eu_sales</th>\n",
       "                        <td id=\"T_eb745_row2_col0\" class=\"data row2 col0\" >-0.195040</td>\n",
       "                        <td id=\"T_eb745_row2_col1\" class=\"data row2 col1\" >0.588317</td>\n",
       "                        <td id=\"T_eb745_row2_col2\" class=\"data row2 col2\" >1.000000</td>\n",
       "                        <td id=\"T_eb745_row2_col3\" class=\"data row2 col3\" >0.090998</td>\n",
       "                        <td id=\"T_eb745_row2_col4\" class=\"data row2 col4\" >0.737452</td>\n",
       "                        <td id=\"T_eb745_row2_col5\" class=\"data row2 col5\" >0.443965</td>\n",
       "                        <td id=\"T_eb745_row2_col6\" class=\"data row2 col6\" >-0.106952</td>\n",
       "                        <td id=\"T_eb745_row2_col7\" class=\"data row2 col7\" >0.820443</td>\n",
       "            </tr>\n",
       "            <tr>\n",
       "                        <th id=\"T_eb745_level0_row3\" class=\"row_heading level0 row3\" >jp_sales</th>\n",
       "                        <td id=\"T_eb745_row3_col0\" class=\"data row3 col0\" >-0.195843</td>\n",
       "                        <td id=\"T_eb745_row3_col1\" class=\"data row3 col1\" >0.151322</td>\n",
       "                        <td id=\"T_eb745_row3_col2\" class=\"data row3 col2\" >0.090998</td>\n",
       "                        <td id=\"T_eb745_row3_col3\" class=\"data row3 col3\" >1.000000</td>\n",
       "                        <td id=\"T_eb745_row3_col4\" class=\"data row3 col4\" >0.154383</td>\n",
       "                        <td id=\"T_eb745_row3_col5\" class=\"data row3 col5\" >0.435430</td>\n",
       "                        <td id=\"T_eb745_row3_col6\" class=\"data row3 col6\" >0.089151</td>\n",
       "                        <td id=\"T_eb745_row3_col7\" class=\"data row3 col7\" >0.148872</td>\n",
       "            </tr>\n",
       "            <tr>\n",
       "                        <th id=\"T_eb745_level0_row4\" class=\"row_heading level0 row4\" >other_sales</th>\n",
       "                        <td id=\"T_eb745_row4_col0\" class=\"data row4 col0\" >-0.237644</td>\n",
       "                        <td id=\"T_eb745_row4_col1\" class=\"data row4 col1\" >0.978530</td>\n",
       "                        <td id=\"T_eb745_row4_col2\" class=\"data row4 col2\" >0.737452</td>\n",
       "                        <td id=\"T_eb745_row4_col3\" class=\"data row4 col3\" >0.154383</td>\n",
       "                        <td id=\"T_eb745_row4_col4\" class=\"data row4 col4\" >1.000000</td>\n",
       "                        <td id=\"T_eb745_row4_col5\" class=\"data row4 col5\" >0.544409</td>\n",
       "                        <td id=\"T_eb745_row4_col6\" class=\"data row4 col6\" >-0.137688</td>\n",
       "                        <td id=\"T_eb745_row4_col7\" class=\"data row4 col7\" >0.990365</td>\n",
       "            </tr>\n",
       "            <tr>\n",
       "                        <th id=\"T_eb745_level0_row5\" class=\"row_heading level0 row5\" >critic_score</th>\n",
       "                        <td id=\"T_eb745_row5_col0\" class=\"data row5 col0\" >nan</td>\n",
       "                        <td id=\"T_eb745_row5_col1\" class=\"data row5 col1\" >0.539778</td>\n",
       "                        <td id=\"T_eb745_row5_col2\" class=\"data row5 col2\" >0.443965</td>\n",
       "                        <td id=\"T_eb745_row5_col3\" class=\"data row5 col3\" >0.435430</td>\n",
       "                        <td id=\"T_eb745_row5_col4\" class=\"data row5 col4\" >0.544409</td>\n",
       "                        <td id=\"T_eb745_row5_col5\" class=\"data row5 col5\" >1.000000</td>\n",
       "                        <td id=\"T_eb745_row5_col6\" class=\"data row5 col6\" >0.625309</td>\n",
       "                        <td id=\"T_eb745_row5_col7\" class=\"data row5 col7\" >0.525723</td>\n",
       "            </tr>\n",
       "            <tr>\n",
       "                        <th id=\"T_eb745_level0_row6\" class=\"row_heading level0 row6\" >user_score</th>\n",
       "                        <td id=\"T_eb745_row6_col0\" class=\"data row6 col0\" >-0.252575</td>\n",
       "                        <td id=\"T_eb745_row6_col1\" class=\"data row6 col1\" >-0.133585</td>\n",
       "                        <td id=\"T_eb745_row6_col2\" class=\"data row6 col2\" >-0.106952</td>\n",
       "                        <td id=\"T_eb745_row6_col3\" class=\"data row6 col3\" >0.089151</td>\n",
       "                        <td id=\"T_eb745_row6_col4\" class=\"data row6 col4\" >-0.137688</td>\n",
       "                        <td id=\"T_eb745_row6_col5\" class=\"data row6 col5\" >0.625309</td>\n",
       "                        <td id=\"T_eb745_row6_col6\" class=\"data row6 col6\" >1.000000</td>\n",
       "                        <td id=\"T_eb745_row6_col7\" class=\"data row6 col7\" >-0.138445</td>\n",
       "            </tr>\n",
       "            <tr>\n",
       "                        <th id=\"T_eb745_level0_row7\" class=\"row_heading level0 row7\" >total_sales</th>\n",
       "                        <td id=\"T_eb745_row7_col0\" class=\"data row7 col0\" >-0.238375</td>\n",
       "                        <td id=\"T_eb745_row7_col1\" class=\"data row7 col1\" >0.944965</td>\n",
       "                        <td id=\"T_eb745_row7_col2\" class=\"data row7 col2\" >0.820443</td>\n",
       "                        <td id=\"T_eb745_row7_col3\" class=\"data row7 col3\" >0.148872</td>\n",
       "                        <td id=\"T_eb745_row7_col4\" class=\"data row7 col4\" >0.990365</td>\n",
       "                        <td id=\"T_eb745_row7_col5\" class=\"data row7 col5\" >0.525723</td>\n",
       "                        <td id=\"T_eb745_row7_col6\" class=\"data row7 col6\" >-0.138445</td>\n",
       "                        <td id=\"T_eb745_row7_col7\" class=\"data row7 col7\" >1.000000</td>\n",
       "            </tr>\n",
       "    </tbody></table>"
      ],
      "text/plain": [
       "<pandas.io.formats.style.Styler at 0x7fb7a8013460>"
      ]
     },
     "execution_count": 28,
     "metadata": {},
     "output_type": "execute_result"
    }
   ],
   "source": [
    "platform_x.corr().style.background_gradient('Greens')"
   ]
  },
  {
   "attachments": {},
   "cell_type": "markdown",
   "metadata": {},
   "source": [
    "**Вывод:** Для консоли Xbox360 есть положительная корреляция продаж с оценками критиков. Это может быть обусловлено тем, что пользователи прислушиваются к мнению известных критиков, которые часто сопровождают свои оценки детальными обзорами на игры. Корреляция с оценками пользователей довольно низкая."
   ]
  },
  {
   "attachments": {},
   "cell_type": "markdown",
   "metadata": {},
   "source": [
    "Соотнесите выводы с продажами игр на других платформах."
   ]
  },
  {
   "cell_type": "code",
   "execution_count": 29,
   "metadata": {
    "scrolled": false
   },
   "outputs": [
    {
     "name": "stdout",
     "output_type": "stream",
     "text": [
      "Корреляция с продажами для платформы: PS4\n",
      "\n",
      "critic_score    0.402661\n",
      "user_score     -0.040132\n",
      "Name: total_sales, dtype: float64 \n",
      "\n",
      "Корреляция с продажами для платформы: XOne\n",
      "\n",
      "critic_score    0.428677\n",
      "user_score     -0.070384\n",
      "Name: total_sales, dtype: float64 \n",
      "\n",
      "Корреляция с продажами для платформы: 3DS\n",
      "\n",
      "critic_score    0.314117\n",
      "user_score      0.215193\n",
      "Name: total_sales, dtype: float64 \n",
      "\n",
      "Корреляция с продажами для платформы: PS3\n",
      "\n",
      "critic_score    0.446575\n",
      "user_score     -0.166761\n",
      "Name: total_sales, dtype: float64 \n",
      "\n",
      "Корреляция с продажами для платформы: X360\n",
      "\n",
      "critic_score    0.525723\n",
      "user_score     -0.138445\n",
      "Name: total_sales, dtype: float64 \n",
      "\n"
     ]
    },
    {
     "data": {
      "image/png": "[encoded data removed]",
      "text/plain": [
       "<Figure size 1152x288 with 2 Axes>"
      ]
     },
     "metadata": {
      "needs_background": "light"
     },
     "output_type": "display_data"
    },
    {
     "data": {
      "image/png": "[encoded data removed]",
      "text/plain": [
       "<Figure size 1152x288 with 2 Axes>"
      ]
     },
     "metadata": {
      "needs_background": "light"
     },
     "output_type": "display_data"
    },
    {
     "data": {
      "image/png": "[encoded data removed]",
      "text/plain": [
       "<Figure size 1152x288 with 2 Axes>"
      ]
     },
     "metadata": {
      "needs_background": "light"
     },
     "output_type": "display_data"
    },
    {
     "data": {
      "image/png": "[encoded data removed]",
      "text/plain": [
       "<Figure size 1152x288 with 2 Axes>"
      ]
     },
     "metadata": {
      "needs_background": "light"
     },
     "output_type": "display_data"
    },
    {
     "data": {
      "image/png": "[encoded data removed]",
      "text/plain": [
       "<Figure size 1152x288 with 2 Axes>"
      ]
     },
     "metadata": {
      "needs_background": "light"
     },
     "output_type": "display_data"
    }
   ],
   "source": [
    "i = 0\n",
    "\n",
    "for platforms in top_platforms.index.to_list():\n",
    "    print(f'Корреляция с продажами для платформы: {platforms}\\n')\n",
    "    print(actual_data.query('platform == @platforms').corr().loc['total_sales','critic_score':'user_score'],'\\n')\n",
    "    fig, ax = plt.subplots(1, 2, figsize=(16,4))\n",
    "    actual_data.query('platform == @platforms').plot(kind='scatter',x='critic_score',y='total_sales',color='DarkBlue',ec='black',title='Влияние оценок критиков на продажи',xlabel='Оценки пользователей',ylabel='Всего продаж',ax=ax[i])\n",
    "    actual_data.query('platform == @platforms').plot(kind='scatter',x='user_score',y='total_sales',color='DarkBlue',ec='black',title='Влияние оценок пользователей на продажи',xlabel='Оценки пользователей',ylabel='Всего продаж',ax=ax[i+1])\n",
    "    plt.suptitle(platforms)\n",
    "plt.show()"
   ]
  },
  {
   "attachments": {},
   "cell_type": "markdown",
   "metadata": {},
   "source": [
    "**Вывод:** Выводы о корреляции оценок пользователей и критиков на продажи для других платформ подобны. Оценки критиков оказывают большее влияние на продажи, чем пользовательские оценки."
   ]
  },
  {
   "attachments": {},
   "cell_type": "markdown",
   "metadata": {},
   "source": [
    "Потроим распределение игр по жанрам."
   ]
  },
  {
   "cell_type": "code",
   "execution_count": 30,
   "metadata": {
    "scrolled": false
   },
   "outputs": [
    {
     "data": {
      "text/html": [
       "<div>\n",
       "<style scoped>\n",
       "    .dataframe tbody tr th:only-of-type {\n",
       "        vertical-align: middle;\n",
       "    }\n",
       "\n",
       "    .dataframe tbody tr th {\n",
       "        vertical-align: top;\n",
       "    }\n",
       "\n",
       "    .dataframe thead th {\n",
       "        text-align: right;\n",
       "    }\n",
       "</style>\n",
       "<table border=\"1\" class=\"dataframe\">\n",
       "  <thead>\n",
       "    <tr style=\"text-align: right;\">\n",
       "      <th></th>\n",
       "      <th>Кол-во игр</th>\n",
       "      <th>Всего продаж,млн</th>\n",
       "      <th>Средние продажи игры</th>\n",
       "      <th>Медианные продажи игры</th>\n",
       "    </tr>\n",
       "    <tr>\n",
       "      <th>genre</th>\n",
       "      <th></th>\n",
       "      <th></th>\n",
       "      <th></th>\n",
       "      <th></th>\n",
       "    </tr>\n",
       "  </thead>\n",
       "  <tbody>\n",
       "    <tr>\n",
       "      <th>Action</th>\n",
       "      <td>619</td>\n",
       "      <td>199.36</td>\n",
       "      <td>0.322068</td>\n",
       "      <td>0.090</td>\n",
       "    </tr>\n",
       "    <tr>\n",
       "      <th>Role-Playing</th>\n",
       "      <td>221</td>\n",
       "      <td>101.44</td>\n",
       "      <td>0.459005</td>\n",
       "      <td>0.110</td>\n",
       "    </tr>\n",
       "    <tr>\n",
       "      <th>Adventure</th>\n",
       "      <td>185</td>\n",
       "      <td>17.55</td>\n",
       "      <td>0.094865</td>\n",
       "      <td>0.030</td>\n",
       "    </tr>\n",
       "    <tr>\n",
       "      <th>Sports</th>\n",
       "      <td>161</td>\n",
       "      <td>109.48</td>\n",
       "      <td>0.680000</td>\n",
       "      <td>0.180</td>\n",
       "    </tr>\n",
       "    <tr>\n",
       "      <th>Shooter</th>\n",
       "      <td>128</td>\n",
       "      <td>170.94</td>\n",
       "      <td>1.335469</td>\n",
       "      <td>0.515</td>\n",
       "    </tr>\n",
       "    <tr>\n",
       "      <th>Misc</th>\n",
       "      <td>113</td>\n",
       "      <td>37.55</td>\n",
       "      <td>0.332301</td>\n",
       "      <td>0.090</td>\n",
       "    </tr>\n",
       "    <tr>\n",
       "      <th>Racing</th>\n",
       "      <td>69</td>\n",
       "      <td>27.52</td>\n",
       "      <td>0.398841</td>\n",
       "      <td>0.090</td>\n",
       "    </tr>\n",
       "    <tr>\n",
       "      <th>Fighting</th>\n",
       "      <td>60</td>\n",
       "      <td>28.22</td>\n",
       "      <td>0.470333</td>\n",
       "      <td>0.125</td>\n",
       "    </tr>\n",
       "    <tr>\n",
       "      <th>Simulation</th>\n",
       "      <td>44</td>\n",
       "      <td>13.13</td>\n",
       "      <td>0.298409</td>\n",
       "      <td>0.100</td>\n",
       "    </tr>\n",
       "    <tr>\n",
       "      <th>Platform</th>\n",
       "      <td>38</td>\n",
       "      <td>18.09</td>\n",
       "      <td>0.476053</td>\n",
       "      <td>0.140</td>\n",
       "    </tr>\n",
       "    <tr>\n",
       "      <th>Strategy</th>\n",
       "      <td>37</td>\n",
       "      <td>3.96</td>\n",
       "      <td>0.107027</td>\n",
       "      <td>0.060</td>\n",
       "    </tr>\n",
       "    <tr>\n",
       "      <th>Puzzle</th>\n",
       "      <td>14</td>\n",
       "      <td>2.21</td>\n",
       "      <td>0.157857</td>\n",
       "      <td>0.045</td>\n",
       "    </tr>\n",
       "  </tbody>\n",
       "</table>\n",
       "</div>"
      ],
      "text/plain": [
       "              Кол-во игр  Всего продаж,млн  Средние продажи игры  \\\n",
       "genre                                                              \n",
       "Action               619            199.36              0.322068   \n",
       "Role-Playing         221            101.44              0.459005   \n",
       "Adventure            185             17.55              0.094865   \n",
       "Sports               161            109.48              0.680000   \n",
       "Shooter              128            170.94              1.335469   \n",
       "Misc                 113             37.55              0.332301   \n",
       "Racing                69             27.52              0.398841   \n",
       "Fighting              60             28.22              0.470333   \n",
       "Simulation            44             13.13              0.298409   \n",
       "Platform              38             18.09              0.476053   \n",
       "Strategy              37              3.96              0.107027   \n",
       "Puzzle                14              2.21              0.157857   \n",
       "\n",
       "              Медианные продажи игры  \n",
       "genre                                 \n",
       "Action                         0.090  \n",
       "Role-Playing                   0.110  \n",
       "Adventure                      0.030  \n",
       "Sports                         0.180  \n",
       "Shooter                        0.515  \n",
       "Misc                           0.090  \n",
       "Racing                         0.090  \n",
       "Fighting                       0.125  \n",
       "Simulation                     0.100  \n",
       "Platform                       0.140  \n",
       "Strategy                       0.060  \n",
       "Puzzle                         0.045  "
      ]
     },
     "execution_count": 30,
     "metadata": {},
     "output_type": "execute_result"
    }
   ],
   "source": [
    "#pivot_genre = actual_data.pivot_table(index='genre',values=['name','total_sales'],aggfunc={'name':'count','total_sales':'sum'}).sort_values(by='total_sales',ascending=False)\n",
    "#pivot_genre.rename(columns={'name':'Кол-во игр','total_sales':'Всего продаж,млн'},inplace=True)\n",
    "\n",
    "pivot_genre = actual_data.pivot_table(index='genre',values=['total_sales'],aggfunc=['count','sum','mean','median'])#.sort_values(by='count',ascending=False)\n",
    "pivot_genre.columns = ['Кол-во игр','Всего продаж,млн','Средние продажи игры','Медианные продажи игры']\n",
    "\n",
    "pivot_genre.sort_values(by='Кол-во игр',ascending=False)"
   ]
  },
  {
   "cell_type": "code",
   "execution_count": 31,
   "metadata": {},
   "outputs": [
    {
     "data": {
      "image/png": "[encoded data removed]",
      "text/plain": [
       "<Figure size 864x432 with 1 Axes>"
      ]
     },
     "metadata": {
      "needs_background": "light"
     },
     "output_type": "display_data"
    }
   ],
   "source": [
    "plot_3 = pivot_genre.sort_values(by='Кол-во игр',ascending=False).plot(kind='bar',y=['Кол-во игр','Всего продаж,млн'],figsize=(12,6),grid=True,colormap='Paired')\n",
    "plot_3.set_title('Распределение игр по жанрам')\n",
    "plot_3.set_xlabel('Жанр')\n",
    "plt.show()"
   ]
  },
  {
   "cell_type": "code",
   "execution_count": 32,
   "metadata": {},
   "outputs": [
    {
     "data": {
      "image/png": "[encoded data removed]",
      "text/plain": [
       "<Figure size 864x432 with 1 Axes>"
      ]
     },
     "metadata": {
      "needs_background": "light"
     },
     "output_type": "display_data"
    }
   ],
   "source": [
    "plot_4 = pivot_genre.sort_values(by='Средние продажи игры',ascending=False).plot(kind='bar',y=['Средние продажи игры','Медианные продажи игры'],figsize=(12,6),grid=True,colormap='Spectral')\n",
    "plot_4.set_title('Распределение игр по жанрам')\n",
    "plot_4.set_xlabel('Жанр')\n",
    "plt.show()"
   ]
  },
  {
   "cell_type": "code",
   "execution_count": 33,
   "metadata": {},
   "outputs": [
    {
     "data": {
      "image/png": "[encoded data removed]",
      "text/plain": [
       "<Figure size 864x648 with 1 Axes>"
      ]
     },
     "metadata": {
      "needs_background": "light"
     },
     "output_type": "display_data"
    }
   ],
   "source": [
    "plot_5 = actual_data.loc[actual_data['genre'].isin(['Shooter','Action','Sports'])].boxplot(column='total_sales',by='genre',grid=True,figsize=(12,9))\n",
    "plot_5.set_xlabel('Жанр')\n",
    "plt.show()"
   ]
  },
  {
   "attachments": {},
   "cell_type": "markdown",
   "metadata": {},
   "source": [
    "**Вывод:** Больше всего игр по количеству и продажам в жанре Action. Далее по суммарным продажам идет жанр Sports. По суммарным продажам третье место занимают игры в жанре Shooter, однако по количеству выпущенных игр жанр Misc. Достаточно большое количество игр в жанре Adventure, но суммарные продажи довольно низкие.\n",
    "\n",
    "Жанр Shooter по средним и медианным значениям продаж занимает лидирующие положение. Следовательно отдельно взятая игра в жанре Shooter по средним показателям продается лучше. Второе место занимает жанр Sports. Жанр Action по средним продажам занимает лишь 8ое место, по всей видимости такие высокие суммарные продажи достигаются засчет количества игр в этом жанре."
   ]
  },
  {
   "attachments": {},
   "cell_type": "markdown",
   "metadata": {},
   "source": [
    "## Портреты пользователей по отдельным регионам"
   ]
  },
  {
   "attachments": {},
   "cell_type": "markdown",
   "metadata": {},
   "source": [
    "Потроим портреты пользователей разных регионов в зависимости от платформы."
   ]
  },
  {
   "cell_type": "code",
   "execution_count": 34,
   "metadata": {},
   "outputs": [],
   "source": [
    "eu_users = actual_data.pivot_table(index='platform',values='eu_sales',aggfunc='sum').sort_values(by='eu_sales',ascending=False).head()\n",
    "na_users = actual_data.pivot_table(index='platform',values='na_sales',aggfunc='sum').sort_values(by='na_sales',ascending=False).head()\n",
    "jp_users = actual_data.pivot_table(index='platform',values='jp_sales',aggfunc='sum').sort_values(by='jp_sales',ascending=False).head()"
   ]
  },
  {
   "cell_type": "code",
   "execution_count": 35,
   "metadata": {},
   "outputs": [
    {
     "data": {
      "image/png": "[encoded data removed]",
      "text/plain": [
       "<Figure size 1296x432 with 3 Axes>"
      ]
     },
     "metadata": {
      "needs_background": "light"
     },
     "output_type": "display_data"
    }
   ],
   "source": [
    "fig, ax = plt.subplots(1, 3, figsize=(18,6))\n",
    "\n",
    "eu_users.plot(kind='bar',grid=True,colormap='Dark2',title='Продажи в Европе по платформе',xlabel='Платформа',rot=0, ax=ax[0])\n",
    "na_users.plot(kind='bar',grid=True,colormap='seismic',title='Продажи в Северной Америке по платформе',xlabel='Платформа',rot=0,ax=ax[1])\n",
    "jp_users.plot(kind='bar',grid=True,colormap='Oranges_r',title='Продажи в Японии по платформе',xlabel='Платформа',rot=0,ax=ax[2])\n",
    "plt.show()"
   ]
  },
  {
   "attachments": {},
   "cell_type": "markdown",
   "metadata": {},
   "source": [
    "Потроим портреты пользователей разных регионов в зависимости от жанров."
   ]
  },
  {
   "cell_type": "code",
   "execution_count": 36,
   "metadata": {},
   "outputs": [],
   "source": [
    "eu_genre = actual_data.pivot_table(index='genre',values='eu_sales',aggfunc='sum').sort_values(by='eu_sales',ascending=False).head()\n",
    "na_genre = actual_data.pivot_table(index='genre',values='na_sales',aggfunc='sum').sort_values(by='na_sales',ascending=False).head()\n",
    "jp_genre = actual_data.pivot_table(index='genre',values='jp_sales',aggfunc='sum').sort_values(by='jp_sales',ascending=False).head()"
   ]
  },
  {
   "cell_type": "code",
   "execution_count": 37,
   "metadata": {},
   "outputs": [
    {
     "data": {
      "image/png": "[encoded data removed]",
      "text/plain": [
       "<Figure size 1296x432 with 3 Axes>"
      ]
     },
     "metadata": {
      "needs_background": "light"
     },
     "output_type": "display_data"
    }
   ],
   "source": [
    "fig, ax = plt.subplots(1, 3, figsize=(18,6))\n",
    "\n",
    "eu_genre.plot(kind='bar',grid=True,colormap='Dark2',title='Продажи в Европе по жанру',xlabel='Жанр',rot=0, ax=ax[0])\n",
    "na_genre.plot(kind='bar',grid=True,colormap='seismic',title='Продажи в Северной Америке по жанру',xlabel='Жанр',rot=0,ax=ax[1])\n",
    "jp_genre.plot(kind='bar',grid=True,colormap='Oranges_r',title='Продажи в Японии по по жанру',xlabel='Жанр',rot=0,ax=ax[2])\n",
    "plt.show()"
   ]
  },
  {
   "attachments": {},
   "cell_type": "markdown",
   "metadata": {},
   "source": [
    "Потроим портреты пользователей разных регионов в зависимости от рейтинга ESRB."
   ]
  },
  {
   "attachments": {},
   "cell_type": "markdown",
   "metadata": {},
   "source": [
    "Расшифровки рейтингов организации Entertainment Software Rating Board (**ESRB**):\n",
    "\n",
    "**«EC» («Early childhood»)** — «Для детей младшего возраста»\n",
    "\n",
    "**«E» («Everyone»)** — «Для всех»\n",
    "\n",
    "**«E10+» («Everyone 10 and older»)** — «Для всех от 10 лет и старше»\n",
    "\n",
    "**«T» («Teen»)** — «Подросткам»: Игра подходит для лиц от 13 лет.\n",
    "\n",
    "**«M» («Mature»)** — «Для взрослых»\n",
    "\n",
    "**«AO» («Adults Only 18+»)** — «Только для взрослых»\n",
    "\n",
    "**«RP» («Rating Pending»)** — «Рейтинг ожидается»\n",
    "\n",
    "**«RP 17+» («Rating Pending»)** — «Рейтинг ожидается - примерно 17+»"
   ]
  },
  {
   "cell_type": "code",
   "execution_count": 38,
   "metadata": {},
   "outputs": [],
   "source": [
    "eu_rating = actual_data.pivot_table(index='rating',values='eu_sales',aggfunc='sum').sort_values(by='eu_sales',ascending=False).head()\n",
    "na_rating= actual_data.pivot_table(index='rating',values='na_sales',aggfunc='sum').sort_values(by='na_sales',ascending=False).head()\n",
    "jp_rating = actual_data.pivot_table(index='rating',values='jp_sales',aggfunc='sum').sort_values(by='jp_sales',ascending=False).head()"
   ]
  },
  {
   "cell_type": "code",
   "execution_count": 39,
   "metadata": {},
   "outputs": [
    {
     "data": {
      "image/png": "[encoded data removed]",
      "text/plain": [
       "<Figure size 1296x432 with 3 Axes>"
      ]
     },
     "metadata": {
      "needs_background": "light"
     },
     "output_type": "display_data"
    }
   ],
   "source": [
    "fig, ax = plt.subplots(1, 3, figsize=(18,6))\n",
    "\n",
    "eu_rating.plot(kind='bar',grid=True,colormap='Dark2',title='Продажи в Европе по рейтингу ESRB',xlabel='ESRB',rot=0, ax=ax[0])\n",
    "na_rating.plot(kind='bar',grid=True,colormap='seismic',title='Продажи в Северной Америке по рейтингу ESRB',xlabel='ESRB',rot=0,ax=ax[1])\n",
    "jp_rating.plot(kind='bar',grid=True,colormap='Oranges_r',title='Продажи в Японии по рейтингу ESRB',xlabel='ESRB',rot=0,ax=ax[2])\n",
    "plt.show()"
   ]
  },
  {
   "attachments": {},
   "cell_type": "markdown",
   "metadata": {},
   "source": [
    "**Вывод:** По платформам в Европе первые и вторые места занимают PS4 и XboxOne соответственно. В Европе помимо консолей отдают предпочтение PC. В Японии большее предпочтение отдают портативным консолям, причем весь топ 5 платформ это \"отечественные\" для них консоли компаний Nintendo и Sony.\n",
    "\n",
    "В Европе на первом месте игры в жанре Action, в Северной Америке больше отдают предпочтение Shooter. В Японии ситуация отличается первое место занимает жанр Role-Playing, на третьем месте Fighting. Жанр Shooter и Sports не так популярны. \n",
    "\n",
    "По рейтингу ESRB распределение продаж в Европе и Северной Америке схожие, явно преобладают игры с рейтингом «M» («Mature»). В Японии ситуация отличается преобладают игры с рейтингом «T» («Teen»), а игры с категорией «M» занимают лишь третье место."
   ]
  },
  {
   "attachments": {},
   "cell_type": "markdown",
   "metadata": {},
   "source": [
    "## Статистический анализ"
   ]
  },
  {
   "attachments": {},
   "cell_type": "markdown",
   "metadata": {},
   "source": [
    "Зададимся значением alpha."
   ]
  },
  {
   "cell_type": "code",
   "execution_count": 40,
   "metadata": {},
   "outputs": [],
   "source": [
    "alpha = 0.05"
   ]
  },
  {
   "cell_type": "code",
   "execution_count": 41,
   "metadata": {},
   "outputs": [],
   "source": [
    "def hypotesis_test(alpha,sample_1,sample_2):\n",
    "    results = st.ttest_ind(sample_1, sample_2, equal_var=False,nan_policy='omit')\n",
    "    print(f'Среднее значение первой выборки : ', sample_1.mean())\n",
    "    print('Среднее значение второй выборки: ', sample_2.mean())\n",
    "    print('p-значение: ', results.pvalue)\n",
    "    if results.pvalue < alpha:\n",
    "        print(\"Отвергаем нулевую гипотезу\")\n",
    "\n",
    "    else:\n",
    "        print(\"Не получилось отвергнуть нулевую гипотезу\") "
   ]
  },
  {
   "attachments": {},
   "cell_type": "markdown",
   "metadata": {},
   "source": [
    "Выдвинем нулевую и альтернативную гипотезы.\n",
    "\n",
    "H0: средние пользовательские рейтинги платформ Xbox One и PC одинаковые.\n",
    "\n",
    "H1: средние пользовательские рейтинги платформ Xbox One и PC разные."
   ]
  },
  {
   "cell_type": "code",
   "execution_count": 42,
   "metadata": {},
   "outputs": [],
   "source": [
    "xone_score = actual_data[actual_data['platform'] == 'XOne']['user_score']\n",
    "pc_score = actual_data[actual_data['platform'] == 'PC']['user_score']"
   ]
  },
  {
   "cell_type": "code",
   "execution_count": 43,
   "metadata": {},
   "outputs": [
    {
     "name": "stdout",
     "output_type": "stream",
     "text": [
      "Среднее значение первой выборки :  6.5945454\n",
      "Среднее значение второй выборки:  6.2983603\n",
      "p-значение:  0.11601379428432244\n",
      "Не получилось отвергнуть нулевую гипотезу\n"
     ]
    }
   ],
   "source": [
    "hypotesis_test(alpha,xone_score,pc_score)"
   ]
  },
  {
   "attachments": {},
   "cell_type": "markdown",
   "metadata": {},
   "source": [
    "Выдвинем нулевую и альтернативную гипотезы.\n",
    "\n",
    "H0: средние пользовательские рейтинги жанров Action и Sports одинаковые.\n",
    "\n",
    "H1: средние пользовательские рейтинги жанров Action и Sports разные.    "
   ]
  },
  {
   "cell_type": "code",
   "execution_count": 44,
   "metadata": {},
   "outputs": [],
   "source": [
    "action_score = actual_data[actual_data['genre'] == 'Action']['user_score']\n",
    "sports_score = actual_data[actual_data['genre'] == 'Sports']['user_score']"
   ]
  },
  {
   "cell_type": "code",
   "execution_count": 45,
   "metadata": {},
   "outputs": [
    {
     "name": "stdout",
     "output_type": "stream",
     "text": [
      "Среднее значение первой выборки :  6.760606\n",
      "Среднее значение второй выборки:  5.2251973\n",
      "p-значение:  1.1825796838209195e-14\n",
      "Отвергаем нулевую гипотезу\n"
     ]
    }
   ],
   "source": [
    "hypotesis_test(alpha,action_score,sports_score)"
   ]
  },
  {
   "attachments": {},
   "cell_type": "markdown",
   "metadata": {},
   "source": [
    "**Вывод:** \n",
    "\n",
    "\n",
    "\n",
    "\n",
    "Нулевую гипотезу о том средние пользовательские рейтинги платформ Xbox One и PC одинаковые не получилось отвергнуть. В случае пользовательских рейтингов жанров придерживаемся альтернативной гипотезы о том, что средние пользовательские рейтинги жанров Action и Sports разные.\n"
   ]
  },
  {
   "attachments": {},
   "cell_type": "markdown",
   "metadata": {},
   "source": [
    "## Общий вывод"
   ]
  },
  {
   "attachments": {},
   "cell_type": "markdown",
   "metadata": {},
   "source": [
    "Рост количества выпускаемых игр наблюдается с 1994 года. Пиковые значения наблюдались в 2008 и 2009 годах. Наблюдается значительный рост в 2016 году по сравнению с предыдущим.\n",
    "\n",
    "На текущий рассматриваемый момент по суммарным продажам игр за все время лидирует консоль PS2. Второе и третье места делят Xbox360 и PS3, еще недавно актуальные поколения консолей. Далее DS и Wii. Актуальная на рассматриваемый момент PS4 еще только набирает обороты по продажам.\n",
    "\n",
    "Основной период жизни платформы порядка 5-6 лет.\n",
    "\n",
    "Медианные значения продаж у топовых платформ лежит в диапазоне 0,15 до 0,25 млн за игру. Выбросы наблюдаются у всех платформ, в отдельных случаях достигают порядка 15 млн. Показатели у 3DS ниже остальных.\n",
    "\n",
    "Для консолей есть корреляция продаж с оценками критиков. Это может быть обусловлено тем, что пользователи прислушиваются к мнению известных критиков, которые часто сопровождают свои оценки детальными обзорами на игры. Корреляция с оценками пользователей довольно низкая. Оценки критиков оказывают большее влияние на продажи, чем пользовательские оценки.\n",
    "\n",
    "Больше всего игр по количеству и продажам в жанре Action. Далее по суммарным продажам идет жанр Sports. По суммарным продажам третье место занимают игры в жанре Shooter, однако по количеству выпущенных игр жанр Misc. Достаточно большое количество игр в жанре Adventure, но суммарные продажи довольно низкие.\n",
    "\n",
    "Жанр Shooter по средним и медианным значениям продаж занимает лидирующие положение. Следовательно отдельно взятая игра в жанре Shooter по средним показателям продается лучше. Второе место занимает жанр Sports. Жанр Action по средним продажам занимает лишь 8ое место, по всей видимости такие высокие суммарные продажи достигаются засчет количества игр в этом жанре.\n",
    "\n",
    "По платформам в Европе первые и вторые места занимают PS4 и XboxOne соответственно. В Европе помимо консолей отдают предпочтение PC. В Японии большее предпочтение отдают портативным консолям, причем весь топ 5 платформ это \"отечественные\" для них консоли компаний Nintendo и Sony.\n",
    "\n",
    "В Европе на первом месте игры в жанре Action, в Северной Америке больше отдают предпочтение Shooter. В Японии ситуация отличается первое место занимает жанр Role-Playing, на третьем месте Fighting. Жанр Shooter и Sports не так популярны.\n",
    "\n",
    "По рейтингу ESRB распределение продаж в Европе и Северной Америке схожие, явно преобладают игры с рейтингом «M» («Mature»). В Японии ситуация отличается преобладают игры с рейтингом «T» («Teen»), а игры с категорией «M» занимают лишь третье место.\n",
    "\n",
    "Нулевую гипотезу о том средние пользовательские рейтинги платформ Xbox One и PC одинаковые не получилось отвергнуть. В случае пользовательских рейтингов жанров придерживаемся альтернативной гипотезы о том, что средние пользовательские рейтинги жанров Action и Sports разные."
   ]
  }
 ],
 "metadata": {
  "ExecuteTimeLog": [
   {
    "duration": 1206,
    "start_time": "2022-10-17T08:58:38.158Z"
   },
   {
    "duration": 125,
    "start_time": "2022-10-17T08:58:40.045Z"
   },
   {
    "duration": 71,
    "start_time": "2022-10-17T08:58:58.203Z"
   },
   {
    "duration": 16,
    "start_time": "2022-10-17T08:59:01.253Z"
   },
   {
    "duration": 17,
    "start_time": "2022-10-17T08:59:03.741Z"
   },
   {
    "duration": 53,
    "start_time": "2022-10-17T09:04:16.385Z"
   },
   {
    "duration": 11,
    "start_time": "2022-10-17T10:13:53.352Z"
   },
   {
    "duration": 51,
    "start_time": "2022-10-17T10:14:26.631Z"
   },
   {
    "duration": 48,
    "start_time": "2022-10-17T10:14:30.454Z"
   },
   {
    "duration": 14,
    "start_time": "2022-10-17T10:14:38.767Z"
   },
   {
    "duration": 16,
    "start_time": "2022-10-17T10:14:49.127Z"
   },
   {
    "duration": 16,
    "start_time": "2022-10-17T10:14:52.584Z"
   },
   {
    "duration": 24,
    "start_time": "2022-10-17T10:14:58.521Z"
   },
   {
    "duration": 14,
    "start_time": "2022-10-17T10:16:15.721Z"
   },
   {
    "duration": 16,
    "start_time": "2022-10-17T10:16:33.422Z"
   },
   {
    "duration": 15,
    "start_time": "2022-10-17T10:16:41.434Z"
   },
   {
    "duration": 14,
    "start_time": "2022-10-17T10:33:07.245Z"
   },
   {
    "duration": 8,
    "start_time": "2022-10-17T10:33:28.487Z"
   },
   {
    "duration": 6,
    "start_time": "2022-10-17T10:33:48.746Z"
   },
   {
    "duration": 5,
    "start_time": "2022-10-17T10:33:55.706Z"
   },
   {
    "duration": 7,
    "start_time": "2022-10-17T10:34:05.593Z"
   },
   {
    "duration": 7,
    "start_time": "2022-10-17T10:34:19.930Z"
   },
   {
    "duration": 10,
    "start_time": "2022-10-17T10:34:50.915Z"
   },
   {
    "duration": 5,
    "start_time": "2022-10-17T10:34:56.987Z"
   },
   {
    "duration": 6,
    "start_time": "2022-10-17T10:35:03.611Z"
   },
   {
    "duration": 20,
    "start_time": "2022-10-17T11:56:49.189Z"
   },
   {
    "duration": 14,
    "start_time": "2022-10-17T11:57:18.672Z"
   },
   {
    "duration": 4,
    "start_time": "2022-10-17T11:57:47.925Z"
   },
   {
    "duration": 13,
    "start_time": "2022-10-17T11:57:59.894Z"
   },
   {
    "duration": 3,
    "start_time": "2022-10-17T11:58:54.456Z"
   },
   {
    "duration": 6,
    "start_time": "2022-10-17T12:33:57.394Z"
   },
   {
    "duration": 8,
    "start_time": "2022-10-17T12:37:03.684Z"
   },
   {
    "duration": 58,
    "start_time": "2022-10-17T13:41:22.937Z"
   },
   {
    "duration": 10,
    "start_time": "2022-10-17T13:41:58.019Z"
   },
   {
    "duration": 9,
    "start_time": "2022-10-17T13:42:08.651Z"
   },
   {
    "duration": 6,
    "start_time": "2022-10-17T13:42:25.099Z"
   },
   {
    "duration": 9,
    "start_time": "2022-10-17T13:42:31.699Z"
   },
   {
    "duration": 6,
    "start_time": "2022-10-17T13:42:38.593Z"
   },
   {
    "duration": 7,
    "start_time": "2022-10-17T13:42:45.964Z"
   },
   {
    "duration": 10,
    "start_time": "2022-10-17T13:45:03.423Z"
   },
   {
    "duration": 8,
    "start_time": "2022-10-17T14:06:01.197Z"
   },
   {
    "duration": 23,
    "start_time": "2022-10-17T14:06:20.886Z"
   },
   {
    "duration": 21,
    "start_time": "2022-10-17T14:24:09.537Z"
   },
   {
    "duration": 12,
    "start_time": "2022-10-17T14:24:54.673Z"
   },
   {
    "duration": 37,
    "start_time": "2022-10-17T14:25:04.185Z"
   },
   {
    "duration": 12,
    "start_time": "2022-10-17T14:25:32.570Z"
   },
   {
    "duration": 45,
    "start_time": "2022-10-17T14:26:39.715Z"
   },
   {
    "duration": 6,
    "start_time": "2022-10-17T14:26:43.908Z"
   },
   {
    "duration": 40,
    "start_time": "2022-10-17T14:32:41.419Z"
   },
   {
    "duration": 12,
    "start_time": "2022-10-17T14:33:10.204Z"
   },
   {
    "duration": 50,
    "start_time": "2022-10-17T14:33:19.908Z"
   },
   {
    "duration": 13,
    "start_time": "2022-10-17T14:34:18.373Z"
   },
   {
    "duration": 26,
    "start_time": "2022-10-17T14:34:53.172Z"
   },
   {
    "duration": 8,
    "start_time": "2022-10-17T14:35:05.183Z"
   },
   {
    "duration": 10,
    "start_time": "2022-10-17T14:35:45.896Z"
   },
   {
    "duration": 3,
    "start_time": "2022-10-17T14:35:49.936Z"
   },
   {
    "duration": 27,
    "start_time": "2022-10-17T14:35:55.015Z"
   },
   {
    "duration": 8,
    "start_time": "2022-10-17T14:36:09.041Z"
   },
   {
    "duration": 13,
    "start_time": "2022-10-17T14:36:12.976Z"
   },
   {
    "duration": 43,
    "start_time": "2022-10-17T14:38:39.085Z"
   },
   {
    "duration": 6,
    "start_time": "2022-10-17T14:52:44.895Z"
   },
   {
    "duration": 6,
    "start_time": "2022-10-17T15:58:48.156Z"
   },
   {
    "duration": 1073,
    "start_time": "2022-10-17T16:00:11.303Z"
   },
   {
    "duration": 46,
    "start_time": "2022-10-17T16:00:12.378Z"
   },
   {
    "duration": 14,
    "start_time": "2022-10-17T16:00:12.425Z"
   },
   {
    "duration": 15,
    "start_time": "2022-10-17T16:00:12.441Z"
   },
   {
    "duration": 71,
    "start_time": "2022-10-17T16:00:12.458Z"
   },
   {
    "duration": 4,
    "start_time": "2022-10-17T16:00:12.531Z"
   },
   {
    "duration": 16,
    "start_time": "2022-10-17T16:00:12.537Z"
   },
   {
    "duration": 23,
    "start_time": "2022-10-17T16:00:12.555Z"
   },
   {
    "duration": 12,
    "start_time": "2022-10-17T16:00:12.579Z"
   },
   {
    "duration": 27,
    "start_time": "2022-10-17T16:00:12.594Z"
   },
   {
    "duration": 30,
    "start_time": "2022-10-17T16:00:12.623Z"
   },
   {
    "duration": 19,
    "start_time": "2022-10-17T16:00:12.655Z"
   },
   {
    "duration": 6,
    "start_time": "2022-10-17T16:00:12.676Z"
   },
   {
    "duration": 12,
    "start_time": "2022-10-17T16:00:12.684Z"
   },
   {
    "duration": 9,
    "start_time": "2022-10-17T16:01:09.769Z"
   },
   {
    "duration": 1216,
    "start_time": "2022-10-17T16:01:30.584Z"
   },
   {
    "duration": 64,
    "start_time": "2022-10-17T16:01:31.802Z"
   },
   {
    "duration": 16,
    "start_time": "2022-10-17T16:01:31.868Z"
   },
   {
    "duration": 74,
    "start_time": "2022-10-17T16:01:31.885Z"
   },
   {
    "duration": 97,
    "start_time": "2022-10-17T16:01:31.961Z"
   },
   {
    "duration": 4,
    "start_time": "2022-10-17T16:01:32.060Z"
   },
   {
    "duration": 13,
    "start_time": "2022-10-17T16:01:32.065Z"
   },
   {
    "duration": 26,
    "start_time": "2022-10-17T16:01:32.079Z"
   },
   {
    "duration": 58,
    "start_time": "2022-10-17T16:01:32.107Z"
   },
   {
    "duration": 9,
    "start_time": "2022-10-17T16:01:32.167Z"
   },
   {
    "duration": 32,
    "start_time": "2022-10-17T16:01:32.178Z"
   },
   {
    "duration": 45,
    "start_time": "2022-10-17T16:01:32.212Z"
   },
   {
    "duration": 6,
    "start_time": "2022-10-17T16:01:32.259Z"
   },
   {
    "duration": 7,
    "start_time": "2022-10-17T16:01:32.267Z"
   },
   {
    "duration": 181,
    "start_time": "2022-10-17T16:04:25.323Z"
   },
   {
    "duration": 167,
    "start_time": "2022-10-17T16:06:27.572Z"
   },
   {
    "duration": 217,
    "start_time": "2022-10-17T16:06:42.626Z"
   },
   {
    "duration": 169,
    "start_time": "2022-10-17T16:06:50.123Z"
   },
   {
    "duration": 236,
    "start_time": "2022-10-17T16:07:46.358Z"
   },
   {
    "duration": 174,
    "start_time": "2022-10-17T16:07:58.543Z"
   },
   {
    "duration": 186,
    "start_time": "2022-10-17T16:08:33.644Z"
   },
   {
    "duration": 244,
    "start_time": "2022-10-17T16:08:42.630Z"
   },
   {
    "duration": 215,
    "start_time": "2022-10-17T16:08:53.427Z"
   },
   {
    "duration": 234,
    "start_time": "2022-10-17T16:09:01.243Z"
   },
   {
    "duration": 240,
    "start_time": "2022-10-17T16:09:13.724Z"
   },
   {
    "duration": 316,
    "start_time": "2022-10-17T16:09:20.008Z"
   },
   {
    "duration": 187,
    "start_time": "2022-10-17T16:10:10.941Z"
   },
   {
    "duration": 237,
    "start_time": "2022-10-17T16:10:29.090Z"
   },
   {
    "duration": 205,
    "start_time": "2022-10-17T16:10:48.099Z"
   },
   {
    "duration": 306,
    "start_time": "2022-10-17T16:22:49.422Z"
   },
   {
    "duration": 224,
    "start_time": "2022-10-17T16:23:03.051Z"
   },
   {
    "duration": 230,
    "start_time": "2022-10-17T16:30:46.965Z"
   },
   {
    "duration": 256,
    "start_time": "2022-10-17T16:30:56.605Z"
   },
   {
    "duration": 440,
    "start_time": "2022-10-17T16:31:07.366Z"
   },
   {
    "duration": 320,
    "start_time": "2022-10-17T16:51:36.306Z"
   },
   {
    "duration": 320,
    "start_time": "2022-10-17T16:51:46.892Z"
   },
   {
    "duration": 10,
    "start_time": "2022-10-17T16:55:47.503Z"
   },
   {
    "duration": 10,
    "start_time": "2022-10-17T16:56:10.800Z"
   },
   {
    "duration": 15,
    "start_time": "2022-10-17T16:56:24.672Z"
   },
   {
    "duration": 9,
    "start_time": "2022-10-17T16:57:01.857Z"
   },
   {
    "duration": 5,
    "start_time": "2022-10-17T16:57:08.945Z"
   },
   {
    "duration": 32,
    "start_time": "2022-10-17T16:57:43.056Z"
   },
   {
    "duration": 18,
    "start_time": "2022-10-17T16:58:17.260Z"
   },
   {
    "duration": 119,
    "start_time": "2022-10-17T16:58:41.444Z"
   },
   {
    "duration": 15,
    "start_time": "2022-10-17T16:58:46.404Z"
   },
   {
    "duration": 19,
    "start_time": "2022-10-17T16:59:09.364Z"
   },
   {
    "duration": 321,
    "start_time": "2022-10-17T17:00:18.453Z"
   },
   {
    "duration": 198,
    "start_time": "2022-10-17T17:00:29.846Z"
   },
   {
    "duration": 214,
    "start_time": "2022-10-17T17:01:20.151Z"
   },
   {
    "duration": 192,
    "start_time": "2022-10-17T17:01:29.247Z"
   },
   {
    "duration": 298,
    "start_time": "2022-10-17T17:02:57.178Z"
   },
   {
    "duration": 299,
    "start_time": "2022-10-17T17:03:23.634Z"
   },
   {
    "duration": 13,
    "start_time": "2022-10-17T17:03:42.671Z"
   },
   {
    "duration": 291,
    "start_time": "2022-10-17T17:03:45.083Z"
   },
   {
    "duration": 16,
    "start_time": "2022-10-17T17:03:53.842Z"
   },
   {
    "duration": 674,
    "start_time": "2022-10-17T17:25:58.617Z"
   },
   {
    "duration": 16,
    "start_time": "2022-10-17T17:26:10.938Z"
   },
   {
    "duration": 12,
    "start_time": "2022-10-17T17:27:35.012Z"
   },
   {
    "duration": 14,
    "start_time": "2022-10-17T17:27:49.780Z"
   },
   {
    "duration": 140,
    "start_time": "2022-10-17T17:29:56.156Z"
   },
   {
    "duration": 17,
    "start_time": "2022-10-17T17:30:41.920Z"
   },
   {
    "duration": 137,
    "start_time": "2022-10-17T17:31:05.297Z"
   },
   {
    "duration": 21,
    "start_time": "2022-10-17T17:31:27.017Z"
   },
   {
    "duration": 904,
    "start_time": "2022-10-17T17:31:58.050Z"
   },
   {
    "duration": 15,
    "start_time": "2022-10-17T17:32:52.941Z"
   },
   {
    "duration": 739,
    "start_time": "2022-10-17T17:41:07.895Z"
   },
   {
    "duration": 1059,
    "start_time": "2022-10-17T17:41:19.887Z"
   },
   {
    "duration": 20,
    "start_time": "2022-10-17T17:41:34.919Z"
   },
   {
    "duration": 1079,
    "start_time": "2022-10-17T17:41:39.391Z"
   },
   {
    "duration": 3439,
    "start_time": "2022-10-17T17:41:46.871Z"
   },
   {
    "duration": 308,
    "start_time": "2022-10-17T17:42:19.136Z"
   },
   {
    "duration": 35,
    "start_time": "2022-10-17T17:53:32.728Z"
   },
   {
    "duration": 336,
    "start_time": "2022-10-17T17:53:42.633Z"
   },
   {
    "duration": 16,
    "start_time": "2022-10-17T17:58:17.430Z"
   },
   {
    "duration": 143,
    "start_time": "2022-10-17T17:58:26.358Z"
   },
   {
    "duration": 146,
    "start_time": "2022-10-17T17:59:18.191Z"
   },
   {
    "duration": 295,
    "start_time": "2022-10-17T17:59:38.129Z"
   },
   {
    "duration": 28,
    "start_time": "2022-10-17T18:00:43.217Z"
   },
   {
    "duration": 29,
    "start_time": "2022-10-17T18:00:55.209Z"
   },
   {
    "duration": 30,
    "start_time": "2022-10-17T18:00:59.187Z"
   },
   {
    "duration": 7,
    "start_time": "2022-10-17T18:01:09.338Z"
   },
   {
    "duration": 11,
    "start_time": "2022-10-17T19:35:17.995Z"
   },
   {
    "duration": 96,
    "start_time": "2022-10-17T19:35:32.956Z"
   },
   {
    "duration": 23,
    "start_time": "2022-10-17T19:37:12.926Z"
   },
   {
    "duration": 15,
    "start_time": "2022-10-17T19:37:17.638Z"
   },
   {
    "duration": 2530,
    "start_time": "2022-10-17T19:37:26.454Z"
   },
   {
    "duration": 2816,
    "start_time": "2022-10-17T19:37:35.384Z"
   },
   {
    "duration": 2697,
    "start_time": "2022-10-17T19:38:15.599Z"
   },
   {
    "duration": 25,
    "start_time": "2022-10-17T19:39:01.674Z"
   },
   {
    "duration": 480,
    "start_time": "2022-10-17T19:39:15.313Z"
   },
   {
    "duration": 515,
    "start_time": "2022-10-17T19:40:06.003Z"
   },
   {
    "duration": 452,
    "start_time": "2022-10-17T19:40:20.564Z"
   },
   {
    "duration": 481,
    "start_time": "2022-10-17T19:40:45.449Z"
   },
   {
    "duration": 87,
    "start_time": "2022-10-17T20:04:53.037Z"
   },
   {
    "duration": 50,
    "start_time": "2022-10-17T20:13:05.801Z"
   },
   {
    "duration": 1174,
    "start_time": "2022-10-17T20:13:09.185Z"
   },
   {
    "duration": 992,
    "start_time": "2022-10-17T20:13:34.783Z"
   },
   {
    "duration": 925,
    "start_time": "2022-10-17T20:13:50.138Z"
   },
   {
    "duration": 3,
    "start_time": "2022-10-17T20:13:53.418Z"
   },
   {
    "duration": 1225,
    "start_time": "2022-10-18T16:26:52.677Z"
   },
   {
    "duration": 195,
    "start_time": "2022-10-18T16:26:53.904Z"
   },
   {
    "duration": 17,
    "start_time": "2022-10-18T16:26:54.100Z"
   },
   {
    "duration": 20,
    "start_time": "2022-10-18T16:26:54.119Z"
   },
   {
    "duration": 47,
    "start_time": "2022-10-18T16:26:54.141Z"
   },
   {
    "duration": 3,
    "start_time": "2022-10-18T16:26:54.189Z"
   },
   {
    "duration": 7,
    "start_time": "2022-10-18T16:26:54.194Z"
   },
   {
    "duration": 9,
    "start_time": "2022-10-18T16:26:54.203Z"
   },
   {
    "duration": 8,
    "start_time": "2022-10-18T16:26:54.213Z"
   },
   {
    "duration": 8,
    "start_time": "2022-10-18T16:26:54.223Z"
   },
   {
    "duration": 11,
    "start_time": "2022-10-18T16:26:54.233Z"
   },
   {
    "duration": 41,
    "start_time": "2022-10-18T16:26:54.245Z"
   },
   {
    "duration": 4,
    "start_time": "2022-10-18T16:26:54.287Z"
   },
   {
    "duration": 326,
    "start_time": "2022-10-18T16:26:54.293Z"
   },
   {
    "duration": 15,
    "start_time": "2022-10-18T16:26:54.620Z"
   },
   {
    "duration": 302,
    "start_time": "2022-10-18T16:26:54.636Z"
   },
   {
    "duration": 523,
    "start_time": "2022-10-18T16:26:54.940Z"
   },
   {
    "duration": 456,
    "start_time": "2022-10-18T16:26:55.464Z"
   },
   {
    "duration": 3,
    "start_time": "2022-10-18T16:26:55.921Z"
   },
   {
    "duration": 33,
    "start_time": "2022-10-18T16:26:55.925Z"
   },
   {
    "duration": 82,
    "start_time": "2022-10-18T16:26:55.960Z"
   },
   {
    "duration": 304,
    "start_time": "2022-10-18T16:27:50.087Z"
   },
   {
    "duration": 386,
    "start_time": "2022-10-18T16:29:28.674Z"
   },
   {
    "duration": 376,
    "start_time": "2022-10-18T18:14:49.365Z"
   },
   {
    "duration": 13,
    "start_time": "2022-10-18T18:15:45.422Z"
   },
   {
    "duration": 9,
    "start_time": "2022-10-18T18:16:04.214Z"
   },
   {
    "duration": 43,
    "start_time": "2022-10-18T18:16:18.582Z"
   },
   {
    "duration": 392,
    "start_time": "2022-10-18T18:17:15.575Z"
   },
   {
    "duration": 399,
    "start_time": "2022-10-18T18:19:47.730Z"
   },
   {
    "duration": 10,
    "start_time": "2022-10-18T18:20:05.946Z"
   },
   {
    "duration": 335,
    "start_time": "2022-10-18T18:20:12.411Z"
   },
   {
    "duration": 502,
    "start_time": "2022-10-18T18:20:20.227Z"
   },
   {
    "duration": 111,
    "start_time": "2022-10-18T19:03:08.366Z"
   },
   {
    "duration": 98,
    "start_time": "2022-10-18T19:03:55.404Z"
   },
   {
    "duration": 112,
    "start_time": "2022-10-18T19:04:43.773Z"
   },
   {
    "duration": 9,
    "start_time": "2022-10-18T19:06:48.311Z"
   },
   {
    "duration": 13,
    "start_time": "2022-10-18T19:20:02.458Z"
   },
   {
    "duration": 13,
    "start_time": "2022-10-18T19:20:32.050Z"
   },
   {
    "duration": 14,
    "start_time": "2022-10-18T19:25:04.343Z"
   },
   {
    "duration": 82,
    "start_time": "2022-10-18T19:25:30.034Z"
   },
   {
    "duration": 120,
    "start_time": "2022-10-18T19:25:33.954Z"
   },
   {
    "duration": 11,
    "start_time": "2022-10-18T19:50:09.785Z"
   },
   {
    "duration": 10,
    "start_time": "2022-10-18T20:09:55.286Z"
   },
   {
    "duration": 199,
    "start_time": "2022-10-18T20:10:07.495Z"
   },
   {
    "duration": 1266,
    "start_time": "2022-10-19T15:05:13.478Z"
   },
   {
    "duration": 71,
    "start_time": "2022-10-19T15:05:14.746Z"
   },
   {
    "duration": 16,
    "start_time": "2022-10-19T15:05:14.818Z"
   },
   {
    "duration": 17,
    "start_time": "2022-10-19T15:05:14.835Z"
   },
   {
    "duration": 60,
    "start_time": "2022-10-19T15:05:14.853Z"
   },
   {
    "duration": 3,
    "start_time": "2022-10-19T15:05:14.914Z"
   },
   {
    "duration": 10,
    "start_time": "2022-10-19T15:05:14.918Z"
   },
   {
    "duration": 10,
    "start_time": "2022-10-19T15:05:14.929Z"
   },
   {
    "duration": 8,
    "start_time": "2022-10-19T15:05:14.941Z"
   },
   {
    "duration": 7,
    "start_time": "2022-10-19T15:05:14.951Z"
   },
   {
    "duration": 8,
    "start_time": "2022-10-19T15:05:14.959Z"
   },
   {
    "duration": 40,
    "start_time": "2022-10-19T15:05:14.969Z"
   },
   {
    "duration": 4,
    "start_time": "2022-10-19T15:05:15.011Z"
   },
   {
    "duration": 333,
    "start_time": "2022-10-19T15:05:15.017Z"
   },
   {
    "duration": 14,
    "start_time": "2022-10-19T15:05:15.352Z"
   },
   {
    "duration": 302,
    "start_time": "2022-10-19T15:05:15.368Z"
   },
   {
    "duration": 528,
    "start_time": "2022-10-19T15:05:15.672Z"
   },
   {
    "duration": 413,
    "start_time": "2022-10-19T15:05:16.202Z"
   },
   {
    "duration": 2,
    "start_time": "2022-10-19T15:05:16.617Z"
   },
   {
    "duration": 240,
    "start_time": "2022-10-19T15:05:16.620Z"
   },
   {
    "duration": 7,
    "start_time": "2022-10-19T15:05:16.862Z"
   },
   {
    "duration": 9,
    "start_time": "2022-10-19T15:05:16.870Z"
   },
   {
    "duration": 181,
    "start_time": "2022-10-19T15:05:16.880Z"
   },
   {
    "duration": 10,
    "start_time": "2022-10-19T15:05:17.063Z"
   },
   {
    "duration": 134,
    "start_time": "2022-10-19T15:05:17.075Z"
   },
   {
    "duration": 113,
    "start_time": "2022-10-19T15:31:40.649Z"
   },
   {
    "duration": 42,
    "start_time": "2022-10-19T15:34:12.436Z"
   },
   {
    "duration": 146,
    "start_time": "2022-10-19T15:34:23.044Z"
   },
   {
    "duration": 130,
    "start_time": "2022-10-19T15:34:29.460Z"
   },
   {
    "duration": 191,
    "start_time": "2022-10-19T15:39:28.457Z"
   },
   {
    "duration": 19,
    "start_time": "2022-10-19T15:39:41.364Z"
   },
   {
    "duration": 135,
    "start_time": "2022-10-19T15:39:59.011Z"
   },
   {
    "duration": 39773,
    "start_time": "2022-10-19T15:40:08.852Z"
   },
   {
    "duration": 116,
    "start_time": "2022-10-19T15:40:55.542Z"
   },
   {
    "duration": 120,
    "start_time": "2022-10-19T15:41:23.973Z"
   },
   {
    "duration": 112,
    "start_time": "2022-10-19T15:41:45.366Z"
   },
   {
    "duration": 114,
    "start_time": "2022-10-19T15:44:21.066Z"
   },
   {
    "duration": 117,
    "start_time": "2022-10-19T15:44:37.914Z"
   },
   {
    "duration": 120,
    "start_time": "2022-10-19T15:44:45.530Z"
   },
   {
    "duration": 119,
    "start_time": "2022-10-19T15:45:06.596Z"
   },
   {
    "duration": 120,
    "start_time": "2022-10-19T15:46:01.292Z"
   },
   {
    "duration": 9,
    "start_time": "2022-10-19T15:47:27.006Z"
   },
   {
    "duration": 10,
    "start_time": "2022-10-19T15:47:55.830Z"
   },
   {
    "duration": 11,
    "start_time": "2022-10-19T15:48:02.246Z"
   },
   {
    "duration": 113,
    "start_time": "2022-10-19T15:48:12.511Z"
   },
   {
    "duration": 114,
    "start_time": "2022-10-19T15:49:15.352Z"
   },
   {
    "duration": 118,
    "start_time": "2022-10-19T15:49:21.912Z"
   },
   {
    "duration": 14,
    "start_time": "2022-10-19T15:49:51.017Z"
   },
   {
    "duration": 11,
    "start_time": "2022-10-19T15:49:59.497Z"
   },
   {
    "duration": 53,
    "start_time": "2022-10-19T15:50:29.057Z"
   },
   {
    "duration": 122,
    "start_time": "2022-10-19T15:50:47.266Z"
   },
   {
    "duration": 13,
    "start_time": "2022-10-19T15:51:42.348Z"
   },
   {
    "duration": 111,
    "start_time": "2022-10-19T15:51:49.756Z"
   },
   {
    "duration": 115,
    "start_time": "2022-10-19T15:58:50.837Z"
   },
   {
    "duration": 9,
    "start_time": "2022-10-19T16:03:04.635Z"
   },
   {
    "duration": 9,
    "start_time": "2022-10-19T16:03:06.587Z"
   },
   {
    "duration": 118,
    "start_time": "2022-10-19T16:03:26.267Z"
   },
   {
    "duration": 7,
    "start_time": "2022-10-19T16:03:36.125Z"
   },
   {
    "duration": 228,
    "start_time": "2022-10-19T16:04:43.269Z"
   },
   {
    "duration": 128,
    "start_time": "2022-10-19T16:05:45.608Z"
   },
   {
    "duration": 1993,
    "start_time": "2022-10-19T16:06:02.216Z"
   },
   {
    "duration": 198,
    "start_time": "2022-10-19T16:06:50.281Z"
   },
   {
    "duration": 297,
    "start_time": "2022-10-19T16:07:09.056Z"
   },
   {
    "duration": 532,
    "start_time": "2022-10-19T16:14:47.860Z"
   },
   {
    "duration": 524,
    "start_time": "2022-10-19T16:15:18.942Z"
   },
   {
    "duration": 605,
    "start_time": "2022-10-19T16:15:25.404Z"
   },
   {
    "duration": 542,
    "start_time": "2022-10-19T16:15:30.092Z"
   },
   {
    "duration": 572,
    "start_time": "2022-10-19T16:15:56.261Z"
   },
   {
    "duration": 275,
    "start_time": "2022-10-19T17:54:10.403Z"
   },
   {
    "duration": 179,
    "start_time": "2022-10-19T17:54:17.019Z"
   },
   {
    "duration": 193,
    "start_time": "2022-10-19T20:04:53.178Z"
   },
   {
    "duration": 181,
    "start_time": "2022-10-19T20:05:09.676Z"
   },
   {
    "duration": 56,
    "start_time": "2022-10-20T14:14:04.160Z"
   },
   {
    "duration": 1378,
    "start_time": "2022-10-20T14:14:09.457Z"
   },
   {
    "duration": 90,
    "start_time": "2022-10-20T14:14:10.838Z"
   },
   {
    "duration": 16,
    "start_time": "2022-10-20T14:14:10.932Z"
   },
   {
    "duration": 16,
    "start_time": "2022-10-20T14:14:10.951Z"
   },
   {
    "duration": 72,
    "start_time": "2022-10-20T14:14:10.969Z"
   },
   {
    "duration": 4,
    "start_time": "2022-10-20T14:14:11.043Z"
   },
   {
    "duration": 8,
    "start_time": "2022-10-20T14:14:11.049Z"
   },
   {
    "duration": 16,
    "start_time": "2022-10-20T14:14:11.059Z"
   },
   {
    "duration": 79,
    "start_time": "2022-10-20T14:14:11.077Z"
   },
   {
    "duration": 67,
    "start_time": "2022-10-20T14:14:11.158Z"
   },
   {
    "duration": 26,
    "start_time": "2022-10-20T14:14:11.226Z"
   },
   {
    "duration": 28,
    "start_time": "2022-10-20T14:14:11.253Z"
   },
   {
    "duration": 19,
    "start_time": "2022-10-20T14:14:11.284Z"
   },
   {
    "duration": 365,
    "start_time": "2022-10-20T14:14:11.304Z"
   },
   {
    "duration": 16,
    "start_time": "2022-10-20T14:14:11.671Z"
   },
   {
    "duration": 316,
    "start_time": "2022-10-20T14:14:11.689Z"
   },
   {
    "duration": 548,
    "start_time": "2022-10-20T14:14:12.009Z"
   },
   {
    "duration": 695,
    "start_time": "2022-10-20T14:14:12.559Z"
   },
   {
    "duration": 420,
    "start_time": "2022-10-20T14:14:13.256Z"
   },
   {
    "duration": 2,
    "start_time": "2022-10-20T14:14:13.678Z"
   },
   {
    "duration": 288,
    "start_time": "2022-10-20T14:14:13.682Z"
   },
   {
    "duration": 7,
    "start_time": "2022-10-20T14:14:13.972Z"
   },
   {
    "duration": 50,
    "start_time": "2022-10-20T14:14:13.980Z"
   },
   {
    "duration": 133,
    "start_time": "2022-10-20T14:14:14.031Z"
   },
   {
    "duration": 11,
    "start_time": "2022-10-20T14:14:14.166Z"
   },
   {
    "duration": 198,
    "start_time": "2022-10-20T14:14:14.179Z"
   },
   {
    "duration": 201,
    "start_time": "2022-10-20T14:14:14.378Z"
   },
   {
    "duration": 7,
    "start_time": "2022-10-20T14:14:14.581Z"
   },
   {
    "duration": 31,
    "start_time": "2022-10-20T14:14:14.590Z"
   },
   {
    "duration": 26,
    "start_time": "2022-10-20T14:14:23.770Z"
   },
   {
    "duration": 17,
    "start_time": "2022-10-20T14:15:16.036Z"
   },
   {
    "duration": 178,
    "start_time": "2022-10-20T14:15:52.574Z"
   },
   {
    "duration": 193,
    "start_time": "2022-10-20T14:16:00.388Z"
   },
   {
    "duration": 187,
    "start_time": "2022-10-20T14:16:25.148Z"
   },
   {
    "duration": 247,
    "start_time": "2022-10-20T14:16:34.653Z"
   },
   {
    "duration": 214,
    "start_time": "2022-10-20T14:17:00.621Z"
   },
   {
    "duration": 186,
    "start_time": "2022-10-20T14:17:04.647Z"
   },
   {
    "duration": 217,
    "start_time": "2022-10-20T14:17:20.374Z"
   },
   {
    "duration": 210,
    "start_time": "2022-10-20T14:17:23.717Z"
   },
   {
    "duration": 201,
    "start_time": "2022-10-20T14:17:33.133Z"
   },
   {
    "duration": 205,
    "start_time": "2022-10-20T14:18:49.191Z"
   },
   {
    "duration": 212,
    "start_time": "2022-10-20T14:54:27.252Z"
   },
   {
    "duration": 17,
    "start_time": "2022-10-20T14:55:53.506Z"
   },
   {
    "duration": 19,
    "start_time": "2022-10-20T14:56:02.070Z"
   },
   {
    "duration": 216,
    "start_time": "2022-10-20T14:56:04.510Z"
   },
   {
    "duration": 17,
    "start_time": "2022-10-20T14:56:48.439Z"
   },
   {
    "duration": 375,
    "start_time": "2022-10-20T14:56:52.399Z"
   },
   {
    "duration": 18,
    "start_time": "2022-10-20T14:57:08.959Z"
   },
   {
    "duration": 214,
    "start_time": "2022-10-20T14:57:10.888Z"
   },
   {
    "duration": 147,
    "start_time": "2022-10-20T15:07:47.549Z"
   },
   {
    "duration": 143,
    "start_time": "2022-10-20T15:07:56.245Z"
   },
   {
    "duration": 147,
    "start_time": "2022-10-20T15:09:44.867Z"
   },
   {
    "duration": 153,
    "start_time": "2022-10-20T15:09:52.752Z"
   },
   {
    "duration": 144,
    "start_time": "2022-10-20T15:09:56.256Z"
   },
   {
    "duration": 147,
    "start_time": "2022-10-20T15:10:00.561Z"
   },
   {
    "duration": 13,
    "start_time": "2022-10-20T15:10:28.808Z"
   },
   {
    "duration": 9,
    "start_time": "2022-10-20T15:13:19.890Z"
   },
   {
    "duration": 28,
    "start_time": "2022-10-20T15:13:44.165Z"
   },
   {
    "duration": 148,
    "start_time": "2022-10-20T15:42:37.230Z"
   },
   {
    "duration": 145,
    "start_time": "2022-10-20T15:52:28.228Z"
   },
   {
    "duration": 7,
    "start_time": "2022-10-20T15:55:14.680Z"
   },
   {
    "duration": 17,
    "start_time": "2022-10-20T16:15:59.732Z"
   },
   {
    "duration": 217,
    "start_time": "2022-10-20T16:16:05.452Z"
   },
   {
    "duration": 14,
    "start_time": "2022-10-20T16:28:26.999Z"
   },
   {
    "duration": 13,
    "start_time": "2022-10-20T16:28:30.076Z"
   },
   {
    "duration": 13,
    "start_time": "2022-10-20T16:29:11.190Z"
   },
   {
    "duration": 13,
    "start_time": "2022-10-20T17:42:32.038Z"
   },
   {
    "duration": 12,
    "start_time": "2022-10-20T17:42:54.990Z"
   },
   {
    "duration": 25,
    "start_time": "2022-10-20T17:43:00.359Z"
   },
   {
    "duration": 28,
    "start_time": "2022-10-20T17:43:12.719Z"
   },
   {
    "duration": 9,
    "start_time": "2022-10-20T17:43:50.754Z"
   },
   {
    "duration": 535,
    "start_time": "2022-10-20T17:45:13.994Z"
   },
   {
    "duration": 213,
    "start_time": "2022-10-20T18:20:25.793Z"
   },
   {
    "duration": 13,
    "start_time": "2022-10-20T18:26:46.874Z"
   },
   {
    "duration": 15,
    "start_time": "2022-10-20T18:29:36.030Z"
   },
   {
    "duration": 6,
    "start_time": "2022-10-20T18:32:04.569Z"
   },
   {
    "duration": 6,
    "start_time": "2022-10-20T18:32:43.242Z"
   },
   {
    "duration": 11,
    "start_time": "2022-10-20T18:32:48.322Z"
   },
   {
    "duration": 7,
    "start_time": "2022-10-20T18:33:01.059Z"
   },
   {
    "duration": 125,
    "start_time": "2022-10-20T18:54:00.407Z"
   },
   {
    "duration": 24,
    "start_time": "2022-10-20T18:54:13.872Z"
   },
   {
    "duration": 19,
    "start_time": "2022-10-20T18:54:20.360Z"
   },
   {
    "duration": 17,
    "start_time": "2022-10-20T18:54:23.763Z"
   },
   {
    "duration": 17,
    "start_time": "2022-10-20T18:54:27.288Z"
   },
   {
    "duration": 23,
    "start_time": "2022-10-20T18:54:30.032Z"
   },
   {
    "duration": 24,
    "start_time": "2022-10-20T18:54:34.856Z"
   },
   {
    "duration": 9,
    "start_time": "2022-10-20T18:56:35.650Z"
   },
   {
    "duration": 15,
    "start_time": "2022-10-20T18:56:39.243Z"
   },
   {
    "duration": 15,
    "start_time": "2022-10-20T18:57:04.427Z"
   },
   {
    "duration": 13,
    "start_time": "2022-10-20T18:57:11.324Z"
   },
   {
    "duration": 13,
    "start_time": "2022-10-20T18:57:23.388Z"
   },
   {
    "duration": 8,
    "start_time": "2022-10-20T18:58:15.693Z"
   },
   {
    "duration": 10,
    "start_time": "2022-10-20T18:58:18.877Z"
   },
   {
    "duration": 10,
    "start_time": "2022-10-20T18:58:20.410Z"
   },
   {
    "duration": 125,
    "start_time": "2022-10-20T18:58:24.749Z"
   },
   {
    "duration": 123,
    "start_time": "2022-10-20T18:58:32.741Z"
   },
   {
    "duration": 142,
    "start_time": "2022-10-20T18:59:43.647Z"
   },
   {
    "duration": 270,
    "start_time": "2022-10-20T19:00:51.024Z"
   },
   {
    "duration": 144,
    "start_time": "2022-10-20T19:01:01.296Z"
   },
   {
    "duration": 178,
    "start_time": "2022-10-20T19:01:18.058Z"
   },
   {
    "duration": 143,
    "start_time": "2022-10-20T19:01:22.346Z"
   },
   {
    "duration": 141,
    "start_time": "2022-10-20T19:01:29.089Z"
   },
   {
    "duration": 147,
    "start_time": "2022-10-20T19:01:42.481Z"
   },
   {
    "duration": 147,
    "start_time": "2022-10-20T19:01:47.394Z"
   },
   {
    "duration": 140,
    "start_time": "2022-10-20T19:01:52.825Z"
   },
   {
    "duration": 137,
    "start_time": "2022-10-20T19:02:03.195Z"
   },
   {
    "duration": 143,
    "start_time": "2022-10-20T19:02:07.202Z"
   },
   {
    "duration": 136,
    "start_time": "2022-10-20T19:02:21.018Z"
   },
   {
    "duration": 124,
    "start_time": "2022-10-20T19:02:28.299Z"
   },
   {
    "duration": 140,
    "start_time": "2022-10-20T19:02:39.083Z"
   },
   {
    "duration": 124,
    "start_time": "2022-10-20T19:02:42.947Z"
   },
   {
    "duration": 139,
    "start_time": "2022-10-20T19:02:47.876Z"
   },
   {
    "duration": 135,
    "start_time": "2022-10-20T19:02:53.611Z"
   },
   {
    "duration": 138,
    "start_time": "2022-10-20T19:02:59.563Z"
   },
   {
    "duration": 141,
    "start_time": "2022-10-20T19:03:03.523Z"
   },
   {
    "duration": 19,
    "start_time": "2022-10-20T19:05:01.779Z"
   },
   {
    "duration": 31,
    "start_time": "2022-10-20T19:05:12.639Z"
   },
   {
    "duration": 21,
    "start_time": "2022-10-20T19:05:22.186Z"
   },
   {
    "duration": 211,
    "start_time": "2022-10-20T19:05:54.895Z"
   },
   {
    "duration": 130,
    "start_time": "2022-10-20T19:06:01.295Z"
   },
   {
    "duration": 217,
    "start_time": "2022-10-20T19:06:24.529Z"
   },
   {
    "duration": 126,
    "start_time": "2022-10-20T19:06:28.194Z"
   },
   {
    "duration": 357,
    "start_time": "2022-10-20T19:06:32.072Z"
   },
   {
    "duration": 135,
    "start_time": "2022-10-20T19:06:44.032Z"
   },
   {
    "duration": 218,
    "start_time": "2022-10-20T19:06:48.896Z"
   },
   {
    "duration": 138,
    "start_time": "2022-10-20T19:06:54.089Z"
   },
   {
    "duration": 217,
    "start_time": "2022-10-20T19:06:59.474Z"
   },
   {
    "duration": 20,
    "start_time": "2022-10-20T19:07:41.545Z"
   },
   {
    "duration": 9,
    "start_time": "2022-10-20T19:07:50.874Z"
   },
   {
    "duration": 10,
    "start_time": "2022-10-20T19:07:54.434Z"
   },
   {
    "duration": 140,
    "start_time": "2022-10-20T19:08:09.993Z"
   },
   {
    "duration": 147,
    "start_time": "2022-10-20T19:08:18.466Z"
   },
   {
    "duration": 132,
    "start_time": "2022-10-20T19:08:28.114Z"
   },
   {
    "duration": 138,
    "start_time": "2022-10-20T19:08:40.677Z"
   },
   {
    "duration": 128,
    "start_time": "2022-10-20T19:08:48.195Z"
   },
   {
    "duration": 145,
    "start_time": "2022-10-20T19:08:53.988Z"
   },
   {
    "duration": 133,
    "start_time": "2022-10-20T19:08:57.036Z"
   },
   {
    "duration": 143,
    "start_time": "2022-10-20T19:09:12.668Z"
   },
   {
    "duration": 141,
    "start_time": "2022-10-20T19:09:17.604Z"
   },
   {
    "duration": 138,
    "start_time": "2022-10-20T19:09:21.549Z"
   },
   {
    "duration": 12,
    "start_time": "2022-10-20T19:10:25.101Z"
   },
   {
    "duration": 143,
    "start_time": "2022-10-20T19:10:26.629Z"
   },
   {
    "duration": 166,
    "start_time": "2022-10-20T19:10:32.374Z"
   },
   {
    "duration": 147,
    "start_time": "2022-10-20T19:10:44.503Z"
   },
   {
    "duration": 127,
    "start_time": "2022-10-20T19:10:49.030Z"
   },
   {
    "duration": 154,
    "start_time": "2022-10-20T19:10:58.710Z"
   },
   {
    "duration": 124,
    "start_time": "2022-10-20T19:11:03.398Z"
   },
   {
    "duration": 144,
    "start_time": "2022-10-20T19:11:07.951Z"
   },
   {
    "duration": 1324,
    "start_time": "2022-10-21T14:07:19.931Z"
   },
   {
    "duration": 207,
    "start_time": "2022-10-21T14:07:21.257Z"
   },
   {
    "duration": 15,
    "start_time": "2022-10-21T14:07:21.466Z"
   },
   {
    "duration": 49,
    "start_time": "2022-10-21T14:07:21.483Z"
   },
   {
    "duration": 73,
    "start_time": "2022-10-21T14:07:21.534Z"
   },
   {
    "duration": 36,
    "start_time": "2022-10-21T14:07:21.609Z"
   },
   {
    "duration": 27,
    "start_time": "2022-10-21T14:07:21.647Z"
   },
   {
    "duration": 8,
    "start_time": "2022-10-21T14:07:21.676Z"
   },
   {
    "duration": 34,
    "start_time": "2022-10-21T14:07:21.685Z"
   },
   {
    "duration": 35,
    "start_time": "2022-10-21T14:07:21.727Z"
   },
   {
    "duration": 22,
    "start_time": "2022-10-21T14:07:21.764Z"
   },
   {
    "duration": 26,
    "start_time": "2022-10-21T14:07:21.788Z"
   },
   {
    "duration": 32,
    "start_time": "2022-10-21T14:07:21.816Z"
   },
   {
    "duration": 15,
    "start_time": "2022-10-21T14:07:21.852Z"
   },
   {
    "duration": 20,
    "start_time": "2022-10-21T14:07:21.869Z"
   },
   {
    "duration": 35,
    "start_time": "2022-10-21T14:07:21.891Z"
   },
   {
    "duration": 17,
    "start_time": "2022-10-21T14:07:21.932Z"
   },
   {
    "duration": 390,
    "start_time": "2022-10-21T14:07:21.951Z"
   },
   {
    "duration": 16,
    "start_time": "2022-10-21T14:07:22.343Z"
   },
   {
    "duration": 339,
    "start_time": "2022-10-21T14:07:22.360Z"
   },
   {
    "duration": 575,
    "start_time": "2022-10-21T14:07:22.701Z"
   },
   {
    "duration": 674,
    "start_time": "2022-10-21T14:07:23.277Z"
   },
   {
    "duration": 467,
    "start_time": "2022-10-21T14:07:23.953Z"
   },
   {
    "duration": 255,
    "start_time": "2022-10-21T14:07:24.430Z"
   },
   {
    "duration": 7,
    "start_time": "2022-10-21T14:07:24.686Z"
   },
   {
    "duration": 215,
    "start_time": "2022-10-21T14:07:24.695Z"
   },
   {
    "duration": 18,
    "start_time": "2022-10-21T14:07:24.912Z"
   },
   {
    "duration": 161,
    "start_time": "2022-10-21T14:07:24.931Z"
   },
   {
    "duration": 138,
    "start_time": "2022-10-21T14:07:25.093Z"
   },
   {
    "duration": 22,
    "start_time": "2022-10-21T14:07:25.233Z"
   },
   {
    "duration": 15,
    "start_time": "2022-10-21T14:07:25.257Z"
   },
   {
    "duration": 235,
    "start_time": "2022-10-21T14:07:25.274Z"
   },
   {
    "duration": 25,
    "start_time": "2022-10-21T14:07:25.510Z"
   },
   {
    "duration": 166,
    "start_time": "2022-10-21T14:07:25.537Z"
   },
   {
    "duration": 24,
    "start_time": "2022-10-21T14:07:25.705Z"
   },
   {
    "duration": 169,
    "start_time": "2022-10-21T14:07:25.731Z"
   },
   {
    "duration": 12,
    "start_time": "2022-10-21T14:07:25.902Z"
   },
   {
    "duration": 216,
    "start_time": "2022-10-21T14:07:25.923Z"
   },
   {
    "duration": 70,
    "start_time": "2022-10-21T14:07:26.141Z"
   },
   {
    "duration": 242,
    "start_time": "2022-10-21T14:20:47.300Z"
   },
   {
    "duration": 151,
    "start_time": "2022-10-21T14:21:16.717Z"
   },
   {
    "duration": 145,
    "start_time": "2022-10-21T14:21:19.660Z"
   },
   {
    "duration": 153,
    "start_time": "2022-10-21T14:21:37.331Z"
   },
   {
    "duration": 140,
    "start_time": "2022-10-21T14:21:45.062Z"
   },
   {
    "duration": 3,
    "start_time": "2022-10-21T14:22:33.007Z"
   },
   {
    "duration": 212,
    "start_time": "2022-10-21T14:58:06.047Z"
   },
   {
    "duration": 35,
    "start_time": "2022-10-21T14:58:32.743Z"
   },
   {
    "duration": 22,
    "start_time": "2022-10-21T15:16:02.999Z"
   },
   {
    "duration": 14,
    "start_time": "2022-10-21T15:16:11.711Z"
   },
   {
    "duration": 12,
    "start_time": "2022-10-21T15:16:19.753Z"
   },
   {
    "duration": 9,
    "start_time": "2022-10-21T15:16:22.583Z"
   },
   {
    "duration": 9,
    "start_time": "2022-10-21T15:16:27.583Z"
   },
   {
    "duration": 162,
    "start_time": "2022-10-21T15:38:06.632Z"
   },
   {
    "duration": 151,
    "start_time": "2022-10-21T15:38:38.844Z"
   },
   {
    "duration": 179,
    "start_time": "2022-10-21T15:39:04.742Z"
   },
   {
    "duration": 162,
    "start_time": "2022-10-21T15:39:17.748Z"
   },
   {
    "duration": 186,
    "start_time": "2022-10-21T15:39:57.838Z"
   },
   {
    "duration": 172,
    "start_time": "2022-10-21T15:40:02.006Z"
   },
   {
    "duration": 208,
    "start_time": "2022-10-21T15:40:20.449Z"
   },
   {
    "duration": 255,
    "start_time": "2022-10-21T15:40:28.390Z"
   },
   {
    "duration": 144,
    "start_time": "2022-10-21T15:40:31.718Z"
   },
   {
    "duration": 254,
    "start_time": "2022-10-21T15:40:48.850Z"
   },
   {
    "duration": 181,
    "start_time": "2022-10-21T15:40:52.735Z"
   },
   {
    "duration": 172,
    "start_time": "2022-10-21T15:40:56.943Z"
   },
   {
    "duration": 13,
    "start_time": "2022-10-21T15:47:46.849Z"
   },
   {
    "duration": 9,
    "start_time": "2022-10-21T15:48:33.041Z"
   },
   {
    "duration": 10,
    "start_time": "2022-10-21T16:20:19.660Z"
   },
   {
    "duration": 10,
    "start_time": "2022-10-21T16:20:28.796Z"
   },
   {
    "duration": 88,
    "start_time": "2022-10-21T16:43:31.180Z"
   },
   {
    "duration": 8,
    "start_time": "2022-10-21T16:43:37.324Z"
   },
   {
    "duration": 9,
    "start_time": "2022-10-21T16:43:41.564Z"
   },
   {
    "duration": 9,
    "start_time": "2022-10-21T16:43:54.956Z"
   },
   {
    "duration": 12,
    "start_time": "2022-10-21T16:44:38.391Z"
   },
   {
    "duration": 11,
    "start_time": "2022-10-21T16:44:51.677Z"
   },
   {
    "duration": 13,
    "start_time": "2022-10-21T16:45:03.277Z"
   },
   {
    "duration": 6,
    "start_time": "2022-10-21T16:45:16.703Z"
   },
   {
    "duration": 9,
    "start_time": "2022-10-21T16:46:29.160Z"
   },
   {
    "duration": 9,
    "start_time": "2022-10-21T16:46:38.609Z"
   },
   {
    "duration": 1340,
    "start_time": "2022-10-22T07:05:42.663Z"
   },
   {
    "duration": 189,
    "start_time": "2022-10-22T07:05:44.006Z"
   },
   {
    "duration": 14,
    "start_time": "2022-10-22T07:05:44.197Z"
   },
   {
    "duration": 17,
    "start_time": "2022-10-22T07:05:44.213Z"
   },
   {
    "duration": 46,
    "start_time": "2022-10-22T07:05:44.232Z"
   },
   {
    "duration": 26,
    "start_time": "2022-10-22T07:05:44.291Z"
   },
   {
    "duration": 14,
    "start_time": "2022-10-22T07:05:44.318Z"
   },
   {
    "duration": 3,
    "start_time": "2022-10-22T07:05:44.334Z"
   },
   {
    "duration": 6,
    "start_time": "2022-10-22T07:05:44.338Z"
   },
   {
    "duration": 7,
    "start_time": "2022-10-22T07:05:44.346Z"
   },
   {
    "duration": 40,
    "start_time": "2022-10-22T07:05:44.355Z"
   },
   {
    "duration": 6,
    "start_time": "2022-10-22T07:05:44.397Z"
   },
   {
    "duration": 9,
    "start_time": "2022-10-22T07:05:44.404Z"
   },
   {
    "duration": 9,
    "start_time": "2022-10-22T07:05:44.415Z"
   },
   {
    "duration": 15,
    "start_time": "2022-10-22T07:05:44.425Z"
   },
   {
    "duration": 9,
    "start_time": "2022-10-22T07:05:44.442Z"
   },
   {
    "duration": 5,
    "start_time": "2022-10-22T07:05:44.452Z"
   },
   {
    "duration": 322,
    "start_time": "2022-10-22T07:05:44.491Z"
   },
   {
    "duration": 15,
    "start_time": "2022-10-22T07:05:44.815Z"
   },
   {
    "duration": 299,
    "start_time": "2022-10-22T07:05:44.832Z"
   },
   {
    "duration": 519,
    "start_time": "2022-10-22T07:05:45.133Z"
   },
   {
    "duration": 603,
    "start_time": "2022-10-22T07:05:45.654Z"
   },
   {
    "duration": 483,
    "start_time": "2022-10-22T07:05:46.259Z"
   },
   {
    "duration": 9,
    "start_time": "2022-10-22T07:05:46.743Z"
   },
   {
    "duration": 232,
    "start_time": "2022-10-22T07:05:46.754Z"
   },
   {
    "duration": 166,
    "start_time": "2022-10-22T07:05:46.991Z"
   },
   {
    "duration": 9,
    "start_time": "2022-10-22T07:05:47.160Z"
   },
   {
    "duration": 207,
    "start_time": "2022-10-22T07:05:47.174Z"
   },
   {
    "duration": 10,
    "start_time": "2022-10-22T07:05:47.383Z"
   },
   {
    "duration": 158,
    "start_time": "2022-10-22T07:05:47.395Z"
   },
   {
    "duration": 137,
    "start_time": "2022-10-22T07:05:47.554Z"
   },
   {
    "duration": 24,
    "start_time": "2022-10-22T07:05:47.692Z"
   },
   {
    "duration": 19,
    "start_time": "2022-10-22T07:05:47.718Z"
   },
   {
    "duration": 235,
    "start_time": "2022-10-22T07:05:47.739Z"
   },
   {
    "duration": 19,
    "start_time": "2022-10-22T07:05:47.976Z"
   },
   {
    "duration": 150,
    "start_time": "2022-10-22T07:05:47.997Z"
   },
   {
    "duration": 10,
    "start_time": "2022-10-22T07:05:48.148Z"
   },
   {
    "duration": 257,
    "start_time": "2022-10-22T07:05:48.160Z"
   },
   {
    "duration": 10,
    "start_time": "2022-10-22T07:05:48.418Z"
   },
   {
    "duration": 153,
    "start_time": "2022-10-22T07:05:48.429Z"
   },
   {
    "duration": 150,
    "start_time": "2022-10-22T07:05:48.583Z"
   },
   {
    "duration": 162,
    "start_time": "2022-10-22T07:05:48.735Z"
   },
   {
    "duration": 162,
    "start_time": "2022-10-22T07:05:48.898Z"
   },
   {
    "duration": 3,
    "start_time": "2022-10-22T07:05:49.062Z"
   },
   {
    "duration": 10,
    "start_time": "2022-10-22T07:05:49.067Z"
   },
   {
    "duration": 148,
    "start_time": "2022-10-22T07:52:15.095Z"
   },
   {
    "duration": 154,
    "start_time": "2022-10-22T07:52:32.784Z"
   },
   {
    "duration": 1125,
    "start_time": "2022-10-22T07:53:16.357Z"
   },
   {
    "duration": 51,
    "start_time": "2022-10-22T07:53:17.484Z"
   },
   {
    "duration": 14,
    "start_time": "2022-10-22T07:53:17.536Z"
   },
   {
    "duration": 17,
    "start_time": "2022-10-22T07:53:17.551Z"
   },
   {
    "duration": 50,
    "start_time": "2022-10-22T07:53:17.570Z"
   },
   {
    "duration": 25,
    "start_time": "2022-10-22T07:53:17.622Z"
   },
   {
    "duration": 14,
    "start_time": "2022-10-22T07:53:17.649Z"
   },
   {
    "duration": 3,
    "start_time": "2022-10-22T07:53:17.665Z"
   },
   {
    "duration": 6,
    "start_time": "2022-10-22T07:53:17.690Z"
   },
   {
    "duration": 9,
    "start_time": "2022-10-22T07:53:17.697Z"
   },
   {
    "duration": 7,
    "start_time": "2022-10-22T07:53:17.708Z"
   },
   {
    "duration": 6,
    "start_time": "2022-10-22T07:53:17.716Z"
   },
   {
    "duration": 5,
    "start_time": "2022-10-22T07:53:17.724Z"
   },
   {
    "duration": 7,
    "start_time": "2022-10-22T07:53:17.732Z"
   },
   {
    "duration": 20,
    "start_time": "2022-10-22T07:53:17.740Z"
   },
   {
    "duration": 35,
    "start_time": "2022-10-22T07:53:17.761Z"
   },
   {
    "duration": 6,
    "start_time": "2022-10-22T07:53:17.798Z"
   },
   {
    "duration": 332,
    "start_time": "2022-10-22T07:53:17.805Z"
   },
   {
    "duration": 15,
    "start_time": "2022-10-22T07:53:18.139Z"
   },
   {
    "duration": 301,
    "start_time": "2022-10-22T07:53:18.156Z"
   },
   {
    "duration": 530,
    "start_time": "2022-10-22T07:53:18.458Z"
   },
   {
    "duration": 645,
    "start_time": "2022-10-22T07:53:18.991Z"
   },
   {
    "duration": 431,
    "start_time": "2022-10-22T07:53:19.638Z"
   },
   {
    "duration": 8,
    "start_time": "2022-10-22T07:53:20.071Z"
   },
   {
    "duration": 232,
    "start_time": "2022-10-22T07:53:20.081Z"
   },
   {
    "duration": 167,
    "start_time": "2022-10-22T07:53:20.315Z"
   },
   {
    "duration": 11,
    "start_time": "2022-10-22T07:53:20.484Z"
   },
   {
    "duration": 206,
    "start_time": "2022-10-22T07:53:20.497Z"
   },
   {
    "duration": 6,
    "start_time": "2022-10-22T07:53:20.705Z"
   },
   {
    "duration": 147,
    "start_time": "2022-10-22T07:53:20.713Z"
   },
   {
    "duration": 132,
    "start_time": "2022-10-22T07:53:20.861Z"
   },
   {
    "duration": 25,
    "start_time": "2022-10-22T07:53:20.995Z"
   },
   {
    "duration": 19,
    "start_time": "2022-10-22T07:53:21.022Z"
   },
   {
    "duration": 246,
    "start_time": "2022-10-22T07:53:21.042Z"
   },
   {
    "duration": 163,
    "start_time": "2022-10-22T07:53:21.291Z"
   },
   {
    "duration": 151,
    "start_time": "2022-10-22T07:53:21.455Z"
   },
   {
    "duration": 10,
    "start_time": "2022-10-22T07:53:21.608Z"
   },
   {
    "duration": 236,
    "start_time": "2022-10-22T07:53:21.619Z"
   },
   {
    "duration": 12,
    "start_time": "2022-10-22T07:53:21.857Z"
   },
   {
    "duration": 147,
    "start_time": "2022-10-22T07:53:21.870Z"
   },
   {
    "duration": 161,
    "start_time": "2022-10-22T07:53:22.021Z"
   },
   {
    "duration": 155,
    "start_time": "2022-10-22T07:53:22.184Z"
   },
   {
    "duration": 153,
    "start_time": "2022-10-22T07:53:22.341Z"
   },
   {
    "duration": 3,
    "start_time": "2022-10-22T07:53:22.495Z"
   },
   {
    "duration": 10,
    "start_time": "2022-10-22T07:53:22.499Z"
   },
   {
    "duration": 3203,
    "start_time": "2022-10-22T08:01:04.381Z"
   },
   {
    "duration": 3771,
    "start_time": "2022-10-22T08:04:28.248Z"
   },
   {
    "duration": 1448,
    "start_time": "2022-10-22T08:04:54.562Z"
   },
   {
    "duration": 57,
    "start_time": "2022-10-22T08:05:48.058Z"
   },
   {
    "duration": 109,
    "start_time": "2022-10-22T08:06:37.139Z"
   },
   {
    "duration": 14,
    "start_time": "2022-10-22T08:06:48.292Z"
   },
   {
    "duration": 5,
    "start_time": "2022-10-22T08:07:09.876Z"
   },
   {
    "duration": 10,
    "start_time": "2022-10-22T08:07:52.781Z"
   },
   {
    "duration": 690,
    "start_time": "2022-10-22T08:08:05.717Z"
   },
   {
    "duration": 13,
    "start_time": "2022-10-22T08:08:37.854Z"
   },
   {
    "duration": 11,
    "start_time": "2022-10-22T08:08:57.518Z"
   },
   {
    "duration": 10,
    "start_time": "2022-10-22T08:09:01.414Z"
   },
   {
    "duration": 567,
    "start_time": "2022-10-22T08:09:08.534Z"
   },
   {
    "duration": 679,
    "start_time": "2022-10-22T08:09:24.280Z"
   },
   {
    "duration": 167,
    "start_time": "2022-10-22T08:15:56.624Z"
   },
   {
    "duration": 149,
    "start_time": "2022-10-22T08:16:24.617Z"
   },
   {
    "duration": 137,
    "start_time": "2022-10-22T08:16:55.929Z"
   },
   {
    "duration": 148,
    "start_time": "2022-10-22T08:17:08.042Z"
   },
   {
    "duration": 155,
    "start_time": "2022-10-22T08:17:36.195Z"
   },
   {
    "duration": 259,
    "start_time": "2022-10-22T08:17:51.529Z"
   },
   {
    "duration": 158,
    "start_time": "2022-10-22T08:19:34.237Z"
   },
   {
    "duration": 160,
    "start_time": "2022-10-22T08:19:50.197Z"
   },
   {
    "duration": 5,
    "start_time": "2022-10-22T08:20:54.416Z"
   },
   {
    "duration": 77,
    "start_time": "2022-10-22T08:32:30.247Z"
   },
   {
    "duration": 4,
    "start_time": "2022-10-22T08:32:39.751Z"
   },
   {
    "duration": 14,
    "start_time": "2022-10-22T08:32:57.567Z"
   },
   {
    "duration": 4,
    "start_time": "2022-10-22T08:33:08.312Z"
   },
   {
    "duration": 15,
    "start_time": "2022-10-22T08:33:10.352Z"
   },
   {
    "duration": 8,
    "start_time": "2022-10-22T08:36:05.508Z"
   },
   {
    "duration": 9,
    "start_time": "2022-10-22T08:36:08.084Z"
   },
   {
    "duration": 5,
    "start_time": "2022-10-22T08:36:10.012Z"
   },
   {
    "duration": 4,
    "start_time": "2022-10-22T08:37:30.094Z"
   },
   {
    "duration": 7,
    "start_time": "2022-10-22T08:37:32.166Z"
   },
   {
    "duration": 6,
    "start_time": "2022-10-22T08:37:47.590Z"
   },
   {
    "duration": 9,
    "start_time": "2022-10-22T08:38:47.247Z"
   },
   {
    "duration": 8,
    "start_time": "2022-10-22T08:38:49.344Z"
   },
   {
    "duration": 3,
    "start_time": "2022-10-22T08:39:16.744Z"
   },
   {
    "duration": 142,
    "start_time": "2022-10-22T08:40:13.305Z"
   },
   {
    "duration": 91,
    "start_time": "2022-10-22T09:20:55.904Z"
   },
   {
    "duration": 191,
    "start_time": "2022-10-22T09:27:37.961Z"
   },
   {
    "duration": 157,
    "start_time": "2022-10-22T09:27:50.202Z"
   },
   {
    "duration": 205,
    "start_time": "2022-10-22T09:27:56.362Z"
   },
   {
    "duration": 182,
    "start_time": "2022-10-22T09:28:03.123Z"
   },
   {
    "duration": 166,
    "start_time": "2022-10-22T09:29:33.580Z"
   },
   {
    "duration": 131,
    "start_time": "2022-10-22T09:29:49.990Z"
   },
   {
    "duration": 139,
    "start_time": "2022-10-22T10:25:25.205Z"
   },
   {
    "duration": 139,
    "start_time": "2022-10-22T10:25:48.243Z"
   },
   {
    "duration": 271,
    "start_time": "2022-10-22T10:26:03.349Z"
   },
   {
    "duration": 148,
    "start_time": "2022-10-22T13:46:52.767Z"
   },
   {
    "duration": 151,
    "start_time": "2022-10-22T13:47:05.741Z"
   },
   {
    "duration": 173,
    "start_time": "2022-10-22T13:47:11.613Z"
   },
   {
    "duration": 148,
    "start_time": "2022-10-22T13:47:14.812Z"
   },
   {
    "duration": 151,
    "start_time": "2022-10-22T13:48:23.521Z"
   },
   {
    "duration": 194,
    "start_time": "2022-10-22T13:48:27.743Z"
   },
   {
    "duration": 177,
    "start_time": "2022-10-22T13:48:38.111Z"
   },
   {
    "duration": 160,
    "start_time": "2022-10-22T13:49:26.776Z"
   },
   {
    "duration": 162,
    "start_time": "2022-10-22T13:49:36.064Z"
   },
   {
    "duration": 160,
    "start_time": "2022-10-22T13:50:48.602Z"
   },
   {
    "duration": 507,
    "start_time": "2022-10-22T13:51:15.547Z"
   },
   {
    "duration": 6,
    "start_time": "2022-10-22T13:53:24.997Z"
   },
   {
    "duration": 242,
    "start_time": "2022-10-22T14:04:58.414Z"
   },
   {
    "duration": 20,
    "start_time": "2022-10-22T14:05:02.443Z"
   },
   {
    "duration": 242,
    "start_time": "2022-10-22T14:05:08.813Z"
   },
   {
    "duration": 699,
    "start_time": "2022-10-22T14:14:33.594Z"
   },
   {
    "duration": 638,
    "start_time": "2022-10-22T14:14:45.123Z"
   },
   {
    "duration": 794,
    "start_time": "2022-10-22T14:14:55.898Z"
   },
   {
    "duration": 286,
    "start_time": "2022-10-22T14:15:52.189Z"
   },
   {
    "duration": 648,
    "start_time": "2022-10-22T14:16:43.797Z"
   },
   {
    "duration": 267,
    "start_time": "2022-10-22T14:17:44.959Z"
   },
   {
    "duration": 703,
    "start_time": "2022-10-22T14:20:22.147Z"
   },
   {
    "duration": 290,
    "start_time": "2022-10-22T14:21:55.077Z"
   },
   {
    "duration": 835,
    "start_time": "2022-10-22T14:22:00.613Z"
   },
   {
    "duration": 308,
    "start_time": "2022-10-22T14:22:19.437Z"
   },
   {
    "duration": 305,
    "start_time": "2022-10-22T14:24:44.033Z"
   },
   {
    "duration": 258,
    "start_time": "2022-10-22T14:25:06.025Z"
   },
   {
    "duration": 288,
    "start_time": "2022-10-22T14:25:20.329Z"
   },
   {
    "duration": 292,
    "start_time": "2022-10-22T14:25:29.761Z"
   },
   {
    "duration": 267,
    "start_time": "2022-10-22T14:25:41.337Z"
   },
   {
    "duration": 855,
    "start_time": "2022-10-22T14:25:51.258Z"
   },
   {
    "duration": 307,
    "start_time": "2022-10-22T14:26:57.669Z"
   },
   {
    "duration": 719,
    "start_time": "2022-10-22T14:27:11.612Z"
   },
   {
    "duration": 409,
    "start_time": "2022-10-22T14:27:30.692Z"
   },
   {
    "duration": 497,
    "start_time": "2022-10-22T14:27:44.773Z"
   },
   {
    "duration": 374,
    "start_time": "2022-10-22T14:27:50.029Z"
   },
   {
    "duration": 388,
    "start_time": "2022-10-22T14:27:54.197Z"
   },
   {
    "duration": 418,
    "start_time": "2022-10-22T14:27:56.735Z"
   },
   {
    "duration": 528,
    "start_time": "2022-10-22T14:28:42.383Z"
   },
   {
    "duration": 508,
    "start_time": "2022-10-22T14:28:49.486Z"
   },
   {
    "duration": 591,
    "start_time": "2022-10-22T14:28:57.302Z"
   },
   {
    "duration": 526,
    "start_time": "2022-10-22T14:29:04.488Z"
   },
   {
    "duration": 501,
    "start_time": "2022-10-22T14:29:11.767Z"
   },
   {
    "duration": 514,
    "start_time": "2022-10-22T14:29:19.054Z"
   },
   {
    "duration": 461,
    "start_time": "2022-10-22T14:29:41.312Z"
   },
   {
    "duration": 729,
    "start_time": "2022-10-22T14:29:46.813Z"
   },
   {
    "duration": 709,
    "start_time": "2022-10-22T14:29:53.321Z"
   },
   {
    "duration": 521,
    "start_time": "2022-10-22T14:29:59.559Z"
   },
   {
    "duration": 450,
    "start_time": "2022-10-22T14:30:06.448Z"
   },
   {
    "duration": 381,
    "start_time": "2022-10-22T14:30:13.104Z"
   },
   {
    "duration": 362,
    "start_time": "2022-10-22T14:30:15.952Z"
   },
   {
    "duration": 503,
    "start_time": "2022-10-22T14:30:17.920Z"
   },
   {
    "duration": 377,
    "start_time": "2022-10-22T14:30:28.841Z"
   },
   {
    "duration": 387,
    "start_time": "2022-10-22T14:31:34.498Z"
   },
   {
    "duration": 385,
    "start_time": "2022-10-22T14:32:10.251Z"
   },
   {
    "duration": 382,
    "start_time": "2022-10-22T14:49:19.259Z"
   },
   {
    "duration": 463,
    "start_time": "2022-10-22T14:50:02.674Z"
   },
   {
    "duration": 264,
    "start_time": "2022-10-22T14:50:28.172Z"
   },
   {
    "duration": 380,
    "start_time": "2022-10-22T14:51:02.676Z"
   },
   {
    "duration": 513,
    "start_time": "2022-10-22T14:51:28.487Z"
   },
   {
    "duration": 357,
    "start_time": "2022-10-22T14:51:41.294Z"
   },
   {
    "duration": 5,
    "start_time": "2022-10-22T15:23:51.891Z"
   },
   {
    "duration": 16,
    "start_time": "2022-10-22T15:38:29.637Z"
   },
   {
    "duration": 16,
    "start_time": "2022-10-22T15:38:48.126Z"
   },
   {
    "duration": 165,
    "start_time": "2022-10-22T15:39:42.247Z"
   },
   {
    "duration": 194,
    "start_time": "2022-10-22T15:39:46.847Z"
   },
   {
    "duration": 17,
    "start_time": "2022-10-22T15:48:18.544Z"
   },
   {
    "duration": 19,
    "start_time": "2022-10-22T15:48:33.283Z"
   },
   {
    "duration": 31,
    "start_time": "2022-10-22T15:48:48.172Z"
   },
   {
    "duration": 27,
    "start_time": "2022-10-22T15:48:53.324Z"
   },
   {
    "duration": 18,
    "start_time": "2022-10-22T15:48:57.284Z"
   },
   {
    "duration": 25,
    "start_time": "2022-10-22T15:49:26.877Z"
   },
   {
    "duration": 24,
    "start_time": "2022-10-22T15:49:34.535Z"
   },
   {
    "duration": 31,
    "start_time": "2022-10-22T15:49:41.853Z"
   },
   {
    "duration": 21,
    "start_time": "2022-10-22T15:49:57.678Z"
   },
   {
    "duration": 6,
    "start_time": "2022-10-22T15:54:12.307Z"
   },
   {
    "duration": 25,
    "start_time": "2022-10-22T15:55:27.757Z"
   },
   {
    "duration": 24,
    "start_time": "2022-10-22T15:55:33.861Z"
   },
   {
    "duration": 106,
    "start_time": "2022-10-22T15:55:59.631Z"
   },
   {
    "duration": 27,
    "start_time": "2022-10-22T15:56:05.182Z"
   },
   {
    "duration": 27,
    "start_time": "2022-10-22T15:56:32.332Z"
   },
   {
    "duration": 246,
    "start_time": "2022-10-22T15:56:36.199Z"
   },
   {
    "duration": 16,
    "start_time": "2022-10-22T15:57:04.987Z"
   },
   {
    "duration": 216,
    "start_time": "2022-10-22T15:57:07.240Z"
   },
   {
    "duration": 234,
    "start_time": "2022-10-22T16:02:25.271Z"
   },
   {
    "duration": 241,
    "start_time": "2022-10-22T16:02:48.922Z"
   },
   {
    "duration": 234,
    "start_time": "2022-10-22T16:02:56.760Z"
   },
   {
    "duration": 266,
    "start_time": "2022-10-22T16:03:05.336Z"
   },
   {
    "duration": 308,
    "start_time": "2022-10-22T16:03:10.136Z"
   },
   {
    "duration": 677,
    "start_time": "2022-10-22T16:03:14.841Z"
   },
   {
    "duration": 263,
    "start_time": "2022-10-22T16:03:20.465Z"
   },
   {
    "duration": 270,
    "start_time": "2022-10-22T16:03:24.257Z"
   },
   {
    "duration": 567,
    "start_time": "2022-10-22T16:03:29.361Z"
   },
   {
    "duration": 305,
    "start_time": "2022-10-22T16:03:34.865Z"
   },
   {
    "duration": 206,
    "start_time": "2022-10-22T16:03:53.777Z"
   },
   {
    "duration": 259,
    "start_time": "2022-10-22T16:04:01.737Z"
   },
   {
    "duration": 376,
    "start_time": "2022-10-22T16:11:54.340Z"
   },
   {
    "duration": 362,
    "start_time": "2022-10-22T16:11:57.729Z"
   },
   {
    "duration": 400,
    "start_time": "2022-10-22T16:12:04.108Z"
   },
   {
    "duration": 377,
    "start_time": "2022-10-22T16:12:07.853Z"
   },
   {
    "duration": 329,
    "start_time": "2022-10-22T16:13:55.951Z"
   },
   {
    "duration": 390,
    "start_time": "2022-10-22T16:14:01.391Z"
   },
   {
    "duration": 326,
    "start_time": "2022-10-22T16:14:06.103Z"
   },
   {
    "duration": 327,
    "start_time": "2022-10-22T16:14:10.335Z"
   },
   {
    "duration": 422,
    "start_time": "2022-10-22T16:14:16.679Z"
   },
   {
    "duration": 15,
    "start_time": "2022-10-22T16:22:06.971Z"
   },
   {
    "duration": 681,
    "start_time": "2022-10-22T16:32:38.128Z"
   },
   {
    "duration": 7,
    "start_time": "2022-10-22T16:32:58.784Z"
   },
   {
    "duration": 1132,
    "start_time": "2022-10-22T16:35:51.375Z"
   },
   {
    "duration": 50,
    "start_time": "2022-10-22T16:35:52.509Z"
   },
   {
    "duration": 15,
    "start_time": "2022-10-22T16:35:52.561Z"
   },
   {
    "duration": 17,
    "start_time": "2022-10-22T16:35:52.578Z"
   },
   {
    "duration": 51,
    "start_time": "2022-10-22T16:35:52.597Z"
   },
   {
    "duration": 42,
    "start_time": "2022-10-22T16:35:52.650Z"
   },
   {
    "duration": 15,
    "start_time": "2022-10-22T16:35:52.693Z"
   },
   {
    "duration": 3,
    "start_time": "2022-10-22T16:35:52.710Z"
   },
   {
    "duration": 7,
    "start_time": "2022-10-22T16:35:52.714Z"
   },
   {
    "duration": 9,
    "start_time": "2022-10-22T16:35:52.723Z"
   },
   {
    "duration": 15,
    "start_time": "2022-10-22T16:35:52.733Z"
   },
   {
    "duration": 12,
    "start_time": "2022-10-22T16:35:52.750Z"
   },
   {
    "duration": 32,
    "start_time": "2022-10-22T16:35:52.763Z"
   },
   {
    "duration": 13,
    "start_time": "2022-10-22T16:35:52.796Z"
   },
   {
    "duration": 16,
    "start_time": "2022-10-22T16:35:52.810Z"
   },
   {
    "duration": 7,
    "start_time": "2022-10-22T16:35:52.828Z"
   },
   {
    "duration": 5,
    "start_time": "2022-10-22T16:35:52.837Z"
   },
   {
    "duration": 380,
    "start_time": "2022-10-22T16:35:52.843Z"
   },
   {
    "duration": 15,
    "start_time": "2022-10-22T16:35:53.224Z"
   },
   {
    "duration": 314,
    "start_time": "2022-10-22T16:35:53.241Z"
   },
   {
    "duration": 520,
    "start_time": "2022-10-22T16:35:53.556Z"
   },
   {
    "duration": 673,
    "start_time": "2022-10-22T16:35:54.077Z"
   },
   {
    "duration": 428,
    "start_time": "2022-10-22T16:35:54.752Z"
   },
   {
    "duration": 9,
    "start_time": "2022-10-22T16:35:55.182Z"
   },
   {
    "duration": 222,
    "start_time": "2022-10-22T16:35:55.193Z"
   },
   {
    "duration": 7,
    "start_time": "2022-10-22T16:35:55.417Z"
   },
   {
    "duration": 14,
    "start_time": "2022-10-22T16:35:55.425Z"
   },
   {
    "duration": 207,
    "start_time": "2022-10-22T16:35:55.442Z"
   },
   {
    "duration": 7,
    "start_time": "2022-10-22T16:35:55.651Z"
   },
   {
    "duration": 254,
    "start_time": "2022-10-22T16:35:55.659Z"
   },
   {
    "duration": 32,
    "start_time": "2022-10-22T16:35:55.914Z"
   },
   {
    "duration": 17,
    "start_time": "2022-10-22T16:35:55.952Z"
   },
   {
    "duration": 238,
    "start_time": "2022-10-22T16:35:55.971Z"
   },
   {
    "duration": 5,
    "start_time": "2022-10-22T16:35:56.210Z"
   },
   {
    "duration": 377,
    "start_time": "2022-10-22T16:35:56.217Z"
   },
   {
    "duration": 0,
    "start_time": "2022-10-22T16:35:56.596Z"
   },
   {
    "duration": 0,
    "start_time": "2022-10-22T16:35:56.598Z"
   },
   {
    "duration": 0,
    "start_time": "2022-10-22T16:35:56.599Z"
   },
   {
    "duration": 0,
    "start_time": "2022-10-22T16:35:56.601Z"
   },
   {
    "duration": 0,
    "start_time": "2022-10-22T16:35:56.602Z"
   },
   {
    "duration": 0,
    "start_time": "2022-10-22T16:35:56.603Z"
   },
   {
    "duration": 0,
    "start_time": "2022-10-22T16:35:56.604Z"
   },
   {
    "duration": 0,
    "start_time": "2022-10-22T16:35:56.605Z"
   },
   {
    "duration": 22,
    "start_time": "2022-10-22T16:37:36.819Z"
   },
   {
    "duration": 378,
    "start_time": "2022-10-22T16:37:39.477Z"
   },
   {
    "duration": 21,
    "start_time": "2022-10-22T16:38:41.484Z"
   },
   {
    "duration": 433,
    "start_time": "2022-10-22T16:38:42.836Z"
   },
   {
    "duration": 23,
    "start_time": "2022-10-22T16:39:27.221Z"
   },
   {
    "duration": 365,
    "start_time": "2022-10-22T16:39:29.052Z"
   },
   {
    "duration": 2,
    "start_time": "2022-10-22T16:39:31.349Z"
   },
   {
    "duration": 4,
    "start_time": "2022-10-22T16:39:33.277Z"
   },
   {
    "duration": 6,
    "start_time": "2022-10-22T16:39:35.676Z"
   },
   {
    "duration": 7,
    "start_time": "2022-10-22T16:39:37.084Z"
   },
   {
    "duration": 7,
    "start_time": "2022-10-22T16:39:38.957Z"
   },
   {
    "duration": 8,
    "start_time": "2022-10-22T16:39:40.477Z"
   },
   {
    "duration": 4,
    "start_time": "2022-10-22T16:42:45.466Z"
   },
   {
    "duration": 6,
    "start_time": "2022-10-22T17:29:01.137Z"
   },
   {
    "duration": 1100,
    "start_time": "2022-10-22T17:29:04.788Z"
   },
   {
    "duration": 50,
    "start_time": "2022-10-22T17:29:05.890Z"
   },
   {
    "duration": 13,
    "start_time": "2022-10-22T17:29:05.942Z"
   },
   {
    "duration": 20,
    "start_time": "2022-10-22T17:29:05.956Z"
   },
   {
    "duration": 59,
    "start_time": "2022-10-22T17:29:05.978Z"
   },
   {
    "duration": 15,
    "start_time": "2022-10-22T17:29:06.038Z"
   },
   {
    "duration": 19,
    "start_time": "2022-10-22T17:29:06.054Z"
   },
   {
    "duration": 23,
    "start_time": "2022-10-22T17:29:06.075Z"
   },
   {
    "duration": 30,
    "start_time": "2022-10-22T17:29:06.099Z"
   },
   {
    "duration": 12,
    "start_time": "2022-10-22T17:29:06.130Z"
   },
   {
    "duration": 25,
    "start_time": "2022-10-22T17:29:06.143Z"
   },
   {
    "duration": 17,
    "start_time": "2022-10-22T17:29:06.169Z"
   },
   {
    "duration": 28,
    "start_time": "2022-10-22T17:29:06.187Z"
   },
   {
    "duration": 19,
    "start_time": "2022-10-22T17:29:06.218Z"
   },
   {
    "duration": 10,
    "start_time": "2022-10-22T17:29:06.238Z"
   },
   {
    "duration": 25,
    "start_time": "2022-10-22T17:29:06.249Z"
   },
   {
    "duration": 22,
    "start_time": "2022-10-22T17:29:06.275Z"
   },
   {
    "duration": 414,
    "start_time": "2022-10-22T17:29:06.299Z"
   },
   {
    "duration": 15,
    "start_time": "2022-10-22T17:29:06.715Z"
   },
   {
    "duration": 301,
    "start_time": "2022-10-22T17:29:06.731Z"
   },
   {
    "duration": 522,
    "start_time": "2022-10-22T17:29:07.034Z"
   },
   {
    "duration": 634,
    "start_time": "2022-10-22T17:29:07.558Z"
   },
   {
    "duration": 416,
    "start_time": "2022-10-22T17:29:08.194Z"
   },
   {
    "duration": 221,
    "start_time": "2022-10-22T17:29:08.611Z"
   },
   {
    "duration": 7,
    "start_time": "2022-10-22T17:29:08.833Z"
   },
   {
    "duration": 25,
    "start_time": "2022-10-22T17:29:08.841Z"
   },
   {
    "duration": 195,
    "start_time": "2022-10-22T17:29:08.867Z"
   },
   {
    "duration": 6,
    "start_time": "2022-10-22T17:29:09.064Z"
   },
   {
    "duration": 284,
    "start_time": "2022-10-22T17:29:09.072Z"
   },
   {
    "duration": 22,
    "start_time": "2022-10-22T17:29:09.357Z"
   },
   {
    "duration": 17,
    "start_time": "2022-10-22T17:29:09.392Z"
   },
   {
    "duration": 240,
    "start_time": "2022-10-22T17:29:09.411Z"
   },
   {
    "duration": 24,
    "start_time": "2022-10-22T17:29:09.652Z"
   },
   {
    "duration": 354,
    "start_time": "2022-10-22T17:29:09.678Z"
   },
   {
    "duration": 20,
    "start_time": "2022-10-22T17:29:10.033Z"
   },
   {
    "duration": 356,
    "start_time": "2022-10-22T17:29:10.055Z"
   },
   {
    "duration": 22,
    "start_time": "2022-10-22T17:29:10.412Z"
   },
   {
    "duration": 439,
    "start_time": "2022-10-22T17:29:10.436Z"
   },
   {
    "duration": 2,
    "start_time": "2022-10-22T17:29:10.877Z"
   },
   {
    "duration": 12,
    "start_time": "2022-10-22T17:29:10.880Z"
   },
   {
    "duration": 5,
    "start_time": "2022-10-22T17:29:10.895Z"
   },
   {
    "duration": 6,
    "start_time": "2022-10-22T17:29:10.902Z"
   },
   {
    "duration": 6,
    "start_time": "2022-10-22T17:29:10.910Z"
   },
   {
    "duration": 5,
    "start_time": "2022-10-22T17:29:10.918Z"
   },
   {
    "duration": 1067,
    "start_time": "2022-10-22T17:47:23.206Z"
   },
   {
    "duration": 49,
    "start_time": "2022-10-22T17:47:24.275Z"
   },
   {
    "duration": 14,
    "start_time": "2022-10-22T17:47:24.326Z"
   },
   {
    "duration": 20,
    "start_time": "2022-10-22T17:47:24.342Z"
   },
   {
    "duration": 59,
    "start_time": "2022-10-22T17:47:24.363Z"
   },
   {
    "duration": 21,
    "start_time": "2022-10-22T17:47:24.425Z"
   },
   {
    "duration": 3,
    "start_time": "2022-10-22T17:47:24.448Z"
   },
   {
    "duration": 12,
    "start_time": "2022-10-22T17:47:24.453Z"
   },
   {
    "duration": 26,
    "start_time": "2022-10-22T17:47:24.466Z"
   },
   {
    "duration": 8,
    "start_time": "2022-10-22T17:47:24.494Z"
   },
   {
    "duration": 9,
    "start_time": "2022-10-22T17:47:24.504Z"
   },
   {
    "duration": 7,
    "start_time": "2022-10-22T17:47:24.514Z"
   },
   {
    "duration": 8,
    "start_time": "2022-10-22T17:47:24.523Z"
   },
   {
    "duration": 14,
    "start_time": "2022-10-22T17:47:24.533Z"
   },
   {
    "duration": 8,
    "start_time": "2022-10-22T17:47:24.548Z"
   },
   {
    "duration": 35,
    "start_time": "2022-10-22T17:47:24.557Z"
   },
   {
    "duration": 5,
    "start_time": "2022-10-22T17:47:24.593Z"
   },
   {
    "duration": 339,
    "start_time": "2022-10-22T17:47:24.600Z"
   },
   {
    "duration": 14,
    "start_time": "2022-10-22T17:47:24.941Z"
   },
   {
    "duration": 300,
    "start_time": "2022-10-22T17:47:24.956Z"
   },
   {
    "duration": 510,
    "start_time": "2022-10-22T17:47:25.258Z"
   },
   {
    "duration": 620,
    "start_time": "2022-10-22T17:47:25.770Z"
   },
   {
    "duration": 503,
    "start_time": "2022-10-22T17:47:26.392Z"
   },
   {
    "duration": 213,
    "start_time": "2022-10-22T17:47:26.897Z"
   },
   {
    "duration": 6,
    "start_time": "2022-10-22T17:47:27.112Z"
   },
   {
    "duration": 12,
    "start_time": "2022-10-22T17:47:27.119Z"
   },
   {
    "duration": 202,
    "start_time": "2022-10-22T17:47:27.133Z"
   },
   {
    "duration": 7,
    "start_time": "2022-10-22T17:47:27.339Z"
   },
   {
    "duration": 288,
    "start_time": "2022-10-22T17:47:27.347Z"
   },
   {
    "duration": 23,
    "start_time": "2022-10-22T17:47:27.637Z"
   },
   {
    "duration": 31,
    "start_time": "2022-10-22T17:47:27.661Z"
   },
   {
    "duration": 215,
    "start_time": "2022-10-22T17:47:27.694Z"
   },
   {
    "duration": 20,
    "start_time": "2022-10-22T17:47:27.911Z"
   },
   {
    "duration": 353,
    "start_time": "2022-10-22T17:47:27.933Z"
   },
   {
    "duration": 21,
    "start_time": "2022-10-22T17:47:28.287Z"
   },
   {
    "duration": 386,
    "start_time": "2022-10-22T17:47:28.310Z"
   },
   {
    "duration": 23,
    "start_time": "2022-10-22T17:47:28.698Z"
   },
   {
    "duration": 438,
    "start_time": "2022-10-22T17:47:28.723Z"
   },
   {
    "duration": 2,
    "start_time": "2022-10-22T17:47:29.163Z"
   },
   {
    "duration": 5,
    "start_time": "2022-10-22T17:47:29.167Z"
   },
   {
    "duration": 19,
    "start_time": "2022-10-22T17:47:29.173Z"
   },
   {
    "duration": 6,
    "start_time": "2022-10-22T17:47:29.194Z"
   },
   {
    "duration": 5,
    "start_time": "2022-10-22T17:47:29.201Z"
   },
   {
    "duration": 5,
    "start_time": "2022-10-22T17:47:29.207Z"
   },
   {
    "duration": 154,
    "start_time": "2022-10-22T17:48:55.824Z"
   },
   {
    "duration": 168,
    "start_time": "2022-10-22T17:49:00.312Z"
   },
   {
    "duration": 158,
    "start_time": "2022-10-22T17:50:49.195Z"
   },
   {
    "duration": 14,
    "start_time": "2022-10-22T17:51:58.209Z"
   },
   {
    "duration": 96,
    "start_time": "2022-10-22T17:52:24.101Z"
   },
   {
    "duration": 11,
    "start_time": "2022-10-22T17:52:27.188Z"
   },
   {
    "duration": 183,
    "start_time": "2022-10-22T17:52:29.845Z"
   },
   {
    "duration": 202,
    "start_time": "2022-10-22T17:59:14.295Z"
   },
   {
    "duration": 7,
    "start_time": "2022-10-22T18:04:29.830Z"
   },
   {
    "duration": 37,
    "start_time": "2022-10-22T18:05:49.960Z"
   },
   {
    "duration": 555,
    "start_time": "2022-10-22T18:05:56.640Z"
   },
   {
    "duration": 8,
    "start_time": "2022-10-22T21:26:59.030Z"
   },
   {
    "duration": 8,
    "start_time": "2022-10-22T21:27:07.533Z"
   },
   {
    "duration": 8,
    "start_time": "2022-10-22T21:27:50.119Z"
   },
   {
    "duration": 10,
    "start_time": "2022-10-22T21:27:59.247Z"
   },
   {
    "duration": 9,
    "start_time": "2022-10-22T21:28:07.407Z"
   },
   {
    "duration": 5,
    "start_time": "2022-10-22T21:28:26.545Z"
   },
   {
    "duration": 10,
    "start_time": "2022-10-22T21:29:04.912Z"
   },
   {
    "duration": 5,
    "start_time": "2022-10-22T21:29:09.537Z"
   },
   {
    "duration": 1032,
    "start_time": "2022-10-22T21:29:27.809Z"
   },
   {
    "duration": 8,
    "start_time": "2022-10-22T21:29:36.097Z"
   },
   {
    "duration": 1107,
    "start_time": "2022-10-22T21:29:39.881Z"
   },
   {
    "duration": 11,
    "start_time": "2022-10-22T21:30:19.427Z"
   },
   {
    "duration": 4,
    "start_time": "2022-10-22T21:30:40.643Z"
   },
   {
    "duration": 5,
    "start_time": "2022-10-22T21:30:46.619Z"
   },
   {
    "duration": 5,
    "start_time": "2022-10-22T21:30:59.387Z"
   },
   {
    "duration": 33,
    "start_time": "2022-10-22T21:32:35.269Z"
   },
   {
    "duration": 1172,
    "start_time": "2022-10-22T21:33:11.967Z"
   },
   {
    "duration": 18,
    "start_time": "2022-10-22T21:33:25.823Z"
   },
   {
    "duration": 32,
    "start_time": "2022-10-22T21:33:33.095Z"
   },
   {
    "duration": 35,
    "start_time": "2022-10-22T21:33:53.511Z"
   },
   {
    "duration": 34,
    "start_time": "2022-10-22T21:34:10.656Z"
   },
   {
    "duration": 4,
    "start_time": "2022-10-22T21:34:30.504Z"
   },
   {
    "duration": 35,
    "start_time": "2022-10-22T21:35:01.538Z"
   },
   {
    "duration": 9,
    "start_time": "2022-10-22T21:35:20.681Z"
   },
   {
    "duration": 43,
    "start_time": "2022-10-22T21:35:26.556Z"
   },
   {
    "duration": 44,
    "start_time": "2022-10-22T21:35:56.594Z"
   },
   {
    "duration": 35,
    "start_time": "2022-10-22T21:36:11.003Z"
   },
   {
    "duration": 35,
    "start_time": "2022-10-22T21:36:48.308Z"
   },
   {
    "duration": 31,
    "start_time": "2022-10-22T21:37:12.477Z"
   },
   {
    "duration": 45,
    "start_time": "2022-10-22T21:37:16.556Z"
   },
   {
    "duration": 27,
    "start_time": "2022-10-22T21:37:23.908Z"
   },
   {
    "duration": 23,
    "start_time": "2022-10-22T21:38:34.375Z"
   },
   {
    "duration": 482,
    "start_time": "2022-10-22T21:43:00.165Z"
   },
   {
    "duration": 762,
    "start_time": "2022-10-22T21:43:26.824Z"
   },
   {
    "duration": 1042,
    "start_time": "2022-10-22T21:43:48.829Z"
   },
   {
    "duration": 889,
    "start_time": "2022-10-22T21:44:07.870Z"
   },
   {
    "duration": 1028,
    "start_time": "2022-10-22T21:44:12.902Z"
   },
   {
    "duration": 1185,
    "start_time": "2022-10-22T21:44:17.079Z"
   },
   {
    "duration": 3378,
    "start_time": "2022-10-22T21:45:40.729Z"
   },
   {
    "duration": 1397,
    "start_time": "2022-10-22T21:45:55.794Z"
   },
   {
    "duration": 1802,
    "start_time": "2022-10-22T21:46:35.250Z"
   },
   {
    "duration": 1375,
    "start_time": "2022-10-22T21:47:50.764Z"
   },
   {
    "duration": 1407,
    "start_time": "2022-10-22T21:48:05.437Z"
   },
   {
    "duration": 1516,
    "start_time": "2022-10-22T21:48:52.637Z"
   },
   {
    "duration": 1270,
    "start_time": "2022-10-22T21:48:58.278Z"
   },
   {
    "duration": 1477,
    "start_time": "2022-10-22T21:50:41.607Z"
   },
   {
    "duration": 1370,
    "start_time": "2022-10-22T21:51:44.481Z"
   },
   {
    "duration": 1262,
    "start_time": "2022-10-22T21:52:47.171Z"
   },
   {
    "duration": 1434,
    "start_time": "2022-10-22T21:52:58.668Z"
   },
   {
    "duration": 390,
    "start_time": "2022-10-22T21:54:25.004Z"
   },
   {
    "duration": 189,
    "start_time": "2022-10-22T21:54:33.797Z"
   },
   {
    "duration": 14,
    "start_time": "2022-10-22T21:55:02.883Z"
   },
   {
    "duration": 281,
    "start_time": "2022-10-22T21:55:04.741Z"
   },
   {
    "duration": 281,
    "start_time": "2022-10-22T21:55:31.087Z"
   },
   {
    "duration": 280,
    "start_time": "2022-10-22T21:55:45.087Z"
   },
   {
    "duration": 14,
    "start_time": "2022-10-22T21:55:55.887Z"
   },
   {
    "duration": 14,
    "start_time": "2022-10-22T21:55:59.143Z"
   },
   {
    "duration": 311,
    "start_time": "2022-10-22T21:56:04.351Z"
   },
   {
    "duration": 15,
    "start_time": "2022-10-22T21:56:06.967Z"
   },
   {
    "duration": 14,
    "start_time": "2022-10-22T21:56:08.263Z"
   },
   {
    "duration": 14,
    "start_time": "2022-10-22T21:56:31.256Z"
   },
   {
    "duration": 1274,
    "start_time": "2022-10-23T08:15:05.104Z"
   },
   {
    "duration": 69,
    "start_time": "2022-10-23T08:15:06.380Z"
   },
   {
    "duration": 12,
    "start_time": "2022-10-23T08:15:06.451Z"
   },
   {
    "duration": 14,
    "start_time": "2022-10-23T08:15:06.465Z"
   },
   {
    "duration": 49,
    "start_time": "2022-10-23T08:15:06.481Z"
   },
   {
    "duration": 15,
    "start_time": "2022-10-23T08:15:06.531Z"
   },
   {
    "duration": 4,
    "start_time": "2022-10-23T08:15:06.547Z"
   },
   {
    "duration": 6,
    "start_time": "2022-10-23T08:15:06.552Z"
   },
   {
    "duration": 10,
    "start_time": "2022-10-23T08:15:06.559Z"
   },
   {
    "duration": 30,
    "start_time": "2022-10-23T08:15:06.571Z"
   },
   {
    "duration": 15,
    "start_time": "2022-10-23T08:15:06.602Z"
   },
   {
    "duration": 7,
    "start_time": "2022-10-23T08:15:06.618Z"
   },
   {
    "duration": 17,
    "start_time": "2022-10-23T08:15:06.627Z"
   },
   {
    "duration": 15,
    "start_time": "2022-10-23T08:15:06.647Z"
   },
   {
    "duration": 8,
    "start_time": "2022-10-23T08:15:06.663Z"
   },
   {
    "duration": 5,
    "start_time": "2022-10-23T08:15:06.672Z"
   },
   {
    "duration": 8,
    "start_time": "2022-10-23T08:15:06.678Z"
   },
   {
    "duration": 316,
    "start_time": "2022-10-23T08:15:06.700Z"
   },
   {
    "duration": 14,
    "start_time": "2022-10-23T08:15:07.017Z"
   },
   {
    "duration": 283,
    "start_time": "2022-10-23T08:15:07.033Z"
   },
   {
    "duration": 490,
    "start_time": "2022-10-23T08:15:07.317Z"
   },
   {
    "duration": 603,
    "start_time": "2022-10-23T08:15:07.808Z"
   },
   {
    "duration": 534,
    "start_time": "2022-10-23T08:15:08.413Z"
   },
   {
    "duration": 183,
    "start_time": "2022-10-23T08:15:08.949Z"
   },
   {
    "duration": 390,
    "start_time": "2022-10-23T08:15:09.133Z"
   },
   {
    "duration": 205,
    "start_time": "2022-10-23T08:15:09.524Z"
   },
   {
    "duration": 6,
    "start_time": "2022-10-23T08:15:09.730Z"
   },
   {
    "duration": 13,
    "start_time": "2022-10-23T08:15:09.737Z"
   },
   {
    "duration": 187,
    "start_time": "2022-10-23T08:15:09.752Z"
   },
   {
    "duration": 280,
    "start_time": "2022-10-23T08:15:09.941Z"
   },
   {
    "duration": 23,
    "start_time": "2022-10-23T08:15:10.223Z"
   },
   {
    "duration": 6,
    "start_time": "2022-10-23T08:15:10.247Z"
   },
   {
    "duration": 9,
    "start_time": "2022-10-23T08:15:10.254Z"
   },
   {
    "duration": 1428,
    "start_time": "2022-10-23T08:15:10.265Z"
   },
   {
    "duration": 19,
    "start_time": "2022-10-23T08:15:11.695Z"
   },
   {
    "duration": 206,
    "start_time": "2022-10-23T08:15:11.715Z"
   },
   {
    "duration": 21,
    "start_time": "2022-10-23T08:15:11.923Z"
   },
   {
    "duration": 358,
    "start_time": "2022-10-23T08:15:11.945Z"
   },
   {
    "duration": 22,
    "start_time": "2022-10-23T08:15:12.305Z"
   },
   {
    "duration": 341,
    "start_time": "2022-10-23T08:15:12.328Z"
   },
   {
    "duration": 17,
    "start_time": "2022-10-23T08:15:12.673Z"
   },
   {
    "duration": 321,
    "start_time": "2022-10-23T08:15:12.692Z"
   },
   {
    "duration": 2,
    "start_time": "2022-10-23T08:15:13.015Z"
   },
   {
    "duration": 12,
    "start_time": "2022-10-23T08:15:13.018Z"
   },
   {
    "duration": 8,
    "start_time": "2022-10-23T08:15:13.032Z"
   },
   {
    "duration": 15,
    "start_time": "2022-10-23T08:15:13.042Z"
   },
   {
    "duration": 6,
    "start_time": "2022-10-23T08:15:13.059Z"
   },
   {
    "duration": 11,
    "start_time": "2022-10-23T08:15:13.066Z"
   },
   {
    "duration": 265,
    "start_time": "2022-10-23T08:49:37.070Z"
   },
   {
    "duration": 344,
    "start_time": "2022-10-23T08:49:48.710Z"
   },
   {
    "duration": 259,
    "start_time": "2022-10-23T08:49:56.743Z"
   },
   {
    "duration": 282,
    "start_time": "2022-10-23T08:50:03.999Z"
   },
   {
    "duration": 282,
    "start_time": "2022-10-23T08:50:08.766Z"
   },
   {
    "duration": 1235,
    "start_time": "2022-10-23T08:50:29.815Z"
   },
   {
    "duration": 1364,
    "start_time": "2022-10-23T08:54:16.220Z"
   },
   {
    "duration": 1338,
    "start_time": "2022-10-23T08:54:44.765Z"
   },
   {
    "duration": 12,
    "start_time": "2022-10-23T09:22:11.066Z"
   },
   {
    "duration": 168,
    "start_time": "2022-10-23T09:23:58.973Z"
   },
   {
    "duration": 2,
    "start_time": "2022-10-23T09:24:04.637Z"
   },
   {
    "duration": 3,
    "start_time": "2022-10-23T09:24:19.821Z"
   },
   {
    "duration": 2,
    "start_time": "2022-10-23T09:24:35.950Z"
   },
   {
    "duration": 4,
    "start_time": "2022-10-23T09:24:39.750Z"
   },
   {
    "duration": 2,
    "start_time": "2022-10-23T09:24:45.478Z"
   },
   {
    "duration": 183,
    "start_time": "2022-10-23T09:25:07.695Z"
   },
   {
    "duration": 161,
    "start_time": "2022-10-23T15:54:43.870Z"
   },
   {
    "duration": 310,
    "start_time": "2022-10-23T16:43:43.335Z"
   },
   {
    "duration": 210,
    "start_time": "2022-10-23T16:43:52.612Z"
   },
   {
    "duration": 231,
    "start_time": "2022-10-23T16:44:13.330Z"
   },
   {
    "duration": 224,
    "start_time": "2022-10-23T16:44:22.267Z"
   },
   {
    "duration": 245,
    "start_time": "2022-10-23T16:44:33.325Z"
   },
   {
    "duration": 298,
    "start_time": "2022-10-23T16:46:01.687Z"
   },
   {
    "duration": 282,
    "start_time": "2022-10-23T16:47:31.263Z"
   },
   {
    "duration": 340,
    "start_time": "2022-10-23T16:48:34.329Z"
   },
   {
    "duration": 242,
    "start_time": "2022-10-23T16:49:03.226Z"
   },
   {
    "duration": 271,
    "start_time": "2022-10-23T16:49:27.243Z"
   },
   {
    "duration": 248,
    "start_time": "2022-10-23T16:49:32.140Z"
   },
   {
    "duration": 334,
    "start_time": "2022-10-23T16:49:37.642Z"
   },
   {
    "duration": 273,
    "start_time": "2022-10-23T16:49:46.091Z"
   },
   {
    "duration": 150,
    "start_time": "2022-10-23T16:50:28.124Z"
   },
   {
    "duration": 276,
    "start_time": "2022-10-23T16:50:39.701Z"
   },
   {
    "duration": 538,
    "start_time": "2022-10-23T16:51:21.805Z"
   },
   {
    "duration": 536,
    "start_time": "2022-10-23T16:51:30.701Z"
   },
   {
    "duration": 502,
    "start_time": "2022-10-23T16:51:38.950Z"
   },
   {
    "duration": 1074,
    "start_time": "2022-10-23T16:53:10.633Z"
   },
   {
    "duration": 37,
    "start_time": "2022-10-23T16:53:11.709Z"
   },
   {
    "duration": 22,
    "start_time": "2022-10-23T16:53:11.747Z"
   },
   {
    "duration": 24,
    "start_time": "2022-10-23T16:53:11.771Z"
   },
   {
    "duration": 22,
    "start_time": "2022-10-23T16:53:11.796Z"
   },
   {
    "duration": 8,
    "start_time": "2022-10-23T16:53:11.820Z"
   },
   {
    "duration": 22,
    "start_time": "2022-10-23T16:53:11.830Z"
   },
   {
    "duration": 26,
    "start_time": "2022-10-23T16:53:11.854Z"
   },
   {
    "duration": 20,
    "start_time": "2022-10-23T16:53:11.882Z"
   },
   {
    "duration": 19,
    "start_time": "2022-10-23T16:53:11.904Z"
   },
   {
    "duration": 30,
    "start_time": "2022-10-23T16:53:11.924Z"
   },
   {
    "duration": 11,
    "start_time": "2022-10-23T16:53:11.956Z"
   },
   {
    "duration": 67,
    "start_time": "2022-10-23T16:53:11.968Z"
   },
   {
    "duration": 7,
    "start_time": "2022-10-23T16:53:12.037Z"
   },
   {
    "duration": 14,
    "start_time": "2022-10-23T16:53:12.046Z"
   },
   {
    "duration": 38,
    "start_time": "2022-10-23T16:53:12.061Z"
   },
   {
    "duration": 349,
    "start_time": "2022-10-23T16:53:12.101Z"
   },
   {
    "duration": 16,
    "start_time": "2022-10-23T16:53:12.451Z"
   },
   {
    "duration": 291,
    "start_time": "2022-10-23T16:53:12.468Z"
   },
   {
    "duration": 579,
    "start_time": "2022-10-23T16:53:12.760Z"
   },
   {
    "duration": 252,
    "start_time": "2022-10-23T16:53:13.340Z"
   },
   {
    "duration": 8,
    "start_time": "2022-10-23T16:53:13.594Z"
   },
   {
    "duration": 80,
    "start_time": "2022-10-23T16:53:13.603Z"
   },
   {
    "duration": 190,
    "start_time": "2022-10-23T16:53:13.684Z"
   },
   {
    "duration": 184,
    "start_time": "2022-10-23T16:53:13.876Z"
   },
   {
    "duration": 310,
    "start_time": "2022-10-23T16:53:14.062Z"
   },
   {
    "duration": 37,
    "start_time": "2022-10-23T16:53:14.373Z"
   },
   {
    "duration": 1316,
    "start_time": "2022-10-23T16:53:14.414Z"
   },
   {
    "duration": 17,
    "start_time": "2022-10-23T16:53:15.732Z"
   },
   {
    "duration": 233,
    "start_time": "2022-10-23T16:53:15.751Z"
   },
   {
    "duration": 28,
    "start_time": "2022-10-23T16:53:15.986Z"
   },
   {
    "duration": 360,
    "start_time": "2022-10-23T16:53:16.015Z"
   },
   {
    "duration": 28,
    "start_time": "2022-10-23T16:53:16.376Z"
   },
   {
    "duration": 439,
    "start_time": "2022-10-23T16:53:16.406Z"
   },
   {
    "duration": 19,
    "start_time": "2022-10-23T16:53:16.847Z"
   },
   {
    "duration": 340,
    "start_time": "2022-10-23T16:53:16.867Z"
   },
   {
    "duration": 3,
    "start_time": "2022-10-23T16:53:17.208Z"
   },
   {
    "duration": 11,
    "start_time": "2022-10-23T16:53:17.213Z"
   },
   {
    "duration": 11,
    "start_time": "2022-10-23T16:53:17.225Z"
   },
   {
    "duration": 7,
    "start_time": "2022-10-23T16:53:17.237Z"
   },
   {
    "duration": 10,
    "start_time": "2022-10-23T16:53:17.246Z"
   },
   {
    "duration": 11,
    "start_time": "2022-10-23T16:53:17.257Z"
   },
   {
    "duration": 1245,
    "start_time": "2022-10-23T17:12:35.576Z"
   },
   {
    "duration": 204,
    "start_time": "2022-10-23T17:12:36.824Z"
   },
   {
    "duration": 14,
    "start_time": "2022-10-23T17:12:37.030Z"
   },
   {
    "duration": 16,
    "start_time": "2022-10-23T17:12:37.046Z"
   },
   {
    "duration": 15,
    "start_time": "2022-10-23T17:12:37.063Z"
   },
   {
    "duration": 3,
    "start_time": "2022-10-23T17:12:37.080Z"
   },
   {
    "duration": 7,
    "start_time": "2022-10-23T17:12:37.084Z"
   },
   {
    "duration": 40,
    "start_time": "2022-10-23T17:12:37.093Z"
   },
   {
    "duration": 12,
    "start_time": "2022-10-23T17:12:37.135Z"
   },
   {
    "duration": 6,
    "start_time": "2022-10-23T17:12:37.151Z"
   },
   {
    "duration": 13,
    "start_time": "2022-10-23T17:12:37.158Z"
   },
   {
    "duration": 10,
    "start_time": "2022-10-23T17:12:37.172Z"
   },
   {
    "duration": 91,
    "start_time": "2022-10-23T17:12:37.184Z"
   },
   {
    "duration": 8,
    "start_time": "2022-10-23T17:12:37.276Z"
   },
   {
    "duration": 5,
    "start_time": "2022-10-23T17:12:37.285Z"
   },
   {
    "duration": 5,
    "start_time": "2022-10-23T17:12:37.291Z"
   },
   {
    "duration": 365,
    "start_time": "2022-10-23T17:12:37.297Z"
   },
   {
    "duration": 15,
    "start_time": "2022-10-23T17:12:37.664Z"
   },
   {
    "duration": 302,
    "start_time": "2022-10-23T17:12:37.681Z"
   },
   {
    "duration": 571,
    "start_time": "2022-10-23T17:12:37.984Z"
   },
   {
    "duration": 282,
    "start_time": "2022-10-23T17:12:38.557Z"
   },
   {
    "duration": 8,
    "start_time": "2022-10-23T17:12:38.841Z"
   },
   {
    "duration": 101,
    "start_time": "2022-10-23T17:12:38.851Z"
   },
   {
    "duration": 186,
    "start_time": "2022-10-23T17:12:38.953Z"
   },
   {
    "duration": 184,
    "start_time": "2022-10-23T17:12:39.141Z"
   },
   {
    "duration": 294,
    "start_time": "2022-10-23T17:12:39.327Z"
   },
   {
    "duration": 21,
    "start_time": "2022-10-23T17:12:39.623Z"
   },
   {
    "duration": 1378,
    "start_time": "2022-10-23T17:12:39.647Z"
   },
   {
    "duration": 17,
    "start_time": "2022-10-23T17:12:41.027Z"
   },
   {
    "duration": 230,
    "start_time": "2022-10-23T17:12:41.045Z"
   },
   {
    "duration": 21,
    "start_time": "2022-10-23T17:12:41.277Z"
   },
   {
    "duration": 402,
    "start_time": "2022-10-23T17:12:41.300Z"
   },
   {
    "duration": 37,
    "start_time": "2022-10-23T17:12:41.704Z"
   },
   {
    "duration": 598,
    "start_time": "2022-10-23T17:12:41.743Z"
   },
   {
    "duration": 20,
    "start_time": "2022-10-23T17:12:42.344Z"
   },
   {
    "duration": 358,
    "start_time": "2022-10-23T17:12:42.366Z"
   },
   {
    "duration": 2,
    "start_time": "2022-10-23T17:12:42.726Z"
   },
   {
    "duration": 6,
    "start_time": "2022-10-23T17:12:42.730Z"
   },
   {
    "duration": 7,
    "start_time": "2022-10-23T17:12:42.738Z"
   },
   {
    "duration": 5,
    "start_time": "2022-10-23T17:12:42.747Z"
   },
   {
    "duration": 6,
    "start_time": "2022-10-23T17:12:42.754Z"
   },
   {
    "duration": 8,
    "start_time": "2022-10-23T17:12:42.761Z"
   },
   {
    "duration": 10,
    "start_time": "2022-10-23T17:51:46.968Z"
   },
   {
    "duration": 1060,
    "start_time": "2022-10-23T17:51:53.064Z"
   },
   {
    "duration": 64,
    "start_time": "2022-10-23T17:51:54.126Z"
   },
   {
    "duration": 36,
    "start_time": "2022-10-23T17:51:54.192Z"
   },
   {
    "duration": 17,
    "start_time": "2022-10-23T17:51:54.230Z"
   },
   {
    "duration": 14,
    "start_time": "2022-10-23T17:51:54.248Z"
   },
   {
    "duration": 3,
    "start_time": "2022-10-23T17:51:54.263Z"
   },
   {
    "duration": 5,
    "start_time": "2022-10-23T17:51:54.323Z"
   },
   {
    "duration": 10,
    "start_time": "2022-10-23T17:51:54.330Z"
   },
   {
    "duration": 8,
    "start_time": "2022-10-23T17:51:54.341Z"
   },
   {
    "duration": 6,
    "start_time": "2022-10-23T17:51:54.351Z"
   },
   {
    "duration": 7,
    "start_time": "2022-10-23T17:51:54.358Z"
   },
   {
    "duration": 63,
    "start_time": "2022-10-23T17:51:54.367Z"
   },
   {
    "duration": 96,
    "start_time": "2022-10-23T17:51:54.432Z"
   },
   {
    "duration": 10,
    "start_time": "2022-10-23T17:51:54.530Z"
   },
   {
    "duration": 6,
    "start_time": "2022-10-23T17:51:54.542Z"
   },
   {
    "duration": 9,
    "start_time": "2022-10-23T17:51:54.550Z"
   },
   {
    "duration": 11,
    "start_time": "2022-10-23T17:51:54.561Z"
   },
   {
    "duration": 704,
    "start_time": "2022-10-23T17:51:54.625Z"
   },
   {
    "duration": 14,
    "start_time": "2022-10-23T17:51:55.331Z"
   },
   {
    "duration": 616,
    "start_time": "2022-10-23T17:51:55.347Z"
   },
   {
    "duration": 623,
    "start_time": "2022-10-23T17:51:55.965Z"
   },
   {
    "duration": 287,
    "start_time": "2022-10-23T17:51:56.592Z"
   },
   {
    "duration": 6,
    "start_time": "2022-10-23T17:51:56.881Z"
   },
   {
    "duration": 94,
    "start_time": "2022-10-23T17:51:56.889Z"
   },
   {
    "duration": 193,
    "start_time": "2022-10-23T17:51:56.985Z"
   },
   {
    "duration": 197,
    "start_time": "2022-10-23T17:51:57.179Z"
   },
   {
    "duration": 301,
    "start_time": "2022-10-23T17:51:57.378Z"
   },
   {
    "duration": 22,
    "start_time": "2022-10-23T17:51:57.683Z"
   },
   {
    "duration": 1389,
    "start_time": "2022-10-23T17:51:57.707Z"
   },
   {
    "duration": 26,
    "start_time": "2022-10-23T17:51:59.098Z"
   },
   {
    "duration": 244,
    "start_time": "2022-10-23T17:51:59.126Z"
   },
   {
    "duration": 21,
    "start_time": "2022-10-23T17:51:59.372Z"
   },
   {
    "duration": 400,
    "start_time": "2022-10-23T17:51:59.394Z"
   },
   {
    "duration": 21,
    "start_time": "2022-10-23T17:51:59.795Z"
   },
   {
    "duration": 654,
    "start_time": "2022-10-23T17:51:59.817Z"
   },
   {
    "duration": 21,
    "start_time": "2022-10-23T17:52:00.473Z"
   },
   {
    "duration": 392,
    "start_time": "2022-10-23T17:52:00.497Z"
   },
   {
    "duration": 3,
    "start_time": "2022-10-23T17:52:00.891Z"
   },
   {
    "duration": 12,
    "start_time": "2022-10-23T17:52:00.895Z"
   },
   {
    "duration": 15,
    "start_time": "2022-10-23T17:52:00.908Z"
   },
   {
    "duration": 7,
    "start_time": "2022-10-23T17:52:00.925Z"
   },
   {
    "duration": 18,
    "start_time": "2022-10-23T17:52:00.933Z"
   },
   {
    "duration": 10,
    "start_time": "2022-10-23T17:52:00.953Z"
   },
   {
    "duration": 9,
    "start_time": "2022-10-23T17:53:07.973Z"
   },
   {
    "duration": 1165,
    "start_time": "2022-10-23T17:53:15.875Z"
   },
   {
    "duration": 92,
    "start_time": "2022-10-23T17:53:17.042Z"
   },
   {
    "duration": 15,
    "start_time": "2022-10-23T17:53:17.137Z"
   },
   {
    "duration": 71,
    "start_time": "2022-10-23T17:53:17.154Z"
   },
   {
    "duration": 16,
    "start_time": "2022-10-23T17:53:17.226Z"
   },
   {
    "duration": 4,
    "start_time": "2022-10-23T17:53:17.243Z"
   },
   {
    "duration": 7,
    "start_time": "2022-10-23T17:53:17.248Z"
   },
   {
    "duration": 9,
    "start_time": "2022-10-23T17:53:17.257Z"
   },
   {
    "duration": 7,
    "start_time": "2022-10-23T17:53:17.324Z"
   },
   {
    "duration": 5,
    "start_time": "2022-10-23T17:53:17.334Z"
   },
   {
    "duration": 6,
    "start_time": "2022-10-23T17:53:17.341Z"
   },
   {
    "duration": 16,
    "start_time": "2022-10-23T17:53:17.349Z"
   },
   {
    "duration": 100,
    "start_time": "2022-10-23T17:53:17.367Z"
   },
   {
    "duration": 9,
    "start_time": "2022-10-23T17:53:17.524Z"
   },
   {
    "duration": 5,
    "start_time": "2022-10-23T17:53:17.534Z"
   },
   {
    "duration": 5,
    "start_time": "2022-10-23T17:53:17.541Z"
   },
   {
    "duration": 777,
    "start_time": "2022-10-23T17:53:17.547Z"
   },
   {
    "duration": 16,
    "start_time": "2022-10-23T17:53:18.325Z"
   },
   {
    "duration": 557,
    "start_time": "2022-10-23T17:53:18.343Z"
   },
   {
    "duration": 593,
    "start_time": "2022-10-23T17:53:18.902Z"
   },
   {
    "duration": 289,
    "start_time": "2022-10-23T17:53:19.497Z"
   },
   {
    "duration": 6,
    "start_time": "2022-10-23T17:53:19.788Z"
   },
   {
    "duration": 97,
    "start_time": "2022-10-23T17:53:19.795Z"
   },
   {
    "duration": 191,
    "start_time": "2022-10-23T17:53:19.893Z"
   },
   {
    "duration": 209,
    "start_time": "2022-10-23T17:53:20.086Z"
   },
   {
    "duration": 340,
    "start_time": "2022-10-23T17:53:20.297Z"
   },
   {
    "duration": 25,
    "start_time": "2022-10-23T17:53:20.639Z"
   },
   {
    "duration": 1451,
    "start_time": "2022-10-23T17:53:20.667Z"
   },
   {
    "duration": 18,
    "start_time": "2022-10-23T17:53:22.123Z"
   },
   {
    "duration": 243,
    "start_time": "2022-10-23T17:53:22.142Z"
   },
   {
    "duration": 23,
    "start_time": "2022-10-23T17:53:22.386Z"
   },
   {
    "duration": 371,
    "start_time": "2022-10-23T17:53:22.410Z"
   },
   {
    "duration": 23,
    "start_time": "2022-10-23T17:53:22.783Z"
   },
   {
    "duration": 491,
    "start_time": "2022-10-23T17:53:22.807Z"
   },
   {
    "duration": 31,
    "start_time": "2022-10-23T17:53:23.300Z"
   },
   {
    "duration": 368,
    "start_time": "2022-10-23T17:53:23.333Z"
   },
   {
    "duration": 8,
    "start_time": "2022-10-23T17:53:23.703Z"
   },
   {
    "duration": 11,
    "start_time": "2022-10-23T17:53:23.713Z"
   },
   {
    "duration": 4,
    "start_time": "2022-10-23T17:53:23.726Z"
   },
   {
    "duration": 9,
    "start_time": "2022-10-23T17:53:23.732Z"
   },
   {
    "duration": 6,
    "start_time": "2022-10-23T17:53:23.742Z"
   },
   {
    "duration": 6,
    "start_time": "2022-10-23T17:53:23.750Z"
   },
   {
    "duration": 5,
    "start_time": "2022-10-23T17:53:23.757Z"
   },
   {
    "duration": 1457,
    "start_time": "2022-10-23T17:53:37.567Z"
   },
   {
    "duration": 98,
    "start_time": "2022-10-23T17:53:39.026Z"
   },
   {
    "duration": 21,
    "start_time": "2022-10-23T17:53:39.126Z"
   },
   {
    "duration": 76,
    "start_time": "2022-10-23T17:53:39.149Z"
   },
   {
    "duration": 17,
    "start_time": "2022-10-23T17:53:39.227Z"
   },
   {
    "duration": 3,
    "start_time": "2022-10-23T17:53:39.246Z"
   },
   {
    "duration": 7,
    "start_time": "2022-10-23T17:53:39.251Z"
   },
   {
    "duration": 65,
    "start_time": "2022-10-23T17:53:39.260Z"
   },
   {
    "duration": 12,
    "start_time": "2022-10-23T17:53:39.327Z"
   },
   {
    "duration": 8,
    "start_time": "2022-10-23T17:53:39.341Z"
   },
   {
    "duration": 11,
    "start_time": "2022-10-23T17:53:39.351Z"
   },
   {
    "duration": 64,
    "start_time": "2022-10-23T17:53:39.364Z"
   },
   {
    "duration": 127,
    "start_time": "2022-10-23T17:53:39.430Z"
   },
   {
    "duration": 64,
    "start_time": "2022-10-23T17:53:39.561Z"
   },
   {
    "duration": 7,
    "start_time": "2022-10-23T17:53:39.627Z"
   },
   {
    "duration": 7,
    "start_time": "2022-10-23T17:53:39.635Z"
   },
   {
    "duration": 900,
    "start_time": "2022-10-23T17:53:39.644Z"
   },
   {
    "duration": 18,
    "start_time": "2022-10-23T17:53:40.546Z"
   },
   {
    "duration": 365,
    "start_time": "2022-10-23T17:53:40.567Z"
   },
   {
    "duration": 627,
    "start_time": "2022-10-23T17:53:40.934Z"
   },
   {
    "duration": 399,
    "start_time": "2022-10-23T17:53:41.563Z"
   },
   {
    "duration": 8,
    "start_time": "2022-10-23T17:53:41.964Z"
   },
   {
    "duration": 122,
    "start_time": "2022-10-23T17:53:41.975Z"
   },
   {
    "duration": 259,
    "start_time": "2022-10-23T17:53:42.099Z"
   },
   {
    "duration": 226,
    "start_time": "2022-10-23T17:53:42.360Z"
   },
   {
    "duration": 353,
    "start_time": "2022-10-23T17:53:42.589Z"
   },
   {
    "duration": 36,
    "start_time": "2022-10-23T17:53:42.945Z"
   },
   {
    "duration": 1543,
    "start_time": "2022-10-23T17:53:42.983Z"
   },
   {
    "duration": 18,
    "start_time": "2022-10-23T17:53:44.528Z"
   },
   {
    "duration": 255,
    "start_time": "2022-10-23T17:53:44.548Z"
   },
   {
    "duration": 30,
    "start_time": "2022-10-23T17:53:44.805Z"
   },
   {
    "duration": 389,
    "start_time": "2022-10-23T17:53:44.837Z"
   },
   {
    "duration": 20,
    "start_time": "2022-10-23T17:53:45.228Z"
   },
   {
    "duration": 543,
    "start_time": "2022-10-23T17:53:45.250Z"
   },
   {
    "duration": 31,
    "start_time": "2022-10-23T17:53:45.795Z"
   },
   {
    "duration": 378,
    "start_time": "2022-10-23T17:53:45.827Z"
   },
   {
    "duration": 3,
    "start_time": "2022-10-23T17:53:46.207Z"
   },
   {
    "duration": 12,
    "start_time": "2022-10-23T17:53:46.212Z"
   },
   {
    "duration": 10,
    "start_time": "2022-10-23T17:53:46.225Z"
   },
   {
    "duration": 6,
    "start_time": "2022-10-23T17:53:46.236Z"
   },
   {
    "duration": 13,
    "start_time": "2022-10-23T17:53:46.246Z"
   },
   {
    "duration": 15,
    "start_time": "2022-10-23T17:53:46.261Z"
   },
   {
    "duration": 5,
    "start_time": "2022-10-23T17:53:46.278Z"
   },
   {
    "duration": 6,
    "start_time": "2022-10-23T17:56:08.465Z"
   },
   {
    "duration": 1394,
    "start_time": "2022-10-23T17:56:35.761Z"
   },
   {
    "duration": 91,
    "start_time": "2022-10-23T17:56:37.157Z"
   },
   {
    "duration": 15,
    "start_time": "2022-10-23T17:56:37.250Z"
   },
   {
    "duration": 78,
    "start_time": "2022-10-23T17:56:37.267Z"
   },
   {
    "duration": 78,
    "start_time": "2022-10-23T17:56:37.347Z"
   },
   {
    "duration": 4,
    "start_time": "2022-10-23T17:56:37.427Z"
   },
   {
    "duration": 7,
    "start_time": "2022-10-23T17:56:37.432Z"
   },
   {
    "duration": 9,
    "start_time": "2022-10-23T17:56:37.441Z"
   },
   {
    "duration": 8,
    "start_time": "2022-10-23T17:56:37.451Z"
   },
   {
    "duration": 6,
    "start_time": "2022-10-23T17:56:37.461Z"
   },
   {
    "duration": 8,
    "start_time": "2022-10-23T17:56:37.524Z"
   },
   {
    "duration": 7,
    "start_time": "2022-10-23T17:56:37.534Z"
   },
   {
    "duration": 106,
    "start_time": "2022-10-23T17:56:37.542Z"
   },
   {
    "duration": 8,
    "start_time": "2022-10-23T17:56:37.651Z"
   },
   {
    "duration": 6,
    "start_time": "2022-10-23T17:56:37.660Z"
   },
   {
    "duration": 4,
    "start_time": "2022-10-23T17:56:37.724Z"
   },
   {
    "duration": 644,
    "start_time": "2022-10-23T17:56:37.730Z"
   },
   {
    "duration": 15,
    "start_time": "2022-10-23T17:56:38.376Z"
   },
   {
    "duration": 331,
    "start_time": "2022-10-23T17:56:38.392Z"
   },
   {
    "duration": 604,
    "start_time": "2022-10-23T17:56:38.726Z"
   },
   {
    "duration": 285,
    "start_time": "2022-10-23T17:56:39.331Z"
   },
   {
    "duration": 11,
    "start_time": "2022-10-23T17:56:39.618Z"
   },
   {
    "duration": 96,
    "start_time": "2022-10-23T17:56:39.630Z"
   },
   {
    "duration": 198,
    "start_time": "2022-10-23T17:56:39.728Z"
   },
   {
    "duration": 204,
    "start_time": "2022-10-23T17:56:39.928Z"
   },
   {
    "duration": 310,
    "start_time": "2022-10-23T17:56:40.134Z"
   },
   {
    "duration": 23,
    "start_time": "2022-10-23T17:56:40.446Z"
   },
   {
    "duration": 1427,
    "start_time": "2022-10-23T17:56:40.471Z"
   },
   {
    "duration": 26,
    "start_time": "2022-10-23T17:56:41.900Z"
   },
   {
    "duration": 248,
    "start_time": "2022-10-23T17:56:41.928Z"
   },
   {
    "duration": 21,
    "start_time": "2022-10-23T17:56:42.178Z"
   },
   {
    "duration": 373,
    "start_time": "2022-10-23T17:56:42.201Z"
   },
   {
    "duration": 20,
    "start_time": "2022-10-23T17:56:42.577Z"
   },
   {
    "duration": 510,
    "start_time": "2022-10-23T17:56:42.598Z"
   },
   {
    "duration": 28,
    "start_time": "2022-10-23T17:56:43.109Z"
   },
   {
    "duration": 377,
    "start_time": "2022-10-23T17:56:43.139Z"
   },
   {
    "duration": 11,
    "start_time": "2022-10-23T17:56:43.518Z"
   },
   {
    "duration": 10,
    "start_time": "2022-10-23T17:56:43.531Z"
   },
   {
    "duration": 8,
    "start_time": "2022-10-23T17:56:43.543Z"
   },
   {
    "duration": 5,
    "start_time": "2022-10-23T17:56:43.552Z"
   },
   {
    "duration": 7,
    "start_time": "2022-10-23T17:56:43.560Z"
   },
   {
    "duration": 5,
    "start_time": "2022-10-23T17:56:43.568Z"
   },
   {
    "duration": 5,
    "start_time": "2022-10-23T17:56:43.575Z"
   },
   {
    "duration": 5,
    "start_time": "2022-10-23T17:56:43.581Z"
   },
   {
    "duration": 1230,
    "start_time": "2022-10-23T17:57:18.431Z"
   },
   {
    "duration": 87,
    "start_time": "2022-10-23T17:57:19.663Z"
   },
   {
    "duration": 70,
    "start_time": "2022-10-23T17:57:19.754Z"
   },
   {
    "duration": 17,
    "start_time": "2022-10-23T17:57:19.826Z"
   },
   {
    "duration": 15,
    "start_time": "2022-10-23T17:57:19.845Z"
   },
   {
    "duration": 3,
    "start_time": "2022-10-23T17:57:19.862Z"
   },
   {
    "duration": 5,
    "start_time": "2022-10-23T17:57:19.923Z"
   },
   {
    "duration": 13,
    "start_time": "2022-10-23T17:57:19.930Z"
   },
   {
    "duration": 10,
    "start_time": "2022-10-23T17:57:19.947Z"
   },
   {
    "duration": 10,
    "start_time": "2022-10-23T17:57:19.958Z"
   },
   {
    "duration": 57,
    "start_time": "2022-10-23T17:57:19.969Z"
   },
   {
    "duration": 8,
    "start_time": "2022-10-23T17:57:20.027Z"
   },
   {
    "duration": 112,
    "start_time": "2022-10-23T17:57:20.037Z"
   },
   {
    "duration": 9,
    "start_time": "2022-10-23T17:57:20.151Z"
   },
   {
    "duration": 62,
    "start_time": "2022-10-23T17:57:20.162Z"
   },
   {
    "duration": 6,
    "start_time": "2022-10-23T17:57:20.226Z"
   },
   {
    "duration": 801,
    "start_time": "2022-10-23T17:57:20.234Z"
   },
   {
    "duration": 14,
    "start_time": "2022-10-23T17:57:21.036Z"
   },
   {
    "duration": 450,
    "start_time": "2022-10-23T17:57:21.051Z"
   },
   {
    "duration": 697,
    "start_time": "2022-10-23T17:57:21.503Z"
   },
   {
    "duration": 282,
    "start_time": "2022-10-23T17:57:22.201Z"
   },
   {
    "duration": 7,
    "start_time": "2022-10-23T17:57:22.484Z"
   },
   {
    "duration": 101,
    "start_time": "2022-10-23T17:57:22.492Z"
   },
   {
    "duration": 200,
    "start_time": "2022-10-23T17:57:22.594Z"
   },
   {
    "duration": 204,
    "start_time": "2022-10-23T17:57:22.796Z"
   },
   {
    "duration": 290,
    "start_time": "2022-10-23T17:57:23.001Z"
   },
   {
    "duration": 31,
    "start_time": "2022-10-23T17:57:23.294Z"
   },
   {
    "duration": 1396,
    "start_time": "2022-10-23T17:57:23.327Z"
   },
   {
    "duration": 18,
    "start_time": "2022-10-23T17:57:24.725Z"
   },
   {
    "duration": 245,
    "start_time": "2022-10-23T17:57:24.744Z"
   },
   {
    "duration": 22,
    "start_time": "2022-10-23T17:57:24.990Z"
   },
   {
    "duration": 360,
    "start_time": "2022-10-23T17:57:25.014Z"
   },
   {
    "duration": 21,
    "start_time": "2022-10-23T17:57:25.375Z"
   },
   {
    "duration": 503,
    "start_time": "2022-10-23T17:57:25.398Z"
   },
   {
    "duration": 33,
    "start_time": "2022-10-23T17:57:25.903Z"
   },
   {
    "duration": 347,
    "start_time": "2022-10-23T17:57:25.937Z"
   },
   {
    "duration": 2,
    "start_time": "2022-10-23T17:57:26.286Z"
   },
   {
    "duration": 15,
    "start_time": "2022-10-23T17:57:26.290Z"
   },
   {
    "duration": 4,
    "start_time": "2022-10-23T17:57:26.306Z"
   },
   {
    "duration": 4,
    "start_time": "2022-10-23T17:57:26.312Z"
   },
   {
    "duration": 10,
    "start_time": "2022-10-23T17:57:26.318Z"
   },
   {
    "duration": 8,
    "start_time": "2022-10-23T17:57:26.330Z"
   },
   {
    "duration": 6,
    "start_time": "2022-10-23T17:57:26.339Z"
   },
   {
    "duration": 6,
    "start_time": "2022-10-23T17:57:26.346Z"
   },
   {
    "duration": 1253,
    "start_time": "2022-10-23T17:57:40.998Z"
   },
   {
    "duration": 54,
    "start_time": "2022-10-23T17:57:42.252Z"
   },
   {
    "duration": 14,
    "start_time": "2022-10-23T17:57:42.307Z"
   },
   {
    "duration": 21,
    "start_time": "2022-10-23T17:57:42.323Z"
   },
   {
    "duration": 17,
    "start_time": "2022-10-23T17:57:42.345Z"
   },
   {
    "duration": 3,
    "start_time": "2022-10-23T17:57:42.363Z"
   },
   {
    "duration": 6,
    "start_time": "2022-10-23T17:57:42.368Z"
   },
   {
    "duration": 9,
    "start_time": "2022-10-23T17:57:42.376Z"
   },
   {
    "duration": 8,
    "start_time": "2022-10-23T17:57:42.387Z"
   },
   {
    "duration": 5,
    "start_time": "2022-10-23T17:57:42.424Z"
   },
   {
    "duration": 19,
    "start_time": "2022-10-23T17:57:42.431Z"
   },
   {
    "duration": 16,
    "start_time": "2022-10-23T17:57:42.451Z"
   },
   {
    "duration": 55,
    "start_time": "2022-10-23T17:57:42.469Z"
   },
   {
    "duration": 9,
    "start_time": "2022-10-23T17:57:42.526Z"
   },
   {
    "duration": 5,
    "start_time": "2022-10-23T17:57:42.537Z"
   },
   {
    "duration": 14,
    "start_time": "2022-10-23T17:57:42.543Z"
   },
   {
    "duration": 373,
    "start_time": "2022-10-23T17:57:42.559Z"
   },
   {
    "duration": 14,
    "start_time": "2022-10-23T17:57:42.934Z"
   },
   {
    "duration": 298,
    "start_time": "2022-10-23T17:57:42.949Z"
   },
   {
    "duration": 592,
    "start_time": "2022-10-23T17:57:43.249Z"
   },
   {
    "duration": 295,
    "start_time": "2022-10-23T17:57:43.843Z"
   },
   {
    "duration": 6,
    "start_time": "2022-10-23T17:57:44.139Z"
   },
   {
    "duration": 96,
    "start_time": "2022-10-23T17:57:44.147Z"
   },
   {
    "duration": 190,
    "start_time": "2022-10-23T17:57:44.244Z"
   },
   {
    "duration": 199,
    "start_time": "2022-10-23T17:57:44.436Z"
   },
   {
    "duration": 288,
    "start_time": "2022-10-23T17:57:44.636Z"
   },
   {
    "duration": 23,
    "start_time": "2022-10-23T17:57:44.925Z"
   },
   {
    "duration": 1408,
    "start_time": "2022-10-23T17:57:44.951Z"
   },
   {
    "duration": 16,
    "start_time": "2022-10-23T17:57:46.361Z"
   },
   {
    "duration": 234,
    "start_time": "2022-10-23T17:57:46.378Z"
   },
   {
    "duration": 27,
    "start_time": "2022-10-23T17:57:46.614Z"
   },
   {
    "duration": 369,
    "start_time": "2022-10-23T17:57:46.642Z"
   },
   {
    "duration": 26,
    "start_time": "2022-10-23T17:57:47.012Z"
   },
   {
    "duration": 499,
    "start_time": "2022-10-23T17:57:47.039Z"
   },
   {
    "duration": 24,
    "start_time": "2022-10-23T17:57:47.539Z"
   },
   {
    "duration": 379,
    "start_time": "2022-10-23T17:57:47.564Z"
   },
   {
    "duration": 3,
    "start_time": "2022-10-23T17:57:47.944Z"
   },
   {
    "duration": 12,
    "start_time": "2022-10-23T17:57:47.949Z"
   },
   {
    "duration": 19,
    "start_time": "2022-10-23T17:57:47.963Z"
   },
   {
    "duration": 8,
    "start_time": "2022-10-23T17:57:47.984Z"
   },
   {
    "duration": 6,
    "start_time": "2022-10-23T17:57:47.994Z"
   },
   {
    "duration": 8,
    "start_time": "2022-10-23T17:57:48.001Z"
   },
   {
    "duration": 1198,
    "start_time": "2022-10-23T18:03:33.094Z"
   },
   {
    "duration": 54,
    "start_time": "2022-10-23T18:03:34.293Z"
   },
   {
    "duration": 14,
    "start_time": "2022-10-23T18:03:34.349Z"
   },
   {
    "duration": 17,
    "start_time": "2022-10-23T18:03:34.365Z"
   },
   {
    "duration": 15,
    "start_time": "2022-10-23T18:03:34.383Z"
   },
   {
    "duration": 4,
    "start_time": "2022-10-23T18:03:34.400Z"
   },
   {
    "duration": 6,
    "start_time": "2022-10-23T18:03:34.424Z"
   },
   {
    "duration": 12,
    "start_time": "2022-10-23T18:03:34.432Z"
   },
   {
    "duration": 7,
    "start_time": "2022-10-23T18:03:34.446Z"
   },
   {
    "duration": 5,
    "start_time": "2022-10-23T18:03:34.457Z"
   },
   {
    "duration": 8,
    "start_time": "2022-10-23T18:03:34.463Z"
   },
   {
    "duration": 8,
    "start_time": "2022-10-23T18:03:34.473Z"
   },
   {
    "duration": 88,
    "start_time": "2022-10-23T18:03:34.483Z"
   },
   {
    "duration": 8,
    "start_time": "2022-10-23T18:03:34.572Z"
   },
   {
    "duration": 6,
    "start_time": "2022-10-23T18:03:34.582Z"
   },
   {
    "duration": 4,
    "start_time": "2022-10-23T18:03:34.589Z"
   },
   {
    "duration": 375,
    "start_time": "2022-10-23T18:03:34.595Z"
   },
   {
    "duration": 21,
    "start_time": "2022-10-23T18:03:34.972Z"
   },
   {
    "duration": 315,
    "start_time": "2022-10-23T18:03:34.995Z"
   },
   {
    "duration": 586,
    "start_time": "2022-10-23T18:03:35.311Z"
   },
   {
    "duration": 290,
    "start_time": "2022-10-23T18:03:35.899Z"
   },
   {
    "duration": 7,
    "start_time": "2022-10-23T18:03:36.190Z"
   },
   {
    "duration": 97,
    "start_time": "2022-10-23T18:03:36.199Z"
   },
   {
    "duration": 199,
    "start_time": "2022-10-23T18:03:36.297Z"
   },
   {
    "duration": 197,
    "start_time": "2022-10-23T18:03:36.498Z"
   },
   {
    "duration": 282,
    "start_time": "2022-10-23T18:03:36.697Z"
   },
   {
    "duration": 23,
    "start_time": "2022-10-23T18:03:36.981Z"
   },
   {
    "duration": 1363,
    "start_time": "2022-10-23T18:03:37.006Z"
   },
   {
    "duration": 17,
    "start_time": "2022-10-23T18:03:38.370Z"
   },
   {
    "duration": 231,
    "start_time": "2022-10-23T18:03:38.388Z"
   },
   {
    "duration": 20,
    "start_time": "2022-10-23T18:03:38.623Z"
   },
   {
    "duration": 376,
    "start_time": "2022-10-23T18:03:38.644Z"
   },
   {
    "duration": 24,
    "start_time": "2022-10-23T18:03:39.023Z"
   },
   {
    "duration": 489,
    "start_time": "2022-10-23T18:03:39.048Z"
   },
   {
    "duration": 22,
    "start_time": "2022-10-23T18:03:39.539Z"
   },
   {
    "duration": 362,
    "start_time": "2022-10-23T18:03:39.562Z"
   },
   {
    "duration": 2,
    "start_time": "2022-10-23T18:03:39.925Z"
   },
   {
    "duration": 4,
    "start_time": "2022-10-23T18:03:39.929Z"
   },
   {
    "duration": 8,
    "start_time": "2022-10-23T18:03:39.935Z"
   },
   {
    "duration": 8,
    "start_time": "2022-10-23T18:03:39.945Z"
   },
   {
    "duration": 6,
    "start_time": "2022-10-23T18:03:39.954Z"
   },
   {
    "duration": 6,
    "start_time": "2022-10-23T18:03:39.961Z"
   },
   {
    "duration": 44,
    "start_time": "2022-10-23T18:26:01.685Z"
   },
   {
    "duration": 1253,
    "start_time": "2022-10-23T18:26:05.469Z"
   },
   {
    "duration": 68,
    "start_time": "2022-10-23T18:26:06.724Z"
   },
   {
    "duration": 14,
    "start_time": "2022-10-23T18:26:06.794Z"
   },
   {
    "duration": 17,
    "start_time": "2022-10-23T18:26:06.810Z"
   },
   {
    "duration": 15,
    "start_time": "2022-10-23T18:26:06.829Z"
   },
   {
    "duration": 3,
    "start_time": "2022-10-23T18:26:06.845Z"
   },
   {
    "duration": 19,
    "start_time": "2022-10-23T18:26:06.850Z"
   },
   {
    "duration": 15,
    "start_time": "2022-10-23T18:26:06.871Z"
   },
   {
    "duration": 22,
    "start_time": "2022-10-23T18:26:06.887Z"
   },
   {
    "duration": 23,
    "start_time": "2022-10-23T18:26:06.911Z"
   },
   {
    "duration": 15,
    "start_time": "2022-10-23T18:26:06.937Z"
   },
   {
    "duration": 8,
    "start_time": "2022-10-23T18:26:06.953Z"
   },
   {
    "duration": 8,
    "start_time": "2022-10-23T18:26:06.963Z"
   },
   {
    "duration": 60,
    "start_time": "2022-10-23T18:26:06.973Z"
   },
   {
    "duration": 8,
    "start_time": "2022-10-23T18:26:07.035Z"
   },
   {
    "duration": 14,
    "start_time": "2022-10-23T18:26:07.045Z"
   },
   {
    "duration": 8,
    "start_time": "2022-10-23T18:26:07.060Z"
   },
   {
    "duration": 344,
    "start_time": "2022-10-23T18:26:07.069Z"
   },
   {
    "duration": 19,
    "start_time": "2022-10-23T18:26:07.414Z"
   },
   {
    "duration": 309,
    "start_time": "2022-10-23T18:26:07.434Z"
   },
   {
    "duration": 622,
    "start_time": "2022-10-23T18:26:07.745Z"
   },
   {
    "duration": 267,
    "start_time": "2022-10-23T18:26:08.369Z"
   },
   {
    "duration": 7,
    "start_time": "2022-10-23T18:26:08.638Z"
   },
   {
    "duration": 113,
    "start_time": "2022-10-23T18:26:08.647Z"
   },
   {
    "duration": 215,
    "start_time": "2022-10-23T18:26:08.762Z"
   },
   {
    "duration": 222,
    "start_time": "2022-10-23T18:26:08.978Z"
   },
   {
    "duration": 307,
    "start_time": "2022-10-23T18:26:09.202Z"
   },
   {
    "duration": 31,
    "start_time": "2022-10-23T18:26:09.512Z"
   },
   {
    "duration": 1391,
    "start_time": "2022-10-23T18:26:09.544Z"
   },
   {
    "duration": 19,
    "start_time": "2022-10-23T18:26:10.937Z"
   },
   {
    "duration": 233,
    "start_time": "2022-10-23T18:26:10.957Z"
   },
   {
    "duration": 20,
    "start_time": "2022-10-23T18:26:11.191Z"
   },
   {
    "duration": 359,
    "start_time": "2022-10-23T18:26:11.221Z"
   },
   {
    "duration": 22,
    "start_time": "2022-10-23T18:26:11.582Z"
   },
   {
    "duration": 944,
    "start_time": "2022-10-23T18:26:11.605Z"
   },
   {
    "duration": 74,
    "start_time": "2022-10-23T18:26:12.551Z"
   },
   {
    "duration": 732,
    "start_time": "2022-10-23T18:26:12.627Z"
   },
   {
    "duration": 3,
    "start_time": "2022-10-23T18:26:13.361Z"
   },
   {
    "duration": 12,
    "start_time": "2022-10-23T18:26:13.366Z"
   },
   {
    "duration": 12,
    "start_time": "2022-10-23T18:26:13.379Z"
   },
   {
    "duration": 27,
    "start_time": "2022-10-23T18:26:13.393Z"
   },
   {
    "duration": 7,
    "start_time": "2022-10-23T18:26:13.421Z"
   },
   {
    "duration": 9,
    "start_time": "2022-10-23T18:26:13.430Z"
   },
   {
    "duration": 43,
    "start_time": "2022-10-23T19:10:56.536Z"
   },
   {
    "duration": 112,
    "start_time": "2022-10-23T19:11:09.476Z"
   },
   {
    "duration": 27,
    "start_time": "2022-10-23T19:11:28.412Z"
   },
   {
    "duration": 20,
    "start_time": "2022-10-23T19:11:55.412Z"
   },
   {
    "duration": 47,
    "start_time": "2022-10-23T19:14:07.532Z"
   },
   {
    "duration": 46,
    "start_time": "2022-10-23T19:14:24.408Z"
   },
   {
    "duration": 38,
    "start_time": "2022-10-23T19:14:31.176Z"
   },
   {
    "duration": 44,
    "start_time": "2022-10-23T19:14:43.976Z"
   },
   {
    "duration": 35,
    "start_time": "2022-10-23T19:15:03.057Z"
   },
   {
    "duration": 24,
    "start_time": "2022-10-23T19:16:13.132Z"
   },
   {
    "duration": 22,
    "start_time": "2022-10-23T19:16:44.900Z"
   },
   {
    "duration": 23,
    "start_time": "2022-10-23T19:16:55.075Z"
   },
   {
    "duration": 24,
    "start_time": "2022-10-23T19:17:39.309Z"
   },
   {
    "duration": 28,
    "start_time": "2022-10-23T19:18:04.104Z"
   },
   {
    "duration": 25,
    "start_time": "2022-10-23T19:18:42.733Z"
   },
   {
    "duration": 28,
    "start_time": "2022-10-23T19:19:02.199Z"
   },
   {
    "duration": 25,
    "start_time": "2022-10-23T19:19:20.831Z"
   },
   {
    "duration": 30,
    "start_time": "2022-10-23T19:19:28.135Z"
   },
   {
    "duration": 269,
    "start_time": "2022-10-23T19:19:56.239Z"
   },
   {
    "duration": 221,
    "start_time": "2022-10-23T19:21:25.524Z"
   },
   {
    "duration": 216,
    "start_time": "2022-10-23T19:22:25.163Z"
   },
   {
    "duration": 128,
    "start_time": "2022-10-23T19:22:43.602Z"
   },
   {
    "duration": 229,
    "start_time": "2022-10-23T19:22:53.827Z"
   },
   {
    "duration": 259,
    "start_time": "2022-10-23T19:22:58.276Z"
   },
   {
    "duration": 216,
    "start_time": "2022-10-23T19:23:06.141Z"
   },
   {
    "duration": 231,
    "start_time": "2022-10-23T19:23:17.724Z"
   },
   {
    "duration": 127,
    "start_time": "2022-10-23T19:23:23.124Z"
   },
   {
    "duration": 256,
    "start_time": "2022-10-23T19:23:28.967Z"
   },
   {
    "duration": 221,
    "start_time": "2022-10-23T19:23:34.684Z"
   },
   {
    "duration": 221,
    "start_time": "2022-10-23T19:23:41.316Z"
   },
   {
    "duration": 122,
    "start_time": "2022-10-23T19:23:46.772Z"
   },
   {
    "duration": 229,
    "start_time": "2022-10-23T19:23:57.403Z"
   },
   {
    "duration": 128,
    "start_time": "2022-10-23T19:24:05.628Z"
   },
   {
    "duration": 215,
    "start_time": "2022-10-23T19:24:20.461Z"
   },
   {
    "duration": 268,
    "start_time": "2022-10-23T19:26:18.944Z"
   },
   {
    "duration": 326,
    "start_time": "2022-10-23T19:26:28.161Z"
   },
   {
    "duration": 221,
    "start_time": "2022-10-23T19:26:44.760Z"
   },
   {
    "duration": 230,
    "start_time": "2022-10-23T19:29:30.060Z"
   },
   {
    "duration": 153,
    "start_time": "2022-10-23T19:40:33.332Z"
   },
   {
    "duration": 140,
    "start_time": "2022-10-23T19:45:44.059Z"
   },
   {
    "duration": 14,
    "start_time": "2022-10-23T19:45:49.315Z"
   },
   {
    "duration": 127,
    "start_time": "2022-10-23T19:47:27.262Z"
   },
   {
    "duration": 129,
    "start_time": "2022-10-23T19:47:58.054Z"
   },
   {
    "duration": 123,
    "start_time": "2022-10-23T20:15:59.972Z"
   },
   {
    "duration": 128,
    "start_time": "2022-10-23T20:16:25.052Z"
   },
   {
    "duration": 128,
    "start_time": "2022-10-23T20:18:26.231Z"
   },
   {
    "duration": 116,
    "start_time": "2022-10-23T20:33:41.916Z"
   },
   {
    "duration": 112,
    "start_time": "2022-10-23T20:33:47.508Z"
   },
   {
    "duration": 4,
    "start_time": "2022-10-23T20:35:18.428Z"
   },
   {
    "duration": 118,
    "start_time": "2022-10-23T20:35:24.047Z"
   },
   {
    "duration": 246,
    "start_time": "2022-10-23T20:36:22.928Z"
   },
   {
    "duration": 135,
    "start_time": "2022-10-23T20:45:26.862Z"
   },
   {
    "duration": 125,
    "start_time": "2022-10-23T20:45:54.044Z"
   },
   {
    "duration": 56,
    "start_time": "2022-10-23T20:49:33.603Z"
   },
   {
    "duration": 4,
    "start_time": "2022-10-23T20:49:38.745Z"
   },
   {
    "duration": 4,
    "start_time": "2022-10-23T20:49:41.035Z"
   },
   {
    "duration": 74,
    "start_time": "2022-10-23T20:50:15.698Z"
   },
   {
    "duration": 4,
    "start_time": "2022-10-23T20:50:42.539Z"
   },
   {
    "duration": 144,
    "start_time": "2022-10-23T20:51:05.435Z"
   },
   {
    "duration": 157,
    "start_time": "2022-10-23T20:51:15.401Z"
   },
   {
    "duration": 159,
    "start_time": "2022-10-23T20:51:30.972Z"
   },
   {
    "duration": 155,
    "start_time": "2022-10-23T20:54:00.200Z"
   },
   {
    "duration": 1059,
    "start_time": "2022-10-23T20:54:13.459Z"
   },
   {
    "duration": 39,
    "start_time": "2022-10-23T20:54:14.520Z"
   },
   {
    "duration": 14,
    "start_time": "2022-10-23T20:54:14.561Z"
   },
   {
    "duration": 24,
    "start_time": "2022-10-23T20:54:14.577Z"
   },
   {
    "duration": 19,
    "start_time": "2022-10-23T20:54:14.602Z"
   },
   {
    "duration": 3,
    "start_time": "2022-10-23T20:54:14.623Z"
   },
   {
    "duration": 10,
    "start_time": "2022-10-23T20:54:14.627Z"
   },
   {
    "duration": 15,
    "start_time": "2022-10-23T20:54:14.638Z"
   },
   {
    "duration": 8,
    "start_time": "2022-10-23T20:54:14.654Z"
   },
   {
    "duration": 9,
    "start_time": "2022-10-23T20:54:14.664Z"
   },
   {
    "duration": 13,
    "start_time": "2022-10-23T20:54:14.674Z"
   },
   {
    "duration": 8,
    "start_time": "2022-10-23T20:54:14.688Z"
   },
   {
    "duration": 31,
    "start_time": "2022-10-23T20:54:14.698Z"
   },
   {
    "duration": 60,
    "start_time": "2022-10-23T20:54:14.731Z"
   },
   {
    "duration": 8,
    "start_time": "2022-10-23T20:54:14.793Z"
   },
   {
    "duration": 13,
    "start_time": "2022-10-23T20:54:14.803Z"
   },
   {
    "duration": 16,
    "start_time": "2022-10-23T20:54:14.817Z"
   },
   {
    "duration": 354,
    "start_time": "2022-10-23T20:54:14.835Z"
   },
   {
    "duration": 16,
    "start_time": "2022-10-23T20:54:15.191Z"
   },
   {
    "duration": 302,
    "start_time": "2022-10-23T20:54:15.209Z"
   },
   {
    "duration": 615,
    "start_time": "2022-10-23T20:54:15.512Z"
   },
   {
    "duration": 302,
    "start_time": "2022-10-23T20:54:16.128Z"
   },
   {
    "duration": 7,
    "start_time": "2022-10-23T20:54:16.431Z"
   },
   {
    "duration": 119,
    "start_time": "2022-10-23T20:54:16.440Z"
   },
   {
    "duration": 209,
    "start_time": "2022-10-23T20:54:16.561Z"
   },
   {
    "duration": 201,
    "start_time": "2022-10-23T20:54:16.772Z"
   },
   {
    "duration": 328,
    "start_time": "2022-10-23T20:54:16.975Z"
   },
   {
    "duration": 32,
    "start_time": "2022-10-23T20:54:17.306Z"
   },
   {
    "duration": 1385,
    "start_time": "2022-10-23T20:54:17.340Z"
   },
   {
    "duration": 29,
    "start_time": "2022-10-23T20:54:18.727Z"
   },
   {
    "duration": 283,
    "start_time": "2022-10-23T20:54:18.757Z"
   },
   {
    "duration": 279,
    "start_time": "2022-10-23T20:54:19.043Z"
   },
   {
    "duration": 169,
    "start_time": "2022-10-23T20:54:19.324Z"
   },
   {
    "duration": 26,
    "start_time": "2022-10-23T20:54:19.495Z"
   },
   {
    "duration": 493,
    "start_time": "2022-10-23T20:54:19.523Z"
   },
   {
    "duration": 22,
    "start_time": "2022-10-23T20:54:20.020Z"
   },
   {
    "duration": 406,
    "start_time": "2022-10-23T20:54:20.043Z"
   },
   {
    "duration": 22,
    "start_time": "2022-10-23T20:54:20.450Z"
   },
   {
    "duration": 359,
    "start_time": "2022-10-23T20:54:20.473Z"
   },
   {
    "duration": 2,
    "start_time": "2022-10-23T20:54:20.834Z"
   },
   {
    "duration": 28,
    "start_time": "2022-10-23T20:54:20.838Z"
   },
   {
    "duration": 50,
    "start_time": "2022-10-23T20:54:20.867Z"
   },
   {
    "duration": 24,
    "start_time": "2022-10-23T20:54:20.919Z"
   },
   {
    "duration": 36,
    "start_time": "2022-10-23T20:54:20.945Z"
   },
   {
    "duration": 17,
    "start_time": "2022-10-23T20:54:20.983Z"
   }
  ],
  "kernelspec": {
   "display_name": "Python 3 (ipykernel)",
   "language": "python",
   "name": "python3"
  },
  "language_info": {
   "codemirror_mode": {
    "name": "ipython",
    "version": 3
   },
   "file_extension": ".py",
   "mimetype": "text/x-python",
   "name": "python",
   "nbconvert_exporter": "python",
   "pygments_lexer": "ipython3",
   "version": "3.9.5"
  },
  "toc": {
   "base_numbering": 1,
   "nav_menu": {},
   "number_sections": true,
   "sideBar": true,
   "skip_h1_title": true,
   "title_cell": "Table of Contents",
   "title_sidebar": "Contents",
   "toc_cell": false,
   "toc_position": {
    "height": "calc(100% - 180px)",
    "left": "10px",
    "top": "150px",
    "width": "205.438px"
   },
   "toc_section_display": true,
   "toc_window_display": false
  }
 },
 "nbformat": 4,
 "nbformat_minor": 2
}
